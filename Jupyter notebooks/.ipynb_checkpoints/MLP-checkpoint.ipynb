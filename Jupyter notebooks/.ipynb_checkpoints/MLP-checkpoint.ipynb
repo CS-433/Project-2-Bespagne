{
 "cells": [
  {
   "cell_type": "code",
   "execution_count": 31,
   "metadata": {
    "id": "P59ipBJksY9N"
   },
   "outputs": [],
   "source": [
    "# Imports\n",
    "import torch\n",
    "import torchvision # torch package for vision related things\n",
    "import torch.nn.functional as F  # Parameterless functions, like (some) activation functions\n",
    "import torchvision.datasets as datasets  # Standard datasets\n",
    "import torchvision.transforms as transforms  # Transformations we can perform on our dataset for augmentation\n",
    "from torch import optim  # For optimizers like SGD, Adam, etc.\n",
    "from torch import nn  # All neural network modules\n",
    "from torch.utils.data import DataLoader  # Gives easier dataset managment by creating mini batches etc.\n",
    "from tqdm import tqdm  # For nice progress bar!\n",
    "from sklearn.model_selection import KFold\n",
    "\n",
    "import numpy as np\n",
    "import os\n",
    "import pandas as pd\n",
    "\n",
    "import torch.optim as optim\n",
    "from torch.utils.data import TensorDataset, DataLoader\n",
    "from torch.utils.data import random_split\n",
    "import torch.nn as nn"
   ]
  },
  {
   "cell_type": "code",
   "execution_count": 32,
   "metadata": {},
   "outputs": [],
   "source": [
    "from ray import tune\n",
    "from ray.tune import CLIReporter\n",
    "from ray.tune.schedulers import ASHAScheduler\n",
    "from functools import partial"
   ]
  },
  {
   "cell_type": "code",
   "execution_count": 33,
   "metadata": {},
   "outputs": [],
   "source": [
    "\"\"\"\n",
    "(Hyper)parameters of our convolutional neural network found by tuning with Ray Tune (see further on)\n",
    "\n",
    "\"\"\"\n",
    "input_size = 3 * 100\n",
    "num_classes = 3\n",
    "learning_rate = 0.045421358413054946\n",
    "batch_size = 10\n",
    "num_epochs = 5"
   ]
  },
  {
   "cell_type": "markdown",
   "metadata": {},
   "source": [
    "## Multi Layer Perceptron\n",
    "After extracting relevant features from the PAC matrices, using a Convolutional Neural Network, these features are combined with the IL- and BLA-bandpower and fed to a fully connected neural network or multi-layer perceptron.\n",
    "\n",
    "The Multi-Layer Perceptron consists of 3 fully connected layers, each followed by a rectified linear activation function and a final fully connected layer (followed by a softmax function???)\n"
   ]
  },
  {
   "cell_type": "code",
   "execution_count": 34,
   "metadata": {},
   "outputs": [],
   "source": [
    "\"\"\"\n",
    "Class inherits from nn.Module, a pytorch neural network of choice, must inherit from base class nn.Module.\n",
    "\"\"\"\n",
    "class MLP(nn.Module):\n",
    "    def __init__(self, input_size = input_size, num_classes = num_classes):\n",
    "        super(MLP, self).__init__()\n",
    "        self.fc1 = nn.Linear(input_size, 50)\n",
    "        self.fc2 = nn.Linear(50, 25)\n",
    "        self.fc3 = nn.Linear(25, 10)\n",
    "        self.fc4 = nn.Linear(10, num_classes)\n",
    "\n",
    "    def forward(self, x):\n",
    "        \"\"\"\n",
    "        Forward propagation function.\n",
    "        \n",
    "        self: self\n",
    "        x: tensor of shape (1, input_size)\n",
    "        \n",
    "        returns: tensor of shape (1, num_classes) serving as a feature vector.\n",
    "        \"\"\"\n",
    "        x = F.relu(self.fc1(x))\n",
    "        x = F.relu(self.fc2(x))\n",
    "        x = F.relu(self.fc3(x))\n",
    "        x = self.fc4(x)\n",
    "        return x"
   ]
  },
  {
   "cell_type": "code",
   "execution_count": 35,
   "metadata": {
    "id": "KTyYtlf81jiE"
   },
   "outputs": [],
   "source": [
    "\"\"\"\n",
    "Set device cuda for GPU if it's available otherwise run on the CPU\n",
    "\"\"\"\n",
    "device = torch.device(\"cuda\" if torch.cuda.is_available() else \"cpu\")"
   ]
  },
  {
   "cell_type": "markdown",
   "metadata": {},
   "source": [
    "## Load labels"
   ]
  },
  {
   "cell_type": "code",
   "execution_count": 36,
   "metadata": {
    "colab": {
     "base_uri": "https://localhost:8080/"
    },
    "id": "CVv2icLw3vGl",
    "outputId": "591b964f-798d-4804-991d-c0d8f02510c4"
   },
   "outputs": [],
   "source": [
    "\"\"\"\n",
    "Load labels from csv file\n",
    "\"\"\"\n",
    "labels = np.genfromtxt('../Data/Labels/avg_smooth.csv', delimiter=',')"
   ]
  },
  {
   "cell_type": "markdown",
   "metadata": {},
   "source": [
    "## Quantify raw label values\n",
    "After reading the raw label values, they're quantified to 3 discrete levels: 0, 1 or 2.\n",
    "\n",
    "0: 'No fear apparent in rodents brain activity'\n",
    "\n",
    "1: 'A small amount of fear could be noticed, but too noisey to be sure.'\n",
    "\n",
    "2: 'Rodent is fearful'"
   ]
  },
  {
   "cell_type": "code",
   "execution_count": 37,
   "metadata": {
    "colab": {
     "base_uri": "https://localhost:8080/"
    },
    "id": "ykIdYxPv7E3E",
    "outputId": "da89c66c-181c-41f5-f1ed-c022cdee5d8e"
   },
   "outputs": [
    {
     "name": "stdout",
     "output_type": "stream",
     "text": [
      "\n",
      "Amount of non-fearful rodents:200\n",
      "Amount of little fearful rodents:204\n",
      "Amount of fearful rodents:196\n"
     ]
    }
   ],
   "source": [
    "\"\"\"\n",
    "Make labels categorical: 3 quantification levels\n",
    "\"\"\"\n",
    "df_labels = pd.DataFrame(labels)\n",
    "df_labels = pd.cut(df_labels[0],bins=[0, 0.013, 0.017, 0.03],labels=[0,1,2])\n",
    "labels = df_labels.to_numpy()\n",
    "\n",
    "print('\\nAmount of non-fearful rodents:' + str(len([i for i in list(labels) if i==0])))\n",
    "print('Amount of little fearful rodents:' + str(len([i for i in list(labels) if i==1])))\n",
    "print('Amount of fearful rodents:' + str(len([i for i in list(labels) if i==2])))"
   ]
  },
  {
   "cell_type": "markdown",
   "metadata": {},
   "source": [
    "## Baseline model\n",
    "After loading in all the correct labels, a very basic baseline model is built.\n",
    "\n",
    "In this model, each test sample will get labeled as the most occuring label in the train set.\n",
    "A complex model, being built later on, should be expected to have an accuracy at least better than this baseline."
   ]
  },
  {
   "cell_type": "code",
   "execution_count": 38,
   "metadata": {},
   "outputs": [
    {
     "name": "stdout",
     "output_type": "stream",
     "text": [
      "Most occuring label in testset: 1\n",
      "Baseline accuracy: 0.24444444444444444\n"
     ]
    }
   ],
   "source": [
    "\"\"\"\n",
    "Split data into 70% train data, 30 % test data\n",
    "\"\"\"\n",
    "train_labels = labels[:int(len(labels)*7/10)]\n",
    "test_labels = labels[int(len(labels)*7/10):]\n",
    "\n",
    "print('Most occuring label in testset: ' + str(np.bincount(labels).argmax()))\n",
    "\n",
    "count_arr = np.bincount(test_labels)\n",
    "\n",
    "accuracy = count_arr[1]/len(test_labels)\n",
    "print('Baseline accuracy: ' + str(accuracy))"
   ]
  },
  {
   "cell_type": "markdown",
   "metadata": {},
   "source": [
    "## Load all feature vectors from .npy-files"
   ]
  },
  {
   "cell_type": "code",
   "execution_count": 39,
   "metadata": {
    "colab": {
     "base_uri": "https://localhost:8080/"
    },
    "id": "BWHBj7xy30wD",
    "outputId": "f99e8cc7-7e43-447e-a839-a54f578d2d0e"
   },
   "outputs": [
    {
     "name": "stdout",
     "output_type": "stream",
     "text": [
      "Feature shapes: (600, 300) \n",
      "Label vector shape: (600,)\n"
     ]
    }
   ],
   "source": [
    "\"\"\"\n",
    "Load .npy files into one big array\n",
    "\"\"\"\n",
    "data = []\n",
    "dir = '../Data/input_MLP/'\n",
    "pac = np.load('../Data/PAC_afterCNN.npy')\n",
    "for filename in os.listdir(dir):\n",
    "    sample = np.load(dir+filename)\n",
    "    sample = np.append(sample, pac)\n",
    "    data.append(sample.flatten())\n",
    "data = np.array(data)\n",
    "print('Feature shapes: ' + str(data.shape), '\\nLabel vector shape: ' + str(labels.shape))"
   ]
  },
  {
   "cell_type": "code",
   "execution_count": 40,
   "metadata": {
    "colab": {
     "base_uri": "https://localhost:8080/"
    },
    "id": "Z4DJ91Bw39Qr",
    "outputId": "288aed41-3173-44e1-85e3-4c45805ed0ba"
   },
   "outputs": [],
   "source": [
    "\"\"\"\n",
    "Transform data to torch tensors\n",
    "\"\"\"\n",
    "tensor_x = torch.Tensor(data)\n",
    "tensor_y = torch.Tensor(labels)\n",
    "tensor_y = tensor_y.type(torch.LongTensor)"
   ]
  },
  {
   "cell_type": "code",
   "execution_count": 41,
   "metadata": {
    "colab": {
     "base_uri": "https://localhost:8080/"
    },
    "id": "3jtBPAo13-Ip",
    "outputId": "488bf29f-d9ab-4159-85fe-8ad03b3cd2b1"
   },
   "outputs": [
    {
     "name": "stdout",
     "output_type": "stream",
     "text": [
      "Length of Train Data : 420\n",
      "Length of Test Data : 180\n"
     ]
    }
   ],
   "source": [
    "\"\"\"\n",
    "Create dataset and data loader\n",
    "\"\"\"\n",
    "dataset = TensorDataset(tensor_x,tensor_y)\n",
    "\n",
    "\"\"\"\n",
    "Split into train and test sets\n",
    "\"\"\"\n",
    "test_size = int(0.3*len(dataset))\n",
    "train_size = len(dataset) - test_size\n",
    "\n",
    "train_data,test_data = random_split(dataset,[train_size,test_size])\n",
    "print(f\"Length of Train Data : {len(train_data)}\")\n",
    "print(f\"Length of Test Data : {len(test_data)}\")\n",
    "\n",
    "train_loader = DataLoader(train_data, batch_size, shuffle = False, num_workers = 4, pin_memory = True)\n",
    "test_loader = DataLoader(test_data, batch_size, shuffle = False, num_workers = 4, pin_memory = True)"
   ]
  },
  {
   "cell_type": "code",
   "execution_count": 42,
   "metadata": {
    "id": "91jmASCZ4bq3"
   },
   "outputs": [],
   "source": [
    "\"\"\"\n",
    "Initialize network\n",
    "\"\"\" \n",
    "model = MLP(input_size, num_classes).to(device)\n",
    "\"\"\"\n",
    "Loss and optimizer\n",
    "\"\"\" \n",
    "criterion = nn.CrossEntropyLoss()\n",
    "optimizer = torch.optim.Adam(model.parameters(), lr=learning_rate)"
   ]
  },
  {
   "cell_type": "code",
   "execution_count": 43,
   "metadata": {},
   "outputs": [],
   "source": [
    "def reset_weights(m):\n",
    "    \"\"\"\n",
    "    Try resetting model weights to avoid\n",
    "    weight leakage.\n",
    "\n",
    "    m: a PyTorch model\n",
    "\n",
    "    return: None\n",
    "    \"\"\"\n",
    "    for layer in m.children():\n",
    "        if hasattr(layer, 'reset_parameters'):\n",
    "            #print(f'Reset trainable parameters of layer = {layer}')\n",
    "            layer.reset_parameters()"
   ]
  },
  {
   "cell_type": "markdown",
   "metadata": {},
   "source": [
    "## Define accuracy-function"
   ]
  },
  {
   "cell_type": "code",
   "execution_count": 44,
   "metadata": {},
   "outputs": [],
   "source": [
    "\"\"\"\n",
    " Check accuracy on training & test to see how good the model is\n",
    " \n",
    " loader: a pytorch dataloader\n",
    " model: a pytorch model\n",
    " \n",
    " returns: model accuracy as a numerical value\n",
    "\"\"\"\n",
    "def check_accuracy(loader, model):\n",
    "    num_correct = 0\n",
    "    num_samples = 0\n",
    "    model.eval()\n",
    "\n",
    "    with torch.no_grad():\n",
    "        for x, y in loader:\n",
    "            x = x.to(device=device)\n",
    "            y = y.to(device=device)\n",
    "            #x = x.reshape(x.shape[0], -1)\n",
    "\n",
    "            scores = model(x)\n",
    "            _, predictions = scores.max(1)\n",
    "            num_correct += (predictions == y).sum()\n",
    "            num_samples += predictions.size(0)\n",
    "\n",
    "    model.train()\n",
    "    return num_correct/num_samples"
   ]
  },
  {
   "cell_type": "code",
   "execution_count": 45,
   "metadata": {},
   "outputs": [],
   "source": [
    "\"\"\"\n",
    " Check accuracy on training & test to see how good the model performs within each class\n",
    " \n",
    " loader: a pytorch dataloader\n",
    " model: a pytorch model\n",
    " \n",
    " returns: a list of model accuracies as a numerical value\n",
    "\"\"\"\n",
    "def check_accuracy_per_class(loader, model):\n",
    "    num_correct = [0.0, 0.0, 0.0]\n",
    "    num_samples = [0.0, 0.0, 0.0]\n",
    "    model.eval()\n",
    "\n",
    "    with torch.no_grad():\n",
    "        for x, y in loader:\n",
    "            x = x.to(device=device)\n",
    "            y = y.to(device=device)\n",
    "            #x = x.reshape(x.shape[0], -1)\n",
    "\n",
    "            scores = model(x)\n",
    "            _, predictions = scores.max(1)\n",
    "            for (prediction, y_i) in zip(predictions, y):\n",
    "                prediction = prediction.item()\n",
    "                y_i = y_i.item()\n",
    "                if(y_i == 0):\n",
    "                    if(prediction == y_i): \n",
    "                        num_correct[0] += 1\n",
    "                    num_samples[0] += 1\n",
    "                elif(y_i == 1):\n",
    "                    if(prediction == y_i): \n",
    "                        num_correct[1] += 1\n",
    "                    num_samples[1] += 1\n",
    "                elif(y_i == 2):\n",
    "                    if(prediction == y_i): \n",
    "                        num_correct[2] += 1\n",
    "                    num_samples[2] += 1\n",
    "    model.train()\n",
    "    accuracy = [0.0, 0.0, 0.0]\n",
    "    if num_samples[0] != 0:\n",
    "        accuracy[0] = num_correct[0]/num_samples[0]\n",
    "    if num_samples[1] != 0:\n",
    "        accuracy[1] = num_correct[1]/num_samples[1]\n",
    "    if num_samples[2] != 0:\n",
    "        accuracy[2] = num_correct[2]/num_samples[2]\n",
    "    return accuracy"
   ]
  },
  {
   "cell_type": "markdown",
   "metadata": {},
   "source": [
    "## Apply crossvalidation\n",
    "Apply 5-fold crossvalidation with CrossEntropy loss and Adam optimizer."
   ]
  },
  {
   "cell_type": "code",
   "execution_count": 46,
   "metadata": {
    "id": "uUYQ4Ha_AYfe"
   },
   "outputs": [],
   "source": [
    "\"\"\"\n",
    "Define the 5-fold Cross Validator\n",
    "\"\"\"\n",
    "k_folds = 5\n",
    "kfold = KFold(n_splits=k_folds, shuffle=False)"
   ]
  },
  {
   "cell_type": "code",
   "execution_count": 48,
   "metadata": {},
   "outputs": [
    {
     "name": "stdout",
     "output_type": "stream",
     "text": [
      "Fold 0\n"
     ]
    },
    {
     "name": "stderr",
     "output_type": "stream",
     "text": [
      "100%|█████████████████████████████████████████████████████████████████████████████████| 48/48 [00:00<00:00, 383.99it/s]\n",
      "100%|█████████████████████████████████████████████████████████████████████████████████| 48/48 [00:00<00:00, 545.45it/s]\n",
      "100%|█████████████████████████████████████████████████████████████████████████████████| 48/48 [00:00<00:00, 571.43it/s]\n",
      "100%|█████████████████████████████████████████████████████████████████████████████████| 48/48 [00:00<00:00, 558.15it/s]\n",
      "100%|█████████████████████████████████████████████████████████████████████████████████| 48/48 [00:00<00:00, 510.67it/s]\n"
     ]
    },
    {
     "name": "stdout",
     "output_type": "stream",
     "text": [
      "Train Accuracy for fold 0: 36 %\n",
      "Test Accuracy for fold 0: 25 %\n",
      "Train Accuracies per class [Label 0, Label 1, Label 2] for fold 0: \n",
      "0.0 1.0 0.0\n",
      "Test Accuracies per class [Label 0, Label 1, Label 2] for fold 0: \n",
      "0.0 1.0 0.0\n",
      "Fold 1\n"
     ]
    },
    {
     "name": "stderr",
     "output_type": "stream",
     "text": [
      "100%|█████████████████████████████████████████████████████████████████████████████████| 48/48 [00:00<00:00, 421.07it/s]\n",
      "100%|█████████████████████████████████████████████████████████████████████████████████| 48/48 [00:00<00:00, 305.74it/s]\n",
      "100%|█████████████████████████████████████████████████████████████████████████████████| 48/48 [00:00<00:00, 338.02it/s]\n",
      "100%|█████████████████████████████████████████████████████████████████████████████████| 48/48 [00:00<00:00, 369.32it/s]\n",
      "100%|█████████████████████████████████████████████████████████████████████████████████| 48/48 [00:00<00:00, 363.63it/s]\n"
     ]
    },
    {
     "name": "stdout",
     "output_type": "stream",
     "text": [
      "Train Accuracy for fold 1: 36 %\n",
      "Test Accuracy for fold 1: 19 %\n",
      "Train Accuracies per class [Label 0, Label 1, Label 2] for fold 1: \n",
      "0.0 0.0 1.0\n",
      "Test Accuracies per class [Label 0, Label 1, Label 2] for fold 1: \n",
      "0.0 0.0 1.0\n",
      "Fold 2\n"
     ]
    },
    {
     "name": "stderr",
     "output_type": "stream",
     "text": [
      "100%|█████████████████████████████████████████████████████████████████████████████████| 48/48 [00:00<00:00, 335.67it/s]\n",
      "100%|█████████████████████████████████████████████████████████████████████████████████| 48/48 [00:00<00:00, 489.78it/s]\n",
      "100%|█████████████████████████████████████████████████████████████████████████████████| 48/48 [00:00<00:00, 585.36it/s]\n",
      "100%|█████████████████████████████████████████████████████████████████████████████████| 48/48 [00:00<00:00, 521.73it/s]\n",
      "100%|█████████████████████████████████████████████████████████████████████████████████| 48/48 [00:00<00:00, 510.64it/s]\n"
     ]
    },
    {
     "name": "stdout",
     "output_type": "stream",
     "text": [
      "Train Accuracy for fold 2: 39 %\n",
      "Test Accuracy for fold 2: 5 %\n",
      "Train Accuracies per class [Label 0, Label 1, Label 2] for fold 2: \n",
      "0.0 0.0 1.0\n",
      "Test Accuracies per class [Label 0, Label 1, Label 2] for fold 2: \n",
      "0.0 0.0 1.0\n",
      "Fold 3\n"
     ]
    },
    {
     "name": "stderr",
     "output_type": "stream",
     "text": [
      "100%|█████████████████████████████████████████████████████████████████████████████████| 48/48 [00:00<00:00, 440.36it/s]\n",
      "100%|█████████████████████████████████████████████████████████████████████████████████| 48/48 [00:00<00:00, 527.47it/s]\n",
      "100%|█████████████████████████████████████████████████████████████████████████████████| 48/48 [00:00<00:00, 539.35it/s]\n",
      "100%|█████████████████████████████████████████████████████████████████████████████████| 48/48 [00:00<00:00, 592.60it/s]\n",
      "100%|█████████████████████████████████████████████████████████████████████████████████| 48/48 [00:00<00:00, 539.32it/s]\n"
     ]
    },
    {
     "name": "stdout",
     "output_type": "stream",
     "text": [
      "Train Accuracy for fold 3: 39 %\n",
      "Test Accuracy for fold 3: 9 %\n",
      "Train Accuracies per class [Label 0, Label 1, Label 2] for fold 3: \n",
      "1.0 0.0 0.0\n",
      "Test Accuracies per class [Label 0, Label 1, Label 2] for fold 3: \n",
      "1.0 0.0 0.0\n",
      "Fold 4\n"
     ]
    },
    {
     "name": "stderr",
     "output_type": "stream",
     "text": [
      "100%|█████████████████████████████████████████████████████████████████████████████████| 48/48 [00:00<00:00, 475.26it/s]\n",
      "100%|█████████████████████████████████████████████████████████████████████████████████| 48/48 [00:00<00:00, 571.42it/s]\n",
      "100%|█████████████████████████████████████████████████████████████████████████████████| 48/48 [00:00<00:00, 585.36it/s]\n",
      "100%|█████████████████████████████████████████████████████████████████████████████████| 48/48 [00:00<00:00, 564.71it/s]\n",
      "100%|█████████████████████████████████████████████████████████████████████████████████| 48/48 [00:00<00:00, 494.83it/s]\n"
     ]
    },
    {
     "name": "stdout",
     "output_type": "stream",
     "text": [
      "Train Accuracy for fold 4: 34 %\n",
      "Test Accuracy for fold 4: 30 %\n",
      "Train Accuracies per class [Label 0, Label 1, Label 2] for fold 4: \n",
      "0.0 1.0 0.0\n",
      "Test Accuracies per class [Label 0, Label 1, Label 2] for fold 4: \n",
      "0.0 1.0 0.0\n",
      "Averaged Train Accuracy over 5 k-folds: 36 %\n",
      "Averaged Test Accuracy over 5 k-folds: 18 %\n",
      "Averaged Train Accuracy per class [[0.20024691 0.32       0.47953757]]\n",
      "Averaged Test Accuracy per class [[0.20105263 0.32       0.48      ]]\n"
     ]
    }
   ],
   "source": [
    "train_acc = []\n",
    "test_acc = []\n",
    "\n",
    "train_acc_per_class = []\n",
    "test_acc_per_class = []\n",
    "\n",
    "for fold, (train_ids, test_ids) in enumerate(kfold.split(dataset)):\n",
    "    print(f'Fold {fold}')\n",
    "    model.apply(reset_weights)\n",
    "    train_subsampler = torch.utils.data.SubsetRandomSampler(train_ids)\n",
    "    test_subsampler = torch.utils.data.SubsetRandomSampler(test_ids)\n",
    "    trainloader = torch.utils.data.DataLoader(\n",
    "                      dataset, batch_size=10, sampler=train_subsampler)\n",
    "    testloader = torch.utils.data.DataLoader(\n",
    "                      dataset, batch_size=10, sampler=test_subsampler)\n",
    "    criterion = nn.CrossEntropyLoss()\n",
    "    optimizer = optim.Adam(model.parameters(), lr=learning_rate)\n",
    "    for epoch in range(num_epochs):\n",
    "        for batch_idx, (input_, labels) in enumerate(tqdm(trainloader)):\n",
    "            # Get data to cuda if possible\n",
    "            input_ = input_.to(device=device)\n",
    "            targets = labels.to(device=device)\n",
    "\n",
    "            # forward\n",
    "            scores = model(input_)\n",
    "            loss = criterion(scores, targets)\n",
    "\n",
    "            # backward\n",
    "            optimizer.zero_grad()\n",
    "            loss.backward()\n",
    "\n",
    "            # gradient descent or adam step\n",
    "            optimizer.step()\n",
    "        train_acc.append(check_accuracy(trainloader, model).item()*100)\n",
    "        test_acc.append(check_accuracy(testloader, model).item()*100)\n",
    "        train_acc_per_class.append(check_accuracy_per_class(trainloader, model))\n",
    "        test_acc_per_class.append(check_accuracy_per_class(testloader, model))\n",
    "    print('Train Accuracy for fold %d: %d %%' % (fold, 100.0 * check_accuracy(trainloader, model)))\n",
    "    print('Test Accuracy for fold %d: %d %%' % (fold, 100.0 * check_accuracy(testloader, model)))\n",
    "    print('Train Accuracies per class [Label 0, Label 1, Label 2] for fold %d: ' % (fold))\n",
    "    print(*check_accuracy_per_class(trainloader, model))\n",
    "    print('Test Accuracies per class [Label 0, Label 1, Label 2] for fold %d: ' % (fold))\n",
    "    print(*check_accuracy_per_class(testloader, model))\n",
    "print('Averaged Train Accuracy over %d k-folds: %d %%' % (k_folds, np.array(train_acc).mean()))\n",
    "print('Averaged Test Accuracy over %d k-folds: %d %%' % (k_folds, np.array(test_acc).mean()))\n",
    "print('Averaged Train Accuracy per class', *np.matrix(train_acc_per_class).mean(0))\n",
    "print('Averaged Test Accuracy per class', *np.matrix(test_acc_per_class).mean(0))"
   ]
  },
  {
   "cell_type": "markdown",
   "metadata": {},
   "source": [
    "## Hyperparameter Tuning with Ray Tune\n",
    "As noted before some parameters where acquired in their optimal form by performing hyperparameter tuning.  \n",
    "The library used for this was Ray Tune.  \n",
    "\n",
    "Following hyperparameters where tuned:\n",
    "- number of epochs\n",
    "- learning rate\n",
    "- batch size\n",
    "\n",
    "with following optimal values:  \n",
    "- number of epochs = 5\n",
    "- learning_rate = 0.045421358413054946\n",
    "- batch_size = 10"
   ]
  },
  {
   "cell_type": "code",
   "execution_count": 17,
   "metadata": {},
   "outputs": [],
   "source": [
    "config = {\n",
    "    \"num_epochs\": tune.choice([2, 5, 10]),\n",
    "    \"lr\": tune.loguniform(1e-4, 1e-1),\n",
    "    \"batch_size\": tune.choice([5, 10, 50, 100])\n",
    "}\n",
    "max_num_epochs = 11"
   ]
  },
  {
   "cell_type": "code",
   "execution_count": 18,
   "metadata": {},
   "outputs": [],
   "source": [
    "\"\"\"\n",
    "Ray Tune requires one method to contain all necessary network definitions and methods.\n",
    "\n",
    "config: dictionary with configuration hyperparameters\n",
    "checkpoint_dir: not used, but could be used to load earlier configuration\n",
    "\n",
    "returns: None\n",
    "\"\"\"\n",
    "def train(config, checkpoint_dir=None):\n",
    "    model = MLP().to(device)\n",
    "    model.apply(reset_weights)\n",
    "    # Loss and optimizer\n",
    "    criterion = nn.CrossEntropyLoss()\n",
    "    optimizer = optim.Adam(model.parameters(), lr=config[\"learning_rate\"])\n",
    "    \n",
    "    if checkpoint_dir:\n",
    "        model_state, optimizer_state = torch.load(\n",
    "            os.path.join(checkpoint_dir, \"checkpoint\"))\n",
    "        net.load_state_dict(model_state)\n",
    "        optimizer.load_state_dict(optimizer_state)\n",
    "    batch_size = config[\"batch_size\"]\n",
    "    train_loader = DataLoader(train_data, batch_size, shuffle = False, num_workers = 2, pin_memory = True)\n",
    "    test_loader = DataLoader(test_data, batch_size, shuffle = False, num_workers = 2, pin_memory = True)\n",
    "    for epoch in range(config[\"num_epochs\"]):\n",
    "        running_loss = 0\n",
    "        epoch_steps = 0\n",
    "        for batch_idx, (data, labels) in enumerate(tqdm(train_loader)):\n",
    "            current_loss = 0\n",
    "            # Get data to cuda if possible\n",
    "            data = data.to(device=device)\n",
    "            targets = labels.to(device=device)\n",
    "\n",
    "            # forward\n",
    "            scores = model(data)\n",
    "            loss = criterion(scores, targets)\n",
    "\n",
    "            # backward\n",
    "            optimizer.zero_grad()\n",
    "            loss.backward()\n",
    "\n",
    "            # gradient descent or adam step\n",
    "            optimizer.step()\n",
    "\n",
    "            #print statistics\n",
    "            running_loss += loss.item()\n",
    "            epoch_steps += 1\n",
    "            if batch_idx%500 == 499:\n",
    "                print(\"[%d, %5d] loss: %.3f\" % (epoch + 1, i + 1,\n",
    "                                                running_loss / epoch_steps))\n",
    "                running_loss = 0.0\n",
    "                \n",
    "                \n",
    "        test_loss = 0\n",
    "        test_steps = 0\n",
    "        total = 0\n",
    "        correct = 0\n",
    "        for batch_idx, (data, labels) in enumerate(tqdm(test_loader)):\n",
    "            with torch.no_grad():\n",
    "                data = data.to(device=device)\n",
    "                targets = labels.to(device=device)\n",
    "                scores = model(data)\n",
    "                _, predictions = scores.max(1)\n",
    "                total += predictions.size(0)\n",
    "                correct += (predictions == targets).sum().item()\n",
    "                loss = criterion(scores, targets)\n",
    "                test_loss += loss.cpu().numpy()\n",
    "                test_steps+=1\n",
    "        with tune.checkpoint_dir(epoch) as checkpoint_dir:\n",
    "            path = os.path.join(checkpoint_dir, \"checkpoint\")\n",
    "            torch.save((model.state_dict(), optimizer.state_dict()), path)\n",
    "        tune.report(loss=(test_loss/test_steps), accuracy=correct/total)\n",
    "    print(\"Finished\")"
   ]
  },
  {
   "cell_type": "code",
   "execution_count": 19,
   "metadata": {},
   "outputs": [],
   "source": [
    "\"\"\"\n",
    "num_samples: amount of hyperparameter value combinations to check\n",
    "gpus_per_trial: amount of gpus available\n",
    "\n",
    "return: None\n",
    "\"\"\"\n",
    "def main(num_samples = 10, gpus_per_trial=1):\n",
    "    config = {\n",
    "    \"num_epochs\": tune.choice([4, 5, 10]),\n",
    "    \"learning_rate\": tune.loguniform(1e-4, 1e-1),\n",
    "    \"batch_size\": tune.choice([10, 30, 50, 100])\n",
    "    }\n",
    "    scheduler = ASHAScheduler(\n",
    "        metric=\"loss\",\n",
    "        mode=\"min\",\n",
    "        max_t = max_num_epochs,\n",
    "        grace_period=1,\n",
    "        reduction_factor=2)\n",
    "    reporter = CLIReporter(metric_columns=[\"loss\", \"accuray\", \"train_iteration\"])\n",
    "    result = tune.run(\n",
    "            partial(train),\n",
    "            resources_per_trial={\"cpu\": 1, \"gpu\": gpus_per_trial},\n",
    "            config=config,\n",
    "            num_samples = num_samples,\n",
    "            scheduler=scheduler,\n",
    "            progress_reporter=reporter)\n",
    "    best_trial = result.get_best_trial(\"loss\", \"min\", \"last\")\n",
    "    print(\"Best trial config: {}\".format(best_trial.config))\n",
    "    print(\"Best trial final validation loss: {}\".format(\n",
    "        best_trial.last_result[\"loss\"]))\n",
    "    print(\"Best trial final validation accuracy: {}\".format(\n",
    "        best_trial.last_result[\"accuracy\"]))\n",
    "    #best_trained_model = model(best_trial)"
   ]
  },
  {
   "cell_type": "code",
   "execution_count": 20,
   "metadata": {},
   "outputs": [
    {
     "name": "stderr",
     "output_type": "stream",
     "text": [
      "2021-12-22 15:38:20,134\tINFO services.py:1338 -- View the Ray dashboard at \u001b[1m\u001b[32mhttp://127.0.0.1:8266\u001b[39m\u001b[22m\n",
      "2021-12-22 15:38:31,449\tWARNING experiment.py:255 -- No name detected on trainable. Using DEFAULT.\n",
      "2021-12-22 15:38:31,454\tINFO registry.py:69 -- Detected unknown callable for trainable. Converting to class.\n"
     ]
    },
    {
     "name": "stdout",
     "output_type": "stream",
     "text": [
      "== Status ==\n",
      "Current time: 2021-12-22 15:38:32 (running for 00:00:00.78)\n",
      "Memory usage on this node: 16.5/47.6 GiB\n",
      "Using AsyncHyperBand: num_stopped=0\n",
      "Bracket: Iter 8.000: None | Iter 4.000: None | Iter 2.000: None | Iter 1.000: None\n",
      "Resources requested: 0/24 CPUs, 0/2 GPUs, 0.0/37.98 GiB heap, 0.0/18.99 GiB objects\n",
      "Result logdir: C:\\Users\\Tomas\\ray_results\\DEFAULT_2021-12-22_15-38-31\n",
      "Number of trials: 10/10 (10 PENDING)\n",
      "+---------------------+----------+-------+--------------+-----------------+--------------+\n",
      "| Trial name          | status   | loc   |   batch_size |   learning_rate |   num_epochs |\n",
      "|---------------------+----------+-------+--------------+-----------------+--------------|\n",
      "| DEFAULT_d5cba_00000 | PENDING  |       |           50 |     0.000109278 |           10 |\n",
      "| DEFAULT_d5cba_00001 | PENDING  |       |           50 |     0.0422751   |            5 |\n",
      "| DEFAULT_d5cba_00002 | PENDING  |       |           30 |     0.0195957   |           10 |\n",
      "| DEFAULT_d5cba_00003 | PENDING  |       |           10 |     0.00277116  |            5 |\n",
      "| DEFAULT_d5cba_00004 | PENDING  |       |           50 |     0.00902094  |            5 |\n",
      "| DEFAULT_d5cba_00005 | PENDING  |       |          100 |     0.00939863  |            4 |\n",
      "| DEFAULT_d5cba_00006 | PENDING  |       |           10 |     0.000111693 |            5 |\n",
      "| DEFAULT_d5cba_00007 | PENDING  |       |           30 |     0.000258208 |            5 |\n",
      "| DEFAULT_d5cba_00008 | PENDING  |       |           10 |     0.000173604 |            4 |\n",
      "| DEFAULT_d5cba_00009 | PENDING  |       |           10 |     0.0454214   |            5 |\n",
      "+---------------------+----------+-------+--------------+-----------------+--------------+\n",
      "\n",
      "\n",
      "== Status ==\n",
      "Current time: 2021-12-22 15:38:37 (running for 00:00:05.80)\n",
      "Memory usage on this node: 16.7/47.6 GiB\n",
      "Using AsyncHyperBand: num_stopped=0\n",
      "Bracket: Iter 8.000: None | Iter 4.000: None | Iter 2.000: None | Iter 1.000: None\n",
      "Resources requested: 0/24 CPUs, 0/2 GPUs, 0.0/37.98 GiB heap, 0.0/18.99 GiB objects\n",
      "Result logdir: C:\\Users\\Tomas\\ray_results\\DEFAULT_2021-12-22_15-38-31\n",
      "Number of trials: 10/10 (10 PENDING)\n",
      "+---------------------+----------+-------+--------------+-----------------+--------------+\n",
      "| Trial name          | status   | loc   |   batch_size |   learning_rate |   num_epochs |\n",
      "|---------------------+----------+-------+--------------+-----------------+--------------|\n",
      "| DEFAULT_d5cba_00000 | PENDING  |       |           50 |     0.000109278 |           10 |\n",
      "| DEFAULT_d5cba_00001 | PENDING  |       |           50 |     0.0422751   |            5 |\n",
      "| DEFAULT_d5cba_00002 | PENDING  |       |           30 |     0.0195957   |           10 |\n",
      "| DEFAULT_d5cba_00003 | PENDING  |       |           10 |     0.00277116  |            5 |\n",
      "| DEFAULT_d5cba_00004 | PENDING  |       |           50 |     0.00902094  |            5 |\n",
      "| DEFAULT_d5cba_00005 | PENDING  |       |          100 |     0.00939863  |            4 |\n",
      "| DEFAULT_d5cba_00006 | PENDING  |       |           10 |     0.000111693 |            5 |\n",
      "| DEFAULT_d5cba_00007 | PENDING  |       |           30 |     0.000258208 |            5 |\n",
      "| DEFAULT_d5cba_00008 | PENDING  |       |           10 |     0.000173604 |            4 |\n",
      "| DEFAULT_d5cba_00009 | PENDING  |       |           10 |     0.0454214   |            5 |\n",
      "+---------------------+----------+-------+--------------+-----------------+--------------+\n",
      "\n",
      "\n"
     ]
    },
    {
     "name": "stderr",
     "output_type": "stream",
     "text": [
      "2021-12-22 15:38:38,780\tERROR syncer.py:111 -- Log sync requires rsync to be installed.\n"
     ]
    },
    {
     "name": "stdout",
     "output_type": "stream",
     "text": [
      "== Status ==\n",
      "Current time: 2021-12-22 15:38:43 (running for 00:00:11.77)\n",
      "Memory usage on this node: 17.2/47.6 GiB\n",
      "Using AsyncHyperBand: num_stopped=0\n",
      "Bracket: Iter 8.000: None | Iter 4.000: None | Iter 2.000: None | Iter 1.000: None\n",
      "Resources requested: 1.0/24 CPUs, 1.0/2 GPUs, 0.0/37.98 GiB heap, 0.0/18.99 GiB objects\n",
      "Result logdir: C:\\Users\\Tomas\\ray_results\\DEFAULT_2021-12-22_15-38-31\n",
      "Number of trials: 10/10 (9 PENDING, 1 RUNNING)\n",
      "+---------------------+----------+-----------------+--------------+-----------------+--------------+\n",
      "| Trial name          | status   | loc             |   batch_size |   learning_rate |   num_epochs |\n",
      "|---------------------+----------+-----------------+--------------+-----------------+--------------|\n",
      "| DEFAULT_d5cba_00000 | RUNNING  | 127.0.0.1:14084 |           50 |     0.000109278 |           10 |\n",
      "| DEFAULT_d5cba_00001 | PENDING  |                 |           50 |     0.0422751   |            5 |\n",
      "| DEFAULT_d5cba_00002 | PENDING  |                 |           30 |     0.0195957   |           10 |\n",
      "| DEFAULT_d5cba_00003 | PENDING  |                 |           10 |     0.00277116  |            5 |\n",
      "| DEFAULT_d5cba_00004 | PENDING  |                 |           50 |     0.00902094  |            5 |\n",
      "| DEFAULT_d5cba_00005 | PENDING  |                 |          100 |     0.00939863  |            4 |\n",
      "| DEFAULT_d5cba_00006 | PENDING  |                 |           10 |     0.000111693 |            5 |\n",
      "| DEFAULT_d5cba_00007 | PENDING  |                 |           30 |     0.000258208 |            5 |\n",
      "| DEFAULT_d5cba_00008 | PENDING  |                 |           10 |     0.000173604 |            4 |\n",
      "| DEFAULT_d5cba_00009 | PENDING  |                 |           10 |     0.0454214   |            5 |\n",
      "+---------------------+----------+-----------------+--------------+-----------------+--------------+\n",
      "\n",
      "\n"
     ]
    },
    {
     "name": "stderr",
     "output_type": "stream",
     "text": [
      "  0%|          | 0/9 [00:00<?, ?it/s]\n"
     ]
    },
    {
     "name": "stdout",
     "output_type": "stream",
     "text": [
      "== Status ==\n",
      "Current time: 2021-12-22 15:38:49 (running for 00:00:16.98)\n",
      "Memory usage on this node: 17.9/47.6 GiB\n",
      "Using AsyncHyperBand: num_stopped=0\n",
      "Bracket: Iter 8.000: None | Iter 4.000: None | Iter 2.000: None | Iter 1.000: None\n",
      "Resources requested: 1.0/24 CPUs, 1.0/2 GPUs, 0.0/37.98 GiB heap, 0.0/18.99 GiB objects\n",
      "Result logdir: C:\\Users\\Tomas\\ray_results\\DEFAULT_2021-12-22_15-38-31\n",
      "Number of trials: 10/10 (9 PENDING, 1 RUNNING)\n",
      "+---------------------+----------+-----------------+--------------+-----------------+--------------+\n",
      "| Trial name          | status   | loc             |   batch_size |   learning_rate |   num_epochs |\n",
      "|---------------------+----------+-----------------+--------------+-----------------+--------------|\n",
      "| DEFAULT_d5cba_00000 | RUNNING  | 127.0.0.1:14084 |           50 |     0.000109278 |           10 |\n",
      "| DEFAULT_d5cba_00001 | PENDING  |                 |           50 |     0.0422751   |            5 |\n",
      "| DEFAULT_d5cba_00002 | PENDING  |                 |           30 |     0.0195957   |           10 |\n",
      "| DEFAULT_d5cba_00003 | PENDING  |                 |           10 |     0.00277116  |            5 |\n",
      "| DEFAULT_d5cba_00004 | PENDING  |                 |           50 |     0.00902094  |            5 |\n",
      "| DEFAULT_d5cba_00005 | PENDING  |                 |          100 |     0.00939863  |            4 |\n",
      "| DEFAULT_d5cba_00006 | PENDING  |                 |           10 |     0.000111693 |            5 |\n",
      "| DEFAULT_d5cba_00007 | PENDING  |                 |           30 |     0.000258208 |            5 |\n",
      "| DEFAULT_d5cba_00008 | PENDING  |                 |           10 |     0.000173604 |            4 |\n",
      "| DEFAULT_d5cba_00009 | PENDING  |                 |           10 |     0.0454214   |            5 |\n",
      "+---------------------+----------+-----------------+--------------+-----------------+--------------+\n",
      "\n",
      "\n"
     ]
    },
    {
     "name": "stderr",
     "output_type": "stream",
     "text": [
      " 11%|█         | 1/9 [00:04<00:39,  4.98s/it]\n",
      "100%|██████████| 9/9 [00:05<00:00,  1.61it/s]\n",
      "  0%|          | 0/4 [00:00<?, ?it/s]\n"
     ]
    },
    {
     "name": "stdout",
     "output_type": "stream",
     "text": [
      "== Status ==\n",
      "Current time: 2021-12-22 15:38:54 (running for 00:00:22.18)\n",
      "Memory usage on this node: 18.1/47.6 GiB\n",
      "Using AsyncHyperBand: num_stopped=0\n",
      "Bracket: Iter 8.000: None | Iter 4.000: None | Iter 2.000: None | Iter 1.000: None\n",
      "Resources requested: 1.0/24 CPUs, 1.0/2 GPUs, 0.0/37.98 GiB heap, 0.0/18.99 GiB objects\n",
      "Result logdir: C:\\Users\\Tomas\\ray_results\\DEFAULT_2021-12-22_15-38-31\n",
      "Number of trials: 10/10 (9 PENDING, 1 RUNNING)\n",
      "+---------------------+----------+-----------------+--------------+-----------------+--------------+\n",
      "| Trial name          | status   | loc             |   batch_size |   learning_rate |   num_epochs |\n",
      "|---------------------+----------+-----------------+--------------+-----------------+--------------|\n",
      "| DEFAULT_d5cba_00000 | RUNNING  | 127.0.0.1:14084 |           50 |     0.000109278 |           10 |\n",
      "| DEFAULT_d5cba_00001 | PENDING  |                 |           50 |     0.0422751   |            5 |\n",
      "| DEFAULT_d5cba_00002 | PENDING  |                 |           30 |     0.0195957   |           10 |\n",
      "| DEFAULT_d5cba_00003 | PENDING  |                 |           10 |     0.00277116  |            5 |\n",
      "| DEFAULT_d5cba_00004 | PENDING  |                 |           50 |     0.00902094  |            5 |\n",
      "| DEFAULT_d5cba_00005 | PENDING  |                 |          100 |     0.00939863  |            4 |\n",
      "| DEFAULT_d5cba_00006 | PENDING  |                 |           10 |     0.000111693 |            5 |\n",
      "| DEFAULT_d5cba_00007 | PENDING  |                 |           30 |     0.000258208 |            5 |\n",
      "| DEFAULT_d5cba_00008 | PENDING  |                 |           10 |     0.000173604 |            4 |\n",
      "| DEFAULT_d5cba_00009 | PENDING  |                 |           10 |     0.0454214   |            5 |\n",
      "+---------------------+----------+-----------------+--------------+-----------------+--------------+\n",
      "\n",
      "\n"
     ]
    },
    {
     "name": "stderr",
     "output_type": "stream",
     "text": [
      " 25%|██▌       | 1/4 [00:04<00:13,  4.36s/it]\n"
     ]
    },
    {
     "name": "stdout",
     "output_type": "stream",
     "text": [
      "Result for DEFAULT_d5cba_00000:\n",
      "  accuracy: 0.6833333333333333\n",
      "  date: 2021-12-22_15-38-56\n",
      "  done: false\n",
      "  experiment_id: 1b2fe05d824b4c3c9e31e7af0dbc700f\n",
      "  hostname: WSTOMAS21\n",
      "  iterations_since_restore: 1\n",
      "  loss: 0.9362159222364426\n",
      "  node_ip: 127.0.0.1\n",
      "  pid: 14084\n",
      "  should_checkpoint: true\n",
      "  time_since_restore: 14.837552547454834\n",
      "  time_this_iter_s: 14.837552547454834\n",
      "  time_total_s: 14.837552547454834\n",
      "  timestamp: 1640183936\n",
      "  timesteps_since_restore: 0\n",
      "  training_iteration: 1\n",
      "  trial_id: d5cba_00000\n",
      "  \n"
     ]
    },
    {
     "name": "stderr",
     "output_type": "stream",
     "text": [
      "100%|██████████| 4/4 [00:04<00:00,  1.22s/it]\n",
      "  0%|          | 0/9 [00:00<?, ?it/s]\n"
     ]
    },
    {
     "name": "stdout",
     "output_type": "stream",
     "text": [
      "== Status ==\n",
      "Current time: 2021-12-22 15:38:59 (running for 00:00:27.78)\n",
      "Memory usage on this node: 18.1/47.6 GiB\n",
      "Using AsyncHyperBand: num_stopped=0\n",
      "Bracket: Iter 8.000: None | Iter 4.000: None | Iter 2.000: None | Iter 1.000: -0.9362159222364426\n",
      "Resources requested: 1.0/24 CPUs, 1.0/2 GPUs, 0.0/37.98 GiB heap, 0.0/18.99 GiB objects\n",
      "Result logdir: C:\\Users\\Tomas\\ray_results\\DEFAULT_2021-12-22_15-38-31\n",
      "Number of trials: 10/10 (9 PENDING, 1 RUNNING)\n",
      "+---------------------+----------+-----------------+--------------+-----------------+--------------+----------+\n",
      "| Trial name          | status   | loc             |   batch_size |   learning_rate |   num_epochs |     loss |\n",
      "|---------------------+----------+-----------------+--------------+-----------------+--------------+----------|\n",
      "| DEFAULT_d5cba_00000 | RUNNING  | 127.0.0.1:14084 |           50 |     0.000109278 |           10 | 0.936216 |\n",
      "| DEFAULT_d5cba_00001 | PENDING  |                 |           50 |     0.0422751   |            5 |          |\n",
      "| DEFAULT_d5cba_00002 | PENDING  |                 |           30 |     0.0195957   |           10 |          |\n",
      "| DEFAULT_d5cba_00003 | PENDING  |                 |           10 |     0.00277116  |            5 |          |\n",
      "| DEFAULT_d5cba_00004 | PENDING  |                 |           50 |     0.00902094  |            5 |          |\n",
      "| DEFAULT_d5cba_00005 | PENDING  |                 |          100 |     0.00939863  |            4 |          |\n",
      "| DEFAULT_d5cba_00006 | PENDING  |                 |           10 |     0.000111693 |            5 |          |\n",
      "| DEFAULT_d5cba_00007 | PENDING  |                 |           30 |     0.000258208 |            5 |          |\n",
      "| DEFAULT_d5cba_00008 | PENDING  |                 |           10 |     0.000173604 |            4 |          |\n",
      "| DEFAULT_d5cba_00009 | PENDING  |                 |           10 |     0.0454214   |            5 |          |\n",
      "+---------------------+----------+-----------------+--------------+-----------------+--------------+----------+\n",
      "\n",
      "\n"
     ]
    },
    {
     "name": "stderr",
     "output_type": "stream",
     "text": [
      " 89%|████████▉ | 8/9 [00:04<00:00,  2.38it/s]\n",
      "100%|██████████| 9/9 [00:05<00:00,  1.75it/s]\n",
      "  0%|          | 0/4 [00:00<?, ?it/s]\n"
     ]
    },
    {
     "name": "stdout",
     "output_type": "stream",
     "text": [
      "== Status ==\n",
      "Current time: 2021-12-22 15:39:05 (running for 00:00:32.99)\n",
      "Memory usage on this node: 18.1/47.6 GiB\n",
      "Using AsyncHyperBand: num_stopped=0\n",
      "Bracket: Iter 8.000: None | Iter 4.000: None | Iter 2.000: None | Iter 1.000: -0.9362159222364426\n",
      "Resources requested: 1.0/24 CPUs, 1.0/2 GPUs, 0.0/37.98 GiB heap, 0.0/18.99 GiB objects\n",
      "Result logdir: C:\\Users\\Tomas\\ray_results\\DEFAULT_2021-12-22_15-38-31\n",
      "Number of trials: 10/10 (9 PENDING, 1 RUNNING)\n",
      "+---------------------+----------+-----------------+--------------+-----------------+--------------+----------+\n",
      "| Trial name          | status   | loc             |   batch_size |   learning_rate |   num_epochs |     loss |\n",
      "|---------------------+----------+-----------------+--------------+-----------------+--------------+----------|\n",
      "| DEFAULT_d5cba_00000 | RUNNING  | 127.0.0.1:14084 |           50 |     0.000109278 |           10 | 0.936216 |\n",
      "| DEFAULT_d5cba_00001 | PENDING  |                 |           50 |     0.0422751   |            5 |          |\n",
      "| DEFAULT_d5cba_00002 | PENDING  |                 |           30 |     0.0195957   |           10 |          |\n",
      "| DEFAULT_d5cba_00003 | PENDING  |                 |           10 |     0.00277116  |            5 |          |\n",
      "| DEFAULT_d5cba_00004 | PENDING  |                 |           50 |     0.00902094  |            5 |          |\n",
      "| DEFAULT_d5cba_00005 | PENDING  |                 |          100 |     0.00939863  |            4 |          |\n",
      "| DEFAULT_d5cba_00006 | PENDING  |                 |           10 |     0.000111693 |            5 |          |\n",
      "| DEFAULT_d5cba_00007 | PENDING  |                 |           30 |     0.000258208 |            5 |          |\n",
      "| DEFAULT_d5cba_00008 | PENDING  |                 |           10 |     0.000173604 |            4 |          |\n",
      "| DEFAULT_d5cba_00009 | PENDING  |                 |           10 |     0.0454214   |            5 |          |\n",
      "+---------------------+----------+-----------------+--------------+-----------------+--------------+----------+\n",
      "\n",
      "\n"
     ]
    },
    {
     "name": "stderr",
     "output_type": "stream",
     "text": [
      " 25%|██▌       | 1/4 [00:04<00:12,  4.16s/it]\n"
     ]
    },
    {
     "name": "stdout",
     "output_type": "stream",
     "text": [
      "Result for DEFAULT_d5cba_00000:\n",
      "  accuracy: 0.6833333333333333\n",
      "  date: 2021-12-22_15-39-06\n",
      "  done: false\n",
      "  experiment_id: 1b2fe05d824b4c3c9e31e7af0dbc700f\n",
      "  hostname: WSTOMAS21\n",
      "  iterations_since_restore: 2\n",
      "  loss: 0.9153856784105301\n",
      "  node_ip: 127.0.0.1\n",
      "  pid: 14084\n",
      "  should_checkpoint: true\n",
      "  time_since_restore: 24.735795259475708\n",
      "  time_this_iter_s: 9.898242712020874\n",
      "  time_total_s: 24.735795259475708\n",
      "  timestamp: 1640183946\n",
      "  timesteps_since_restore: 0\n",
      "  training_iteration: 2\n",
      "  trial_id: d5cba_00000\n",
      "  \n"
     ]
    },
    {
     "name": "stderr",
     "output_type": "stream",
     "text": [
      "100%|██████████| 4/4 [00:04<00:00,  1.17s/it]\n",
      "  0%|          | 0/9 [00:00<?, ?it/s]\n"
     ]
    },
    {
     "name": "stdout",
     "output_type": "stream",
     "text": [
      "== Status ==\n",
      "Current time: 2021-12-22 15:39:10 (running for 00:00:38.68)\n",
      "Memory usage on this node: 18.2/47.6 GiB\n",
      "Using AsyncHyperBand: num_stopped=0\n",
      "Bracket: Iter 8.000: None | Iter 4.000: None | Iter 2.000: -0.9153856784105301 | Iter 1.000: -0.9362159222364426\n",
      "Resources requested: 1.0/24 CPUs, 1.0/2 GPUs, 0.0/37.98 GiB heap, 0.0/18.99 GiB objects\n",
      "Result logdir: C:\\Users\\Tomas\\ray_results\\DEFAULT_2021-12-22_15-38-31\n",
      "Number of trials: 10/10 (9 PENDING, 1 RUNNING)\n",
      "+---------------------+----------+-----------------+--------------+-----------------+--------------+----------+\n",
      "| Trial name          | status   | loc             |   batch_size |   learning_rate |   num_epochs |     loss |\n",
      "|---------------------+----------+-----------------+--------------+-----------------+--------------+----------|\n",
      "| DEFAULT_d5cba_00000 | RUNNING  | 127.0.0.1:14084 |           50 |     0.000109278 |           10 | 0.915386 |\n",
      "| DEFAULT_d5cba_00001 | PENDING  |                 |           50 |     0.0422751   |            5 |          |\n",
      "| DEFAULT_d5cba_00002 | PENDING  |                 |           30 |     0.0195957   |           10 |          |\n",
      "| DEFAULT_d5cba_00003 | PENDING  |                 |           10 |     0.00277116  |            5 |          |\n",
      "| DEFAULT_d5cba_00004 | PENDING  |                 |           50 |     0.00902094  |            5 |          |\n",
      "| DEFAULT_d5cba_00005 | PENDING  |                 |          100 |     0.00939863  |            4 |          |\n",
      "| DEFAULT_d5cba_00006 | PENDING  |                 |           10 |     0.000111693 |            5 |          |\n",
      "| DEFAULT_d5cba_00007 | PENDING  |                 |           30 |     0.000258208 |            5 |          |\n",
      "| DEFAULT_d5cba_00008 | PENDING  |                 |           10 |     0.000173604 |            4 |          |\n",
      "| DEFAULT_d5cba_00009 | PENDING  |                 |           10 |     0.0454214   |            5 |          |\n",
      "+---------------------+----------+-----------------+--------------+-----------------+--------------+----------+\n",
      "\n",
      "\n"
     ]
    },
    {
     "name": "stderr",
     "output_type": "stream",
     "text": [
      " 11%|█         | 1/9 [00:04<00:33,  4.23s/it]\n",
      "100%|██████████| 9/9 [00:04<00:00,  1.87it/s]\n",
      "  0%|          | 0/4 [00:00<?, ?it/s]\n",
      " 25%|██▌       | 1/4 [00:04<00:12,  4.12s/it]\n"
     ]
    },
    {
     "name": "stdout",
     "output_type": "stream",
     "text": [
      "Result for DEFAULT_d5cba_00000:\n",
      "  accuracy: 0.6833333333333333\n",
      "  date: 2021-12-22_15-39-15\n",
      "  done: false\n",
      "  experiment_id: 1b2fe05d824b4c3c9e31e7af0dbc700f\n",
      "  hostname: WSTOMAS21\n",
      "  iterations_since_restore: 3\n",
      "  loss: 0.9019235074520111\n",
      "  node_ip: 127.0.0.1\n",
      "  pid: 14084\n",
      "  should_checkpoint: true\n",
      "  time_since_restore: 34.053338050842285\n",
      "  time_this_iter_s: 9.317542791366577\n",
      "  time_total_s: 34.053338050842285\n",
      "  timestamp: 1640183955\n",
      "  timesteps_since_restore: 0\n",
      "  training_iteration: 3\n",
      "  trial_id: d5cba_00000\n",
      "  \n",
      "== Status ==\n",
      "Current time: 2021-12-22 15:39:15 (running for 00:00:43.86)\n",
      "Memory usage on this node: 18.0/47.6 GiB\n",
      "Using AsyncHyperBand: num_stopped=0\n",
      "Bracket: Iter 8.000: None | Iter 4.000: None | Iter 2.000: -0.9153856784105301 | Iter 1.000: -0.9362159222364426\n",
      "Resources requested: 1.0/24 CPUs, 1.0/2 GPUs, 0.0/37.98 GiB heap, 0.0/18.99 GiB objects\n",
      "Result logdir: C:\\Users\\Tomas\\ray_results\\DEFAULT_2021-12-22_15-38-31\n",
      "Number of trials: 10/10 (9 PENDING, 1 RUNNING)\n",
      "+---------------------+----------+-----------------+--------------+-----------------+--------------+----------+\n",
      "| Trial name          | status   | loc             |   batch_size |   learning_rate |   num_epochs |     loss |\n",
      "|---------------------+----------+-----------------+--------------+-----------------+--------------+----------|\n",
      "| DEFAULT_d5cba_00000 | RUNNING  | 127.0.0.1:14084 |           50 |     0.000109278 |           10 | 0.901924 |\n",
      "| DEFAULT_d5cba_00001 | PENDING  |                 |           50 |     0.0422751   |            5 |          |\n",
      "| DEFAULT_d5cba_00002 | PENDING  |                 |           30 |     0.0195957   |           10 |          |\n",
      "| DEFAULT_d5cba_00003 | PENDING  |                 |           10 |     0.00277116  |            5 |          |\n",
      "| DEFAULT_d5cba_00004 | PENDING  |                 |           50 |     0.00902094  |            5 |          |\n",
      "| DEFAULT_d5cba_00005 | PENDING  |                 |          100 |     0.00939863  |            4 |          |\n",
      "| DEFAULT_d5cba_00006 | PENDING  |                 |           10 |     0.000111693 |            5 |          |\n",
      "| DEFAULT_d5cba_00007 | PENDING  |                 |           30 |     0.000258208 |            5 |          |\n",
      "| DEFAULT_d5cba_00008 | PENDING  |                 |           10 |     0.000173604 |            4 |          |\n",
      "| DEFAULT_d5cba_00009 | PENDING  |                 |           10 |     0.0454214   |            5 |          |\n",
      "+---------------------+----------+-----------------+--------------+-----------------+--------------+----------+\n",
      "\n",
      "\n"
     ]
    },
    {
     "name": "stderr",
     "output_type": "stream",
     "text": [
      "100%|██████████| 4/4 [00:04<00:00,  1.11s/it]\n",
      "  0%|          | 0/9 [00:00<?, ?it/s]\n",
      " 11%|█         | 1/9 [00:04<00:33,  4.13s/it]\n",
      " 22%|██▏       | 2/9 [00:04<00:12,  1.76s/it]\n",
      "100%|██████████| 9/9 [00:04<00:00,  1.87it/s]\n",
      "  0%|          | 0/4 [00:00<?, ?it/s]\n"
     ]
    },
    {
     "name": "stdout",
     "output_type": "stream",
     "text": [
      "== Status ==\n",
      "Current time: 2021-12-22 15:39:21 (running for 00:00:49.06)\n",
      "Memory usage on this node: 18.0/47.6 GiB\n",
      "Using AsyncHyperBand: num_stopped=0\n",
      "Bracket: Iter 8.000: None | Iter 4.000: None | Iter 2.000: -0.9153856784105301 | Iter 1.000: -0.9362159222364426\n",
      "Resources requested: 1.0/24 CPUs, 1.0/2 GPUs, 0.0/37.98 GiB heap, 0.0/18.99 GiB objects\n",
      "Result logdir: C:\\Users\\Tomas\\ray_results\\DEFAULT_2021-12-22_15-38-31\n",
      "Number of trials: 10/10 (9 PENDING, 1 RUNNING)\n",
      "+---------------------+----------+-----------------+--------------+-----------------+--------------+----------+\n",
      "| Trial name          | status   | loc             |   batch_size |   learning_rate |   num_epochs |     loss |\n",
      "|---------------------+----------+-----------------+--------------+-----------------+--------------+----------|\n",
      "| DEFAULT_d5cba_00000 | RUNNING  | 127.0.0.1:14084 |           50 |     0.000109278 |           10 | 0.901924 |\n",
      "| DEFAULT_d5cba_00001 | PENDING  |                 |           50 |     0.0422751   |            5 |          |\n",
      "| DEFAULT_d5cba_00002 | PENDING  |                 |           30 |     0.0195957   |           10 |          |\n",
      "| DEFAULT_d5cba_00003 | PENDING  |                 |           10 |     0.00277116  |            5 |          |\n",
      "| DEFAULT_d5cba_00004 | PENDING  |                 |           50 |     0.00902094  |            5 |          |\n",
      "| DEFAULT_d5cba_00005 | PENDING  |                 |          100 |     0.00939863  |            4 |          |\n",
      "| DEFAULT_d5cba_00006 | PENDING  |                 |           10 |     0.000111693 |            5 |          |\n",
      "| DEFAULT_d5cba_00007 | PENDING  |                 |           30 |     0.000258208 |            5 |          |\n",
      "| DEFAULT_d5cba_00008 | PENDING  |                 |           10 |     0.000173604 |            4 |          |\n",
      "| DEFAULT_d5cba_00009 | PENDING  |                 |           10 |     0.0454214   |            5 |          |\n",
      "+---------------------+----------+-----------------+--------------+-----------------+--------------+----------+\n",
      "\n",
      "\n"
     ]
    },
    {
     "name": "stderr",
     "output_type": "stream",
     "text": [
      " 25%|██▌       | 1/4 [00:04<00:12,  4.16s/it]\n"
     ]
    },
    {
     "name": "stdout",
     "output_type": "stream",
     "text": [
      "Result for DEFAULT_d5cba_00000:\n",
      "  accuracy: 0.6833333333333333\n",
      "  date: 2021-12-22_15-39-25\n",
      "  done: false\n",
      "  experiment_id: 1b2fe05d824b4c3c9e31e7af0dbc700f\n",
      "  hostname: WSTOMAS21\n",
      "  iterations_since_restore: 4\n",
      "  loss: 0.8930027633905411\n",
      "  node_ip: 127.0.0.1\n",
      "  pid: 14084\n",
      "  should_checkpoint: true\n",
      "  time_since_restore: 43.63038945198059\n",
      "  time_this_iter_s: 9.577051401138306\n",
      "  time_total_s: 43.63038945198059\n",
      "  timestamp: 1640183965\n",
      "  timesteps_since_restore: 0\n",
      "  training_iteration: 4\n",
      "  trial_id: d5cba_00000\n",
      "  \n"
     ]
    },
    {
     "name": "stderr",
     "output_type": "stream",
     "text": [
      "100%|██████████| 4/4 [00:04<00:00,  1.17s/it]\n",
      "  0%|          | 0/9 [00:00<?, ?it/s]\n"
     ]
    },
    {
     "name": "stdout",
     "output_type": "stream",
     "text": [
      "== Status ==\n",
      "Current time: 2021-12-22 15:39:26 (running for 00:00:54.48)\n",
      "Memory usage on this node: 18.1/47.6 GiB\n",
      "Using AsyncHyperBand: num_stopped=0\n",
      "Bracket: Iter 8.000: None | Iter 4.000: -0.8930027633905411 | Iter 2.000: -0.9153856784105301 | Iter 1.000: -0.9362159222364426\n",
      "Resources requested: 1.0/24 CPUs, 1.0/2 GPUs, 0.0/37.98 GiB heap, 0.0/18.99 GiB objects\n",
      "Result logdir: C:\\Users\\Tomas\\ray_results\\DEFAULT_2021-12-22_15-38-31\n",
      "Number of trials: 10/10 (9 PENDING, 1 RUNNING)\n",
      "+---------------------+----------+-----------------+--------------+-----------------+--------------+----------+\n",
      "| Trial name          | status   | loc             |   batch_size |   learning_rate |   num_epochs |     loss |\n",
      "|---------------------+----------+-----------------+--------------+-----------------+--------------+----------|\n",
      "| DEFAULT_d5cba_00000 | RUNNING  | 127.0.0.1:14084 |           50 |     0.000109278 |           10 | 0.893003 |\n",
      "| DEFAULT_d5cba_00001 | PENDING  |                 |           50 |     0.0422751   |            5 |          |\n",
      "| DEFAULT_d5cba_00002 | PENDING  |                 |           30 |     0.0195957   |           10 |          |\n",
      "| DEFAULT_d5cba_00003 | PENDING  |                 |           10 |     0.00277116  |            5 |          |\n",
      "| DEFAULT_d5cba_00004 | PENDING  |                 |           50 |     0.00902094  |            5 |          |\n",
      "| DEFAULT_d5cba_00005 | PENDING  |                 |          100 |     0.00939863  |            4 |          |\n",
      "| DEFAULT_d5cba_00006 | PENDING  |                 |           10 |     0.000111693 |            5 |          |\n",
      "| DEFAULT_d5cba_00007 | PENDING  |                 |           30 |     0.000258208 |            5 |          |\n",
      "| DEFAULT_d5cba_00008 | PENDING  |                 |           10 |     0.000173604 |            4 |          |\n",
      "| DEFAULT_d5cba_00009 | PENDING  |                 |           10 |     0.0454214   |            5 |          |\n",
      "+---------------------+----------+-----------------+--------------+-----------------+--------------+----------+\n",
      "\n",
      "\n"
     ]
    },
    {
     "name": "stderr",
     "output_type": "stream",
     "text": [
      " 11%|█         | 1/9 [00:04<00:32,  4.10s/it]\n",
      " 22%|██▏       | 2/9 [00:04<00:12,  1.76s/it]\n",
      "100%|██████████| 9/9 [00:04<00:00,  1.91it/s]\n",
      "  0%|          | 0/4 [00:00<?, ?it/s]\n"
     ]
    },
    {
     "name": "stdout",
     "output_type": "stream",
     "text": [
      "== Status ==\n",
      "Current time: 2021-12-22 15:39:31 (running for 00:00:59.67)\n",
      "Memory usage on this node: 18.1/47.6 GiB\n",
      "Using AsyncHyperBand: num_stopped=0\n",
      "Bracket: Iter 8.000: None | Iter 4.000: -0.8930027633905411 | Iter 2.000: -0.9153856784105301 | Iter 1.000: -0.9362159222364426\n",
      "Resources requested: 1.0/24 CPUs, 1.0/2 GPUs, 0.0/37.98 GiB heap, 0.0/18.99 GiB objects\n",
      "Result logdir: C:\\Users\\Tomas\\ray_results\\DEFAULT_2021-12-22_15-38-31\n",
      "Number of trials: 10/10 (9 PENDING, 1 RUNNING)\n",
      "+---------------------+----------+-----------------+--------------+-----------------+--------------+----------+\n",
      "| Trial name          | status   | loc             |   batch_size |   learning_rate |   num_epochs |     loss |\n",
      "|---------------------+----------+-----------------+--------------+-----------------+--------------+----------|\n",
      "| DEFAULT_d5cba_00000 | RUNNING  | 127.0.0.1:14084 |           50 |     0.000109278 |           10 | 0.893003 |\n",
      "| DEFAULT_d5cba_00001 | PENDING  |                 |           50 |     0.0422751   |            5 |          |\n",
      "| DEFAULT_d5cba_00002 | PENDING  |                 |           30 |     0.0195957   |           10 |          |\n",
      "| DEFAULT_d5cba_00003 | PENDING  |                 |           10 |     0.00277116  |            5 |          |\n",
      "| DEFAULT_d5cba_00004 | PENDING  |                 |           50 |     0.00902094  |            5 |          |\n",
      "| DEFAULT_d5cba_00005 | PENDING  |                 |          100 |     0.00939863  |            4 |          |\n",
      "| DEFAULT_d5cba_00006 | PENDING  |                 |           10 |     0.000111693 |            5 |          |\n",
      "| DEFAULT_d5cba_00007 | PENDING  |                 |           30 |     0.000258208 |            5 |          |\n",
      "| DEFAULT_d5cba_00008 | PENDING  |                 |           10 |     0.000173604 |            4 |          |\n",
      "| DEFAULT_d5cba_00009 | PENDING  |                 |           10 |     0.0454214   |            5 |          |\n",
      "+---------------------+----------+-----------------+--------------+-----------------+--------------+----------+\n",
      "\n",
      "\n"
     ]
    },
    {
     "name": "stderr",
     "output_type": "stream",
     "text": [
      " 25%|██▌       | 1/4 [00:04<00:13,  4.36s/it]\n"
     ]
    },
    {
     "name": "stdout",
     "output_type": "stream",
     "text": [
      "Result for DEFAULT_d5cba_00000:\n",
      "  accuracy: 0.6833333333333333\n",
      "  date: 2021-12-22_15-39-35\n",
      "  done: false\n",
      "  experiment_id: 1b2fe05d824b4c3c9e31e7af0dbc700f\n",
      "  hostname: WSTOMAS21\n",
      "  iterations_since_restore: 5\n",
      "  loss: 0.8866499662399292\n",
      "  node_ip: 127.0.0.1\n",
      "  pid: 14084\n",
      "  should_checkpoint: true\n",
      "  time_since_restore: 53.27425003051758\n",
      "  time_this_iter_s: 9.643860578536987\n",
      "  time_total_s: 53.27425003051758\n",
      "  timestamp: 1640183975\n",
      "  timesteps_since_restore: 0\n",
      "  training_iteration: 5\n",
      "  trial_id: d5cba_00000\n",
      "  \n"
     ]
    },
    {
     "name": "stderr",
     "output_type": "stream",
     "text": [
      "100%|██████████| 4/4 [00:04<00:00,  1.22s/it]\n",
      "  0%|          | 0/9 [00:00<?, ?it/s]\n"
     ]
    },
    {
     "name": "stdout",
     "output_type": "stream",
     "text": [
      "== Status ==\n",
      "Current time: 2021-12-22 15:39:37 (running for 00:01:05.23)\n",
      "Memory usage on this node: 18.1/47.6 GiB\n",
      "Using AsyncHyperBand: num_stopped=0\n",
      "Bracket: Iter 8.000: None | Iter 4.000: -0.8930027633905411 | Iter 2.000: -0.9153856784105301 | Iter 1.000: -0.9362159222364426\n",
      "Resources requested: 1.0/24 CPUs, 1.0/2 GPUs, 0.0/37.98 GiB heap, 0.0/18.99 GiB objects\n",
      "Result logdir: C:\\Users\\Tomas\\ray_results\\DEFAULT_2021-12-22_15-38-31\n",
      "Number of trials: 10/10 (9 PENDING, 1 RUNNING)\n",
      "+---------------------+----------+-----------------+--------------+-----------------+--------------+---------+\n",
      "| Trial name          | status   | loc             |   batch_size |   learning_rate |   num_epochs |    loss |\n",
      "|---------------------+----------+-----------------+--------------+-----------------+--------------+---------|\n",
      "| DEFAULT_d5cba_00000 | RUNNING  | 127.0.0.1:14084 |           50 |     0.000109278 |           10 | 0.88665 |\n",
      "| DEFAULT_d5cba_00001 | PENDING  |                 |           50 |     0.0422751   |            5 |         |\n",
      "| DEFAULT_d5cba_00002 | PENDING  |                 |           30 |     0.0195957   |           10 |         |\n",
      "| DEFAULT_d5cba_00003 | PENDING  |                 |           10 |     0.00277116  |            5 |         |\n",
      "| DEFAULT_d5cba_00004 | PENDING  |                 |           50 |     0.00902094  |            5 |         |\n",
      "| DEFAULT_d5cba_00005 | PENDING  |                 |          100 |     0.00939863  |            4 |         |\n",
      "| DEFAULT_d5cba_00006 | PENDING  |                 |           10 |     0.000111693 |            5 |         |\n",
      "| DEFAULT_d5cba_00007 | PENDING  |                 |           30 |     0.000258208 |            5 |         |\n",
      "| DEFAULT_d5cba_00008 | PENDING  |                 |           10 |     0.000173604 |            4 |         |\n",
      "| DEFAULT_d5cba_00009 | PENDING  |                 |           10 |     0.0454214   |            5 |         |\n",
      "+---------------------+----------+-----------------+--------------+-----------------+--------------+---------+\n",
      "\n",
      "\n"
     ]
    },
    {
     "name": "stderr",
     "output_type": "stream",
     "text": [
      " 11%|█         | 1/9 [00:04<00:35,  4.48s/it]\n",
      " 22%|██▏       | 2/9 [00:04<00:13,  1.91s/it]\n",
      "100%|██████████| 9/9 [00:05<00:00,  1.74it/s]\n",
      "  0%|          | 0/4 [00:00<?, ?it/s]\n"
     ]
    },
    {
     "name": "stdout",
     "output_type": "stream",
     "text": [
      "== Status ==\n",
      "Current time: 2021-12-22 15:39:42 (running for 00:01:10.39)\n",
      "Memory usage on this node: 18.1/47.6 GiB\n",
      "Using AsyncHyperBand: num_stopped=0\n",
      "Bracket: Iter 8.000: None | Iter 4.000: -0.8930027633905411 | Iter 2.000: -0.9153856784105301 | Iter 1.000: -0.9362159222364426\n",
      "Resources requested: 1.0/24 CPUs, 1.0/2 GPUs, 0.0/37.98 GiB heap, 0.0/18.99 GiB objects\n",
      "Result logdir: C:\\Users\\Tomas\\ray_results\\DEFAULT_2021-12-22_15-38-31\n",
      "Number of trials: 10/10 (9 PENDING, 1 RUNNING)\n",
      "+---------------------+----------+-----------------+--------------+-----------------+--------------+---------+\n",
      "| Trial name          | status   | loc             |   batch_size |   learning_rate |   num_epochs |    loss |\n",
      "|---------------------+----------+-----------------+--------------+-----------------+--------------+---------|\n",
      "| DEFAULT_d5cba_00000 | RUNNING  | 127.0.0.1:14084 |           50 |     0.000109278 |           10 | 0.88665 |\n",
      "| DEFAULT_d5cba_00001 | PENDING  |                 |           50 |     0.0422751   |            5 |         |\n",
      "| DEFAULT_d5cba_00002 | PENDING  |                 |           30 |     0.0195957   |           10 |         |\n",
      "| DEFAULT_d5cba_00003 | PENDING  |                 |           10 |     0.00277116  |            5 |         |\n",
      "| DEFAULT_d5cba_00004 | PENDING  |                 |           50 |     0.00902094  |            5 |         |\n",
      "| DEFAULT_d5cba_00005 | PENDING  |                 |          100 |     0.00939863  |            4 |         |\n",
      "| DEFAULT_d5cba_00006 | PENDING  |                 |           10 |     0.000111693 |            5 |         |\n",
      "| DEFAULT_d5cba_00007 | PENDING  |                 |           30 |     0.000258208 |            5 |         |\n",
      "| DEFAULT_d5cba_00008 | PENDING  |                 |           10 |     0.000173604 |            4 |         |\n",
      "| DEFAULT_d5cba_00009 | PENDING  |                 |           10 |     0.0454214   |            5 |         |\n",
      "+---------------------+----------+-----------------+--------------+-----------------+--------------+---------+\n",
      "\n",
      "\n"
     ]
    },
    {
     "name": "stderr",
     "output_type": "stream",
     "text": [
      " 25%|██▌       | 1/4 [00:04<00:13,  4.40s/it]\n"
     ]
    },
    {
     "name": "stdout",
     "output_type": "stream",
     "text": [
      "Result for DEFAULT_d5cba_00000:\n",
      "  accuracy: 0.6833333333333333\n",
      "  date: 2021-12-22_15-39-45\n",
      "  done: false\n",
      "  experiment_id: 1b2fe05d824b4c3c9e31e7af0dbc700f\n",
      "  hostname: WSTOMAS21\n",
      "  iterations_since_restore: 6\n",
      "  loss: 0.882892057299614\n",
      "  node_ip: 127.0.0.1\n",
      "  pid: 14084\n",
      "  should_checkpoint: true\n",
      "  time_since_restore: 63.45274233818054\n",
      "  time_this_iter_s: 10.178492307662964\n",
      "  time_total_s: 63.45274233818054\n",
      "  timestamp: 1640183985\n",
      "  timesteps_since_restore: 0\n",
      "  training_iteration: 6\n",
      "  trial_id: d5cba_00000\n",
      "  \n"
     ]
    },
    {
     "name": "stderr",
     "output_type": "stream",
     "text": [
      "100%|██████████| 4/4 [00:04<00:00,  1.23s/it]\n",
      "  0%|          | 0/9 [00:00<?, ?it/s]\n"
     ]
    },
    {
     "name": "stdout",
     "output_type": "stream",
     "text": [
      "== Status ==\n",
      "Current time: 2021-12-22 15:39:48 (running for 00:01:16.39)\n",
      "Memory usage on this node: 18.1/47.6 GiB\n",
      "Using AsyncHyperBand: num_stopped=0\n",
      "Bracket: Iter 8.000: None | Iter 4.000: -0.8930027633905411 | Iter 2.000: -0.9153856784105301 | Iter 1.000: -0.9362159222364426\n",
      "Resources requested: 1.0/24 CPUs, 1.0/2 GPUs, 0.0/37.98 GiB heap, 0.0/18.99 GiB objects\n",
      "Result logdir: C:\\Users\\Tomas\\ray_results\\DEFAULT_2021-12-22_15-38-31\n",
      "Number of trials: 10/10 (9 PENDING, 1 RUNNING)\n",
      "+---------------------+----------+-----------------+--------------+-----------------+--------------+----------+\n",
      "| Trial name          | status   | loc             |   batch_size |   learning_rate |   num_epochs |     loss |\n",
      "|---------------------+----------+-----------------+--------------+-----------------+--------------+----------|\n",
      "| DEFAULT_d5cba_00000 | RUNNING  | 127.0.0.1:14084 |           50 |     0.000109278 |           10 | 0.882892 |\n",
      "| DEFAULT_d5cba_00001 | PENDING  |                 |           50 |     0.0422751   |            5 |          |\n",
      "| DEFAULT_d5cba_00002 | PENDING  |                 |           30 |     0.0195957   |           10 |          |\n",
      "| DEFAULT_d5cba_00003 | PENDING  |                 |           10 |     0.00277116  |            5 |          |\n",
      "| DEFAULT_d5cba_00004 | PENDING  |                 |           50 |     0.00902094  |            5 |          |\n",
      "| DEFAULT_d5cba_00005 | PENDING  |                 |          100 |     0.00939863  |            4 |          |\n",
      "| DEFAULT_d5cba_00006 | PENDING  |                 |           10 |     0.000111693 |            5 |          |\n",
      "| DEFAULT_d5cba_00007 | PENDING  |                 |           30 |     0.000258208 |            5 |          |\n",
      "| DEFAULT_d5cba_00008 | PENDING  |                 |           10 |     0.000173604 |            4 |          |\n",
      "| DEFAULT_d5cba_00009 | PENDING  |                 |           10 |     0.0454214   |            5 |          |\n",
      "+---------------------+----------+-----------------+--------------+-----------------+--------------+----------+\n",
      "\n",
      "\n"
     ]
    },
    {
     "name": "stderr",
     "output_type": "stream",
     "text": [
      " 11%|█         | 1/9 [00:04<00:33,  4.24s/it]\n",
      " 22%|██▏       | 2/9 [00:04<00:12,  1.84s/it]\n",
      "100%|██████████| 9/9 [00:04<00:00,  1.83it/s]\n",
      "  0%|          | 0/4 [00:00<?, ?it/s]\n"
     ]
    },
    {
     "name": "stdout",
     "output_type": "stream",
     "text": [
      "== Status ==\n",
      "Current time: 2021-12-22 15:39:53 (running for 00:01:21.56)\n",
      "Memory usage on this node: 18.1/47.6 GiB\n",
      "Using AsyncHyperBand: num_stopped=0\n",
      "Bracket: Iter 8.000: None | Iter 4.000: -0.8930027633905411 | Iter 2.000: -0.9153856784105301 | Iter 1.000: -0.9362159222364426\n",
      "Resources requested: 1.0/24 CPUs, 1.0/2 GPUs, 0.0/37.98 GiB heap, 0.0/18.99 GiB objects\n",
      "Result logdir: C:\\Users\\Tomas\\ray_results\\DEFAULT_2021-12-22_15-38-31\n",
      "Number of trials: 10/10 (9 PENDING, 1 RUNNING)\n",
      "+---------------------+----------+-----------------+--------------+-----------------+--------------+----------+\n",
      "| Trial name          | status   | loc             |   batch_size |   learning_rate |   num_epochs |     loss |\n",
      "|---------------------+----------+-----------------+--------------+-----------------+--------------+----------|\n",
      "| DEFAULT_d5cba_00000 | RUNNING  | 127.0.0.1:14084 |           50 |     0.000109278 |           10 | 0.882892 |\n",
      "| DEFAULT_d5cba_00001 | PENDING  |                 |           50 |     0.0422751   |            5 |          |\n",
      "| DEFAULT_d5cba_00002 | PENDING  |                 |           30 |     0.0195957   |           10 |          |\n",
      "| DEFAULT_d5cba_00003 | PENDING  |                 |           10 |     0.00277116  |            5 |          |\n",
      "| DEFAULT_d5cba_00004 | PENDING  |                 |           50 |     0.00902094  |            5 |          |\n",
      "| DEFAULT_d5cba_00005 | PENDING  |                 |          100 |     0.00939863  |            4 |          |\n",
      "| DEFAULT_d5cba_00006 | PENDING  |                 |           10 |     0.000111693 |            5 |          |\n",
      "| DEFAULT_d5cba_00007 | PENDING  |                 |           30 |     0.000258208 |            5 |          |\n",
      "| DEFAULT_d5cba_00008 | PENDING  |                 |           10 |     0.000173604 |            4 |          |\n",
      "| DEFAULT_d5cba_00009 | PENDING  |                 |           10 |     0.0454214   |            5 |          |\n",
      "+---------------------+----------+-----------------+--------------+-----------------+--------------+----------+\n",
      "\n",
      "\n"
     ]
    },
    {
     "name": "stderr",
     "output_type": "stream",
     "text": [
      " 25%|██▌       | 1/4 [00:04<00:12,  4.33s/it]\n"
     ]
    },
    {
     "name": "stdout",
     "output_type": "stream",
     "text": [
      "Result for DEFAULT_d5cba_00000:\n",
      "  accuracy: 0.6833333333333333\n",
      "  date: 2021-12-22_15-39-55\n",
      "  done: false\n",
      "  experiment_id: 1b2fe05d824b4c3c9e31e7af0dbc700f\n",
      "  hostname: WSTOMAS21\n",
      "  iterations_since_restore: 7\n",
      "  loss: 0.8827787488698959\n",
      "  node_ip: 127.0.0.1\n",
      "  pid: 14084\n",
      "  should_checkpoint: true\n",
      "  time_since_restore: 73.33764362335205\n",
      "  time_this_iter_s: 9.884901285171509\n",
      "  time_total_s: 73.33764362335205\n",
      "  timestamp: 1640183995\n",
      "  timesteps_since_restore: 0\n",
      "  training_iteration: 7\n",
      "  trial_id: d5cba_00000\n",
      "  \n"
     ]
    },
    {
     "name": "stderr",
     "output_type": "stream",
     "text": [
      "100%|██████████| 4/4 [00:04<00:00,  1.23s/it]\n",
      "  0%|          | 0/9 [00:00<?, ?it/s]\n"
     ]
    },
    {
     "name": "stdout",
     "output_type": "stream",
     "text": [
      "== Status ==\n",
      "Current time: 2021-12-22 15:39:59 (running for 00:01:27.37)\n",
      "Memory usage on this node: 18.2/47.6 GiB\n",
      "Using AsyncHyperBand: num_stopped=0\n",
      "Bracket: Iter 8.000: None | Iter 4.000: -0.8930027633905411 | Iter 2.000: -0.9153856784105301 | Iter 1.000: -0.9362159222364426\n",
      "Resources requested: 1.0/24 CPUs, 1.0/2 GPUs, 0.0/37.98 GiB heap, 0.0/18.99 GiB objects\n",
      "Result logdir: C:\\Users\\Tomas\\ray_results\\DEFAULT_2021-12-22_15-38-31\n",
      "Number of trials: 10/10 (9 PENDING, 1 RUNNING)\n",
      "+---------------------+----------+-----------------+--------------+-----------------+--------------+----------+\n",
      "| Trial name          | status   | loc             |   batch_size |   learning_rate |   num_epochs |     loss |\n",
      "|---------------------+----------+-----------------+--------------+-----------------+--------------+----------|\n",
      "| DEFAULT_d5cba_00000 | RUNNING  | 127.0.0.1:14084 |           50 |     0.000109278 |           10 | 0.882779 |\n",
      "| DEFAULT_d5cba_00001 | PENDING  |                 |           50 |     0.0422751   |            5 |          |\n",
      "| DEFAULT_d5cba_00002 | PENDING  |                 |           30 |     0.0195957   |           10 |          |\n",
      "| DEFAULT_d5cba_00003 | PENDING  |                 |           10 |     0.00277116  |            5 |          |\n",
      "| DEFAULT_d5cba_00004 | PENDING  |                 |           50 |     0.00902094  |            5 |          |\n",
      "| DEFAULT_d5cba_00005 | PENDING  |                 |          100 |     0.00939863  |            4 |          |\n",
      "| DEFAULT_d5cba_00006 | PENDING  |                 |           10 |     0.000111693 |            5 |          |\n",
      "| DEFAULT_d5cba_00007 | PENDING  |                 |           30 |     0.000258208 |            5 |          |\n",
      "| DEFAULT_d5cba_00008 | PENDING  |                 |           10 |     0.000173604 |            4 |          |\n",
      "| DEFAULT_d5cba_00009 | PENDING  |                 |           10 |     0.0454214   |            5 |          |\n",
      "+---------------------+----------+-----------------+--------------+-----------------+--------------+----------+\n",
      "\n",
      "\n"
     ]
    },
    {
     "name": "stderr",
     "output_type": "stream",
     "text": [
      " 11%|█         | 1/9 [00:04<00:36,  4.50s/it]\n",
      " 67%|██████▋   | 6/9 [00:04<00:01,  1.75it/s]\n",
      "100%|██████████| 9/9 [00:05<00:00,  1.74it/s]\n",
      "  0%|          | 0/4 [00:00<?, ?it/s]\n",
      " 25%|██▌       | 1/4 [00:04<00:12,  4.18s/it]\n"
     ]
    },
    {
     "name": "stdout",
     "output_type": "stream",
     "text": [
      "== Status ==\n",
      "Current time: 2021-12-22 15:40:04 (running for 00:01:32.55)\n",
      "Memory usage on this node: 18.2/47.6 GiB\n",
      "Using AsyncHyperBand: num_stopped=0\n",
      "Bracket: Iter 8.000: None | Iter 4.000: -0.8930027633905411 | Iter 2.000: -0.9153856784105301 | Iter 1.000: -0.9362159222364426\n",
      "Resources requested: 1.0/24 CPUs, 1.0/2 GPUs, 0.0/37.98 GiB heap, 0.0/18.99 GiB objects\n",
      "Result logdir: C:\\Users\\Tomas\\ray_results\\DEFAULT_2021-12-22_15-38-31\n",
      "Number of trials: 10/10 (9 PENDING, 1 RUNNING)\n",
      "+---------------------+----------+-----------------+--------------+-----------------+--------------+----------+\n",
      "| Trial name          | status   | loc             |   batch_size |   learning_rate |   num_epochs |     loss |\n",
      "|---------------------+----------+-----------------+--------------+-----------------+--------------+----------|\n",
      "| DEFAULT_d5cba_00000 | RUNNING  | 127.0.0.1:14084 |           50 |     0.000109278 |           10 | 0.882779 |\n",
      "| DEFAULT_d5cba_00001 | PENDING  |                 |           50 |     0.0422751   |            5 |          |\n",
      "| DEFAULT_d5cba_00002 | PENDING  |                 |           30 |     0.0195957   |           10 |          |\n",
      "| DEFAULT_d5cba_00003 | PENDING  |                 |           10 |     0.00277116  |            5 |          |\n",
      "| DEFAULT_d5cba_00004 | PENDING  |                 |           50 |     0.00902094  |            5 |          |\n",
      "| DEFAULT_d5cba_00005 | PENDING  |                 |          100 |     0.00939863  |            4 |          |\n",
      "| DEFAULT_d5cba_00006 | PENDING  |                 |           10 |     0.000111693 |            5 |          |\n",
      "| DEFAULT_d5cba_00007 | PENDING  |                 |           30 |     0.000258208 |            5 |          |\n",
      "| DEFAULT_d5cba_00008 | PENDING  |                 |           10 |     0.000173604 |            4 |          |\n",
      "| DEFAULT_d5cba_00009 | PENDING  |                 |           10 |     0.0454214   |            5 |          |\n",
      "+---------------------+----------+-----------------+--------------+-----------------+--------------+----------+\n",
      "\n",
      "\n",
      "Result for DEFAULT_d5cba_00000:\n",
      "  accuracy: 0.6833333333333333\n",
      "  date: 2021-12-22_15-40-05\n",
      "  done: false\n",
      "  experiment_id: 1b2fe05d824b4c3c9e31e7af0dbc700f\n",
      "  hostname: WSTOMAS21\n",
      "  iterations_since_restore: 8\n",
      "  loss: 0.8849095702171326\n",
      "  node_ip: 127.0.0.1\n",
      "  pid: 14084\n",
      "  should_checkpoint: true\n",
      "  time_since_restore: 83.29764795303345\n",
      "  time_this_iter_s: 9.960004329681396\n",
      "  time_total_s: 83.29764795303345\n",
      "  timestamp: 1640184005\n",
      "  timesteps_since_restore: 0\n",
      "  training_iteration: 8\n",
      "  trial_id: d5cba_00000\n",
      "  \n"
     ]
    },
    {
     "name": "stderr",
     "output_type": "stream",
     "text": [
      "100%|██████████| 4/4 [00:04<00:00,  1.18s/it]\n",
      "  0%|          | 0/9 [00:00<?, ?it/s]\n",
      " 11%|█         | 1/9 [00:04<00:35,  4.49s/it]\n",
      " 22%|██▏       | 2/9 [00:04<00:13,  1.98s/it]\n"
     ]
    },
    {
     "name": "stdout",
     "output_type": "stream",
     "text": [
      "== Status ==\n",
      "Current time: 2021-12-22 15:40:10 (running for 00:01:38.32)\n",
      "Memory usage on this node: 18.1/47.6 GiB\n",
      "Using AsyncHyperBand: num_stopped=0\n",
      "Bracket: Iter 8.000: -0.8849095702171326 | Iter 4.000: -0.8930027633905411 | Iter 2.000: -0.9153856784105301 | Iter 1.000: -0.9362159222364426\n",
      "Resources requested: 1.0/24 CPUs, 1.0/2 GPUs, 0.0/37.98 GiB heap, 0.0/18.99 GiB objects\n",
      "Result logdir: C:\\Users\\Tomas\\ray_results\\DEFAULT_2021-12-22_15-38-31\n",
      "Number of trials: 10/10 (9 PENDING, 1 RUNNING)\n",
      "+---------------------+----------+-----------------+--------------+-----------------+--------------+---------+\n",
      "| Trial name          | status   | loc             |   batch_size |   learning_rate |   num_epochs |    loss |\n",
      "|---------------------+----------+-----------------+--------------+-----------------+--------------+---------|\n",
      "| DEFAULT_d5cba_00000 | RUNNING  | 127.0.0.1:14084 |           50 |     0.000109278 |           10 | 0.88491 |\n",
      "| DEFAULT_d5cba_00001 | PENDING  |                 |           50 |     0.0422751   |            5 |         |\n",
      "| DEFAULT_d5cba_00002 | PENDING  |                 |           30 |     0.0195957   |           10 |         |\n",
      "| DEFAULT_d5cba_00003 | PENDING  |                 |           10 |     0.00277116  |            5 |         |\n",
      "| DEFAULT_d5cba_00004 | PENDING  |                 |           50 |     0.00902094  |            5 |         |\n",
      "| DEFAULT_d5cba_00005 | PENDING  |                 |          100 |     0.00939863  |            4 |         |\n",
      "| DEFAULT_d5cba_00006 | PENDING  |                 |           10 |     0.000111693 |            5 |         |\n",
      "| DEFAULT_d5cba_00007 | PENDING  |                 |           30 |     0.000258208 |            5 |         |\n",
      "| DEFAULT_d5cba_00008 | PENDING  |                 |           10 |     0.000173604 |            4 |         |\n",
      "| DEFAULT_d5cba_00009 | PENDING  |                 |           10 |     0.0454214   |            5 |         |\n",
      "+---------------------+----------+-----------------+--------------+-----------------+--------------+---------+\n",
      "\n",
      "\n"
     ]
    },
    {
     "name": "stderr",
     "output_type": "stream",
     "text": [
      "100%|██████████| 9/9 [00:05<00:00,  1.71it/s]\n",
      "  0%|          | 0/4 [00:00<?, ?it/s]\n",
      " 25%|██▌       | 1/4 [00:04<00:12,  4.27s/it]\n"
     ]
    },
    {
     "name": "stdout",
     "output_type": "stream",
     "text": [
      "Result for DEFAULT_d5cba_00000:\n",
      "  accuracy: 0.6833333333333333\n",
      "  date: 2021-12-22_15-40-15\n",
      "  done: false\n",
      "  experiment_id: 1b2fe05d824b4c3c9e31e7af0dbc700f\n",
      "  hostname: WSTOMAS21\n",
      "  iterations_since_restore: 9\n",
      "  loss: 0.8868657350540161\n",
      "  node_ip: 127.0.0.1\n",
      "  pid: 14084\n",
      "  should_checkpoint: true\n",
      "  time_since_restore: 93.6642861366272\n",
      "  time_this_iter_s: 10.36663818359375\n",
      "  time_total_s: 93.6642861366272\n",
      "  timestamp: 1640184015\n",
      "  timesteps_since_restore: 0\n",
      "  training_iteration: 9\n",
      "  trial_id: d5cba_00000\n",
      "  \n",
      "== Status ==\n",
      "Current time: 2021-12-22 15:40:15 (running for 00:01:43.45)\n",
      "Memory usage on this node: 18.0/47.6 GiB\n",
      "Using AsyncHyperBand: num_stopped=0\n",
      "Bracket: Iter 8.000: -0.8849095702171326 | Iter 4.000: -0.8930027633905411 | Iter 2.000: -0.9153856784105301 | Iter 1.000: -0.9362159222364426\n",
      "Resources requested: 1.0/24 CPUs, 1.0/2 GPUs, 0.0/37.98 GiB heap, 0.0/18.99 GiB objects\n",
      "Result logdir: C:\\Users\\Tomas\\ray_results\\DEFAULT_2021-12-22_15-38-31\n",
      "Number of trials: 10/10 (9 PENDING, 1 RUNNING)\n",
      "+---------------------+----------+-----------------+--------------+-----------------+--------------+----------+\n",
      "| Trial name          | status   | loc             |   batch_size |   learning_rate |   num_epochs |     loss |\n",
      "|---------------------+----------+-----------------+--------------+-----------------+--------------+----------|\n",
      "| DEFAULT_d5cba_00000 | RUNNING  | 127.0.0.1:14084 |           50 |     0.000109278 |           10 | 0.886866 |\n",
      "| DEFAULT_d5cba_00001 | PENDING  |                 |           50 |     0.0422751   |            5 |          |\n",
      "| DEFAULT_d5cba_00002 | PENDING  |                 |           30 |     0.0195957   |           10 |          |\n",
      "| DEFAULT_d5cba_00003 | PENDING  |                 |           10 |     0.00277116  |            5 |          |\n",
      "| DEFAULT_d5cba_00004 | PENDING  |                 |           50 |     0.00902094  |            5 |          |\n",
      "| DEFAULT_d5cba_00005 | PENDING  |                 |          100 |     0.00939863  |            4 |          |\n",
      "| DEFAULT_d5cba_00006 | PENDING  |                 |           10 |     0.000111693 |            5 |          |\n",
      "| DEFAULT_d5cba_00007 | PENDING  |                 |           30 |     0.000258208 |            5 |          |\n",
      "| DEFAULT_d5cba_00008 | PENDING  |                 |           10 |     0.000173604 |            4 |          |\n",
      "| DEFAULT_d5cba_00009 | PENDING  |                 |           10 |     0.0454214   |            5 |          |\n",
      "+---------------------+----------+-----------------+--------------+-----------------+--------------+----------+\n",
      "\n",
      "\n"
     ]
    },
    {
     "name": "stderr",
     "output_type": "stream",
     "text": [
      "100%|██████████| 4/4 [00:05<00:00,  1.26s/it]\n",
      "  0%|          | 0/9 [00:00<?, ?it/s]\n",
      " 11%|█         | 1/9 [00:04<00:37,  4.68s/it]\n",
      " 22%|██▏       | 2/9 [00:04<00:14,  2.01s/it]\n"
     ]
    },
    {
     "name": "stdout",
     "output_type": "stream",
     "text": [
      "== Status ==\n",
      "Current time: 2021-12-22 15:40:20 (running for 00:01:48.68)\n",
      "Memory usage on this node: 18.2/47.6 GiB\n",
      "Using AsyncHyperBand: num_stopped=0\n",
      "Bracket: Iter 8.000: -0.8849095702171326 | Iter 4.000: -0.8930027633905411 | Iter 2.000: -0.9153856784105301 | Iter 1.000: -0.9362159222364426\n",
      "Resources requested: 1.0/24 CPUs, 1.0/2 GPUs, 0.0/37.98 GiB heap, 0.0/18.99 GiB objects\n",
      "Result logdir: C:\\Users\\Tomas\\ray_results\\DEFAULT_2021-12-22_15-38-31\n",
      "Number of trials: 10/10 (9 PENDING, 1 RUNNING)\n",
      "+---------------------+----------+-----------------+--------------+-----------------+--------------+----------+\n",
      "| Trial name          | status   | loc             |   batch_size |   learning_rate |   num_epochs |     loss |\n",
      "|---------------------+----------+-----------------+--------------+-----------------+--------------+----------|\n",
      "| DEFAULT_d5cba_00000 | RUNNING  | 127.0.0.1:14084 |           50 |     0.000109278 |           10 | 0.886866 |\n",
      "| DEFAULT_d5cba_00001 | PENDING  |                 |           50 |     0.0422751   |            5 |          |\n",
      "| DEFAULT_d5cba_00002 | PENDING  |                 |           30 |     0.0195957   |           10 |          |\n",
      "| DEFAULT_d5cba_00003 | PENDING  |                 |           10 |     0.00277116  |            5 |          |\n",
      "| DEFAULT_d5cba_00004 | PENDING  |                 |           50 |     0.00902094  |            5 |          |\n",
      "| DEFAULT_d5cba_00005 | PENDING  |                 |          100 |     0.00939863  |            4 |          |\n",
      "| DEFAULT_d5cba_00006 | PENDING  |                 |           10 |     0.000111693 |            5 |          |\n",
      "| DEFAULT_d5cba_00007 | PENDING  |                 |           30 |     0.000258208 |            5 |          |\n",
      "| DEFAULT_d5cba_00008 | PENDING  |                 |           10 |     0.000173604 |            4 |          |\n",
      "| DEFAULT_d5cba_00009 | PENDING  |                 |           10 |     0.0454214   |            5 |          |\n",
      "+---------------------+----------+-----------------+--------------+-----------------+--------------+----------+\n",
      "\n",
      "\n"
     ]
    },
    {
     "name": "stderr",
     "output_type": "stream",
     "text": [
      "100%|██████████| 9/9 [00:05<00:00,  1.65it/s]\n",
      "  0%|          | 0/4 [00:00<?, ?it/s]\n",
      " 25%|██▌       | 1/4 [00:04<00:13,  4.63s/it]\n"
     ]
    },
    {
     "name": "stdout",
     "output_type": "stream",
     "text": [
      "== Status ==\n",
      "Current time: 2021-12-22 15:40:25 (running for 00:01:53.90)\n",
      "Memory usage on this node: 18.2/47.6 GiB\n",
      "Using AsyncHyperBand: num_stopped=0\n",
      "Bracket: Iter 8.000: -0.8849095702171326 | Iter 4.000: -0.8930027633905411 | Iter 2.000: -0.9153856784105301 | Iter 1.000: -0.9362159222364426\n",
      "Resources requested: 1.0/24 CPUs, 1.0/2 GPUs, 0.0/37.98 GiB heap, 0.0/18.99 GiB objects\n",
      "Result logdir: C:\\Users\\Tomas\\ray_results\\DEFAULT_2021-12-22_15-38-31\n",
      "Number of trials: 10/10 (9 PENDING, 1 RUNNING)\n",
      "+---------------------+----------+-----------------+--------------+-----------------+--------------+----------+\n",
      "| Trial name          | status   | loc             |   batch_size |   learning_rate |   num_epochs |     loss |\n",
      "|---------------------+----------+-----------------+--------------+-----------------+--------------+----------|\n",
      "| DEFAULT_d5cba_00000 | RUNNING  | 127.0.0.1:14084 |           50 |     0.000109278 |           10 | 0.886866 |\n",
      "| DEFAULT_d5cba_00001 | PENDING  |                 |           50 |     0.0422751   |            5 |          |\n",
      "| DEFAULT_d5cba_00002 | PENDING  |                 |           30 |     0.0195957   |           10 |          |\n",
      "| DEFAULT_d5cba_00003 | PENDING  |                 |           10 |     0.00277116  |            5 |          |\n",
      "| DEFAULT_d5cba_00004 | PENDING  |                 |           50 |     0.00902094  |            5 |          |\n",
      "| DEFAULT_d5cba_00005 | PENDING  |                 |          100 |     0.00939863  |            4 |          |\n",
      "| DEFAULT_d5cba_00006 | PENDING  |                 |           10 |     0.000111693 |            5 |          |\n",
      "| DEFAULT_d5cba_00007 | PENDING  |                 |           30 |     0.000258208 |            5 |          |\n",
      "| DEFAULT_d5cba_00008 | PENDING  |                 |           10 |     0.000173604 |            4 |          |\n",
      "| DEFAULT_d5cba_00009 | PENDING  |                 |           10 |     0.0454214   |            5 |          |\n",
      "+---------------------+----------+-----------------+--------------+-----------------+--------------+----------+\n",
      "\n",
      "\n"
     ]
    },
    {
     "name": "stderr",
     "output_type": "stream",
     "text": [
      "100%|██████████| 4/4 [00:05<00:00,  1.31s/it]\n"
     ]
    },
    {
     "name": "stdout",
     "output_type": "stream",
     "text": [
      "Result for DEFAULT_d5cba_00000:\n",
      "  accuracy: 0.6833333333333333\n",
      "  date: 2021-12-22_15-40-26\n",
      "  done: false\n",
      "  experiment_id: 1b2fe05d824b4c3c9e31e7af0dbc700f\n",
      "  hostname: WSTOMAS21\n",
      "  iterations_since_restore: 10\n",
      "  loss: 0.8882087022066116\n",
      "  node_ip: 127.0.0.1\n",
      "  pid: 14084\n",
      "  should_checkpoint: true\n",
      "  time_since_restore: 104.4571750164032\n",
      "  time_this_iter_s: 10.792888879776001\n",
      "  time_total_s: 104.4571750164032\n",
      "  timestamp: 1640184026\n",
      "  timesteps_since_restore: 0\n",
      "  training_iteration: 10\n",
      "  trial_id: d5cba_00000\n",
      "  \n",
      "Result for DEFAULT_d5cba_00000:\n",
      "  accuracy: 0.6833333333333333\n",
      "  date: 2021-12-22_15-40-26\n",
      "  done: true\n",
      "  experiment_id: 1b2fe05d824b4c3c9e31e7af0dbc700f\n",
      "  experiment_tag: 0_batch_size=50,learning_rate=0.00010928,num_epochs=10\n",
      "  hostname: WSTOMAS21\n",
      "  iterations_since_restore: 10\n",
      "  loss: 0.8882087022066116\n",
      "  node_ip: 127.0.0.1\n",
      "  pid: 14084\n",
      "  should_checkpoint: true\n",
      "  time_since_restore: 104.4571750164032\n",
      "  time_this_iter_s: 10.792888879776001\n",
      "  time_total_s: 104.4571750164032\n",
      "  timestamp: 1640184026\n",
      "  timesteps_since_restore: 0\n",
      "  training_iteration: 10\n",
      "  trial_id: d5cba_00000\n",
      "  \n",
      " pid=14084)\u001b[0m Finished\n",
      "== Status ==\n",
      "Current time: 2021-12-22 15:40:31 (running for 00:01:59.61)\n",
      "Memory usage on this node: 16.6/47.6 GiB\n",
      "Using AsyncHyperBand: num_stopped=0\n",
      "Bracket: Iter 8.000: -0.8849095702171326 | Iter 4.000: -0.8930027633905411 | Iter 2.000: -0.9153856784105301 | Iter 1.000: -0.9362159222364426\n",
      "Resources requested: 1.0/24 CPUs, 1.0/2 GPUs, 0.0/37.98 GiB heap, 0.0/18.99 GiB objects\n",
      "Result logdir: C:\\Users\\Tomas\\ray_results\\DEFAULT_2021-12-22_15-38-31\n",
      "Number of trials: 10/10 (8 PENDING, 1 RUNNING, 1 TERMINATED)\n",
      "+---------------------+------------+-----------------+--------------+-----------------+--------------+----------+\n",
      "| Trial name          | status     | loc             |   batch_size |   learning_rate |   num_epochs |     loss |\n",
      "|---------------------+------------+-----------------+--------------+-----------------+--------------+----------|\n",
      "| DEFAULT_d5cba_00001 | RUNNING    | 127.0.0.1:31928 |           50 |     0.0422751   |            5 |          |\n",
      "| DEFAULT_d5cba_00002 | PENDING    |                 |           30 |     0.0195957   |           10 |          |\n",
      "| DEFAULT_d5cba_00003 | PENDING    |                 |           10 |     0.00277116  |            5 |          |\n",
      "| DEFAULT_d5cba_00004 | PENDING    |                 |           50 |     0.00902094  |            5 |          |\n",
      "| DEFAULT_d5cba_00005 | PENDING    |                 |          100 |     0.00939863  |            4 |          |\n",
      "| DEFAULT_d5cba_00006 | PENDING    |                 |           10 |     0.000111693 |            5 |          |\n",
      "| DEFAULT_d5cba_00007 | PENDING    |                 |           30 |     0.000258208 |            5 |          |\n",
      "| DEFAULT_d5cba_00008 | PENDING    |                 |           10 |     0.000173604 |            4 |          |\n",
      "| DEFAULT_d5cba_00009 | PENDING    |                 |           10 |     0.0454214   |            5 |          |\n",
      "| DEFAULT_d5cba_00000 | TERMINATED | 127.0.0.1:14084 |           50 |     0.000109278 |           10 | 0.888209 |\n",
      "+---------------------+------------+-----------------+--------------+-----------------+--------------+----------+\n",
      "\n",
      "\n",
      "== Status ==\n",
      "Current time: 2021-12-22 15:40:37 (running for 00:02:05.65)\n",
      "Memory usage on this node: 17.6/47.6 GiB\n",
      "Using AsyncHyperBand: num_stopped=0\n",
      "Bracket: Iter 8.000: -0.8849095702171326 | Iter 4.000: -0.8930027633905411 | Iter 2.000: -0.9153856784105301 | Iter 1.000: -0.9362159222364426\n",
      "Resources requested: 1.0/24 CPUs, 1.0/2 GPUs, 0.0/37.98 GiB heap, 0.0/18.99 GiB objects\n",
      "Result logdir: C:\\Users\\Tomas\\ray_results\\DEFAULT_2021-12-22_15-38-31\n",
      "Number of trials: 10/10 (8 PENDING, 1 RUNNING, 1 TERMINATED)\n",
      "+---------------------+------------+-----------------+--------------+-----------------+--------------+----------+\n",
      "| Trial name          | status     | loc             |   batch_size |   learning_rate |   num_epochs |     loss |\n",
      "|---------------------+------------+-----------------+--------------+-----------------+--------------+----------|\n",
      "| DEFAULT_d5cba_00001 | RUNNING    | 127.0.0.1:31928 |           50 |     0.0422751   |            5 |          |\n",
      "| DEFAULT_d5cba_00002 | PENDING    |                 |           30 |     0.0195957   |           10 |          |\n",
      "| DEFAULT_d5cba_00003 | PENDING    |                 |           10 |     0.00277116  |            5 |          |\n",
      "| DEFAULT_d5cba_00004 | PENDING    |                 |           50 |     0.00902094  |            5 |          |\n",
      "| DEFAULT_d5cba_00005 | PENDING    |                 |          100 |     0.00939863  |            4 |          |\n",
      "| DEFAULT_d5cba_00006 | PENDING    |                 |           10 |     0.000111693 |            5 |          |\n",
      "| DEFAULT_d5cba_00007 | PENDING    |                 |           30 |     0.000258208 |            5 |          |\n",
      "| DEFAULT_d5cba_00008 | PENDING    |                 |           10 |     0.000173604 |            4 |          |\n",
      "| DEFAULT_d5cba_00009 | PENDING    |                 |           10 |     0.0454214   |            5 |          |\n",
      "| DEFAULT_d5cba_00000 | TERMINATED | 127.0.0.1:14084 |           50 |     0.000109278 |           10 | 0.888209 |\n",
      "+---------------------+------------+-----------------+--------------+-----------------+--------------+----------+\n",
      "\n",
      "\n"
     ]
    },
    {
     "name": "stderr",
     "output_type": "stream",
     "text": [
      "  0%|          | 0/9 [00:00<?, ?it/s]\n"
     ]
    },
    {
     "name": "stdout",
     "output_type": "stream",
     "text": [
      "== Status ==\n",
      "Current time: 2021-12-22 15:40:42 (running for 00:02:10.87)\n",
      "Memory usage on this node: 18.0/47.6 GiB\n",
      "Using AsyncHyperBand: num_stopped=0\n",
      "Bracket: Iter 8.000: -0.8849095702171326 | Iter 4.000: -0.8930027633905411 | Iter 2.000: -0.9153856784105301 | Iter 1.000: -0.9362159222364426\n",
      "Resources requested: 1.0/24 CPUs, 1.0/2 GPUs, 0.0/37.98 GiB heap, 0.0/18.99 GiB objects\n",
      "Result logdir: C:\\Users\\Tomas\\ray_results\\DEFAULT_2021-12-22_15-38-31\n",
      "Number of trials: 10/10 (8 PENDING, 1 RUNNING, 1 TERMINATED)\n",
      "+---------------------+------------+-----------------+--------------+-----------------+--------------+----------+\n",
      "| Trial name          | status     | loc             |   batch_size |   learning_rate |   num_epochs |     loss |\n",
      "|---------------------+------------+-----------------+--------------+-----------------+--------------+----------|\n",
      "| DEFAULT_d5cba_00001 | RUNNING    | 127.0.0.1:31928 |           50 |     0.0422751   |            5 |          |\n",
      "| DEFAULT_d5cba_00002 | PENDING    |                 |           30 |     0.0195957   |           10 |          |\n",
      "| DEFAULT_d5cba_00003 | PENDING    |                 |           10 |     0.00277116  |            5 |          |\n",
      "| DEFAULT_d5cba_00004 | PENDING    |                 |           50 |     0.00902094  |            5 |          |\n",
      "| DEFAULT_d5cba_00005 | PENDING    |                 |          100 |     0.00939863  |            4 |          |\n",
      "| DEFAULT_d5cba_00006 | PENDING    |                 |           10 |     0.000111693 |            5 |          |\n",
      "| DEFAULT_d5cba_00007 | PENDING    |                 |           30 |     0.000258208 |            5 |          |\n",
      "| DEFAULT_d5cba_00008 | PENDING    |                 |           10 |     0.000173604 |            4 |          |\n",
      "| DEFAULT_d5cba_00009 | PENDING    |                 |           10 |     0.0454214   |            5 |          |\n",
      "| DEFAULT_d5cba_00000 | TERMINATED | 127.0.0.1:14084 |           50 |     0.000109278 |           10 | 0.888209 |\n",
      "+---------------------+------------+-----------------+--------------+-----------------+--------------+----------+\n",
      "\n",
      "\n"
     ]
    },
    {
     "name": "stderr",
     "output_type": "stream",
     "text": [
      " 11%|█         | 1/9 [00:04<00:38,  4.87s/it]\n",
      "100%|██████████| 9/9 [00:05<00:00,  1.64it/s]\n",
      "  0%|          | 0/4 [00:00<?, ?it/s]\n"
     ]
    },
    {
     "name": "stdout",
     "output_type": "stream",
     "text": [
      "== Status ==\n",
      "Current time: 2021-12-22 15:40:48 (running for 00:02:16.06)\n",
      "Memory usage on this node: 18.2/47.6 GiB\n",
      "Using AsyncHyperBand: num_stopped=0\n",
      "Bracket: Iter 8.000: -0.8849095702171326 | Iter 4.000: -0.8930027633905411 | Iter 2.000: -0.9153856784105301 | Iter 1.000: -0.9362159222364426\n",
      "Resources requested: 1.0/24 CPUs, 1.0/2 GPUs, 0.0/37.98 GiB heap, 0.0/18.99 GiB objects\n",
      "Result logdir: C:\\Users\\Tomas\\ray_results\\DEFAULT_2021-12-22_15-38-31\n",
      "Number of trials: 10/10 (8 PENDING, 1 RUNNING, 1 TERMINATED)\n",
      "+---------------------+------------+-----------------+--------------+-----------------+--------------+----------+\n",
      "| Trial name          | status     | loc             |   batch_size |   learning_rate |   num_epochs |     loss |\n",
      "|---------------------+------------+-----------------+--------------+-----------------+--------------+----------|\n",
      "| DEFAULT_d5cba_00001 | RUNNING    | 127.0.0.1:31928 |           50 |     0.0422751   |            5 |          |\n",
      "| DEFAULT_d5cba_00002 | PENDING    |                 |           30 |     0.0195957   |           10 |          |\n",
      "| DEFAULT_d5cba_00003 | PENDING    |                 |           10 |     0.00277116  |            5 |          |\n",
      "| DEFAULT_d5cba_00004 | PENDING    |                 |           50 |     0.00902094  |            5 |          |\n",
      "| DEFAULT_d5cba_00005 | PENDING    |                 |          100 |     0.00939863  |            4 |          |\n",
      "| DEFAULT_d5cba_00006 | PENDING    |                 |           10 |     0.000111693 |            5 |          |\n",
      "| DEFAULT_d5cba_00007 | PENDING    |                 |           30 |     0.000258208 |            5 |          |\n",
      "| DEFAULT_d5cba_00008 | PENDING    |                 |           10 |     0.000173604 |            4 |          |\n",
      "| DEFAULT_d5cba_00009 | PENDING    |                 |           10 |     0.0454214   |            5 |          |\n",
      "| DEFAULT_d5cba_00000 | TERMINATED | 127.0.0.1:14084 |           50 |     0.000109278 |           10 | 0.888209 |\n",
      "+---------------------+------------+-----------------+--------------+-----------------+--------------+----------+\n",
      "\n",
      "\n"
     ]
    },
    {
     "name": "stderr",
     "output_type": "stream",
     "text": [
      " 25%|██▌       | 1/4 [00:04<00:12,  4.26s/it]\n",
      "100%|██████████| 4/4 [00:04<00:00,  1.18s/it]\n"
     ]
    },
    {
     "name": "stdout",
     "output_type": "stream",
     "text": [
      "Result for DEFAULT_d5cba_00001:\n",
      "  accuracy: 0.6833333333333333\n",
      "  date: 2021-12-22_15-40-49\n",
      "  done: true\n",
      "  experiment_id: 42bab95469e946579243de2c269e2984\n",
      "  hostname: WSTOMAS21\n",
      "  iterations_since_restore: 1\n",
      "  loss: 0.9667560011148453\n",
      "  node_ip: 127.0.0.1\n",
      "  pid: 31928\n",
      "  should_checkpoint: true\n",
      "  time_since_restore: 14.514381885528564\n",
      "  time_this_iter_s: 14.514381885528564\n",
      "  time_total_s: 14.514381885528564\n",
      "  timestamp: 1640184049\n",
      "  timesteps_since_restore: 0\n",
      "  training_iteration: 1\n",
      "  trial_id: d5cba_00001\n",
      "  \n",
      "== Status ==\n",
      "Current time: 2021-12-22 15:40:53 (running for 00:02:21.28)\n",
      "Memory usage on this node: 16.6/47.6 GiB\n",
      "Using AsyncHyperBand: num_stopped=1\n",
      "Bracket: Iter 8.000: -0.8849095702171326 | Iter 4.000: -0.8930027633905411 | Iter 2.000: -0.9153856784105301 | Iter 1.000: -0.9514859616756439\n",
      "Resources requested: 1.0/24 CPUs, 1.0/2 GPUs, 0.0/37.98 GiB heap, 0.0/18.99 GiB objects\n",
      "Result logdir: C:\\Users\\Tomas\\ray_results\\DEFAULT_2021-12-22_15-38-31\n",
      "Number of trials: 10/10 (7 PENDING, 1 RUNNING, 2 TERMINATED)\n",
      "+---------------------+------------+-----------------+--------------+-----------------+--------------+----------+\n",
      "| Trial name          | status     | loc             |   batch_size |   learning_rate |   num_epochs |     loss |\n",
      "|---------------------+------------+-----------------+--------------+-----------------+--------------+----------|\n",
      "| DEFAULT_d5cba_00002 | RUNNING    | 127.0.0.1:21996 |           30 |     0.0195957   |           10 |          |\n",
      "| DEFAULT_d5cba_00003 | PENDING    |                 |           10 |     0.00277116  |            5 |          |\n",
      "| DEFAULT_d5cba_00004 | PENDING    |                 |           50 |     0.00902094  |            5 |          |\n",
      "| DEFAULT_d5cba_00005 | PENDING    |                 |          100 |     0.00939863  |            4 |          |\n",
      "| DEFAULT_d5cba_00006 | PENDING    |                 |           10 |     0.000111693 |            5 |          |\n",
      "| DEFAULT_d5cba_00007 | PENDING    |                 |           30 |     0.000258208 |            5 |          |\n",
      "| DEFAULT_d5cba_00008 | PENDING    |                 |           10 |     0.000173604 |            4 |          |\n",
      "| DEFAULT_d5cba_00009 | PENDING    |                 |           10 |     0.0454214   |            5 |          |\n",
      "| DEFAULT_d5cba_00000 | TERMINATED | 127.0.0.1:14084 |           50 |     0.000109278 |           10 | 0.888209 |\n",
      "| DEFAULT_d5cba_00001 | TERMINATED | 127.0.0.1:31928 |           50 |     0.0422751   |            5 | 0.966756 |\n",
      "+---------------------+------------+-----------------+--------------+-----------------+--------------+----------+\n",
      "\n",
      "\n",
      "== Status ==\n",
      "Current time: 2021-12-22 15:40:58 (running for 00:02:26.55)\n",
      "Memory usage on this node: 17.0/47.6 GiB\n",
      "Using AsyncHyperBand: num_stopped=1\n",
      "Bracket: Iter 8.000: -0.8849095702171326 | Iter 4.000: -0.8930027633905411 | Iter 2.000: -0.9153856784105301 | Iter 1.000: -0.9514859616756439\n",
      "Resources requested: 1.0/24 CPUs, 1.0/2 GPUs, 0.0/37.98 GiB heap, 0.0/18.99 GiB objects\n",
      "Result logdir: C:\\Users\\Tomas\\ray_results\\DEFAULT_2021-12-22_15-38-31\n",
      "Number of trials: 10/10 (7 PENDING, 1 RUNNING, 2 TERMINATED)\n",
      "+---------------------+------------+-----------------+--------------+-----------------+--------------+----------+\n",
      "| Trial name          | status     | loc             |   batch_size |   learning_rate |   num_epochs |     loss |\n",
      "|---------------------+------------+-----------------+--------------+-----------------+--------------+----------|\n",
      "| DEFAULT_d5cba_00002 | RUNNING    | 127.0.0.1:21996 |           30 |     0.0195957   |           10 |          |\n",
      "| DEFAULT_d5cba_00003 | PENDING    |                 |           10 |     0.00277116  |            5 |          |\n",
      "| DEFAULT_d5cba_00004 | PENDING    |                 |           50 |     0.00902094  |            5 |          |\n",
      "| DEFAULT_d5cba_00005 | PENDING    |                 |          100 |     0.00939863  |            4 |          |\n",
      "| DEFAULT_d5cba_00006 | PENDING    |                 |           10 |     0.000111693 |            5 |          |\n",
      "| DEFAULT_d5cba_00007 | PENDING    |                 |           30 |     0.000258208 |            5 |          |\n",
      "| DEFAULT_d5cba_00008 | PENDING    |                 |           10 |     0.000173604 |            4 |          |\n",
      "| DEFAULT_d5cba_00009 | PENDING    |                 |           10 |     0.0454214   |            5 |          |\n",
      "| DEFAULT_d5cba_00000 | TERMINATED | 127.0.0.1:14084 |           50 |     0.000109278 |           10 | 0.888209 |\n",
      "| DEFAULT_d5cba_00001 | TERMINATED | 127.0.0.1:31928 |           50 |     0.0422751   |            5 | 0.966756 |\n",
      "+---------------------+------------+-----------------+--------------+-----------------+--------------+----------+\n",
      "\n",
      "\n"
     ]
    },
    {
     "name": "stderr",
     "output_type": "stream",
     "text": [
      "  0%|          | 0/14 [00:00<?, ?it/s]\n"
     ]
    },
    {
     "name": "stdout",
     "output_type": "stream",
     "text": [
      "== Status ==\n",
      "Current time: 2021-12-22 15:41:03 (running for 00:02:31.74)\n",
      "Memory usage on this node: 17.9/47.6 GiB\n",
      "Using AsyncHyperBand: num_stopped=1\n",
      "Bracket: Iter 8.000: -0.8849095702171326 | Iter 4.000: -0.8930027633905411 | Iter 2.000: -0.9153856784105301 | Iter 1.000: -0.9514859616756439\n",
      "Resources requested: 1.0/24 CPUs, 1.0/2 GPUs, 0.0/37.98 GiB heap, 0.0/18.99 GiB objects\n",
      "Result logdir: C:\\Users\\Tomas\\ray_results\\DEFAULT_2021-12-22_15-38-31\n",
      "Number of trials: 10/10 (7 PENDING, 1 RUNNING, 2 TERMINATED)\n",
      "+---------------------+------------+-----------------+--------------+-----------------+--------------+----------+\n",
      "| Trial name          | status     | loc             |   batch_size |   learning_rate |   num_epochs |     loss |\n",
      "|---------------------+------------+-----------------+--------------+-----------------+--------------+----------|\n",
      "| DEFAULT_d5cba_00002 | RUNNING    | 127.0.0.1:21996 |           30 |     0.0195957   |           10 |          |\n",
      "| DEFAULT_d5cba_00003 | PENDING    |                 |           10 |     0.00277116  |            5 |          |\n",
      "| DEFAULT_d5cba_00004 | PENDING    |                 |           50 |     0.00902094  |            5 |          |\n",
      "| DEFAULT_d5cba_00005 | PENDING    |                 |          100 |     0.00939863  |            4 |          |\n",
      "| DEFAULT_d5cba_00006 | PENDING    |                 |           10 |     0.000111693 |            5 |          |\n",
      "| DEFAULT_d5cba_00007 | PENDING    |                 |           30 |     0.000258208 |            5 |          |\n",
      "| DEFAULT_d5cba_00008 | PENDING    |                 |           10 |     0.000173604 |            4 |          |\n",
      "| DEFAULT_d5cba_00009 | PENDING    |                 |           10 |     0.0454214   |            5 |          |\n",
      "| DEFAULT_d5cba_00000 | TERMINATED | 127.0.0.1:14084 |           50 |     0.000109278 |           10 | 0.888209 |\n",
      "| DEFAULT_d5cba_00001 | TERMINATED | 127.0.0.1:31928 |           50 |     0.0422751   |            5 | 0.966756 |\n",
      "+---------------------+------------+-----------------+--------------+-----------------+--------------+----------+\n",
      "\n",
      "\n"
     ]
    },
    {
     "name": "stderr",
     "output_type": "stream",
     "text": [
      "  7%|▋         | 1/14 [00:04<01:04,  4.93s/it]\n",
      "100%|██████████| 14/14 [00:05<00:00,  2.51it/s]\n",
      "  0%|          | 0/6 [00:00<?, ?it/s]\n"
     ]
    },
    {
     "name": "stdout",
     "output_type": "stream",
     "text": [
      "== Status ==\n",
      "Current time: 2021-12-22 15:41:08 (running for 00:02:36.94)\n",
      "Memory usage on this node: 18.1/47.6 GiB\n",
      "Using AsyncHyperBand: num_stopped=1\n",
      "Bracket: Iter 8.000: -0.8849095702171326 | Iter 4.000: -0.8930027633905411 | Iter 2.000: -0.9153856784105301 | Iter 1.000: -0.9514859616756439\n",
      "Resources requested: 1.0/24 CPUs, 1.0/2 GPUs, 0.0/37.98 GiB heap, 0.0/18.99 GiB objects\n",
      "Result logdir: C:\\Users\\Tomas\\ray_results\\DEFAULT_2021-12-22_15-38-31\n",
      "Number of trials: 10/10 (7 PENDING, 1 RUNNING, 2 TERMINATED)\n",
      "+---------------------+------------+-----------------+--------------+-----------------+--------------+----------+\n",
      "| Trial name          | status     | loc             |   batch_size |   learning_rate |   num_epochs |     loss |\n",
      "|---------------------+------------+-----------------+--------------+-----------------+--------------+----------|\n",
      "| DEFAULT_d5cba_00002 | RUNNING    | 127.0.0.1:21996 |           30 |     0.0195957   |           10 |          |\n",
      "| DEFAULT_d5cba_00003 | PENDING    |                 |           10 |     0.00277116  |            5 |          |\n",
      "| DEFAULT_d5cba_00004 | PENDING    |                 |           50 |     0.00902094  |            5 |          |\n",
      "| DEFAULT_d5cba_00005 | PENDING    |                 |          100 |     0.00939863  |            4 |          |\n",
      "| DEFAULT_d5cba_00006 | PENDING    |                 |           10 |     0.000111693 |            5 |          |\n",
      "| DEFAULT_d5cba_00007 | PENDING    |                 |           30 |     0.000258208 |            5 |          |\n",
      "| DEFAULT_d5cba_00008 | PENDING    |                 |           10 |     0.000173604 |            4 |          |\n",
      "| DEFAULT_d5cba_00009 | PENDING    |                 |           10 |     0.0454214   |            5 |          |\n",
      "| DEFAULT_d5cba_00000 | TERMINATED | 127.0.0.1:14084 |           50 |     0.000109278 |           10 | 0.888209 |\n",
      "| DEFAULT_d5cba_00001 | TERMINATED | 127.0.0.1:31928 |           50 |     0.0422751   |            5 | 0.966756 |\n",
      "+---------------------+------------+-----------------+--------------+-----------------+--------------+----------+\n",
      "\n",
      "\n"
     ]
    },
    {
     "name": "stderr",
     "output_type": "stream",
     "text": [
      " 17%|█▋        | 1/6 [00:04<00:21,  4.23s/it]\n"
     ]
    },
    {
     "name": "stdout",
     "output_type": "stream",
     "text": [
      "Result for DEFAULT_d5cba_00002:\n",
      "  accuracy: 0.6833333333333333\n",
      "  date: 2021-12-22_15-41-12\n",
      "  done: true\n",
      "  experiment_id: 30746b27566f4ac7a8029649c1fe34d4\n",
      "  hostname: WSTOMAS21\n",
      "  iterations_since_restore: 1\n",
      "  loss: 0.9975219567616781\n",
      "  node_ip: 127.0.0.1\n",
      "  pid: 21996\n",
      "  should_checkpoint: true\n",
      "  time_since_restore: 14.560115337371826\n",
      "  time_this_iter_s: 14.560115337371826\n",
      "  time_total_s: 14.560115337371826\n",
      "  timestamp: 1640184072\n",
      "  timesteps_since_restore: 0\n",
      "  training_iteration: 1\n",
      "  trial_id: d5cba_00002\n",
      "  \n"
     ]
    },
    {
     "name": "stderr",
     "output_type": "stream",
     "text": [
      "100%|██████████| 6/6 [00:04<00:00,  1.27it/s]\n"
     ]
    },
    {
     "name": "stdout",
     "output_type": "stream",
     "text": [
      "== Status ==\n",
      "Current time: 2021-12-22 15:41:14 (running for 00:02:42.29)\n",
      "Memory usage on this node: 16.6/47.6 GiB\n",
      "Using AsyncHyperBand: num_stopped=2\n",
      "Bracket: Iter 8.000: -0.8849095702171326 | Iter 4.000: -0.8930027633905411 | Iter 2.000: -0.9153856784105301 | Iter 1.000: -0.9667560011148453\n",
      "Resources requested: 1.0/24 CPUs, 1.0/2 GPUs, 0.0/37.98 GiB heap, 0.0/18.99 GiB objects\n",
      "Result logdir: C:\\Users\\Tomas\\ray_results\\DEFAULT_2021-12-22_15-38-31\n",
      "Number of trials: 10/10 (6 PENDING, 1 RUNNING, 3 TERMINATED)\n",
      "+---------------------+------------+-----------------+--------------+-----------------+--------------+----------+\n",
      "| Trial name          | status     | loc             |   batch_size |   learning_rate |   num_epochs |     loss |\n",
      "|---------------------+------------+-----------------+--------------+-----------------+--------------+----------|\n",
      "| DEFAULT_d5cba_00003 | RUNNING    | 127.0.0.1:22080 |           10 |     0.00277116  |            5 |          |\n",
      "| DEFAULT_d5cba_00004 | PENDING    |                 |           50 |     0.00902094  |            5 |          |\n",
      "| DEFAULT_d5cba_00005 | PENDING    |                 |          100 |     0.00939863  |            4 |          |\n",
      "| DEFAULT_d5cba_00006 | PENDING    |                 |           10 |     0.000111693 |            5 |          |\n",
      "| DEFAULT_d5cba_00007 | PENDING    |                 |           30 |     0.000258208 |            5 |          |\n",
      "| DEFAULT_d5cba_00008 | PENDING    |                 |           10 |     0.000173604 |            4 |          |\n",
      "| DEFAULT_d5cba_00009 | PENDING    |                 |           10 |     0.0454214   |            5 |          |\n",
      "| DEFAULT_d5cba_00000 | TERMINATED | 127.0.0.1:14084 |           50 |     0.000109278 |           10 | 0.888209 |\n",
      "| DEFAULT_d5cba_00001 | TERMINATED | 127.0.0.1:31928 |           50 |     0.0422751   |            5 | 0.966756 |\n",
      "| DEFAULT_d5cba_00002 | TERMINATED | 127.0.0.1:21996 |           30 |     0.0195957   |           10 | 0.997522 |\n",
      "+---------------------+------------+-----------------+--------------+-----------------+--------------+----------+\n",
      "\n",
      "\n",
      "== Status ==\n",
      "Current time: 2021-12-22 15:41:21 (running for 00:02:48.95)\n",
      "Memory usage on this node: 17.1/47.6 GiB\n",
      "Using AsyncHyperBand: num_stopped=2\n",
      "Bracket: Iter 8.000: -0.8849095702171326 | Iter 4.000: -0.8930027633905411 | Iter 2.000: -0.9153856784105301 | Iter 1.000: -0.9667560011148453\n",
      "Resources requested: 1.0/24 CPUs, 1.0/2 GPUs, 0.0/37.98 GiB heap, 0.0/18.99 GiB objects\n",
      "Result logdir: C:\\Users\\Tomas\\ray_results\\DEFAULT_2021-12-22_15-38-31\n",
      "Number of trials: 10/10 (6 PENDING, 1 RUNNING, 3 TERMINATED)\n",
      "+---------------------+------------+-----------------+--------------+-----------------+--------------+----------+\n",
      "| Trial name          | status     | loc             |   batch_size |   learning_rate |   num_epochs |     loss |\n",
      "|---------------------+------------+-----------------+--------------+-----------------+--------------+----------|\n",
      "| DEFAULT_d5cba_00003 | RUNNING    | 127.0.0.1:22080 |           10 |     0.00277116  |            5 |          |\n",
      "| DEFAULT_d5cba_00004 | PENDING    |                 |           50 |     0.00902094  |            5 |          |\n",
      "| DEFAULT_d5cba_00005 | PENDING    |                 |          100 |     0.00939863  |            4 |          |\n",
      "| DEFAULT_d5cba_00006 | PENDING    |                 |           10 |     0.000111693 |            5 |          |\n",
      "| DEFAULT_d5cba_00007 | PENDING    |                 |           30 |     0.000258208 |            5 |          |\n",
      "| DEFAULT_d5cba_00008 | PENDING    |                 |           10 |     0.000173604 |            4 |          |\n",
      "| DEFAULT_d5cba_00009 | PENDING    |                 |           10 |     0.0454214   |            5 |          |\n",
      "| DEFAULT_d5cba_00000 | TERMINATED | 127.0.0.1:14084 |           50 |     0.000109278 |           10 | 0.888209 |\n",
      "| DEFAULT_d5cba_00001 | TERMINATED | 127.0.0.1:31928 |           50 |     0.0422751   |            5 | 0.966756 |\n",
      "| DEFAULT_d5cba_00002 | TERMINATED | 127.0.0.1:21996 |           30 |     0.0195957   |           10 | 0.997522 |\n",
      "+---------------------+------------+-----------------+--------------+-----------------+--------------+----------+\n",
      "\n",
      "\n"
     ]
    },
    {
     "name": "stderr",
     "output_type": "stream",
     "text": [
      "  0%|          | 0/42 [00:00<?, ?it/s]\n"
     ]
    },
    {
     "name": "stdout",
     "output_type": "stream",
     "text": [
      "== Status ==\n",
      "Current time: 2021-12-22 15:41:26 (running for 00:02:54.11)\n",
      "Memory usage on this node: 17.9/47.6 GiB\n",
      "Using AsyncHyperBand: num_stopped=2\n",
      "Bracket: Iter 8.000: -0.8849095702171326 | Iter 4.000: -0.8930027633905411 | Iter 2.000: -0.9153856784105301 | Iter 1.000: -0.9667560011148453\n",
      "Resources requested: 1.0/24 CPUs, 1.0/2 GPUs, 0.0/37.98 GiB heap, 0.0/18.99 GiB objects\n",
      "Result logdir: C:\\Users\\Tomas\\ray_results\\DEFAULT_2021-12-22_15-38-31\n",
      "Number of trials: 10/10 (6 PENDING, 1 RUNNING, 3 TERMINATED)\n",
      "+---------------------+------------+-----------------+--------------+-----------------+--------------+----------+\n",
      "| Trial name          | status     | loc             |   batch_size |   learning_rate |   num_epochs |     loss |\n",
      "|---------------------+------------+-----------------+--------------+-----------------+--------------+----------|\n",
      "| DEFAULT_d5cba_00003 | RUNNING    | 127.0.0.1:22080 |           10 |     0.00277116  |            5 |          |\n",
      "| DEFAULT_d5cba_00004 | PENDING    |                 |           50 |     0.00902094  |            5 |          |\n",
      "| DEFAULT_d5cba_00005 | PENDING    |                 |          100 |     0.00939863  |            4 |          |\n",
      "| DEFAULT_d5cba_00006 | PENDING    |                 |           10 |     0.000111693 |            5 |          |\n",
      "| DEFAULT_d5cba_00007 | PENDING    |                 |           30 |     0.000258208 |            5 |          |\n",
      "| DEFAULT_d5cba_00008 | PENDING    |                 |           10 |     0.000173604 |            4 |          |\n",
      "| DEFAULT_d5cba_00009 | PENDING    |                 |           10 |     0.0454214   |            5 |          |\n",
      "| DEFAULT_d5cba_00000 | TERMINATED | 127.0.0.1:14084 |           50 |     0.000109278 |           10 | 0.888209 |\n",
      "| DEFAULT_d5cba_00001 | TERMINATED | 127.0.0.1:31928 |           50 |     0.0422751   |            5 | 0.966756 |\n",
      "| DEFAULT_d5cba_00002 | TERMINATED | 127.0.0.1:21996 |           30 |     0.0195957   |           10 | 0.997522 |\n",
      "+---------------------+------------+-----------------+--------------+-----------------+--------------+----------+\n",
      "\n",
      "\n"
     ]
    },
    {
     "name": "stderr",
     "output_type": "stream",
     "text": [
      "  2%|▏         | 1/42 [00:04<02:59,  4.37s/it]\n",
      " 57%|█████▋    | 24/42 [00:04<00:02,  7.49it/s]\n",
      "100%|██████████| 42/42 [00:04<00:00,  8.47it/s]\n",
      "  0%|          | 0/18 [00:00<?, ?it/s]\n"
     ]
    },
    {
     "name": "stdout",
     "output_type": "stream",
     "text": [
      "== Status ==\n",
      "Current time: 2021-12-22 15:41:31 (running for 00:02:59.28)\n",
      "Memory usage on this node: 18.1/47.6 GiB\n",
      "Using AsyncHyperBand: num_stopped=2\n",
      "Bracket: Iter 8.000: -0.8849095702171326 | Iter 4.000: -0.8930027633905411 | Iter 2.000: -0.9153856784105301 | Iter 1.000: -0.9667560011148453\n",
      "Resources requested: 1.0/24 CPUs, 1.0/2 GPUs, 0.0/37.98 GiB heap, 0.0/18.99 GiB objects\n",
      "Result logdir: C:\\Users\\Tomas\\ray_results\\DEFAULT_2021-12-22_15-38-31\n",
      "Number of trials: 10/10 (6 PENDING, 1 RUNNING, 3 TERMINATED)\n",
      "+---------------------+------------+-----------------+--------------+-----------------+--------------+----------+\n",
      "| Trial name          | status     | loc             |   batch_size |   learning_rate |   num_epochs |     loss |\n",
      "|---------------------+------------+-----------------+--------------+-----------------+--------------+----------|\n",
      "| DEFAULT_d5cba_00003 | RUNNING    | 127.0.0.1:22080 |           10 |     0.00277116  |            5 |          |\n",
      "| DEFAULT_d5cba_00004 | PENDING    |                 |           50 |     0.00902094  |            5 |          |\n",
      "| DEFAULT_d5cba_00005 | PENDING    |                 |          100 |     0.00939863  |            4 |          |\n",
      "| DEFAULT_d5cba_00006 | PENDING    |                 |           10 |     0.000111693 |            5 |          |\n",
      "| DEFAULT_d5cba_00007 | PENDING    |                 |           30 |     0.000258208 |            5 |          |\n",
      "| DEFAULT_d5cba_00008 | PENDING    |                 |           10 |     0.000173604 |            4 |          |\n",
      "| DEFAULT_d5cba_00009 | PENDING    |                 |           10 |     0.0454214   |            5 |          |\n",
      "| DEFAULT_d5cba_00000 | TERMINATED | 127.0.0.1:14084 |           50 |     0.000109278 |           10 | 0.888209 |\n",
      "| DEFAULT_d5cba_00001 | TERMINATED | 127.0.0.1:31928 |           50 |     0.0422751   |            5 | 0.966756 |\n",
      "| DEFAULT_d5cba_00002 | TERMINATED | 127.0.0.1:21996 |           30 |     0.0195957   |           10 | 0.997522 |\n",
      "+---------------------+------------+-----------------+--------------+-----------------+--------------+----------+\n",
      "\n",
      "\n"
     ]
    },
    {
     "name": "stderr",
     "output_type": "stream",
     "text": [
      "  6%|▌         | 1/18 [00:04<01:12,  4.25s/it]\n"
     ]
    },
    {
     "name": "stdout",
     "output_type": "stream",
     "text": [
      "Result for DEFAULT_d5cba_00003:\n",
      "  accuracy: 0.6833333333333333\n",
      "  date: 2021-12-22_15-41-33\n",
      "  done: false\n",
      "  experiment_id: 5efe9b5d2389450b87bc1214c0e7d9fa\n",
      "  hostname: WSTOMAS21\n",
      "  iterations_since_restore: 1\n",
      "  loss: 0.9581190860933728\n",
      "  node_ip: 127.0.0.1\n",
      "  pid: 22080\n",
      "  should_checkpoint: true\n",
      "  time_since_restore: 13.143901824951172\n",
      "  time_this_iter_s: 13.143901824951172\n",
      "  time_total_s: 13.143901824951172\n",
      "  timestamp: 1640184093\n",
      "  timesteps_since_restore: 0\n",
      "  training_iteration: 1\n",
      "  trial_id: d5cba_00003\n",
      "  \n"
     ]
    },
    {
     "name": "stderr",
     "output_type": "stream",
     "text": [
      "100%|██████████| 18/18 [00:04<00:00,  3.77it/s]\n",
      "  0%|          | 0/42 [00:00<?, ?it/s]\n"
     ]
    },
    {
     "name": "stdout",
     "output_type": "stream",
     "text": [
      "== Status ==\n",
      "Current time: 2021-12-22 15:41:37 (running for 00:03:05.25)\n",
      "Memory usage on this node: 18.2/47.6 GiB\n",
      "Using AsyncHyperBand: num_stopped=2\n",
      "Bracket: Iter 8.000: -0.8849095702171326 | Iter 4.000: -0.8930027633905411 | Iter 2.000: -0.9153856784105301 | Iter 1.000: -0.962437543604109\n",
      "Resources requested: 1.0/24 CPUs, 1.0/2 GPUs, 0.0/37.98 GiB heap, 0.0/18.99 GiB objects\n",
      "Result logdir: C:\\Users\\Tomas\\ray_results\\DEFAULT_2021-12-22_15-38-31\n",
      "Number of trials: 10/10 (6 PENDING, 1 RUNNING, 3 TERMINATED)\n",
      "+---------------------+------------+-----------------+--------------+-----------------+--------------+----------+\n",
      "| Trial name          | status     | loc             |   batch_size |   learning_rate |   num_epochs |     loss |\n",
      "|---------------------+------------+-----------------+--------------+-----------------+--------------+----------|\n",
      "| DEFAULT_d5cba_00003 | RUNNING    | 127.0.0.1:22080 |           10 |     0.00277116  |            5 | 0.958119 |\n",
      "| DEFAULT_d5cba_00004 | PENDING    |                 |           50 |     0.00902094  |            5 |          |\n",
      "| DEFAULT_d5cba_00005 | PENDING    |                 |          100 |     0.00939863  |            4 |          |\n",
      "| DEFAULT_d5cba_00006 | PENDING    |                 |           10 |     0.000111693 |            5 |          |\n",
      "| DEFAULT_d5cba_00007 | PENDING    |                 |           30 |     0.000258208 |            5 |          |\n",
      "| DEFAULT_d5cba_00008 | PENDING    |                 |           10 |     0.000173604 |            4 |          |\n",
      "| DEFAULT_d5cba_00009 | PENDING    |                 |           10 |     0.0454214   |            5 |          |\n",
      "| DEFAULT_d5cba_00000 | TERMINATED | 127.0.0.1:14084 |           50 |     0.000109278 |           10 | 0.888209 |\n",
      "| DEFAULT_d5cba_00001 | TERMINATED | 127.0.0.1:31928 |           50 |     0.0422751   |            5 | 0.966756 |\n",
      "| DEFAULT_d5cba_00002 | TERMINATED | 127.0.0.1:21996 |           30 |     0.0195957   |           10 | 0.997522 |\n",
      "+---------------------+------------+-----------------+--------------+-----------------+--------------+----------+\n",
      "\n",
      "\n"
     ]
    },
    {
     "name": "stderr",
     "output_type": "stream",
     "text": [
      "  2%|▏         | 1/42 [00:04<02:56,  4.30s/it]\n",
      "  5%|▍         | 2/42 [00:04<01:13,  1.84s/it]\n",
      " 60%|█████▉    | 25/42 [00:04<00:01, 10.55it/s]\n",
      "100%|██████████| 42/42 [00:05<00:00,  8.24it/s]\n",
      "  0%|          | 0/18 [00:00<?, ?it/s]\n"
     ]
    },
    {
     "name": "stdout",
     "output_type": "stream",
     "text": [
      "== Status ==\n",
      "Current time: 2021-12-22 15:41:42 (running for 00:03:10.43)\n",
      "Memory usage on this node: 18.2/47.6 GiB\n",
      "Using AsyncHyperBand: num_stopped=2\n",
      "Bracket: Iter 8.000: -0.8849095702171326 | Iter 4.000: -0.8930027633905411 | Iter 2.000: -0.9153856784105301 | Iter 1.000: -0.962437543604109\n",
      "Resources requested: 1.0/24 CPUs, 1.0/2 GPUs, 0.0/37.98 GiB heap, 0.0/18.99 GiB objects\n",
      "Result logdir: C:\\Users\\Tomas\\ray_results\\DEFAULT_2021-12-22_15-38-31\n",
      "Number of trials: 10/10 (6 PENDING, 1 RUNNING, 3 TERMINATED)\n",
      "+---------------------+------------+-----------------+--------------+-----------------+--------------+----------+\n",
      "| Trial name          | status     | loc             |   batch_size |   learning_rate |   num_epochs |     loss |\n",
      "|---------------------+------------+-----------------+--------------+-----------------+--------------+----------|\n",
      "| DEFAULT_d5cba_00003 | RUNNING    | 127.0.0.1:22080 |           10 |     0.00277116  |            5 | 0.958119 |\n",
      "| DEFAULT_d5cba_00004 | PENDING    |                 |           50 |     0.00902094  |            5 |          |\n",
      "| DEFAULT_d5cba_00005 | PENDING    |                 |          100 |     0.00939863  |            4 |          |\n",
      "| DEFAULT_d5cba_00006 | PENDING    |                 |           10 |     0.000111693 |            5 |          |\n",
      "| DEFAULT_d5cba_00007 | PENDING    |                 |           30 |     0.000258208 |            5 |          |\n",
      "| DEFAULT_d5cba_00008 | PENDING    |                 |           10 |     0.000173604 |            4 |          |\n",
      "| DEFAULT_d5cba_00009 | PENDING    |                 |           10 |     0.0454214   |            5 |          |\n",
      "| DEFAULT_d5cba_00000 | TERMINATED | 127.0.0.1:14084 |           50 |     0.000109278 |           10 | 0.888209 |\n",
      "| DEFAULT_d5cba_00001 | TERMINATED | 127.0.0.1:31928 |           50 |     0.0422751   |            5 | 0.966756 |\n",
      "| DEFAULT_d5cba_00002 | TERMINATED | 127.0.0.1:21996 |           30 |     0.0195957   |           10 | 0.997522 |\n",
      "+---------------------+------------+-----------------+--------------+-----------------+--------------+----------+\n",
      "\n",
      "\n"
     ]
    },
    {
     "name": "stderr",
     "output_type": "stream",
     "text": [
      "  6%|▌         | 1/18 [00:04<01:12,  4.24s/it]\n"
     ]
    },
    {
     "name": "stdout",
     "output_type": "stream",
     "text": [
      "Result for DEFAULT_d5cba_00003:\n",
      "  accuracy: 0.6833333333333333\n",
      "  date: 2021-12-22_15-41-43\n",
      "  done: true\n",
      "  experiment_id: 5efe9b5d2389450b87bc1214c0e7d9fa\n",
      "  hostname: WSTOMAS21\n",
      "  iterations_since_restore: 2\n",
      "  loss: 0.9478125704659356\n",
      "  node_ip: 127.0.0.1\n",
      "  pid: 22080\n",
      "  should_checkpoint: true\n",
      "  time_since_restore: 23.17283010482788\n",
      "  time_this_iter_s: 10.028928279876709\n",
      "  time_total_s: 23.17283010482788\n",
      "  timestamp: 1640184103\n",
      "  timesteps_since_restore: 0\n",
      "  training_iteration: 2\n",
      "  trial_id: d5cba_00003\n",
      "  \n"
     ]
    },
    {
     "name": "stderr",
     "output_type": "stream",
     "text": [
      "100%|██████████| 18/18 [00:04<00:00,  3.70it/s]\n"
     ]
    },
    {
     "name": "stdout",
     "output_type": "stream",
     "text": [
      "== Status ==\n",
      "Current time: 2021-12-22 15:41:48 (running for 00:03:16.41)\n",
      "Memory usage on this node: 16.6/47.6 GiB\n",
      "Using AsyncHyperBand: num_stopped=3\n",
      "Bracket: Iter 8.000: -0.8849095702171326 | Iter 4.000: -0.8930027633905411 | Iter 2.000: -0.9315991244382329 | Iter 1.000: -0.962437543604109\n",
      "Resources requested: 1.0/24 CPUs, 1.0/2 GPUs, 0.0/37.98 GiB heap, 0.0/18.99 GiB objects\n",
      "Result logdir: C:\\Users\\Tomas\\ray_results\\DEFAULT_2021-12-22_15-38-31\n",
      "Number of trials: 10/10 (5 PENDING, 1 RUNNING, 4 TERMINATED)\n",
      "+---------------------+------------+-----------------+--------------+-----------------+--------------+----------+\n",
      "| Trial name          | status     | loc             |   batch_size |   learning_rate |   num_epochs |     loss |\n",
      "|---------------------+------------+-----------------+--------------+-----------------+--------------+----------|\n",
      "| DEFAULT_d5cba_00004 | RUNNING    | 127.0.0.1:23468 |           50 |     0.00902094  |            5 |          |\n",
      "| DEFAULT_d5cba_00005 | PENDING    |                 |          100 |     0.00939863  |            4 |          |\n",
      "| DEFAULT_d5cba_00006 | PENDING    |                 |           10 |     0.000111693 |            5 |          |\n",
      "| DEFAULT_d5cba_00007 | PENDING    |                 |           30 |     0.000258208 |            5 |          |\n",
      "| DEFAULT_d5cba_00008 | PENDING    |                 |           10 |     0.000173604 |            4 |          |\n",
      "| DEFAULT_d5cba_00009 | PENDING    |                 |           10 |     0.0454214   |            5 |          |\n",
      "| DEFAULT_d5cba_00000 | TERMINATED | 127.0.0.1:14084 |           50 |     0.000109278 |           10 | 0.888209 |\n",
      "| DEFAULT_d5cba_00001 | TERMINATED | 127.0.0.1:31928 |           50 |     0.0422751   |            5 | 0.966756 |\n",
      "| DEFAULT_d5cba_00002 | TERMINATED | 127.0.0.1:21996 |           30 |     0.0195957   |           10 | 0.997522 |\n",
      "| DEFAULT_d5cba_00003 | TERMINATED | 127.0.0.1:22080 |           10 |     0.00277116  |            5 | 0.947813 |\n",
      "+---------------------+------------+-----------------+--------------+-----------------+--------------+----------+\n",
      "\n",
      "\n",
      "== Status ==\n",
      "Current time: 2021-12-22 15:41:53 (running for 00:03:21.81)\n",
      "Memory usage on this node: 17.3/47.6 GiB\n",
      "Using AsyncHyperBand: num_stopped=3\n",
      "Bracket: Iter 8.000: -0.8849095702171326 | Iter 4.000: -0.8930027633905411 | Iter 2.000: -0.9315991244382329 | Iter 1.000: -0.962437543604109\n",
      "Resources requested: 1.0/24 CPUs, 1.0/2 GPUs, 0.0/37.98 GiB heap, 0.0/18.99 GiB objects\n",
      "Result logdir: C:\\Users\\Tomas\\ray_results\\DEFAULT_2021-12-22_15-38-31\n",
      "Number of trials: 10/10 (5 PENDING, 1 RUNNING, 4 TERMINATED)\n",
      "+---------------------+------------+-----------------+--------------+-----------------+--------------+----------+\n",
      "| Trial name          | status     | loc             |   batch_size |   learning_rate |   num_epochs |     loss |\n",
      "|---------------------+------------+-----------------+--------------+-----------------+--------------+----------|\n",
      "| DEFAULT_d5cba_00004 | RUNNING    | 127.0.0.1:23468 |           50 |     0.00902094  |            5 |          |\n",
      "| DEFAULT_d5cba_00005 | PENDING    |                 |          100 |     0.00939863  |            4 |          |\n",
      "| DEFAULT_d5cba_00006 | PENDING    |                 |           10 |     0.000111693 |            5 |          |\n",
      "| DEFAULT_d5cba_00007 | PENDING    |                 |           30 |     0.000258208 |            5 |          |\n",
      "| DEFAULT_d5cba_00008 | PENDING    |                 |           10 |     0.000173604 |            4 |          |\n",
      "| DEFAULT_d5cba_00009 | PENDING    |                 |           10 |     0.0454214   |            5 |          |\n",
      "| DEFAULT_d5cba_00000 | TERMINATED | 127.0.0.1:14084 |           50 |     0.000109278 |           10 | 0.888209 |\n",
      "| DEFAULT_d5cba_00001 | TERMINATED | 127.0.0.1:31928 |           50 |     0.0422751   |            5 | 0.966756 |\n",
      "| DEFAULT_d5cba_00002 | TERMINATED | 127.0.0.1:21996 |           30 |     0.0195957   |           10 | 0.997522 |\n",
      "| DEFAULT_d5cba_00003 | TERMINATED | 127.0.0.1:22080 |           10 |     0.00277116  |            5 | 0.947813 |\n",
      "+---------------------+------------+-----------------+--------------+-----------------+--------------+----------+\n",
      "\n",
      "\n"
     ]
    },
    {
     "name": "stderr",
     "output_type": "stream",
     "text": [
      "  0%|          | 0/9 [00:00<?, ?it/s]\n"
     ]
    },
    {
     "name": "stdout",
     "output_type": "stream",
     "text": [
      "== Status ==\n",
      "Current time: 2021-12-22 15:41:59 (running for 00:03:27.01)\n",
      "Memory usage on this node: 17.9/47.6 GiB\n",
      "Using AsyncHyperBand: num_stopped=3\n",
      "Bracket: Iter 8.000: -0.8849095702171326 | Iter 4.000: -0.8930027633905411 | Iter 2.000: -0.9315991244382329 | Iter 1.000: -0.962437543604109\n",
      "Resources requested: 1.0/24 CPUs, 1.0/2 GPUs, 0.0/37.98 GiB heap, 0.0/18.99 GiB objects\n",
      "Result logdir: C:\\Users\\Tomas\\ray_results\\DEFAULT_2021-12-22_15-38-31\n",
      "Number of trials: 10/10 (5 PENDING, 1 RUNNING, 4 TERMINATED)\n",
      "+---------------------+------------+-----------------+--------------+-----------------+--------------+----------+\n",
      "| Trial name          | status     | loc             |   batch_size |   learning_rate |   num_epochs |     loss |\n",
      "|---------------------+------------+-----------------+--------------+-----------------+--------------+----------|\n",
      "| DEFAULT_d5cba_00004 | RUNNING    | 127.0.0.1:23468 |           50 |     0.00902094  |            5 |          |\n",
      "| DEFAULT_d5cba_00005 | PENDING    |                 |          100 |     0.00939863  |            4 |          |\n",
      "| DEFAULT_d5cba_00006 | PENDING    |                 |           10 |     0.000111693 |            5 |          |\n",
      "| DEFAULT_d5cba_00007 | PENDING    |                 |           30 |     0.000258208 |            5 |          |\n",
      "| DEFAULT_d5cba_00008 | PENDING    |                 |           10 |     0.000173604 |            4 |          |\n",
      "| DEFAULT_d5cba_00009 | PENDING    |                 |           10 |     0.0454214   |            5 |          |\n",
      "| DEFAULT_d5cba_00000 | TERMINATED | 127.0.0.1:14084 |           50 |     0.000109278 |           10 | 0.888209 |\n",
      "| DEFAULT_d5cba_00001 | TERMINATED | 127.0.0.1:31928 |           50 |     0.0422751   |            5 | 0.966756 |\n",
      "| DEFAULT_d5cba_00002 | TERMINATED | 127.0.0.1:21996 |           30 |     0.0195957   |           10 | 0.997522 |\n",
      "| DEFAULT_d5cba_00003 | TERMINATED | 127.0.0.1:22080 |           10 |     0.00277116  |            5 | 0.947813 |\n",
      "+---------------------+------------+-----------------+--------------+-----------------+--------------+----------+\n",
      "\n",
      "\n"
     ]
    },
    {
     "name": "stderr",
     "output_type": "stream",
     "text": [
      " 11%|█         | 1/9 [00:04<00:39,  4.90s/it]\n",
      "100%|██████████| 9/9 [00:05<00:00,  1.63it/s]\n",
      "  0%|          | 0/4 [00:00<?, ?it/s]\n"
     ]
    },
    {
     "name": "stdout",
     "output_type": "stream",
     "text": [
      "== Status ==\n",
      "Current time: 2021-12-22 15:42:04 (running for 00:03:32.25)\n",
      "Memory usage on this node: 18.1/47.6 GiB\n",
      "Using AsyncHyperBand: num_stopped=3\n",
      "Bracket: Iter 8.000: -0.8849095702171326 | Iter 4.000: -0.8930027633905411 | Iter 2.000: -0.9315991244382329 | Iter 1.000: -0.962437543604109\n",
      "Resources requested: 1.0/24 CPUs, 1.0/2 GPUs, 0.0/37.98 GiB heap, 0.0/18.99 GiB objects\n",
      "Result logdir: C:\\Users\\Tomas\\ray_results\\DEFAULT_2021-12-22_15-38-31\n",
      "Number of trials: 10/10 (5 PENDING, 1 RUNNING, 4 TERMINATED)\n",
      "+---------------------+------------+-----------------+--------------+-----------------+--------------+----------+\n",
      "| Trial name          | status     | loc             |   batch_size |   learning_rate |   num_epochs |     loss |\n",
      "|---------------------+------------+-----------------+--------------+-----------------+--------------+----------|\n",
      "| DEFAULT_d5cba_00004 | RUNNING    | 127.0.0.1:23468 |           50 |     0.00902094  |            5 |          |\n",
      "| DEFAULT_d5cba_00005 | PENDING    |                 |          100 |     0.00939863  |            4 |          |\n",
      "| DEFAULT_d5cba_00006 | PENDING    |                 |           10 |     0.000111693 |            5 |          |\n",
      "| DEFAULT_d5cba_00007 | PENDING    |                 |           30 |     0.000258208 |            5 |          |\n",
      "| DEFAULT_d5cba_00008 | PENDING    |                 |           10 |     0.000173604 |            4 |          |\n",
      "| DEFAULT_d5cba_00009 | PENDING    |                 |           10 |     0.0454214   |            5 |          |\n",
      "| DEFAULT_d5cba_00000 | TERMINATED | 127.0.0.1:14084 |           50 |     0.000109278 |           10 | 0.888209 |\n",
      "| DEFAULT_d5cba_00001 | TERMINATED | 127.0.0.1:31928 |           50 |     0.0422751   |            5 | 0.966756 |\n",
      "| DEFAULT_d5cba_00002 | TERMINATED | 127.0.0.1:21996 |           30 |     0.0195957   |           10 | 0.997522 |\n",
      "| DEFAULT_d5cba_00003 | TERMINATED | 127.0.0.1:22080 |           10 |     0.00277116  |            5 | 0.947813 |\n",
      "+---------------------+------------+-----------------+--------------+-----------------+--------------+----------+\n",
      "\n",
      "\n"
     ]
    },
    {
     "name": "stderr",
     "output_type": "stream",
     "text": [
      " 25%|██▌       | 1/4 [00:04<00:12,  4.32s/it]\n"
     ]
    },
    {
     "name": "stdout",
     "output_type": "stream",
     "text": [
      "Result for DEFAULT_d5cba_00004:\n",
      "  accuracy: 0.6833333333333333\n",
      "  date: 2021-12-22_15-42-06\n",
      "  done: false\n",
      "  experiment_id: b5bc6c1b452845b98685835e56cf31fb\n",
      "  hostname: WSTOMAS21\n",
      "  iterations_since_restore: 1\n",
      "  loss: 0.9226755648851395\n",
      "  node_ip: 127.0.0.1\n",
      "  pid: 23468\n",
      "  should_checkpoint: true\n",
      "  time_since_restore: 14.784568309783936\n",
      "  time_this_iter_s: 14.784568309783936\n",
      "  time_total_s: 14.784568309783936\n",
      "  timestamp: 1640184126\n",
      "  timesteps_since_restore: 0\n",
      "  training_iteration: 1\n",
      "  trial_id: d5cba_00004\n",
      "  \n"
     ]
    },
    {
     "name": "stderr",
     "output_type": "stream",
     "text": [
      "100%|██████████| 4/4 [00:04<00:00,  1.23s/it]\n",
      "  0%|          | 0/9 [00:00<?, ?it/s]\n"
     ]
    },
    {
     "name": "stdout",
     "output_type": "stream",
     "text": [
      "== Status ==\n",
      "Current time: 2021-12-22 15:42:09 (running for 00:03:37.61)\n",
      "Memory usage on this node: 18.1/47.6 GiB\n",
      "Using AsyncHyperBand: num_stopped=3\n",
      "Bracket: Iter 8.000: -0.8849095702171326 | Iter 4.000: -0.8930027633905411 | Iter 2.000: -0.9315991244382329 | Iter 1.000: -0.9581190860933728\n",
      "Resources requested: 1.0/24 CPUs, 1.0/2 GPUs, 0.0/37.98 GiB heap, 0.0/18.99 GiB objects\n",
      "Result logdir: C:\\Users\\Tomas\\ray_results\\DEFAULT_2021-12-22_15-38-31\n",
      "Number of trials: 10/10 (5 PENDING, 1 RUNNING, 4 TERMINATED)\n",
      "+---------------------+------------+-----------------+--------------+-----------------+--------------+----------+\n",
      "| Trial name          | status     | loc             |   batch_size |   learning_rate |   num_epochs |     loss |\n",
      "|---------------------+------------+-----------------+--------------+-----------------+--------------+----------|\n",
      "| DEFAULT_d5cba_00004 | RUNNING    | 127.0.0.1:23468 |           50 |     0.00902094  |            5 | 0.922676 |\n",
      "| DEFAULT_d5cba_00005 | PENDING    |                 |          100 |     0.00939863  |            4 |          |\n",
      "| DEFAULT_d5cba_00006 | PENDING    |                 |           10 |     0.000111693 |            5 |          |\n",
      "| DEFAULT_d5cba_00007 | PENDING    |                 |           30 |     0.000258208 |            5 |          |\n",
      "| DEFAULT_d5cba_00008 | PENDING    |                 |           10 |     0.000173604 |            4 |          |\n",
      "| DEFAULT_d5cba_00009 | PENDING    |                 |           10 |     0.0454214   |            5 |          |\n",
      "| DEFAULT_d5cba_00000 | TERMINATED | 127.0.0.1:14084 |           50 |     0.000109278 |           10 | 0.888209 |\n",
      "| DEFAULT_d5cba_00001 | TERMINATED | 127.0.0.1:31928 |           50 |     0.0422751   |            5 | 0.966756 |\n",
      "| DEFAULT_d5cba_00002 | TERMINATED | 127.0.0.1:21996 |           30 |     0.0195957   |           10 | 0.997522 |\n",
      "| DEFAULT_d5cba_00003 | TERMINATED | 127.0.0.1:22080 |           10 |     0.00277116  |            5 | 0.947813 |\n",
      "+---------------------+------------+-----------------+--------------+-----------------+--------------+----------+\n",
      "\n",
      "\n"
     ]
    },
    {
     "name": "stderr",
     "output_type": "stream",
     "text": [
      " 11%|█         | 1/9 [00:04<00:36,  4.57s/it]\n",
      " 22%|██▏       | 2/9 [00:04<00:14,  2.01s/it]\n",
      "100%|██████████| 9/9 [00:05<00:00,  1.59it/s]\n",
      "  0%|          | 0/4 [00:00<?, ?it/s]\n"
     ]
    },
    {
     "name": "stdout",
     "output_type": "stream",
     "text": [
      "== Status ==\n",
      "Current time: 2021-12-22 15:42:14 (running for 00:03:42.88)\n",
      "Memory usage on this node: 18.1/47.6 GiB\n",
      "Using AsyncHyperBand: num_stopped=3\n",
      "Bracket: Iter 8.000: -0.8849095702171326 | Iter 4.000: -0.8930027633905411 | Iter 2.000: -0.9315991244382329 | Iter 1.000: -0.9581190860933728\n",
      "Resources requested: 1.0/24 CPUs, 1.0/2 GPUs, 0.0/37.98 GiB heap, 0.0/18.99 GiB objects\n",
      "Result logdir: C:\\Users\\Tomas\\ray_results\\DEFAULT_2021-12-22_15-38-31\n",
      "Number of trials: 10/10 (5 PENDING, 1 RUNNING, 4 TERMINATED)\n",
      "+---------------------+------------+-----------------+--------------+-----------------+--------------+----------+\n",
      "| Trial name          | status     | loc             |   batch_size |   learning_rate |   num_epochs |     loss |\n",
      "|---------------------+------------+-----------------+--------------+-----------------+--------------+----------|\n",
      "| DEFAULT_d5cba_00004 | RUNNING    | 127.0.0.1:23468 |           50 |     0.00902094  |            5 | 0.922676 |\n",
      "| DEFAULT_d5cba_00005 | PENDING    |                 |          100 |     0.00939863  |            4 |          |\n",
      "| DEFAULT_d5cba_00006 | PENDING    |                 |           10 |     0.000111693 |            5 |          |\n",
      "| DEFAULT_d5cba_00007 | PENDING    |                 |           30 |     0.000258208 |            5 |          |\n",
      "| DEFAULT_d5cba_00008 | PENDING    |                 |           10 |     0.000173604 |            4 |          |\n",
      "| DEFAULT_d5cba_00009 | PENDING    |                 |           10 |     0.0454214   |            5 |          |\n",
      "| DEFAULT_d5cba_00000 | TERMINATED | 127.0.0.1:14084 |           50 |     0.000109278 |           10 | 0.888209 |\n",
      "| DEFAULT_d5cba_00001 | TERMINATED | 127.0.0.1:31928 |           50 |     0.0422751   |            5 | 0.966756 |\n",
      "| DEFAULT_d5cba_00002 | TERMINATED | 127.0.0.1:21996 |           30 |     0.0195957   |           10 | 0.997522 |\n",
      "| DEFAULT_d5cba_00003 | TERMINATED | 127.0.0.1:22080 |           10 |     0.00277116  |            5 | 0.947813 |\n",
      "+---------------------+------------+-----------------+--------------+-----------------+--------------+----------+\n",
      "\n",
      "\n"
     ]
    },
    {
     "name": "stderr",
     "output_type": "stream",
     "text": [
      " 25%|██▌       | 1/4 [00:04<00:13,  4.55s/it]\n"
     ]
    },
    {
     "name": "stdout",
     "output_type": "stream",
     "text": [
      "Result for DEFAULT_d5cba_00004:\n",
      "  accuracy: 0.6833333333333333\n",
      "  date: 2021-12-22_15-42-17\n",
      "  done: false\n",
      "  experiment_id: b5bc6c1b452845b98685835e56cf31fb\n",
      "  hostname: WSTOMAS21\n",
      "  iterations_since_restore: 2\n",
      "  loss: 0.8941007852554321\n",
      "  node_ip: 127.0.0.1\n",
      "  pid: 23468\n",
      "  should_checkpoint: true\n",
      "  time_since_restore: 25.51486849784851\n",
      "  time_this_iter_s: 10.730300188064575\n",
      "  time_total_s: 25.51486849784851\n",
      "  timestamp: 1640184137\n",
      "  timesteps_since_restore: 0\n",
      "  training_iteration: 2\n",
      "  trial_id: d5cba_00004\n",
      "  \n"
     ]
    },
    {
     "name": "stderr",
     "output_type": "stream",
     "text": [
      "100%|██████████| 4/4 [00:04<00:00,  1.25s/it]\n",
      "  0%|          | 0/9 [00:00<?, ?it/s]\n"
     ]
    },
    {
     "name": "stdout",
     "output_type": "stream",
     "text": [
      "== Status ==\n",
      "Current time: 2021-12-22 15:42:20 (running for 00:03:48.36)\n",
      "Memory usage on this node: 18.1/47.6 GiB\n",
      "Using AsyncHyperBand: num_stopped=3\n",
      "Bracket: Iter 8.000: -0.8849095702171326 | Iter 4.000: -0.8930027633905411 | Iter 2.000: -0.9153856784105301 | Iter 1.000: -0.9581190860933728\n",
      "Resources requested: 1.0/24 CPUs, 1.0/2 GPUs, 0.0/37.98 GiB heap, 0.0/18.99 GiB objects\n",
      "Result logdir: C:\\Users\\Tomas\\ray_results\\DEFAULT_2021-12-22_15-38-31\n",
      "Number of trials: 10/10 (5 PENDING, 1 RUNNING, 4 TERMINATED)\n",
      "+---------------------+------------+-----------------+--------------+-----------------+--------------+----------+\n",
      "| Trial name          | status     | loc             |   batch_size |   learning_rate |   num_epochs |     loss |\n",
      "|---------------------+------------+-----------------+--------------+-----------------+--------------+----------|\n",
      "| DEFAULT_d5cba_00004 | RUNNING    | 127.0.0.1:23468 |           50 |     0.00902094  |            5 | 0.894101 |\n",
      "| DEFAULT_d5cba_00005 | PENDING    |                 |          100 |     0.00939863  |            4 |          |\n",
      "| DEFAULT_d5cba_00006 | PENDING    |                 |           10 |     0.000111693 |            5 |          |\n",
      "| DEFAULT_d5cba_00007 | PENDING    |                 |           30 |     0.000258208 |            5 |          |\n",
      "| DEFAULT_d5cba_00008 | PENDING    |                 |           10 |     0.000173604 |            4 |          |\n",
      "| DEFAULT_d5cba_00009 | PENDING    |                 |           10 |     0.0454214   |            5 |          |\n",
      "| DEFAULT_d5cba_00000 | TERMINATED | 127.0.0.1:14084 |           50 |     0.000109278 |           10 | 0.888209 |\n",
      "| DEFAULT_d5cba_00001 | TERMINATED | 127.0.0.1:31928 |           50 |     0.0422751   |            5 | 0.966756 |\n",
      "| DEFAULT_d5cba_00002 | TERMINATED | 127.0.0.1:21996 |           30 |     0.0195957   |           10 | 0.997522 |\n",
      "| DEFAULT_d5cba_00003 | TERMINATED | 127.0.0.1:22080 |           10 |     0.00277116  |            5 | 0.947813 |\n",
      "+---------------------+------------+-----------------+--------------+-----------------+--------------+----------+\n",
      "\n",
      "\n"
     ]
    },
    {
     "name": "stderr",
     "output_type": "stream",
     "text": [
      " 11%|█         | 1/9 [00:04<00:34,  4.30s/it]\n",
      " 67%|██████▋   | 6/9 [00:04<00:01,  1.83it/s]\n",
      "100%|██████████| 9/9 [00:04<00:00,  1.86it/s]\n",
      "  0%|          | 0/4 [00:00<?, ?it/s]\n"
     ]
    },
    {
     "name": "stdout",
     "output_type": "stream",
     "text": [
      "== Status ==\n",
      "Current time: 2021-12-22 15:42:25 (running for 00:03:53.52)\n",
      "Memory usage on this node: 18.2/47.6 GiB\n",
      "Using AsyncHyperBand: num_stopped=3\n",
      "Bracket: Iter 8.000: -0.8849095702171326 | Iter 4.000: -0.8930027633905411 | Iter 2.000: -0.9153856784105301 | Iter 1.000: -0.9581190860933728\n",
      "Resources requested: 1.0/24 CPUs, 1.0/2 GPUs, 0.0/37.98 GiB heap, 0.0/18.99 GiB objects\n",
      "Result logdir: C:\\Users\\Tomas\\ray_results\\DEFAULT_2021-12-22_15-38-31\n",
      "Number of trials: 10/10 (5 PENDING, 1 RUNNING, 4 TERMINATED)\n",
      "+---------------------+------------+-----------------+--------------+-----------------+--------------+----------+\n",
      "| Trial name          | status     | loc             |   batch_size |   learning_rate |   num_epochs |     loss |\n",
      "|---------------------+------------+-----------------+--------------+-----------------+--------------+----------|\n",
      "| DEFAULT_d5cba_00004 | RUNNING    | 127.0.0.1:23468 |           50 |     0.00902094  |            5 | 0.894101 |\n",
      "| DEFAULT_d5cba_00005 | PENDING    |                 |          100 |     0.00939863  |            4 |          |\n",
      "| DEFAULT_d5cba_00006 | PENDING    |                 |           10 |     0.000111693 |            5 |          |\n",
      "| DEFAULT_d5cba_00007 | PENDING    |                 |           30 |     0.000258208 |            5 |          |\n",
      "| DEFAULT_d5cba_00008 | PENDING    |                 |           10 |     0.000173604 |            4 |          |\n",
      "| DEFAULT_d5cba_00009 | PENDING    |                 |           10 |     0.0454214   |            5 |          |\n",
      "| DEFAULT_d5cba_00000 | TERMINATED | 127.0.0.1:14084 |           50 |     0.000109278 |           10 | 0.888209 |\n",
      "| DEFAULT_d5cba_00001 | TERMINATED | 127.0.0.1:31928 |           50 |     0.0422751   |            5 | 0.966756 |\n",
      "| DEFAULT_d5cba_00002 | TERMINATED | 127.0.0.1:21996 |           30 |     0.0195957   |           10 | 0.997522 |\n",
      "| DEFAULT_d5cba_00003 | TERMINATED | 127.0.0.1:22080 |           10 |     0.00277116  |            5 | 0.947813 |\n",
      "+---------------------+------------+-----------------+--------------+-----------------+--------------+----------+\n",
      "\n",
      "\n"
     ]
    },
    {
     "name": "stderr",
     "output_type": "stream",
     "text": [
      " 25%|██▌       | 1/4 [00:03<00:11,  3.91s/it]\n"
     ]
    },
    {
     "name": "stdout",
     "output_type": "stream",
     "text": [
      "Result for DEFAULT_d5cba_00004:\n",
      "  accuracy: 0.6833333333333333\n",
      "  date: 2021-12-22_15-42-26\n",
      "  done: false\n",
      "  experiment_id: b5bc6c1b452845b98685835e56cf31fb\n",
      "  hostname: WSTOMAS21\n",
      "  iterations_since_restore: 3\n",
      "  loss: 0.9130402058362961\n",
      "  node_ip: 127.0.0.1\n",
      "  pid: 23468\n",
      "  should_checkpoint: true\n",
      "  time_since_restore: 34.76217532157898\n",
      "  time_this_iter_s: 9.247306823730469\n",
      "  time_total_s: 34.76217532157898\n",
      "  timestamp: 1640184146\n",
      "  timesteps_since_restore: 0\n",
      "  training_iteration: 3\n",
      "  trial_id: d5cba_00004\n",
      "  \n"
     ]
    },
    {
     "name": "stderr",
     "output_type": "stream",
     "text": [
      "100%|██████████| 4/4 [00:04<00:00,  1.09s/it]\n",
      "  0%|          | 0/9 [00:00<?, ?it/s]\n",
      " 11%|█         | 1/9 [00:03<00:31,  3.90s/it]\n"
     ]
    },
    {
     "name": "stdout",
     "output_type": "stream",
     "text": [
      "== Status ==\n",
      "Current time: 2021-12-22 15:42:30 (running for 00:03:58.64)\n",
      "Memory usage on this node: 18.2/47.6 GiB\n",
      "Using AsyncHyperBand: num_stopped=3\n",
      "Bracket: Iter 8.000: -0.8849095702171326 | Iter 4.000: -0.8930027633905411 | Iter 2.000: -0.9153856784105301 | Iter 1.000: -0.9581190860933728\n",
      "Resources requested: 1.0/24 CPUs, 1.0/2 GPUs, 0.0/37.98 GiB heap, 0.0/18.99 GiB objects\n",
      "Result logdir: C:\\Users\\Tomas\\ray_results\\DEFAULT_2021-12-22_15-38-31\n",
      "Number of trials: 10/10 (5 PENDING, 1 RUNNING, 4 TERMINATED)\n",
      "+---------------------+------------+-----------------+--------------+-----------------+--------------+----------+\n",
      "| Trial name          | status     | loc             |   batch_size |   learning_rate |   num_epochs |     loss |\n",
      "|---------------------+------------+-----------------+--------------+-----------------+--------------+----------|\n",
      "| DEFAULT_d5cba_00004 | RUNNING    | 127.0.0.1:23468 |           50 |     0.00902094  |            5 | 0.91304  |\n",
      "| DEFAULT_d5cba_00005 | PENDING    |                 |          100 |     0.00939863  |            4 |          |\n",
      "| DEFAULT_d5cba_00006 | PENDING    |                 |           10 |     0.000111693 |            5 |          |\n",
      "| DEFAULT_d5cba_00007 | PENDING    |                 |           30 |     0.000258208 |            5 |          |\n",
      "| DEFAULT_d5cba_00008 | PENDING    |                 |           10 |     0.000173604 |            4 |          |\n",
      "| DEFAULT_d5cba_00009 | PENDING    |                 |           10 |     0.0454214   |            5 |          |\n",
      "| DEFAULT_d5cba_00000 | TERMINATED | 127.0.0.1:14084 |           50 |     0.000109278 |           10 | 0.888209 |\n",
      "| DEFAULT_d5cba_00001 | TERMINATED | 127.0.0.1:31928 |           50 |     0.0422751   |            5 | 0.966756 |\n",
      "| DEFAULT_d5cba_00002 | TERMINATED | 127.0.0.1:21996 |           30 |     0.0195957   |           10 | 0.997522 |\n",
      "| DEFAULT_d5cba_00003 | TERMINATED | 127.0.0.1:22080 |           10 |     0.00277116  |            5 | 0.947813 |\n",
      "+---------------------+------------+-----------------+--------------+-----------------+--------------+----------+\n",
      "\n",
      "\n"
     ]
    },
    {
     "name": "stderr",
     "output_type": "stream",
     "text": [
      "100%|██████████| 9/9 [00:04<00:00,  2.04it/s]\n",
      "  0%|          | 0/4 [00:00<?, ?it/s]\n",
      " 25%|██▌       | 1/4 [00:04<00:12,  4.01s/it]\n"
     ]
    },
    {
     "name": "stdout",
     "output_type": "stream",
     "text": [
      "Result for DEFAULT_d5cba_00004:\n",
      "  accuracy: 0.6833333333333333\n",
      "  date: 2021-12-22_15-42-35\n",
      "  done: false\n",
      "  experiment_id: b5bc6c1b452845b98685835e56cf31fb\n",
      "  hostname: WSTOMAS21\n",
      "  iterations_since_restore: 4\n",
      "  loss: 0.8792380392551422\n",
      "  node_ip: 127.0.0.1\n",
      "  pid: 23468\n",
      "  should_checkpoint: true\n",
      "  time_since_restore: 43.80206656455994\n",
      "  time_this_iter_s: 9.039891242980957\n",
      "  time_total_s: 43.80206656455994\n",
      "  timestamp: 1640184155\n",
      "  timesteps_since_restore: 0\n",
      "  training_iteration: 4\n",
      "  trial_id: d5cba_00004\n",
      "  \n"
     ]
    },
    {
     "name": "stderr",
     "output_type": "stream",
     "text": [
      "100%|██████████| 4/4 [00:04<00:00,  1.14s/it]\n",
      "  0%|          | 0/9 [00:00<?, ?it/s]\n"
     ]
    },
    {
     "name": "stdout",
     "output_type": "stream",
     "text": [
      "== Status ==\n",
      "Current time: 2021-12-22 15:42:36 (running for 00:04:04.60)\n",
      "Memory usage on this node: 18.1/47.6 GiB\n",
      "Using AsyncHyperBand: num_stopped=3\n",
      "Bracket: Iter 8.000: -0.8849095702171326 | Iter 4.000: -0.8861204013228416 | Iter 2.000: -0.9153856784105301 | Iter 1.000: -0.9581190860933728\n",
      "Resources requested: 1.0/24 CPUs, 1.0/2 GPUs, 0.0/37.98 GiB heap, 0.0/18.99 GiB objects\n",
      "Result logdir: C:\\Users\\Tomas\\ray_results\\DEFAULT_2021-12-22_15-38-31\n",
      "Number of trials: 10/10 (5 PENDING, 1 RUNNING, 4 TERMINATED)\n",
      "+---------------------+------------+-----------------+--------------+-----------------+--------------+----------+\n",
      "| Trial name          | status     | loc             |   batch_size |   learning_rate |   num_epochs |     loss |\n",
      "|---------------------+------------+-----------------+--------------+-----------------+--------------+----------|\n",
      "| DEFAULT_d5cba_00004 | RUNNING    | 127.0.0.1:23468 |           50 |     0.00902094  |            5 | 0.879238 |\n",
      "| DEFAULT_d5cba_00005 | PENDING    |                 |          100 |     0.00939863  |            4 |          |\n",
      "| DEFAULT_d5cba_00006 | PENDING    |                 |           10 |     0.000111693 |            5 |          |\n",
      "| DEFAULT_d5cba_00007 | PENDING    |                 |           30 |     0.000258208 |            5 |          |\n",
      "| DEFAULT_d5cba_00008 | PENDING    |                 |           10 |     0.000173604 |            4 |          |\n",
      "| DEFAULT_d5cba_00009 | PENDING    |                 |           10 |     0.0454214   |            5 |          |\n",
      "| DEFAULT_d5cba_00000 | TERMINATED | 127.0.0.1:14084 |           50 |     0.000109278 |           10 | 0.888209 |\n",
      "| DEFAULT_d5cba_00001 | TERMINATED | 127.0.0.1:31928 |           50 |     0.0422751   |            5 | 0.966756 |\n",
      "| DEFAULT_d5cba_00002 | TERMINATED | 127.0.0.1:21996 |           30 |     0.0195957   |           10 | 0.997522 |\n",
      "| DEFAULT_d5cba_00003 | TERMINATED | 127.0.0.1:22080 |           10 |     0.00277116  |            5 | 0.947813 |\n",
      "+---------------------+------------+-----------------+--------------+-----------------+--------------+----------+\n",
      "\n",
      "\n"
     ]
    },
    {
     "name": "stderr",
     "output_type": "stream",
     "text": [
      " 11%|█         | 1/9 [00:04<00:34,  4.26s/it]\n",
      " 22%|██▏       | 2/9 [00:04<00:12,  1.85s/it]\n",
      "100%|██████████| 9/9 [00:04<00:00,  1.81it/s]\n",
      "  0%|          | 0/4 [00:00<?, ?it/s]\n"
     ]
    },
    {
     "name": "stdout",
     "output_type": "stream",
     "text": [
      "== Status ==\n",
      "Current time: 2021-12-22 15:42:41 (running for 00:04:09.79)\n",
      "Memory usage on this node: 18.1/47.6 GiB\n",
      "Using AsyncHyperBand: num_stopped=3\n",
      "Bracket: Iter 8.000: -0.8849095702171326 | Iter 4.000: -0.8861204013228416 | Iter 2.000: -0.9153856784105301 | Iter 1.000: -0.9581190860933728\n",
      "Resources requested: 1.0/24 CPUs, 1.0/2 GPUs, 0.0/37.98 GiB heap, 0.0/18.99 GiB objects\n",
      "Result logdir: C:\\Users\\Tomas\\ray_results\\DEFAULT_2021-12-22_15-38-31\n",
      "Number of trials: 10/10 (5 PENDING, 1 RUNNING, 4 TERMINATED)\n",
      "+---------------------+------------+-----------------+--------------+-----------------+--------------+----------+\n",
      "| Trial name          | status     | loc             |   batch_size |   learning_rate |   num_epochs |     loss |\n",
      "|---------------------+------------+-----------------+--------------+-----------------+--------------+----------|\n",
      "| DEFAULT_d5cba_00004 | RUNNING    | 127.0.0.1:23468 |           50 |     0.00902094  |            5 | 0.879238 |\n",
      "| DEFAULT_d5cba_00005 | PENDING    |                 |          100 |     0.00939863  |            4 |          |\n",
      "| DEFAULT_d5cba_00006 | PENDING    |                 |           10 |     0.000111693 |            5 |          |\n",
      "| DEFAULT_d5cba_00007 | PENDING    |                 |           30 |     0.000258208 |            5 |          |\n",
      "| DEFAULT_d5cba_00008 | PENDING    |                 |           10 |     0.000173604 |            4 |          |\n",
      "| DEFAULT_d5cba_00009 | PENDING    |                 |           10 |     0.0454214   |            5 |          |\n",
      "| DEFAULT_d5cba_00000 | TERMINATED | 127.0.0.1:14084 |           50 |     0.000109278 |           10 | 0.888209 |\n",
      "| DEFAULT_d5cba_00001 | TERMINATED | 127.0.0.1:31928 |           50 |     0.0422751   |            5 | 0.966756 |\n",
      "| DEFAULT_d5cba_00002 | TERMINATED | 127.0.0.1:21996 |           30 |     0.0195957   |           10 | 0.997522 |\n",
      "| DEFAULT_d5cba_00003 | TERMINATED | 127.0.0.1:22080 |           10 |     0.00277116  |            5 | 0.947813 |\n",
      "+---------------------+------------+-----------------+--------------+-----------------+--------------+----------+\n",
      "\n",
      "\n"
     ]
    },
    {
     "name": "stderr",
     "output_type": "stream",
     "text": [
      " 25%|██▌       | 1/4 [00:04<00:13,  4.36s/it]\n"
     ]
    },
    {
     "name": "stdout",
     "output_type": "stream",
     "text": [
      "Result for DEFAULT_d5cba_00004:\n",
      "  accuracy: 0.6833333333333333\n",
      "  date: 2021-12-22_15-42-45\n",
      "  done: false\n",
      "  experiment_id: b5bc6c1b452845b98685835e56cf31fb\n",
      "  hostname: WSTOMAS21\n",
      "  iterations_since_restore: 5\n",
      "  loss: 0.8714434206485748\n",
      "  node_ip: 127.0.0.1\n",
      "  pid: 23468\n",
      "  should_checkpoint: true\n",
      "  time_since_restore: 53.74935817718506\n",
      "  time_this_iter_s: 9.947291612625122\n",
      "  time_total_s: 53.74935817718506\n",
      "  timestamp: 1640184165\n",
      "  timesteps_since_restore: 0\n",
      "  training_iteration: 5\n",
      "  trial_id: d5cba_00004\n",
      "  \n",
      "Result for DEFAULT_d5cba_00004:\n",
      "  accuracy: 0.6833333333333333\n",
      "  date: 2021-12-22_15-42-45\n",
      "  done: true\n",
      "  experiment_id: b5bc6c1b452845b98685835e56cf31fb\n",
      "  experiment_tag: 4_batch_size=50,learning_rate=0.0090209,num_epochs=5\n",
      "  hostname: WSTOMAS21\n",
      "  iterations_since_restore: 5\n",
      "  loss: 0.8714434206485748\n",
      "  node_ip: 127.0.0.1\n",
      "  pid: 23468\n",
      "  should_checkpoint: true\n",
      "  time_since_restore: 53.74935817718506\n",
      "  time_this_iter_s: 9.947291612625122\n",
      "  time_total_s: 53.74935817718506\n",
      "  timestamp: 1640184165\n",
      "  timesteps_since_restore: 0\n",
      "  training_iteration: 5\n",
      "  trial_id: d5cba_00004\n",
      "  \n",
      " pid=23468)\u001b[0m Finished\n"
     ]
    },
    {
     "name": "stderr",
     "output_type": "stream",
     "text": [
      "100%|██████████| 4/4 [00:04<00:00,  1.23s/it]\n"
     ]
    },
    {
     "name": "stdout",
     "output_type": "stream",
     "text": [
      "== Status ==\n",
      "Current time: 2021-12-22 15:42:47 (running for 00:04:15.72)\n",
      "Memory usage on this node: 16.6/47.6 GiB\n",
      "Using AsyncHyperBand: num_stopped=3\n",
      "Bracket: Iter 8.000: -0.8849095702171326 | Iter 4.000: -0.8861204013228416 | Iter 2.000: -0.9153856784105301 | Iter 1.000: -0.9581190860933728\n",
      "Resources requested: 1.0/24 CPUs, 1.0/2 GPUs, 0.0/37.98 GiB heap, 0.0/18.99 GiB objects\n",
      "Result logdir: C:\\Users\\Tomas\\ray_results\\DEFAULT_2021-12-22_15-38-31\n",
      "Number of trials: 10/10 (4 PENDING, 1 RUNNING, 5 TERMINATED)\n",
      "+---------------------+------------+-----------------+--------------+-----------------+--------------+----------+\n",
      "| Trial name          | status     | loc             |   batch_size |   learning_rate |   num_epochs |     loss |\n",
      "|---------------------+------------+-----------------+--------------+-----------------+--------------+----------|\n",
      "| DEFAULT_d5cba_00005 | RUNNING    | 127.0.0.1:25760 |          100 |     0.00939863  |            4 |          |\n",
      "| DEFAULT_d5cba_00006 | PENDING    |                 |           10 |     0.000111693 |            5 |          |\n",
      "| DEFAULT_d5cba_00007 | PENDING    |                 |           30 |     0.000258208 |            5 |          |\n",
      "| DEFAULT_d5cba_00008 | PENDING    |                 |           10 |     0.000173604 |            4 |          |\n",
      "| DEFAULT_d5cba_00009 | PENDING    |                 |           10 |     0.0454214   |            5 |          |\n",
      "| DEFAULT_d5cba_00000 | TERMINATED | 127.0.0.1:14084 |           50 |     0.000109278 |           10 | 0.888209 |\n",
      "| DEFAULT_d5cba_00001 | TERMINATED | 127.0.0.1:31928 |           50 |     0.0422751   |            5 | 0.966756 |\n",
      "| DEFAULT_d5cba_00002 | TERMINATED | 127.0.0.1:21996 |           30 |     0.0195957   |           10 | 0.997522 |\n",
      "| DEFAULT_d5cba_00003 | TERMINATED | 127.0.0.1:22080 |           10 |     0.00277116  |            5 | 0.947813 |\n",
      "| DEFAULT_d5cba_00004 | TERMINATED | 127.0.0.1:23468 |           50 |     0.00902094  |            5 | 0.871443 |\n",
      "+---------------------+------------+-----------------+--------------+-----------------+--------------+----------+\n",
      "\n",
      "\n",
      "== Status ==\n",
      "Current time: 2021-12-22 15:42:55 (running for 00:04:23.10)\n",
      "Memory usage on this node: 17.0/47.6 GiB\n",
      "Using AsyncHyperBand: num_stopped=3\n",
      "Bracket: Iter 8.000: -0.8849095702171326 | Iter 4.000: -0.8861204013228416 | Iter 2.000: -0.9153856784105301 | Iter 1.000: -0.9581190860933728\n",
      "Resources requested: 1.0/24 CPUs, 1.0/2 GPUs, 0.0/37.98 GiB heap, 0.0/18.99 GiB objects\n",
      "Result logdir: C:\\Users\\Tomas\\ray_results\\DEFAULT_2021-12-22_15-38-31\n",
      "Number of trials: 10/10 (4 PENDING, 1 RUNNING, 5 TERMINATED)\n",
      "+---------------------+------------+-----------------+--------------+-----------------+--------------+----------+\n",
      "| Trial name          | status     | loc             |   batch_size |   learning_rate |   num_epochs |     loss |\n",
      "|---------------------+------------+-----------------+--------------+-----------------+--------------+----------|\n",
      "| DEFAULT_d5cba_00005 | RUNNING    | 127.0.0.1:25760 |          100 |     0.00939863  |            4 |          |\n",
      "| DEFAULT_d5cba_00006 | PENDING    |                 |           10 |     0.000111693 |            5 |          |\n",
      "| DEFAULT_d5cba_00007 | PENDING    |                 |           30 |     0.000258208 |            5 |          |\n",
      "| DEFAULT_d5cba_00008 | PENDING    |                 |           10 |     0.000173604 |            4 |          |\n",
      "| DEFAULT_d5cba_00009 | PENDING    |                 |           10 |     0.0454214   |            5 |          |\n",
      "| DEFAULT_d5cba_00000 | TERMINATED | 127.0.0.1:14084 |           50 |     0.000109278 |           10 | 0.888209 |\n",
      "| DEFAULT_d5cba_00001 | TERMINATED | 127.0.0.1:31928 |           50 |     0.0422751   |            5 | 0.966756 |\n",
      "| DEFAULT_d5cba_00002 | TERMINATED | 127.0.0.1:21996 |           30 |     0.0195957   |           10 | 0.997522 |\n",
      "| DEFAULT_d5cba_00003 | TERMINATED | 127.0.0.1:22080 |           10 |     0.00277116  |            5 | 0.947813 |\n",
      "| DEFAULT_d5cba_00004 | TERMINATED | 127.0.0.1:23468 |           50 |     0.00902094  |            5 | 0.871443 |\n",
      "+---------------------+------------+-----------------+--------------+-----------------+--------------+----------+\n",
      "\n",
      "\n"
     ]
    },
    {
     "name": "stderr",
     "output_type": "stream",
     "text": [
      "  0%|          | 0/5 [00:00<?, ?it/s]\n"
     ]
    },
    {
     "name": "stdout",
     "output_type": "stream",
     "text": [
      "== Status ==\n",
      "Current time: 2021-12-22 15:43:00 (running for 00:04:28.38)\n",
      "Memory usage on this node: 17.9/47.6 GiB\n",
      "Using AsyncHyperBand: num_stopped=3\n",
      "Bracket: Iter 8.000: -0.8849095702171326 | Iter 4.000: -0.8861204013228416 | Iter 2.000: -0.9153856784105301 | Iter 1.000: -0.9581190860933728\n",
      "Resources requested: 1.0/24 CPUs, 1.0/2 GPUs, 0.0/37.98 GiB heap, 0.0/18.99 GiB objects\n",
      "Result logdir: C:\\Users\\Tomas\\ray_results\\DEFAULT_2021-12-22_15-38-31\n",
      "Number of trials: 10/10 (4 PENDING, 1 RUNNING, 5 TERMINATED)\n",
      "+---------------------+------------+-----------------+--------------+-----------------+--------------+----------+\n",
      "| Trial name          | status     | loc             |   batch_size |   learning_rate |   num_epochs |     loss |\n",
      "|---------------------+------------+-----------------+--------------+-----------------+--------------+----------|\n",
      "| DEFAULT_d5cba_00005 | RUNNING    | 127.0.0.1:25760 |          100 |     0.00939863  |            4 |          |\n",
      "| DEFAULT_d5cba_00006 | PENDING    |                 |           10 |     0.000111693 |            5 |          |\n",
      "| DEFAULT_d5cba_00007 | PENDING    |                 |           30 |     0.000258208 |            5 |          |\n",
      "| DEFAULT_d5cba_00008 | PENDING    |                 |           10 |     0.000173604 |            4 |          |\n",
      "| DEFAULT_d5cba_00009 | PENDING    |                 |           10 |     0.0454214   |            5 |          |\n",
      "| DEFAULT_d5cba_00000 | TERMINATED | 127.0.0.1:14084 |           50 |     0.000109278 |           10 | 0.888209 |\n",
      "| DEFAULT_d5cba_00001 | TERMINATED | 127.0.0.1:31928 |           50 |     0.0422751   |            5 | 0.966756 |\n",
      "| DEFAULT_d5cba_00002 | TERMINATED | 127.0.0.1:21996 |           30 |     0.0195957   |           10 | 0.997522 |\n",
      "| DEFAULT_d5cba_00003 | TERMINATED | 127.0.0.1:22080 |           10 |     0.00277116  |            5 | 0.947813 |\n",
      "| DEFAULT_d5cba_00004 | TERMINATED | 127.0.0.1:23468 |           50 |     0.00902094  |            5 | 0.871443 |\n",
      "+---------------------+------------+-----------------+--------------+-----------------+--------------+----------+\n",
      "\n",
      "\n"
     ]
    },
    {
     "name": "stderr",
     "output_type": "stream",
     "text": [
      " 20%|██        | 1/5 [00:05<00:21,  5.34s/it]\n",
      "100%|██████████| 5/5 [00:06<00:00,  1.21s/it]\n",
      "  0%|          | 0/2 [00:00<?, ?it/s]\n"
     ]
    },
    {
     "name": "stdout",
     "output_type": "stream",
     "text": [
      "== Status ==\n",
      "Current time: 2021-12-22 15:43:05 (running for 00:04:33.59)\n",
      "Memory usage on this node: 17.8/47.6 GiB\n",
      "Using AsyncHyperBand: num_stopped=3\n",
      "Bracket: Iter 8.000: -0.8849095702171326 | Iter 4.000: -0.8861204013228416 | Iter 2.000: -0.9153856784105301 | Iter 1.000: -0.9581190860933728\n",
      "Resources requested: 1.0/24 CPUs, 1.0/2 GPUs, 0.0/37.98 GiB heap, 0.0/18.99 GiB objects\n",
      "Result logdir: C:\\Users\\Tomas\\ray_results\\DEFAULT_2021-12-22_15-38-31\n",
      "Number of trials: 10/10 (4 PENDING, 1 RUNNING, 5 TERMINATED)\n",
      "+---------------------+------------+-----------------+--------------+-----------------+--------------+----------+\n",
      "| Trial name          | status     | loc             |   batch_size |   learning_rate |   num_epochs |     loss |\n",
      "|---------------------+------------+-----------------+--------------+-----------------+--------------+----------|\n",
      "| DEFAULT_d5cba_00005 | RUNNING    | 127.0.0.1:25760 |          100 |     0.00939863  |            4 |          |\n",
      "| DEFAULT_d5cba_00006 | PENDING    |                 |           10 |     0.000111693 |            5 |          |\n",
      "| DEFAULT_d5cba_00007 | PENDING    |                 |           30 |     0.000258208 |            5 |          |\n",
      "| DEFAULT_d5cba_00008 | PENDING    |                 |           10 |     0.000173604 |            4 |          |\n",
      "| DEFAULT_d5cba_00009 | PENDING    |                 |           10 |     0.0454214   |            5 |          |\n",
      "| DEFAULT_d5cba_00000 | TERMINATED | 127.0.0.1:14084 |           50 |     0.000109278 |           10 | 0.888209 |\n",
      "| DEFAULT_d5cba_00001 | TERMINATED | 127.0.0.1:31928 |           50 |     0.0422751   |            5 | 0.966756 |\n",
      "| DEFAULT_d5cba_00002 | TERMINATED | 127.0.0.1:21996 |           30 |     0.0195957   |           10 | 0.997522 |\n",
      "| DEFAULT_d5cba_00003 | TERMINATED | 127.0.0.1:22080 |           10 |     0.00277116  |            5 | 0.947813 |\n",
      "| DEFAULT_d5cba_00004 | TERMINATED | 127.0.0.1:23468 |           50 |     0.00902094  |            5 | 0.871443 |\n",
      "+---------------------+------------+-----------------+--------------+-----------------+--------------+----------+\n",
      "\n",
      "\n"
     ]
    },
    {
     "name": "stderr",
     "output_type": "stream",
     "text": [
      " 50%|█████     | 1/2 [00:04<00:04,  4.43s/it]\n"
     ]
    },
    {
     "name": "stdout",
     "output_type": "stream",
     "text": [
      "Result for DEFAULT_d5cba_00005:\n",
      "  accuracy: 0.6833333333333333\n",
      "  date: 2021-12-22_15-43-09\n",
      "  done: true\n",
      "  experiment_id: 8a1bdec4a6574fcd9ddb4dbde7ea689c\n",
      "  hostname: WSTOMAS21\n",
      "  iterations_since_restore: 1\n",
      "  loss: 1.1816543936729431\n",
      "  node_ip: 127.0.0.1\n",
      "  pid: 25760\n",
      "  should_checkpoint: true\n",
      "  time_since_restore: 15.698426485061646\n",
      "  time_this_iter_s: 15.698426485061646\n",
      "  time_total_s: 15.698426485061646\n",
      "  timestamp: 1640184189\n",
      "  timesteps_since_restore: 0\n",
      "  training_iteration: 1\n",
      "  trial_id: d5cba_00005\n",
      "  \n"
     ]
    },
    {
     "name": "stderr",
     "output_type": "stream",
     "text": [
      "100%|██████████| 2/2 [00:04<00:00,  2.47s/it]\n"
     ]
    },
    {
     "name": "stdout",
     "output_type": "stream",
     "text": [
      "== Status ==\n",
      "Current time: 2021-12-22 15:43:10 (running for 00:04:38.89)\n",
      "Memory usage on this node: 16.3/47.6 GiB\n",
      "Using AsyncHyperBand: num_stopped=4\n",
      "Bracket: Iter 8.000: -0.8849095702171326 | Iter 4.000: -0.8861204013228416 | Iter 2.000: -0.9153856784105301 | Iter 1.000: -0.962437543604109\n",
      "Resources requested: 1.0/24 CPUs, 1.0/2 GPUs, 0.0/37.98 GiB heap, 0.0/18.99 GiB objects\n",
      "Result logdir: C:\\Users\\Tomas\\ray_results\\DEFAULT_2021-12-22_15-38-31\n",
      "Number of trials: 10/10 (3 PENDING, 1 RUNNING, 6 TERMINATED)\n",
      "+---------------------+------------+-----------------+--------------+-----------------+--------------+----------+\n",
      "| Trial name          | status     | loc             |   batch_size |   learning_rate |   num_epochs |     loss |\n",
      "|---------------------+------------+-----------------+--------------+-----------------+--------------+----------|\n",
      "| DEFAULT_d5cba_00006 | RUNNING    | 127.0.0.1:25964 |           10 |     0.000111693 |            5 |          |\n",
      "| DEFAULT_d5cba_00007 | PENDING    |                 |           30 |     0.000258208 |            5 |          |\n",
      "| DEFAULT_d5cba_00008 | PENDING    |                 |           10 |     0.000173604 |            4 |          |\n",
      "| DEFAULT_d5cba_00009 | PENDING    |                 |           10 |     0.0454214   |            5 |          |\n",
      "| DEFAULT_d5cba_00000 | TERMINATED | 127.0.0.1:14084 |           50 |     0.000109278 |           10 | 0.888209 |\n",
      "| DEFAULT_d5cba_00001 | TERMINATED | 127.0.0.1:31928 |           50 |     0.0422751   |            5 | 0.966756 |\n",
      "| DEFAULT_d5cba_00002 | TERMINATED | 127.0.0.1:21996 |           30 |     0.0195957   |           10 | 0.997522 |\n",
      "| DEFAULT_d5cba_00003 | TERMINATED | 127.0.0.1:22080 |           10 |     0.00277116  |            5 | 0.947813 |\n",
      "| DEFAULT_d5cba_00004 | TERMINATED | 127.0.0.1:23468 |           50 |     0.00902094  |            5 | 0.871443 |\n",
      "| DEFAULT_d5cba_00005 | TERMINATED | 127.0.0.1:25760 |          100 |     0.00939863  |            4 | 1.18165  |\n",
      "+---------------------+------------+-----------------+--------------+-----------------+--------------+----------+\n",
      "\n",
      "\n",
      "== Status ==\n",
      "Current time: 2021-12-22 15:43:19 (running for 00:04:47.43)\n",
      "Memory usage on this node: 16.7/47.6 GiB\n",
      "Using AsyncHyperBand: num_stopped=4\n",
      "Bracket: Iter 8.000: -0.8849095702171326 | Iter 4.000: -0.8861204013228416 | Iter 2.000: -0.9153856784105301 | Iter 1.000: -0.962437543604109\n",
      "Resources requested: 1.0/24 CPUs, 1.0/2 GPUs, 0.0/37.98 GiB heap, 0.0/18.99 GiB objects\n",
      "Result logdir: C:\\Users\\Tomas\\ray_results\\DEFAULT_2021-12-22_15-38-31\n",
      "Number of trials: 10/10 (3 PENDING, 1 RUNNING, 6 TERMINATED)\n",
      "+---------------------+------------+-----------------+--------------+-----------------+--------------+----------+\n",
      "| Trial name          | status     | loc             |   batch_size |   learning_rate |   num_epochs |     loss |\n",
      "|---------------------+------------+-----------------+--------------+-----------------+--------------+----------|\n",
      "| DEFAULT_d5cba_00006 | RUNNING    | 127.0.0.1:25964 |           10 |     0.000111693 |            5 |          |\n",
      "| DEFAULT_d5cba_00007 | PENDING    |                 |           30 |     0.000258208 |            5 |          |\n",
      "| DEFAULT_d5cba_00008 | PENDING    |                 |           10 |     0.000173604 |            4 |          |\n",
      "| DEFAULT_d5cba_00009 | PENDING    |                 |           10 |     0.0454214   |            5 |          |\n",
      "| DEFAULT_d5cba_00000 | TERMINATED | 127.0.0.1:14084 |           50 |     0.000109278 |           10 | 0.888209 |\n",
      "| DEFAULT_d5cba_00001 | TERMINATED | 127.0.0.1:31928 |           50 |     0.0422751   |            5 | 0.966756 |\n",
      "| DEFAULT_d5cba_00002 | TERMINATED | 127.0.0.1:21996 |           30 |     0.0195957   |           10 | 0.997522 |\n",
      "| DEFAULT_d5cba_00003 | TERMINATED | 127.0.0.1:22080 |           10 |     0.00277116  |            5 | 0.947813 |\n",
      "| DEFAULT_d5cba_00004 | TERMINATED | 127.0.0.1:23468 |           50 |     0.00902094  |            5 | 0.871443 |\n",
      "| DEFAULT_d5cba_00005 | TERMINATED | 127.0.0.1:25760 |          100 |     0.00939863  |            4 | 1.18165  |\n",
      "+---------------------+------------+-----------------+--------------+-----------------+--------------+----------+\n",
      "\n",
      "\n"
     ]
    },
    {
     "name": "stderr",
     "output_type": "stream",
     "text": [
      "  0%|          | 0/42 [00:00<?, ?it/s]\n"
     ]
    },
    {
     "name": "stdout",
     "output_type": "stream",
     "text": [
      "== Status ==\n",
      "Current time: 2021-12-22 15:43:24 (running for 00:04:52.61)\n",
      "Memory usage on this node: 17.6/47.6 GiB\n",
      "Using AsyncHyperBand: num_stopped=4\n",
      "Bracket: Iter 8.000: -0.8849095702171326 | Iter 4.000: -0.8861204013228416 | Iter 2.000: -0.9153856784105301 | Iter 1.000: -0.962437543604109\n",
      "Resources requested: 1.0/24 CPUs, 1.0/2 GPUs, 0.0/37.98 GiB heap, 0.0/18.99 GiB objects\n",
      "Result logdir: C:\\Users\\Tomas\\ray_results\\DEFAULT_2021-12-22_15-38-31\n",
      "Number of trials: 10/10 (3 PENDING, 1 RUNNING, 6 TERMINATED)\n",
      "+---------------------+------------+-----------------+--------------+-----------------+--------------+----------+\n",
      "| Trial name          | status     | loc             |   batch_size |   learning_rate |   num_epochs |     loss |\n",
      "|---------------------+------------+-----------------+--------------+-----------------+--------------+----------|\n",
      "| DEFAULT_d5cba_00006 | RUNNING    | 127.0.0.1:25964 |           10 |     0.000111693 |            5 |          |\n",
      "| DEFAULT_d5cba_00007 | PENDING    |                 |           30 |     0.000258208 |            5 |          |\n",
      "| DEFAULT_d5cba_00008 | PENDING    |                 |           10 |     0.000173604 |            4 |          |\n",
      "| DEFAULT_d5cba_00009 | PENDING    |                 |           10 |     0.0454214   |            5 |          |\n",
      "| DEFAULT_d5cba_00000 | TERMINATED | 127.0.0.1:14084 |           50 |     0.000109278 |           10 | 0.888209 |\n",
      "| DEFAULT_d5cba_00001 | TERMINATED | 127.0.0.1:31928 |           50 |     0.0422751   |            5 | 0.966756 |\n",
      "| DEFAULT_d5cba_00002 | TERMINATED | 127.0.0.1:21996 |           30 |     0.0195957   |           10 | 0.997522 |\n",
      "| DEFAULT_d5cba_00003 | TERMINATED | 127.0.0.1:22080 |           10 |     0.00277116  |            5 | 0.947813 |\n",
      "| DEFAULT_d5cba_00004 | TERMINATED | 127.0.0.1:23468 |           50 |     0.00902094  |            5 | 0.871443 |\n",
      "| DEFAULT_d5cba_00005 | TERMINATED | 127.0.0.1:25760 |          100 |     0.00939863  |            4 | 1.18165  |\n",
      "+---------------------+------------+-----------------+--------------+-----------------+--------------+----------+\n",
      "\n",
      "\n"
     ]
    },
    {
     "name": "stderr",
     "output_type": "stream",
     "text": [
      "  2%|▏         | 1/42 [00:04<03:24,  5.00s/it]\n",
      " 45%|████▌     | 19/42 [00:05<00:04,  5.19it/s]\n",
      "100%|██████████| 42/42 [00:05<00:00,  7.27it/s]\n",
      "  0%|          | 0/18 [00:00<?, ?it/s]\n"
     ]
    },
    {
     "name": "stdout",
     "output_type": "stream",
     "text": [
      "== Status ==\n",
      "Current time: 2021-12-22 15:43:29 (running for 00:04:57.85)\n",
      "Memory usage on this node: 17.8/47.6 GiB\n",
      "Using AsyncHyperBand: num_stopped=4\n",
      "Bracket: Iter 8.000: -0.8849095702171326 | Iter 4.000: -0.8861204013228416 | Iter 2.000: -0.9153856784105301 | Iter 1.000: -0.962437543604109\n",
      "Resources requested: 1.0/24 CPUs, 1.0/2 GPUs, 0.0/37.98 GiB heap, 0.0/18.99 GiB objects\n",
      "Result logdir: C:\\Users\\Tomas\\ray_results\\DEFAULT_2021-12-22_15-38-31\n",
      "Number of trials: 10/10 (3 PENDING, 1 RUNNING, 6 TERMINATED)\n",
      "+---------------------+------------+-----------------+--------------+-----------------+--------------+----------+\n",
      "| Trial name          | status     | loc             |   batch_size |   learning_rate |   num_epochs |     loss |\n",
      "|---------------------+------------+-----------------+--------------+-----------------+--------------+----------|\n",
      "| DEFAULT_d5cba_00006 | RUNNING    | 127.0.0.1:25964 |           10 |     0.000111693 |            5 |          |\n",
      "| DEFAULT_d5cba_00007 | PENDING    |                 |           30 |     0.000258208 |            5 |          |\n",
      "| DEFAULT_d5cba_00008 | PENDING    |                 |           10 |     0.000173604 |            4 |          |\n",
      "| DEFAULT_d5cba_00009 | PENDING    |                 |           10 |     0.0454214   |            5 |          |\n",
      "| DEFAULT_d5cba_00000 | TERMINATED | 127.0.0.1:14084 |           50 |     0.000109278 |           10 | 0.888209 |\n",
      "| DEFAULT_d5cba_00001 | TERMINATED | 127.0.0.1:31928 |           50 |     0.0422751   |            5 | 0.966756 |\n",
      "| DEFAULT_d5cba_00002 | TERMINATED | 127.0.0.1:21996 |           30 |     0.0195957   |           10 | 0.997522 |\n",
      "| DEFAULT_d5cba_00003 | TERMINATED | 127.0.0.1:22080 |           10 |     0.00277116  |            5 | 0.947813 |\n",
      "| DEFAULT_d5cba_00004 | TERMINATED | 127.0.0.1:23468 |           50 |     0.00902094  |            5 | 0.871443 |\n",
      "| DEFAULT_d5cba_00005 | TERMINATED | 127.0.0.1:25760 |          100 |     0.00939863  |            4 | 1.18165  |\n",
      "+---------------------+------------+-----------------+--------------+-----------------+--------------+----------+\n",
      "\n",
      "\n"
     ]
    },
    {
     "name": "stderr",
     "output_type": "stream",
     "text": [
      "  6%|▌         | 1/18 [00:04<01:11,  4.23s/it]\n"
     ]
    },
    {
     "name": "stdout",
     "output_type": "stream",
     "text": [
      "Result for DEFAULT_d5cba_00006:\n",
      "  accuracy: 0.25555555555555554\n",
      "  date: 2021-12-22_15-43-33\n",
      "  done: true\n",
      "  experiment_id: f07a8968daec4bc9bcfecae5fefd6847\n",
      "  hostname: WSTOMAS21\n",
      "  iterations_since_restore: 1\n",
      "  loss: 1.0661357111401029\n",
      "  node_ip: 127.0.0.1\n",
      "  pid: 25964\n",
      "  should_checkpoint: true\n",
      "  time_since_restore: 14.97246766090393\n",
      "  time_this_iter_s: 14.97246766090393\n",
      "  time_total_s: 14.97246766090393\n",
      "  timestamp: 1640184213\n",
      "  timesteps_since_restore: 0\n",
      "  training_iteration: 1\n",
      "  trial_id: d5cba_00006\n",
      "  \n"
     ]
    },
    {
     "name": "stderr",
     "output_type": "stream",
     "text": [
      "100%|██████████| 18/18 [00:04<00:00,  3.71it/s]\n"
     ]
    },
    {
     "name": "stdout",
     "output_type": "stream",
     "text": [
      "== Status ==\n",
      "Current time: 2021-12-22 15:43:35 (running for 00:05:03.50)\n",
      "Memory usage on this node: 16.3/47.6 GiB\n",
      "Using AsyncHyperBand: num_stopped=5\n",
      "Bracket: Iter 8.000: -0.8849095702171326 | Iter 4.000: -0.8861204013228416 | Iter 2.000: -0.9153856784105301 | Iter 1.000: -0.9667560011148453\n",
      "Resources requested: 1.0/24 CPUs, 1.0/2 GPUs, 0.0/37.98 GiB heap, 0.0/18.99 GiB objects\n",
      "Result logdir: C:\\Users\\Tomas\\ray_results\\DEFAULT_2021-12-22_15-38-31\n",
      "Number of trials: 10/10 (2 PENDING, 1 RUNNING, 7 TERMINATED)\n",
      "+---------------------+------------+-----------------+--------------+-----------------+--------------+----------+\n",
      "| Trial name          | status     | loc             |   batch_size |   learning_rate |   num_epochs |     loss |\n",
      "|---------------------+------------+-----------------+--------------+-----------------+--------------+----------|\n",
      "| DEFAULT_d5cba_00007 | RUNNING    | 127.0.0.1:31264 |           30 |     0.000258208 |            5 |          |\n",
      "| DEFAULT_d5cba_00008 | PENDING    |                 |           10 |     0.000173604 |            4 |          |\n",
      "| DEFAULT_d5cba_00009 | PENDING    |                 |           10 |     0.0454214   |            5 |          |\n",
      "| DEFAULT_d5cba_00000 | TERMINATED | 127.0.0.1:14084 |           50 |     0.000109278 |           10 | 0.888209 |\n",
      "| DEFAULT_d5cba_00001 | TERMINATED | 127.0.0.1:31928 |           50 |     0.0422751   |            5 | 0.966756 |\n",
      "| DEFAULT_d5cba_00002 | TERMINATED | 127.0.0.1:21996 |           30 |     0.0195957   |           10 | 0.997522 |\n",
      "| DEFAULT_d5cba_00003 | TERMINATED | 127.0.0.1:22080 |           10 |     0.00277116  |            5 | 0.947813 |\n",
      "| DEFAULT_d5cba_00004 | TERMINATED | 127.0.0.1:23468 |           50 |     0.00902094  |            5 | 0.871443 |\n",
      "| DEFAULT_d5cba_00005 | TERMINATED | 127.0.0.1:25760 |          100 |     0.00939863  |            4 | 1.18165  |\n",
      "| DEFAULT_d5cba_00006 | TERMINATED | 127.0.0.1:25964 |           10 |     0.000111693 |            5 | 1.06614  |\n",
      "+---------------------+------------+-----------------+--------------+-----------------+--------------+----------+\n",
      "\n",
      "\n",
      "== Status ==\n",
      "Current time: 2021-12-22 15:43:43 (running for 00:05:10.95)\n",
      "Memory usage on this node: 16.7/47.6 GiB\n",
      "Using AsyncHyperBand: num_stopped=5\n",
      "Bracket: Iter 8.000: -0.8849095702171326 | Iter 4.000: -0.8861204013228416 | Iter 2.000: -0.9153856784105301 | Iter 1.000: -0.9667560011148453\n",
      "Resources requested: 1.0/24 CPUs, 1.0/2 GPUs, 0.0/37.98 GiB heap, 0.0/18.99 GiB objects\n",
      "Result logdir: C:\\Users\\Tomas\\ray_results\\DEFAULT_2021-12-22_15-38-31\n",
      "Number of trials: 10/10 (2 PENDING, 1 RUNNING, 7 TERMINATED)\n",
      "+---------------------+------------+-----------------+--------------+-----------------+--------------+----------+\n",
      "| Trial name          | status     | loc             |   batch_size |   learning_rate |   num_epochs |     loss |\n",
      "|---------------------+------------+-----------------+--------------+-----------------+--------------+----------|\n",
      "| DEFAULT_d5cba_00007 | RUNNING    | 127.0.0.1:31264 |           30 |     0.000258208 |            5 |          |\n",
      "| DEFAULT_d5cba_00008 | PENDING    |                 |           10 |     0.000173604 |            4 |          |\n",
      "| DEFAULT_d5cba_00009 | PENDING    |                 |           10 |     0.0454214   |            5 |          |\n",
      "| DEFAULT_d5cba_00000 | TERMINATED | 127.0.0.1:14084 |           50 |     0.000109278 |           10 | 0.888209 |\n",
      "| DEFAULT_d5cba_00001 | TERMINATED | 127.0.0.1:31928 |           50 |     0.0422751   |            5 | 0.966756 |\n",
      "| DEFAULT_d5cba_00002 | TERMINATED | 127.0.0.1:21996 |           30 |     0.0195957   |           10 | 0.997522 |\n",
      "| DEFAULT_d5cba_00003 | TERMINATED | 127.0.0.1:22080 |           10 |     0.00277116  |            5 | 0.947813 |\n",
      "| DEFAULT_d5cba_00004 | TERMINATED | 127.0.0.1:23468 |           50 |     0.00902094  |            5 | 0.871443 |\n",
      "| DEFAULT_d5cba_00005 | TERMINATED | 127.0.0.1:25760 |          100 |     0.00939863  |            4 | 1.18165  |\n",
      "| DEFAULT_d5cba_00006 | TERMINATED | 127.0.0.1:25964 |           10 |     0.000111693 |            5 | 1.06614  |\n",
      "+---------------------+------------+-----------------+--------------+-----------------+--------------+----------+\n",
      "\n",
      "\n"
     ]
    },
    {
     "name": "stderr",
     "output_type": "stream",
     "text": [
      "  0%|          | 0/14 [00:00<?, ?it/s]\n"
     ]
    },
    {
     "name": "stdout",
     "output_type": "stream",
     "text": [
      "== Status ==\n",
      "Current time: 2021-12-22 15:43:48 (running for 00:05:16.16)\n",
      "Memory usage on this node: 17.6/47.6 GiB\n",
      "Using AsyncHyperBand: num_stopped=5\n",
      "Bracket: Iter 8.000: -0.8849095702171326 | Iter 4.000: -0.8861204013228416 | Iter 2.000: -0.9153856784105301 | Iter 1.000: -0.9667560011148453\n",
      "Resources requested: 1.0/24 CPUs, 1.0/2 GPUs, 0.0/37.98 GiB heap, 0.0/18.99 GiB objects\n",
      "Result logdir: C:\\Users\\Tomas\\ray_results\\DEFAULT_2021-12-22_15-38-31\n",
      "Number of trials: 10/10 (2 PENDING, 1 RUNNING, 7 TERMINATED)\n",
      "+---------------------+------------+-----------------+--------------+-----------------+--------------+----------+\n",
      "| Trial name          | status     | loc             |   batch_size |   learning_rate |   num_epochs |     loss |\n",
      "|---------------------+------------+-----------------+--------------+-----------------+--------------+----------|\n",
      "| DEFAULT_d5cba_00007 | RUNNING    | 127.0.0.1:31264 |           30 |     0.000258208 |            5 |          |\n",
      "| DEFAULT_d5cba_00008 | PENDING    |                 |           10 |     0.000173604 |            4 |          |\n",
      "| DEFAULT_d5cba_00009 | PENDING    |                 |           10 |     0.0454214   |            5 |          |\n",
      "| DEFAULT_d5cba_00000 | TERMINATED | 127.0.0.1:14084 |           50 |     0.000109278 |           10 | 0.888209 |\n",
      "| DEFAULT_d5cba_00001 | TERMINATED | 127.0.0.1:31928 |           50 |     0.0422751   |            5 | 0.966756 |\n",
      "| DEFAULT_d5cba_00002 | TERMINATED | 127.0.0.1:21996 |           30 |     0.0195957   |           10 | 0.997522 |\n",
      "| DEFAULT_d5cba_00003 | TERMINATED | 127.0.0.1:22080 |           10 |     0.00277116  |            5 | 0.947813 |\n",
      "| DEFAULT_d5cba_00004 | TERMINATED | 127.0.0.1:23468 |           50 |     0.00902094  |            5 | 0.871443 |\n",
      "| DEFAULT_d5cba_00005 | TERMINATED | 127.0.0.1:25760 |          100 |     0.00939863  |            4 | 1.18165  |\n",
      "| DEFAULT_d5cba_00006 | TERMINATED | 127.0.0.1:25964 |           10 |     0.000111693 |            5 | 1.06614  |\n",
      "+---------------------+------------+-----------------+--------------+-----------------+--------------+----------+\n",
      "\n",
      "\n"
     ]
    },
    {
     "name": "stderr",
     "output_type": "stream",
     "text": [
      "  7%|▋         | 1/14 [00:05<01:06,  5.13s/it]\n",
      "100%|██████████| 14/14 [00:05<00:00,  2.45it/s]\n",
      "  0%|          | 0/6 [00:00<?, ?it/s]\n"
     ]
    },
    {
     "name": "stdout",
     "output_type": "stream",
     "text": [
      "== Status ==\n",
      "Current time: 2021-12-22 15:43:53 (running for 00:05:21.38)\n",
      "Memory usage on this node: 17.8/47.6 GiB\n",
      "Using AsyncHyperBand: num_stopped=5\n",
      "Bracket: Iter 8.000: -0.8849095702171326 | Iter 4.000: -0.8861204013228416 | Iter 2.000: -0.9153856784105301 | Iter 1.000: -0.9667560011148453\n",
      "Resources requested: 1.0/24 CPUs, 1.0/2 GPUs, 0.0/37.98 GiB heap, 0.0/18.99 GiB objects\n",
      "Result logdir: C:\\Users\\Tomas\\ray_results\\DEFAULT_2021-12-22_15-38-31\n",
      "Number of trials: 10/10 (2 PENDING, 1 RUNNING, 7 TERMINATED)\n",
      "+---------------------+------------+-----------------+--------------+-----------------+--------------+----------+\n",
      "| Trial name          | status     | loc             |   batch_size |   learning_rate |   num_epochs |     loss |\n",
      "|---------------------+------------+-----------------+--------------+-----------------+--------------+----------|\n",
      "| DEFAULT_d5cba_00007 | RUNNING    | 127.0.0.1:31264 |           30 |     0.000258208 |            5 |          |\n",
      "| DEFAULT_d5cba_00008 | PENDING    |                 |           10 |     0.000173604 |            4 |          |\n",
      "| DEFAULT_d5cba_00009 | PENDING    |                 |           10 |     0.0454214   |            5 |          |\n",
      "| DEFAULT_d5cba_00000 | TERMINATED | 127.0.0.1:14084 |           50 |     0.000109278 |           10 | 0.888209 |\n",
      "| DEFAULT_d5cba_00001 | TERMINATED | 127.0.0.1:31928 |           50 |     0.0422751   |            5 | 0.966756 |\n",
      "| DEFAULT_d5cba_00002 | TERMINATED | 127.0.0.1:21996 |           30 |     0.0195957   |           10 | 0.997522 |\n",
      "| DEFAULT_d5cba_00003 | TERMINATED | 127.0.0.1:22080 |           10 |     0.00277116  |            5 | 0.947813 |\n",
      "| DEFAULT_d5cba_00004 | TERMINATED | 127.0.0.1:23468 |           50 |     0.00902094  |            5 | 0.871443 |\n",
      "| DEFAULT_d5cba_00005 | TERMINATED | 127.0.0.1:25760 |          100 |     0.00939863  |            4 | 1.18165  |\n",
      "| DEFAULT_d5cba_00006 | TERMINATED | 127.0.0.1:25964 |           10 |     0.000111693 |            5 | 1.06614  |\n",
      "+---------------------+------------+-----------------+--------------+-----------------+--------------+----------+\n",
      "\n",
      "\n"
     ]
    },
    {
     "name": "stderr",
     "output_type": "stream",
     "text": [
      " 17%|█▋        | 1/6 [00:04<00:21,  4.25s/it]\n"
     ]
    },
    {
     "name": "stdout",
     "output_type": "stream",
     "text": [
      "Result for DEFAULT_d5cba_00007:\n",
      "  accuracy: 0.18333333333333332\n",
      "  date: 2021-12-22_15-43-56\n",
      "  done: true\n",
      "  experiment_id: 1c2d3599772549689cd6121a3e1206e7\n",
      "  hostname: WSTOMAS21\n",
      "  iterations_since_restore: 1\n",
      "  loss: 1.2166396379470825\n",
      "  node_ip: 127.0.0.1\n",
      "  pid: 31264\n",
      "  should_checkpoint: true\n",
      "  time_since_restore: 15.022666692733765\n",
      "  time_this_iter_s: 15.022666692733765\n",
      "  time_total_s: 15.022666692733765\n",
      "  timestamp: 1640184236\n",
      "  timesteps_since_restore: 0\n",
      "  training_iteration: 1\n",
      "  trial_id: d5cba_00007\n",
      "  \n"
     ]
    },
    {
     "name": "stderr",
     "output_type": "stream",
     "text": [
      "100%|██████████| 6/6 [00:04<00:00,  1.25it/s]\n"
     ]
    },
    {
     "name": "stdout",
     "output_type": "stream",
     "text": [
      "== Status ==\n",
      "Current time: 2021-12-22 15:43:59 (running for 00:05:27.10)\n",
      "Memory usage on this node: 16.3/47.6 GiB\n",
      "Using AsyncHyperBand: num_stopped=6\n",
      "Bracket: Iter 8.000: -0.8849095702171326 | Iter 4.000: -0.8861204013228416 | Iter 2.000: -0.9153856784105301 | Iter 1.000: -0.9821389789382617\n",
      "Resources requested: 1.0/24 CPUs, 1.0/2 GPUs, 0.0/37.98 GiB heap, 0.0/18.99 GiB objects\n",
      "Result logdir: C:\\Users\\Tomas\\ray_results\\DEFAULT_2021-12-22_15-38-31\n",
      "Number of trials: 10/10 (1 PENDING, 1 RUNNING, 8 TERMINATED)\n",
      "+---------------------+------------+-----------------+--------------+-----------------+--------------+----------+\n",
      "| Trial name          | status     | loc             |   batch_size |   learning_rate |   num_epochs |     loss |\n",
      "|---------------------+------------+-----------------+--------------+-----------------+--------------+----------|\n",
      "| DEFAULT_d5cba_00008 | RUNNING    | 127.0.0.1:27368 |           10 |     0.000173604 |            4 |          |\n",
      "| DEFAULT_d5cba_00009 | PENDING    |                 |           10 |     0.0454214   |            5 |          |\n",
      "| DEFAULT_d5cba_00000 | TERMINATED | 127.0.0.1:14084 |           50 |     0.000109278 |           10 | 0.888209 |\n",
      "| DEFAULT_d5cba_00001 | TERMINATED | 127.0.0.1:31928 |           50 |     0.0422751   |            5 | 0.966756 |\n",
      "| DEFAULT_d5cba_00002 | TERMINATED | 127.0.0.1:21996 |           30 |     0.0195957   |           10 | 0.997522 |\n",
      "| DEFAULT_d5cba_00003 | TERMINATED | 127.0.0.1:22080 |           10 |     0.00277116  |            5 | 0.947813 |\n",
      "| DEFAULT_d5cba_00004 | TERMINATED | 127.0.0.1:23468 |           50 |     0.00902094  |            5 | 0.871443 |\n",
      "| DEFAULT_d5cba_00005 | TERMINATED | 127.0.0.1:25760 |          100 |     0.00939863  |            4 | 1.18165  |\n",
      "| DEFAULT_d5cba_00006 | TERMINATED | 127.0.0.1:25964 |           10 |     0.000111693 |            5 | 1.06614  |\n",
      "| DEFAULT_d5cba_00007 | TERMINATED | 127.0.0.1:31264 |           30 |     0.000258208 |            5 | 1.21664  |\n",
      "+---------------------+------------+-----------------+--------------+-----------------+--------------+----------+\n",
      "\n",
      "\n",
      "== Status ==\n",
      "Current time: 2021-12-22 15:44:06 (running for 00:05:34.62)\n",
      "Memory usage on this node: 16.7/47.6 GiB\n",
      "Using AsyncHyperBand: num_stopped=6\n",
      "Bracket: Iter 8.000: -0.8849095702171326 | Iter 4.000: -0.8861204013228416 | Iter 2.000: -0.9153856784105301 | Iter 1.000: -0.9821389789382617\n",
      "Resources requested: 1.0/24 CPUs, 1.0/2 GPUs, 0.0/37.98 GiB heap, 0.0/18.99 GiB objects\n",
      "Result logdir: C:\\Users\\Tomas\\ray_results\\DEFAULT_2021-12-22_15-38-31\n",
      "Number of trials: 10/10 (1 PENDING, 1 RUNNING, 8 TERMINATED)\n",
      "+---------------------+------------+-----------------+--------------+-----------------+--------------+----------+\n",
      "| Trial name          | status     | loc             |   batch_size |   learning_rate |   num_epochs |     loss |\n",
      "|---------------------+------------+-----------------+--------------+-----------------+--------------+----------|\n",
      "| DEFAULT_d5cba_00008 | RUNNING    | 127.0.0.1:27368 |           10 |     0.000173604 |            4 |          |\n",
      "| DEFAULT_d5cba_00009 | PENDING    |                 |           10 |     0.0454214   |            5 |          |\n",
      "| DEFAULT_d5cba_00000 | TERMINATED | 127.0.0.1:14084 |           50 |     0.000109278 |           10 | 0.888209 |\n",
      "| DEFAULT_d5cba_00001 | TERMINATED | 127.0.0.1:31928 |           50 |     0.0422751   |            5 | 0.966756 |\n",
      "| DEFAULT_d5cba_00002 | TERMINATED | 127.0.0.1:21996 |           30 |     0.0195957   |           10 | 0.997522 |\n",
      "| DEFAULT_d5cba_00003 | TERMINATED | 127.0.0.1:22080 |           10 |     0.00277116  |            5 | 0.947813 |\n",
      "| DEFAULT_d5cba_00004 | TERMINATED | 127.0.0.1:23468 |           50 |     0.00902094  |            5 | 0.871443 |\n",
      "| DEFAULT_d5cba_00005 | TERMINATED | 127.0.0.1:25760 |          100 |     0.00939863  |            4 | 1.18165  |\n",
      "| DEFAULT_d5cba_00006 | TERMINATED | 127.0.0.1:25964 |           10 |     0.000111693 |            5 | 1.06614  |\n",
      "| DEFAULT_d5cba_00007 | TERMINATED | 127.0.0.1:31264 |           30 |     0.000258208 |            5 | 1.21664  |\n",
      "+---------------------+------------+-----------------+--------------+-----------------+--------------+----------+\n",
      "\n",
      "\n"
     ]
    },
    {
     "name": "stderr",
     "output_type": "stream",
     "text": [
      "  0%|          | 0/42 [00:00<?, ?it/s]\n"
     ]
    },
    {
     "name": "stdout",
     "output_type": "stream",
     "text": [
      "== Status ==\n",
      "Current time: 2021-12-22 15:44:11 (running for 00:05:39.78)\n",
      "Memory usage on this node: 17.7/47.6 GiB\n",
      "Using AsyncHyperBand: num_stopped=6\n",
      "Bracket: Iter 8.000: -0.8849095702171326 | Iter 4.000: -0.8861204013228416 | Iter 2.000: -0.9153856784105301 | Iter 1.000: -0.9821389789382617\n",
      "Resources requested: 1.0/24 CPUs, 1.0/2 GPUs, 0.0/37.98 GiB heap, 0.0/18.99 GiB objects\n",
      "Result logdir: C:\\Users\\Tomas\\ray_results\\DEFAULT_2021-12-22_15-38-31\n",
      "Number of trials: 10/10 (1 PENDING, 1 RUNNING, 8 TERMINATED)\n",
      "+---------------------+------------+-----------------+--------------+-----------------+--------------+----------+\n",
      "| Trial name          | status     | loc             |   batch_size |   learning_rate |   num_epochs |     loss |\n",
      "|---------------------+------------+-----------------+--------------+-----------------+--------------+----------|\n",
      "| DEFAULT_d5cba_00008 | RUNNING    | 127.0.0.1:27368 |           10 |     0.000173604 |            4 |          |\n",
      "| DEFAULT_d5cba_00009 | PENDING    |                 |           10 |     0.0454214   |            5 |          |\n",
      "| DEFAULT_d5cba_00000 | TERMINATED | 127.0.0.1:14084 |           50 |     0.000109278 |           10 | 0.888209 |\n",
      "| DEFAULT_d5cba_00001 | TERMINATED | 127.0.0.1:31928 |           50 |     0.0422751   |            5 | 0.966756 |\n",
      "| DEFAULT_d5cba_00002 | TERMINATED | 127.0.0.1:21996 |           30 |     0.0195957   |           10 | 0.997522 |\n",
      "| DEFAULT_d5cba_00003 | TERMINATED | 127.0.0.1:22080 |           10 |     0.00277116  |            5 | 0.947813 |\n",
      "| DEFAULT_d5cba_00004 | TERMINATED | 127.0.0.1:23468 |           50 |     0.00902094  |            5 | 0.871443 |\n",
      "| DEFAULT_d5cba_00005 | TERMINATED | 127.0.0.1:25760 |          100 |     0.00939863  |            4 | 1.18165  |\n",
      "| DEFAULT_d5cba_00006 | TERMINATED | 127.0.0.1:25964 |           10 |     0.000111693 |            5 | 1.06614  |\n",
      "| DEFAULT_d5cba_00007 | TERMINATED | 127.0.0.1:31264 |           30 |     0.000258208 |            5 | 1.21664  |\n",
      "+---------------------+------------+-----------------+--------------+-----------------+--------------+----------+\n",
      "\n",
      "\n"
     ]
    },
    {
     "name": "stderr",
     "output_type": "stream",
     "text": [
      "  2%|▏         | 1/42 [00:04<03:19,  4.87s/it]\n",
      " 48%|████▊     | 20/42 [00:04<00:03,  5.62it/s]\n",
      "100%|██████████| 42/42 [00:05<00:00,  7.47it/s]\n",
      "  0%|          | 0/18 [00:00<?, ?it/s]\n"
     ]
    },
    {
     "name": "stdout",
     "output_type": "stream",
     "text": [
      "== Status ==\n",
      "Current time: 2021-12-22 15:44:17 (running for 00:05:44.98)\n",
      "Memory usage on this node: 17.8/47.6 GiB\n",
      "Using AsyncHyperBand: num_stopped=6\n",
      "Bracket: Iter 8.000: -0.8849095702171326 | Iter 4.000: -0.8861204013228416 | Iter 2.000: -0.9153856784105301 | Iter 1.000: -0.9821389789382617\n",
      "Resources requested: 1.0/24 CPUs, 1.0/2 GPUs, 0.0/37.98 GiB heap, 0.0/18.99 GiB objects\n",
      "Result logdir: C:\\Users\\Tomas\\ray_results\\DEFAULT_2021-12-22_15-38-31\n",
      "Number of trials: 10/10 (1 PENDING, 1 RUNNING, 8 TERMINATED)\n",
      "+---------------------+------------+-----------------+--------------+-----------------+--------------+----------+\n",
      "| Trial name          | status     | loc             |   batch_size |   learning_rate |   num_epochs |     loss |\n",
      "|---------------------+------------+-----------------+--------------+-----------------+--------------+----------|\n",
      "| DEFAULT_d5cba_00008 | RUNNING    | 127.0.0.1:27368 |           10 |     0.000173604 |            4 |          |\n",
      "| DEFAULT_d5cba_00009 | PENDING    |                 |           10 |     0.0454214   |            5 |          |\n",
      "| DEFAULT_d5cba_00000 | TERMINATED | 127.0.0.1:14084 |           50 |     0.000109278 |           10 | 0.888209 |\n",
      "| DEFAULT_d5cba_00001 | TERMINATED | 127.0.0.1:31928 |           50 |     0.0422751   |            5 | 0.966756 |\n",
      "| DEFAULT_d5cba_00002 | TERMINATED | 127.0.0.1:21996 |           30 |     0.0195957   |           10 | 0.997522 |\n",
      "| DEFAULT_d5cba_00003 | TERMINATED | 127.0.0.1:22080 |           10 |     0.00277116  |            5 | 0.947813 |\n",
      "| DEFAULT_d5cba_00004 | TERMINATED | 127.0.0.1:23468 |           50 |     0.00902094  |            5 | 0.871443 |\n",
      "| DEFAULT_d5cba_00005 | TERMINATED | 127.0.0.1:25760 |          100 |     0.00939863  |            4 | 1.18165  |\n",
      "| DEFAULT_d5cba_00006 | TERMINATED | 127.0.0.1:25964 |           10 |     0.000111693 |            5 | 1.06614  |\n",
      "| DEFAULT_d5cba_00007 | TERMINATED | 127.0.0.1:31264 |           30 |     0.000258208 |            5 | 1.21664  |\n",
      "+---------------------+------------+-----------------+--------------+-----------------+--------------+----------+\n",
      "\n",
      "\n"
     ]
    },
    {
     "name": "stderr",
     "output_type": "stream",
     "text": [
      "  6%|▌         | 1/18 [00:04<01:08,  4.04s/it]\n"
     ]
    },
    {
     "name": "stdout",
     "output_type": "stream",
     "text": [
      "Result for DEFAULT_d5cba_00008:\n",
      "  accuracy: 0.6833333333333333\n",
      "  date: 2021-12-22_15-44-19\n",
      "  done: false\n",
      "  experiment_id: f1737cde9c564032a67b82ed8062dd84\n",
      "  hostname: WSTOMAS21\n",
      "  iterations_since_restore: 1\n",
      "  loss: 0.9417308006021712\n",
      "  node_ip: 127.0.0.1\n",
      "  pid: 27368\n",
      "  should_checkpoint: true\n",
      "  time_since_restore: 14.337210655212402\n",
      "  time_this_iter_s: 14.337210655212402\n",
      "  time_total_s: 14.337210655212402\n",
      "  timestamp: 1640184259\n",
      "  timesteps_since_restore: 0\n",
      "  training_iteration: 1\n",
      "  trial_id: d5cba_00008\n",
      "  \n"
     ]
    },
    {
     "name": "stderr",
     "output_type": "stream",
     "text": [
      "100%|██████████| 18/18 [00:04<00:00,  3.96it/s]\n",
      "  0%|          | 0/42 [00:00<?, ?it/s]\n"
     ]
    },
    {
     "name": "stdout",
     "output_type": "stream",
     "text": [
      "== Status ==\n",
      "Current time: 2021-12-22 15:44:22 (running for 00:05:50.00)\n",
      "Memory usage on this node: 17.8/47.6 GiB\n",
      "Using AsyncHyperBand: num_stopped=6\n",
      "Bracket: Iter 8.000: -0.8849095702171326 | Iter 4.000: -0.8861204013228416 | Iter 2.000: -0.9153856784105301 | Iter 1.000: -0.9667560011148453\n",
      "Resources requested: 1.0/24 CPUs, 1.0/2 GPUs, 0.0/37.98 GiB heap, 0.0/18.99 GiB objects\n",
      "Result logdir: C:\\Users\\Tomas\\ray_results\\DEFAULT_2021-12-22_15-38-31\n",
      "Number of trials: 10/10 (1 PENDING, 1 RUNNING, 8 TERMINATED)\n",
      "+---------------------+------------+-----------------+--------------+-----------------+--------------+----------+\n",
      "| Trial name          | status     | loc             |   batch_size |   learning_rate |   num_epochs |     loss |\n",
      "|---------------------+------------+-----------------+--------------+-----------------+--------------+----------|\n",
      "| DEFAULT_d5cba_00008 | RUNNING    | 127.0.0.1:27368 |           10 |     0.000173604 |            4 | 0.941731 |\n",
      "| DEFAULT_d5cba_00009 | PENDING    |                 |           10 |     0.0454214   |            5 |          |\n",
      "| DEFAULT_d5cba_00000 | TERMINATED | 127.0.0.1:14084 |           50 |     0.000109278 |           10 | 0.888209 |\n",
      "| DEFAULT_d5cba_00001 | TERMINATED | 127.0.0.1:31928 |           50 |     0.0422751   |            5 | 0.966756 |\n",
      "| DEFAULT_d5cba_00002 | TERMINATED | 127.0.0.1:21996 |           30 |     0.0195957   |           10 | 0.997522 |\n",
      "| DEFAULT_d5cba_00003 | TERMINATED | 127.0.0.1:22080 |           10 |     0.00277116  |            5 | 0.947813 |\n",
      "| DEFAULT_d5cba_00004 | TERMINATED | 127.0.0.1:23468 |           50 |     0.00902094  |            5 | 0.871443 |\n",
      "| DEFAULT_d5cba_00005 | TERMINATED | 127.0.0.1:25760 |          100 |     0.00939863  |            4 | 1.18165  |\n",
      "| DEFAULT_d5cba_00006 | TERMINATED | 127.0.0.1:25964 |           10 |     0.000111693 |            5 | 1.06614  |\n",
      "| DEFAULT_d5cba_00007 | TERMINATED | 127.0.0.1:31264 |           30 |     0.000258208 |            5 | 1.21664  |\n",
      "+---------------------+------------+-----------------+--------------+-----------------+--------------+----------+\n",
      "\n",
      "\n"
     ]
    },
    {
     "name": "stderr",
     "output_type": "stream",
     "text": [
      "  2%|▏         | 1/42 [00:04<02:49,  4.12s/it]\n",
      " 10%|▉         | 4/42 [00:04<00:30,  1.24it/s]\n",
      " 62%|██████▏   | 26/42 [00:04<00:01, 11.20it/s]\n",
      "100%|██████████| 42/42 [00:04<00:00,  8.73it/s]\n",
      "  0%|          | 0/18 [00:00<?, ?it/s]\n"
     ]
    },
    {
     "name": "stdout",
     "output_type": "stream",
     "text": [
      "== Status ==\n",
      "Current time: 2021-12-22 15:44:27 (running for 00:05:55.17)\n",
      "Memory usage on this node: 17.8/47.6 GiB\n",
      "Using AsyncHyperBand: num_stopped=6\n",
      "Bracket: Iter 8.000: -0.8849095702171326 | Iter 4.000: -0.8861204013228416 | Iter 2.000: -0.9153856784105301 | Iter 1.000: -0.9667560011148453\n",
      "Resources requested: 1.0/24 CPUs, 1.0/2 GPUs, 0.0/37.98 GiB heap, 0.0/18.99 GiB objects\n",
      "Result logdir: C:\\Users\\Tomas\\ray_results\\DEFAULT_2021-12-22_15-38-31\n",
      "Number of trials: 10/10 (1 PENDING, 1 RUNNING, 8 TERMINATED)\n",
      "+---------------------+------------+-----------------+--------------+-----------------+--------------+----------+\n",
      "| Trial name          | status     | loc             |   batch_size |   learning_rate |   num_epochs |     loss |\n",
      "|---------------------+------------+-----------------+--------------+-----------------+--------------+----------|\n",
      "| DEFAULT_d5cba_00008 | RUNNING    | 127.0.0.1:27368 |           10 |     0.000173604 |            4 | 0.941731 |\n",
      "| DEFAULT_d5cba_00009 | PENDING    |                 |           10 |     0.0454214   |            5 |          |\n",
      "| DEFAULT_d5cba_00000 | TERMINATED | 127.0.0.1:14084 |           50 |     0.000109278 |           10 | 0.888209 |\n",
      "| DEFAULT_d5cba_00001 | TERMINATED | 127.0.0.1:31928 |           50 |     0.0422751   |            5 | 0.966756 |\n",
      "| DEFAULT_d5cba_00002 | TERMINATED | 127.0.0.1:21996 |           30 |     0.0195957   |           10 | 0.997522 |\n",
      "| DEFAULT_d5cba_00003 | TERMINATED | 127.0.0.1:22080 |           10 |     0.00277116  |            5 | 0.947813 |\n",
      "| DEFAULT_d5cba_00004 | TERMINATED | 127.0.0.1:23468 |           50 |     0.00902094  |            5 | 0.871443 |\n",
      "| DEFAULT_d5cba_00005 | TERMINATED | 127.0.0.1:25760 |          100 |     0.00939863  |            4 | 1.18165  |\n",
      "| DEFAULT_d5cba_00006 | TERMINATED | 127.0.0.1:25964 |           10 |     0.000111693 |            5 | 1.06614  |\n",
      "| DEFAULT_d5cba_00007 | TERMINATED | 127.0.0.1:31264 |           30 |     0.000258208 |            5 | 1.21664  |\n",
      "+---------------------+------------+-----------------+--------------+-----------------+--------------+----------+\n",
      "\n",
      "\n"
     ]
    },
    {
     "name": "stderr",
     "output_type": "stream",
     "text": [
      "  6%|▌         | 1/18 [00:03<01:06,  3.93s/it]\n",
      "100%|██████████| 18/18 [00:04<00:00,  4.04it/s]\n"
     ]
    },
    {
     "name": "stdout",
     "output_type": "stream",
     "text": [
      "Result for DEFAULT_d5cba_00008:\n",
      "  accuracy: 0.6833333333333333\n",
      "  date: 2021-12-22_15-44-29\n",
      "  done: true\n",
      "  experiment_id: f1737cde9c564032a67b82ed8062dd84\n",
      "  hostname: WSTOMAS21\n",
      "  iterations_since_restore: 2\n",
      "  loss: 0.937641547785865\n",
      "  node_ip: 127.0.0.1\n",
      "  pid: 27368\n",
      "  should_checkpoint: true\n",
      "  time_since_restore: 23.668036699295044\n",
      "  time_this_iter_s: 9.330826044082642\n",
      "  time_total_s: 23.668036699295044\n",
      "  timestamp: 1640184269\n",
      "  timesteps_since_restore: 0\n",
      "  training_iteration: 2\n",
      "  trial_id: d5cba_00008\n",
      "  \n",
      "== Status ==\n",
      "Current time: 2021-12-22 15:44:32 (running for 00:06:00.33)\n",
      "Memory usage on this node: 16.3/47.6 GiB\n",
      "Using AsyncHyperBand: num_stopped=7\n",
      "Bracket: Iter 8.000: -0.8849095702171326 | Iter 4.000: -0.8861204013228416 | Iter 2.000: -0.9265136130981975 | Iter 1.000: -0.9667560011148453\n",
      "Resources requested: 1.0/24 CPUs, 1.0/2 GPUs, 0.0/37.98 GiB heap, 0.0/18.99 GiB objects\n",
      "Result logdir: C:\\Users\\Tomas\\ray_results\\DEFAULT_2021-12-22_15-38-31\n",
      "Number of trials: 10/10 (1 RUNNING, 9 TERMINATED)\n",
      "+---------------------+------------+-----------------+--------------+-----------------+--------------+----------+\n",
      "| Trial name          | status     | loc             |   batch_size |   learning_rate |   num_epochs |     loss |\n",
      "|---------------------+------------+-----------------+--------------+-----------------+--------------+----------|\n",
      "| DEFAULT_d5cba_00009 | RUNNING    | 127.0.0.1:31648 |           10 |     0.0454214   |            5 |          |\n",
      "| DEFAULT_d5cba_00000 | TERMINATED | 127.0.0.1:14084 |           50 |     0.000109278 |           10 | 0.888209 |\n",
      "| DEFAULT_d5cba_00001 | TERMINATED | 127.0.0.1:31928 |           50 |     0.0422751   |            5 | 0.966756 |\n",
      "| DEFAULT_d5cba_00002 | TERMINATED | 127.0.0.1:21996 |           30 |     0.0195957   |           10 | 0.997522 |\n",
      "| DEFAULT_d5cba_00003 | TERMINATED | 127.0.0.1:22080 |           10 |     0.00277116  |            5 | 0.947813 |\n",
      "| DEFAULT_d5cba_00004 | TERMINATED | 127.0.0.1:23468 |           50 |     0.00902094  |            5 | 0.871443 |\n",
      "| DEFAULT_d5cba_00005 | TERMINATED | 127.0.0.1:25760 |          100 |     0.00939863  |            4 | 1.18165  |\n",
      "| DEFAULT_d5cba_00006 | TERMINATED | 127.0.0.1:25964 |           10 |     0.000111693 |            5 | 1.06614  |\n",
      "| DEFAULT_d5cba_00007 | TERMINATED | 127.0.0.1:31264 |           30 |     0.000258208 |            5 | 1.21664  |\n",
      "| DEFAULT_d5cba_00008 | TERMINATED | 127.0.0.1:27368 |           10 |     0.000173604 |            4 | 0.937642 |\n",
      "+---------------------+------------+-----------------+--------------+-----------------+--------------+----------+\n",
      "\n",
      "\n",
      "== Status ==\n",
      "Current time: 2021-12-22 15:44:38 (running for 00:06:06.56)\n",
      "Memory usage on this node: 16.7/47.6 GiB\n",
      "Using AsyncHyperBand: num_stopped=7\n",
      "Bracket: Iter 8.000: -0.8849095702171326 | Iter 4.000: -0.8861204013228416 | Iter 2.000: -0.9265136130981975 | Iter 1.000: -0.9667560011148453\n",
      "Resources requested: 1.0/24 CPUs, 1.0/2 GPUs, 0.0/37.98 GiB heap, 0.0/18.99 GiB objects\n",
      "Result logdir: C:\\Users\\Tomas\\ray_results\\DEFAULT_2021-12-22_15-38-31\n",
      "Number of trials: 10/10 (1 RUNNING, 9 TERMINATED)\n",
      "+---------------------+------------+-----------------+--------------+-----------------+--------------+----------+\n",
      "| Trial name          | status     | loc             |   batch_size |   learning_rate |   num_epochs |     loss |\n",
      "|---------------------+------------+-----------------+--------------+-----------------+--------------+----------|\n",
      "| DEFAULT_d5cba_00009 | RUNNING    | 127.0.0.1:31648 |           10 |     0.0454214   |            5 |          |\n",
      "| DEFAULT_d5cba_00000 | TERMINATED | 127.0.0.1:14084 |           50 |     0.000109278 |           10 | 0.888209 |\n",
      "| DEFAULT_d5cba_00001 | TERMINATED | 127.0.0.1:31928 |           50 |     0.0422751   |            5 | 0.966756 |\n",
      "| DEFAULT_d5cba_00002 | TERMINATED | 127.0.0.1:21996 |           30 |     0.0195957   |           10 | 0.997522 |\n",
      "| DEFAULT_d5cba_00003 | TERMINATED | 127.0.0.1:22080 |           10 |     0.00277116  |            5 | 0.947813 |\n",
      "| DEFAULT_d5cba_00004 | TERMINATED | 127.0.0.1:23468 |           50 |     0.00902094  |            5 | 0.871443 |\n",
      "| DEFAULT_d5cba_00005 | TERMINATED | 127.0.0.1:25760 |          100 |     0.00939863  |            4 | 1.18165  |\n",
      "| DEFAULT_d5cba_00006 | TERMINATED | 127.0.0.1:25964 |           10 |     0.000111693 |            5 | 1.06614  |\n",
      "| DEFAULT_d5cba_00007 | TERMINATED | 127.0.0.1:31264 |           30 |     0.000258208 |            5 | 1.21664  |\n",
      "| DEFAULT_d5cba_00008 | TERMINATED | 127.0.0.1:27368 |           10 |     0.000173604 |            4 | 0.937642 |\n",
      "+---------------------+------------+-----------------+--------------+-----------------+--------------+----------+\n",
      "\n",
      "\n"
     ]
    },
    {
     "name": "stderr",
     "output_type": "stream",
     "text": [
      "  0%|          | 0/42 [00:00<?, ?it/s]\n"
     ]
    },
    {
     "name": "stdout",
     "output_type": "stream",
     "text": [
      "== Status ==\n",
      "Current time: 2021-12-22 15:44:43 (running for 00:06:11.62)\n",
      "Memory usage on this node: 17.6/47.6 GiB\n",
      "Using AsyncHyperBand: num_stopped=7\n",
      "Bracket: Iter 8.000: -0.8849095702171326 | Iter 4.000: -0.8861204013228416 | Iter 2.000: -0.9265136130981975 | Iter 1.000: -0.9667560011148453\n",
      "Resources requested: 1.0/24 CPUs, 1.0/2 GPUs, 0.0/37.98 GiB heap, 0.0/18.99 GiB objects\n",
      "Result logdir: C:\\Users\\Tomas\\ray_results\\DEFAULT_2021-12-22_15-38-31\n",
      "Number of trials: 10/10 (1 RUNNING, 9 TERMINATED)\n",
      "+---------------------+------------+-----------------+--------------+-----------------+--------------+----------+\n",
      "| Trial name          | status     | loc             |   batch_size |   learning_rate |   num_epochs |     loss |\n",
      "|---------------------+------------+-----------------+--------------+-----------------+--------------+----------|\n",
      "| DEFAULT_d5cba_00009 | RUNNING    | 127.0.0.1:31648 |           10 |     0.0454214   |            5 |          |\n",
      "| DEFAULT_d5cba_00000 | TERMINATED | 127.0.0.1:14084 |           50 |     0.000109278 |           10 | 0.888209 |\n",
      "| DEFAULT_d5cba_00001 | TERMINATED | 127.0.0.1:31928 |           50 |     0.0422751   |            5 | 0.966756 |\n",
      "| DEFAULT_d5cba_00002 | TERMINATED | 127.0.0.1:21996 |           30 |     0.0195957   |           10 | 0.997522 |\n",
      "| DEFAULT_d5cba_00003 | TERMINATED | 127.0.0.1:22080 |           10 |     0.00277116  |            5 | 0.947813 |\n",
      "| DEFAULT_d5cba_00004 | TERMINATED | 127.0.0.1:23468 |           50 |     0.00902094  |            5 | 0.871443 |\n",
      "| DEFAULT_d5cba_00005 | TERMINATED | 127.0.0.1:25760 |          100 |     0.00939863  |            4 | 1.18165  |\n",
      "| DEFAULT_d5cba_00006 | TERMINATED | 127.0.0.1:25964 |           10 |     0.000111693 |            5 | 1.06614  |\n",
      "| DEFAULT_d5cba_00007 | TERMINATED | 127.0.0.1:31264 |           30 |     0.000258208 |            5 | 1.21664  |\n",
      "| DEFAULT_d5cba_00008 | TERMINATED | 127.0.0.1:27368 |           10 |     0.000173604 |            4 | 0.937642 |\n",
      "+---------------------+------------+-----------------+--------------+-----------------+--------------+----------+\n",
      "\n",
      "\n"
     ]
    },
    {
     "name": "stderr",
     "output_type": "stream",
     "text": [
      " 48%|████▊     | 20/42 [00:04<00:03,  5.63it/s]\n",
      "100%|██████████| 42/42 [00:05<00:00,  7.55it/s]\n",
      "  0%|          | 0/18 [00:00<?, ?it/s]\n"
     ]
    },
    {
     "name": "stdout",
     "output_type": "stream",
     "text": [
      "== Status ==\n",
      "Current time: 2021-12-22 15:44:48 (running for 00:06:16.70)\n",
      "Memory usage on this node: 17.8/47.6 GiB\n",
      "Using AsyncHyperBand: num_stopped=7\n",
      "Bracket: Iter 8.000: -0.8849095702171326 | Iter 4.000: -0.8861204013228416 | Iter 2.000: -0.9265136130981975 | Iter 1.000: -0.9667560011148453\n",
      "Resources requested: 1.0/24 CPUs, 1.0/2 GPUs, 0.0/37.98 GiB heap, 0.0/18.99 GiB objects\n",
      "Result logdir: C:\\Users\\Tomas\\ray_results\\DEFAULT_2021-12-22_15-38-31\n",
      "Number of trials: 10/10 (1 RUNNING, 9 TERMINATED)\n",
      "+---------------------+------------+-----------------+--------------+-----------------+--------------+----------+\n",
      "| Trial name          | status     | loc             |   batch_size |   learning_rate |   num_epochs |     loss |\n",
      "|---------------------+------------+-----------------+--------------+-----------------+--------------+----------|\n",
      "| DEFAULT_d5cba_00009 | RUNNING    | 127.0.0.1:31648 |           10 |     0.0454214   |            5 |          |\n",
      "| DEFAULT_d5cba_00000 | TERMINATED | 127.0.0.1:14084 |           50 |     0.000109278 |           10 | 0.888209 |\n",
      "| DEFAULT_d5cba_00001 | TERMINATED | 127.0.0.1:31928 |           50 |     0.0422751   |            5 | 0.966756 |\n",
      "| DEFAULT_d5cba_00002 | TERMINATED | 127.0.0.1:21996 |           30 |     0.0195957   |           10 | 0.997522 |\n",
      "| DEFAULT_d5cba_00003 | TERMINATED | 127.0.0.1:22080 |           10 |     0.00277116  |            5 | 0.947813 |\n",
      "| DEFAULT_d5cba_00004 | TERMINATED | 127.0.0.1:23468 |           50 |     0.00902094  |            5 | 0.871443 |\n",
      "| DEFAULT_d5cba_00005 | TERMINATED | 127.0.0.1:25760 |          100 |     0.00939863  |            4 | 1.18165  |\n",
      "| DEFAULT_d5cba_00006 | TERMINATED | 127.0.0.1:25964 |           10 |     0.000111693 |            5 | 1.06614  |\n",
      "| DEFAULT_d5cba_00007 | TERMINATED | 127.0.0.1:31264 |           30 |     0.000258208 |            5 | 1.21664  |\n",
      "| DEFAULT_d5cba_00008 | TERMINATED | 127.0.0.1:27368 |           10 |     0.000173604 |            4 | 0.937642 |\n",
      "+---------------------+------------+-----------------+--------------+-----------------+--------------+----------+\n",
      "\n",
      "\n"
     ]
    },
    {
     "name": "stderr",
     "output_type": "stream",
     "text": [
      "  6%|▌         | 1/18 [00:04<01:10,  4.17s/it]\n"
     ]
    },
    {
     "name": "stdout",
     "output_type": "stream",
     "text": [
      "Result for DEFAULT_d5cba_00009:\n",
      "  accuracy: 0.6833333333333333\n",
      "  date: 2021-12-22_15-44-52\n",
      "  done: false\n",
      "  experiment_id: be12fc2152074c17bd0b7a8da6051ed8\n",
      "  hostname: WSTOMAS21\n",
      "  iterations_since_restore: 1\n",
      "  loss: 0.8439535233709548\n",
      "  node_ip: 127.0.0.1\n",
      "  pid: 31648\n",
      "  should_checkpoint: true\n",
      "  time_since_restore: 14.541928052902222\n",
      "  time_this_iter_s: 14.541928052902222\n",
      "  time_total_s: 14.541928052902222\n",
      "  timestamp: 1640184292\n",
      "  timesteps_since_restore: 0\n",
      "  training_iteration: 1\n",
      "  trial_id: d5cba_00009\n",
      "  \n"
     ]
    },
    {
     "name": "stderr",
     "output_type": "stream",
     "text": [
      "100%|██████████| 18/18 [00:04<00:00,  3.82it/s]\n",
      "  0%|          | 0/42 [00:00<?, ?it/s]\n"
     ]
    },
    {
     "name": "stdout",
     "output_type": "stream",
     "text": [
      "== Status ==\n",
      "Current time: 2021-12-22 15:44:54 (running for 00:06:22.12)\n",
      "Memory usage on this node: 17.8/47.6 GiB\n",
      "Using AsyncHyperBand: num_stopped=7\n",
      "Bracket: Iter 8.000: -0.8849095702171326 | Iter 4.000: -0.8861204013228416 | Iter 2.000: -0.9265136130981975 | Iter 1.000: -0.962437543604109\n",
      "Resources requested: 1.0/24 CPUs, 1.0/2 GPUs, 0.0/37.98 GiB heap, 0.0/18.99 GiB objects\n",
      "Result logdir: C:\\Users\\Tomas\\ray_results\\DEFAULT_2021-12-22_15-38-31\n",
      "Number of trials: 10/10 (1 RUNNING, 9 TERMINATED)\n",
      "+---------------------+------------+-----------------+--------------+-----------------+--------------+----------+\n",
      "| Trial name          | status     | loc             |   batch_size |   learning_rate |   num_epochs |     loss |\n",
      "|---------------------+------------+-----------------+--------------+-----------------+--------------+----------|\n",
      "| DEFAULT_d5cba_00009 | RUNNING    | 127.0.0.1:31648 |           10 |     0.0454214   |            5 | 0.843954 |\n",
      "| DEFAULT_d5cba_00000 | TERMINATED | 127.0.0.1:14084 |           50 |     0.000109278 |           10 | 0.888209 |\n",
      "| DEFAULT_d5cba_00001 | TERMINATED | 127.0.0.1:31928 |           50 |     0.0422751   |            5 | 0.966756 |\n",
      "| DEFAULT_d5cba_00002 | TERMINATED | 127.0.0.1:21996 |           30 |     0.0195957   |           10 | 0.997522 |\n",
      "| DEFAULT_d5cba_00003 | TERMINATED | 127.0.0.1:22080 |           10 |     0.00277116  |            5 | 0.947813 |\n",
      "| DEFAULT_d5cba_00004 | TERMINATED | 127.0.0.1:23468 |           50 |     0.00902094  |            5 | 0.871443 |\n",
      "| DEFAULT_d5cba_00005 | TERMINATED | 127.0.0.1:25760 |          100 |     0.00939863  |            4 | 1.18165  |\n",
      "| DEFAULT_d5cba_00006 | TERMINATED | 127.0.0.1:25964 |           10 |     0.000111693 |            5 | 1.06614  |\n",
      "| DEFAULT_d5cba_00007 | TERMINATED | 127.0.0.1:31264 |           30 |     0.000258208 |            5 | 1.21664  |\n",
      "| DEFAULT_d5cba_00008 | TERMINATED | 127.0.0.1:27368 |           10 |     0.000173604 |            4 | 0.937642 |\n",
      "+---------------------+------------+-----------------+--------------+-----------------+--------------+----------+\n",
      "\n",
      "\n"
     ]
    },
    {
     "name": "stderr",
     "output_type": "stream",
     "text": [
      "  2%|▏         | 1/42 [00:04<02:54,  4.25s/it]\n",
      " 12%|█▏        | 5/42 [00:04<00:24,  1.52it/s]\n",
      " 62%|██████▏   | 26/42 [00:04<00:01, 10.74it/s]\n",
      "100%|██████████| 42/42 [00:05<00:00,  8.33it/s]\n",
      "  0%|          | 0/18 [00:00<?, ?it/s]\n"
     ]
    },
    {
     "name": "stdout",
     "output_type": "stream",
     "text": [
      "== Status ==\n",
      "Current time: 2021-12-22 15:44:59 (running for 00:06:27.20)\n",
      "Memory usage on this node: 17.8/47.6 GiB\n",
      "Using AsyncHyperBand: num_stopped=7\n",
      "Bracket: Iter 8.000: -0.8849095702171326 | Iter 4.000: -0.8861204013228416 | Iter 2.000: -0.9265136130981975 | Iter 1.000: -0.962437543604109\n",
      "Resources requested: 1.0/24 CPUs, 1.0/2 GPUs, 0.0/37.98 GiB heap, 0.0/18.99 GiB objects\n",
      "Result logdir: C:\\Users\\Tomas\\ray_results\\DEFAULT_2021-12-22_15-38-31\n",
      "Number of trials: 10/10 (1 RUNNING, 9 TERMINATED)\n",
      "+---------------------+------------+-----------------+--------------+-----------------+--------------+----------+\n",
      "| Trial name          | status     | loc             |   batch_size |   learning_rate |   num_epochs |     loss |\n",
      "|---------------------+------------+-----------------+--------------+-----------------+--------------+----------|\n",
      "| DEFAULT_d5cba_00009 | RUNNING    | 127.0.0.1:31648 |           10 |     0.0454214   |            5 | 0.843954 |\n",
      "| DEFAULT_d5cba_00000 | TERMINATED | 127.0.0.1:14084 |           50 |     0.000109278 |           10 | 0.888209 |\n",
      "| DEFAULT_d5cba_00001 | TERMINATED | 127.0.0.1:31928 |           50 |     0.0422751   |            5 | 0.966756 |\n",
      "| DEFAULT_d5cba_00002 | TERMINATED | 127.0.0.1:21996 |           30 |     0.0195957   |           10 | 0.997522 |\n",
      "| DEFAULT_d5cba_00003 | TERMINATED | 127.0.0.1:22080 |           10 |     0.00277116  |            5 | 0.947813 |\n",
      "| DEFAULT_d5cba_00004 | TERMINATED | 127.0.0.1:23468 |           50 |     0.00902094  |            5 | 0.871443 |\n",
      "| DEFAULT_d5cba_00005 | TERMINATED | 127.0.0.1:25760 |          100 |     0.00939863  |            4 | 1.18165  |\n",
      "| DEFAULT_d5cba_00006 | TERMINATED | 127.0.0.1:25964 |           10 |     0.000111693 |            5 | 1.06614  |\n",
      "| DEFAULT_d5cba_00007 | TERMINATED | 127.0.0.1:31264 |           30 |     0.000258208 |            5 | 1.21664  |\n",
      "| DEFAULT_d5cba_00008 | TERMINATED | 127.0.0.1:27368 |           10 |     0.000173604 |            4 | 0.937642 |\n",
      "+---------------------+------------+-----------------+--------------+-----------------+--------------+----------+\n",
      "\n",
      "\n"
     ]
    },
    {
     "name": "stderr",
     "output_type": "stream",
     "text": [
      "  6%|▌         | 1/18 [00:04<01:11,  4.23s/it]\n"
     ]
    },
    {
     "name": "stdout",
     "output_type": "stream",
     "text": [
      "Result for DEFAULT_d5cba_00009:\n",
      "  accuracy: 0.6833333333333333\n",
      "  date: 2021-12-22_15-45-02\n",
      "  done: false\n",
      "  experiment_id: be12fc2152074c17bd0b7a8da6051ed8\n",
      "  hostname: WSTOMAS21\n",
      "  iterations_since_restore: 2\n",
      "  loss: 0.8541631831063164\n",
      "  node_ip: 127.0.0.1\n",
      "  pid: 31648\n",
      "  should_checkpoint: true\n",
      "  time_since_restore: 24.47157645225525\n",
      "  time_this_iter_s: 9.929648399353027\n",
      "  time_total_s: 24.47157645225525\n",
      "  timestamp: 1640184302\n",
      "  timesteps_since_restore: 0\n",
      "  training_iteration: 2\n",
      "  trial_id: d5cba_00009\n",
      "  \n"
     ]
    },
    {
     "name": "stderr",
     "output_type": "stream",
     "text": [
      "100%|██████████| 18/18 [00:04<00:00,  3.72it/s]\n",
      "  0%|          | 0/42 [00:00<?, ?it/s]\n"
     ]
    },
    {
     "name": "stdout",
     "output_type": "stream",
     "text": [
      "== Status ==\n",
      "Current time: 2021-12-22 15:45:05 (running for 00:06:33.05)\n",
      "Memory usage on this node: 17.8/47.6 GiB\n",
      "Using AsyncHyperBand: num_stopped=7\n",
      "Bracket: Iter 8.000: -0.8849095702171326 | Iter 4.000: -0.8861204013228416 | Iter 2.000: -0.9153856784105301 | Iter 1.000: -0.962437543604109\n",
      "Resources requested: 1.0/24 CPUs, 1.0/2 GPUs, 0.0/37.98 GiB heap, 0.0/18.99 GiB objects\n",
      "Result logdir: C:\\Users\\Tomas\\ray_results\\DEFAULT_2021-12-22_15-38-31\n",
      "Number of trials: 10/10 (1 RUNNING, 9 TERMINATED)\n",
      "+---------------------+------------+-----------------+--------------+-----------------+--------------+----------+\n",
      "| Trial name          | status     | loc             |   batch_size |   learning_rate |   num_epochs |     loss |\n",
      "|---------------------+------------+-----------------+--------------+-----------------+--------------+----------|\n",
      "| DEFAULT_d5cba_00009 | RUNNING    | 127.0.0.1:31648 |           10 |     0.0454214   |            5 | 0.854163 |\n",
      "| DEFAULT_d5cba_00000 | TERMINATED | 127.0.0.1:14084 |           50 |     0.000109278 |           10 | 0.888209 |\n",
      "| DEFAULT_d5cba_00001 | TERMINATED | 127.0.0.1:31928 |           50 |     0.0422751   |            5 | 0.966756 |\n",
      "| DEFAULT_d5cba_00002 | TERMINATED | 127.0.0.1:21996 |           30 |     0.0195957   |           10 | 0.997522 |\n",
      "| DEFAULT_d5cba_00003 | TERMINATED | 127.0.0.1:22080 |           10 |     0.00277116  |            5 | 0.947813 |\n",
      "| DEFAULT_d5cba_00004 | TERMINATED | 127.0.0.1:23468 |           50 |     0.00902094  |            5 | 0.871443 |\n",
      "| DEFAULT_d5cba_00005 | TERMINATED | 127.0.0.1:25760 |          100 |     0.00939863  |            4 | 1.18165  |\n",
      "| DEFAULT_d5cba_00006 | TERMINATED | 127.0.0.1:25964 |           10 |     0.000111693 |            5 | 1.06614  |\n",
      "| DEFAULT_d5cba_00007 | TERMINATED | 127.0.0.1:31264 |           30 |     0.000258208 |            5 | 1.21664  |\n",
      "| DEFAULT_d5cba_00008 | TERMINATED | 127.0.0.1:27368 |           10 |     0.000173604 |            4 | 0.937642 |\n",
      "+---------------------+------------+-----------------+--------------+-----------------+--------------+----------+\n",
      "\n",
      "\n"
     ]
    },
    {
     "name": "stderr",
     "output_type": "stream",
     "text": [
      "  2%|▏         | 1/42 [00:04<03:05,  4.52s/it]\n",
      " 31%|███       | 13/42 [00:04<00:07,  3.88it/s]\n",
      " 90%|█████████ | 38/42 [00:04<00:00, 14.18it/s]\n",
      "100%|██████████| 42/42 [00:05<00:00,  7.96it/s]\n",
      "  0%|          | 0/18 [00:00<?, ?it/s]\n"
     ]
    },
    {
     "name": "stdout",
     "output_type": "stream",
     "text": [
      "== Status ==\n",
      "Current time: 2021-12-22 15:45:10 (running for 00:06:38.13)\n",
      "Memory usage on this node: 17.8/47.6 GiB\n",
      "Using AsyncHyperBand: num_stopped=7\n",
      "Bracket: Iter 8.000: -0.8849095702171326 | Iter 4.000: -0.8861204013228416 | Iter 2.000: -0.9153856784105301 | Iter 1.000: -0.962437543604109\n",
      "Resources requested: 1.0/24 CPUs, 1.0/2 GPUs, 0.0/37.98 GiB heap, 0.0/18.99 GiB objects\n",
      "Result logdir: C:\\Users\\Tomas\\ray_results\\DEFAULT_2021-12-22_15-38-31\n",
      "Number of trials: 10/10 (1 RUNNING, 9 TERMINATED)\n",
      "+---------------------+------------+-----------------+--------------+-----------------+--------------+----------+\n",
      "| Trial name          | status     | loc             |   batch_size |   learning_rate |   num_epochs |     loss |\n",
      "|---------------------+------------+-----------------+--------------+-----------------+--------------+----------|\n",
      "| DEFAULT_d5cba_00009 | RUNNING    | 127.0.0.1:31648 |           10 |     0.0454214   |            5 | 0.854163 |\n",
      "| DEFAULT_d5cba_00000 | TERMINATED | 127.0.0.1:14084 |           50 |     0.000109278 |           10 | 0.888209 |\n",
      "| DEFAULT_d5cba_00001 | TERMINATED | 127.0.0.1:31928 |           50 |     0.0422751   |            5 | 0.966756 |\n",
      "| DEFAULT_d5cba_00002 | TERMINATED | 127.0.0.1:21996 |           30 |     0.0195957   |           10 | 0.997522 |\n",
      "| DEFAULT_d5cba_00003 | TERMINATED | 127.0.0.1:22080 |           10 |     0.00277116  |            5 | 0.947813 |\n",
      "| DEFAULT_d5cba_00004 | TERMINATED | 127.0.0.1:23468 |           50 |     0.00902094  |            5 | 0.871443 |\n",
      "| DEFAULT_d5cba_00005 | TERMINATED | 127.0.0.1:25760 |          100 |     0.00939863  |            4 | 1.18165  |\n",
      "| DEFAULT_d5cba_00006 | TERMINATED | 127.0.0.1:25964 |           10 |     0.000111693 |            5 | 1.06614  |\n",
      "| DEFAULT_d5cba_00007 | TERMINATED | 127.0.0.1:31264 |           30 |     0.000258208 |            5 | 1.21664  |\n",
      "| DEFAULT_d5cba_00008 | TERMINATED | 127.0.0.1:27368 |           10 |     0.000173604 |            4 | 0.937642 |\n",
      "+---------------------+------------+-----------------+--------------+-----------------+--------------+----------+\n",
      "\n",
      "\n"
     ]
    },
    {
     "name": "stderr",
     "output_type": "stream",
     "text": [
      "  6%|▌         | 1/18 [00:04<01:10,  4.13s/it]\n"
     ]
    },
    {
     "name": "stdout",
     "output_type": "stream",
     "text": [
      "Result for DEFAULT_d5cba_00009:\n",
      "  accuracy: 0.6833333333333333\n",
      "  date: 2021-12-22_15-45-12\n",
      "  done: false\n",
      "  experiment_id: be12fc2152074c17bd0b7a8da6051ed8\n",
      "  hostname: WSTOMAS21\n",
      "  iterations_since_restore: 3\n",
      "  loss: 0.8534379882944955\n",
      "  node_ip: 127.0.0.1\n",
      "  pid: 31648\n",
      "  should_checkpoint: true\n",
      "  time_since_restore: 34.46065640449524\n",
      "  time_this_iter_s: 9.98907995223999\n",
      "  time_total_s: 34.46065640449524\n",
      "  timestamp: 1640184312\n",
      "  timesteps_since_restore: 0\n",
      "  training_iteration: 3\n",
      "  trial_id: d5cba_00009\n",
      "  \n"
     ]
    },
    {
     "name": "stderr",
     "output_type": "stream",
     "text": [
      "100%|██████████| 18/18 [00:04<00:00,  3.84it/s]\n",
      "  0%|          | 0/42 [00:00<?, ?it/s]\n"
     ]
    },
    {
     "name": "stdout",
     "output_type": "stream",
     "text": [
      "== Status ==\n",
      "Current time: 2021-12-22 15:45:16 (running for 00:06:44.06)\n",
      "Memory usage on this node: 17.9/47.6 GiB\n",
      "Using AsyncHyperBand: num_stopped=7\n",
      "Bracket: Iter 8.000: -0.8849095702171326 | Iter 4.000: -0.8861204013228416 | Iter 2.000: -0.9153856784105301 | Iter 1.000: -0.962437543604109\n",
      "Resources requested: 1.0/24 CPUs, 1.0/2 GPUs, 0.0/37.98 GiB heap, 0.0/18.99 GiB objects\n",
      "Result logdir: C:\\Users\\Tomas\\ray_results\\DEFAULT_2021-12-22_15-38-31\n",
      "Number of trials: 10/10 (1 RUNNING, 9 TERMINATED)\n",
      "+---------------------+------------+-----------------+--------------+-----------------+--------------+----------+\n",
      "| Trial name          | status     | loc             |   batch_size |   learning_rate |   num_epochs |     loss |\n",
      "|---------------------+------------+-----------------+--------------+-----------------+--------------+----------|\n",
      "| DEFAULT_d5cba_00009 | RUNNING    | 127.0.0.1:31648 |           10 |     0.0454214   |            5 | 0.853438 |\n",
      "| DEFAULT_d5cba_00000 | TERMINATED | 127.0.0.1:14084 |           50 |     0.000109278 |           10 | 0.888209 |\n",
      "| DEFAULT_d5cba_00001 | TERMINATED | 127.0.0.1:31928 |           50 |     0.0422751   |            5 | 0.966756 |\n",
      "| DEFAULT_d5cba_00002 | TERMINATED | 127.0.0.1:21996 |           30 |     0.0195957   |           10 | 0.997522 |\n",
      "| DEFAULT_d5cba_00003 | TERMINATED | 127.0.0.1:22080 |           10 |     0.00277116  |            5 | 0.947813 |\n",
      "| DEFAULT_d5cba_00004 | TERMINATED | 127.0.0.1:23468 |           50 |     0.00902094  |            5 | 0.871443 |\n",
      "| DEFAULT_d5cba_00005 | TERMINATED | 127.0.0.1:25760 |          100 |     0.00939863  |            4 | 1.18165  |\n",
      "| DEFAULT_d5cba_00006 | TERMINATED | 127.0.0.1:25964 |           10 |     0.000111693 |            5 | 1.06614  |\n",
      "| DEFAULT_d5cba_00007 | TERMINATED | 127.0.0.1:31264 |           30 |     0.000258208 |            5 | 1.21664  |\n",
      "| DEFAULT_d5cba_00008 | TERMINATED | 127.0.0.1:27368 |           10 |     0.000173604 |            4 | 0.937642 |\n",
      "+---------------------+------------+-----------------+--------------+-----------------+--------------+----------+\n",
      "\n",
      "\n"
     ]
    },
    {
     "name": "stderr",
     "output_type": "stream",
     "text": [
      "  2%|▏         | 1/42 [00:04<02:54,  4.25s/it]\n",
      " 64%|██████▍   | 27/42 [00:04<00:01, 11.38it/s]\n",
      "100%|██████████| 42/42 [00:05<00:00,  8.09it/s]\n",
      "  0%|          | 0/18 [00:00<?, ?it/s]\n"
     ]
    },
    {
     "name": "stdout",
     "output_type": "stream",
     "text": [
      "== Status ==\n",
      "Current time: 2021-12-22 15:45:21 (running for 00:06:49.15)\n",
      "Memory usage on this node: 17.9/47.6 GiB\n",
      "Using AsyncHyperBand: num_stopped=7\n",
      "Bracket: Iter 8.000: -0.8849095702171326 | Iter 4.000: -0.8861204013228416 | Iter 2.000: -0.9153856784105301 | Iter 1.000: -0.962437543604109\n",
      "Resources requested: 1.0/24 CPUs, 1.0/2 GPUs, 0.0/37.98 GiB heap, 0.0/18.99 GiB objects\n",
      "Result logdir: C:\\Users\\Tomas\\ray_results\\DEFAULT_2021-12-22_15-38-31\n",
      "Number of trials: 10/10 (1 RUNNING, 9 TERMINATED)\n",
      "+---------------------+------------+-----------------+--------------+-----------------+--------------+----------+\n",
      "| Trial name          | status     | loc             |   batch_size |   learning_rate |   num_epochs |     loss |\n",
      "|---------------------+------------+-----------------+--------------+-----------------+--------------+----------|\n",
      "| DEFAULT_d5cba_00009 | RUNNING    | 127.0.0.1:31648 |           10 |     0.0454214   |            5 | 0.853438 |\n",
      "| DEFAULT_d5cba_00000 | TERMINATED | 127.0.0.1:14084 |           50 |     0.000109278 |           10 | 0.888209 |\n",
      "| DEFAULT_d5cba_00001 | TERMINATED | 127.0.0.1:31928 |           50 |     0.0422751   |            5 | 0.966756 |\n",
      "| DEFAULT_d5cba_00002 | TERMINATED | 127.0.0.1:21996 |           30 |     0.0195957   |           10 | 0.997522 |\n",
      "| DEFAULT_d5cba_00003 | TERMINATED | 127.0.0.1:22080 |           10 |     0.00277116  |            5 | 0.947813 |\n",
      "| DEFAULT_d5cba_00004 | TERMINATED | 127.0.0.1:23468 |           50 |     0.00902094  |            5 | 0.871443 |\n",
      "| DEFAULT_d5cba_00005 | TERMINATED | 127.0.0.1:25760 |          100 |     0.00939863  |            4 | 1.18165  |\n",
      "| DEFAULT_d5cba_00006 | TERMINATED | 127.0.0.1:25964 |           10 |     0.000111693 |            5 | 1.06614  |\n",
      "| DEFAULT_d5cba_00007 | TERMINATED | 127.0.0.1:31264 |           30 |     0.000258208 |            5 | 1.21664  |\n",
      "| DEFAULT_d5cba_00008 | TERMINATED | 127.0.0.1:27368 |           10 |     0.000173604 |            4 | 0.937642 |\n",
      "+---------------------+------------+-----------------+--------------+-----------------+--------------+----------+\n",
      "\n",
      "\n"
     ]
    },
    {
     "name": "stderr",
     "output_type": "stream",
     "text": [
      "  6%|▌         | 1/18 [00:04<01:10,  4.16s/it]\n"
     ]
    },
    {
     "name": "stdout",
     "output_type": "stream",
     "text": [
      "Result for DEFAULT_d5cba_00009:\n",
      "  accuracy: 0.6833333333333333\n",
      "  date: 2021-12-22_15-45-22\n",
      "  done: false\n",
      "  experiment_id: be12fc2152074c17bd0b7a8da6051ed8\n",
      "  hostname: WSTOMAS21\n",
      "  iterations_since_restore: 4\n",
      "  loss: 0.8536348938941956\n",
      "  node_ip: 127.0.0.1\n",
      "  pid: 31648\n",
      "  should_checkpoint: true\n",
      "  time_since_restore: 44.42823028564453\n",
      "  time_this_iter_s: 9.967573881149292\n",
      "  time_total_s: 44.42823028564453\n",
      "  timestamp: 1640184322\n",
      "  timesteps_since_restore: 0\n",
      "  training_iteration: 4\n",
      "  trial_id: d5cba_00009\n",
      "  \n"
     ]
    },
    {
     "name": "stderr",
     "output_type": "stream",
     "text": [
      "100%|██████████| 18/18 [00:04<00:00,  3.79it/s]\n",
      "  0%|          | 0/42 [00:00<?, ?it/s]\n",
      "  2%|▏         | 1/42 [00:04<02:50,  4.15s/it]\n",
      "  5%|▍         | 2/42 [00:04<01:11,  1.79s/it]\n",
      " 57%|█████▋    | 24/42 [00:04<00:01, 10.35it/s]\n"
     ]
    },
    {
     "name": "stdout",
     "output_type": "stream",
     "text": [
      "== Status ==\n",
      "Current time: 2021-12-22 15:45:27 (running for 00:06:55.03)\n",
      "Memory usage on this node: 17.7/47.6 GiB\n",
      "Using AsyncHyperBand: num_stopped=7\n",
      "Bracket: Iter 8.000: -0.8849095702171326 | Iter 4.000: -0.8792380392551422 | Iter 2.000: -0.9153856784105301 | Iter 1.000: -0.962437543604109\n",
      "Resources requested: 1.0/24 CPUs, 1.0/2 GPUs, 0.0/37.98 GiB heap, 0.0/18.99 GiB objects\n",
      "Result logdir: C:\\Users\\Tomas\\ray_results\\DEFAULT_2021-12-22_15-38-31\n",
      "Number of trials: 10/10 (1 RUNNING, 9 TERMINATED)\n",
      "+---------------------+------------+-----------------+--------------+-----------------+--------------+----------+\n",
      "| Trial name          | status     | loc             |   batch_size |   learning_rate |   num_epochs |     loss |\n",
      "|---------------------+------------+-----------------+--------------+-----------------+--------------+----------|\n",
      "| DEFAULT_d5cba_00009 | RUNNING    | 127.0.0.1:31648 |           10 |     0.0454214   |            5 | 0.853635 |\n",
      "| DEFAULT_d5cba_00000 | TERMINATED | 127.0.0.1:14084 |           50 |     0.000109278 |           10 | 0.888209 |\n",
      "| DEFAULT_d5cba_00001 | TERMINATED | 127.0.0.1:31928 |           50 |     0.0422751   |            5 | 0.966756 |\n",
      "| DEFAULT_d5cba_00002 | TERMINATED | 127.0.0.1:21996 |           30 |     0.0195957   |           10 | 0.997522 |\n",
      "| DEFAULT_d5cba_00003 | TERMINATED | 127.0.0.1:22080 |           10 |     0.00277116  |            5 | 0.947813 |\n",
      "| DEFAULT_d5cba_00004 | TERMINATED | 127.0.0.1:23468 |           50 |     0.00902094  |            5 | 0.871443 |\n",
      "| DEFAULT_d5cba_00005 | TERMINATED | 127.0.0.1:25760 |          100 |     0.00939863  |            4 | 1.18165  |\n",
      "| DEFAULT_d5cba_00006 | TERMINATED | 127.0.0.1:25964 |           10 |     0.000111693 |            5 | 1.06614  |\n",
      "| DEFAULT_d5cba_00007 | TERMINATED | 127.0.0.1:31264 |           30 |     0.000258208 |            5 | 1.21664  |\n",
      "| DEFAULT_d5cba_00008 | TERMINATED | 127.0.0.1:27368 |           10 |     0.000173604 |            4 | 0.937642 |\n",
      "+---------------------+------------+-----------------+--------------+-----------------+--------------+----------+\n",
      "\n",
      "\n"
     ]
    },
    {
     "name": "stderr",
     "output_type": "stream",
     "text": [
      "100%|██████████| 42/42 [00:04<00:00,  8.43it/s]\n",
      "  0%|          | 0/18 [00:00<?, ?it/s]\n",
      "  6%|▌         | 1/18 [00:04<01:13,  4.33s/it]\n",
      "100%|██████████| 18/18 [00:04<00:00,  3.68it/s]\n",
      "2021-12-22 15:45:32,114\tINFO tune.py:626 -- Total run time: 420.67 seconds (419.92 seconds for the tuning loop).\n"
     ]
    },
    {
     "name": "stdout",
     "output_type": "stream",
     "text": [
      "Result for DEFAULT_d5cba_00009:\n",
      "  accuracy: 0.6833333333333333\n",
      "  date: 2021-12-22_15-45-31\n",
      "  done: false\n",
      "  experiment_id: be12fc2152074c17bd0b7a8da6051ed8\n",
      "  hostname: WSTOMAS21\n",
      "  iterations_since_restore: 5\n",
      "  loss: 0.8538116961717606\n",
      "  node_ip: 127.0.0.1\n",
      "  pid: 31648\n",
      "  should_checkpoint: true\n",
      "  time_since_restore: 54.341593742370605\n",
      "  time_this_iter_s: 9.913363456726074\n",
      "  time_total_s: 54.341593742370605\n",
      "  timestamp: 1640184331\n",
      "  timesteps_since_restore: 0\n",
      "  training_iteration: 5\n",
      "  trial_id: d5cba_00009\n",
      "  \n",
      "Result for DEFAULT_d5cba_00009:\n",
      "  accuracy: 0.6833333333333333\n",
      "  date: 2021-12-22_15-45-31\n",
      "  done: true\n",
      "  experiment_id: be12fc2152074c17bd0b7a8da6051ed8\n",
      "  experiment_tag: 9_batch_size=10,learning_rate=0.045421,num_epochs=5\n",
      "  hostname: WSTOMAS21\n",
      "  iterations_since_restore: 5\n",
      "  loss: 0.8538116961717606\n",
      "  node_ip: 127.0.0.1\n",
      "  pid: 31648\n",
      "  should_checkpoint: true\n",
      "  time_since_restore: 54.341593742370605\n",
      "  time_this_iter_s: 9.913363456726074\n",
      "  time_total_s: 54.341593742370605\n",
      "  timestamp: 1640184331\n",
      "  timesteps_since_restore: 0\n",
      "  training_iteration: 5\n",
      "  trial_id: d5cba_00009\n",
      "  \n",
      "== Status ==\n",
      "Current time: 2021-12-22 15:45:31 (running for 00:06:59.94)\n",
      "Memory usage on this node: 17.7/47.6 GiB\n",
      "Using AsyncHyperBand: num_stopped=7\n",
      "Bracket: Iter 8.000: -0.8849095702171326 | Iter 4.000: -0.8792380392551422 | Iter 2.000: -0.9153856784105301 | Iter 1.000: -0.962437543604109\n",
      "Resources requested: 0/24 CPUs, 0/2 GPUs, 0.0/37.98 GiB heap, 0.0/18.99 GiB objects\n",
      "Result logdir: C:\\Users\\Tomas\\ray_results\\DEFAULT_2021-12-22_15-38-31\n",
      "Number of trials: 10/10 (10 TERMINATED)\n",
      "+---------------------+------------+-----------------+--------------+-----------------+--------------+----------+\n",
      "| Trial name          | status     | loc             |   batch_size |   learning_rate |   num_epochs |     loss |\n",
      "|---------------------+------------+-----------------+--------------+-----------------+--------------+----------|\n",
      "| DEFAULT_d5cba_00000 | TERMINATED | 127.0.0.1:14084 |           50 |     0.000109278 |           10 | 0.888209 |\n",
      "| DEFAULT_d5cba_00001 | TERMINATED | 127.0.0.1:31928 |           50 |     0.0422751   |            5 | 0.966756 |\n",
      "| DEFAULT_d5cba_00002 | TERMINATED | 127.0.0.1:21996 |           30 |     0.0195957   |           10 | 0.997522 |\n",
      "| DEFAULT_d5cba_00003 | TERMINATED | 127.0.0.1:22080 |           10 |     0.00277116  |            5 | 0.947813 |\n",
      "| DEFAULT_d5cba_00004 | TERMINATED | 127.0.0.1:23468 |           50 |     0.00902094  |            5 | 0.871443 |\n",
      "| DEFAULT_d5cba_00005 | TERMINATED | 127.0.0.1:25760 |          100 |     0.00939863  |            4 | 1.18165  |\n",
      "| DEFAULT_d5cba_00006 | TERMINATED | 127.0.0.1:25964 |           10 |     0.000111693 |            5 | 1.06614  |\n",
      "| DEFAULT_d5cba_00007 | TERMINATED | 127.0.0.1:31264 |           30 |     0.000258208 |            5 | 1.21664  |\n",
      "| DEFAULT_d5cba_00008 | TERMINATED | 127.0.0.1:27368 |           10 |     0.000173604 |            4 | 0.937642 |\n",
      "| DEFAULT_d5cba_00009 | TERMINATED | 127.0.0.1:31648 |           10 |     0.0454214   |            5 | 0.853812 |\n",
      "+---------------------+------------+-----------------+--------------+-----------------+--------------+----------+\n",
      "\n",
      "\n",
      " pid=31648)\u001b[0m Finished\n",
      "Best trial config: {'num_epochs': 5, 'learning_rate': 0.045421358413054946, 'batch_size': 10}\n",
      "Best trial final validation loss: 0.8538116961717606\n",
      "Best trial final validation accuracy: 0.6833333333333333\n"
     ]
    }
   ],
   "source": [
    "main(num_samples=10, gpus_per_trial=1)"
   ]
  },
  {
   "cell_type": "code",
   "execution_count": null,
   "metadata": {},
   "outputs": [],
   "source": []
  },
  {
   "cell_type": "code",
   "execution_count": null,
   "metadata": {},
   "outputs": [],
   "source": []
  },
  {
   "cell_type": "code",
   "execution_count": null,
   "metadata": {},
   "outputs": [],
   "source": []
  },
  {
   "cell_type": "code",
   "execution_count": null,
   "metadata": {},
   "outputs": [],
   "source": []
  }
 ],
 "metadata": {
  "colab": {
   "collapsed_sections": [],
   "name": "CNN Exploration notebook.ipynb",
   "provenance": []
  },
  "kernelspec": {
   "display_name": "Python 3",
   "language": "python",
   "name": "python3"
  },
  "language_info": {
   "codemirror_mode": {
    "name": "ipython",
    "version": 3
   },
   "file_extension": ".py",
   "mimetype": "text/x-python",
   "name": "python",
   "nbconvert_exporter": "python",
   "pygments_lexer": "ipython3",
   "version": "3.7.4"
  }
 },
 "nbformat": 4,
 "nbformat_minor": 4
}
