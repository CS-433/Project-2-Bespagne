{
 "cells": [
  {
   "cell_type": "code",
   "execution_count": 2,
   "metadata": {},
   "outputs": [
    {
     "name": "stdout",
     "output_type": "stream",
     "text": [
      "Collecting ray\n",
      "  Downloading https://files.pythonhosted.org/packages/08/5f/b5ca748f3908f897cde89136ff062c444ab0f018f81f83f3dc58b1d04396/ray-1.9.0-cp37-cp37m-win_amd64.whl (22.6MB)\n",
      "Requirement already satisfied, skipping upgrade: jsonschema in c:\\users\\public\\anaconda\\lib\\site-packages (from ray) (3.0.2)\n",
      "Requirement already satisfied, skipping upgrade: numpy>=1.16; python_version < \"3.9\" in c:\\users\\public\\anaconda\\lib\\site-packages (from ray) (1.16.5)\n",
      "Requirement already satisfied, skipping upgrade: pyyaml in c:\\users\\public\\anaconda\\lib\\site-packages (from ray) (5.1.2)\n",
      "Requirement already satisfied, skipping upgrade: click>=7.0 in c:\\users\\public\\anaconda\\lib\\site-packages (from ray) (7.0)\n",
      "Collecting redis>=3.5.0 (from ray)\n",
      "  Downloading https://files.pythonhosted.org/packages/b1/9c/838dbabd16f7dad05d3b83abad11560a2c6cc72fe913a02fa487fc915b9d/redis-4.0.2-py3-none-any.whl (119kB)\n",
      "Collecting protobuf>=3.15.3 (from ray)\n",
      "  Downloading https://files.pythonhosted.org/packages/db/79/c1155e5df53ffed2474efabb1b275cd57e000f1d9dabbbde1d11aa4604cf/protobuf-3.19.1-cp37-cp37m-win_amd64.whl (896kB)\n",
      "Requirement already satisfied, skipping upgrade: attrs in c:\\users\\public\\anaconda\\lib\\site-packages (from ray) (19.2.0)\n",
      "Collecting grpcio>=1.28.1 (from ray)\n",
      "  Downloading https://files.pythonhosted.org/packages/e3/25/9b04b5af04f81c68d05a770ee3f55e31392d88cbddfa87311f2b282ea73d/grpcio-1.43.0-cp37-cp37m-win_amd64.whl (3.3MB)\n",
      "Collecting msgpack<2.0.0,>=1.0.0 (from ray)\n",
      "  Downloading https://files.pythonhosted.org/packages/72/d3/2669479923d8e7129bb7029b5a32c19d1bb99153793e24f90e2b48ec5d5f/msgpack-1.0.3-cp37-cp37m-win_amd64.whl (68kB)\n",
      "Requirement already satisfied, skipping upgrade: filelock in c:\\users\\public\\anaconda\\lib\\site-packages (from ray) (3.0.12)\n",
      "Requirement already satisfied, skipping upgrade: pyrsistent>=0.14.0 in c:\\users\\public\\anaconda\\lib\\site-packages (from jsonschema->ray) (0.15.4)\n",
      "Requirement already satisfied, skipping upgrade: six>=1.11.0 in c:\\users\\public\\anaconda\\lib\\site-packages (from jsonschema->ray) (1.12.0)\n",
      "Requirement already satisfied, skipping upgrade: setuptools in c:\\users\\public\\anaconda\\lib\\site-packages (from jsonschema->ray) (41.4.0)\n",
      "Collecting deprecated (from redis>=3.5.0->ray)\n",
      "  Downloading https://files.pythonhosted.org/packages/51/6a/c3a0408646408f7283b7bc550c30a32cc791181ec4618592eec13e066ce3/Deprecated-1.2.13-py2.py3-none-any.whl\n",
      "Requirement already satisfied, skipping upgrade: wrapt<2,>=1.10 in c:\\users\\public\\anaconda\\lib\\site-packages (from deprecated->redis>=3.5.0->ray) (1.11.2)\n",
      "Installing collected packages: deprecated, redis, protobuf, grpcio, msgpack, ray\n",
      "  Found existing installation: msgpack 0.6.1\n",
      "    Uninstalling msgpack-0.6.1:\n",
      "      Successfully uninstalled msgpack-0.6.1\n",
      "Successfully installed deprecated-1.2.13 grpcio-1.43.0 msgpack-1.0.3 protobuf-3.19.1 ray-1.9.0 redis-4.0.2\n"
     ]
    }
   ],
   "source": [
    "!pip install -U ray"
   ]
  },
  {
   "cell_type": "code",
   "execution_count": 4,
   "metadata": {},
   "outputs": [
    {
     "name": "stdout",
     "output_type": "stream",
     "text": [
      "Requirement already up-to-date: ray[tune] in c:\\users\\public\\anaconda\\lib\\site-packages (1.9.0)\n",
      "Requirement already satisfied, skipping upgrade: jsonschema in c:\\users\\public\\anaconda\\lib\\site-packages (from ray[tune]) (3.0.2)\n",
      "Requirement already satisfied, skipping upgrade: attrs in c:\\users\\public\\anaconda\\lib\\site-packages (from ray[tune]) (19.2.0)\n",
      "Requirement already satisfied, skipping upgrade: pyyaml in c:\\users\\public\\anaconda\\lib\\site-packages (from ray[tune]) (5.1.2)\n",
      "Requirement already satisfied, skipping upgrade: click>=7.0 in c:\\users\\public\\anaconda\\lib\\site-packages (from ray[tune]) (7.0)\n",
      "Requirement already satisfied, skipping upgrade: grpcio>=1.28.1 in c:\\users\\public\\anaconda\\lib\\site-packages (from ray[tune]) (1.43.0)\n",
      "Requirement already satisfied, skipping upgrade: filelock in c:\\users\\public\\anaconda\\lib\\site-packages (from ray[tune]) (3.0.12)\n",
      "Requirement already satisfied, skipping upgrade: numpy>=1.16; python_version < \"3.9\" in c:\\users\\public\\anaconda\\lib\\site-packages (from ray[tune]) (1.16.5)\n",
      "Requirement already satisfied, skipping upgrade: protobuf>=3.15.3 in c:\\users\\public\\anaconda\\lib\\site-packages (from ray[tune]) (3.19.1)\n",
      "Requirement already satisfied, skipping upgrade: redis>=3.5.0 in c:\\users\\public\\anaconda\\lib\\site-packages (from ray[tune]) (4.0.2)\n",
      "Requirement already satisfied, skipping upgrade: msgpack<2.0.0,>=1.0.0 in c:\\users\\public\\anaconda\\lib\\site-packages (from ray[tune]) (1.0.3)\n",
      "Requirement already satisfied, skipping upgrade: requests; extra == \"tune\" in c:\\users\\public\\anaconda\\lib\\site-packages (from ray[tune]) (2.22.0)\n",
      "Collecting tabulate; extra == \"tune\" (from ray[tune])\n",
      "  Downloading https://files.pythonhosted.org/packages/ca/80/7c0cad11bd99985cfe7c09427ee0b4f9bd6b048bd13d4ffb32c6db237dfb/tabulate-0.8.9-py3-none-any.whl\n",
      "Requirement already satisfied, skipping upgrade: pandas; extra == \"tune\" in c:\\users\\public\\anaconda\\lib\\site-packages (from ray[tune]) (0.25.1)\n",
      "Collecting tensorboardX>=1.9; extra == \"tune\" (from ray[tune])\n",
      "  Downloading https://files.pythonhosted.org/packages/98/88/977b2f03fd0f8a2490fc7a1ad691d5e44cee5f1dc90c57078c5c168e2e70/tensorboardX-2.4.1-py2.py3-none-any.whl (124kB)\n",
      "Requirement already satisfied, skipping upgrade: six>=1.11.0 in c:\\users\\public\\anaconda\\lib\\site-packages (from jsonschema->ray[tune]) (1.12.0)\n",
      "Requirement already satisfied, skipping upgrade: pyrsistent>=0.14.0 in c:\\users\\public\\anaconda\\lib\\site-packages (from jsonschema->ray[tune]) (0.15.4)\n",
      "Requirement already satisfied, skipping upgrade: setuptools in c:\\users\\public\\anaconda\\lib\\site-packages (from jsonschema->ray[tune]) (41.4.0)\n",
      "Requirement already satisfied, skipping upgrade: deprecated in c:\\users\\public\\anaconda\\lib\\site-packages (from redis>=3.5.0->ray[tune]) (1.2.13)\n",
      "Requirement already satisfied, skipping upgrade: urllib3!=1.25.0,!=1.25.1,<1.26,>=1.21.1 in c:\\users\\public\\anaconda\\lib\\site-packages (from requests; extra == \"tune\"->ray[tune]) (1.24.2)\n",
      "Requirement already satisfied, skipping upgrade: certifi>=2017.4.17 in c:\\users\\public\\anaconda\\lib\\site-packages (from requests; extra == \"tune\"->ray[tune]) (2019.9.11)\n",
      "Requirement already satisfied, skipping upgrade: idna<2.9,>=2.5 in c:\\users\\public\\anaconda\\lib\\site-packages (from requests; extra == \"tune\"->ray[tune]) (2.8)\n",
      "Requirement already satisfied, skipping upgrade: chardet<3.1.0,>=3.0.2 in c:\\users\\public\\anaconda\\lib\\site-packages (from requests; extra == \"tune\"->ray[tune]) (3.0.4)\n",
      "Requirement already satisfied, skipping upgrade: pytz>=2017.2 in c:\\users\\public\\anaconda\\lib\\site-packages (from pandas; extra == \"tune\"->ray[tune]) (2019.3)\n",
      "Requirement already satisfied, skipping upgrade: python-dateutil>=2.6.1 in c:\\users\\public\\anaconda\\lib\\site-packages (from pandas; extra == \"tune\"->ray[tune]) (2.8.0)\n",
      "Requirement already satisfied, skipping upgrade: wrapt<2,>=1.10 in c:\\users\\public\\anaconda\\lib\\site-packages (from deprecated->redis>=3.5.0->ray[tune]) (1.11.2)\n",
      "Installing collected packages: tabulate, tensorboardX\n",
      "Successfully installed tabulate-0.8.9 tensorboardX-2.4.1\n"
     ]
    }
   ],
   "source": [
    "!pip install -U \"ray[tune]\"  "
   ]
  },
  {
   "cell_type": "code",
   "execution_count": null,
   "metadata": {},
   "outputs": [],
   "source": [
    "# !pip install -U \"ray[rllib]\"  "
   ]
  },
  {
   "cell_type": "code",
   "execution_count": null,
   "metadata": {},
   "outputs": [],
   "source": [
    "# !pip install -U \"ray[serve]\"  "
   ]
  },
  {
   "cell_type": "code",
   "execution_count": 2,
   "metadata": {
    "id": "P59ipBJksY9N"
   },
   "outputs": [],
   "source": [
    "# Imports\n",
    "import torch\n",
    "import torchvision # torch package for vision related things\n",
    "import torch.nn.functional as F  # Parameterless functions, like (some) activation functions\n",
    "import torchvision.datasets as datasets  # Standard datasets\n",
    "import torchvision.transforms as transforms  # Transformations we can perform on our dataset for augmentation\n",
    "from torch import optim  # For optimizers like SGD, Adam, etc.\n",
    "from torch import nn  # All neural network modules\n",
    "from torch.utils.data import DataLoader  # Gives easier dataset managment by creating mini batches etc.\n",
    "from tqdm import tqdm  # For nice progress bar!\n",
    "from sklearn.model_selection import KFold\n",
    "\n",
    "import numpy as np\n",
    "import os\n",
    "import pandas as pd\n",
    "\n",
    "import torch.optim as optim\n",
    "from torch.utils.data import TensorDataset, DataLoader\n",
    "from torch.utils.data import random_split\n",
    "import torch.nn as nn\n",
    "\n",
    "from ray import tune\n",
    "from ray.tune import CLIReporter\n",
    "from ray.tune.schedulers import ASHAScheduler\n",
    "from functools import partial"
   ]
  },
  {
   "cell_type": "code",
   "execution_count": 52,
   "metadata": {},
   "outputs": [
    {
     "data": {
      "text/plain": [
       "<torch._C.Generator at 0x28cc94b8790>"
      ]
     },
     "execution_count": 52,
     "metadata": {},
     "output_type": "execute_result"
    }
   ],
   "source": [
    "\"\"\"\n",
    "(Hyper)parameters of our convolutional neural network found by tuning with Ray Tune (see further on)\n",
    "\n",
    "\"\"\"\n",
    "input_size = 1 * 110 * 40\n",
    "num_classes = 3\n",
    "learning_rate = 0.07165149868611925\n",
    "batch_size = 30\n",
    "num_epochs = 10\n",
    "torch.manual_seed(42)"
   ]
  },
  {
   "cell_type": "markdown",
   "metadata": {},
   "source": [
    "## Complete Convolutional Neural Network\n",
    "A first Convolutional Neural Network that takes on one input channel, where the PAC-matrix will be feeded as an input, and returns a probability array of total length equal to the amount of label classes. Each probability equals the chance of the label to correspond to the label class.\n",
    "\n",
    "The network first consists of 3 Convolutional layers each of kernel size 3x3. Stride is set to its defaultvalue 1 and padding is initialised to 1 as well.\n",
    "After each convolutional layer: first, a rectified linear unit activation function is applied and second a max pooling layer of kernel size 2x2 is used.\n",
    "\n",
    "After the last convolutional layer, the output is flattened and fed into a first fully connected neural network layer where a tanh activation function is applied its the output. After this a random dropout with probability of dropping 0.25 is performed.\n",
    "Finally a batch normalization is performed.\n",
    "\n",
    "This procedure gets repeated after two more fully connected layers until the tensor after the third fully connected layer has a size equal to the amount of label classes.\n",
    "\n",
    "As a final step this the softmax funtion is applied to this tensor, which transforms each element to its respective probability.\n"
   ]
  },
  {
   "cell_type": "code",
   "execution_count": 4,
   "metadata": {},
   "outputs": [],
   "source": [
    "\"\"\"\n",
    "nn.Module: a pytorch neural network of choice, must inherit from base class nn.Module\n",
    "    \n",
    "returns: tensor of shape (1, num_classes) where each element represents a probability\n",
    "\"\"\"\n",
    "class CNN(nn.Module):\n",
    "    def __init__(self, in_channels=1, num_classes=num_classes):\n",
    "        super().__init__()\n",
    "        self.conv1 = nn.Conv2d(\n",
    "            in_channels=in_channels,\n",
    "            out_channels=8,\n",
    "            kernel_size=3,\n",
    "            stride=1,\n",
    "            padding=1,\n",
    "        )\n",
    "        self.conv2 = nn.Conv2d(\n",
    "            in_channels=8,\n",
    "            out_channels=16,\n",
    "            kernel_size=3,\n",
    "            stride=1,\n",
    "            padding=1,\n",
    "        ) \n",
    "        \n",
    "        self.conv3 = nn.Conv2d(\n",
    "            in_channels=16,\n",
    "            out_channels=32,\n",
    "            kernel_size=3,\n",
    "            stride=1,\n",
    "            padding=1,\n",
    "        )\n",
    "        \n",
    "        \n",
    "        \n",
    "        x = torch.randn(110, 40).view(-1, 1, 110, 40)\n",
    "        self._to_linear = None\n",
    "        \n",
    "        self.dropout = nn.Dropout(0.25)\n",
    "        self.convs(x)\n",
    "        self.fc1 = nn.Linear(self._to_linear, 100) #flattening.\n",
    "        self.fc2 = nn.Linear(100, 20)\n",
    "        self.fc3 = nn.Linear(20, num_classes) \n",
    "        self.batchnorm1 = nn.BatchNorm1d(100)\n",
    "        self.batchnorm2 = nn.BatchNorm1d(20)\n",
    "        self.batchnorm3 = nn.BatchNorm1d(num_classes)\n",
    "        \n",
    "    def convs(self, x):\n",
    "        x = F.max_pool2d(F.relu(self.conv1(x)), (2, 2))\n",
    "        x = F.max_pool2d(F.relu(self.conv2(x)), (2, 2))\n",
    "        x = F.max_pool2d(F.relu(self.conv3(x)), (2, 2))\n",
    "        \n",
    "        if self._to_linear == None:\n",
    "            self._to_linear = x[0].shape[0]*x[0].shape[1]*x[0].shape[2]\n",
    "            \n",
    "        return x\n",
    "    \n",
    "    def forward(self, x):\n",
    "        x = self.convs(x) #execute convolutional layers      \n",
    "        x = x.view(-1, self._to_linear) #flatten\n",
    "        x = F.tanh(self.fc1(x))#pass through first fc layer\n",
    "        x = self.dropout(x)\n",
    "        x = self.batchnorm1(x)\n",
    "        x = F.tanh(self.fc2(x))#pass through first fc layer\n",
    "        x = self.dropout(x)\n",
    "        x = self.batchnorm2(x)\n",
    "        x = self.fc3(x) #final fc layer\n",
    "        x = self.dropout(x)\n",
    "        x = self.batchnorm3(x)\n",
    "        return F.softmax(x, dim=1)"
   ]
  },
  {
   "cell_type": "markdown",
   "metadata": {},
   "source": [
    "## Convolutional Neural Network for Feature Extraction\n",
    "In order to use the PAC-matrix as a feature for a Multi-Layer Perceptron later on, the previous Convolutional Neural Network is slightly adapted to not return the tensor with label probabilities, but a tensor of shape (1, 100).\n",
    "\n",
    "The network first consists of 3 Convolutional layers each of exactly the same parameters as the previous network.\n",
    "\n",
    "After the last convolutional layer, the output is flattened and fed into a first fully connected neural network layer where a tanh activation function is applied its the output. After this a random dropout with probability of dropping 0.25 is performed.\n",
    "Finally a batch normalization is performed.\n",
    "\n",
    "After this the resulting tensor gets returned as a feature vector.\n"
   ]
  },
  {
   "cell_type": "code",
   "execution_count": 15,
   "metadata": {},
   "outputs": [],
   "source": [
    "\"\"\"\n",
    "nn.Module: a pytorch neural network of choice, must inherit from base class nn.Module\n",
    "\"\"\"\n",
    "class CNN(nn.Module):\n",
    "    def __init__(self, in_channels=1, num_classes=num_classes):\n",
    "        super().__init__()\n",
    "        self.conv1 = nn.Conv2d(\n",
    "            in_channels=in_channels,\n",
    "            out_channels=8,\n",
    "            kernel_size=3,\n",
    "            stride=1,\n",
    "            padding=1,\n",
    "        )\n",
    "        self.conv2 = nn.Conv2d(\n",
    "            in_channels=8,\n",
    "            out_channels=16,\n",
    "            kernel_size=3,\n",
    "            stride=1,\n",
    "            padding=1,\n",
    "        ) \n",
    "        \n",
    "        self.conv3 = nn.Conv2d(\n",
    "            in_channels=16,\n",
    "            out_channels=32,\n",
    "            kernel_size=3,\n",
    "            stride=1,\n",
    "            padding=1,\n",
    "        )\n",
    "        \n",
    "        \n",
    "        \n",
    "        x = torch.randn(110, 40).view(-1, 1, 110, 40)\n",
    "        self._to_linear = None\n",
    "        \n",
    "        self.dropout = nn.Dropout(0.25)\n",
    "        self.convs(x)\n",
    "        self.fc1 = nn.Linear(self._to_linear, 100) #flattening.\n",
    "        self.batchnorm1 = nn.BatchNorm1d(100)\n",
    "        \n",
    "    def convs(self, x):\n",
    "        \"\"\"\n",
    "        Wrapper function for convolutional layers.\n",
    "        \n",
    "        self: self\n",
    "        x: tensor of shape (num_channels, PAC_y_dim, PAC_x_dim)\n",
    "            where PAC_y_dim and PAC_x_dim are the dimensions of the PAC-matrix\n",
    "        \n",
    "        returns: tensor of shape ?\n",
    "        \"\"\"\n",
    "        x = F.max_pool2d(F.relu(self.conv1(x)), (2, 2))\n",
    "        x = F.max_pool2d(F.relu(self.conv2(x)), (2, 2))\n",
    "        x = F.max_pool2d(F.relu(self.conv3(x)), (2, 2))\n",
    "        if self._to_linear == None:\n",
    "            self._to_linear = x[0].shape[0]*x[0].shape[1]*x[0].shape[2]\n",
    "        return x\n",
    "    \n",
    "    def forward(self, x):\n",
    "        \"\"\"\n",
    "        Forward propagation function.\n",
    "        \n",
    "        self: self\n",
    "        x: tensor of shape (num_channels, PAC_y_dim, PAC_x_dim)\n",
    "            where PAC_y_dim and PAC_x_dim are the dimensions of the PAC-matrix\n",
    "        \n",
    "        returns: tensor of shape (1, 100) serving as a feature vector.\n",
    "        \"\"\"\n",
    "        x = self.convs(x) #execute convolutional layers\n",
    "        x = x.view(-1, self._to_linear) #flatten\n",
    "        x = self.fc1(x)\n",
    "        x = self.dropout(x)\n",
    "        x = self.batchnorm1(x)\n",
    "        return x     "
   ]
  },
  {
   "cell_type": "code",
   "execution_count": 16,
   "metadata": {},
   "outputs": [],
   "source": [
    "def reset_weights(m):\n",
    "  \"\"\"\n",
    "    Try resetting model weights to avoid\n",
    "    weight leakage.\n",
    "    \n",
    "    m: a PyTorch model\n",
    "    \n",
    "    return: None\n",
    "  \"\"\"\n",
    "  for layer in m.children():\n",
    "        if hasattr(layer, 'reset_parameters'):\n",
    "            #print(f'Reset trainable parameters of layer = {layer}')\n",
    "            layer.reset_parameters()"
   ]
  },
  {
   "cell_type": "code",
   "execution_count": 17,
   "metadata": {
    "id": "KTyYtlf81jiE"
   },
   "outputs": [],
   "source": [
    "# Set device cuda for GPU if it's available otherwise run on the CPU\n",
    "device = torch.device(\"cuda\" if torch.cuda.is_available() else \"cpu\")"
   ]
  },
  {
   "cell_type": "code",
   "execution_count": 18,
   "metadata": {
    "colab": {
     "base_uri": "https://localhost:8080/"
    },
    "id": "yThwqFLl2ki6",
    "outputId": "e6709d0b-4ee9-458f-d5be-e8675f917655"
   },
   "outputs": [],
   "source": [
    "#load in the data\n",
    "###from google.colab import drive\n",
    "###drive.mount('/content/drive')"
   ]
  },
  {
   "cell_type": "markdown",
   "metadata": {},
   "source": [
    "## Load labels"
   ]
  },
  {
   "cell_type": "code",
   "execution_count": 29,
   "metadata": {
    "colab": {
     "base_uri": "https://localhost:8080/"
    },
    "id": "CVv2icLw3vGl",
    "outputId": "591b964f-798d-4804-991d-c0d8f02510c4"
   },
   "outputs": [],
   "source": [
    "#load labels from csv file\n",
    "###labels = np.genfromtxt('/content/drive/MyDrive/ML Project 2/Features/Labels/avg_smooth_5.csv', delimiter=',')\n",
    "labels = np.genfromtxt('../Data/Labels/avg_smooth.csv', delimiter=',')\n",
    "#print(labels)"
   ]
  },
  {
   "cell_type": "markdown",
   "metadata": {},
   "source": [
    "## Quantify raw label values\n",
    "After reading the raw label values, they're quantified to 3 discrete levels: 0, 1 or 2.\n",
    "\n",
    "0: 'No fear apparent in rodents brain activity'\n",
    "\n",
    "1: 'A small amount of fear could be noticed, but too noisey to be sure.'\n",
    "\n",
    "2: 'Rodent is fearful'"
   ]
  },
  {
   "cell_type": "code",
   "execution_count": 30,
   "metadata": {
    "colab": {
     "base_uri": "https://localhost:8080/"
    },
    "id": "ykIdYxPv7E3E",
    "outputId": "da89c66c-181c-41f5-f1ed-c022cdee5d8e"
   },
   "outputs": [
    {
     "name": "stdout",
     "output_type": "stream",
     "text": [
      "[0, 0, 0, 1, 1, 1, 1, 1, 2, 2, 2, 2, 2, 2, 1, 1, 1, 1, 1, 1, 1, 1, 1, 1, 1, 1, 1, 1, 1, 1, 1, 1, 1, 1, 1, 1, 2, 2, 2, 2, 1, 1, 1, 1, 0, 0, 0, 0, 0, 0, 1, 1, 1, 1, 1, 1, 1, 1, 1, 1, 1, 1, 1, 1, 1, 1, 1, 1, 1, 1, 1, 1, 1, 1, 0, 0, 0, 0, 0, 0, 0, 0, 0, 0, 0, 0, 0, 0, 0, 0, 0, 1, 1, 1, 1, 1, 1, 1, 1, 1, 1, 1, 1, 1, 1, 0, 0, 0, 0, 0, 0, 0, 0, 0, 0, 1, 1, 1, 1, 1, 1, 1, 1, 1, 1, 1, 1, 1, 1, 1, 1, 1, 0, 0, 0, 0, 0, 0, 0, 1, 1, 1, 1, 1, 1, 1, 1, 1, 1, 1, 1, 1, 1, 1, 1, 1, 1, 1, 1, 1, 1, 1, 1, 1, 1, 1, 1, 1, 1, 1, 1, 1, 1, 1, 1, 1, 1, 1, 1, 1, 1, 1, 1, 2, 2, 2, 2, 2, 1, 1, 1, 1, 1, 1, 1, 1, 1, 1, 1, 1, 1, 1, 1, 1, 1, 1, 1, 1, 1, 1, 1, 1, 1, 1, 1, 1, 1, 1, 1, 1, 1, 1, 1, 1, 1, 1, 1, 0, 0, 0, 0, 0, 1, 1, 1, 1, 1, 1, 1, 1, 1, 1, 1, 1, 1, 1, 1, 1, 1, 1, 1, 1, 1, 1, 1, 1, 1, 1, 1, 1, 1, 1, 1, 1, 1, 1, 1, 1, 1, 1, 1, 1, 1, 1, 1, 1, 1, 1, 1, 0, 0, 0, 0, 0, 0, 0, 1, 1, 1, 1, 1, 1, 1, 1, 1, 1, 0, 0, 0, 0, 1, 1, 1, 1, 1, 1, 1, 1, 1, 1, 1, 1, 1, 1, 1, 1, 1, 0, 1, 1, 1, 1, 1, 1, 1, 1, 1, 1, 1, 1, 1, 1, 1, 1, 1, 1, 1, 1, 1, 1, 1, 1, 0, 0, 0, 0, 0, 0, 0, 0, 0, 0, 0, 0, 0, 0, 0, 0, 1, 1, 2, 2, 2, 2, 2, 2, 2, 1, 1, 1, 1, 1, 2, 2, 1, 1, 2, 2, 2, 2, 1, 1, 1, 1, 1, 1, 2, 2, 2, 2, 2, 2, 1, 1, 1, 1, 1, 1, 1, 1, 1, 1, 1, 1, 0, 1, 1, 1, 1, 1, 1, 1, 1, 1, 1, 1, 1, 1, 1, 1, 1, 1, 2, 2, 2, 2, 1, 1, 1, 1, 1, 1, 1, 1, 1, 1, 1, 1, 1, 1, 1, 1, 1, 1, 1, 2, 2, 2, 2, 2, 2, 2, 2, 2, 2, 2, 2, 2, 2, 2, 2, 2, 2, 1, 1, 1, 1, 1, 1, 1, 1, 1, 2, 2, 2, 2, 2, 2, 2, 2, 1, 1, 1, 1, 0, 0, 1, 1, 1, 1, 1, 1, 1, 1, 1, 1, 1, 1, 1, 1, 1, 1, 1, 1, 1, 1, 1, 1, 1, 1, 1, 2, 2, 2, 2, 2, 2, 2, 2, 2, 1, 1, 1, 1, 1, 1, 1, 1, 1, 2, 2, 1, 1, 1, 1, 1, 1, 1, 2, 2, 1, 1, 1, 1, 1, 1, 1, 1, 1, 1, 1, 1, 0, 0, 0, 0, 0, 0, 0, 1, 1, 1, 2, 2, 2, 2, 2, 2, 1, 1, 1, 1, 1, 0, 0, 0, 1, 1, 1, 1, 1, 1, 1, 1, 1, 1, 1, 1, 1, 1, 1, 1, 1, 1, 2, 2, 2, 1, 1, 1]\n",
      "\n",
      "Amount of non-fearful rodents:89\n",
      "Amount of little fearful rodents:425\n",
      "Amount of fearful rodents:86\n"
     ]
    }
   ],
   "source": [
    "df_labels = pd.DataFrame(labels)\n",
    "df_labels = pd.cut(df_labels[0],bins=[0, 0.01, 0.02, 0.03],labels=[0,1,2])\n",
    "labels = df_labels.to_numpy()\n",
    "print(list(labels))\n",
    "\n",
    "\n",
    "print('\\nAmount of non-fearful rodents:' + str(len([i for i in list(labels) if i==0])))\n",
    "print('Amount of little fearful rodents:' + str(len([i for i in list(labels) if i==1])))\n",
    "print('Amount of fearful rodents:' + str(len([i for i in list(labels) if i==2])))"
   ]
  },
  {
   "cell_type": "markdown",
   "metadata": {},
   "source": [
    "## Baseline model\n",
    "After loading in all the correct labels, a very basic baseline model is built.\n",
    "\n",
    "In this model, each test sample will get labeled as the most occuring label in the train set.\n",
    "A complex model, being built later on, should be expected to have an accuracy at least better than this baseline."
   ]
  },
  {
   "cell_type": "code",
   "execution_count": 41,
   "metadata": {},
   "outputs": [
    {
     "name": "stdout",
     "output_type": "stream",
     "text": [
      "Most occuring label in testset: 1\n",
      "Baseline accuracy: 0.6444444444444445\n"
     ]
    }
   ],
   "source": [
    "#split into 70% train data, 30 % test data\n",
    "train_labels = labels[:int(len(labels)*7/10)]\n",
    "test_labels = labels[int(len(labels)*7/10):]\n",
    "\n",
    "print('Most occuring label in testset: ' + str(np.bincount(labels).argmax()))\n",
    "\n",
    "count_arr = np.bincount(test_labels)\n",
    "\n",
    "accuracy = count_arr[1]/len(test_labels)\n",
    "print('Baseline accuracy: ' + str(accuracy))"
   ]
  },
  {
   "cell_type": "markdown",
   "metadata": {},
   "source": [
    "## Load all PAC-matrices from .npy-files"
   ]
  },
  {
   "cell_type": "code",
   "execution_count": 42,
   "metadata": {
    "colab": {
     "base_uri": "https://localhost:8080/"
    },
    "id": "BWHBj7xy30wD",
    "outputId": "f99e8cc7-7e43-447e-a839-a54f578d2d0e"
   },
   "outputs": [
    {
     "name": "stdout",
     "output_type": "stream",
     "text": [
      "Feature shapes: (600, 1, 110, 40) \n",
      "Label vector shape: (600,)\n"
     ]
    }
   ],
   "source": [
    "#load .npy files into one big array\n",
    "data = []\n",
    "###dir = '/content/drive/MyDrive/ML Project 2/Features/Feature arrays/'\n",
    "dir = '../Data/Feature arrays/'\n",
    "for filename in os.listdir(dir):\n",
    "    sample = np.load(dir+filename)\n",
    "    data.append(sample[0]) #select only PAC\n",
    "data = np.array(data[:-1])\n",
    "data = np.expand_dims(data,1)\n",
    "print('Feature shapes: ' + str(data.shape), '\\nLabel vector shape: ' + str(labels.shape))"
   ]
  },
  {
   "cell_type": "code",
   "execution_count": 43,
   "metadata": {
    "colab": {
     "base_uri": "https://localhost:8080/"
    },
    "id": "Z4DJ91Bw39Qr",
    "outputId": "288aed41-3173-44e1-85e3-4c45805ed0ba"
   },
   "outputs": [],
   "source": [
    "#transform data to pytorch tensors\n",
    "tensor_x = torch.Tensor(data)\n",
    "tensor_y = torch.Tensor(labels)\n",
    "tensor_y = tensor_y.type(torch.LongTensor)\n",
    "###print(tensor_y)"
   ]
  },
  {
   "cell_type": "code",
   "execution_count": 46,
   "metadata": {
    "colab": {
     "base_uri": "https://localhost:8080/"
    },
    "id": "3jtBPAo13-Ip",
    "outputId": "488bf29f-d9ab-4159-85fe-8ad03b3cd2b1"
   },
   "outputs": [
    {
     "name": "stdout",
     "output_type": "stream",
     "text": [
      "Length of Train Data : 420\n",
      "Length of Test Data : 180\n"
     ]
    }
   ],
   "source": [
    "#create pytorch dataset and dataloader\n",
    "dataset = TensorDataset(tensor_x,tensor_y)\n",
    "\n",
    "#split into train and test sets\n",
    "test_size = int(0.3*len(dataset))\n",
    "train_size = len(dataset) - test_size\n",
    "\n",
    "train_data,test_data = random_split(dataset,[train_size,test_size])\n",
    "print(f\"Length of Train Data : {len(train_data)}\")\n",
    "print(f\"Length of Test Data : {len(test_data)}\")\n",
    "\n",
    "train_loader = DataLoader(train_data, batch_size, shuffle = False, num_workers = 2, pin_memory = True)\n",
    "test_loader = DataLoader(test_data, batch_size, shuffle = False, num_workers = 2, pin_memory = True)"
   ]
  },
  {
   "cell_type": "code",
   "execution_count": 47,
   "metadata": {
    "id": "91jmASCZ4bq3"
   },
   "outputs": [],
   "source": [
    "# Initialize network\n",
    "###model_NN = CNN(input_size=input_size, num_classes=num_classes).to(device)\n",
    "###model_CNN = CNN().to(device)\n",
    "model = CNN().to(device)\n",
    "# Use CrossEntropyLoss and Adam optimizer\n",
    "criterion = nn.CrossEntropyLoss()\n",
    "optimizer = optim.Adam(model.parameters(), lr=learning_rate)"
   ]
  },
  {
   "cell_type": "markdown",
   "metadata": {},
   "source": [
    "## no cross validation"
   ]
  },
  {
   "cell_type": "code",
   "execution_count": 36,
   "metadata": {
    "colab": {
     "base_uri": "https://localhost:8080/",
     "height": 487
    },
    "id": "MzJwoTwo5GXK",
    "outputId": "8fe3cb9e-0df0-4c4c-8133-823d5fc54236",
    "scrolled": true
   },
   "outputs": [
    {
     "name": "stderr",
     "output_type": "stream",
     "text": [
      "100%|██████████████████████████████████████████████████████████████████████████████████| 42/42 [00:01<00:00, 36.67it/s]\n",
      "100%|██████████████████████████████████████████████████████████████████████████████████| 42/42 [00:01<00:00, 36.98it/s]\n",
      "100%|██████████████████████████████████████████████████████████████████████████████████| 42/42 [00:01<00:00, 37.14it/s]\n",
      "100%|██████████████████████████████████████████████████████████████████████████████████| 42/42 [00:01<00:00, 36.07it/s]\n"
     ]
    }
   ],
   "source": [
    "model.apply(reset_weights)\n",
    "#train network\n",
    "for epoch in range(num_epochs):\n",
    "    for batch_idx, (data, labels) in enumerate(tqdm(train_loader)):\n",
    "        current_loss = 0\n",
    "        # Get data to cuda if possible\n",
    "        data = data.to(device=device)\n",
    "        targets = labels.to(device=device)\n",
    "        # Get to correct shape\n",
    "        ###data = data.reshape(data.shape[0], -1)\n",
    "        ###data = data.reshape(-1, )\n",
    "        ###data = data.reshape(-1, 3, 110, 40)\n",
    "        #print(data.shape)\n",
    "\n",
    "        # forward\n",
    "        scores = model(data)\n",
    "        loss = criterion(scores, targets)\n",
    "\n",
    "        # backward\n",
    "        optimizer.zero_grad()\n",
    "        loss.backward()\n",
    "\n",
    "        # gradient descent or adam step\n",
    "        optimizer.step()\n",
    "\n",
    "        #print statistics\n",
    "        #print(loss.item())"
   ]
  },
  {
   "cell_type": "code",
   "execution_count": 37,
   "metadata": {
    "colab": {
     "base_uri": "https://localhost:8080/"
    },
    "id": "nChZUmnc87vM",
    "outputId": "52cf4feb-af4f-4fab-ef19-22e97045d7af"
   },
   "outputs": [
    {
     "name": "stdout",
     "output_type": "stream",
     "text": [
      "Accuracy on training set: 14.76\n",
      "Accuracy on test set: 16.11\n"
     ]
    }
   ],
   "source": [
    "# Check accuracy on training & test to see how good our model\n",
    "def check_accuracy(loader, model):\n",
    "    num_correct = 0\n",
    "    num_samples = 0\n",
    "    model.eval()\n",
    "\n",
    "    with torch.no_grad():\n",
    "        for x, y in loader:\n",
    "            x = x.to(device=device)\n",
    "            y = y.to(device=device)\n",
    "            #x = x.reshape(x.shape[0], -1)\n",
    "\n",
    "            scores = model(x)\n",
    "            _, predictions = scores.max(1)\n",
    "            num_correct += (predictions == y).sum()\n",
    "            num_samples += predictions.size(0)\n",
    "\n",
    "    model.train()\n",
    "    return num_correct/num_samples\n",
    "\n",
    "\n",
    "print(f\"Accuracy on training set: {check_accuracy(train_loader, model)*100:.2f}\")\n",
    "print(f\"Accuracy on test set: {check_accuracy(test_loader, model)*100:.2f}\")"
   ]
  },
  {
   "cell_type": "markdown",
   "metadata": {},
   "source": [
    "## Define accuracy-function"
   ]
  },
  {
   "cell_type": "code",
   "execution_count": 50,
   "metadata": {},
   "outputs": [],
   "source": [
    "\"\"\"\n",
    " Check accuracy on training & test to see how good the model is\n",
    " \n",
    " loader: a pytorch dataloader\n",
    " model: a pytorch model\n",
    " \n",
    " returns: model accuracy as a numerical value\n",
    "\"\"\"\n",
    "def check_accuracy(loader, model):\n",
    "    num_correct = 0\n",
    "    num_samples = 0\n",
    "    model.eval()\n",
    "\n",
    "    with torch.no_grad():\n",
    "        for x, y in loader:\n",
    "            x = x.to(device=device)\n",
    "            y = y.to(device=device)\n",
    "            #x = x.reshape(x.shape[0], -1)\n",
    "\n",
    "            scores = model(x)\n",
    "            _, predictions = scores.max(1)\n",
    "            num_correct += (predictions == y).sum()\n",
    "            num_samples += predictions.size(0)\n",
    "\n",
    "    model.train()\n",
    "    return num_correct/num_samples"
   ]
  },
  {
   "cell_type": "markdown",
   "metadata": {},
   "source": [
    "## Apply crossvalidation\n",
    "Apply 5-fold crossvalidation with CrossEntropy loss and Adam optimizer."
   ]
  },
  {
   "cell_type": "code",
   "execution_count": 51,
   "metadata": {},
   "outputs": [],
   "source": [
    "# Define the 5-fold Cross Validator\n",
    "k_folds = 5\n",
    "kfold = KFold(n_splits=k_folds, shuffle=False)"
   ]
  },
  {
   "cell_type": "code",
   "execution_count": 53,
   "metadata": {},
   "outputs": [
    {
     "name": "stdout",
     "output_type": "stream",
     "text": [
      "Fold 0\n"
     ]
    },
    {
     "name": "stderr",
     "output_type": "stream",
     "text": [
      "100%|██████████████████████████████████████████████████████████████████████████████████| 48/48 [00:01<00:00, 46.88it/s]\n",
      "100%|██████████████████████████████████████████████████████████████████████████████████| 48/48 [00:00<00:00, 54.42it/s]\n",
      "100%|██████████████████████████████████████████████████████████████████████████████████| 48/48 [00:00<00:00, 62.18it/s]\n",
      "100%|██████████████████████████████████████████████████████████████████████████████████| 48/48 [00:00<00:00, 69.87it/s]\n",
      "100%|██████████████████████████████████████████████████████████████████████████████████| 48/48 [00:00<00:00, 69.97it/s]\n",
      "100%|██████████████████████████████████████████████████████████████████████████████████| 48/48 [00:00<00:00, 72.51it/s]\n",
      "100%|██████████████████████████████████████████████████████████████████████████████████| 48/48 [00:00<00:00, 66.57it/s]\n",
      "100%|██████████████████████████████████████████████████████████████████████████████████| 48/48 [00:00<00:00, 70.48it/s]\n",
      "100%|██████████████████████████████████████████████████████████████████████████████████| 48/48 [00:00<00:00, 64.43it/s]\n",
      "100%|██████████████████████████████████████████████████████████████████████████████████| 48/48 [00:00<00:00, 68.09it/s]\n"
     ]
    },
    {
     "name": "stdout",
     "output_type": "stream",
     "text": [
      "Train Accuracy for fold 0: 73 %\n",
      "Test Accuracy for fold 0: 61 %\n",
      "Fold 1\n"
     ]
    },
    {
     "name": "stderr",
     "output_type": "stream",
     "text": [
      "100%|██████████████████████████████████████████████████████████████████████████████████| 48/48 [00:00<00:00, 71.86it/s]\n",
      "100%|██████████████████████████████████████████████████████████████████████████████████| 48/48 [00:00<00:00, 62.10it/s]\n",
      "100%|██████████████████████████████████████████████████████████████████████████████████| 48/48 [00:00<00:00, 59.16it/s]\n",
      "100%|██████████████████████████████████████████████████████████████████████████████████| 48/48 [00:00<00:00, 64.43it/s]\n",
      "100%|██████████████████████████████████████████████████████████████████████████████████| 48/48 [00:00<00:00, 61.86it/s]\n",
      "100%|██████████████████████████████████████████████████████████████████████████████████| 48/48 [00:00<00:00, 58.68it/s]\n",
      "100%|██████████████████████████████████████████████████████████████████████████████████| 48/48 [00:01<00:00, 41.70it/s]\n",
      "100%|██████████████████████████████████████████████████████████████████████████████████| 48/48 [00:00<00:00, 69.87it/s]\n",
      "100%|██████████████████████████████████████████████████████████████████████████████████| 48/48 [00:00<00:00, 72.73it/s]\n",
      "100%|██████████████████████████████████████████████████████████████████████████████████| 48/48 [00:00<00:00, 77.30it/s]\n"
     ]
    },
    {
     "name": "stdout",
     "output_type": "stream",
     "text": [
      "Train Accuracy for fold 1: 66 %\n",
      "Test Accuracy for fold 1: 84 %\n",
      "Fold 2\n"
     ]
    },
    {
     "name": "stderr",
     "output_type": "stream",
     "text": [
      "100%|██████████████████████████████████████████████████████████████████████████████████| 48/48 [00:00<00:00, 74.88it/s]\n",
      "100%|██████████████████████████████████████████████████████████████████████████████████| 48/48 [00:00<00:00, 67.13it/s]\n",
      "100%|██████████████████████████████████████████████████████████████████████████████████| 48/48 [00:00<00:00, 73.96it/s]\n",
      "100%|██████████████████████████████████████████████████████████████████████████████████| 48/48 [00:00<00:00, 75.71it/s]\n",
      "100%|██████████████████████████████████████████████████████████████████████████████████| 48/48 [00:00<00:00, 76.07it/s]\n",
      "100%|██████████████████████████████████████████████████████████████████████████████████| 48/48 [00:00<00:00, 72.84it/s]\n",
      "100%|██████████████████████████████████████████████████████████████████████████████████| 48/48 [00:00<00:00, 64.17it/s]\n",
      "100%|██████████████████████████████████████████████████████████████████████████████████| 48/48 [00:00<00:00, 67.60it/s]\n",
      "100%|██████████████████████████████████████████████████████████████████████████████████| 48/48 [00:01<00:00, 46.87it/s]\n",
      "100%|██████████████████████████████████████████████████████████████████████████████████| 48/48 [00:00<00:00, 52.17it/s]\n"
     ]
    },
    {
     "name": "stdout",
     "output_type": "stream",
     "text": [
      "Train Accuracy for fold 2: 68 %\n",
      "Test Accuracy for fold 2: 75 %\n",
      "Fold 3\n"
     ]
    },
    {
     "name": "stderr",
     "output_type": "stream",
     "text": [
      "100%|██████████████████████████████████████████████████████████████████████████████████| 48/48 [00:01<00:00, 41.88it/s]\n",
      "100%|██████████████████████████████████████████████████████████████████████████████████| 48/48 [00:00<00:00, 58.75it/s]\n",
      "100%|██████████████████████████████████████████████████████████████████████████████████| 48/48 [00:00<00:00, 61.15it/s]\n",
      "100%|██████████████████████████████████████████████████████████████████████████████████| 48/48 [00:00<00:00, 60.45it/s]\n",
      "100%|██████████████████████████████████████████████████████████████████████████████████| 48/48 [00:00<00:00, 66.95it/s]\n",
      "100%|██████████████████████████████████████████████████████████████████████████████████| 48/48 [00:00<00:00, 67.99it/s]\n",
      "100%|██████████████████████████████████████████████████████████████████████████████████| 48/48 [00:00<00:00, 63.91it/s]\n",
      "100%|██████████████████████████████████████████████████████████████████████████████████| 48/48 [00:00<00:00, 69.67it/s]\n",
      "100%|██████████████████████████████████████████████████████████████████████████████████| 48/48 [00:00<00:00, 70.18it/s]\n",
      "100%|██████████████████████████████████████████████████████████████████████████████████| 48/48 [00:00<00:00, 68.47it/s]\n"
     ]
    },
    {
     "name": "stdout",
     "output_type": "stream",
     "text": [
      "Train Accuracy for fold 3: 73 %\n",
      "Test Accuracy for fold 3: 58 %\n",
      "Fold 4\n"
     ]
    },
    {
     "name": "stderr",
     "output_type": "stream",
     "text": [
      "100%|██████████████████████████████████████████████████████████████████████████████████| 48/48 [00:00<00:00, 62.66it/s]\n",
      "100%|██████████████████████████████████████████████████████████████████████████████████| 48/48 [00:00<00:00, 56.60it/s]\n",
      "100%|██████████████████████████████████████████████████████████████████████████████████| 48/48 [00:00<00:00, 62.18it/s]\n",
      "100%|██████████████████████████████████████████████████████████████████████████████████| 48/48 [00:00<00:00, 64.60it/s]\n",
      "100%|██████████████████████████████████████████████████████████████████████████████████| 48/48 [00:00<00:00, 64.52it/s]\n",
      "100%|██████████████████████████████████████████████████████████████████████████████████| 48/48 [00:00<00:00, 66.30it/s]\n",
      "100%|██████████████████████████████████████████████████████████████████████████████████| 48/48 [00:00<00:00, 58.47it/s]\n",
      "100%|██████████████████████████████████████████████████████████████████████████████████| 48/48 [00:00<00:00, 65.04it/s]\n",
      "100%|██████████████████████████████████████████████████████████████████████████████████| 48/48 [00:00<00:00, 53.63it/s]\n",
      "100%|██████████████████████████████████████████████████████████████████████████████████| 48/48 [00:00<00:00, 60.61it/s]\n"
     ]
    },
    {
     "name": "stdout",
     "output_type": "stream",
     "text": [
      "Train Accuracy for fold 4: 70 %\n",
      "Test Accuracy for fold 4: 71 %\n"
     ]
    }
   ],
   "source": [
    "for fold, (train_ids, test_ids) in enumerate(kfold.split(dataset)):\n",
    "    print(f'Fold {fold}')\n",
    "    model.apply(reset_weights)\n",
    "    train_subsampler = torch.utils.data.SubsetRandomSampler(train_ids)\n",
    "    test_subsampler = torch.utils.data.SubsetRandomSampler(test_ids)\n",
    "    trainloader = torch.utils.data.DataLoader(\n",
    "                      dataset, batch_size=10, sampler=train_subsampler)\n",
    "    testloader = torch.utils.data.DataLoader(\n",
    "                      dataset, batch_size=10, sampler=test_subsampler)\n",
    "    criterion = nn.CrossEntropyLoss()\n",
    "    optimizer = optim.Adam(model.parameters(), lr=learning_rate)\n",
    "    for epoch in range(num_epochs):\n",
    "        for batch_idx, (input_, labels) in enumerate(tqdm(trainloader)):\n",
    "            # Get data to cuda if possible\n",
    "            input_ = input_.to(device=device)\n",
    "            targets = labels.to(device=device)\n",
    "\n",
    "            # forward propagation\n",
    "            scores = model(input_)\n",
    "            loss = criterion(scores, targets)\n",
    "\n",
    "            # backpropagation\n",
    "            optimizer.zero_grad()\n",
    "            loss.backward()\n",
    "\n",
    "            # adam step\n",
    "            optimizer.step()\n",
    "    print('Train Accuracy for fold %d: %d %%' % (fold, 100.0 * check_accuracy(trainloader, model)))\n",
    "    print('Test Accuracy for fold %d: %d %%' % (fold, 100.0 * check_accuracy(testloader, model)))"
   ]
  },
  {
   "cell_type": "markdown",
   "metadata": {},
   "source": [
    "## Save extracted feature to .npy file"
   ]
  },
  {
   "cell_type": "code",
   "execution_count": 54,
   "metadata": {},
   "outputs": [
    {
     "ename": "FileNotFoundError",
     "evalue": "[Errno 2] No such file or directory: 'Data/PAC_afterCNN.npy'",
     "output_type": "error",
     "traceback": [
      "\u001b[1;31m---------------------------------------------------------------------------\u001b[0m",
      "\u001b[1;31mFileNotFoundError\u001b[0m                         Traceback (most recent call last)",
      "\u001b[1;32m<ipython-input-54-7997d267034f>\u001b[0m in \u001b[0;36m<module>\u001b[1;34m\u001b[0m\n\u001b[0;32m      2\u001b[0m \u001b[0mfeatures\u001b[0m \u001b[1;33m=\u001b[0m \u001b[0mfeatures\u001b[0m\u001b[1;33m.\u001b[0m\u001b[0mcpu\u001b[0m\u001b[1;33m(\u001b[0m\u001b[1;33m)\u001b[0m\u001b[1;33m.\u001b[0m\u001b[0mdetach\u001b[0m\u001b[1;33m(\u001b[0m\u001b[1;33m)\u001b[0m\u001b[1;33m.\u001b[0m\u001b[0mnumpy\u001b[0m\u001b[1;33m(\u001b[0m\u001b[1;33m)\u001b[0m\u001b[1;33m\u001b[0m\u001b[1;33m\u001b[0m\u001b[0m\n\u001b[0;32m      3\u001b[0m \u001b[0mfeatures\u001b[0m \u001b[1;33m=\u001b[0m \u001b[0mnp\u001b[0m\u001b[1;33m.\u001b[0m\u001b[0mmean\u001b[0m\u001b[1;33m(\u001b[0m\u001b[0mfeatures\u001b[0m\u001b[1;33m,\u001b[0m \u001b[0maxis\u001b[0m\u001b[1;33m=\u001b[0m\u001b[1;36m0\u001b[0m\u001b[1;33m)\u001b[0m\u001b[1;33m\u001b[0m\u001b[1;33m\u001b[0m\u001b[0m\n\u001b[1;32m----> 4\u001b[1;33m \u001b[0mnp\u001b[0m\u001b[1;33m.\u001b[0m\u001b[0msave\u001b[0m\u001b[1;33m(\u001b[0m\u001b[1;34m'Data/PAC_afterCNN.npy'\u001b[0m\u001b[1;33m,\u001b[0m \u001b[0mfeatures\u001b[0m\u001b[1;33m)\u001b[0m\u001b[1;33m\u001b[0m\u001b[1;33m\u001b[0m\u001b[0m\n\u001b[0m",
      "\u001b[1;32mC:\\Users\\Public\\Anaconda\\lib\\site-packages\\numpy\\lib\\npyio.py\u001b[0m in \u001b[0;36msave\u001b[1;34m(file, arr, allow_pickle, fix_imports)\u001b[0m\n\u001b[0;32m    522\u001b[0m         \u001b[1;32mif\u001b[0m \u001b[1;32mnot\u001b[0m \u001b[0mfile\u001b[0m\u001b[1;33m.\u001b[0m\u001b[0mendswith\u001b[0m\u001b[1;33m(\u001b[0m\u001b[1;34m'.npy'\u001b[0m\u001b[1;33m)\u001b[0m\u001b[1;33m:\u001b[0m\u001b[1;33m\u001b[0m\u001b[1;33m\u001b[0m\u001b[0m\n\u001b[0;32m    523\u001b[0m             \u001b[0mfile\u001b[0m \u001b[1;33m=\u001b[0m \u001b[0mfile\u001b[0m \u001b[1;33m+\u001b[0m \u001b[1;34m'.npy'\u001b[0m\u001b[1;33m\u001b[0m\u001b[1;33m\u001b[0m\u001b[0m\n\u001b[1;32m--> 524\u001b[1;33m         \u001b[0mfid\u001b[0m \u001b[1;33m=\u001b[0m \u001b[0mopen\u001b[0m\u001b[1;33m(\u001b[0m\u001b[0mfile\u001b[0m\u001b[1;33m,\u001b[0m \u001b[1;34m\"wb\"\u001b[0m\u001b[1;33m)\u001b[0m\u001b[1;33m\u001b[0m\u001b[1;33m\u001b[0m\u001b[0m\n\u001b[0m\u001b[0;32m    525\u001b[0m         \u001b[0mown_fid\u001b[0m \u001b[1;33m=\u001b[0m \u001b[1;32mTrue\u001b[0m\u001b[1;33m\u001b[0m\u001b[1;33m\u001b[0m\u001b[0m\n\u001b[0;32m    526\u001b[0m \u001b[1;33m\u001b[0m\u001b[0m\n",
      "\u001b[1;31mFileNotFoundError\u001b[0m: [Errno 2] No such file or directory: 'Data/PAC_afterCNN.npy'"
     ]
    }
   ],
   "source": [
    "features = model.forward(tensor_x.to(device=device))\n",
    "features = features.cpu().detach().numpy()\n",
    "features = np.mean(features, axis=0)\n",
    "np.save('../Data/PAC_afterCNN.npy', features)"
   ]
  },
  {
   "cell_type": "markdown",
   "metadata": {},
   "source": [
    "## Hyperparameter Tuning with Ray Tune\n",
    "As noted before some parameters where acquired in their optimal form by performing hyperparameter tuning.  \n",
    "The library used for this was Ray Tune.  \n",
    "\n",
    "Following hyperparameters where tuned:\n",
    "- number of epochs\n",
    "- learning rate\n",
    "- batch size\n",
    "\n",
    "with following optimal values:  \n",
    "- number of epochs = 10\n",
    "- learning_rate = 0.07165149868611925\n",
    "- batch_size = 30\n"
   ]
  },
  {
   "cell_type": "code",
   "execution_count": 42,
   "metadata": {},
   "outputs": [],
   "source": [
    "config = {\n",
    "    \"num_epochs\": tune.choice([2, 5, 10]),\n",
    "    \"lr\": tune.loguniform(1e-4, 1e-1),\n",
    "    \"batch_size\": tune.choice([5, 10, 50, 100])\n",
    "}\n",
    "max_num_epochs = 11"
   ]
  },
  {
   "cell_type": "code",
   "execution_count": 44,
   "metadata": {},
   "outputs": [],
   "source": [
    "\"\"\"\n",
    "Ray Tune requires one method to contain all necessary network definitions and methods.\n",
    "\"\"\"\n",
    "\n",
    "\"\"\"\n",
    "config: dictionary with configuration hyperparameters\n",
    "checkpoint_dir: not used, but could be used to load earlier configuration\n",
    "\n",
    "returns: None\n",
    "\"\"\"\n",
    "def train(config, checkpoint_dir=None):\n",
    "    model = CNN().to(device)\n",
    "    model.apply(reset_weights)\n",
    "    # Loss and optimizer\n",
    "    criterion = nn.CrossEntropyLoss()\n",
    "    optimizer = optim.Adam(model.parameters(), lr=config[\"learning_rate\"])\n",
    "    \n",
    "    if checkpoint_dir:\n",
    "        model_state, optimizer_state = torch.load(\n",
    "            os.path.join(checkpoint_dir, \"checkpoint\"))\n",
    "        net.load_state_dict(model_state)\n",
    "        optimizer.load_state_dict(optimizer_state)\n",
    "    batch_size = config[\"batch_size\"]\n",
    "    train_loader = DataLoader(train_data, batch_size, shuffle = False, num_workers = 2, pin_memory = True)\n",
    "    test_loader = DataLoader(test_data, batch_size, shuffle = False, num_workers = 2, pin_memory = True)\n",
    "    for epoch in range(config[\"num_epochs\"]):\n",
    "        running_loss = 0\n",
    "        epoch_steps = 0\n",
    "        for batch_idx, (data, labels) in enumerate(tqdm(train_loader)):\n",
    "            current_loss = 0\n",
    "            # Get data to cuda if possible\n",
    "            data = data.to(device=device)\n",
    "            targets = labels.to(device=device)\n",
    "            # Get to correct shape\n",
    "            ###data = data.reshape(data.shape[0], -1)\n",
    "            ###data = data.reshape(-1, )\n",
    "            ###data = data.reshape(-1, 3, 110, 40)\n",
    "            #print(data.shape)\n",
    "\n",
    "            # forward\n",
    "            scores = model(data)\n",
    "            loss = criterion(scores, targets)\n",
    "\n",
    "            # backward\n",
    "            optimizer.zero_grad()\n",
    "            loss.backward()\n",
    "\n",
    "            # gradient descent or adam step\n",
    "            optimizer.step()\n",
    "\n",
    "            #print statistics\n",
    "            running_loss += loss.item()\n",
    "            epoch_steps += 1\n",
    "            if batch_idx%500 == 499:\n",
    "                print(\"[%d, %5d] loss: %.3f\" % (epoch + 1, i + 1,\n",
    "                                                running_loss / epoch_steps))\n",
    "                running_loss = 0.0\n",
    "                \n",
    "                \n",
    "        test_loss = 0\n",
    "        test_steps = 0\n",
    "        total = 0\n",
    "        correct = 0\n",
    "        for batch_idx, (data, labels) in enumerate(tqdm(test_loader)):\n",
    "            with torch.no_grad():\n",
    "                data = data.to(device=device)\n",
    "                targets = labels.to(device=device)\n",
    "                scores = model(data)\n",
    "                _, predictions = scores.max(1)\n",
    "                total += predictions.size(0)\n",
    "                correct += (predictions == targets).sum().item()\n",
    "                loss = criterion(scores, targets)\n",
    "                test_loss += loss.cpu().numpy()\n",
    "                test_steps+=1\n",
    "        with tune.checkpoint_dir(epoch) as checkpoint_dir:\n",
    "            path = os.path.join(checkpoint_dir, \"checkpoint\")\n",
    "            torch.save((model.state_dict(), optimizer.state_dict()), path)\n",
    "        tune.report(loss=(test_loss/test_steps), accuracy=correct/total)\n",
    "    print(\"Finished\")\n",
    "\n",
    "            \n",
    "    "
   ]
  },
  {
   "cell_type": "code",
   "execution_count": 55,
   "metadata": {},
   "outputs": [],
   "source": [
    "\"\"\"\n",
    "num_samples: amount of hyperparameter value combinations to check\n",
    "gpus_per_trial: amount of gpus available\n",
    "\n",
    "return: None\n",
    "\"\"\"\n",
    "def main(num_samples = 10, gpus_per_trial=1):\n",
    "    config = {\n",
    "    \"num_epochs\": tune.choice([4, 5, 10]),\n",
    "    \"learning_rate\": tune.loguniform(1e-4, 1e-1),\n",
    "    \"batch_size\": tune.choice([10, 30, 50, 100])\n",
    "    }\n",
    "    scheduler = ASHAScheduler(\n",
    "        metric=\"loss\",\n",
    "        mode=\"min\",\n",
    "        max_t = max_num_epochs,\n",
    "        grace_period=1,\n",
    "        reduction_factor=2)\n",
    "    reporter = CLIReporter(metric_columns=[\"loss\", \"accuray\", \"train_iteration\"])\n",
    "    result = tune.run(\n",
    "            partial(train),\n",
    "            resources_per_trial={\"cpu\": 1, \"gpu\": gpus_per_trial},\n",
    "            config=config,\n",
    "            num_samples = num_samples,\n",
    "            scheduler=scheduler,\n",
    "            progress_reporter=reporter)\n",
    "    best_trial = result.get_best_trial(\"loss\", \"min\", \"last\")\n",
    "    print(\"Best trial config: {}\".format(best_trial.config))\n",
    "    print(\"Best trial final validation loss: {}\".format(\n",
    "        best_trial.last_result[\"loss\"]))\n",
    "    print(\"Best trial final validation accuracy: {}\".format(\n",
    "        best_trial.last_result[\"accuracy\"]))\n",
    "    #best_trained_model = model(best_trial)"
   ]
  },
  {
   "cell_type": "code",
   "execution_count": 58,
   "metadata": {},
   "outputs": [
    {
     "name": "stderr",
     "output_type": "stream",
     "text": [
      "2021-12-18 16:19:02,462\tWARNING experiment.py:255 -- No name detected on trainable. Using DEFAULT.\n",
      "2021-12-18 16:19:02,463\tINFO registry.py:69 -- Detected unknown callable for trainable. Converting to class.\n",
      "2021-12-18 16:19:06,390\tWARNING worker.py:1245 -- Warning: The actor ImplicitFunc is very large (10 MiB). Check that its definition is not implicitly capturing a large array or other object in scope. Tip: use ray.put() to put large objects in the Ray object store.\n"
     ]
    },
    {
     "name": "stdout",
     "output_type": "stream",
     "text": [
      "== Status ==\n",
      "Current time: 2021-12-18 16:19:06 (running for 00:00:03.78)\n",
      "Memory usage on this node: 15.4/47.6 GiB\n",
      "Using AsyncHyperBand: num_stopped=0\n",
      "Bracket: Iter 8.000: None | Iter 4.000: None | Iter 2.000: None | Iter 1.000: None\n",
      "Resources requested: 1.0/12 CPUs, 1.0/1 GPUs, 0.0/20.19 GiB heap, 0.0/10.09 GiB objects\n",
      "Result logdir: C:\\Users\\Tomas\\ray_results\\DEFAULT_2021-12-18_16-19-02\n",
      "Number of trials: 10/10 (9 PENDING, 1 RUNNING)\n",
      "+---------------------+----------+-----------------+--------------+-----------------+--------------+\n",
      "| Trial name          | status   | loc             |   batch_size |   learning_rate |   num_epochs |\n",
      "|---------------------+----------+-----------------+--------------+-----------------+--------------|\n",
      "| DEFAULT_d5176_00000 | RUNNING  | 127.0.0.1:26304 |           10 |     0.000667685 |            5 |\n",
      "| DEFAULT_d5176_00001 | PENDING  |                 |           10 |     0.00173855  |            5 |\n",
      "| DEFAULT_d5176_00002 | PENDING  |                 |           30 |     0.0378417   |            5 |\n",
      "| DEFAULT_d5176_00003 | PENDING  |                 |          100 |     0.00147783  |           10 |\n",
      "| DEFAULT_d5176_00004 | PENDING  |                 |           10 |     0.0125708   |            4 |\n",
      "| DEFAULT_d5176_00005 | PENDING  |                 |           10 |     0.000160196 |            4 |\n",
      "| DEFAULT_d5176_00006 | PENDING  |                 |           30 |     0.0716515   |           10 |\n",
      "| DEFAULT_d5176_00007 | PENDING  |                 |           50 |     0.00124637  |            4 |\n",
      "| DEFAULT_d5176_00008 | PENDING  |                 |          100 |     0.000408916 |            5 |\n",
      "| DEFAULT_d5176_00009 | PENDING  |                 |           50 |     0.0215958   |            4 |\n",
      "+---------------------+----------+-----------------+--------------+-----------------+--------------+\n",
      "\n",
      "\n",
      " pid=26304)\u001b[0m 2080nc\n"
     ]
    },
    {
     "name": "stderr",
     "output_type": "stream",
     "text": [
      "  0%|          | 0/42 [00:00<?, ?it/s]\n"
     ]
    },
    {
     "name": "stdout",
     "output_type": "stream",
     "text": [
      "== Status ==\n",
      "Current time: 2021-12-18 16:19:11 (running for 00:00:09.00)\n",
      "Memory usage on this node: 16.7/47.6 GiB\n",
      "Using AsyncHyperBand: num_stopped=0\n",
      "Bracket: Iter 8.000: None | Iter 4.000: None | Iter 2.000: None | Iter 1.000: None\n",
      "Resources requested: 1.0/12 CPUs, 1.0/1 GPUs, 0.0/20.19 GiB heap, 0.0/10.09 GiB objects\n",
      "Result logdir: C:\\Users\\Tomas\\ray_results\\DEFAULT_2021-12-18_16-19-02\n",
      "Number of trials: 10/10 (9 PENDING, 1 RUNNING)\n",
      "+---------------------+----------+-----------------+--------------+-----------------+--------------+\n",
      "| Trial name          | status   | loc             |   batch_size |   learning_rate |   num_epochs |\n",
      "|---------------------+----------+-----------------+--------------+-----------------+--------------|\n",
      "| DEFAULT_d5176_00000 | RUNNING  | 127.0.0.1:26304 |           10 |     0.000667685 |            5 |\n",
      "| DEFAULT_d5176_00001 | PENDING  |                 |           10 |     0.00173855  |            5 |\n",
      "| DEFAULT_d5176_00002 | PENDING  |                 |           30 |     0.0378417   |            5 |\n",
      "| DEFAULT_d5176_00003 | PENDING  |                 |          100 |     0.00147783  |           10 |\n",
      "| DEFAULT_d5176_00004 | PENDING  |                 |           10 |     0.0125708   |            4 |\n",
      "| DEFAULT_d5176_00005 | PENDING  |                 |           10 |     0.000160196 |            4 |\n",
      "| DEFAULT_d5176_00006 | PENDING  |                 |           30 |     0.0716515   |           10 |\n",
      "| DEFAULT_d5176_00007 | PENDING  |                 |           50 |     0.00124637  |            4 |\n",
      "| DEFAULT_d5176_00008 | PENDING  |                 |          100 |     0.000408916 |            5 |\n",
      "| DEFAULT_d5176_00009 | PENDING  |                 |           50 |     0.0215958   |            4 |\n",
      "+---------------------+----------+-----------------+--------------+-----------------+--------------+\n",
      "\n",
      "\n"
     ]
    },
    {
     "name": "stderr",
     "output_type": "stream",
     "text": [
      " pid=26304)\u001b[0m C:\\Users\\Tomas\\anaconda3\\lib\\site-packages\\torch\\nn\\functional.py:1794: UserWarning: nn.functional.tanh is deprecated. Use torch.tanh instead.\n",
      " pid=26304)\u001b[0m   warnings.warn(\"nn.functional.tanh is deprecated. Use torch.tanh instead.\")\n",
      "  2%|▏         | 1/42 [00:04<03:16,  4.79s/it]\n",
      " 43%|████▎     | 18/42 [00:04<00:04,  5.12it/s]\n",
      " 81%|████████  | 34/42 [00:04<00:00, 11.26it/s]\n",
      "100%|██████████| 42/42 [00:05<00:00,  8.00it/s]\n",
      "  0%|          | 0/18 [00:00<?, ?it/s]\n"
     ]
    },
    {
     "name": "stdout",
     "output_type": "stream",
     "text": [
      "== Status ==\n",
      "Current time: 2021-12-18 16:19:17 (running for 00:00:14.42)\n",
      "Memory usage on this node: 17.7/47.6 GiB\n",
      "Using AsyncHyperBand: num_stopped=0\n",
      "Bracket: Iter 8.000: None | Iter 4.000: None | Iter 2.000: None | Iter 1.000: None\n",
      "Resources requested: 1.0/12 CPUs, 1.0/1 GPUs, 0.0/20.19 GiB heap, 0.0/10.09 GiB objects\n",
      "Result logdir: C:\\Users\\Tomas\\ray_results\\DEFAULT_2021-12-18_16-19-02\n",
      "Number of trials: 10/10 (9 PENDING, 1 RUNNING)\n",
      "+---------------------+----------+-----------------+--------------+-----------------+--------------+\n",
      "| Trial name          | status   | loc             |   batch_size |   learning_rate |   num_epochs |\n",
      "|---------------------+----------+-----------------+--------------+-----------------+--------------|\n",
      "| DEFAULT_d5176_00000 | RUNNING  | 127.0.0.1:26304 |           10 |     0.000667685 |            5 |\n",
      "| DEFAULT_d5176_00001 | PENDING  |                 |           10 |     0.00173855  |            5 |\n",
      "| DEFAULT_d5176_00002 | PENDING  |                 |           30 |     0.0378417   |            5 |\n",
      "| DEFAULT_d5176_00003 | PENDING  |                 |          100 |     0.00147783  |           10 |\n",
      "| DEFAULT_d5176_00004 | PENDING  |                 |           10 |     0.0125708   |            4 |\n",
      "| DEFAULT_d5176_00005 | PENDING  |                 |           10 |     0.000160196 |            4 |\n",
      "| DEFAULT_d5176_00006 | PENDING  |                 |           30 |     0.0716515   |           10 |\n",
      "| DEFAULT_d5176_00007 | PENDING  |                 |           50 |     0.00124637  |            4 |\n",
      "| DEFAULT_d5176_00008 | PENDING  |                 |          100 |     0.000408916 |            5 |\n",
      "| DEFAULT_d5176_00009 | PENDING  |                 |           50 |     0.0215958   |            4 |\n",
      "+---------------------+----------+-----------------+--------------+-----------------+--------------+\n",
      "\n",
      "\n"
     ]
    },
    {
     "name": "stderr",
     "output_type": "stream",
     "text": [
      "  6%|▌         | 1/18 [00:03<00:55,  3.29s/it]\n"
     ]
    },
    {
     "name": "stdout",
     "output_type": "stream",
     "text": [
      "Result for DEFAULT_d5176_00000:\n",
      "  accuracy: 0.3888888888888889\n",
      "  date: 2021-12-18_16-19-19\n",
      "  done: false\n",
      "  experiment_id: fe55fb1d8c9e4cc6a42fb9392b8bc98b\n",
      "  hostname: WSTOMAS21\n",
      "  iterations_since_restore: 1\n",
      "  loss: 1.119779904683431\n",
      "  node_ip: 127.0.0.1\n",
      "  pid: 26304\n",
      "  should_checkpoint: true\n",
      "  time_since_restore: 11.270264148712158\n",
      "  time_this_iter_s: 11.270264148712158\n",
      "  time_total_s: 11.270264148712158\n",
      "  timestamp: 1639840759\n",
      "  timesteps_since_restore: 0\n",
      "  training_iteration: 1\n",
      "  trial_id: d5176_00000\n",
      "  \n"
     ]
    },
    {
     "name": "stderr",
     "output_type": "stream",
     "text": [
      "100%|██████████| 18/18 [00:03<00:00,  5.12it/s]\n",
      "  0%|          | 0/42 [00:00<?, ?it/s]\n",
      "  2%|▏         | 1/42 [00:03<02:05,  3.05s/it]\n",
      " 81%|████████  | 34/42 [00:03<00:00, 17.54it/s]\n",
      "100%|██████████| 42/42 [00:03<00:00, 12.11it/s]\n",
      "  0%|          | 0/18 [00:00<?, ?it/s]\n"
     ]
    },
    {
     "name": "stdout",
     "output_type": "stream",
     "text": [
      "== Status ==\n",
      "Current time: 2021-12-18 16:19:23 (running for 00:00:20.34)\n",
      "Memory usage on this node: 17.6/47.6 GiB\n",
      "Using AsyncHyperBand: num_stopped=0\n",
      "Bracket: Iter 8.000: None | Iter 4.000: None | Iter 2.000: None | Iter 1.000: -1.119779904683431\n",
      "Resources requested: 1.0/12 CPUs, 1.0/1 GPUs, 0.0/20.19 GiB heap, 0.0/10.09 GiB objects\n",
      "Result logdir: C:\\Users\\Tomas\\ray_results\\DEFAULT_2021-12-18_16-19-02\n",
      "Number of trials: 10/10 (9 PENDING, 1 RUNNING)\n",
      "+---------------------+----------+-----------------+--------------+-----------------+--------------+---------+\n",
      "| Trial name          | status   | loc             |   batch_size |   learning_rate |   num_epochs |    loss |\n",
      "|---------------------+----------+-----------------+--------------+-----------------+--------------+---------|\n",
      "| DEFAULT_d5176_00000 | RUNNING  | 127.0.0.1:26304 |           10 |     0.000667685 |            5 | 1.11978 |\n",
      "| DEFAULT_d5176_00001 | PENDING  |                 |           10 |     0.00173855  |            5 |         |\n",
      "| DEFAULT_d5176_00002 | PENDING  |                 |           30 |     0.0378417   |            5 |         |\n",
      "| DEFAULT_d5176_00003 | PENDING  |                 |          100 |     0.00147783  |           10 |         |\n",
      "| DEFAULT_d5176_00004 | PENDING  |                 |           10 |     0.0125708   |            4 |         |\n",
      "| DEFAULT_d5176_00005 | PENDING  |                 |           10 |     0.000160196 |            4 |         |\n",
      "| DEFAULT_d5176_00006 | PENDING  |                 |           30 |     0.0716515   |           10 |         |\n",
      "| DEFAULT_d5176_00007 | PENDING  |                 |           50 |     0.00124637  |            4 |         |\n",
      "| DEFAULT_d5176_00008 | PENDING  |                 |          100 |     0.000408916 |            5 |         |\n",
      "| DEFAULT_d5176_00009 | PENDING  |                 |           50 |     0.0215958   |            4 |         |\n",
      "+---------------------+----------+-----------------+--------------+-----------------+--------------+---------+\n",
      "\n",
      "\n"
     ]
    },
    {
     "name": "stderr",
     "output_type": "stream",
     "text": [
      "  6%|▌         | 1/18 [00:03<00:54,  3.21s/it]\n",
      "100%|██████████| 18/18 [00:03<00:00,  5.30it/s]\n"
     ]
    },
    {
     "name": "stdout",
     "output_type": "stream",
     "text": [
      "Result for DEFAULT_d5176_00000:\n",
      "  accuracy: 0.3277777777777778\n",
      "  date: 2021-12-18_16-19-26\n",
      "  done: false\n",
      "  experiment_id: fe55fb1d8c9e4cc6a42fb9392b8bc98b\n",
      "  hostname: WSTOMAS21\n",
      "  iterations_since_restore: 2\n",
      "  loss: 1.1182448466618855\n",
      "  node_ip: 127.0.0.1\n",
      "  pid: 26304\n",
      "  should_checkpoint: true\n",
      "  time_since_restore: 18.359431266784668\n",
      "  time_this_iter_s: 7.08916711807251\n",
      "  time_total_s: 18.359431266784668\n",
      "  timestamp: 1639840766\n",
      "  timesteps_since_restore: 0\n",
      "  training_iteration: 2\n",
      "  trial_id: d5176_00000\n",
      "  \n"
     ]
    },
    {
     "name": "stderr",
     "output_type": "stream",
     "text": [
      "  0%|          | 0/42 [00:00<?, ?it/s]\n"
     ]
    },
    {
     "name": "stdout",
     "output_type": "stream",
     "text": [
      "== Status ==\n",
      "Current time: 2021-12-18 16:19:28 (running for 00:00:26.18)\n",
      "Memory usage on this node: 17.6/47.6 GiB\n",
      "Using AsyncHyperBand: num_stopped=0\n",
      "Bracket: Iter 8.000: None | Iter 4.000: None | Iter 2.000: -1.1182448466618855 | Iter 1.000: -1.119779904683431\n",
      "Resources requested: 1.0/12 CPUs, 1.0/1 GPUs, 0.0/20.19 GiB heap, 0.0/10.09 GiB objects\n",
      "Result logdir: C:\\Users\\Tomas\\ray_results\\DEFAULT_2021-12-18_16-19-02\n",
      "Number of trials: 10/10 (9 PENDING, 1 RUNNING)\n",
      "+---------------------+----------+-----------------+--------------+-----------------+--------------+---------+\n",
      "| Trial name          | status   | loc             |   batch_size |   learning_rate |   num_epochs |    loss |\n",
      "|---------------------+----------+-----------------+--------------+-----------------+--------------+---------|\n",
      "| DEFAULT_d5176_00000 | RUNNING  | 127.0.0.1:26304 |           10 |     0.000667685 |            5 | 1.11824 |\n",
      "| DEFAULT_d5176_00001 | PENDING  |                 |           10 |     0.00173855  |            5 |         |\n",
      "| DEFAULT_d5176_00002 | PENDING  |                 |           30 |     0.0378417   |            5 |         |\n",
      "| DEFAULT_d5176_00003 | PENDING  |                 |          100 |     0.00147783  |           10 |         |\n",
      "| DEFAULT_d5176_00004 | PENDING  |                 |           10 |     0.0125708   |            4 |         |\n",
      "| DEFAULT_d5176_00005 | PENDING  |                 |           10 |     0.000160196 |            4 |         |\n",
      "| DEFAULT_d5176_00006 | PENDING  |                 |           30 |     0.0716515   |           10 |         |\n",
      "| DEFAULT_d5176_00007 | PENDING  |                 |           50 |     0.00124637  |            4 |         |\n",
      "| DEFAULT_d5176_00008 | PENDING  |                 |          100 |     0.000408916 |            5 |         |\n",
      "| DEFAULT_d5176_00009 | PENDING  |                 |           50 |     0.0215958   |            4 |         |\n",
      "+---------------------+----------+-----------------+--------------+-----------------+--------------+---------+\n",
      "\n",
      "\n"
     ]
    },
    {
     "name": "stderr",
     "output_type": "stream",
     "text": [
      "  2%|▏         | 1/42 [00:03<02:07,  3.10s/it]\n",
      " 76%|███████▌  | 32/42 [00:03<00:00, 15.73it/s]\n",
      "100%|██████████| 42/42 [00:03<00:00, 11.84it/s]\n",
      "  0%|          | 0/18 [00:00<?, ?it/s]\n",
      "  6%|▌         | 1/18 [00:03<00:55,  3.26s/it]\n"
     ]
    },
    {
     "name": "stdout",
     "output_type": "stream",
     "text": [
      "Result for DEFAULT_d5176_00000:\n",
      "  accuracy: 0.3277777777777778\n",
      "  date: 2021-12-18_16-19-33\n",
      "  done: false\n",
      "  experiment_id: fe55fb1d8c9e4cc6a42fb9392b8bc98b\n",
      "  hostname: WSTOMAS21\n",
      "  iterations_since_restore: 3\n",
      "  loss: 1.1313990619447496\n",
      "  node_ip: 127.0.0.1\n",
      "  pid: 26304\n",
      "  should_checkpoint: true\n",
      "  time_since_restore: 25.59133291244507\n",
      "  time_this_iter_s: 7.2319016456604\n",
      "  time_total_s: 25.59133291244507\n",
      "  timestamp: 1639840773\n",
      "  timesteps_since_restore: 0\n",
      "  training_iteration: 3\n",
      "  trial_id: d5176_00000\n",
      "  \n"
     ]
    },
    {
     "name": "stderr",
     "output_type": "stream",
     "text": [
      "100%|██████████| 18/18 [00:03<00:00,  5.21it/s]\n",
      "  0%|          | 0/42 [00:00<?, ?it/s]\n"
     ]
    },
    {
     "name": "stdout",
     "output_type": "stream",
     "text": [
      "== Status ==\n",
      "Current time: 2021-12-18 16:19:34 (running for 00:00:32.17)\n",
      "Memory usage on this node: 17.7/47.6 GiB\n",
      "Using AsyncHyperBand: num_stopped=0\n",
      "Bracket: Iter 8.000: None | Iter 4.000: None | Iter 2.000: -1.1182448466618855 | Iter 1.000: -1.119779904683431\n",
      "Resources requested: 1.0/12 CPUs, 1.0/1 GPUs, 0.0/20.19 GiB heap, 0.0/10.09 GiB objects\n",
      "Result logdir: C:\\Users\\Tomas\\ray_results\\DEFAULT_2021-12-18_16-19-02\n",
      "Number of trials: 10/10 (9 PENDING, 1 RUNNING)\n",
      "+---------------------+----------+-----------------+--------------+-----------------+--------------+--------+\n",
      "| Trial name          | status   | loc             |   batch_size |   learning_rate |   num_epochs |   loss |\n",
      "|---------------------+----------+-----------------+--------------+-----------------+--------------+--------|\n",
      "| DEFAULT_d5176_00000 | RUNNING  | 127.0.0.1:26304 |           10 |     0.000667685 |            5 | 1.1314 |\n",
      "| DEFAULT_d5176_00001 | PENDING  |                 |           10 |     0.00173855  |            5 |        |\n",
      "| DEFAULT_d5176_00002 | PENDING  |                 |           30 |     0.0378417   |            5 |        |\n",
      "| DEFAULT_d5176_00003 | PENDING  |                 |          100 |     0.00147783  |           10 |        |\n",
      "| DEFAULT_d5176_00004 | PENDING  |                 |           10 |     0.0125708   |            4 |        |\n",
      "| DEFAULT_d5176_00005 | PENDING  |                 |           10 |     0.000160196 |            4 |        |\n",
      "| DEFAULT_d5176_00006 | PENDING  |                 |           30 |     0.0716515   |           10 |        |\n",
      "| DEFAULT_d5176_00007 | PENDING  |                 |           50 |     0.00124637  |            4 |        |\n",
      "| DEFAULT_d5176_00008 | PENDING  |                 |          100 |     0.000408916 |            5 |        |\n",
      "| DEFAULT_d5176_00009 | PENDING  |                 |           50 |     0.0215958   |            4 |        |\n",
      "+---------------------+----------+-----------------+--------------+-----------------+--------------+--------+\n",
      "\n",
      "\n"
     ]
    },
    {
     "name": "stderr",
     "output_type": "stream",
     "text": [
      "  2%|▏         | 1/42 [00:03<02:12,  3.22s/it]\n",
      " 36%|███▌      | 15/42 [00:03<00:04,  6.23it/s]\n",
      " 79%|███████▊  | 33/42 [00:03<00:00, 16.11it/s]\n",
      "100%|██████████| 42/42 [00:03<00:00, 11.54it/s]\n",
      "  0%|          | 0/18 [00:00<?, ?it/s]\n"
     ]
    },
    {
     "name": "stdout",
     "output_type": "stream",
     "text": [
      "== Status ==\n",
      "Current time: 2021-12-18 16:19:40 (running for 00:00:37.39)\n",
      "Memory usage on this node: 17.7/47.6 GiB\n",
      "Using AsyncHyperBand: num_stopped=0\n",
      "Bracket: Iter 8.000: None | Iter 4.000: None | Iter 2.000: -1.1182448466618855 | Iter 1.000: -1.119779904683431\n",
      "Resources requested: 1.0/12 CPUs, 1.0/1 GPUs, 0.0/20.19 GiB heap, 0.0/10.09 GiB objects\n",
      "Result logdir: C:\\Users\\Tomas\\ray_results\\DEFAULT_2021-12-18_16-19-02\n",
      "Number of trials: 10/10 (9 PENDING, 1 RUNNING)\n",
      "+---------------------+----------+-----------------+--------------+-----------------+--------------+--------+\n",
      "| Trial name          | status   | loc             |   batch_size |   learning_rate |   num_epochs |   loss |\n",
      "|---------------------+----------+-----------------+--------------+-----------------+--------------+--------|\n",
      "| DEFAULT_d5176_00000 | RUNNING  | 127.0.0.1:26304 |           10 |     0.000667685 |            5 | 1.1314 |\n",
      "| DEFAULT_d5176_00001 | PENDING  |                 |           10 |     0.00173855  |            5 |        |\n",
      "| DEFAULT_d5176_00002 | PENDING  |                 |           30 |     0.0378417   |            5 |        |\n",
      "| DEFAULT_d5176_00003 | PENDING  |                 |          100 |     0.00147783  |           10 |        |\n",
      "| DEFAULT_d5176_00004 | PENDING  |                 |           10 |     0.0125708   |            4 |        |\n",
      "| DEFAULT_d5176_00005 | PENDING  |                 |           10 |     0.000160196 |            4 |        |\n",
      "| DEFAULT_d5176_00006 | PENDING  |                 |           30 |     0.0716515   |           10 |        |\n",
      "| DEFAULT_d5176_00007 | PENDING  |                 |           50 |     0.00124637  |            4 |        |\n",
      "| DEFAULT_d5176_00008 | PENDING  |                 |          100 |     0.000408916 |            5 |        |\n",
      "| DEFAULT_d5176_00009 | PENDING  |                 |           50 |     0.0215958   |            4 |        |\n",
      "+---------------------+----------+-----------------+--------------+-----------------+--------------+--------+\n",
      "\n",
      "\n"
     ]
    },
    {
     "name": "stderr",
     "output_type": "stream",
     "text": [
      "  6%|▌         | 1/18 [00:03<00:55,  3.25s/it]\n"
     ]
    },
    {
     "name": "stdout",
     "output_type": "stream",
     "text": [
      "Result for DEFAULT_d5176_00000:\n",
      "  accuracy: 0.31666666666666665\n",
      "  date: 2021-12-18_16-19-40\n",
      "  done: false\n",
      "  experiment_id: fe55fb1d8c9e4cc6a42fb9392b8bc98b\n",
      "  hostname: WSTOMAS21\n",
      "  iterations_since_restore: 4\n",
      "  loss: 1.117471694946289\n",
      "  node_ip: 127.0.0.1\n",
      "  pid: 26304\n",
      "  should_checkpoint: true\n",
      "  time_since_restore: 32.917776584625244\n",
      "  time_this_iter_s: 7.326443672180176\n",
      "  time_total_s: 32.917776584625244\n",
      "  timestamp: 1639840780\n",
      "  timesteps_since_restore: 0\n",
      "  training_iteration: 4\n",
      "  trial_id: d5176_00000\n",
      "  \n"
     ]
    },
    {
     "name": "stderr",
     "output_type": "stream",
     "text": [
      "100%|██████████| 18/18 [00:03<00:00,  5.22it/s]\n",
      "  0%|          | 0/42 [00:00<?, ?it/s]\n",
      "  2%|▏         | 1/42 [00:03<02:10,  3.17s/it]\n",
      " 38%|███▊      | 16/42 [00:03<00:03,  6.75it/s]\n",
      " 76%|███████▌  | 32/42 [00:03<00:00, 15.60it/s]\n",
      "100%|██████████| 42/42 [00:03<00:00, 11.53it/s]\n",
      "  0%|          | 0/18 [00:00<?, ?it/s]\n"
     ]
    },
    {
     "name": "stdout",
     "output_type": "stream",
     "text": [
      "== Status ==\n",
      "Current time: 2021-12-18 16:19:46 (running for 00:00:43.40)\n",
      "Memory usage on this node: 17.7/47.6 GiB\n",
      "Using AsyncHyperBand: num_stopped=0\n",
      "Bracket: Iter 8.000: None | Iter 4.000: -1.117471694946289 | Iter 2.000: -1.1182448466618855 | Iter 1.000: -1.119779904683431\n",
      "Resources requested: 1.0/12 CPUs, 1.0/1 GPUs, 0.0/20.19 GiB heap, 0.0/10.09 GiB objects\n",
      "Result logdir: C:\\Users\\Tomas\\ray_results\\DEFAULT_2021-12-18_16-19-02\n",
      "Number of trials: 10/10 (9 PENDING, 1 RUNNING)\n",
      "+---------------------+----------+-----------------+--------------+-----------------+--------------+---------+\n",
      "| Trial name          | status   | loc             |   batch_size |   learning_rate |   num_epochs |    loss |\n",
      "|---------------------+----------+-----------------+--------------+-----------------+--------------+---------|\n",
      "| DEFAULT_d5176_00000 | RUNNING  | 127.0.0.1:26304 |           10 |     0.000667685 |            5 | 1.11747 |\n",
      "| DEFAULT_d5176_00001 | PENDING  |                 |           10 |     0.00173855  |            5 |         |\n",
      "| DEFAULT_d5176_00002 | PENDING  |                 |           30 |     0.0378417   |            5 |         |\n",
      "| DEFAULT_d5176_00003 | PENDING  |                 |          100 |     0.00147783  |           10 |         |\n",
      "| DEFAULT_d5176_00004 | PENDING  |                 |           10 |     0.0125708   |            4 |         |\n",
      "| DEFAULT_d5176_00005 | PENDING  |                 |           10 |     0.000160196 |            4 |         |\n",
      "| DEFAULT_d5176_00006 | PENDING  |                 |           30 |     0.0716515   |           10 |         |\n",
      "| DEFAULT_d5176_00007 | PENDING  |                 |           50 |     0.00124637  |            4 |         |\n",
      "| DEFAULT_d5176_00008 | PENDING  |                 |          100 |     0.000408916 |            5 |         |\n",
      "| DEFAULT_d5176_00009 | PENDING  |                 |           50 |     0.0215958   |            4 |         |\n",
      "+---------------------+----------+-----------------+--------------+-----------------+--------------+---------+\n",
      "\n",
      "\n"
     ]
    },
    {
     "name": "stderr",
     "output_type": "stream",
     "text": [
      "  6%|▌         | 1/18 [00:03<00:57,  3.37s/it]\n"
     ]
    },
    {
     "name": "stdout",
     "output_type": "stream",
     "text": [
      "Result for DEFAULT_d5176_00000:\n",
      "  accuracy: 0.4166666666666667\n",
      "  date: 2021-12-18_16-19-48\n",
      "  done: false\n",
      "  experiment_id: fe55fb1d8c9e4cc6a42fb9392b8bc98b\n",
      "  hostname: WSTOMAS21\n",
      "  iterations_since_restore: 5\n",
      "  loss: 1.0803481141726177\n",
      "  node_ip: 127.0.0.1\n",
      "  pid: 26304\n",
      "  should_checkpoint: true\n",
      "  time_since_restore: 40.35527467727661\n",
      "  time_this_iter_s: 7.437498092651367\n",
      "  time_total_s: 40.35527467727661\n",
      "  timestamp: 1639840788\n",
      "  timesteps_since_restore: 0\n",
      "  training_iteration: 5\n",
      "  trial_id: d5176_00000\n",
      "  \n"
     ]
    },
    {
     "name": "stderr",
     "output_type": "stream",
     "text": [
      "100%|██████████| 18/18 [00:03<00:00,  5.06it/s]\n"
     ]
    },
    {
     "name": "stdout",
     "output_type": "stream",
     "text": [
      " pid=26304)\u001b[0m Finished\n",
      "Result for DEFAULT_d5176_00000:\n",
      "  accuracy: 0.4166666666666667\n",
      "  date: 2021-12-18_16-19-48\n",
      "  done: true\n",
      "  experiment_id: fe55fb1d8c9e4cc6a42fb9392b8bc98b\n",
      "  experiment_tag: 0_batch_size=10,learning_rate=0.00066768,num_epochs=5\n",
      "  hostname: WSTOMAS21\n",
      "  iterations_since_restore: 5\n",
      "  loss: 1.0803481141726177\n",
      "  node_ip: 127.0.0.1\n",
      "  pid: 26304\n",
      "  should_checkpoint: true\n",
      "  time_since_restore: 40.35527467727661\n",
      "  time_this_iter_s: 7.437498092651367\n",
      "  time_total_s: 40.35527467727661\n",
      "  timestamp: 1639840788\n",
      "  timesteps_since_restore: 0\n",
      "  training_iteration: 5\n",
      "  trial_id: d5176_00000\n",
      "  \n",
      " pid=3772)\u001b[0m 2080unc\n",
      "== Status ==\n",
      "Current time: 2021-12-18 16:19:51 (running for 00:00:49.01)\n",
      "Memory usage on this node: 16.2/47.6 GiB\n",
      "Using AsyncHyperBand: num_stopped=0\n",
      "Bracket: Iter 8.000: None | Iter 4.000: -1.117471694946289 | Iter 2.000: -1.1182448466618855 | Iter 1.000: -1.119779904683431\n",
      "Resources requested: 1.0/12 CPUs, 1.0/1 GPUs, 0.0/20.19 GiB heap, 0.0/10.09 GiB objects\n",
      "Result logdir: C:\\Users\\Tomas\\ray_results\\DEFAULT_2021-12-18_16-19-02\n",
      "Number of trials: 10/10 (8 PENDING, 1 RUNNING, 1 TERMINATED)\n",
      "+---------------------+------------+-----------------+--------------+-----------------+--------------+---------+\n",
      "| Trial name          | status     | loc             |   batch_size |   learning_rate |   num_epochs |    loss |\n",
      "|---------------------+------------+-----------------+--------------+-----------------+--------------+---------|\n",
      "| DEFAULT_d5176_00001 | RUNNING    | 127.0.0.1:3772  |           10 |     0.00173855  |            5 |         |\n",
      "| DEFAULT_d5176_00002 | PENDING    |                 |           30 |     0.0378417   |            5 |         |\n",
      "| DEFAULT_d5176_00003 | PENDING    |                 |          100 |     0.00147783  |           10 |         |\n",
      "| DEFAULT_d5176_00004 | PENDING    |                 |           10 |     0.0125708   |            4 |         |\n",
      "| DEFAULT_d5176_00005 | PENDING    |                 |           10 |     0.000160196 |            4 |         |\n",
      "| DEFAULT_d5176_00006 | PENDING    |                 |           30 |     0.0716515   |           10 |         |\n",
      "| DEFAULT_d5176_00007 | PENDING    |                 |           50 |     0.00124637  |            4 |         |\n",
      "| DEFAULT_d5176_00008 | PENDING    |                 |          100 |     0.000408916 |            5 |         |\n",
      "| DEFAULT_d5176_00009 | PENDING    |                 |           50 |     0.0215958   |            4 |         |\n",
      "| DEFAULT_d5176_00000 | TERMINATED | 127.0.0.1:26304 |           10 |     0.000667685 |            5 | 1.08035 |\n",
      "+---------------------+------------+-----------------+--------------+-----------------+--------------+---------+\n",
      "\n",
      "\n"
     ]
    },
    {
     "name": "stderr",
     "output_type": "stream",
     "text": [
      "  0%|          | 0/42 [00:00<?, ?it/s]\n"
     ]
    },
    {
     "name": "stdout",
     "output_type": "stream",
     "text": [
      "== Status ==\n",
      "Current time: 2021-12-18 16:19:56 (running for 00:00:54.08)\n",
      "Memory usage on this node: 17.7/47.6 GiB\n",
      "Using AsyncHyperBand: num_stopped=0\n",
      "Bracket: Iter 8.000: None | Iter 4.000: -1.117471694946289 | Iter 2.000: -1.1182448466618855 | Iter 1.000: -1.119779904683431\n",
      "Resources requested: 1.0/12 CPUs, 1.0/1 GPUs, 0.0/20.19 GiB heap, 0.0/10.09 GiB objects\n",
      "Result logdir: C:\\Users\\Tomas\\ray_results\\DEFAULT_2021-12-18_16-19-02\n",
      "Number of trials: 10/10 (8 PENDING, 1 RUNNING, 1 TERMINATED)\n",
      "+---------------------+------------+-----------------+--------------+-----------------+--------------+---------+\n",
      "| Trial name          | status     | loc             |   batch_size |   learning_rate |   num_epochs |    loss |\n",
      "|---------------------+------------+-----------------+--------------+-----------------+--------------+---------|\n",
      "| DEFAULT_d5176_00001 | RUNNING    | 127.0.0.1:3772  |           10 |     0.00173855  |            5 |         |\n",
      "| DEFAULT_d5176_00002 | PENDING    |                 |           30 |     0.0378417   |            5 |         |\n",
      "| DEFAULT_d5176_00003 | PENDING    |                 |          100 |     0.00147783  |           10 |         |\n",
      "| DEFAULT_d5176_00004 | PENDING    |                 |           10 |     0.0125708   |            4 |         |\n",
      "| DEFAULT_d5176_00005 | PENDING    |                 |           10 |     0.000160196 |            4 |         |\n",
      "| DEFAULT_d5176_00006 | PENDING    |                 |           30 |     0.0716515   |           10 |         |\n",
      "| DEFAULT_d5176_00007 | PENDING    |                 |           50 |     0.00124637  |            4 |         |\n",
      "| DEFAULT_d5176_00008 | PENDING    |                 |          100 |     0.000408916 |            5 |         |\n",
      "| DEFAULT_d5176_00009 | PENDING    |                 |           50 |     0.0215958   |            4 |         |\n",
      "| DEFAULT_d5176_00000 | TERMINATED | 127.0.0.1:26304 |           10 |     0.000667685 |            5 | 1.08035 |\n",
      "+---------------------+------------+-----------------+--------------+-----------------+--------------+---------+\n",
      "\n",
      "\n"
     ]
    },
    {
     "name": "stderr",
     "output_type": "stream",
     "text": [
      " pid=3772)\u001b[0m C:\\Users\\Tomas\\anaconda3\\lib\\site-packages\\torch\\nn\\functional.py:1794: UserWarning: nn.functional.tanh is deprecated. Use torch.tanh instead.\n",
      " pid=3772)\u001b[0m   warnings.warn(\"nn.functional.tanh is deprecated. Use torch.tanh instead.\")\n",
      "  2%|▏         | 1/42 [00:04<02:59,  4.38s/it]\n",
      " 40%|████      | 17/42 [00:04<00:04,  5.27it/s]\n",
      " 79%|███████▊  | 33/42 [00:04<00:00, 11.91it/s]\n",
      "100%|██████████| 42/42 [00:04<00:00,  8.76it/s]\n",
      "  0%|          | 0/18 [00:00<?, ?it/s]\n",
      "  6%|▌         | 1/18 [00:03<00:51,  3.00s/it]\n",
      "100%|██████████| 18/18 [00:03<00:00,  5.67it/s]\n"
     ]
    },
    {
     "name": "stdout",
     "output_type": "stream",
     "text": [
      "Result for DEFAULT_d5176_00001:\n",
      "  accuracy: 0.3611111111111111\n",
      "  date: 2021-12-18_16-20-00\n",
      "  done: false\n",
      "  experiment_id: 69320aec093843abb5cc2ae49d9e04fd\n",
      "  hostname: WSTOMAS21\n",
      "  iterations_since_restore: 1\n",
      "  loss: 1.1011452211274042\n",
      "  node_ip: 127.0.0.1\n",
      "  pid: 3772\n",
      "  should_checkpoint: true\n",
      "  time_since_restore: 9.624178647994995\n",
      "  time_this_iter_s: 9.624178647994995\n",
      "  time_total_s: 9.624178647994995\n",
      "  timestamp: 1639840800\n",
      "  timesteps_since_restore: 0\n",
      "  training_iteration: 1\n",
      "  trial_id: d5176_00001\n",
      "  \n"
     ]
    },
    {
     "name": "stderr",
     "output_type": "stream",
     "text": [
      "  0%|          | 0/42 [00:00<?, ?it/s]\n"
     ]
    },
    {
     "name": "stdout",
     "output_type": "stream",
     "text": [
      "== Status ==\n",
      "Current time: 2021-12-18 16:20:01 (running for 00:00:59.20)\n",
      "Memory usage on this node: 17.6/47.6 GiB\n",
      "Using AsyncHyperBand: num_stopped=0\n",
      "Bracket: Iter 8.000: None | Iter 4.000: -1.117471694946289 | Iter 2.000: -1.1182448466618855 | Iter 1.000: -1.1104625629054174\n",
      "Resources requested: 1.0/12 CPUs, 1.0/1 GPUs, 0.0/20.19 GiB heap, 0.0/10.09 GiB objects\n",
      "Result logdir: C:\\Users\\Tomas\\ray_results\\DEFAULT_2021-12-18_16-19-02\n",
      "Number of trials: 10/10 (8 PENDING, 1 RUNNING, 1 TERMINATED)\n",
      "+---------------------+------------+-----------------+--------------+-----------------+--------------+---------+\n",
      "| Trial name          | status     | loc             |   batch_size |   learning_rate |   num_epochs |    loss |\n",
      "|---------------------+------------+-----------------+--------------+-----------------+--------------+---------|\n",
      "| DEFAULT_d5176_00001 | RUNNING    | 127.0.0.1:3772  |           10 |     0.00173855  |            5 | 1.10115 |\n",
      "| DEFAULT_d5176_00002 | PENDING    |                 |           30 |     0.0378417   |            5 |         |\n",
      "| DEFAULT_d5176_00003 | PENDING    |                 |          100 |     0.00147783  |           10 |         |\n",
      "| DEFAULT_d5176_00004 | PENDING    |                 |           10 |     0.0125708   |            4 |         |\n",
      "| DEFAULT_d5176_00005 | PENDING    |                 |           10 |     0.000160196 |            4 |         |\n",
      "| DEFAULT_d5176_00006 | PENDING    |                 |           30 |     0.0716515   |           10 |         |\n",
      "| DEFAULT_d5176_00007 | PENDING    |                 |           50 |     0.00124637  |            4 |         |\n",
      "| DEFAULT_d5176_00008 | PENDING    |                 |          100 |     0.000408916 |            5 |         |\n",
      "| DEFAULT_d5176_00009 | PENDING    |                 |           50 |     0.0215958   |            4 |         |\n",
      "| DEFAULT_d5176_00000 | TERMINATED | 127.0.0.1:26304 |           10 |     0.000667685 |            5 | 1.08035 |\n",
      "+---------------------+------------+-----------------+--------------+-----------------+--------------+---------+\n",
      "\n",
      "\n"
     ]
    },
    {
     "name": "stderr",
     "output_type": "stream",
     "text": [
      "  2%|▏         | 1/42 [00:03<02:07,  3.11s/it]\n",
      " 45%|████▌     | 19/42 [00:03<00:02,  8.19it/s]\n",
      " 95%|█████████▌| 40/42 [00:03<00:00, 20.05it/s]\n",
      "100%|██████████| 42/42 [00:03<00:00, 12.03it/s]\n",
      "  0%|          | 0/18 [00:00<?, ?it/s]\n"
     ]
    },
    {
     "name": "stdout",
     "output_type": "stream",
     "text": [
      "== Status ==\n",
      "Current time: 2021-12-18 16:20:07 (running for 00:01:04.29)\n",
      "Memory usage on this node: 17.7/47.6 GiB\n",
      "Using AsyncHyperBand: num_stopped=0\n",
      "Bracket: Iter 8.000: None | Iter 4.000: -1.117471694946289 | Iter 2.000: -1.1182448466618855 | Iter 1.000: -1.1104625629054174\n",
      "Resources requested: 1.0/12 CPUs, 1.0/1 GPUs, 0.0/20.19 GiB heap, 0.0/10.09 GiB objects\n",
      "Result logdir: C:\\Users\\Tomas\\ray_results\\DEFAULT_2021-12-18_16-19-02\n",
      "Number of trials: 10/10 (8 PENDING, 1 RUNNING, 1 TERMINATED)\n",
      "+---------------------+------------+-----------------+--------------+-----------------+--------------+---------+\n",
      "| Trial name          | status     | loc             |   batch_size |   learning_rate |   num_epochs |    loss |\n",
      "|---------------------+------------+-----------------+--------------+-----------------+--------------+---------|\n",
      "| DEFAULT_d5176_00001 | RUNNING    | 127.0.0.1:3772  |           10 |     0.00173855  |            5 | 1.10115 |\n",
      "| DEFAULT_d5176_00002 | PENDING    |                 |           30 |     0.0378417   |            5 |         |\n",
      "| DEFAULT_d5176_00003 | PENDING    |                 |          100 |     0.00147783  |           10 |         |\n",
      "| DEFAULT_d5176_00004 | PENDING    |                 |           10 |     0.0125708   |            4 |         |\n",
      "| DEFAULT_d5176_00005 | PENDING    |                 |           10 |     0.000160196 |            4 |         |\n",
      "| DEFAULT_d5176_00006 | PENDING    |                 |           30 |     0.0716515   |           10 |         |\n",
      "| DEFAULT_d5176_00007 | PENDING    |                 |           50 |     0.00124637  |            4 |         |\n",
      "| DEFAULT_d5176_00008 | PENDING    |                 |          100 |     0.000408916 |            5 |         |\n",
      "| DEFAULT_d5176_00009 | PENDING    |                 |           50 |     0.0215958   |            4 |         |\n",
      "| DEFAULT_d5176_00000 | TERMINATED | 127.0.0.1:26304 |           10 |     0.000667685 |            5 | 1.08035 |\n",
      "+---------------------+------------+-----------------+--------------+-----------------+--------------+---------+\n",
      "\n",
      "\n"
     ]
    },
    {
     "name": "stderr",
     "output_type": "stream",
     "text": [
      "  6%|▌         | 1/18 [00:03<00:54,  3.19s/it]\n",
      "100%|██████████| 18/18 [00:03<00:00,  5.35it/s]\n"
     ]
    },
    {
     "name": "stdout",
     "output_type": "stream",
     "text": [
      "Result for DEFAULT_d5176_00001:\n",
      "  accuracy: 0.4444444444444444\n",
      "  date: 2021-12-18_16-20-07\n",
      "  done: false\n",
      "  experiment_id: 69320aec093843abb5cc2ae49d9e04fd\n",
      "  hostname: WSTOMAS21\n",
      "  iterations_since_restore: 2\n",
      "  loss: 1.085105922487047\n",
      "  node_ip: 127.0.0.1\n",
      "  pid: 3772\n",
      "  should_checkpoint: true\n",
      "  time_since_restore: 16.73160171508789\n",
      "  time_this_iter_s: 7.1074230670928955\n",
      "  time_total_s: 16.73160171508789\n",
      "  timestamp: 1639840807\n",
      "  timesteps_since_restore: 0\n",
      "  training_iteration: 2\n",
      "  trial_id: d5176_00001\n",
      "  \n"
     ]
    },
    {
     "name": "stderr",
     "output_type": "stream",
     "text": [
      "  0%|          | 0/42 [00:00<?, ?it/s]\n",
      "  2%|▏         | 1/42 [00:03<02:08,  3.15s/it]\n",
      " 48%|████▊     | 20/42 [00:03<00:02,  8.55it/s]\n",
      " 95%|█████████▌| 40/42 [00:03<00:00, 19.68it/s]\n",
      "100%|██████████| 42/42 [00:03<00:00, 11.97it/s]\n",
      "  0%|          | 0/18 [00:00<?, ?it/s]\n"
     ]
    },
    {
     "name": "stdout",
     "output_type": "stream",
     "text": [
      "== Status ==\n",
      "Current time: 2021-12-18 16:20:12 (running for 00:01:10.09)\n",
      "Memory usage on this node: 17.5/47.6 GiB\n",
      "Using AsyncHyperBand: num_stopped=0\n",
      "Bracket: Iter 8.000: None | Iter 4.000: -1.117471694946289 | Iter 2.000: -1.1016753845744662 | Iter 1.000: -1.1104625629054174\n",
      "Resources requested: 1.0/12 CPUs, 1.0/1 GPUs, 0.0/20.19 GiB heap, 0.0/10.09 GiB objects\n",
      "Result logdir: C:\\Users\\Tomas\\ray_results\\DEFAULT_2021-12-18_16-19-02\n",
      "Number of trials: 10/10 (8 PENDING, 1 RUNNING, 1 TERMINATED)\n",
      "+---------------------+------------+-----------------+--------------+-----------------+--------------+---------+\n",
      "| Trial name          | status     | loc             |   batch_size |   learning_rate |   num_epochs |    loss |\n",
      "|---------------------+------------+-----------------+--------------+-----------------+--------------+---------|\n",
      "| DEFAULT_d5176_00001 | RUNNING    | 127.0.0.1:3772  |           10 |     0.00173855  |            5 | 1.08511 |\n",
      "| DEFAULT_d5176_00002 | PENDING    |                 |           30 |     0.0378417   |            5 |         |\n",
      "| DEFAULT_d5176_00003 | PENDING    |                 |          100 |     0.00147783  |           10 |         |\n",
      "| DEFAULT_d5176_00004 | PENDING    |                 |           10 |     0.0125708   |            4 |         |\n",
      "| DEFAULT_d5176_00005 | PENDING    |                 |           10 |     0.000160196 |            4 |         |\n",
      "| DEFAULT_d5176_00006 | PENDING    |                 |           30 |     0.0716515   |           10 |         |\n",
      "| DEFAULT_d5176_00007 | PENDING    |                 |           50 |     0.00124637  |            4 |         |\n",
      "| DEFAULT_d5176_00008 | PENDING    |                 |          100 |     0.000408916 |            5 |         |\n",
      "| DEFAULT_d5176_00009 | PENDING    |                 |           50 |     0.0215958   |            4 |         |\n",
      "| DEFAULT_d5176_00000 | TERMINATED | 127.0.0.1:26304 |           10 |     0.000667685 |            5 | 1.08035 |\n",
      "+---------------------+------------+-----------------+--------------+-----------------+--------------+---------+\n",
      "\n",
      "\n"
     ]
    },
    {
     "name": "stderr",
     "output_type": "stream",
     "text": [
      "  6%|▌         | 1/18 [00:03<00:54,  3.22s/it]\n"
     ]
    },
    {
     "name": "stdout",
     "output_type": "stream",
     "text": [
      "Result for DEFAULT_d5176_00001:\n",
      "  accuracy: 0.40555555555555556\n",
      "  date: 2021-12-18_16-20-14\n",
      "  done: false\n",
      "  experiment_id: 69320aec093843abb5cc2ae49d9e04fd\n",
      "  hostname: WSTOMAS21\n",
      "  iterations_since_restore: 3\n",
      "  loss: 1.085873865418964\n",
      "  node_ip: 127.0.0.1\n",
      "  pid: 3772\n",
      "  should_checkpoint: true\n",
      "  time_since_restore: 23.884207248687744\n",
      "  time_this_iter_s: 7.1526055335998535\n",
      "  time_total_s: 23.884207248687744\n",
      "  timestamp: 1639840814\n",
      "  timesteps_since_restore: 0\n",
      "  training_iteration: 3\n",
      "  trial_id: d5176_00001\n",
      "  \n"
     ]
    },
    {
     "name": "stderr",
     "output_type": "stream",
     "text": [
      "100%|██████████| 18/18 [00:03<00:00,  5.30it/s]\n",
      "  0%|          | 0/42 [00:00<?, ?it/s]\n",
      "  2%|▏         | 1/42 [00:03<02:07,  3.11s/it]\n",
      " 45%|████▌     | 19/42 [00:03<00:02,  8.20it/s]\n",
      " 93%|█████████▎| 39/42 [00:03<00:00, 19.46it/s]\n",
      "100%|██████████| 42/42 [00:03<00:00, 12.08it/s]\n",
      "  0%|          | 0/18 [00:00<?, ?it/s]\n"
     ]
    },
    {
     "name": "stdout",
     "output_type": "stream",
     "text": [
      "== Status ==\n",
      "Current time: 2021-12-18 16:20:18 (running for 00:01:16.09)\n",
      "Memory usage on this node: 17.6/47.6 GiB\n",
      "Using AsyncHyperBand: num_stopped=0\n",
      "Bracket: Iter 8.000: None | Iter 4.000: -1.117471694946289 | Iter 2.000: -1.1016753845744662 | Iter 1.000: -1.1104625629054174\n",
      "Resources requested: 1.0/12 CPUs, 1.0/1 GPUs, 0.0/20.19 GiB heap, 0.0/10.09 GiB objects\n",
      "Result logdir: C:\\Users\\Tomas\\ray_results\\DEFAULT_2021-12-18_16-19-02\n",
      "Number of trials: 10/10 (8 PENDING, 1 RUNNING, 1 TERMINATED)\n",
      "+---------------------+------------+-----------------+--------------+-----------------+--------------+---------+\n",
      "| Trial name          | status     | loc             |   batch_size |   learning_rate |   num_epochs |    loss |\n",
      "|---------------------+------------+-----------------+--------------+-----------------+--------------+---------|\n",
      "| DEFAULT_d5176_00001 | RUNNING    | 127.0.0.1:3772  |           10 |     0.00173855  |            5 | 1.08587 |\n",
      "| DEFAULT_d5176_00002 | PENDING    |                 |           30 |     0.0378417   |            5 |         |\n",
      "| DEFAULT_d5176_00003 | PENDING    |                 |          100 |     0.00147783  |           10 |         |\n",
      "| DEFAULT_d5176_00004 | PENDING    |                 |           10 |     0.0125708   |            4 |         |\n",
      "| DEFAULT_d5176_00005 | PENDING    |                 |           10 |     0.000160196 |            4 |         |\n",
      "| DEFAULT_d5176_00006 | PENDING    |                 |           30 |     0.0716515   |           10 |         |\n",
      "| DEFAULT_d5176_00007 | PENDING    |                 |           50 |     0.00124637  |            4 |         |\n",
      "| DEFAULT_d5176_00008 | PENDING    |                 |          100 |     0.000408916 |            5 |         |\n",
      "| DEFAULT_d5176_00009 | PENDING    |                 |           50 |     0.0215958   |            4 |         |\n",
      "| DEFAULT_d5176_00000 | TERMINATED | 127.0.0.1:26304 |           10 |     0.000667685 |            5 | 1.08035 |\n",
      "+---------------------+------------+-----------------+--------------+-----------------+--------------+---------+\n",
      "\n",
      "\n"
     ]
    },
    {
     "name": "stderr",
     "output_type": "stream",
     "text": [
      "  6%|▌         | 1/18 [00:03<00:55,  3.28s/it]\n",
      "100%|██████████| 18/18 [00:03<00:00,  5.22it/s]\n"
     ]
    },
    {
     "name": "stdout",
     "output_type": "stream",
     "text": [
      "Result for DEFAULT_d5176_00001:\n",
      "  accuracy: 0.4166666666666667\n",
      "  date: 2021-12-18_16-20-21\n",
      "  done: false\n",
      "  experiment_id: 69320aec093843abb5cc2ae49d9e04fd\n",
      "  hostname: WSTOMAS21\n",
      "  iterations_since_restore: 4\n",
      "  loss: 1.066856602827708\n",
      "  node_ip: 127.0.0.1\n",
      "  pid: 3772\n",
      "  should_checkpoint: true\n",
      "  time_since_restore: 31.03783869743347\n",
      "  time_this_iter_s: 7.1536314487457275\n",
      "  time_total_s: 31.03783869743347\n",
      "  timestamp: 1639840821\n",
      "  timesteps_since_restore: 0\n",
      "  training_iteration: 4\n",
      "  trial_id: d5176_00001\n",
      "  \n"
     ]
    },
    {
     "name": "stderr",
     "output_type": "stream",
     "text": [
      "  0%|          | 0/42 [00:00<?, ?it/s]\n"
     ]
    },
    {
     "name": "stdout",
     "output_type": "stream",
     "text": [
      "== Status ==\n",
      "Current time: 2021-12-18 16:20:24 (running for 00:01:21.84)\n",
      "Memory usage on this node: 17.6/47.6 GiB\n",
      "Using AsyncHyperBand: num_stopped=0\n",
      "Bracket: Iter 8.000: None | Iter 4.000: -1.0921641488869986 | Iter 2.000: -1.1016753845744662 | Iter 1.000: -1.1104625629054174\n",
      "Resources requested: 1.0/12 CPUs, 1.0/1 GPUs, 0.0/20.19 GiB heap, 0.0/10.09 GiB objects\n",
      "Result logdir: C:\\Users\\Tomas\\ray_results\\DEFAULT_2021-12-18_16-19-02\n",
      "Number of trials: 10/10 (8 PENDING, 1 RUNNING, 1 TERMINATED)\n",
      "+---------------------+------------+-----------------+--------------+-----------------+--------------+---------+\n",
      "| Trial name          | status     | loc             |   batch_size |   learning_rate |   num_epochs |    loss |\n",
      "|---------------------+------------+-----------------+--------------+-----------------+--------------+---------|\n",
      "| DEFAULT_d5176_00001 | RUNNING    | 127.0.0.1:3772  |           10 |     0.00173855  |            5 | 1.06686 |\n",
      "| DEFAULT_d5176_00002 | PENDING    |                 |           30 |     0.0378417   |            5 |         |\n",
      "| DEFAULT_d5176_00003 | PENDING    |                 |          100 |     0.00147783  |           10 |         |\n",
      "| DEFAULT_d5176_00004 | PENDING    |                 |           10 |     0.0125708   |            4 |         |\n",
      "| DEFAULT_d5176_00005 | PENDING    |                 |           10 |     0.000160196 |            4 |         |\n",
      "| DEFAULT_d5176_00006 | PENDING    |                 |           30 |     0.0716515   |           10 |         |\n",
      "| DEFAULT_d5176_00007 | PENDING    |                 |           50 |     0.00124637  |            4 |         |\n",
      "| DEFAULT_d5176_00008 | PENDING    |                 |          100 |     0.000408916 |            5 |         |\n",
      "| DEFAULT_d5176_00009 | PENDING    |                 |           50 |     0.0215958   |            4 |         |\n",
      "| DEFAULT_d5176_00000 | TERMINATED | 127.0.0.1:26304 |           10 |     0.000667685 |            5 | 1.08035 |\n",
      "+---------------------+------------+-----------------+--------------+-----------------+--------------+---------+\n",
      "\n",
      "\n"
     ]
    },
    {
     "name": "stderr",
     "output_type": "stream",
     "text": [
      " 43%|████▎     | 18/42 [00:03<00:03,  7.89it/s]\n",
      " 83%|████████▎ | 35/42 [00:03<00:00, 17.60it/s]\n",
      "100%|██████████| 42/42 [00:03<00:00, 12.13it/s]\n",
      "  0%|          | 0/18 [00:00<?, ?it/s]\n",
      "  6%|▌         | 1/18 [00:03<00:53,  3.16s/it]\n"
     ]
    },
    {
     "name": "stdout",
     "output_type": "stream",
     "text": [
      "Result for DEFAULT_d5176_00001:\n",
      "  accuracy: 0.4111111111111111\n",
      "  date: 2021-12-18_16-20-28\n",
      "  done: false\n",
      "  experiment_id: 69320aec093843abb5cc2ae49d9e04fd\n",
      "  hostname: WSTOMAS21\n",
      "  iterations_since_restore: 5\n",
      "  loss: 1.0798322525289323\n",
      "  node_ip: 127.0.0.1\n",
      "  pid: 3772\n",
      "  should_checkpoint: true\n",
      "  time_since_restore: 38.06857419013977\n",
      "  time_this_iter_s: 7.030735492706299\n",
      "  time_total_s: 38.06857419013977\n",
      "  timestamp: 1639840828\n",
      "  timesteps_since_restore: 0\n",
      "  training_iteration: 5\n",
      "  trial_id: d5176_00001\n",
      "  \n"
     ]
    },
    {
     "name": "stderr",
     "output_type": "stream",
     "text": [
      "100%|██████████| 18/18 [00:03<00:00,  5.39it/s]\n"
     ]
    },
    {
     "name": "stdout",
     "output_type": "stream",
     "text": [
      " pid=3772)\u001b[0m Finished\n",
      "Result for DEFAULT_d5176_00001:\n",
      "  accuracy: 0.4111111111111111\n",
      "  date: 2021-12-18_16-20-28\n",
      "  done: true\n",
      "  experiment_id: 69320aec093843abb5cc2ae49d9e04fd\n",
      "  experiment_tag: 1_batch_size=10,learning_rate=0.0017385,num_epochs=5\n",
      "  hostname: WSTOMAS21\n",
      "  iterations_since_restore: 5\n",
      "  loss: 1.0798322525289323\n",
      "  node_ip: 127.0.0.1\n",
      "  pid: 3772\n",
      "  should_checkpoint: true\n",
      "  time_since_restore: 38.06857419013977\n",
      "  time_this_iter_s: 7.030735492706299\n",
      "  time_total_s: 38.06857419013977\n",
      "  timestamp: 1639840828\n",
      "  timesteps_since_restore: 0\n",
      "  training_iteration: 5\n",
      "  trial_id: d5176_00001\n",
      "  \n",
      "== Status ==\n",
      "Current time: 2021-12-18 16:20:29 (running for 00:01:26.87)\n",
      "Memory usage on this node: 17.5/47.6 GiB\n",
      "Using AsyncHyperBand: num_stopped=0\n",
      "Bracket: Iter 8.000: None | Iter 4.000: -1.0921641488869986 | Iter 2.000: -1.1016753845744662 | Iter 1.000: -1.1104625629054174\n",
      "Resources requested: 0/12 CPUs, 0/1 GPUs, 0.0/20.19 GiB heap, 0.0/10.09 GiB objects\n",
      "Result logdir: C:\\Users\\Tomas\\ray_results\\DEFAULT_2021-12-18_16-19-02\n",
      "Number of trials: 10/10 (8 PENDING, 2 TERMINATED)\n",
      "+---------------------+------------+-----------------+--------------+-----------------+--------------+---------+\n",
      "| Trial name          | status     | loc             |   batch_size |   learning_rate |   num_epochs |    loss |\n",
      "|---------------------+------------+-----------------+--------------+-----------------+--------------+---------|\n",
      "| DEFAULT_d5176_00002 | PENDING    |                 |           30 |     0.0378417   |            5 |         |\n",
      "| DEFAULT_d5176_00003 | PENDING    |                 |          100 |     0.00147783  |           10 |         |\n",
      "| DEFAULT_d5176_00004 | PENDING    |                 |           10 |     0.0125708   |            4 |         |\n",
      "| DEFAULT_d5176_00005 | PENDING    |                 |           10 |     0.000160196 |            4 |         |\n",
      "| DEFAULT_d5176_00006 | PENDING    |                 |           30 |     0.0716515   |           10 |         |\n",
      "| DEFAULT_d5176_00007 | PENDING    |                 |           50 |     0.00124637  |            4 |         |\n",
      "| DEFAULT_d5176_00008 | PENDING    |                 |          100 |     0.000408916 |            5 |         |\n",
      "| DEFAULT_d5176_00009 | PENDING    |                 |           50 |     0.0215958   |            4 |         |\n",
      "| DEFAULT_d5176_00000 | TERMINATED | 127.0.0.1:26304 |           10 |     0.000667685 |            5 | 1.08035 |\n",
      "| DEFAULT_d5176_00001 | TERMINATED | 127.0.0.1:3772  |           10 |     0.00173855  |            5 | 1.07983 |\n",
      "+---------------------+------------+-----------------+--------------+-----------------+--------------+---------+\n",
      "\n",
      "\n",
      " pid=25788)\u001b[0m 2080nc\n"
     ]
    },
    {
     "name": "stderr",
     "output_type": "stream",
     "text": [
      "  0%|          | 0/14 [00:00<?, ?it/s]\n"
     ]
    },
    {
     "name": "stdout",
     "output_type": "stream",
     "text": [
      "== Status ==\n",
      "Current time: 2021-12-18 16:20:34 (running for 00:01:32.26)\n",
      "Memory usage on this node: 16.7/47.6 GiB\n",
      "Using AsyncHyperBand: num_stopped=0\n",
      "Bracket: Iter 8.000: None | Iter 4.000: -1.0921641488869986 | Iter 2.000: -1.1016753845744662 | Iter 1.000: -1.1104625629054174\n",
      "Resources requested: 1.0/12 CPUs, 1.0/1 GPUs, 0.0/20.19 GiB heap, 0.0/10.09 GiB objects\n",
      "Result logdir: C:\\Users\\Tomas\\ray_results\\DEFAULT_2021-12-18_16-19-02\n",
      "Number of trials: 10/10 (7 PENDING, 1 RUNNING, 2 TERMINATED)\n",
      "+---------------------+------------+-----------------+--------------+-----------------+--------------+---------+\n",
      "| Trial name          | status     | loc             |   batch_size |   learning_rate |   num_epochs |    loss |\n",
      "|---------------------+------------+-----------------+--------------+-----------------+--------------+---------|\n",
      "| DEFAULT_d5176_00002 | RUNNING    | 127.0.0.1:25788 |           30 |     0.0378417   |            5 |         |\n",
      "| DEFAULT_d5176_00003 | PENDING    |                 |          100 |     0.00147783  |           10 |         |\n",
      "| DEFAULT_d5176_00004 | PENDING    |                 |           10 |     0.0125708   |            4 |         |\n",
      "| DEFAULT_d5176_00005 | PENDING    |                 |           10 |     0.000160196 |            4 |         |\n",
      "| DEFAULT_d5176_00006 | PENDING    |                 |           30 |     0.0716515   |           10 |         |\n",
      "| DEFAULT_d5176_00007 | PENDING    |                 |           50 |     0.00124637  |            4 |         |\n",
      "| DEFAULT_d5176_00008 | PENDING    |                 |          100 |     0.000408916 |            5 |         |\n",
      "| DEFAULT_d5176_00009 | PENDING    |                 |           50 |     0.0215958   |            4 |         |\n",
      "| DEFAULT_d5176_00000 | TERMINATED | 127.0.0.1:26304 |           10 |     0.000667685 |            5 | 1.08035 |\n",
      "| DEFAULT_d5176_00001 | TERMINATED | 127.0.0.1:3772  |           10 |     0.00173855  |            5 | 1.07983 |\n",
      "+---------------------+------------+-----------------+--------------+-----------------+--------------+---------+\n",
      "\n",
      "\n"
     ]
    },
    {
     "name": "stderr",
     "output_type": "stream",
     "text": [
      " pid=25788)\u001b[0m C:\\Users\\Tomas\\anaconda3\\lib\\site-packages\\torch\\nn\\functional.py:1794: UserWarning: nn.functional.tanh is deprecated. Use torch.tanh instead.\n",
      " pid=25788)\u001b[0m   warnings.warn(\"nn.functional.tanh is deprecated. Use torch.tanh instead.\")\n",
      "  7%|▋         | 1/14 [00:04<00:55,  4.28s/it]\n",
      "100%|██████████| 14/14 [00:04<00:00,  3.08it/s]\n",
      "  0%|          | 0/6 [00:00<?, ?it/s]\n"
     ]
    },
    {
     "name": "stdout",
     "output_type": "stream",
     "text": [
      "== Status ==\n",
      "Current time: 2021-12-18 16:20:40 (running for 00:01:37.41)\n",
      "Memory usage on this node: 17.6/47.6 GiB\n",
      "Using AsyncHyperBand: num_stopped=0\n",
      "Bracket: Iter 8.000: None | Iter 4.000: -1.0921641488869986 | Iter 2.000: -1.1016753845744662 | Iter 1.000: -1.1104625629054174\n",
      "Resources requested: 1.0/12 CPUs, 1.0/1 GPUs, 0.0/20.19 GiB heap, 0.0/10.09 GiB objects\n",
      "Result logdir: C:\\Users\\Tomas\\ray_results\\DEFAULT_2021-12-18_16-19-02\n",
      "Number of trials: 10/10 (7 PENDING, 1 RUNNING, 2 TERMINATED)\n",
      "+---------------------+------------+-----------------+--------------+-----------------+--------------+---------+\n",
      "| Trial name          | status     | loc             |   batch_size |   learning_rate |   num_epochs |    loss |\n",
      "|---------------------+------------+-----------------+--------------+-----------------+--------------+---------|\n",
      "| DEFAULT_d5176_00002 | RUNNING    | 127.0.0.1:25788 |           30 |     0.0378417   |            5 |         |\n",
      "| DEFAULT_d5176_00003 | PENDING    |                 |          100 |     0.00147783  |           10 |         |\n",
      "| DEFAULT_d5176_00004 | PENDING    |                 |           10 |     0.0125708   |            4 |         |\n",
      "| DEFAULT_d5176_00005 | PENDING    |                 |           10 |     0.000160196 |            4 |         |\n",
      "| DEFAULT_d5176_00006 | PENDING    |                 |           30 |     0.0716515   |           10 |         |\n",
      "| DEFAULT_d5176_00007 | PENDING    |                 |           50 |     0.00124637  |            4 |         |\n",
      "| DEFAULT_d5176_00008 | PENDING    |                 |          100 |     0.000408916 |            5 |         |\n",
      "| DEFAULT_d5176_00009 | PENDING    |                 |           50 |     0.0215958   |            4 |         |\n",
      "| DEFAULT_d5176_00000 | TERMINATED | 127.0.0.1:26304 |           10 |     0.000667685 |            5 | 1.08035 |\n",
      "| DEFAULT_d5176_00001 | TERMINATED | 127.0.0.1:3772  |           10 |     0.00173855  |            5 | 1.07983 |\n",
      "+---------------------+------------+-----------------+--------------+-----------------+--------------+---------+\n",
      "\n",
      "\n"
     ]
    },
    {
     "name": "stderr",
     "output_type": "stream",
     "text": [
      " 17%|█▋        | 1/6 [00:03<00:15,  3.14s/it]\n"
     ]
    },
    {
     "name": "stdout",
     "output_type": "stream",
     "text": [
      "Result for DEFAULT_d5176_00002:\n",
      "  accuracy: 0.4722222222222222\n",
      "  date: 2021-12-18_16-20-40\n",
      "  done: false\n",
      "  experiment_id: b06b3b7223d3436ea5fca8cb1ab67bac\n",
      "  hostname: WSTOMAS21\n",
      "  iterations_since_restore: 1\n",
      "  loss: 1.0520572066307068\n",
      "  node_ip: 127.0.0.1\n",
      "  pid: 25788\n",
      "  should_checkpoint: true\n",
      "  time_since_restore: 9.54499888420105\n",
      "  time_this_iter_s: 9.54499888420105\n",
      "  time_total_s: 9.54499888420105\n",
      "  timestamp: 1639840840\n",
      "  timesteps_since_restore: 0\n",
      "  training_iteration: 1\n",
      "  trial_id: d5176_00002\n",
      "  \n"
     ]
    },
    {
     "name": "stderr",
     "output_type": "stream",
     "text": [
      "100%|██████████| 6/6 [00:03<00:00,  1.76it/s]\n",
      "  0%|          | 0/14 [00:00<?, ?it/s]\n",
      "  7%|▋         | 1/14 [00:03<00:39,  3.07s/it]\n",
      "100%|██████████| 14/14 [00:03<00:00,  4.25it/s]\n",
      "  0%|          | 0/6 [00:00<?, ?it/s]\n"
     ]
    },
    {
     "name": "stdout",
     "output_type": "stream",
     "text": [
      "== Status ==\n",
      "Current time: 2021-12-18 16:20:46 (running for 00:01:43.39)\n",
      "Memory usage on this node: 17.5/47.6 GiB\n",
      "Using AsyncHyperBand: num_stopped=0\n",
      "Bracket: Iter 8.000: None | Iter 4.000: -1.0921641488869986 | Iter 2.000: -1.1016753845744662 | Iter 1.000: -1.1011452211274042\n",
      "Resources requested: 1.0/12 CPUs, 1.0/1 GPUs, 0.0/20.19 GiB heap, 0.0/10.09 GiB objects\n",
      "Result logdir: C:\\Users\\Tomas\\ray_results\\DEFAULT_2021-12-18_16-19-02\n",
      "Number of trials: 10/10 (7 PENDING, 1 RUNNING, 2 TERMINATED)\n",
      "+---------------------+------------+-----------------+--------------+-----------------+--------------+---------+\n",
      "| Trial name          | status     | loc             |   batch_size |   learning_rate |   num_epochs |    loss |\n",
      "|---------------------+------------+-----------------+--------------+-----------------+--------------+---------|\n",
      "| DEFAULT_d5176_00002 | RUNNING    | 127.0.0.1:25788 |           30 |     0.0378417   |            5 | 1.05206 |\n",
      "| DEFAULT_d5176_00003 | PENDING    |                 |          100 |     0.00147783  |           10 |         |\n",
      "| DEFAULT_d5176_00004 | PENDING    |                 |           10 |     0.0125708   |            4 |         |\n",
      "| DEFAULT_d5176_00005 | PENDING    |                 |           10 |     0.000160196 |            4 |         |\n",
      "| DEFAULT_d5176_00006 | PENDING    |                 |           30 |     0.0716515   |           10 |         |\n",
      "| DEFAULT_d5176_00007 | PENDING    |                 |           50 |     0.00124637  |            4 |         |\n",
      "| DEFAULT_d5176_00008 | PENDING    |                 |          100 |     0.000408916 |            5 |         |\n",
      "| DEFAULT_d5176_00009 | PENDING    |                 |           50 |     0.0215958   |            4 |         |\n",
      "| DEFAULT_d5176_00000 | TERMINATED | 127.0.0.1:26304 |           10 |     0.000667685 |            5 | 1.08035 |\n",
      "| DEFAULT_d5176_00001 | TERMINATED | 127.0.0.1:3772  |           10 |     0.00173855  |            5 | 1.07983 |\n",
      "+---------------------+------------+-----------------+--------------+-----------------+--------------+---------+\n",
      "\n",
      "\n"
     ]
    },
    {
     "name": "stderr",
     "output_type": "stream",
     "text": [
      " 17%|█▋        | 1/6 [00:03<00:15,  3.13s/it]\n"
     ]
    },
    {
     "name": "stdout",
     "output_type": "stream",
     "text": [
      "Result for DEFAULT_d5176_00002:\n",
      "  accuracy: 0.5888888888888889\n",
      "  date: 2021-12-18_16-20-47\n",
      "  done: false\n",
      "  experiment_id: b06b3b7223d3436ea5fca8cb1ab67bac\n",
      "  hostname: WSTOMAS21\n",
      "  iterations_since_restore: 2\n",
      "  loss: 0.9694160421689352\n",
      "  node_ip: 127.0.0.1\n",
      "  pid: 25788\n",
      "  should_checkpoint: true\n",
      "  time_since_restore: 16.356163024902344\n",
      "  time_this_iter_s: 6.811164140701294\n",
      "  time_total_s: 16.356163024902344\n",
      "  timestamp: 1639840847\n",
      "  timesteps_since_restore: 0\n",
      "  training_iteration: 2\n",
      "  trial_id: d5176_00002\n",
      "  \n"
     ]
    },
    {
     "name": "stderr",
     "output_type": "stream",
     "text": [
      "100%|██████████| 6/6 [00:03<00:00,  1.83it/s]\n",
      "  0%|          | 0/14 [00:00<?, ?it/s]\n",
      "  7%|▋         | 1/14 [00:03<00:40,  3.09s/it]\n",
      "100%|██████████| 14/14 [00:03<00:00,  4.21it/s]\n",
      "  0%|          | 0/6 [00:00<?, ?it/s]\n"
     ]
    },
    {
     "name": "stdout",
     "output_type": "stream",
     "text": [
      "== Status ==\n",
      "Current time: 2021-12-18 16:20:51 (running for 00:01:49.04)\n",
      "Memory usage on this node: 17.6/47.6 GiB\n",
      "Using AsyncHyperBand: num_stopped=0\n",
      "Bracket: Iter 8.000: None | Iter 4.000: -1.0921641488869986 | Iter 2.000: -1.085105922487047 | Iter 1.000: -1.1011452211274042\n",
      "Resources requested: 1.0/12 CPUs, 1.0/1 GPUs, 0.0/20.19 GiB heap, 0.0/10.09 GiB objects\n",
      "Result logdir: C:\\Users\\Tomas\\ray_results\\DEFAULT_2021-12-18_16-19-02\n",
      "Number of trials: 10/10 (7 PENDING, 1 RUNNING, 2 TERMINATED)\n",
      "+---------------------+------------+-----------------+--------------+-----------------+--------------+----------+\n",
      "| Trial name          | status     | loc             |   batch_size |   learning_rate |   num_epochs |     loss |\n",
      "|---------------------+------------+-----------------+--------------+-----------------+--------------+----------|\n",
      "| DEFAULT_d5176_00002 | RUNNING    | 127.0.0.1:25788 |           30 |     0.0378417   |            5 | 0.969416 |\n",
      "| DEFAULT_d5176_00003 | PENDING    |                 |          100 |     0.00147783  |           10 |          |\n",
      "| DEFAULT_d5176_00004 | PENDING    |                 |           10 |     0.0125708   |            4 |          |\n",
      "| DEFAULT_d5176_00005 | PENDING    |                 |           10 |     0.000160196 |            4 |          |\n",
      "| DEFAULT_d5176_00006 | PENDING    |                 |           30 |     0.0716515   |           10 |          |\n",
      "| DEFAULT_d5176_00007 | PENDING    |                 |           50 |     0.00124637  |            4 |          |\n",
      "| DEFAULT_d5176_00008 | PENDING    |                 |          100 |     0.000408916 |            5 |          |\n",
      "| DEFAULT_d5176_00009 | PENDING    |                 |           50 |     0.0215958   |            4 |          |\n",
      "| DEFAULT_d5176_00000 | TERMINATED | 127.0.0.1:26304 |           10 |     0.000667685 |            5 | 1.08035  |\n",
      "| DEFAULT_d5176_00001 | TERMINATED | 127.0.0.1:3772  |           10 |     0.00173855  |            5 | 1.07983  |\n",
      "+---------------------+------------+-----------------+--------------+-----------------+--------------+----------+\n",
      "\n",
      "\n"
     ]
    },
    {
     "name": "stderr",
     "output_type": "stream",
     "text": [
      " 17%|█▋        | 1/6 [00:03<00:15,  3.12s/it]\n",
      "100%|██████████| 6/6 [00:03<00:00,  1.81it/s]\n"
     ]
    },
    {
     "name": "stdout",
     "output_type": "stream",
     "text": [
      "Result for DEFAULT_d5176_00002:\n",
      "  accuracy: 0.6444444444444445\n",
      "  date: 2021-12-18_16-20-54\n",
      "  done: false\n",
      "  experiment_id: b06b3b7223d3436ea5fca8cb1ab67bac\n",
      "  hostname: WSTOMAS21\n",
      "  iterations_since_restore: 3\n",
      "  loss: 0.9234060247739156\n",
      "  node_ip: 127.0.0.1\n",
      "  pid: 25788\n",
      "  should_checkpoint: true\n",
      "  time_since_restore: 23.213562965393066\n",
      "  time_this_iter_s: 6.857399940490723\n",
      "  time_total_s: 23.213562965393066\n",
      "  timestamp: 1639840854\n",
      "  timesteps_since_restore: 0\n",
      "  training_iteration: 3\n",
      "  trial_id: d5176_00002\n",
      "  \n"
     ]
    },
    {
     "name": "stderr",
     "output_type": "stream",
     "text": [
      "  0%|          | 0/14 [00:00<?, ?it/s]\n"
     ]
    },
    {
     "name": "stdout",
     "output_type": "stream",
     "text": [
      "== Status ==\n",
      "Current time: 2021-12-18 16:20:57 (running for 00:01:54.82)\n",
      "Memory usage on this node: 17.5/47.6 GiB\n",
      "Using AsyncHyperBand: num_stopped=0\n",
      "Bracket: Iter 8.000: None | Iter 4.000: -1.0921641488869986 | Iter 2.000: -1.085105922487047 | Iter 1.000: -1.1011452211274042\n",
      "Resources requested: 1.0/12 CPUs, 1.0/1 GPUs, 0.0/20.19 GiB heap, 0.0/10.09 GiB objects\n",
      "Result logdir: C:\\Users\\Tomas\\ray_results\\DEFAULT_2021-12-18_16-19-02\n",
      "Number of trials: 10/10 (7 PENDING, 1 RUNNING, 2 TERMINATED)\n",
      "+---------------------+------------+-----------------+--------------+-----------------+--------------+----------+\n",
      "| Trial name          | status     | loc             |   batch_size |   learning_rate |   num_epochs |     loss |\n",
      "|---------------------+------------+-----------------+--------------+-----------------+--------------+----------|\n",
      "| DEFAULT_d5176_00002 | RUNNING    | 127.0.0.1:25788 |           30 |     0.0378417   |            5 | 0.923406 |\n",
      "| DEFAULT_d5176_00003 | PENDING    |                 |          100 |     0.00147783  |           10 |          |\n",
      "| DEFAULT_d5176_00004 | PENDING    |                 |           10 |     0.0125708   |            4 |          |\n",
      "| DEFAULT_d5176_00005 | PENDING    |                 |           10 |     0.000160196 |            4 |          |\n",
      "| DEFAULT_d5176_00006 | PENDING    |                 |           30 |     0.0716515   |           10 |          |\n",
      "| DEFAULT_d5176_00007 | PENDING    |                 |           50 |     0.00124637  |            4 |          |\n",
      "| DEFAULT_d5176_00008 | PENDING    |                 |          100 |     0.000408916 |            5 |          |\n",
      "| DEFAULT_d5176_00009 | PENDING    |                 |           50 |     0.0215958   |            4 |          |\n",
      "| DEFAULT_d5176_00000 | TERMINATED | 127.0.0.1:26304 |           10 |     0.000667685 |            5 | 1.08035  |\n",
      "| DEFAULT_d5176_00001 | TERMINATED | 127.0.0.1:3772  |           10 |     0.00173855  |            5 | 1.07983  |\n",
      "+---------------------+------------+-----------------+--------------+-----------------+--------------+----------+\n",
      "\n",
      "\n"
     ]
    },
    {
     "name": "stderr",
     "output_type": "stream",
     "text": [
      "  7%|▋         | 1/14 [00:03<00:40,  3.14s/it]\n",
      "100%|██████████| 14/14 [00:03<00:00,  4.17it/s]\n",
      "  0%|          | 0/6 [00:00<?, ?it/s]\n",
      " 17%|█▋        | 1/6 [00:03<00:16,  3.21s/it]\n"
     ]
    },
    {
     "name": "stdout",
     "output_type": "stream",
     "text": [
      "Result for DEFAULT_d5176_00002:\n",
      "  accuracy: 0.6444444444444445\n",
      "  date: 2021-12-18_16-21-01\n",
      "  done: false\n",
      "  experiment_id: b06b3b7223d3436ea5fca8cb1ab67bac\n",
      "  hostname: WSTOMAS21\n",
      "  iterations_since_restore: 4\n",
      "  loss: 0.9152949353059133\n",
      "  node_ip: 127.0.0.1\n",
      "  pid: 25788\n",
      "  should_checkpoint: true\n",
      "  time_since_restore: 30.318476676940918\n",
      "  time_this_iter_s: 7.104913711547852\n",
      "  time_total_s: 30.318476676940918\n",
      "  timestamp: 1639840861\n",
      "  timesteps_since_restore: 0\n",
      "  training_iteration: 4\n",
      "  trial_id: d5176_00002\n",
      "  \n"
     ]
    },
    {
     "name": "stderr",
     "output_type": "stream",
     "text": [
      "100%|██████████| 6/6 [00:03<00:00,  1.73it/s]\n",
      "  0%|          | 0/14 [00:00<?, ?it/s]\n"
     ]
    },
    {
     "name": "stdout",
     "output_type": "stream",
     "text": [
      "== Status ==\n",
      "Current time: 2021-12-18 16:21:03 (running for 00:02:00.45)\n",
      "Memory usage on this node: 17.6/47.6 GiB\n",
      "Using AsyncHyperBand: num_stopped=0\n",
      "Bracket: Iter 8.000: None | Iter 4.000: -1.066856602827708 | Iter 2.000: -1.085105922487047 | Iter 1.000: -1.1011452211274042\n",
      "Resources requested: 1.0/12 CPUs, 1.0/1 GPUs, 0.0/20.19 GiB heap, 0.0/10.09 GiB objects\n",
      "Result logdir: C:\\Users\\Tomas\\ray_results\\DEFAULT_2021-12-18_16-19-02\n",
      "Number of trials: 10/10 (7 PENDING, 1 RUNNING, 2 TERMINATED)\n",
      "+---------------------+------------+-----------------+--------------+-----------------+--------------+----------+\n",
      "| Trial name          | status     | loc             |   batch_size |   learning_rate |   num_epochs |     loss |\n",
      "|---------------------+------------+-----------------+--------------+-----------------+--------------+----------|\n",
      "| DEFAULT_d5176_00002 | RUNNING    | 127.0.0.1:25788 |           30 |     0.0378417   |            5 | 0.915295 |\n",
      "| DEFAULT_d5176_00003 | PENDING    |                 |          100 |     0.00147783  |           10 |          |\n",
      "| DEFAULT_d5176_00004 | PENDING    |                 |           10 |     0.0125708   |            4 |          |\n",
      "| DEFAULT_d5176_00005 | PENDING    |                 |           10 |     0.000160196 |            4 |          |\n",
      "| DEFAULT_d5176_00006 | PENDING    |                 |           30 |     0.0716515   |           10 |          |\n",
      "| DEFAULT_d5176_00007 | PENDING    |                 |           50 |     0.00124637  |            4 |          |\n",
      "| DEFAULT_d5176_00008 | PENDING    |                 |          100 |     0.000408916 |            5 |          |\n",
      "| DEFAULT_d5176_00009 | PENDING    |                 |           50 |     0.0215958   |            4 |          |\n",
      "| DEFAULT_d5176_00000 | TERMINATED | 127.0.0.1:26304 |           10 |     0.000667685 |            5 | 1.08035  |\n",
      "| DEFAULT_d5176_00001 | TERMINATED | 127.0.0.1:3772  |           10 |     0.00173855  |            5 | 1.07983  |\n",
      "+---------------------+------------+-----------------+--------------+-----------------+--------------+----------+\n",
      "\n",
      "\n"
     ]
    },
    {
     "name": "stderr",
     "output_type": "stream",
     "text": [
      "  7%|▋         | 1/14 [00:03<00:40,  3.10s/it]\n",
      "100%|██████████| 14/14 [00:03<00:00,  4.17it/s]\n",
      "  0%|          | 0/6 [00:00<?, ?it/s]\n"
     ]
    },
    {
     "name": "stdout",
     "output_type": "stream",
     "text": [
      "== Status ==\n",
      "Current time: 2021-12-18 16:21:08 (running for 00:02:05.52)\n",
      "Memory usage on this node: 17.7/47.6 GiB\n",
      "Using AsyncHyperBand: num_stopped=0\n",
      "Bracket: Iter 8.000: None | Iter 4.000: -1.066856602827708 | Iter 2.000: -1.085105922487047 | Iter 1.000: -1.1011452211274042\n",
      "Resources requested: 1.0/12 CPUs, 1.0/1 GPUs, 0.0/20.19 GiB heap, 0.0/10.09 GiB objects\n",
      "Result logdir: C:\\Users\\Tomas\\ray_results\\DEFAULT_2021-12-18_16-19-02\n",
      "Number of trials: 10/10 (7 PENDING, 1 RUNNING, 2 TERMINATED)\n",
      "+---------------------+------------+-----------------+--------------+-----------------+--------------+----------+\n",
      "| Trial name          | status     | loc             |   batch_size |   learning_rate |   num_epochs |     loss |\n",
      "|---------------------+------------+-----------------+--------------+-----------------+--------------+----------|\n",
      "| DEFAULT_d5176_00002 | RUNNING    | 127.0.0.1:25788 |           30 |     0.0378417   |            5 | 0.915295 |\n",
      "| DEFAULT_d5176_00003 | PENDING    |                 |          100 |     0.00147783  |           10 |          |\n",
      "| DEFAULT_d5176_00004 | PENDING    |                 |           10 |     0.0125708   |            4 |          |\n",
      "| DEFAULT_d5176_00005 | PENDING    |                 |           10 |     0.000160196 |            4 |          |\n",
      "| DEFAULT_d5176_00006 | PENDING    |                 |           30 |     0.0716515   |           10 |          |\n",
      "| DEFAULT_d5176_00007 | PENDING    |                 |           50 |     0.00124637  |            4 |          |\n",
      "| DEFAULT_d5176_00008 | PENDING    |                 |          100 |     0.000408916 |            5 |          |\n",
      "| DEFAULT_d5176_00009 | PENDING    |                 |           50 |     0.0215958   |            4 |          |\n",
      "| DEFAULT_d5176_00000 | TERMINATED | 127.0.0.1:26304 |           10 |     0.000667685 |            5 | 1.08035  |\n",
      "| DEFAULT_d5176_00001 | TERMINATED | 127.0.0.1:3772  |           10 |     0.00173855  |            5 | 1.07983  |\n",
      "+---------------------+------------+-----------------+--------------+-----------------+--------------+----------+\n",
      "\n",
      "\n"
     ]
    },
    {
     "name": "stderr",
     "output_type": "stream",
     "text": [
      " 17%|█▋        | 1/6 [00:03<00:16,  3.22s/it]\n",
      "100%|██████████| 6/6 [00:03<00:00,  1.78it/s]\n"
     ]
    },
    {
     "name": "stdout",
     "output_type": "stream",
     "text": [
      "Result for DEFAULT_d5176_00002:\n",
      "  accuracy: 0.6444444444444445\n",
      "  date: 2021-12-18_16-21-08\n",
      "  done: false\n",
      "  experiment_id: b06b3b7223d3436ea5fca8cb1ab67bac\n",
      "  hostname: WSTOMAS21\n",
      "  iterations_since_restore: 5\n",
      "  loss: 0.9129728376865387\n",
      "  node_ip: 127.0.0.1\n",
      "  pid: 25788\n",
      "  should_checkpoint: true\n",
      "  time_since_restore: 37.24371528625488\n",
      "  time_this_iter_s: 6.925238609313965\n",
      "  time_total_s: 37.24371528625488\n",
      "  timestamp: 1639840868\n",
      "  timesteps_since_restore: 0\n",
      "  training_iteration: 5\n",
      "  trial_id: d5176_00002\n",
      "  \n",
      " pid=25788)\u001b[0m Finished\n",
      "Result for DEFAULT_d5176_00002:\n",
      "  accuracy: 0.6444444444444445\n",
      "  date: 2021-12-18_16-21-08\n",
      "  done: true\n",
      "  experiment_id: b06b3b7223d3436ea5fca8cb1ab67bac\n",
      "  experiment_tag: 2_batch_size=30,learning_rate=0.037842,num_epochs=5\n",
      "  hostname: WSTOMAS21\n",
      "  iterations_since_restore: 5\n",
      "  loss: 0.9129728376865387\n",
      "  node_ip: 127.0.0.1\n",
      "  pid: 25788\n",
      "  should_checkpoint: true\n",
      "  time_since_restore: 37.24371528625488\n",
      "  time_this_iter_s: 6.925238609313965\n",
      "  time_total_s: 37.24371528625488\n",
      "  timestamp: 1639840868\n",
      "  timesteps_since_restore: 0\n",
      "  training_iteration: 5\n",
      "  trial_id: d5176_00002\n",
      "  \n",
      " pid=20196)\u001b[0m 2080nc\n"
     ]
    },
    {
     "name": "stderr",
     "output_type": "stream",
     "text": [
      "  0%|          | 0/5 [00:00<?, ?it/s]\n"
     ]
    },
    {
     "name": "stdout",
     "output_type": "stream",
     "text": [
      "== Status ==\n",
      "Current time: 2021-12-18 16:21:13 (running for 00:02:10.74)\n",
      "Memory usage on this node: 16.6/47.6 GiB\n",
      "Using AsyncHyperBand: num_stopped=0\n",
      "Bracket: Iter 8.000: None | Iter 4.000: -1.066856602827708 | Iter 2.000: -1.085105922487047 | Iter 1.000: -1.1011452211274042\n",
      "Resources requested: 1.0/12 CPUs, 1.0/1 GPUs, 0.0/20.19 GiB heap, 0.0/10.09 GiB objects\n",
      "Result logdir: C:\\Users\\Tomas\\ray_results\\DEFAULT_2021-12-18_16-19-02\n",
      "Number of trials: 10/10 (6 PENDING, 1 RUNNING, 3 TERMINATED)\n",
      "+---------------------+------------+-----------------+--------------+-----------------+--------------+----------+\n",
      "| Trial name          | status     | loc             |   batch_size |   learning_rate |   num_epochs |     loss |\n",
      "|---------------------+------------+-----------------+--------------+-----------------+--------------+----------|\n",
      "| DEFAULT_d5176_00003 | RUNNING    | 127.0.0.1:20196 |          100 |     0.00147783  |           10 |          |\n",
      "| DEFAULT_d5176_00004 | PENDING    |                 |           10 |     0.0125708   |            4 |          |\n",
      "| DEFAULT_d5176_00005 | PENDING    |                 |           10 |     0.000160196 |            4 |          |\n",
      "| DEFAULT_d5176_00006 | PENDING    |                 |           30 |     0.0716515   |           10 |          |\n",
      "| DEFAULT_d5176_00007 | PENDING    |                 |           50 |     0.00124637  |            4 |          |\n",
      "| DEFAULT_d5176_00008 | PENDING    |                 |          100 |     0.000408916 |            5 |          |\n",
      "| DEFAULT_d5176_00009 | PENDING    |                 |           50 |     0.0215958   |            4 |          |\n",
      "| DEFAULT_d5176_00000 | TERMINATED | 127.0.0.1:26304 |           10 |     0.000667685 |            5 | 1.08035  |\n",
      "| DEFAULT_d5176_00001 | TERMINATED | 127.0.0.1:3772  |           10 |     0.00173855  |            5 | 1.07983  |\n",
      "| DEFAULT_d5176_00002 | TERMINATED | 127.0.0.1:25788 |           30 |     0.0378417   |            5 | 0.912973 |\n",
      "+---------------------+------------+-----------------+--------------+-----------------+--------------+----------+\n",
      "\n",
      "\n"
     ]
    },
    {
     "name": "stderr",
     "output_type": "stream",
     "text": [
      " pid=20196)\u001b[0m C:\\Users\\Tomas\\anaconda3\\lib\\site-packages\\torch\\nn\\functional.py:1794: UserWarning: nn.functional.tanh is deprecated. Use torch.tanh instead.\n",
      " pid=20196)\u001b[0m   warnings.warn(\"nn.functional.tanh is deprecated. Use torch.tanh instead.\")\n",
      " 20%|██        | 1/5 [00:04<00:17,  4.48s/it]\n",
      "100%|██████████| 5/5 [00:04<00:00,  1.05it/s]\n",
      "  0%|          | 0/2 [00:00<?, ?it/s]\n"
     ]
    },
    {
     "name": "stdout",
     "output_type": "stream",
     "text": [
      "== Status ==\n",
      "Current time: 2021-12-18 16:21:18 (running for 00:02:15.91)\n",
      "Memory usage on this node: 17.5/47.6 GiB\n",
      "Using AsyncHyperBand: num_stopped=0\n",
      "Bracket: Iter 8.000: None | Iter 4.000: -1.066856602827708 | Iter 2.000: -1.085105922487047 | Iter 1.000: -1.1011452211274042\n",
      "Resources requested: 1.0/12 CPUs, 1.0/1 GPUs, 0.0/20.19 GiB heap, 0.0/10.09 GiB objects\n",
      "Result logdir: C:\\Users\\Tomas\\ray_results\\DEFAULT_2021-12-18_16-19-02\n",
      "Number of trials: 10/10 (6 PENDING, 1 RUNNING, 3 TERMINATED)\n",
      "+---------------------+------------+-----------------+--------------+-----------------+--------------+----------+\n",
      "| Trial name          | status     | loc             |   batch_size |   learning_rate |   num_epochs |     loss |\n",
      "|---------------------+------------+-----------------+--------------+-----------------+--------------+----------|\n",
      "| DEFAULT_d5176_00003 | RUNNING    | 127.0.0.1:20196 |          100 |     0.00147783  |           10 |          |\n",
      "| DEFAULT_d5176_00004 | PENDING    |                 |           10 |     0.0125708   |            4 |          |\n",
      "| DEFAULT_d5176_00005 | PENDING    |                 |           10 |     0.000160196 |            4 |          |\n",
      "| DEFAULT_d5176_00006 | PENDING    |                 |           30 |     0.0716515   |           10 |          |\n",
      "| DEFAULT_d5176_00007 | PENDING    |                 |           50 |     0.00124637  |            4 |          |\n",
      "| DEFAULT_d5176_00008 | PENDING    |                 |          100 |     0.000408916 |            5 |          |\n",
      "| DEFAULT_d5176_00009 | PENDING    |                 |           50 |     0.0215958   |            4 |          |\n",
      "| DEFAULT_d5176_00000 | TERMINATED | 127.0.0.1:26304 |           10 |     0.000667685 |            5 | 1.08035  |\n",
      "| DEFAULT_d5176_00001 | TERMINATED | 127.0.0.1:3772  |           10 |     0.00173855  |            5 | 1.07983  |\n",
      "| DEFAULT_d5176_00002 | TERMINATED | 127.0.0.1:25788 |           30 |     0.0378417   |            5 | 0.912973 |\n",
      "+---------------------+------------+-----------------+--------------+-----------------+--------------+----------+\n",
      "\n",
      "\n"
     ]
    },
    {
     "name": "stderr",
     "output_type": "stream",
     "text": [
      " 50%|█████     | 1/2 [00:03<00:03,  3.06s/it]\n"
     ]
    },
    {
     "name": "stdout",
     "output_type": "stream",
     "text": [
      "Result for DEFAULT_d5176_00003:\n",
      "  accuracy: 0.3388888888888889\n",
      "  date: 2021-12-18_16-21-21\n",
      "  done: true\n",
      "  experiment_id: 92004294dadf4215860998f1b8173516\n",
      "  hostname: WSTOMAS21\n",
      "  iterations_since_restore: 1\n",
      "  loss: 1.121657133102417\n",
      "  node_ip: 127.0.0.1\n",
      "  pid: 20196\n",
      "  should_checkpoint: true\n",
      "  time_since_restore: 9.857749223709106\n",
      "  time_this_iter_s: 9.857749223709106\n",
      "  time_total_s: 9.857749223709106\n",
      "  timestamp: 1639840881\n",
      "  timesteps_since_restore: 0\n",
      "  training_iteration: 1\n",
      "  trial_id: d5176_00003\n",
      "  \n"
     ]
    },
    {
     "name": "stderr",
     "output_type": "stream",
     "text": [
      "100%|██████████| 2/2 [00:03<00:00,  1.64s/it]\n"
     ]
    },
    {
     "name": "stdout",
     "output_type": "stream",
     "text": [
      " pid=272)\u001b[0m 2080Func\n",
      "== Status ==\n",
      "Current time: 2021-12-18 16:21:24 (running for 00:02:21.43)\n",
      "Memory usage on this node: 16.2/47.6 GiB\n",
      "Using AsyncHyperBand: num_stopped=1\n",
      "Bracket: Iter 8.000: None | Iter 4.000: -1.066856602827708 | Iter 2.000: -1.085105922487047 | Iter 1.000: -1.1104625629054174\n",
      "Resources requested: 1.0/12 CPUs, 1.0/1 GPUs, 0.0/20.19 GiB heap, 0.0/10.09 GiB objects\n",
      "Result logdir: C:\\Users\\Tomas\\ray_results\\DEFAULT_2021-12-18_16-19-02\n",
      "Number of trials: 10/10 (5 PENDING, 1 RUNNING, 4 TERMINATED)\n",
      "+---------------------+------------+-----------------+--------------+-----------------+--------------+----------+\n",
      "| Trial name          | status     | loc             |   batch_size |   learning_rate |   num_epochs |     loss |\n",
      "|---------------------+------------+-----------------+--------------+-----------------+--------------+----------|\n",
      "| DEFAULT_d5176_00004 | RUNNING    | 127.0.0.1:272   |           10 |     0.0125708   |            4 |          |\n",
      "| DEFAULT_d5176_00005 | PENDING    |                 |           10 |     0.000160196 |            4 |          |\n",
      "| DEFAULT_d5176_00006 | PENDING    |                 |           30 |     0.0716515   |           10 |          |\n",
      "| DEFAULT_d5176_00007 | PENDING    |                 |           50 |     0.00124637  |            4 |          |\n",
      "| DEFAULT_d5176_00008 | PENDING    |                 |          100 |     0.000408916 |            5 |          |\n",
      "| DEFAULT_d5176_00009 | PENDING    |                 |           50 |     0.0215958   |            4 |          |\n",
      "| DEFAULT_d5176_00000 | TERMINATED | 127.0.0.1:26304 |           10 |     0.000667685 |            5 | 1.08035  |\n",
      "| DEFAULT_d5176_00001 | TERMINATED | 127.0.0.1:3772  |           10 |     0.00173855  |            5 | 1.07983  |\n",
      "| DEFAULT_d5176_00002 | TERMINATED | 127.0.0.1:25788 |           30 |     0.0378417   |            5 | 0.912973 |\n",
      "| DEFAULT_d5176_00003 | TERMINATED | 127.0.0.1:20196 |          100 |     0.00147783  |           10 | 1.12166  |\n",
      "+---------------------+------------+-----------------+--------------+-----------------+--------------+----------+\n",
      "\n",
      "\n"
     ]
    },
    {
     "name": "stderr",
     "output_type": "stream",
     "text": [
      "  0%|          | 0/42 [00:00<?, ?it/s]\n",
      " pid=272)\u001b[0m C:\\Users\\Tomas\\anaconda3\\lib\\site-packages\\torch\\nn\\functional.py:1794: UserWarning: nn.functional.tanh is deprecated. Use torch.tanh instead.\n",
      " pid=272)\u001b[0m   warnings.warn(\"nn.functional.tanh is deprecated. Use torch.tanh instead.\")\n",
      "  2%|▏         | 1/42 [00:04<02:59,  4.37s/it]\n",
      " 50%|█████     | 21/42 [00:04<00:03,  6.55it/s]\n"
     ]
    },
    {
     "name": "stdout",
     "output_type": "stream",
     "text": [
      "== Status ==\n",
      "Current time: 2021-12-18 16:21:29 (running for 00:02:26.63)\n",
      "Memory usage on this node: 17.6/47.6 GiB\n",
      "Using AsyncHyperBand: num_stopped=1\n",
      "Bracket: Iter 8.000: None | Iter 4.000: -1.066856602827708 | Iter 2.000: -1.085105922487047 | Iter 1.000: -1.1104625629054174\n",
      "Resources requested: 1.0/12 CPUs, 1.0/1 GPUs, 0.0/20.19 GiB heap, 0.0/10.09 GiB objects\n",
      "Result logdir: C:\\Users\\Tomas\\ray_results\\DEFAULT_2021-12-18_16-19-02\n",
      "Number of trials: 10/10 (5 PENDING, 1 RUNNING, 4 TERMINATED)\n",
      "+---------------------+------------+-----------------+--------------+-----------------+--------------+----------+\n",
      "| Trial name          | status     | loc             |   batch_size |   learning_rate |   num_epochs |     loss |\n",
      "|---------------------+------------+-----------------+--------------+-----------------+--------------+----------|\n",
      "| DEFAULT_d5176_00004 | RUNNING    | 127.0.0.1:272   |           10 |     0.0125708   |            4 |          |\n",
      "| DEFAULT_d5176_00005 | PENDING    |                 |           10 |     0.000160196 |            4 |          |\n",
      "| DEFAULT_d5176_00006 | PENDING    |                 |           30 |     0.0716515   |           10 |          |\n",
      "| DEFAULT_d5176_00007 | PENDING    |                 |           50 |     0.00124637  |            4 |          |\n",
      "| DEFAULT_d5176_00008 | PENDING    |                 |          100 |     0.000408916 |            5 |          |\n",
      "| DEFAULT_d5176_00009 | PENDING    |                 |           50 |     0.0215958   |            4 |          |\n",
      "| DEFAULT_d5176_00000 | TERMINATED | 127.0.0.1:26304 |           10 |     0.000667685 |            5 | 1.08035  |\n",
      "| DEFAULT_d5176_00001 | TERMINATED | 127.0.0.1:3772  |           10 |     0.00173855  |            5 | 1.07983  |\n",
      "| DEFAULT_d5176_00002 | TERMINATED | 127.0.0.1:25788 |           30 |     0.0378417   |            5 | 0.912973 |\n",
      "| DEFAULT_d5176_00003 | TERMINATED | 127.0.0.1:20196 |          100 |     0.00147783  |           10 | 1.12166  |\n",
      "+---------------------+------------+-----------------+--------------+-----------------+--------------+----------+\n",
      "\n",
      "\n"
     ]
    },
    {
     "name": "stderr",
     "output_type": "stream",
     "text": [
      " 90%|█████████ | 38/42 [00:04<00:00, 13.60it/s]\n",
      "100%|██████████| 42/42 [00:04<00:00,  8.60it/s]\n",
      "  0%|          | 0/18 [00:00<?, ?it/s]\n",
      "  6%|▌         | 1/18 [00:03<00:52,  3.11s/it]\n"
     ]
    },
    {
     "name": "stdout",
     "output_type": "stream",
     "text": [
      "Result for DEFAULT_d5176_00004:\n",
      "  accuracy: 0.5055555555555555\n",
      "  date: 2021-12-18_16-21-32\n",
      "  done: false\n",
      "  experiment_id: 3fb70c6348864193aca5a78ba7e7ee49\n",
      "  hostname: WSTOMAS21\n",
      "  iterations_since_restore: 1\n",
      "  loss: 1.04051606853803\n",
      "  node_ip: 127.0.0.1\n",
      "  pid: 272\n",
      "  should_checkpoint: true\n",
      "  time_since_restore: 9.793540716171265\n",
      "  time_this_iter_s: 9.793540716171265\n",
      "  time_total_s: 9.793540716171265\n",
      "  timestamp: 1639840892\n",
      "  timesteps_since_restore: 0\n",
      "  training_iteration: 1\n",
      "  trial_id: d5176_00004\n",
      "  \n"
     ]
    },
    {
     "name": "stderr",
     "output_type": "stream",
     "text": [
      "100%|██████████| 18/18 [00:03<00:00,  5.46it/s]\n",
      "  0%|          | 0/42 [00:00<?, ?it/s]\n"
     ]
    },
    {
     "name": "stdout",
     "output_type": "stream",
     "text": [
      "== Status ==\n",
      "Current time: 2021-12-18 16:21:34 (running for 00:02:31.74)\n",
      "Memory usage on this node: 17.5/47.6 GiB\n",
      "Using AsyncHyperBand: num_stopped=1\n",
      "Bracket: Iter 8.000: None | Iter 4.000: -1.066856602827708 | Iter 2.000: -1.085105922487047 | Iter 1.000: -1.1011452211274042\n",
      "Resources requested: 1.0/12 CPUs, 1.0/1 GPUs, 0.0/20.19 GiB heap, 0.0/10.09 GiB objects\n",
      "Result logdir: C:\\Users\\Tomas\\ray_results\\DEFAULT_2021-12-18_16-19-02\n",
      "Number of trials: 10/10 (5 PENDING, 1 RUNNING, 4 TERMINATED)\n",
      "+---------------------+------------+-----------------+--------------+-----------------+--------------+----------+\n",
      "| Trial name          | status     | loc             |   batch_size |   learning_rate |   num_epochs |     loss |\n",
      "|---------------------+------------+-----------------+--------------+-----------------+--------------+----------|\n",
      "| DEFAULT_d5176_00004 | RUNNING    | 127.0.0.1:272   |           10 |     0.0125708   |            4 | 1.04052  |\n",
      "| DEFAULT_d5176_00005 | PENDING    |                 |           10 |     0.000160196 |            4 |          |\n",
      "| DEFAULT_d5176_00006 | PENDING    |                 |           30 |     0.0716515   |           10 |          |\n",
      "| DEFAULT_d5176_00007 | PENDING    |                 |           50 |     0.00124637  |            4 |          |\n",
      "| DEFAULT_d5176_00008 | PENDING    |                 |          100 |     0.000408916 |            5 |          |\n",
      "| DEFAULT_d5176_00009 | PENDING    |                 |           50 |     0.0215958   |            4 |          |\n",
      "| DEFAULT_d5176_00000 | TERMINATED | 127.0.0.1:26304 |           10 |     0.000667685 |            5 | 1.08035  |\n",
      "| DEFAULT_d5176_00001 | TERMINATED | 127.0.0.1:3772  |           10 |     0.00173855  |            5 | 1.07983  |\n",
      "| DEFAULT_d5176_00002 | TERMINATED | 127.0.0.1:25788 |           30 |     0.0378417   |            5 | 0.912973 |\n",
      "| DEFAULT_d5176_00003 | TERMINATED | 127.0.0.1:20196 |          100 |     0.00147783  |           10 | 1.12166  |\n",
      "+---------------------+------------+-----------------+--------------+-----------------+--------------+----------+\n",
      "\n",
      "\n"
     ]
    },
    {
     "name": "stderr",
     "output_type": "stream",
     "text": [
      " 48%|████▊     | 20/42 [00:03<00:02,  8.32it/s]\n",
      " 93%|█████████▎| 39/42 [00:03<00:00, 18.63it/s]\n",
      "100%|██████████| 42/42 [00:03<00:00, 11.53it/s]\n",
      "  0%|          | 0/18 [00:00<?, ?it/s]\n"
     ]
    },
    {
     "name": "stdout",
     "output_type": "stream",
     "text": [
      "== Status ==\n",
      "Current time: 2021-12-18 16:21:39 (running for 00:02:37.03)\n",
      "Memory usage on this node: 17.6/47.6 GiB\n",
      "Using AsyncHyperBand: num_stopped=1\n",
      "Bracket: Iter 8.000: None | Iter 4.000: -1.066856602827708 | Iter 2.000: -1.085105922487047 | Iter 1.000: -1.1011452211274042\n",
      "Resources requested: 1.0/12 CPUs, 1.0/1 GPUs, 0.0/20.19 GiB heap, 0.0/10.09 GiB objects\n",
      "Result logdir: C:\\Users\\Tomas\\ray_results\\DEFAULT_2021-12-18_16-19-02\n",
      "Number of trials: 10/10 (5 PENDING, 1 RUNNING, 4 TERMINATED)\n",
      "+---------------------+------------+-----------------+--------------+-----------------+--------------+----------+\n",
      "| Trial name          | status     | loc             |   batch_size |   learning_rate |   num_epochs |     loss |\n",
      "|---------------------+------------+-----------------+--------------+-----------------+--------------+----------|\n",
      "| DEFAULT_d5176_00004 | RUNNING    | 127.0.0.1:272   |           10 |     0.0125708   |            4 | 1.04052  |\n",
      "| DEFAULT_d5176_00005 | PENDING    |                 |           10 |     0.000160196 |            4 |          |\n",
      "| DEFAULT_d5176_00006 | PENDING    |                 |           30 |     0.0716515   |           10 |          |\n",
      "| DEFAULT_d5176_00007 | PENDING    |                 |           50 |     0.00124637  |            4 |          |\n",
      "| DEFAULT_d5176_00008 | PENDING    |                 |          100 |     0.000408916 |            5 |          |\n",
      "| DEFAULT_d5176_00009 | PENDING    |                 |           50 |     0.0215958   |            4 |          |\n",
      "| DEFAULT_d5176_00000 | TERMINATED | 127.0.0.1:26304 |           10 |     0.000667685 |            5 | 1.08035  |\n",
      "| DEFAULT_d5176_00001 | TERMINATED | 127.0.0.1:3772  |           10 |     0.00173855  |            5 | 1.07983  |\n",
      "| DEFAULT_d5176_00002 | TERMINATED | 127.0.0.1:25788 |           30 |     0.0378417   |            5 | 0.912973 |\n",
      "| DEFAULT_d5176_00003 | TERMINATED | 127.0.0.1:20196 |          100 |     0.00147783  |           10 | 1.12166  |\n",
      "+---------------------+------------+-----------------+--------------+-----------------+--------------+----------+\n",
      "\n",
      "\n"
     ]
    },
    {
     "name": "stderr",
     "output_type": "stream",
     "text": [
      "  6%|▌         | 1/18 [00:03<00:55,  3.27s/it]\n",
      "100%|██████████| 18/18 [00:03<00:00,  5.24it/s]\n"
     ]
    },
    {
     "name": "stdout",
     "output_type": "stream",
     "text": [
      "Result for DEFAULT_d5176_00004:\n",
      "  accuracy: 0.6222222222222222\n",
      "  date: 2021-12-18_16-21-40\n",
      "  done: false\n",
      "  experiment_id: 3fb70c6348864193aca5a78ba7e7ee49\n",
      "  hostname: WSTOMAS21\n",
      "  iterations_since_restore: 2\n",
      "  loss: 0.9564524988333384\n",
      "  node_ip: 127.0.0.1\n",
      "  pid: 272\n",
      "  should_checkpoint: true\n",
      "  time_since_restore: 17.11006188392639\n",
      "  time_this_iter_s: 7.316521167755127\n",
      "  time_total_s: 17.11006188392639\n",
      "  timestamp: 1639840900\n",
      "  timesteps_since_restore: 0\n",
      "  training_iteration: 2\n",
      "  trial_id: d5176_00004\n",
      "  \n"
     ]
    },
    {
     "name": "stderr",
     "output_type": "stream",
     "text": [
      "  0%|          | 0/42 [00:00<?, ?it/s]\n",
      "  2%|▏         | 1/42 [00:03<02:08,  3.14s/it]\n",
      " 45%|████▌     | 19/42 [00:03<00:02,  8.12it/s]\n",
      " 98%|█████████▊| 41/42 [00:03<00:00, 20.45it/s]\n",
      "100%|██████████| 42/42 [00:03<00:00, 11.88it/s]\n",
      "  0%|          | 0/18 [00:00<?, ?it/s]\n"
     ]
    },
    {
     "name": "stdout",
     "output_type": "stream",
     "text": [
      "== Status ==\n",
      "Current time: 2021-12-18 16:21:45 (running for 00:02:42.92)\n",
      "Memory usage on this node: 17.6/47.6 GiB\n",
      "Using AsyncHyperBand: num_stopped=1\n",
      "Bracket: Iter 8.000: None | Iter 4.000: -1.066856602827708 | Iter 2.000: -1.027260982327991 | Iter 1.000: -1.1011452211274042\n",
      "Resources requested: 1.0/12 CPUs, 1.0/1 GPUs, 0.0/20.19 GiB heap, 0.0/10.09 GiB objects\n",
      "Result logdir: C:\\Users\\Tomas\\ray_results\\DEFAULT_2021-12-18_16-19-02\n",
      "Number of trials: 10/10 (5 PENDING, 1 RUNNING, 4 TERMINATED)\n",
      "+---------------------+------------+-----------------+--------------+-----------------+--------------+----------+\n",
      "| Trial name          | status     | loc             |   batch_size |   learning_rate |   num_epochs |     loss |\n",
      "|---------------------+------------+-----------------+--------------+-----------------+--------------+----------|\n",
      "| DEFAULT_d5176_00004 | RUNNING    | 127.0.0.1:272   |           10 |     0.0125708   |            4 | 0.956452 |\n",
      "| DEFAULT_d5176_00005 | PENDING    |                 |           10 |     0.000160196 |            4 |          |\n",
      "| DEFAULT_d5176_00006 | PENDING    |                 |           30 |     0.0716515   |           10 |          |\n",
      "| DEFAULT_d5176_00007 | PENDING    |                 |           50 |     0.00124637  |            4 |          |\n",
      "| DEFAULT_d5176_00008 | PENDING    |                 |          100 |     0.000408916 |            5 |          |\n",
      "| DEFAULT_d5176_00009 | PENDING    |                 |           50 |     0.0215958   |            4 |          |\n",
      "| DEFAULT_d5176_00000 | TERMINATED | 127.0.0.1:26304 |           10 |     0.000667685 |            5 | 1.08035  |\n",
      "| DEFAULT_d5176_00001 | TERMINATED | 127.0.0.1:3772  |           10 |     0.00173855  |            5 | 1.07983  |\n",
      "| DEFAULT_d5176_00002 | TERMINATED | 127.0.0.1:25788 |           30 |     0.0378417   |            5 | 0.912973 |\n",
      "| DEFAULT_d5176_00003 | TERMINATED | 127.0.0.1:20196 |          100 |     0.00147783  |           10 | 1.12166  |\n",
      "+---------------------+------------+-----------------+--------------+-----------------+--------------+----------+\n",
      "\n",
      "\n"
     ]
    },
    {
     "name": "stderr",
     "output_type": "stream",
     "text": [
      "  6%|▌         | 1/18 [00:03<00:55,  3.24s/it]\n"
     ]
    },
    {
     "name": "stdout",
     "output_type": "stream",
     "text": [
      "Result for DEFAULT_d5176_00004:\n",
      "  accuracy: 0.6444444444444445\n",
      "  date: 2021-12-18_16-21-47\n",
      "  done: false\n",
      "  experiment_id: 3fb70c6348864193aca5a78ba7e7ee49\n",
      "  hostname: WSTOMAS21\n",
      "  iterations_since_restore: 3\n",
      "  loss: 0.9321238299210867\n",
      "  node_ip: 127.0.0.1\n",
      "  pid: 272\n",
      "  should_checkpoint: true\n",
      "  time_since_restore: 24.35987162590027\n",
      "  time_this_iter_s: 7.249809741973877\n",
      "  time_total_s: 24.35987162590027\n",
      "  timestamp: 1639840907\n",
      "  timesteps_since_restore: 0\n",
      "  training_iteration: 3\n",
      "  trial_id: d5176_00004\n",
      "  \n"
     ]
    },
    {
     "name": "stderr",
     "output_type": "stream",
     "text": [
      "100%|██████████| 18/18 [00:03<00:00,  5.21it/s]\n",
      "  0%|          | 0/42 [00:00<?, ?it/s]\n",
      "  2%|▏         | 1/42 [00:03<02:11,  3.20s/it]\n",
      " 38%|███▊      | 16/42 [00:03<00:03,  6.70it/s]\n",
      " 88%|████████▊ | 37/42 [00:03<00:00, 18.33it/s]\n",
      "100%|██████████| 42/42 [00:03<00:00, 11.70it/s]\n",
      "  0%|          | 0/18 [00:00<?, ?it/s]\n"
     ]
    },
    {
     "name": "stdout",
     "output_type": "stream",
     "text": [
      "== Status ==\n",
      "Current time: 2021-12-18 16:21:51 (running for 00:02:48.94)\n",
      "Memory usage on this node: 17.5/47.6 GiB\n",
      "Using AsyncHyperBand: num_stopped=1\n",
      "Bracket: Iter 8.000: None | Iter 4.000: -1.066856602827708 | Iter 2.000: -1.027260982327991 | Iter 1.000: -1.1011452211274042\n",
      "Resources requested: 1.0/12 CPUs, 1.0/1 GPUs, 0.0/20.19 GiB heap, 0.0/10.09 GiB objects\n",
      "Result logdir: C:\\Users\\Tomas\\ray_results\\DEFAULT_2021-12-18_16-19-02\n",
      "Number of trials: 10/10 (5 PENDING, 1 RUNNING, 4 TERMINATED)\n",
      "+---------------------+------------+-----------------+--------------+-----------------+--------------+----------+\n",
      "| Trial name          | status     | loc             |   batch_size |   learning_rate |   num_epochs |     loss |\n",
      "|---------------------+------------+-----------------+--------------+-----------------+--------------+----------|\n",
      "| DEFAULT_d5176_00004 | RUNNING    | 127.0.0.1:272   |           10 |     0.0125708   |            4 | 0.932124 |\n",
      "| DEFAULT_d5176_00005 | PENDING    |                 |           10 |     0.000160196 |            4 |          |\n",
      "| DEFAULT_d5176_00006 | PENDING    |                 |           30 |     0.0716515   |           10 |          |\n",
      "| DEFAULT_d5176_00007 | PENDING    |                 |           50 |     0.00124637  |            4 |          |\n",
      "| DEFAULT_d5176_00008 | PENDING    |                 |          100 |     0.000408916 |            5 |          |\n",
      "| DEFAULT_d5176_00009 | PENDING    |                 |           50 |     0.0215958   |            4 |          |\n",
      "| DEFAULT_d5176_00000 | TERMINATED | 127.0.0.1:26304 |           10 |     0.000667685 |            5 | 1.08035  |\n",
      "| DEFAULT_d5176_00001 | TERMINATED | 127.0.0.1:3772  |           10 |     0.00173855  |            5 | 1.07983  |\n",
      "| DEFAULT_d5176_00002 | TERMINATED | 127.0.0.1:25788 |           30 |     0.0378417   |            5 | 0.912973 |\n",
      "| DEFAULT_d5176_00003 | TERMINATED | 127.0.0.1:20196 |          100 |     0.00147783  |           10 | 1.12166  |\n",
      "+---------------------+------------+-----------------+--------------+-----------------+--------------+----------+\n",
      "\n",
      "\n"
     ]
    },
    {
     "name": "stderr",
     "output_type": "stream",
     "text": [
      "  6%|▌         | 1/18 [00:03<00:57,  3.39s/it]\n",
      "100%|██████████| 18/18 [00:03<00:00,  5.04it/s]\n"
     ]
    },
    {
     "name": "stdout",
     "output_type": "stream",
     "text": [
      "Result for DEFAULT_d5176_00004:\n",
      "  accuracy: 0.6444444444444445\n",
      "  date: 2021-12-18_16-21-54\n",
      "  done: false\n",
      "  experiment_id: 3fb70c6348864193aca5a78ba7e7ee49\n",
      "  hostname: WSTOMAS21\n",
      "  iterations_since_restore: 4\n",
      "  loss: 0.9210878908634186\n",
      "  node_ip: 127.0.0.1\n",
      "  pid: 272\n",
      "  should_checkpoint: true\n",
      "  time_since_restore: 31.777588844299316\n",
      "  time_this_iter_s: 7.417717218399048\n",
      "  time_total_s: 31.777588844299316\n",
      "  timestamp: 1639840914\n",
      "  timesteps_since_restore: 0\n",
      "  training_iteration: 4\n",
      "  trial_id: d5176_00004\n",
      "  \n",
      " pid=272)\u001b[0m Finished\n",
      "Result for DEFAULT_d5176_00004:\n",
      "  accuracy: 0.6444444444444445\n",
      "  date: 2021-12-18_16-21-54\n",
      "  done: true\n",
      "  experiment_id: 3fb70c6348864193aca5a78ba7e7ee49\n",
      "  experiment_tag: 4_batch_size=10,learning_rate=0.012571,num_epochs=4\n",
      "  hostname: WSTOMAS21\n",
      "  iterations_since_restore: 4\n",
      "  loss: 0.9210878908634186\n",
      "  node_ip: 127.0.0.1\n",
      "  pid: 272\n",
      "  should_checkpoint: true\n",
      "  time_since_restore: 31.777588844299316\n",
      "  time_this_iter_s: 7.417717218399048\n",
      "  time_total_s: 31.777588844299316\n",
      "  timestamp: 1639840914\n",
      "  timesteps_since_restore: 0\n",
      "  training_iteration: 4\n",
      "  trial_id: d5176_00004\n",
      "  \n",
      "== Status ==\n",
      "Current time: 2021-12-18 16:21:57 (running for 00:02:54.51)\n",
      "Memory usage on this node: 15.4/47.6 GiB\n",
      "Using AsyncHyperBand: num_stopped=1\n",
      "Bracket: Iter 8.000: None | Iter 4.000: -0.9939722468455633 | Iter 2.000: -1.027260982327991 | Iter 1.000: -1.1011452211274042\n",
      "Resources requested: 1.0/12 CPUs, 1.0/1 GPUs, 0.0/20.19 GiB heap, 0.0/10.09 GiB objects\n",
      "Result logdir: C:\\Users\\Tomas\\ray_results\\DEFAULT_2021-12-18_16-19-02\n",
      "Number of trials: 10/10 (4 PENDING, 1 RUNNING, 5 TERMINATED)\n",
      "+---------------------+------------+-----------------+--------------+-----------------+--------------+----------+\n",
      "| Trial name          | status     | loc             |   batch_size |   learning_rate |   num_epochs |     loss |\n",
      "|---------------------+------------+-----------------+--------------+-----------------+--------------+----------|\n",
      "| DEFAULT_d5176_00005 | RUNNING    | 127.0.0.1:26052 |           10 |     0.000160196 |            4 |          |\n",
      "| DEFAULT_d5176_00006 | PENDING    |                 |           30 |     0.0716515   |           10 |          |\n",
      "| DEFAULT_d5176_00007 | PENDING    |                 |           50 |     0.00124637  |            4 |          |\n",
      "| DEFAULT_d5176_00008 | PENDING    |                 |          100 |     0.000408916 |            5 |          |\n",
      "| DEFAULT_d5176_00009 | PENDING    |                 |           50 |     0.0215958   |            4 |          |\n",
      "| DEFAULT_d5176_00000 | TERMINATED | 127.0.0.1:26304 |           10 |     0.000667685 |            5 | 1.08035  |\n",
      "| DEFAULT_d5176_00001 | TERMINATED | 127.0.0.1:3772  |           10 |     0.00173855  |            5 | 1.07983  |\n",
      "| DEFAULT_d5176_00002 | TERMINATED | 127.0.0.1:25788 |           30 |     0.0378417   |            5 | 0.912973 |\n",
      "| DEFAULT_d5176_00003 | TERMINATED | 127.0.0.1:20196 |          100 |     0.00147783  |           10 | 1.12166  |\n",
      "| DEFAULT_d5176_00004 | TERMINATED | 127.0.0.1:272   |           10 |     0.0125708   |            4 | 0.921088 |\n",
      "+---------------------+------------+-----------------+--------------+-----------------+--------------+----------+\n",
      "\n",
      "\n",
      " pid=26052)\u001b[0m 2080nc\n"
     ]
    },
    {
     "name": "stderr",
     "output_type": "stream",
     "text": [
      "  0%|          | 0/42 [00:00<?, ?it/s]\n"
     ]
    },
    {
     "name": "stdout",
     "output_type": "stream",
     "text": [
      "== Status ==\n",
      "Current time: 2021-12-18 16:22:02 (running for 00:02:59.67)\n",
      "Memory usage on this node: 17.0/47.6 GiB\n",
      "Using AsyncHyperBand: num_stopped=1\n",
      "Bracket: Iter 8.000: None | Iter 4.000: -0.9939722468455633 | Iter 2.000: -1.027260982327991 | Iter 1.000: -1.1011452211274042\n",
      "Resources requested: 1.0/12 CPUs, 1.0/1 GPUs, 0.0/20.19 GiB heap, 0.0/10.09 GiB objects\n",
      "Result logdir: C:\\Users\\Tomas\\ray_results\\DEFAULT_2021-12-18_16-19-02\n",
      "Number of trials: 10/10 (4 PENDING, 1 RUNNING, 5 TERMINATED)\n",
      "+---------------------+------------+-----------------+--------------+-----------------+--------------+----------+\n",
      "| Trial name          | status     | loc             |   batch_size |   learning_rate |   num_epochs |     loss |\n",
      "|---------------------+------------+-----------------+--------------+-----------------+--------------+----------|\n",
      "| DEFAULT_d5176_00005 | RUNNING    | 127.0.0.1:26052 |           10 |     0.000160196 |            4 |          |\n",
      "| DEFAULT_d5176_00006 | PENDING    |                 |           30 |     0.0716515   |           10 |          |\n",
      "| DEFAULT_d5176_00007 | PENDING    |                 |           50 |     0.00124637  |            4 |          |\n",
      "| DEFAULT_d5176_00008 | PENDING    |                 |          100 |     0.000408916 |            5 |          |\n",
      "| DEFAULT_d5176_00009 | PENDING    |                 |           50 |     0.0215958   |            4 |          |\n",
      "| DEFAULT_d5176_00000 | TERMINATED | 127.0.0.1:26304 |           10 |     0.000667685 |            5 | 1.08035  |\n",
      "| DEFAULT_d5176_00001 | TERMINATED | 127.0.0.1:3772  |           10 |     0.00173855  |            5 | 1.07983  |\n",
      "| DEFAULT_d5176_00002 | TERMINATED | 127.0.0.1:25788 |           30 |     0.0378417   |            5 | 0.912973 |\n",
      "| DEFAULT_d5176_00003 | TERMINATED | 127.0.0.1:20196 |          100 |     0.00147783  |           10 | 1.12166  |\n",
      "| DEFAULT_d5176_00004 | TERMINATED | 127.0.0.1:272   |           10 |     0.0125708   |            4 | 0.921088 |\n",
      "+---------------------+------------+-----------------+--------------+-----------------+--------------+----------+\n",
      "\n",
      "\n"
     ]
    },
    {
     "name": "stderr",
     "output_type": "stream",
     "text": [
      " pid=26052)\u001b[0m C:\\Users\\Tomas\\anaconda3\\lib\\site-packages\\torch\\nn\\functional.py:1794: UserWarning: nn.functional.tanh is deprecated. Use torch.tanh instead.\n",
      " pid=26052)\u001b[0m   warnings.warn(\"nn.functional.tanh is deprecated. Use torch.tanh instead.\")\n",
      "  2%|▏         | 1/42 [00:04<03:02,  4.45s/it]\n",
      " 48%|████▊     | 20/42 [00:04<00:03,  6.12it/s]\n",
      " 93%|█████████▎| 39/42 [00:04<00:00, 13.92it/s]\n",
      "100%|██████████| 42/42 [00:04<00:00,  8.51it/s]\n",
      "  0%|          | 0/18 [00:00<?, ?it/s]\n",
      "  6%|▌         | 1/18 [00:03<00:52,  3.10s/it]\n"
     ]
    },
    {
     "name": "stdout",
     "output_type": "stream",
     "text": [
      "Result for DEFAULT_d5176_00005:\n",
      "  accuracy: 0.3333333333333333\n",
      "  date: 2021-12-18_16-22-07\n",
      "  done: true\n",
      "  experiment_id: f2d9a1407b0b44ca9a1155a9513263fb\n",
      "  hostname: WSTOMAS21\n",
      "  iterations_since_restore: 1\n",
      "  loss: 1.122487829791175\n",
      "  node_ip: 127.0.0.1\n",
      "  pid: 26052\n",
      "  should_checkpoint: true\n",
      "  time_since_restore: 9.892122268676758\n",
      "  time_this_iter_s: 9.892122268676758\n",
      "  time_total_s: 9.892122268676758\n",
      "  timestamp: 1639840927\n",
      "  timesteps_since_restore: 0\n",
      "  training_iteration: 1\n",
      "  trial_id: d5176_00005\n",
      "  \n"
     ]
    },
    {
     "name": "stderr",
     "output_type": "stream",
     "text": [
      "100%|██████████| 18/18 [00:03<00:00,  5.48it/s]\n"
     ]
    },
    {
     "name": "stdout",
     "output_type": "stream",
     "text": [
      "== Status ==\n",
      "Current time: 2021-12-18 16:22:07 (running for 00:03:04.76)\n",
      "Memory usage on this node: 17.4/47.6 GiB\n",
      "Using AsyncHyperBand: num_stopped=2\n",
      "Bracket: Iter 8.000: None | Iter 4.000: -0.9939722468455633 | Iter 2.000: -1.027260982327991 | Iter 1.000: -1.1104625629054174\n",
      "Resources requested: 0/12 CPUs, 0/1 GPUs, 0.0/20.19 GiB heap, 0.0/10.09 GiB objects\n",
      "Result logdir: C:\\Users\\Tomas\\ray_results\\DEFAULT_2021-12-18_16-19-02\n",
      "Number of trials: 10/10 (4 PENDING, 6 TERMINATED)\n",
      "+---------------------+------------+-----------------+--------------+-----------------+--------------+----------+\n",
      "| Trial name          | status     | loc             |   batch_size |   learning_rate |   num_epochs |     loss |\n",
      "|---------------------+------------+-----------------+--------------+-----------------+--------------+----------|\n",
      "| DEFAULT_d5176_00006 | PENDING    |                 |           30 |     0.0716515   |           10 |          |\n",
      "| DEFAULT_d5176_00007 | PENDING    |                 |           50 |     0.00124637  |            4 |          |\n",
      "| DEFAULT_d5176_00008 | PENDING    |                 |          100 |     0.000408916 |            5 |          |\n",
      "| DEFAULT_d5176_00009 | PENDING    |                 |           50 |     0.0215958   |            4 |          |\n",
      "| DEFAULT_d5176_00000 | TERMINATED | 127.0.0.1:26304 |           10 |     0.000667685 |            5 | 1.08035  |\n",
      "| DEFAULT_d5176_00001 | TERMINATED | 127.0.0.1:3772  |           10 |     0.00173855  |            5 | 1.07983  |\n",
      "| DEFAULT_d5176_00002 | TERMINATED | 127.0.0.1:25788 |           30 |     0.0378417   |            5 | 0.912973 |\n",
      "| DEFAULT_d5176_00003 | TERMINATED | 127.0.0.1:20196 |          100 |     0.00147783  |           10 | 1.12166  |\n",
      "| DEFAULT_d5176_00004 | TERMINATED | 127.0.0.1:272   |           10 |     0.0125708   |            4 | 0.921088 |\n",
      "| DEFAULT_d5176_00005 | TERMINATED | 127.0.0.1:26052 |           10 |     0.000160196 |            4 | 1.12249  |\n",
      "+---------------------+------------+-----------------+--------------+-----------------+--------------+----------+\n",
      "\n",
      "\n",
      " pid=8212)\u001b[0m 2080unc\n"
     ]
    },
    {
     "name": "stderr",
     "output_type": "stream",
     "text": [
      "  0%|          | 0/14 [00:00<?, ?it/s]\n"
     ]
    },
    {
     "name": "stdout",
     "output_type": "stream",
     "text": [
      "== Status ==\n",
      "Current time: 2021-12-18 16:22:12 (running for 00:03:10.26)\n",
      "Memory usage on this node: 16.6/47.6 GiB\n",
      "Using AsyncHyperBand: num_stopped=2\n",
      "Bracket: Iter 8.000: None | Iter 4.000: -0.9939722468455633 | Iter 2.000: -1.027260982327991 | Iter 1.000: -1.1104625629054174\n",
      "Resources requested: 1.0/12 CPUs, 1.0/1 GPUs, 0.0/20.19 GiB heap, 0.0/10.09 GiB objects\n",
      "Result logdir: C:\\Users\\Tomas\\ray_results\\DEFAULT_2021-12-18_16-19-02\n",
      "Number of trials: 10/10 (3 PENDING, 1 RUNNING, 6 TERMINATED)\n",
      "+---------------------+------------+-----------------+--------------+-----------------+--------------+----------+\n",
      "| Trial name          | status     | loc             |   batch_size |   learning_rate |   num_epochs |     loss |\n",
      "|---------------------+------------+-----------------+--------------+-----------------+--------------+----------|\n",
      "| DEFAULT_d5176_00006 | RUNNING    | 127.0.0.1:8212  |           30 |     0.0716515   |           10 |          |\n",
      "| DEFAULT_d5176_00007 | PENDING    |                 |           50 |     0.00124637  |            4 |          |\n",
      "| DEFAULT_d5176_00008 | PENDING    |                 |          100 |     0.000408916 |            5 |          |\n",
      "| DEFAULT_d5176_00009 | PENDING    |                 |           50 |     0.0215958   |            4 |          |\n",
      "| DEFAULT_d5176_00000 | TERMINATED | 127.0.0.1:26304 |           10 |     0.000667685 |            5 | 1.08035  |\n",
      "| DEFAULT_d5176_00001 | TERMINATED | 127.0.0.1:3772  |           10 |     0.00173855  |            5 | 1.07983  |\n",
      "| DEFAULT_d5176_00002 | TERMINATED | 127.0.0.1:25788 |           30 |     0.0378417   |            5 | 0.912973 |\n",
      "| DEFAULT_d5176_00003 | TERMINATED | 127.0.0.1:20196 |          100 |     0.00147783  |           10 | 1.12166  |\n",
      "| DEFAULT_d5176_00004 | TERMINATED | 127.0.0.1:272   |           10 |     0.0125708   |            4 | 0.921088 |\n",
      "| DEFAULT_d5176_00005 | TERMINATED | 127.0.0.1:26052 |           10 |     0.000160196 |            4 | 1.12249  |\n",
      "+---------------------+------------+-----------------+--------------+-----------------+--------------+----------+\n",
      "\n",
      "\n"
     ]
    },
    {
     "name": "stderr",
     "output_type": "stream",
     "text": [
      " pid=8212)\u001b[0m C:\\Users\\Tomas\\anaconda3\\lib\\site-packages\\torch\\nn\\functional.py:1794: UserWarning: nn.functional.tanh is deprecated. Use torch.tanh instead.\n",
      " pid=8212)\u001b[0m   warnings.warn(\"nn.functional.tanh is deprecated. Use torch.tanh instead.\")\n",
      "  7%|▋         | 1/14 [00:04<00:56,  4.35s/it]\n",
      "100%|██████████| 14/14 [00:04<00:00,  2.99it/s]\n",
      "  0%|          | 0/6 [00:00<?, ?it/s]\n"
     ]
    },
    {
     "name": "stdout",
     "output_type": "stream",
     "text": [
      "== Status ==\n",
      "Current time: 2021-12-18 16:22:18 (running for 00:03:15.42)\n",
      "Memory usage on this node: 17.4/47.6 GiB\n",
      "Using AsyncHyperBand: num_stopped=2\n",
      "Bracket: Iter 8.000: None | Iter 4.000: -0.9939722468455633 | Iter 2.000: -1.027260982327991 | Iter 1.000: -1.1104625629054174\n",
      "Resources requested: 1.0/12 CPUs, 1.0/1 GPUs, 0.0/20.19 GiB heap, 0.0/10.09 GiB objects\n",
      "Result logdir: C:\\Users\\Tomas\\ray_results\\DEFAULT_2021-12-18_16-19-02\n",
      "Number of trials: 10/10 (3 PENDING, 1 RUNNING, 6 TERMINATED)\n",
      "+---------------------+------------+-----------------+--------------+-----------------+--------------+----------+\n",
      "| Trial name          | status     | loc             |   batch_size |   learning_rate |   num_epochs |     loss |\n",
      "|---------------------+------------+-----------------+--------------+-----------------+--------------+----------|\n",
      "| DEFAULT_d5176_00006 | RUNNING    | 127.0.0.1:8212  |           30 |     0.0716515   |           10 |          |\n",
      "| DEFAULT_d5176_00007 | PENDING    |                 |           50 |     0.00124637  |            4 |          |\n",
      "| DEFAULT_d5176_00008 | PENDING    |                 |          100 |     0.000408916 |            5 |          |\n",
      "| DEFAULT_d5176_00009 | PENDING    |                 |           50 |     0.0215958   |            4 |          |\n",
      "| DEFAULT_d5176_00000 | TERMINATED | 127.0.0.1:26304 |           10 |     0.000667685 |            5 | 1.08035  |\n",
      "| DEFAULT_d5176_00001 | TERMINATED | 127.0.0.1:3772  |           10 |     0.00173855  |            5 | 1.07983  |\n",
      "| DEFAULT_d5176_00002 | TERMINATED | 127.0.0.1:25788 |           30 |     0.0378417   |            5 | 0.912973 |\n",
      "| DEFAULT_d5176_00003 | TERMINATED | 127.0.0.1:20196 |          100 |     0.00147783  |           10 | 1.12166  |\n",
      "| DEFAULT_d5176_00004 | TERMINATED | 127.0.0.1:272   |           10 |     0.0125708   |            4 | 0.921088 |\n",
      "| DEFAULT_d5176_00005 | TERMINATED | 127.0.0.1:26052 |           10 |     0.000160196 |            4 | 1.12249  |\n",
      "+---------------------+------------+-----------------+--------------+-----------------+--------------+----------+\n",
      "\n",
      "\n"
     ]
    },
    {
     "name": "stderr",
     "output_type": "stream",
     "text": [
      " 17%|█▋        | 1/6 [00:03<00:15,  3.01s/it]\n",
      "100%|██████████| 6/6 [00:03<00:00,  1.89it/s]\n"
     ]
    },
    {
     "name": "stdout",
     "output_type": "stream",
     "text": [
      "Result for DEFAULT_d5176_00006:\n",
      "  accuracy: 0.6444444444444445\n",
      "  date: 2021-12-18_16-22-18\n",
      "  done: false\n",
      "  experiment_id: cbfabb2a2d6a453096091d815934b3db\n",
      "  hostname: WSTOMAS21\n",
      "  iterations_since_restore: 1\n",
      "  loss: 0.9582613607247671\n",
      "  node_ip: 127.0.0.1\n",
      "  pid: 8212\n",
      "  should_checkpoint: true\n",
      "  time_since_restore: 9.56781530380249\n",
      "  time_this_iter_s: 9.56781530380249\n",
      "  time_total_s: 9.56781530380249\n",
      "  timestamp: 1639840938\n",
      "  timesteps_since_restore: 0\n",
      "  training_iteration: 1\n",
      "  trial_id: d5176_00006\n",
      "  \n"
     ]
    },
    {
     "name": "stderr",
     "output_type": "stream",
     "text": [
      "  0%|          | 0/14 [00:00<?, ?it/s]\n",
      "  7%|▋         | 1/14 [00:03<00:40,  3.09s/it]\n",
      "100%|██████████| 14/14 [00:03<00:00,  4.22it/s]\n",
      "  0%|          | 0/6 [00:00<?, ?it/s]\n"
     ]
    },
    {
     "name": "stdout",
     "output_type": "stream",
     "text": [
      "== Status ==\n",
      "Current time: 2021-12-18 16:22:24 (running for 00:03:21.39)\n",
      "Memory usage on this node: 17.4/47.6 GiB\n",
      "Using AsyncHyperBand: num_stopped=2\n",
      "Bracket: Iter 8.000: None | Iter 4.000: -0.9939722468455633 | Iter 2.000: -1.027260982327991 | Iter 1.000: -1.1011452211274042\n",
      "Resources requested: 1.0/12 CPUs, 1.0/1 GPUs, 0.0/20.19 GiB heap, 0.0/10.09 GiB objects\n",
      "Result logdir: C:\\Users\\Tomas\\ray_results\\DEFAULT_2021-12-18_16-19-02\n",
      "Number of trials: 10/10 (3 PENDING, 1 RUNNING, 6 TERMINATED)\n",
      "+---------------------+------------+-----------------+--------------+-----------------+--------------+----------+\n",
      "| Trial name          | status     | loc             |   batch_size |   learning_rate |   num_epochs |     loss |\n",
      "|---------------------+------------+-----------------+--------------+-----------------+--------------+----------|\n",
      "| DEFAULT_d5176_00006 | RUNNING    | 127.0.0.1:8212  |           30 |     0.0716515   |           10 | 0.958261 |\n",
      "| DEFAULT_d5176_00007 | PENDING    |                 |           50 |     0.00124637  |            4 |          |\n",
      "| DEFAULT_d5176_00008 | PENDING    |                 |          100 |     0.000408916 |            5 |          |\n",
      "| DEFAULT_d5176_00009 | PENDING    |                 |           50 |     0.0215958   |            4 |          |\n",
      "| DEFAULT_d5176_00000 | TERMINATED | 127.0.0.1:26304 |           10 |     0.000667685 |            5 | 1.08035  |\n",
      "| DEFAULT_d5176_00001 | TERMINATED | 127.0.0.1:3772  |           10 |     0.00173855  |            5 | 1.07983  |\n",
      "| DEFAULT_d5176_00002 | TERMINATED | 127.0.0.1:25788 |           30 |     0.0378417   |            5 | 0.912973 |\n",
      "| DEFAULT_d5176_00003 | TERMINATED | 127.0.0.1:20196 |          100 |     0.00147783  |           10 | 1.12166  |\n",
      "| DEFAULT_d5176_00004 | TERMINATED | 127.0.0.1:272   |           10 |     0.0125708   |            4 | 0.921088 |\n",
      "| DEFAULT_d5176_00005 | TERMINATED | 127.0.0.1:26052 |           10 |     0.000160196 |            4 | 1.12249  |\n",
      "+---------------------+------------+-----------------+--------------+-----------------+--------------+----------+\n",
      "\n",
      "\n"
     ]
    },
    {
     "name": "stderr",
     "output_type": "stream",
     "text": [
      " 17%|█▋        | 1/6 [00:03<00:15,  3.16s/it]\n"
     ]
    },
    {
     "name": "stdout",
     "output_type": "stream",
     "text": [
      "Result for DEFAULT_d5176_00006:\n",
      "  accuracy: 0.6444444444444445\n",
      "  date: 2021-12-18_16-22-25\n",
      "  done: false\n",
      "  experiment_id: cbfabb2a2d6a453096091d815934b3db\n",
      "  hostname: WSTOMAS21\n",
      "  iterations_since_restore: 2\n",
      "  loss: 0.9144955476125082\n",
      "  node_ip: 127.0.0.1\n",
      "  pid: 8212\n",
      "  should_checkpoint: true\n",
      "  time_since_restore: 16.473800897598267\n",
      "  time_this_iter_s: 6.905985593795776\n",
      "  time_total_s: 16.473800897598267\n",
      "  timestamp: 1639840945\n",
      "  timesteps_since_restore: 0\n",
      "  training_iteration: 2\n",
      "  trial_id: d5176_00006\n",
      "  \n"
     ]
    },
    {
     "name": "stderr",
     "output_type": "stream",
     "text": [
      "100%|██████████| 6/6 [00:03<00:00,  1.79it/s]\n",
      "  0%|          | 0/14 [00:00<?, ?it/s]\n",
      "  7%|▋         | 1/14 [00:03<00:40,  3.10s/it]\n",
      "100%|██████████| 14/14 [00:03<00:00,  4.19it/s]\n",
      "  0%|          | 0/6 [00:00<?, ?it/s]\n"
     ]
    },
    {
     "name": "stdout",
     "output_type": "stream",
     "text": [
      "== Status ==\n",
      "Current time: 2021-12-18 16:22:29 (running for 00:03:27.13)\n",
      "Memory usage on this node: 17.5/47.6 GiB\n",
      "Using AsyncHyperBand: num_stopped=2\n",
      "Bracket: Iter 8.000: None | Iter 4.000: -0.9939722468455633 | Iter 2.000: -0.9694160421689352 | Iter 1.000: -1.1011452211274042\n",
      "Resources requested: 1.0/12 CPUs, 1.0/1 GPUs, 0.0/20.19 GiB heap, 0.0/10.09 GiB objects\n",
      "Result logdir: C:\\Users\\Tomas\\ray_results\\DEFAULT_2021-12-18_16-19-02\n",
      "Number of trials: 10/10 (3 PENDING, 1 RUNNING, 6 TERMINATED)\n",
      "+---------------------+------------+-----------------+--------------+-----------------+--------------+----------+\n",
      "| Trial name          | status     | loc             |   batch_size |   learning_rate |   num_epochs |     loss |\n",
      "|---------------------+------------+-----------------+--------------+-----------------+--------------+----------|\n",
      "| DEFAULT_d5176_00006 | RUNNING    | 127.0.0.1:8212  |           30 |     0.0716515   |           10 | 0.914496 |\n",
      "| DEFAULT_d5176_00007 | PENDING    |                 |           50 |     0.00124637  |            4 |          |\n",
      "| DEFAULT_d5176_00008 | PENDING    |                 |          100 |     0.000408916 |            5 |          |\n",
      "| DEFAULT_d5176_00009 | PENDING    |                 |           50 |     0.0215958   |            4 |          |\n",
      "| DEFAULT_d5176_00000 | TERMINATED | 127.0.0.1:26304 |           10 |     0.000667685 |            5 | 1.08035  |\n",
      "| DEFAULT_d5176_00001 | TERMINATED | 127.0.0.1:3772  |           10 |     0.00173855  |            5 | 1.07983  |\n",
      "| DEFAULT_d5176_00002 | TERMINATED | 127.0.0.1:25788 |           30 |     0.0378417   |            5 | 0.912973 |\n",
      "| DEFAULT_d5176_00003 | TERMINATED | 127.0.0.1:20196 |          100 |     0.00147783  |           10 | 1.12166  |\n",
      "| DEFAULT_d5176_00004 | TERMINATED | 127.0.0.1:272   |           10 |     0.0125708   |            4 | 0.921088 |\n",
      "| DEFAULT_d5176_00005 | TERMINATED | 127.0.0.1:26052 |           10 |     0.000160196 |            4 | 1.12249  |\n",
      "+---------------------+------------+-----------------+--------------+-----------------+--------------+----------+\n",
      "\n",
      "\n"
     ]
    },
    {
     "name": "stderr",
     "output_type": "stream",
     "text": [
      " 17%|█▋        | 1/6 [00:03<00:16,  3.22s/it]\n"
     ]
    },
    {
     "name": "stdout",
     "output_type": "stream",
     "text": [
      "Result for DEFAULT_d5176_00006:\n",
      "  accuracy: 0.6444444444444445\n",
      "  date: 2021-12-18_16-22-32\n",
      "  done: false\n",
      "  experiment_id: cbfabb2a2d6a453096091d815934b3db\n",
      "  hostname: WSTOMAS21\n",
      "  iterations_since_restore: 3\n",
      "  loss: 0.9099672635396322\n",
      "  node_ip: 127.0.0.1\n",
      "  pid: 8212\n",
      "  should_checkpoint: true\n",
      "  time_since_restore: 23.43406915664673\n",
      "  time_this_iter_s: 6.960268259048462\n",
      "  time_total_s: 23.43406915664673\n",
      "  timestamp: 1639840952\n",
      "  timesteps_since_restore: 0\n",
      "  training_iteration: 3\n",
      "  trial_id: d5176_00006\n",
      "  \n"
     ]
    },
    {
     "name": "stderr",
     "output_type": "stream",
     "text": [
      "100%|██████████| 6/6 [00:03<00:00,  1.77it/s]\n",
      "  0%|          | 0/14 [00:00<?, ?it/s]\n"
     ]
    },
    {
     "name": "stdout",
     "output_type": "stream",
     "text": [
      "== Status ==\n",
      "Current time: 2021-12-18 16:22:35 (running for 00:03:32.85)\n",
      "Memory usage on this node: 17.4/47.6 GiB\n",
      "Using AsyncHyperBand: num_stopped=2\n",
      "Bracket: Iter 8.000: None | Iter 4.000: -0.9939722468455633 | Iter 2.000: -0.9694160421689352 | Iter 1.000: -1.1011452211274042\n",
      "Resources requested: 1.0/12 CPUs, 1.0/1 GPUs, 0.0/20.19 GiB heap, 0.0/10.09 GiB objects\n",
      "Result logdir: C:\\Users\\Tomas\\ray_results\\DEFAULT_2021-12-18_16-19-02\n",
      "Number of trials: 10/10 (3 PENDING, 1 RUNNING, 6 TERMINATED)\n",
      "+---------------------+------------+-----------------+--------------+-----------------+--------------+----------+\n",
      "| Trial name          | status     | loc             |   batch_size |   learning_rate |   num_epochs |     loss |\n",
      "|---------------------+------------+-----------------+--------------+-----------------+--------------+----------|\n",
      "| DEFAULT_d5176_00006 | RUNNING    | 127.0.0.1:8212  |           30 |     0.0716515   |           10 | 0.909967 |\n",
      "| DEFAULT_d5176_00007 | PENDING    |                 |           50 |     0.00124637  |            4 |          |\n",
      "| DEFAULT_d5176_00008 | PENDING    |                 |          100 |     0.000408916 |            5 |          |\n",
      "| DEFAULT_d5176_00009 | PENDING    |                 |           50 |     0.0215958   |            4 |          |\n",
      "| DEFAULT_d5176_00000 | TERMINATED | 127.0.0.1:26304 |           10 |     0.000667685 |            5 | 1.08035  |\n",
      "| DEFAULT_d5176_00001 | TERMINATED | 127.0.0.1:3772  |           10 |     0.00173855  |            5 | 1.07983  |\n",
      "| DEFAULT_d5176_00002 | TERMINATED | 127.0.0.1:25788 |           30 |     0.0378417   |            5 | 0.912973 |\n",
      "| DEFAULT_d5176_00003 | TERMINATED | 127.0.0.1:20196 |          100 |     0.00147783  |           10 | 1.12166  |\n",
      "| DEFAULT_d5176_00004 | TERMINATED | 127.0.0.1:272   |           10 |     0.0125708   |            4 | 0.921088 |\n",
      "| DEFAULT_d5176_00005 | TERMINATED | 127.0.0.1:26052 |           10 |     0.000160196 |            4 | 1.12249  |\n",
      "+---------------------+------------+-----------------+--------------+-----------------+--------------+----------+\n",
      "\n",
      "\n"
     ]
    },
    {
     "name": "stderr",
     "output_type": "stream",
     "text": [
      "  7%|▋         | 1/14 [00:03<00:40,  3.13s/it]\n",
      "100%|██████████| 14/14 [00:03<00:00,  4.18it/s]\n",
      "  0%|          | 0/6 [00:00<?, ?it/s]\n",
      " 17%|█▋        | 1/6 [00:03<00:15,  3.14s/it]\n"
     ]
    },
    {
     "name": "stdout",
     "output_type": "stream",
     "text": [
      "Result for DEFAULT_d5176_00006:\n",
      "  accuracy: 0.6444444444444445\n",
      "  date: 2021-12-18_16-22-39\n",
      "  done: false\n",
      "  experiment_id: cbfabb2a2d6a453096091d815934b3db\n",
      "  hostname: WSTOMAS21\n",
      "  iterations_since_restore: 4\n",
      "  loss: 0.9093050460020701\n",
      "  node_ip: 127.0.0.1\n",
      "  pid: 8212\n",
      "  should_checkpoint: true\n",
      "  time_since_restore: 30.427170753479004\n",
      "  time_this_iter_s: 6.993101596832275\n",
      "  time_total_s: 30.427170753479004\n",
      "  timestamp: 1639840959\n",
      "  timesteps_since_restore: 0\n",
      "  training_iteration: 4\n",
      "  trial_id: d5176_00006\n",
      "  \n"
     ]
    },
    {
     "name": "stderr",
     "output_type": "stream",
     "text": [
      "100%|██████████| 6/6 [00:03<00:00,  1.78it/s]\n",
      "  0%|          | 0/14 [00:00<?, ?it/s]\n"
     ]
    },
    {
     "name": "stdout",
     "output_type": "stream",
     "text": [
      "== Status ==\n",
      "Current time: 2021-12-18 16:22:41 (running for 00:03:38.49)\n",
      "Memory usage on this node: 17.5/47.6 GiB\n",
      "Using AsyncHyperBand: num_stopped=2\n",
      "Bracket: Iter 8.000: None | Iter 4.000: -0.9210878908634186 | Iter 2.000: -0.9694160421689352 | Iter 1.000: -1.1011452211274042\n",
      "Resources requested: 1.0/12 CPUs, 1.0/1 GPUs, 0.0/20.19 GiB heap, 0.0/10.09 GiB objects\n",
      "Result logdir: C:\\Users\\Tomas\\ray_results\\DEFAULT_2021-12-18_16-19-02\n",
      "Number of trials: 10/10 (3 PENDING, 1 RUNNING, 6 TERMINATED)\n",
      "+---------------------+------------+-----------------+--------------+-----------------+--------------+----------+\n",
      "| Trial name          | status     | loc             |   batch_size |   learning_rate |   num_epochs |     loss |\n",
      "|---------------------+------------+-----------------+--------------+-----------------+--------------+----------|\n",
      "| DEFAULT_d5176_00006 | RUNNING    | 127.0.0.1:8212  |           30 |     0.0716515   |           10 | 0.909305 |\n",
      "| DEFAULT_d5176_00007 | PENDING    |                 |           50 |     0.00124637  |            4 |          |\n",
      "| DEFAULT_d5176_00008 | PENDING    |                 |          100 |     0.000408916 |            5 |          |\n",
      "| DEFAULT_d5176_00009 | PENDING    |                 |           50 |     0.0215958   |            4 |          |\n",
      "| DEFAULT_d5176_00000 | TERMINATED | 127.0.0.1:26304 |           10 |     0.000667685 |            5 | 1.08035  |\n",
      "| DEFAULT_d5176_00001 | TERMINATED | 127.0.0.1:3772  |           10 |     0.00173855  |            5 | 1.07983  |\n",
      "| DEFAULT_d5176_00002 | TERMINATED | 127.0.0.1:25788 |           30 |     0.0378417   |            5 | 0.912973 |\n",
      "| DEFAULT_d5176_00003 | TERMINATED | 127.0.0.1:20196 |          100 |     0.00147783  |           10 | 1.12166  |\n",
      "| DEFAULT_d5176_00004 | TERMINATED | 127.0.0.1:272   |           10 |     0.0125708   |            4 | 0.921088 |\n",
      "| DEFAULT_d5176_00005 | TERMINATED | 127.0.0.1:26052 |           10 |     0.000160196 |            4 | 1.12249  |\n",
      "+---------------------+------------+-----------------+--------------+-----------------+--------------+----------+\n",
      "\n",
      "\n"
     ]
    },
    {
     "name": "stderr",
     "output_type": "stream",
     "text": [
      "  7%|▋         | 1/14 [00:03<00:40,  3.11s/it]\n",
      "100%|██████████| 14/14 [00:03<00:00,  4.20it/s]\n",
      "  0%|          | 0/6 [00:00<?, ?it/s]\n",
      " 17%|█▋        | 1/6 [00:02<00:14,  2.99s/it]\n"
     ]
    },
    {
     "name": "stdout",
     "output_type": "stream",
     "text": [
      "Result for DEFAULT_d5176_00006:\n",
      "  accuracy: 0.6444444444444445\n",
      "  date: 2021-12-18_16-22-46\n",
      "  done: false\n",
      "  experiment_id: cbfabb2a2d6a453096091d815934b3db\n",
      "  hostname: WSTOMAS21\n",
      "  iterations_since_restore: 5\n",
      "  loss: 0.9085213641325632\n",
      "  node_ip: 127.0.0.1\n",
      "  pid: 8212\n",
      "  should_checkpoint: true\n",
      "  time_since_restore: 37.134493827819824\n",
      "  time_this_iter_s: 6.70732307434082\n",
      "  time_total_s: 37.134493827819824\n",
      "  timestamp: 1639840966\n",
      "  timesteps_since_restore: 0\n",
      "  training_iteration: 5\n",
      "  trial_id: d5176_00006\n",
      "  \n",
      "== Status ==\n",
      "Current time: 2021-12-18 16:22:46 (running for 00:03:43.77)\n",
      "Memory usage on this node: 17.4/47.6 GiB\n",
      "Using AsyncHyperBand: num_stopped=2\n",
      "Bracket: Iter 8.000: None | Iter 4.000: -0.9210878908634186 | Iter 2.000: -0.9694160421689352 | Iter 1.000: -1.1011452211274042\n",
      "Resources requested: 1.0/12 CPUs, 1.0/1 GPUs, 0.0/20.19 GiB heap, 0.0/10.09 GiB objects\n",
      "Result logdir: C:\\Users\\Tomas\\ray_results\\DEFAULT_2021-12-18_16-19-02\n",
      "Number of trials: 10/10 (3 PENDING, 1 RUNNING, 6 TERMINATED)\n",
      "+---------------------+------------+-----------------+--------------+-----------------+--------------+----------+\n",
      "| Trial name          | status     | loc             |   batch_size |   learning_rate |   num_epochs |     loss |\n",
      "|---------------------+------------+-----------------+--------------+-----------------+--------------+----------|\n",
      "| DEFAULT_d5176_00006 | RUNNING    | 127.0.0.1:8212  |           30 |     0.0716515   |           10 | 0.908521 |\n",
      "| DEFAULT_d5176_00007 | PENDING    |                 |           50 |     0.00124637  |            4 |          |\n",
      "| DEFAULT_d5176_00008 | PENDING    |                 |          100 |     0.000408916 |            5 |          |\n",
      "| DEFAULT_d5176_00009 | PENDING    |                 |           50 |     0.0215958   |            4 |          |\n",
      "| DEFAULT_d5176_00000 | TERMINATED | 127.0.0.1:26304 |           10 |     0.000667685 |            5 | 1.08035  |\n",
      "| DEFAULT_d5176_00001 | TERMINATED | 127.0.0.1:3772  |           10 |     0.00173855  |            5 | 1.07983  |\n",
      "| DEFAULT_d5176_00002 | TERMINATED | 127.0.0.1:25788 |           30 |     0.0378417   |            5 | 0.912973 |\n",
      "| DEFAULT_d5176_00003 | TERMINATED | 127.0.0.1:20196 |          100 |     0.00147783  |           10 | 1.12166  |\n",
      "| DEFAULT_d5176_00004 | TERMINATED | 127.0.0.1:272   |           10 |     0.0125708   |            4 | 0.921088 |\n",
      "| DEFAULT_d5176_00005 | TERMINATED | 127.0.0.1:26052 |           10 |     0.000160196 |            4 | 1.12249  |\n",
      "+---------------------+------------+-----------------+--------------+-----------------+--------------+----------+\n",
      "\n",
      "\n"
     ]
    },
    {
     "name": "stderr",
     "output_type": "stream",
     "text": [
      "100%|██████████| 6/6 [00:03<00:00,  1.90it/s]\n",
      "  0%|          | 0/14 [00:00<?, ?it/s]\n",
      "  7%|▋         | 1/14 [00:03<00:41,  3.18s/it]\n",
      "100%|██████████| 14/14 [00:03<00:00,  4.11it/s]\n",
      "  0%|          | 0/6 [00:00<?, ?it/s]\n"
     ]
    },
    {
     "name": "stdout",
     "output_type": "stream",
     "text": [
      "== Status ==\n",
      "Current time: 2021-12-18 16:22:51 (running for 00:03:49.05)\n",
      "Memory usage on this node: 17.4/47.6 GiB\n",
      "Using AsyncHyperBand: num_stopped=2\n",
      "Bracket: Iter 8.000: None | Iter 4.000: -0.9210878908634186 | Iter 2.000: -0.9694160421689352 | Iter 1.000: -1.1011452211274042\n",
      "Resources requested: 1.0/12 CPUs, 1.0/1 GPUs, 0.0/20.19 GiB heap, 0.0/10.09 GiB objects\n",
      "Result logdir: C:\\Users\\Tomas\\ray_results\\DEFAULT_2021-12-18_16-19-02\n",
      "Number of trials: 10/10 (3 PENDING, 1 RUNNING, 6 TERMINATED)\n",
      "+---------------------+------------+-----------------+--------------+-----------------+--------------+----------+\n",
      "| Trial name          | status     | loc             |   batch_size |   learning_rate |   num_epochs |     loss |\n",
      "|---------------------+------------+-----------------+--------------+-----------------+--------------+----------|\n",
      "| DEFAULT_d5176_00006 | RUNNING    | 127.0.0.1:8212  |           30 |     0.0716515   |           10 | 0.908521 |\n",
      "| DEFAULT_d5176_00007 | PENDING    |                 |           50 |     0.00124637  |            4 |          |\n",
      "| DEFAULT_d5176_00008 | PENDING    |                 |          100 |     0.000408916 |            5 |          |\n",
      "| DEFAULT_d5176_00009 | PENDING    |                 |           50 |     0.0215958   |            4 |          |\n",
      "| DEFAULT_d5176_00000 | TERMINATED | 127.0.0.1:26304 |           10 |     0.000667685 |            5 | 1.08035  |\n",
      "| DEFAULT_d5176_00001 | TERMINATED | 127.0.0.1:3772  |           10 |     0.00173855  |            5 | 1.07983  |\n",
      "| DEFAULT_d5176_00002 | TERMINATED | 127.0.0.1:25788 |           30 |     0.0378417   |            5 | 0.912973 |\n",
      "| DEFAULT_d5176_00003 | TERMINATED | 127.0.0.1:20196 |          100 |     0.00147783  |           10 | 1.12166  |\n",
      "| DEFAULT_d5176_00004 | TERMINATED | 127.0.0.1:272   |           10 |     0.0125708   |            4 | 0.921088 |\n",
      "| DEFAULT_d5176_00005 | TERMINATED | 127.0.0.1:26052 |           10 |     0.000160196 |            4 | 1.12249  |\n",
      "+---------------------+------------+-----------------+--------------+-----------------+--------------+----------+\n",
      "\n",
      "\n"
     ]
    },
    {
     "name": "stderr",
     "output_type": "stream",
     "text": [
      " 17%|█▋        | 1/6 [00:03<00:15,  3.08s/it]\n",
      "100%|██████████| 6/6 [00:03<00:00,  1.77it/s]\n"
     ]
    },
    {
     "name": "stdout",
     "output_type": "stream",
     "text": [
      "Result for DEFAULT_d5176_00006:\n",
      "  accuracy: 0.6444444444444445\n",
      "  date: 2021-12-18_16-22-53\n",
      "  done: false\n",
      "  experiment_id: cbfabb2a2d6a453096091d815934b3db\n",
      "  hostname: WSTOMAS21\n",
      "  iterations_since_restore: 6\n",
      "  loss: 0.9084084033966064\n",
      "  node_ip: 127.0.0.1\n",
      "  pid: 8212\n",
      "  should_checkpoint: true\n",
      "  time_since_restore: 44.154754400253296\n",
      "  time_this_iter_s: 7.020260572433472\n",
      "  time_total_s: 44.154754400253296\n",
      "  timestamp: 1639840973\n",
      "  timesteps_since_restore: 0\n",
      "  training_iteration: 6\n",
      "  trial_id: d5176_00006\n",
      "  \n"
     ]
    },
    {
     "name": "stderr",
     "output_type": "stream",
     "text": [
      "  0%|          | 0/14 [00:00<?, ?it/s]\n",
      "  7%|▋         | 1/14 [00:03<00:40,  3.14s/it]\n",
      "100%|██████████| 14/14 [00:03<00:00,  4.17it/s]\n",
      "  0%|          | 0/6 [00:00<?, ?it/s]\n"
     ]
    },
    {
     "name": "stdout",
     "output_type": "stream",
     "text": [
      "== Status ==\n",
      "Current time: 2021-12-18 16:22:57 (running for 00:03:54.82)\n",
      "Memory usage on this node: 17.5/47.6 GiB\n",
      "Using AsyncHyperBand: num_stopped=2\n",
      "Bracket: Iter 8.000: None | Iter 4.000: -0.9210878908634186 | Iter 2.000: -0.9694160421689352 | Iter 1.000: -1.1011452211274042\n",
      "Resources requested: 1.0/12 CPUs, 1.0/1 GPUs, 0.0/20.19 GiB heap, 0.0/10.09 GiB objects\n",
      "Result logdir: C:\\Users\\Tomas\\ray_results\\DEFAULT_2021-12-18_16-19-02\n",
      "Number of trials: 10/10 (3 PENDING, 1 RUNNING, 6 TERMINATED)\n",
      "+---------------------+------------+-----------------+--------------+-----------------+--------------+----------+\n",
      "| Trial name          | status     | loc             |   batch_size |   learning_rate |   num_epochs |     loss |\n",
      "|---------------------+------------+-----------------+--------------+-----------------+--------------+----------|\n",
      "| DEFAULT_d5176_00006 | RUNNING    | 127.0.0.1:8212  |           30 |     0.0716515   |           10 | 0.908408 |\n",
      "| DEFAULT_d5176_00007 | PENDING    |                 |           50 |     0.00124637  |            4 |          |\n",
      "| DEFAULT_d5176_00008 | PENDING    |                 |          100 |     0.000408916 |            5 |          |\n",
      "| DEFAULT_d5176_00009 | PENDING    |                 |           50 |     0.0215958   |            4 |          |\n",
      "| DEFAULT_d5176_00000 | TERMINATED | 127.0.0.1:26304 |           10 |     0.000667685 |            5 | 1.08035  |\n",
      "| DEFAULT_d5176_00001 | TERMINATED | 127.0.0.1:3772  |           10 |     0.00173855  |            5 | 1.07983  |\n",
      "| DEFAULT_d5176_00002 | TERMINATED | 127.0.0.1:25788 |           30 |     0.0378417   |            5 | 0.912973 |\n",
      "| DEFAULT_d5176_00003 | TERMINATED | 127.0.0.1:20196 |          100 |     0.00147783  |           10 | 1.12166  |\n",
      "| DEFAULT_d5176_00004 | TERMINATED | 127.0.0.1:272   |           10 |     0.0125708   |            4 | 0.921088 |\n",
      "| DEFAULT_d5176_00005 | TERMINATED | 127.0.0.1:26052 |           10 |     0.000160196 |            4 | 1.12249  |\n",
      "+---------------------+------------+-----------------+--------------+-----------------+--------------+----------+\n",
      "\n",
      "\n"
     ]
    },
    {
     "name": "stderr",
     "output_type": "stream",
     "text": [
      " 17%|█▋        | 1/6 [00:03<00:15,  3.18s/it]\n",
      "100%|██████████| 6/6 [00:03<00:00,  1.79it/s]\n"
     ]
    },
    {
     "name": "stdout",
     "output_type": "stream",
     "text": [
      "Result for DEFAULT_d5176_00006:\n",
      "  accuracy: 0.6444444444444445\n",
      "  date: 2021-12-18_16-23-00\n",
      "  done: false\n",
      "  experiment_id: cbfabb2a2d6a453096091d815934b3db\n",
      "  hostname: WSTOMAS21\n",
      "  iterations_since_restore: 7\n",
      "  loss: 0.9081754684448242\n",
      "  node_ip: 127.0.0.1\n",
      "  pid: 8212\n",
      "  should_checkpoint: true\n",
      "  time_since_restore: 51.11743950843811\n",
      "  time_this_iter_s: 6.9626851081848145\n",
      "  time_total_s: 51.11743950843811\n",
      "  timestamp: 1639840980\n",
      "  timesteps_since_restore: 0\n",
      "  training_iteration: 7\n",
      "  trial_id: d5176_00006\n",
      "  \n"
     ]
    },
    {
     "name": "stderr",
     "output_type": "stream",
     "text": [
      "  0%|          | 0/14 [00:00<?, ?it/s]\n"
     ]
    },
    {
     "name": "stdout",
     "output_type": "stream",
     "text": [
      "== Status ==\n",
      "Current time: 2021-12-18 16:23:03 (running for 00:04:00.50)\n",
      "Memory usage on this node: 17.5/47.6 GiB\n",
      "Using AsyncHyperBand: num_stopped=2\n",
      "Bracket: Iter 8.000: None | Iter 4.000: -0.9210878908634186 | Iter 2.000: -0.9694160421689352 | Iter 1.000: -1.1011452211274042\n",
      "Resources requested: 1.0/12 CPUs, 1.0/1 GPUs, 0.0/20.19 GiB heap, 0.0/10.09 GiB objects\n",
      "Result logdir: C:\\Users\\Tomas\\ray_results\\DEFAULT_2021-12-18_16-19-02\n",
      "Number of trials: 10/10 (3 PENDING, 1 RUNNING, 6 TERMINATED)\n",
      "+---------------------+------------+-----------------+--------------+-----------------+--------------+----------+\n",
      "| Trial name          | status     | loc             |   batch_size |   learning_rate |   num_epochs |     loss |\n",
      "|---------------------+------------+-----------------+--------------+-----------------+--------------+----------|\n",
      "| DEFAULT_d5176_00006 | RUNNING    | 127.0.0.1:8212  |           30 |     0.0716515   |           10 | 0.908175 |\n",
      "| DEFAULT_d5176_00007 | PENDING    |                 |           50 |     0.00124637  |            4 |          |\n",
      "| DEFAULT_d5176_00008 | PENDING    |                 |          100 |     0.000408916 |            5 |          |\n",
      "| DEFAULT_d5176_00009 | PENDING    |                 |           50 |     0.0215958   |            4 |          |\n",
      "| DEFAULT_d5176_00000 | TERMINATED | 127.0.0.1:26304 |           10 |     0.000667685 |            5 | 1.08035  |\n",
      "| DEFAULT_d5176_00001 | TERMINATED | 127.0.0.1:3772  |           10 |     0.00173855  |            5 | 1.07983  |\n",
      "| DEFAULT_d5176_00002 | TERMINATED | 127.0.0.1:25788 |           30 |     0.0378417   |            5 | 0.912973 |\n",
      "| DEFAULT_d5176_00003 | TERMINATED | 127.0.0.1:20196 |          100 |     0.00147783  |           10 | 1.12166  |\n",
      "| DEFAULT_d5176_00004 | TERMINATED | 127.0.0.1:272   |           10 |     0.0125708   |            4 | 0.921088 |\n",
      "| DEFAULT_d5176_00005 | TERMINATED | 127.0.0.1:26052 |           10 |     0.000160196 |            4 | 1.12249  |\n",
      "+---------------------+------------+-----------------+--------------+-----------------+--------------+----------+\n",
      "\n",
      "\n"
     ]
    },
    {
     "name": "stderr",
     "output_type": "stream",
     "text": [
      "  7%|▋         | 1/14 [00:03<00:40,  3.13s/it]\n",
      "100%|██████████| 14/14 [00:03<00:00,  4.14it/s]\n",
      "  0%|          | 0/6 [00:00<?, ?it/s]\n",
      " 17%|█▋        | 1/6 [00:03<00:15,  3.05s/it]\n"
     ]
    },
    {
     "name": "stdout",
     "output_type": "stream",
     "text": [
      "Result for DEFAULT_d5176_00006:\n",
      "  accuracy: 0.6444444444444445\n",
      "  date: 2021-12-18_16-23-07\n",
      "  done: false\n",
      "  experiment_id: cbfabb2a2d6a453096091d815934b3db\n",
      "  hostname: WSTOMAS21\n",
      "  iterations_since_restore: 8\n",
      "  loss: 0.9079552988211314\n",
      "  node_ip: 127.0.0.1\n",
      "  pid: 8212\n",
      "  should_checkpoint: true\n",
      "  time_since_restore: 58.03306221961975\n",
      "  time_this_iter_s: 6.915622711181641\n",
      "  time_total_s: 58.03306221961975\n",
      "  timestamp: 1639840987\n",
      "  timesteps_since_restore: 0\n",
      "  training_iteration: 8\n",
      "  trial_id: d5176_00006\n",
      "  \n"
     ]
    },
    {
     "name": "stderr",
     "output_type": "stream",
     "text": [
      "100%|██████████| 6/6 [00:03<00:00,  1.82it/s]\n",
      "  0%|          | 0/14 [00:00<?, ?it/s]\n"
     ]
    },
    {
     "name": "stdout",
     "output_type": "stream",
     "text": [
      "== Status ==\n",
      "Current time: 2021-12-18 16:23:08 (running for 00:04:06.16)\n",
      "Memory usage on this node: 17.4/47.6 GiB\n",
      "Using AsyncHyperBand: num_stopped=2\n",
      "Bracket: Iter 8.000: -0.9079552988211314 | Iter 4.000: -0.9210878908634186 | Iter 2.000: -0.9694160421689352 | Iter 1.000: -1.1011452211274042\n",
      "Resources requested: 1.0/12 CPUs, 1.0/1 GPUs, 0.0/20.19 GiB heap, 0.0/10.09 GiB objects\n",
      "Result logdir: C:\\Users\\Tomas\\ray_results\\DEFAULT_2021-12-18_16-19-02\n",
      "Number of trials: 10/10 (3 PENDING, 1 RUNNING, 6 TERMINATED)\n",
      "+---------------------+------------+-----------------+--------------+-----------------+--------------+----------+\n",
      "| Trial name          | status     | loc             |   batch_size |   learning_rate |   num_epochs |     loss |\n",
      "|---------------------+------------+-----------------+--------------+-----------------+--------------+----------|\n",
      "| DEFAULT_d5176_00006 | RUNNING    | 127.0.0.1:8212  |           30 |     0.0716515   |           10 | 0.907955 |\n",
      "| DEFAULT_d5176_00007 | PENDING    |                 |           50 |     0.00124637  |            4 |          |\n",
      "| DEFAULT_d5176_00008 | PENDING    |                 |          100 |     0.000408916 |            5 |          |\n",
      "| DEFAULT_d5176_00009 | PENDING    |                 |           50 |     0.0215958   |            4 |          |\n",
      "| DEFAULT_d5176_00000 | TERMINATED | 127.0.0.1:26304 |           10 |     0.000667685 |            5 | 1.08035  |\n",
      "| DEFAULT_d5176_00001 | TERMINATED | 127.0.0.1:3772  |           10 |     0.00173855  |            5 | 1.07983  |\n",
      "| DEFAULT_d5176_00002 | TERMINATED | 127.0.0.1:25788 |           30 |     0.0378417   |            5 | 0.912973 |\n",
      "| DEFAULT_d5176_00003 | TERMINATED | 127.0.0.1:20196 |          100 |     0.00147783  |           10 | 1.12166  |\n",
      "| DEFAULT_d5176_00004 | TERMINATED | 127.0.0.1:272   |           10 |     0.0125708   |            4 | 0.921088 |\n",
      "| DEFAULT_d5176_00005 | TERMINATED | 127.0.0.1:26052 |           10 |     0.000160196 |            4 | 1.12249  |\n",
      "+---------------------+------------+-----------------+--------------+-----------------+--------------+----------+\n",
      "\n",
      "\n"
     ]
    },
    {
     "name": "stderr",
     "output_type": "stream",
     "text": [
      "  7%|▋         | 1/14 [00:03<00:40,  3.09s/it]\n",
      "100%|██████████| 14/14 [00:03<00:00,  4.24it/s]\n",
      "  0%|          | 0/6 [00:00<?, ?it/s]\n"
     ]
    },
    {
     "name": "stdout",
     "output_type": "stream",
     "text": [
      "== Status ==\n",
      "Current time: 2021-12-18 16:23:13 (running for 00:04:11.23)\n",
      "Memory usage on this node: 17.6/47.6 GiB\n",
      "Using AsyncHyperBand: num_stopped=2\n",
      "Bracket: Iter 8.000: -0.9079552988211314 | Iter 4.000: -0.9210878908634186 | Iter 2.000: -0.9694160421689352 | Iter 1.000: -1.1011452211274042\n",
      "Resources requested: 1.0/12 CPUs, 1.0/1 GPUs, 0.0/20.19 GiB heap, 0.0/10.09 GiB objects\n",
      "Result logdir: C:\\Users\\Tomas\\ray_results\\DEFAULT_2021-12-18_16-19-02\n",
      "Number of trials: 10/10 (3 PENDING, 1 RUNNING, 6 TERMINATED)\n",
      "+---------------------+------------+-----------------+--------------+-----------------+--------------+----------+\n",
      "| Trial name          | status     | loc             |   batch_size |   learning_rate |   num_epochs |     loss |\n",
      "|---------------------+------------+-----------------+--------------+-----------------+--------------+----------|\n",
      "| DEFAULT_d5176_00006 | RUNNING    | 127.0.0.1:8212  |           30 |     0.0716515   |           10 | 0.907955 |\n",
      "| DEFAULT_d5176_00007 | PENDING    |                 |           50 |     0.00124637  |            4 |          |\n",
      "| DEFAULT_d5176_00008 | PENDING    |                 |          100 |     0.000408916 |            5 |          |\n",
      "| DEFAULT_d5176_00009 | PENDING    |                 |           50 |     0.0215958   |            4 |          |\n",
      "| DEFAULT_d5176_00000 | TERMINATED | 127.0.0.1:26304 |           10 |     0.000667685 |            5 | 1.08035  |\n",
      "| DEFAULT_d5176_00001 | TERMINATED | 127.0.0.1:3772  |           10 |     0.00173855  |            5 | 1.07983  |\n",
      "| DEFAULT_d5176_00002 | TERMINATED | 127.0.0.1:25788 |           30 |     0.0378417   |            5 | 0.912973 |\n",
      "| DEFAULT_d5176_00003 | TERMINATED | 127.0.0.1:20196 |          100 |     0.00147783  |           10 | 1.12166  |\n",
      "| DEFAULT_d5176_00004 | TERMINATED | 127.0.0.1:272   |           10 |     0.0125708   |            4 | 0.921088 |\n",
      "| DEFAULT_d5176_00005 | TERMINATED | 127.0.0.1:26052 |           10 |     0.000160196 |            4 | 1.12249  |\n",
      "+---------------------+------------+-----------------+--------------+-----------------+--------------+----------+\n",
      "\n",
      "\n"
     ]
    },
    {
     "name": "stderr",
     "output_type": "stream",
     "text": [
      " 17%|█▋        | 1/6 [00:03<00:15,  3.14s/it]\n",
      "100%|██████████| 6/6 [00:03<00:00,  1.79it/s]\n"
     ]
    },
    {
     "name": "stdout",
     "output_type": "stream",
     "text": [
      "Result for DEFAULT_d5176_00006:\n",
      "  accuracy: 0.6444444444444445\n",
      "  date: 2021-12-18_16-23-14\n",
      "  done: false\n",
      "  experiment_id: cbfabb2a2d6a453096091d815934b3db\n",
      "  hostname: WSTOMAS21\n",
      "  iterations_since_restore: 9\n",
      "  loss: 0.907832403977712\n",
      "  node_ip: 127.0.0.1\n",
      "  pid: 8212\n",
      "  should_checkpoint: true\n",
      "  time_since_restore: 64.9767575263977\n",
      "  time_this_iter_s: 6.943695306777954\n",
      "  time_total_s: 64.9767575263977\n",
      "  timestamp: 1639840994\n",
      "  timesteps_since_restore: 0\n",
      "  training_iteration: 9\n",
      "  trial_id: d5176_00006\n",
      "  \n"
     ]
    },
    {
     "name": "stderr",
     "output_type": "stream",
     "text": [
      "  0%|          | 0/14 [00:00<?, ?it/s]\n",
      "  7%|▋         | 1/14 [00:03<00:40,  3.09s/it]\n",
      "100%|██████████| 14/14 [00:03<00:00,  6.05it/s]\n",
      "100%|██████████| 14/14 [00:03<00:00,  4.19it/s]\n",
      "  0%|          | 0/6 [00:00<?, ?it/s]\n"
     ]
    },
    {
     "name": "stdout",
     "output_type": "stream",
     "text": [
      "== Status ==\n",
      "Current time: 2021-12-18 16:23:19 (running for 00:04:16.84)\n",
      "Memory usage on this node: 17.5/47.6 GiB\n",
      "Using AsyncHyperBand: num_stopped=2\n",
      "Bracket: Iter 8.000: -0.9079552988211314 | Iter 4.000: -0.9210878908634186 | Iter 2.000: -0.9694160421689352 | Iter 1.000: -1.1011452211274042\n",
      "Resources requested: 1.0/12 CPUs, 1.0/1 GPUs, 0.0/20.19 GiB heap, 0.0/10.09 GiB objects\n",
      "Result logdir: C:\\Users\\Tomas\\ray_results\\DEFAULT_2021-12-18_16-19-02\n",
      "Number of trials: 10/10 (3 PENDING, 1 RUNNING, 6 TERMINATED)\n",
      "+---------------------+------------+-----------------+--------------+-----------------+--------------+----------+\n",
      "| Trial name          | status     | loc             |   batch_size |   learning_rate |   num_epochs |     loss |\n",
      "|---------------------+------------+-----------------+--------------+-----------------+--------------+----------|\n",
      "| DEFAULT_d5176_00006 | RUNNING    | 127.0.0.1:8212  |           30 |     0.0716515   |           10 | 0.907832 |\n",
      "| DEFAULT_d5176_00007 | PENDING    |                 |           50 |     0.00124637  |            4 |          |\n",
      "| DEFAULT_d5176_00008 | PENDING    |                 |          100 |     0.000408916 |            5 |          |\n",
      "| DEFAULT_d5176_00009 | PENDING    |                 |           50 |     0.0215958   |            4 |          |\n",
      "| DEFAULT_d5176_00000 | TERMINATED | 127.0.0.1:26304 |           10 |     0.000667685 |            5 | 1.08035  |\n",
      "| DEFAULT_d5176_00001 | TERMINATED | 127.0.0.1:3772  |           10 |     0.00173855  |            5 | 1.07983  |\n",
      "| DEFAULT_d5176_00002 | TERMINATED | 127.0.0.1:25788 |           30 |     0.0378417   |            5 | 0.912973 |\n",
      "| DEFAULT_d5176_00003 | TERMINATED | 127.0.0.1:20196 |          100 |     0.00147783  |           10 | 1.12166  |\n",
      "| DEFAULT_d5176_00004 | TERMINATED | 127.0.0.1:272   |           10 |     0.0125708   |            4 | 0.921088 |\n",
      "| DEFAULT_d5176_00005 | TERMINATED | 127.0.0.1:26052 |           10 |     0.000160196 |            4 | 1.12249  |\n",
      "+---------------------+------------+-----------------+--------------+-----------------+--------------+----------+\n",
      "\n",
      "\n"
     ]
    },
    {
     "name": "stderr",
     "output_type": "stream",
     "text": [
      " 17%|█▋        | 1/6 [00:03<00:15,  3.13s/it]\n"
     ]
    },
    {
     "name": "stdout",
     "output_type": "stream",
     "text": [
      "Result for DEFAULT_d5176_00006:\n",
      "  accuracy: 0.6444444444444445\n",
      "  date: 2021-12-18_16-23-21\n",
      "  done: false\n",
      "  experiment_id: cbfabb2a2d6a453096091d815934b3db\n",
      "  hostname: WSTOMAS21\n",
      "  iterations_since_restore: 10\n",
      "  loss: 0.9077901144822439\n",
      "  node_ip: 127.0.0.1\n",
      "  pid: 8212\n",
      "  should_checkpoint: true\n",
      "  time_since_restore: 71.96035289764404\n",
      "  time_this_iter_s: 6.983595371246338\n",
      "  time_total_s: 71.96035289764404\n",
      "  timestamp: 1639841001\n",
      "  timesteps_since_restore: 0\n",
      "  training_iteration: 10\n",
      "  trial_id: d5176_00006\n",
      "  \n"
     ]
    },
    {
     "name": "stderr",
     "output_type": "stream",
     "text": [
      "100%|██████████| 6/6 [00:03<00:00,  1.76it/s]\n"
     ]
    },
    {
     "name": "stdout",
     "output_type": "stream",
     "text": [
      " pid=8212)\u001b[0m Finished\n",
      "Result for DEFAULT_d5176_00006:\n",
      "  accuracy: 0.6444444444444445\n",
      "  date: 2021-12-18_16-23-21\n",
      "  done: true\n",
      "  experiment_id: cbfabb2a2d6a453096091d815934b3db\n",
      "  experiment_tag: 6_batch_size=30,learning_rate=0.071651,num_epochs=10\n",
      "  hostname: WSTOMAS21\n",
      "  iterations_since_restore: 10\n",
      "  loss: 0.9077901144822439\n",
      "  node_ip: 127.0.0.1\n",
      "  pid: 8212\n",
      "  should_checkpoint: true\n",
      "  time_since_restore: 71.96035289764404\n",
      "  time_this_iter_s: 6.983595371246338\n",
      "  time_total_s: 71.96035289764404\n",
      "  timestamp: 1639841001\n",
      "  timesteps_since_restore: 0\n",
      "  training_iteration: 10\n",
      "  trial_id: d5176_00006\n",
      "  \n",
      " pid=22492)\u001b[0m 2080nc\n",
      "== Status ==\n",
      "Current time: 2021-12-18 16:23:24 (running for 00:04:22.13)\n",
      "Memory usage on this node: 15.9/47.6 GiB\n",
      "Using AsyncHyperBand: num_stopped=2\n",
      "Bracket: Iter 8.000: -0.9079552988211314 | Iter 4.000: -0.9210878908634186 | Iter 2.000: -0.9694160421689352 | Iter 1.000: -1.1011452211274042\n",
      "Resources requested: 1.0/12 CPUs, 1.0/1 GPUs, 0.0/20.19 GiB heap, 0.0/10.09 GiB objects\n",
      "Result logdir: C:\\Users\\Tomas\\ray_results\\DEFAULT_2021-12-18_16-19-02\n",
      "Number of trials: 10/10 (2 PENDING, 1 RUNNING, 7 TERMINATED)\n",
      "+---------------------+------------+-----------------+--------------+-----------------+--------------+----------+\n",
      "| Trial name          | status     | loc             |   batch_size |   learning_rate |   num_epochs |     loss |\n",
      "|---------------------+------------+-----------------+--------------+-----------------+--------------+----------|\n",
      "| DEFAULT_d5176_00007 | RUNNING    | 127.0.0.1:22492 |           50 |     0.00124637  |            4 |          |\n",
      "| DEFAULT_d5176_00008 | PENDING    |                 |          100 |     0.000408916 |            5 |          |\n",
      "| DEFAULT_d5176_00009 | PENDING    |                 |           50 |     0.0215958   |            4 |          |\n",
      "| DEFAULT_d5176_00000 | TERMINATED | 127.0.0.1:26304 |           10 |     0.000667685 |            5 | 1.08035  |\n",
      "| DEFAULT_d5176_00001 | TERMINATED | 127.0.0.1:3772  |           10 |     0.00173855  |            5 | 1.07983  |\n",
      "| DEFAULT_d5176_00002 | TERMINATED | 127.0.0.1:25788 |           30 |     0.0378417   |            5 | 0.912973 |\n",
      "| DEFAULT_d5176_00003 | TERMINATED | 127.0.0.1:20196 |          100 |     0.00147783  |           10 | 1.12166  |\n",
      "| DEFAULT_d5176_00004 | TERMINATED | 127.0.0.1:272   |           10 |     0.0125708   |            4 | 0.921088 |\n",
      "| DEFAULT_d5176_00005 | TERMINATED | 127.0.0.1:26052 |           10 |     0.000160196 |            4 | 1.12249  |\n",
      "| DEFAULT_d5176_00006 | TERMINATED | 127.0.0.1:8212  |           30 |     0.0716515   |           10 | 0.90779  |\n",
      "+---------------------+------------+-----------------+--------------+-----------------+--------------+----------+\n",
      "\n",
      "\n"
     ]
    },
    {
     "name": "stderr",
     "output_type": "stream",
     "text": [
      "  0%|          | 0/9 [00:00<?, ?it/s]\n"
     ]
    },
    {
     "name": "stdout",
     "output_type": "stream",
     "text": [
      "== Status ==\n",
      "Current time: 2021-12-18 16:23:29 (running for 00:04:27.19)\n",
      "Memory usage on this node: 17.4/47.6 GiB\n",
      "Using AsyncHyperBand: num_stopped=2\n",
      "Bracket: Iter 8.000: -0.9079552988211314 | Iter 4.000: -0.9210878908634186 | Iter 2.000: -0.9694160421689352 | Iter 1.000: -1.1011452211274042\n",
      "Resources requested: 1.0/12 CPUs, 1.0/1 GPUs, 0.0/20.19 GiB heap, 0.0/10.09 GiB objects\n",
      "Result logdir: C:\\Users\\Tomas\\ray_results\\DEFAULT_2021-12-18_16-19-02\n",
      "Number of trials: 10/10 (2 PENDING, 1 RUNNING, 7 TERMINATED)\n",
      "+---------------------+------------+-----------------+--------------+-----------------+--------------+----------+\n",
      "| Trial name          | status     | loc             |   batch_size |   learning_rate |   num_epochs |     loss |\n",
      "|---------------------+------------+-----------------+--------------+-----------------+--------------+----------|\n",
      "| DEFAULT_d5176_00007 | RUNNING    | 127.0.0.1:22492 |           50 |     0.00124637  |            4 |          |\n",
      "| DEFAULT_d5176_00008 | PENDING    |                 |          100 |     0.000408916 |            5 |          |\n",
      "| DEFAULT_d5176_00009 | PENDING    |                 |           50 |     0.0215958   |            4 |          |\n",
      "| DEFAULT_d5176_00000 | TERMINATED | 127.0.0.1:26304 |           10 |     0.000667685 |            5 | 1.08035  |\n",
      "| DEFAULT_d5176_00001 | TERMINATED | 127.0.0.1:3772  |           10 |     0.00173855  |            5 | 1.07983  |\n",
      "| DEFAULT_d5176_00002 | TERMINATED | 127.0.0.1:25788 |           30 |     0.0378417   |            5 | 0.912973 |\n",
      "| DEFAULT_d5176_00003 | TERMINATED | 127.0.0.1:20196 |          100 |     0.00147783  |           10 | 1.12166  |\n",
      "| DEFAULT_d5176_00004 | TERMINATED | 127.0.0.1:272   |           10 |     0.0125708   |            4 | 0.921088 |\n",
      "| DEFAULT_d5176_00005 | TERMINATED | 127.0.0.1:26052 |           10 |     0.000160196 |            4 | 1.12249  |\n",
      "| DEFAULT_d5176_00006 | TERMINATED | 127.0.0.1:8212  |           30 |     0.0716515   |           10 | 0.90779  |\n",
      "+---------------------+------------+-----------------+--------------+-----------------+--------------+----------+\n",
      "\n",
      "\n"
     ]
    },
    {
     "name": "stderr",
     "output_type": "stream",
     "text": [
      " pid=22492)\u001b[0m C:\\Users\\Tomas\\anaconda3\\lib\\site-packages\\torch\\nn\\functional.py:1794: UserWarning: nn.functional.tanh is deprecated. Use torch.tanh instead.\n",
      " pid=22492)\u001b[0m   warnings.warn(\"nn.functional.tanh is deprecated. Use torch.tanh instead.\")\n",
      " 11%|█         | 1/9 [00:04<00:35,  4.38s/it]\n",
      "100%|██████████| 9/9 [00:04<00:00,  1.93it/s]\n",
      "  0%|          | 0/4 [00:00<?, ?it/s]\n",
      " 25%|██▌       | 1/4 [00:03<00:09,  3.04s/it]\n",
      "100%|██████████| 4/4 [00:03<00:00,  1.23it/s]\n"
     ]
    },
    {
     "name": "stdout",
     "output_type": "stream",
     "text": [
      "Result for DEFAULT_d5176_00007:\n",
      "  accuracy: 0.32222222222222224\n",
      "  date: 2021-12-18_16-23-33\n",
      "  done: true\n",
      "  experiment_id: 5c7ccb22f8fb43969b1533f508401c62\n",
      "  hostname: WSTOMAS21\n",
      "  iterations_since_restore: 1\n",
      "  loss: 1.1353926062583923\n",
      "  node_ip: 127.0.0.1\n",
      "  pid: 22492\n",
      "  should_checkpoint: true\n",
      "  time_since_restore: 9.557703495025635\n",
      "  time_this_iter_s: 9.557703495025635\n",
      "  time_total_s: 9.557703495025635\n",
      "  timestamp: 1639841013\n",
      "  timesteps_since_restore: 0\n",
      "  training_iteration: 1\n",
      "  trial_id: d5176_00007\n",
      "  \n",
      "== Status ==\n",
      "Current time: 2021-12-18 16:23:35 (running for 00:04:32.54)\n",
      "Memory usage on this node: 15.1/47.6 GiB\n",
      "Using AsyncHyperBand: num_stopped=3\n",
      "Bracket: Iter 8.000: -0.9079552988211314 | Iter 4.000: -0.9210878908634186 | Iter 2.000: -0.9694160421689352 | Iter 1.000: -1.1104625629054174\n",
      "Resources requested: 1.0/12 CPUs, 1.0/1 GPUs, 0.0/20.19 GiB heap, 0.0/10.09 GiB objects\n",
      "Result logdir: C:\\Users\\Tomas\\ray_results\\DEFAULT_2021-12-18_16-19-02\n",
      "Number of trials: 10/10 (1 PENDING, 1 RUNNING, 8 TERMINATED)\n",
      "+---------------------+------------+-----------------+--------------+-----------------+--------------+----------+\n",
      "| Trial name          | status     | loc             |   batch_size |   learning_rate |   num_epochs |     loss |\n",
      "|---------------------+------------+-----------------+--------------+-----------------+--------------+----------|\n",
      "| DEFAULT_d5176_00008 | RUNNING    | 127.0.0.1:14312 |          100 |     0.000408916 |            5 |          |\n",
      "| DEFAULT_d5176_00009 | PENDING    |                 |           50 |     0.0215958   |            4 |          |\n",
      "| DEFAULT_d5176_00000 | TERMINATED | 127.0.0.1:26304 |           10 |     0.000667685 |            5 | 1.08035  |\n",
      "| DEFAULT_d5176_00001 | TERMINATED | 127.0.0.1:3772  |           10 |     0.00173855  |            5 | 1.07983  |\n",
      "| DEFAULT_d5176_00002 | TERMINATED | 127.0.0.1:25788 |           30 |     0.0378417   |            5 | 0.912973 |\n",
      "| DEFAULT_d5176_00003 | TERMINATED | 127.0.0.1:20196 |          100 |     0.00147783  |           10 | 1.12166  |\n",
      "| DEFAULT_d5176_00004 | TERMINATED | 127.0.0.1:272   |           10 |     0.0125708   |            4 | 0.921088 |\n",
      "| DEFAULT_d5176_00005 | TERMINATED | 127.0.0.1:26052 |           10 |     0.000160196 |            4 | 1.12249  |\n",
      "| DEFAULT_d5176_00006 | TERMINATED | 127.0.0.1:8212  |           30 |     0.0716515   |           10 | 0.90779  |\n",
      "| DEFAULT_d5176_00007 | TERMINATED | 127.0.0.1:22492 |           50 |     0.00124637  |            4 | 1.13539  |\n",
      "+---------------------+------------+-----------------+--------------+-----------------+--------------+----------+\n",
      "\n",
      "\n",
      " pid=14312)\u001b[0m 2080nc\n",
      "== Status ==\n",
      "Current time: 2021-12-18 16:23:41 (running for 00:04:38.78)\n",
      "Memory usage on this node: 16.1/47.6 GiB\n",
      "Using AsyncHyperBand: num_stopped=3\n",
      "Bracket: Iter 8.000: -0.9079552988211314 | Iter 4.000: -0.9210878908634186 | Iter 2.000: -0.9694160421689352 | Iter 1.000: -1.1104625629054174\n",
      "Resources requested: 1.0/12 CPUs, 1.0/1 GPUs, 0.0/20.19 GiB heap, 0.0/10.09 GiB objects\n",
      "Result logdir: C:\\Users\\Tomas\\ray_results\\DEFAULT_2021-12-18_16-19-02\n",
      "Number of trials: 10/10 (1 PENDING, 1 RUNNING, 8 TERMINATED)\n",
      "+---------------------+------------+-----------------+--------------+-----------------+--------------+----------+\n",
      "| Trial name          | status     | loc             |   batch_size |   learning_rate |   num_epochs |     loss |\n",
      "|---------------------+------------+-----------------+--------------+-----------------+--------------+----------|\n",
      "| DEFAULT_d5176_00008 | RUNNING    | 127.0.0.1:14312 |          100 |     0.000408916 |            5 |          |\n",
      "| DEFAULT_d5176_00009 | PENDING    |                 |           50 |     0.0215958   |            4 |          |\n",
      "| DEFAULT_d5176_00000 | TERMINATED | 127.0.0.1:26304 |           10 |     0.000667685 |            5 | 1.08035  |\n",
      "| DEFAULT_d5176_00001 | TERMINATED | 127.0.0.1:3772  |           10 |     0.00173855  |            5 | 1.07983  |\n",
      "| DEFAULT_d5176_00002 | TERMINATED | 127.0.0.1:25788 |           30 |     0.0378417   |            5 | 0.912973 |\n",
      "| DEFAULT_d5176_00003 | TERMINATED | 127.0.0.1:20196 |          100 |     0.00147783  |           10 | 1.12166  |\n",
      "| DEFAULT_d5176_00004 | TERMINATED | 127.0.0.1:272   |           10 |     0.0125708   |            4 | 0.921088 |\n",
      "| DEFAULT_d5176_00005 | TERMINATED | 127.0.0.1:26052 |           10 |     0.000160196 |            4 | 1.12249  |\n",
      "| DEFAULT_d5176_00006 | TERMINATED | 127.0.0.1:8212  |           30 |     0.0716515   |           10 | 0.90779  |\n",
      "| DEFAULT_d5176_00007 | TERMINATED | 127.0.0.1:22492 |           50 |     0.00124637  |            4 | 1.13539  |\n",
      "+---------------------+------------+-----------------+--------------+-----------------+--------------+----------+\n",
      "\n",
      "\n"
     ]
    },
    {
     "name": "stderr",
     "output_type": "stream",
     "text": [
      "  0%|          | 0/5 [00:00<?, ?it/s]\n",
      " pid=14312)\u001b[0m C:\\Users\\Tomas\\anaconda3\\lib\\site-packages\\torch\\nn\\functional.py:1794: UserWarning: nn.functional.tanh is deprecated. Use torch.tanh instead.\n",
      " pid=14312)\u001b[0m   warnings.warn(\"nn.functional.tanh is deprecated. Use torch.tanh instead.\")\n",
      " 20%|██        | 1/5 [00:04<00:17,  4.27s/it]\n",
      "100%|██████████| 5/5 [00:04<00:00,  1.12it/s]\n",
      "  0%|          | 0/2 [00:00<?, ?it/s]\n"
     ]
    },
    {
     "name": "stdout",
     "output_type": "stream",
     "text": [
      "== Status ==\n",
      "Current time: 2021-12-18 16:23:46 (running for 00:04:43.80)\n",
      "Memory usage on this node: 17.3/47.6 GiB\n",
      "Using AsyncHyperBand: num_stopped=3\n",
      "Bracket: Iter 8.000: -0.9079552988211314 | Iter 4.000: -0.9210878908634186 | Iter 2.000: -0.9694160421689352 | Iter 1.000: -1.1104625629054174\n",
      "Resources requested: 1.0/12 CPUs, 1.0/1 GPUs, 0.0/20.19 GiB heap, 0.0/10.09 GiB objects\n",
      "Result logdir: C:\\Users\\Tomas\\ray_results\\DEFAULT_2021-12-18_16-19-02\n",
      "Number of trials: 10/10 (1 PENDING, 1 RUNNING, 8 TERMINATED)\n",
      "+---------------------+------------+-----------------+--------------+-----------------+--------------+----------+\n",
      "| Trial name          | status     | loc             |   batch_size |   learning_rate |   num_epochs |     loss |\n",
      "|---------------------+------------+-----------------+--------------+-----------------+--------------+----------|\n",
      "| DEFAULT_d5176_00008 | RUNNING    | 127.0.0.1:14312 |          100 |     0.000408916 |            5 |          |\n",
      "| DEFAULT_d5176_00009 | PENDING    |                 |           50 |     0.0215958   |            4 |          |\n",
      "| DEFAULT_d5176_00000 | TERMINATED | 127.0.0.1:26304 |           10 |     0.000667685 |            5 | 1.08035  |\n",
      "| DEFAULT_d5176_00001 | TERMINATED | 127.0.0.1:3772  |           10 |     0.00173855  |            5 | 1.07983  |\n",
      "| DEFAULT_d5176_00002 | TERMINATED | 127.0.0.1:25788 |           30 |     0.0378417   |            5 | 0.912973 |\n",
      "| DEFAULT_d5176_00003 | TERMINATED | 127.0.0.1:20196 |          100 |     0.00147783  |           10 | 1.12166  |\n",
      "| DEFAULT_d5176_00004 | TERMINATED | 127.0.0.1:272   |           10 |     0.0125708   |            4 | 0.921088 |\n",
      "| DEFAULT_d5176_00005 | TERMINATED | 127.0.0.1:26052 |           10 |     0.000160196 |            4 | 1.12249  |\n",
      "| DEFAULT_d5176_00006 | TERMINATED | 127.0.0.1:8212  |           30 |     0.0716515   |           10 | 0.90779  |\n",
      "| DEFAULT_d5176_00007 | TERMINATED | 127.0.0.1:22492 |           50 |     0.00124637  |            4 | 1.13539  |\n",
      "+---------------------+------------+-----------------+--------------+-----------------+--------------+----------+\n",
      "\n",
      "\n"
     ]
    },
    {
     "name": "stderr",
     "output_type": "stream",
     "text": [
      " 50%|█████     | 1/2 [00:03<00:03,  3.24s/it]\n"
     ]
    },
    {
     "name": "stdout",
     "output_type": "stream",
     "text": [
      "Result for DEFAULT_d5176_00008:\n",
      "  accuracy: 0.29444444444444445\n",
      "  date: 2021-12-18_16-23-49\n",
      "  done: true\n",
      "  experiment_id: 964469c8b0494adaaa934d180738980d\n",
      "  hostname: WSTOMAS21\n",
      "  iterations_since_restore: 1\n",
      "  loss: 1.125326156616211\n",
      "  node_ip: 127.0.0.1\n",
      "  pid: 14312\n",
      "  should_checkpoint: true\n",
      "  time_since_restore: 9.537128686904907\n",
      "  time_this_iter_s: 9.537128686904907\n",
      "  time_total_s: 9.537128686904907\n",
      "  timestamp: 1639841029\n",
      "  timesteps_since_restore: 0\n",
      "  training_iteration: 1\n",
      "  trial_id: d5176_00008\n",
      "  \n"
     ]
    },
    {
     "name": "stderr",
     "output_type": "stream",
     "text": [
      "100%|██████████| 2/2 [00:03<00:00,  1.70s/it]\n"
     ]
    },
    {
     "name": "stdout",
     "output_type": "stream",
     "text": [
      "== Status ==\n",
      "Current time: 2021-12-18 16:23:52 (running for 00:04:49.56)\n",
      "Memory usage on this node: 15.1/47.6 GiB\n",
      "Using AsyncHyperBand: num_stopped=4\n",
      "Bracket: Iter 8.000: -0.9079552988211314 | Iter 4.000: -0.9210878908634186 | Iter 2.000: -0.9694160421689352 | Iter 1.000: -1.119779904683431\n",
      "Resources requested: 1.0/12 CPUs, 1.0/1 GPUs, 0.0/20.19 GiB heap, 0.0/10.09 GiB objects\n",
      "Result logdir: C:\\Users\\Tomas\\ray_results\\DEFAULT_2021-12-18_16-19-02\n",
      "Number of trials: 10/10 (1 RUNNING, 9 TERMINATED)\n",
      "+---------------------+------------+-----------------+--------------+-----------------+--------------+----------+\n",
      "| Trial name          | status     | loc             |   batch_size |   learning_rate |   num_epochs |     loss |\n",
      "|---------------------+------------+-----------------+--------------+-----------------+--------------+----------|\n",
      "| DEFAULT_d5176_00009 | RUNNING    | 127.0.0.1:20408 |           50 |     0.0215958   |            4 |          |\n",
      "| DEFAULT_d5176_00000 | TERMINATED | 127.0.0.1:26304 |           10 |     0.000667685 |            5 | 1.08035  |\n",
      "| DEFAULT_d5176_00001 | TERMINATED | 127.0.0.1:3772  |           10 |     0.00173855  |            5 | 1.07983  |\n",
      "| DEFAULT_d5176_00002 | TERMINATED | 127.0.0.1:25788 |           30 |     0.0378417   |            5 | 0.912973 |\n",
      "| DEFAULT_d5176_00003 | TERMINATED | 127.0.0.1:20196 |          100 |     0.00147783  |           10 | 1.12166  |\n",
      "| DEFAULT_d5176_00004 | TERMINATED | 127.0.0.1:272   |           10 |     0.0125708   |            4 | 0.921088 |\n",
      "| DEFAULT_d5176_00005 | TERMINATED | 127.0.0.1:26052 |           10 |     0.000160196 |            4 | 1.12249  |\n",
      "| DEFAULT_d5176_00006 | TERMINATED | 127.0.0.1:8212  |           30 |     0.0716515   |           10 | 0.90779  |\n",
      "| DEFAULT_d5176_00007 | TERMINATED | 127.0.0.1:22492 |           50 |     0.00124637  |            4 | 1.13539  |\n",
      "| DEFAULT_d5176_00008 | TERMINATED | 127.0.0.1:14312 |          100 |     0.000408916 |            5 | 1.12533  |\n",
      "+---------------------+------------+-----------------+--------------+-----------------+--------------+----------+\n",
      "\n",
      "\n",
      " pid=20408)\u001b[0m 2080nc\n",
      "== Status ==\n",
      "Current time: 2021-12-18 16:23:57 (running for 00:04:54.86)\n",
      "Memory usage on this node: 16.0/47.6 GiB\n",
      "Using AsyncHyperBand: num_stopped=4\n",
      "Bracket: Iter 8.000: -0.9079552988211314 | Iter 4.000: -0.9210878908634186 | Iter 2.000: -0.9694160421689352 | Iter 1.000: -1.119779904683431\n",
      "Resources requested: 1.0/12 CPUs, 1.0/1 GPUs, 0.0/20.19 GiB heap, 0.0/10.09 GiB objects\n",
      "Result logdir: C:\\Users\\Tomas\\ray_results\\DEFAULT_2021-12-18_16-19-02\n",
      "Number of trials: 10/10 (1 RUNNING, 9 TERMINATED)\n",
      "+---------------------+------------+-----------------+--------------+-----------------+--------------+----------+\n",
      "| Trial name          | status     | loc             |   batch_size |   learning_rate |   num_epochs |     loss |\n",
      "|---------------------+------------+-----------------+--------------+-----------------+--------------+----------|\n",
      "| DEFAULT_d5176_00009 | RUNNING    | 127.0.0.1:20408 |           50 |     0.0215958   |            4 |          |\n",
      "| DEFAULT_d5176_00000 | TERMINATED | 127.0.0.1:26304 |           10 |     0.000667685 |            5 | 1.08035  |\n",
      "| DEFAULT_d5176_00001 | TERMINATED | 127.0.0.1:3772  |           10 |     0.00173855  |            5 | 1.07983  |\n",
      "| DEFAULT_d5176_00002 | TERMINATED | 127.0.0.1:25788 |           30 |     0.0378417   |            5 | 0.912973 |\n",
      "| DEFAULT_d5176_00003 | TERMINATED | 127.0.0.1:20196 |          100 |     0.00147783  |           10 | 1.12166  |\n",
      "| DEFAULT_d5176_00004 | TERMINATED | 127.0.0.1:272   |           10 |     0.0125708   |            4 | 0.921088 |\n",
      "| DEFAULT_d5176_00005 | TERMINATED | 127.0.0.1:26052 |           10 |     0.000160196 |            4 | 1.12249  |\n",
      "| DEFAULT_d5176_00006 | TERMINATED | 127.0.0.1:8212  |           30 |     0.0716515   |           10 | 0.90779  |\n",
      "| DEFAULT_d5176_00007 | TERMINATED | 127.0.0.1:22492 |           50 |     0.00124637  |            4 | 1.13539  |\n",
      "| DEFAULT_d5176_00008 | TERMINATED | 127.0.0.1:14312 |          100 |     0.000408916 |            5 | 1.12533  |\n",
      "+---------------------+------------+-----------------+--------------+-----------------+--------------+----------+\n",
      "\n",
      "\n"
     ]
    },
    {
     "name": "stderr",
     "output_type": "stream",
     "text": [
      "  0%|          | 0/9 [00:00<?, ?it/s]\n",
      " pid=20408)\u001b[0m C:\\Users\\Tomas\\anaconda3\\lib\\site-packages\\torch\\nn\\functional.py:1794: UserWarning: nn.functional.tanh is deprecated. Use torch.tanh instead.\n",
      " pid=20408)\u001b[0m   warnings.warn(\"nn.functional.tanh is deprecated. Use torch.tanh instead.\")\n",
      " 11%|█         | 1/9 [00:04<00:33,  4.19s/it]\n",
      "100%|██████████| 9/9 [00:04<00:00,  2.06it/s]\n",
      "  0%|          | 0/4 [00:00<?, ?it/s]\n"
     ]
    },
    {
     "name": "stdout",
     "output_type": "stream",
     "text": [
      "== Status ==\n",
      "Current time: 2021-12-18 16:24:02 (running for 00:04:59.91)\n",
      "Memory usage on this node: 17.2/47.6 GiB\n",
      "Using AsyncHyperBand: num_stopped=4\n",
      "Bracket: Iter 8.000: -0.9079552988211314 | Iter 4.000: -0.9210878908634186 | Iter 2.000: -0.9694160421689352 | Iter 1.000: -1.119779904683431\n",
      "Resources requested: 1.0/12 CPUs, 1.0/1 GPUs, 0.0/20.19 GiB heap, 0.0/10.09 GiB objects\n",
      "Result logdir: C:\\Users\\Tomas\\ray_results\\DEFAULT_2021-12-18_16-19-02\n",
      "Number of trials: 10/10 (1 RUNNING, 9 TERMINATED)\n",
      "+---------------------+------------+-----------------+--------------+-----------------+--------------+----------+\n",
      "| Trial name          | status     | loc             |   batch_size |   learning_rate |   num_epochs |     loss |\n",
      "|---------------------+------------+-----------------+--------------+-----------------+--------------+----------|\n",
      "| DEFAULT_d5176_00009 | RUNNING    | 127.0.0.1:20408 |           50 |     0.0215958   |            4 |          |\n",
      "| DEFAULT_d5176_00000 | TERMINATED | 127.0.0.1:26304 |           10 |     0.000667685 |            5 | 1.08035  |\n",
      "| DEFAULT_d5176_00001 | TERMINATED | 127.0.0.1:3772  |           10 |     0.00173855  |            5 | 1.07983  |\n",
      "| DEFAULT_d5176_00002 | TERMINATED | 127.0.0.1:25788 |           30 |     0.0378417   |            5 | 0.912973 |\n",
      "| DEFAULT_d5176_00003 | TERMINATED | 127.0.0.1:20196 |          100 |     0.00147783  |           10 | 1.12166  |\n",
      "| DEFAULT_d5176_00004 | TERMINATED | 127.0.0.1:272   |           10 |     0.0125708   |            4 | 0.921088 |\n",
      "| DEFAULT_d5176_00005 | TERMINATED | 127.0.0.1:26052 |           10 |     0.000160196 |            4 | 1.12249  |\n",
      "| DEFAULT_d5176_00006 | TERMINATED | 127.0.0.1:8212  |           30 |     0.0716515   |           10 | 0.90779  |\n",
      "| DEFAULT_d5176_00007 | TERMINATED | 127.0.0.1:22492 |           50 |     0.00124637  |            4 | 1.13539  |\n",
      "| DEFAULT_d5176_00008 | TERMINATED | 127.0.0.1:14312 |          100 |     0.000408916 |            5 | 1.12533  |\n",
      "+---------------------+------------+-----------------+--------------+-----------------+--------------+----------+\n",
      "\n",
      "\n"
     ]
    },
    {
     "name": "stderr",
     "output_type": "stream",
     "text": [
      " 25%|██▌       | 1/4 [00:03<00:09,  3.02s/it]\n"
     ]
    },
    {
     "name": "stdout",
     "output_type": "stream",
     "text": [
      "Result for DEFAULT_d5176_00009:\n",
      "  accuracy: 0.4166666666666667\n",
      "  date: 2021-12-18_16-24-05\n",
      "  done: false\n",
      "  experiment_id: 0c1cf5a6637840528d0ddfac04451852\n",
      "  hostname: WSTOMAS21\n",
      "  iterations_since_restore: 1\n",
      "  loss: 1.0861102938652039\n",
      "  node_ip: 127.0.0.1\n",
      "  pid: 20408\n",
      "  should_checkpoint: true\n",
      "  time_since_restore: 9.132593154907227\n",
      "  time_this_iter_s: 9.132593154907227\n",
      "  time_total_s: 9.132593154907227\n",
      "  timestamp: 1639841045\n",
      "  timesteps_since_restore: 0\n",
      "  training_iteration: 1\n",
      "  trial_id: d5176_00009\n",
      "  \n"
     ]
    },
    {
     "name": "stderr",
     "output_type": "stream",
     "text": [
      "100%|██████████| 4/4 [00:03<00:00,  1.25it/s]\n",
      "  0%|          | 0/9 [00:00<?, ?it/s]\n"
     ]
    },
    {
     "name": "stdout",
     "output_type": "stream",
     "text": [
      "== Status ==\n",
      "Current time: 2021-12-18 16:24:07 (running for 00:05:05.04)\n",
      "Memory usage on this node: 17.3/47.6 GiB\n",
      "Using AsyncHyperBand: num_stopped=4\n",
      "Bracket: Iter 8.000: -0.9079552988211314 | Iter 4.000: -0.9210878908634186 | Iter 2.000: -0.9694160421689352 | Iter 1.000: -1.1104625629054174\n",
      "Resources requested: 1.0/12 CPUs, 1.0/1 GPUs, 0.0/20.19 GiB heap, 0.0/10.09 GiB objects\n",
      "Result logdir: C:\\Users\\Tomas\\ray_results\\DEFAULT_2021-12-18_16-19-02\n",
      "Number of trials: 10/10 (1 RUNNING, 9 TERMINATED)\n",
      "+---------------------+------------+-----------------+--------------+-----------------+--------------+----------+\n",
      "| Trial name          | status     | loc             |   batch_size |   learning_rate |   num_epochs |     loss |\n",
      "|---------------------+------------+-----------------+--------------+-----------------+--------------+----------|\n",
      "| DEFAULT_d5176_00009 | RUNNING    | 127.0.0.1:20408 |           50 |     0.0215958   |            4 | 1.08611  |\n",
      "| DEFAULT_d5176_00000 | TERMINATED | 127.0.0.1:26304 |           10 |     0.000667685 |            5 | 1.08035  |\n",
      "| DEFAULT_d5176_00001 | TERMINATED | 127.0.0.1:3772  |           10 |     0.00173855  |            5 | 1.07983  |\n",
      "| DEFAULT_d5176_00002 | TERMINATED | 127.0.0.1:25788 |           30 |     0.0378417   |            5 | 0.912973 |\n",
      "| DEFAULT_d5176_00003 | TERMINATED | 127.0.0.1:20196 |          100 |     0.00147783  |           10 | 1.12166  |\n",
      "| DEFAULT_d5176_00004 | TERMINATED | 127.0.0.1:272   |           10 |     0.0125708   |            4 | 0.921088 |\n",
      "| DEFAULT_d5176_00005 | TERMINATED | 127.0.0.1:26052 |           10 |     0.000160196 |            4 | 1.12249  |\n",
      "| DEFAULT_d5176_00006 | TERMINATED | 127.0.0.1:8212  |           30 |     0.0716515   |           10 | 0.90779  |\n",
      "| DEFAULT_d5176_00007 | TERMINATED | 127.0.0.1:22492 |           50 |     0.00124637  |            4 | 1.13539  |\n",
      "| DEFAULT_d5176_00008 | TERMINATED | 127.0.0.1:14312 |          100 |     0.000408916 |            5 | 1.12533  |\n",
      "+---------------------+------------+-----------------+--------------+-----------------+--------------+----------+\n",
      "\n",
      "\n"
     ]
    },
    {
     "name": "stderr",
     "output_type": "stream",
     "text": [
      " 11%|█         | 1/9 [00:03<00:24,  3.08s/it]\n",
      "100%|██████████| 9/9 [00:03<00:00,  2.72it/s]\n",
      "  0%|          | 0/4 [00:00<?, ?it/s]\n",
      " 25%|██▌       | 1/4 [00:03<00:09,  3.16s/it]\n",
      "100%|██████████| 4/4 [00:03<00:00,  1.20it/s]\n",
      "2021-12-18 16:24:12,535\tINFO tune.py:626 -- Total run time: 310.07 seconds (309.67 seconds for the tuning loop).\n"
     ]
    },
    {
     "name": "stdout",
     "output_type": "stream",
     "text": [
      "Result for DEFAULT_d5176_00009:\n",
      "  accuracy: 0.5166666666666667\n",
      "  date: 2021-12-18_16-24-12\n",
      "  done: true\n",
      "  experiment_id: 0c1cf5a6637840528d0ddfac04451852\n",
      "  hostname: WSTOMAS21\n",
      "  iterations_since_restore: 2\n",
      "  loss: 1.0201688557863235\n",
      "  node_ip: 127.0.0.1\n",
      "  pid: 20408\n",
      "  should_checkpoint: true\n",
      "  time_since_restore: 15.806646347045898\n",
      "  time_this_iter_s: 6.674053192138672\n",
      "  time_total_s: 15.806646347045898\n",
      "  timestamp: 1639841052\n",
      "  timesteps_since_restore: 0\n",
      "  training_iteration: 2\n",
      "  trial_id: d5176_00009\n",
      "  \n",
      "== Status ==\n",
      "Current time: 2021-12-18 16:24:12 (running for 00:05:09.68)\n",
      "Memory usage on this node: 17.2/47.6 GiB\n",
      "Using AsyncHyperBand: num_stopped=5\n",
      "Bracket: Iter 8.000: -0.9079552988211314 | Iter 4.000: -0.9210878908634186 | Iter 2.000: -0.9947924489776294 | Iter 1.000: -1.1104625629054174\n",
      "Resources requested: 0/12 CPUs, 0/1 GPUs, 0.0/20.19 GiB heap, 0.0/10.09 GiB objects\n",
      "Result logdir: C:\\Users\\Tomas\\ray_results\\DEFAULT_2021-12-18_16-19-02\n",
      "Number of trials: 10/10 (10 TERMINATED)\n",
      "+---------------------+------------+-----------------+--------------+-----------------+--------------+----------+\n",
      "| Trial name          | status     | loc             |   batch_size |   learning_rate |   num_epochs |     loss |\n",
      "|---------------------+------------+-----------------+--------------+-----------------+--------------+----------|\n",
      "| DEFAULT_d5176_00000 | TERMINATED | 127.0.0.1:26304 |           10 |     0.000667685 |            5 | 1.08035  |\n",
      "| DEFAULT_d5176_00001 | TERMINATED | 127.0.0.1:3772  |           10 |     0.00173855  |            5 | 1.07983  |\n",
      "| DEFAULT_d5176_00002 | TERMINATED | 127.0.0.1:25788 |           30 |     0.0378417   |            5 | 0.912973 |\n",
      "| DEFAULT_d5176_00003 | TERMINATED | 127.0.0.1:20196 |          100 |     0.00147783  |           10 | 1.12166  |\n",
      "| DEFAULT_d5176_00004 | TERMINATED | 127.0.0.1:272   |           10 |     0.0125708   |            4 | 0.921088 |\n",
      "| DEFAULT_d5176_00005 | TERMINATED | 127.0.0.1:26052 |           10 |     0.000160196 |            4 | 1.12249  |\n",
      "| DEFAULT_d5176_00006 | TERMINATED | 127.0.0.1:8212  |           30 |     0.0716515   |           10 | 0.90779  |\n",
      "| DEFAULT_d5176_00007 | TERMINATED | 127.0.0.1:22492 |           50 |     0.00124637  |            4 | 1.13539  |\n",
      "| DEFAULT_d5176_00008 | TERMINATED | 127.0.0.1:14312 |          100 |     0.000408916 |            5 | 1.12533  |\n",
      "| DEFAULT_d5176_00009 | TERMINATED | 127.0.0.1:20408 |           50 |     0.0215958   |            4 | 1.02017  |\n",
      "+---------------------+------------+-----------------+--------------+-----------------+--------------+----------+\n",
      "\n",
      "\n",
      "Best trial config: {'num_epochs': 10, 'learning_rate': 0.07165149868611925, 'batch_size': 30}\n",
      "Best trial final validation loss: 0.9077901144822439\n",
      "Best trial final validation accuracy: 0.6444444444444445\n"
     ]
    }
   ],
   "source": [
    "main(num_samples=10, gpus_per_trial=1)"
   ]
  },
  {
   "cell_type": "code",
   "execution_count": null,
   "metadata": {},
   "outputs": [],
   "source": []
  }
 ],
 "metadata": {
  "colab": {
   "collapsed_sections": [],
   "name": "CNN Exploration notebook.ipynb",
   "provenance": []
  },
  "kernelspec": {
   "display_name": "Python 3",
   "language": "python",
   "name": "python3"
  },
  "language_info": {
   "codemirror_mode": {
    "name": "ipython",
    "version": 3
   },
   "file_extension": ".py",
   "mimetype": "text/x-python",
   "name": "python",
   "nbconvert_exporter": "python",
   "pygments_lexer": "ipython3",
   "version": "3.7.4"
  }
 },
 "nbformat": 4,
 "nbformat_minor": 4
}
