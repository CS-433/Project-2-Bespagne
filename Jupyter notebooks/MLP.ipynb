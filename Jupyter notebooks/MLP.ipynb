{
 "cells": [
  {
   "cell_type": "code",
   "execution_count": 26,
   "metadata": {
    "id": "P59ipBJksY9N"
   },
   "outputs": [],
   "source": [
    "# Imports\n",
    "import torch\n",
    "import torchvision # torch package for vision related things\n",
    "import torch.nn.functional as F  # Parameterless functions, like (some) activation functions\n",
    "import torchvision.datasets as datasets  # Standard datasets\n",
    "import torchvision.transforms as transforms  # Transformations we can perform on our dataset for augmentation\n",
    "from torch import optim  # For optimizers like SGD, Adam, etc.\n",
    "from torch import nn  # All neural network modules\n",
    "from torch.utils.data import DataLoader  # Gives easier dataset managment by creating mini batches etc.\n",
    "from tqdm import tqdm  # For nice progress bar!\n",
    "from sklearn.model_selection import KFold\n",
    "\n",
    "import numpy as np\n",
    "import os\n",
    "import pandas as pd\n",
    "\n",
    "import torch.optim as optim\n",
    "from torch.utils.data import TensorDataset, DataLoader\n",
    "from torch.utils.data import random_split\n",
    "import torch.nn as nn\n",
    "\n",
    "from ray import tune\n",
    "from ray.tune import CLIReporter\n",
    "from ray.tune.schedulers import ASHAScheduler\n",
    "from functools import partial"
   ]
  },
  {
   "cell_type": "code",
   "execution_count": 53,
   "metadata": {},
   "outputs": [],
   "source": [
    "# Hyperparameters of our neural network which depends on the dataset, and\n",
    "# also just experimenting to see what works well (learning rate for example).\n",
    "input_size = 3 * 100\n",
    "num_classes = 3\n",
    "learning_rate = 0.017287600194096035\n",
    "batch_size = 10\n",
    "num_epochs = 5"
   ]
  },
  {
   "cell_type": "code",
   "execution_count": 54,
   "metadata": {},
   "outputs": [],
   "source": [
    "#Create fully connected Network\n",
    "class MLP(nn.Module):\n",
    "    def __init__(self, input_size = input_size, num_classes = num_classes):\n",
    "        super(MLP, self).__init__()\n",
    "        self.fc1 = nn.Linear(input_size, 50)\n",
    "        self.fc2 = nn.Linear(50, 25)\n",
    "        self.fc3 = nn.Linear(25, 10)\n",
    "        self.fc4 = nn.Linear(10, num_classes)\n",
    "\n",
    "    def forward(self, x):\n",
    "        x = F.relu(self.fc1(x))\n",
    "        x = F.relu(self.fc2(x))\n",
    "        x = F.relu(self.fc3(x))\n",
    "        x = self.fc4(x)\n",
    "        return x\n"
   ]
  },
  {
   "cell_type": "code",
   "execution_count": 55,
   "metadata": {
    "id": "KTyYtlf81jiE"
   },
   "outputs": [],
   "source": [
    "# Set device cuda for GPU if it's available otherwise run on the CPU\n",
    "device = torch.device(\"cuda\" if torch.cuda.is_available() else \"cpu\")"
   ]
  },
  {
   "cell_type": "code",
   "execution_count": 56,
   "metadata": {
    "colab": {
     "base_uri": "https://localhost:8080/"
    },
    "id": "yThwqFLl2ki6",
    "outputId": "e6709d0b-4ee9-458f-d5be-e8675f917655"
   },
   "outputs": [],
   "source": [
    "#load in the data\n",
    "###from google.colab import drive\n",
    "###drive.mount('/content/drive')"
   ]
  },
  {
   "cell_type": "code",
   "execution_count": 57,
   "metadata": {
    "colab": {
     "base_uri": "https://localhost:8080/"
    },
    "id": "CVv2icLw3vGl",
    "outputId": "591b964f-798d-4804-991d-c0d8f02510c4"
   },
   "outputs": [],
   "source": [
    "#load labels\n",
    "###labels = np.genfromtxt('/content/drive/MyDrive/ML Project 2/Features/Labels/avg_smooth_5.csv', delimiter=',')\n",
    "labels = np.genfromtxt('Data/Labels/avg_smooth.csv', delimiter=',')\n",
    "#print(labels)"
   ]
  },
  {
   "cell_type": "code",
   "execution_count": 58,
   "metadata": {
    "colab": {
     "base_uri": "https://localhost:8080/"
    },
    "id": "ykIdYxPv7E3E",
    "outputId": "da89c66c-181c-41f5-f1ed-c022cdee5d8e"
   },
   "outputs": [],
   "source": [
    "#make labels categorical: 6 quantification levels\n",
    "df_labels = pd.DataFrame(labels)\n",
    "df_labels = pd.cut(df_labels[0],bins=[0, 0.01, 0.02, 0.03],labels=[0,1,2])\n",
    "labels = df_labels.to_numpy()\n",
    "#print(labels)"
   ]
  },
  {
   "cell_type": "code",
   "execution_count": 59,
   "metadata": {
    "colab": {
     "base_uri": "https://localhost:8080/"
    },
    "id": "BWHBj7xy30wD",
    "outputId": "f99e8cc7-7e43-447e-a839-a54f578d2d0e"
   },
   "outputs": [
    {
     "name": "stdout",
     "output_type": "stream",
     "text": [
      "(600, 300) (600,)\n"
     ]
    }
   ],
   "source": [
    "#load .npy files into one big array\n",
    "data = []\n",
    "###dir = '/content/drive/MyDrive/ML Project 2/Features/Feature arrays/'\n",
    "dir = 'Data/input_MLP/'\n",
    "pac = np.load('Data/PAC_afterCNN.npy')\n",
    "for filename in os.listdir(dir):\n",
    "    sample = np.load(dir+filename)\n",
    "    data.append(sample.flatten())\n",
    "data = np.array(data)\n",
    "#data = np.expand_dims(data,1)\n",
    "print(data.shape, labels.shape)"
   ]
  },
  {
   "cell_type": "code",
   "execution_count": 60,
   "metadata": {
    "colab": {
     "base_uri": "https://localhost:8080/"
    },
    "id": "Z4DJ91Bw39Qr",
    "outputId": "288aed41-3173-44e1-85e3-4c45805ed0ba"
   },
   "outputs": [],
   "source": [
    "#transform data to torch tensors\n",
    "tensor_x = torch.Tensor(data)\n",
    "tensor_y = torch.Tensor(labels)\n",
    "tensor_y = tensor_y.type(torch.LongTensor)\n",
    "###print(tensor_y)"
   ]
  },
  {
   "cell_type": "code",
   "execution_count": 61,
   "metadata": {
    "colab": {
     "base_uri": "https://localhost:8080/"
    },
    "id": "3jtBPAo13-Ip",
    "outputId": "488bf29f-d9ab-4159-85fe-8ad03b3cd2b1"
   },
   "outputs": [
    {
     "name": "stdout",
     "output_type": "stream",
     "text": [
      "Length of Train Data : 420\n",
      "Length of Test Data : 180\n"
     ]
    }
   ],
   "source": [
    "#create dataset and data loader\n",
    "dataset = TensorDataset(tensor_x,tensor_y)\n",
    "\n",
    "#split into train and test sets\n",
    "#treat as hyperparameters later on\n",
    "#batch_size = 10\n",
    "test_size = int(0.3*len(dataset))\n",
    "train_size = len(dataset) - test_size\n",
    "\n",
    "train_data,test_data = random_split(dataset,[train_size,test_size])\n",
    "print(f\"Length of Train Data : {len(train_data)}\")\n",
    "print(f\"Length of Test Data : {len(test_data)}\")\n",
    "\n",
    "train_loader = DataLoader(train_data, batch_size, shuffle = False, num_workers = 4, pin_memory = True)\n",
    "test_loader = DataLoader(test_data, batch_size, shuffle = False, num_workers = 4, pin_memory = True)"
   ]
  },
  {
   "cell_type": "code",
   "execution_count": 62,
   "metadata": {
    "id": "91jmASCZ4bq3"
   },
   "outputs": [],
   "source": [
    "# Initialize network\n",
    "model = MLP(input_size, num_classes).to(device)\n",
    "# Loss and optimizer\n",
    "criterion = nn.CrossEntropyLoss()\n",
    "optimizer = torch.optim.Adam(model.parameters(), lr=learning_rate)"
   ]
  },
  {
   "cell_type": "code",
   "execution_count": 63,
   "metadata": {
    "colab": {
     "base_uri": "https://localhost:8080/",
     "height": 487
    },
    "id": "MzJwoTwo5GXK",
    "outputId": "8fe3cb9e-0df0-4c4c-8133-823d5fc54236"
   },
   "outputs": [
    {
     "name": "stderr",
     "output_type": "stream",
     "text": [
      "100%|██████████████████████████████████████████████████████████████████████████████████| 42/42 [00:01<00:00, 25.24it/s]\n",
      "100%|██████████████████████████████████████████████████████████████████████████████████| 42/42 [00:01<00:00, 25.59it/s]\n",
      "100%|██████████████████████████████████████████████████████████████████████████████████| 42/42 [00:01<00:00, 25.50it/s]\n",
      "100%|██████████████████████████████████████████████████████████████████████████████████| 42/42 [00:01<00:00, 23.90it/s]\n",
      "100%|██████████████████████████████████████████████████████████████████████████████████| 42/42 [00:01<00:00, 24.16it/s]\n"
     ]
    }
   ],
   "source": [
    "#train network\n",
    "for epoch in range(num_epochs):\n",
    "    for batch_idx, (data, labels) in enumerate(tqdm(train_loader)):\n",
    "        # Get data to cuda if possible\n",
    "        data = data.to(device=device)\n",
    "        targets = labels.to(device=device)\n",
    "        # Get to correct shape\n",
    "        ###data = data.reshape(data.shape[0], -1)\n",
    "        ###data = data.reshape(-1, )\n",
    "        ###data = data.reshape(-1, 3, 110, 40)\n",
    "        #print(data.shape)\n",
    "\n",
    "        # forward\n",
    "        scores = model(data)\n",
    "        loss = criterion(scores, targets)\n",
    "\n",
    "        # backward\n",
    "        optimizer.zero_grad()\n",
    "        loss.backward()\n",
    "\n",
    "        # gradient descent or adam step\n",
    "        optimizer.step()"
   ]
  },
  {
   "cell_type": "code",
   "execution_count": 64,
   "metadata": {
    "colab": {
     "base_uri": "https://localhost:8080/"
    },
    "id": "nChZUmnc87vM",
    "outputId": "52cf4feb-af4f-4fab-ef19-22e97045d7af"
   },
   "outputs": [
    {
     "name": "stdout",
     "output_type": "stream",
     "text": [
      "Accuracy on training set: 73.10\n",
      "Accuracy on test set: 65.56\n"
     ]
    }
   ],
   "source": [
    "# Check accuracy on training & test to see how good our model\n",
    "def check_accuracy(loader, model):\n",
    "    num_correct = 0\n",
    "    num_samples = 0\n",
    "    model.eval()\n",
    "\n",
    "    with torch.no_grad():\n",
    "        for x, y in loader:\n",
    "            x = x.to(device=device)\n",
    "            y = y.to(device=device)\n",
    "            #x = x.reshape(x.shape[0], -1)\n",
    "\n",
    "            scores = model(x)\n",
    "            _, predictions = scores.max(1)\n",
    "            num_correct += (predictions == y).sum()\n",
    "            num_samples += predictions.size(0)\n",
    "\n",
    "    model.train()\n",
    "    return num_correct/num_samples\n",
    "\n",
    "\n",
    "print(f\"Accuracy on training set: {check_accuracy(train_loader, model)*100:.2f}\")\n",
    "print(f\"Accuracy on test set: {check_accuracy(test_loader, model)*100:.2f}\")"
   ]
  },
  {
   "cell_type": "code",
   "execution_count": 68,
   "metadata": {
    "id": "uUYQ4Ha_AYfe"
   },
   "outputs": [],
   "source": [
    "# Define the K-fold Cross Validator\n",
    "k_folds = 5\n",
    "kfold = KFold(n_splits=k_folds, shuffle=False)"
   ]
  },
  {
   "cell_type": "code",
   "execution_count": 69,
   "metadata": {},
   "outputs": [],
   "source": [
    "def reset_weights(m):\n",
    "  '''\n",
    "    Try resetting model weights to avoid\n",
    "    weight leakage.\n",
    "  '''\n",
    "  for layer in m.children():\n",
    "        if hasattr(layer, 'reset_parameters'):\n",
    "            #print(f'Reset trainable parameters of layer = {layer}')\n",
    "            layer.reset_parameters()"
   ]
  },
  {
   "cell_type": "code",
   "execution_count": 70,
   "metadata": {},
   "outputs": [
    {
     "name": "stderr",
     "output_type": "stream",
     "text": [
      "100%|█████████████████████████████████████████████████████████████████████████████████| 48/48 [00:00<00:00, 334.77it/s]\n",
      "  0%|                                                                                           | 0/48 [00:00<?, ?it/s]"
     ]
    },
    {
     "name": "stdout",
     "output_type": "stream",
     "text": [
      "Fold 0\n"
     ]
    },
    {
     "name": "stderr",
     "output_type": "stream",
     "text": [
      "100%|█████████████████████████████████████████████████████████████████████████████████| 48/48 [00:00<00:00, 356.51it/s]\n",
      "100%|█████████████████████████████████████████████████████████████████████████████████| 48/48 [00:00<00:00, 353.88it/s]\n",
      "100%|█████████████████████████████████████████████████████████████████████████████████| 48/48 [00:00<00:00, 351.30it/s]\n",
      "100%|█████████████████████████████████████████████████████████████████████████████████| 48/48 [00:00<00:00, 356.51it/s]\n",
      "100%|█████████████████████████████████████████████████████████████████████████████████| 48/48 [00:00<00:00, 313.71it/s]\n",
      "  0%|                                                                                           | 0/48 [00:00<?, ?it/s]"
     ]
    },
    {
     "name": "stdout",
     "output_type": "stream",
     "text": [
      "Train Accuracy for fold 0: 73 %\n",
      "Test Accuracy for fold 0: 61 %\n",
      "Fold 1\n"
     ]
    },
    {
     "name": "stderr",
     "output_type": "stream",
     "text": [
      "100%|█████████████████████████████████████████████████████████████████████████████████| 48/48 [00:00<00:00, 323.01it/s]\n",
      "100%|█████████████████████████████████████████████████████████████████████████████████| 48/48 [00:00<00:00, 325.19it/s]\n",
      "100%|█████████████████████████████████████████████████████████████████████████████████| 48/48 [00:00<00:00, 343.77it/s]\n",
      "100%|█████████████████████████████████████████████████████████████████████████████████| 48/48 [00:00<00:00, 367.39it/s]\n",
      "100%|█████████████████████████████████████████████████████████████████████████████████| 48/48 [00:00<00:00, 341.34it/s]\n",
      "  0%|                                                                                           | 0/48 [00:00<?, ?it/s]"
     ]
    },
    {
     "name": "stdout",
     "output_type": "stream",
     "text": [
      "Train Accuracy for fold 1: 67 %\n",
      "Test Accuracy for fold 1: 85 %\n",
      "Fold 2\n"
     ]
    },
    {
     "name": "stderr",
     "output_type": "stream",
     "text": [
      "100%|█████████████████████████████████████████████████████████████████████████████████| 48/48 [00:00<00:00, 312.52it/s]\n",
      "100%|█████████████████████████████████████████████████████████████████████████████████| 48/48 [00:00<00:00, 373.08it/s]\n",
      "100%|█████████████████████████████████████████████████████████████████████████████████| 48/48 [00:00<00:00, 375.99it/s]\n",
      "100%|█████████████████████████████████████████████████████████████████████████████████| 48/48 [00:00<00:00, 348.76it/s]\n",
      "100%|█████████████████████████████████████████████████████████████████████████████████| 48/48 [00:00<00:00, 308.52it/s]"
     ]
    },
    {
     "name": "stdout",
     "output_type": "stream",
     "text": [
      "Train Accuracy for fold 2: 69 %\n",
      "Test Accuracy for fold 2: 76 %\n",
      "Fold 3\n"
     ]
    },
    {
     "name": "stderr",
     "output_type": "stream",
     "text": [
      "\n",
      "100%|█████████████████████████████████████████████████████████████████████████████████| 48/48 [00:00<00:00, 327.40it/s]\n",
      "100%|█████████████████████████████████████████████████████████████████████████████████| 48/48 [00:00<00:00, 353.88it/s]\n",
      "100%|█████████████████████████████████████████████████████████████████████████████████| 48/48 [00:00<00:00, 353.89it/s]\n",
      "100%|█████████████████████████████████████████████████████████████████████████████████| 48/48 [00:00<00:00, 312.52it/s]\n",
      "100%|█████████████████████████████████████████████████████████████████████████████████| 48/48 [00:00<00:00, 351.30it/s]\n",
      "  0%|                                                                                           | 0/48 [00:00<?, ?it/s]"
     ]
    },
    {
     "name": "stdout",
     "output_type": "stream",
     "text": [
      "Train Accuracy for fold 3: 73 %\n",
      "Test Accuracy for fold 3: 58 %\n",
      "Fold 4\n"
     ]
    },
    {
     "name": "stderr",
     "output_type": "stream",
     "text": [
      "100%|█████████████████████████████████████████████████████████████████████████████████| 48/48 [00:00<00:00, 359.17it/s]\n",
      "100%|█████████████████████████████████████████████████████████████████████████████████| 48/48 [00:00<00:00, 343.80it/s]\n",
      "100%|█████████████████████████████████████████████████████████████████████████████████| 48/48 [00:00<00:00, 316.64it/s]\n",
      "100%|█████████████████████████████████████████████████████████████████████████████████| 48/48 [00:00<00:00, 318.76it/s]"
     ]
    },
    {
     "name": "stdout",
     "output_type": "stream",
     "text": [
      "Train Accuracy for fold 4: 70 %\n",
      "Test Accuracy for fold 4: 71 %\n",
      "[73.12500476837158, 73.12500476837158, 73.12500476837158, 73.12500476837158, 73.12500476837158, 67.08333492279053, 67.08333492279053, 67.08333492279053, 67.08333492279053, 67.08333492279053, 69.37500238418579, 69.37500238418579, 69.37500238418579, 69.37500238418579, 69.37500238418579, 73.95833730697632, 73.95833730697632, 73.95833730697632, 73.95833730697632, 73.95833730697632, 70.6250011920929, 70.6250011920929, 70.6250011920929, 70.6250011920929, 70.6250011920929]\n",
      "Averaged Train Accuracy over 5 k-folds: 70 %\n",
      "Averaged Test Accuracy over 5 k-folds: 70 %\n"
     ]
    },
    {
     "name": "stderr",
     "output_type": "stream",
     "text": [
      "\n"
     ]
    }
   ],
   "source": [
    "# Check accuracy on training & test to see how good our model\n",
    "def check_accuracy(loader, model):\n",
    "    num_correct = 0\n",
    "    num_samples = 0\n",
    "    model.eval()\n",
    "\n",
    "    with torch.no_grad():\n",
    "        for x, y in loader:\n",
    "            x = x.to(device=device)\n",
    "            y = y.to(device=device)\n",
    "            #x = x.reshape(x.shape[0], -1)\n",
    "\n",
    "            scores = model(x)\n",
    "            _, predictions = scores.max(1)\n",
    "            num_correct += (predictions == y).sum()\n",
    "            num_samples += predictions.size(0)\n",
    "\n",
    "    model.train()\n",
    "    return num_correct/num_samples\n",
    "train_acc = []\n",
    "test_acc = []\n",
    "for fold, (train_ids, test_ids) in enumerate(kfold.split(dataset)):\n",
    "    print(f'Fold {fold}')\n",
    "    model.apply(reset_weights)\n",
    "    train_subsampler = torch.utils.data.SubsetRandomSampler(train_ids)\n",
    "    test_subsampler = torch.utils.data.SubsetRandomSampler(test_ids)\n",
    "    trainloader = torch.utils.data.DataLoader(\n",
    "                      dataset, batch_size=10, sampler=train_subsampler)\n",
    "    testloader = torch.utils.data.DataLoader(\n",
    "                      dataset, batch_size=10, sampler=test_subsampler)\n",
    "    criterion = nn.CrossEntropyLoss()\n",
    "    optimizer = optim.Adam(model.parameters(), lr=learning_rate)\n",
    "    for epoch in range(num_epochs):\n",
    "        for batch_idx, (input_, labels) in enumerate(tqdm(trainloader)):\n",
    "            # Get data to cuda if possible\n",
    "            input_ = input_.to(device=device)\n",
    "            targets = labels.to(device=device)\n",
    "\n",
    "            # forward\n",
    "            scores = model(input_)\n",
    "            loss = criterion(scores, targets)\n",
    "\n",
    "            # backward\n",
    "            optimizer.zero_grad()\n",
    "            loss.backward()\n",
    "\n",
    "            # gradient descent or adam step\n",
    "            optimizer.step()\n",
    "        train_acc.append(check_accuracy(trainloader, model).item()*100)\n",
    "        test_acc.append(check_accuracy(testloader, model).item()*100)\n",
    "    print('Train Accuracy for fold %d: %d %%' % (fold, 100.0 * check_accuracy(trainloader, model)))\n",
    "    print('Test Accuracy for fold %d: %d %%' % (fold, 100.0 * check_accuracy(testloader, model)))\n",
    "print('Averaged Train Accuracy over %d k-folds: %d %%' % (k_folds, np.array(train_acc).mean()))\n",
    "print('Averaged Test Accuracy over %d k-folds: %d %%' % (k_folds, np.array(test_acc).mean()))"
   ]
  },
  {
   "cell_type": "code",
   "execution_count": 38,
   "metadata": {},
   "outputs": [],
   "source": [
    "config = {\n",
    "    \"num_epochs\": tune.choice([2, 5, 10]),\n",
    "    \"lr\": tune.loguniform(1e-4, 1e-1),\n",
    "    \"batch_size\": tune.choice([5, 10, 50, 100])\n",
    "}\n",
    "max_num_epochs = 11"
   ]
  },
  {
   "cell_type": "code",
   "execution_count": 39,
   "metadata": {},
   "outputs": [],
   "source": [
    "def train(config, checkpoint_dir=None):\n",
    "    model = MLP().to(device)\n",
    "    model.apply(reset_weights)\n",
    "    # Loss and optimizer\n",
    "    criterion = nn.CrossEntropyLoss()\n",
    "    optimizer = optim.Adam(model.parameters(), lr=config[\"learning_rate\"])\n",
    "    \n",
    "    if checkpoint_dir:\n",
    "        model_state, optimizer_state = torch.load(\n",
    "            os.path.join(checkpoint_dir, \"checkpoint\"))\n",
    "        net.load_state_dict(model_state)\n",
    "        optimizer.load_state_dict(optimizer_state)\n",
    "    batch_size = config[\"batch_size\"]\n",
    "    train_loader = DataLoader(train_data, batch_size, shuffle = False, num_workers = 2, pin_memory = True)\n",
    "    test_loader = DataLoader(test_data, batch_size, shuffle = False, num_workers = 2, pin_memory = True)\n",
    "    for epoch in range(config[\"num_epochs\"]):\n",
    "        running_loss = 0\n",
    "        epoch_steps = 0\n",
    "        for batch_idx, (data, labels) in enumerate(tqdm(train_loader)):\n",
    "            current_loss = 0\n",
    "            # Get data to cuda if possible\n",
    "            data = data.to(device=device)\n",
    "            targets = labels.to(device=device)\n",
    "            # Get to correct shape\n",
    "            ###data = data.reshape(data.shape[0], -1)\n",
    "            ###data = data.reshape(-1, )\n",
    "            ###data = data.reshape(-1, 3, 110, 40)\n",
    "            #print(data.shape)\n",
    "\n",
    "            # forward\n",
    "            scores = model(data)\n",
    "            loss = criterion(scores, targets)\n",
    "\n",
    "            # backward\n",
    "            optimizer.zero_grad()\n",
    "            loss.backward()\n",
    "\n",
    "            # gradient descent or adam step\n",
    "            optimizer.step()\n",
    "\n",
    "            #print statistics\n",
    "            running_loss += loss.item()\n",
    "            epoch_steps += 1\n",
    "            if batch_idx%500 == 499:\n",
    "                print(\"[%d, %5d] loss: %.3f\" % (epoch + 1, i + 1,\n",
    "                                                running_loss / epoch_steps))\n",
    "                running_loss = 0.0\n",
    "                \n",
    "                \n",
    "        test_loss = 0\n",
    "        test_steps = 0\n",
    "        total = 0\n",
    "        correct = 0\n",
    "        for batch_idx, (data, labels) in enumerate(tqdm(test_loader)):\n",
    "            with torch.no_grad():\n",
    "                data = data.to(device=device)\n",
    "                targets = labels.to(device=device)\n",
    "                scores = model(data)\n",
    "                _, predictions = scores.max(1)\n",
    "                total += predictions.size(0)\n",
    "                correct += (predictions == targets).sum().item()\n",
    "                loss = criterion(scores, targets)\n",
    "                test_loss += loss.cpu().numpy()\n",
    "                test_steps+=1\n",
    "        with tune.checkpoint_dir(epoch) as checkpoint_dir:\n",
    "            path = os.path.join(checkpoint_dir, \"checkpoint\")\n",
    "            torch.save((model.state_dict(), optimizer.state_dict()), path)\n",
    "        tune.report(loss=(test_loss/test_steps), accuracy=correct/total)\n",
    "    print(\"Finished\")"
   ]
  },
  {
   "cell_type": "code",
   "execution_count": 40,
   "metadata": {},
   "outputs": [],
   "source": [
    "max_num_epochs = 11\n",
    "def main(num_samples = 10, gpus_per_trial=1):\n",
    "    config = {\n",
    "    \"num_epochs\": tune.choice([4, 5, 10]),\n",
    "    \"learning_rate\": tune.loguniform(1e-4, 1e-1),\n",
    "    \"batch_size\": tune.choice([10, 30, 50, 100])\n",
    "    }\n",
    "    scheduler = ASHAScheduler(\n",
    "        metric=\"loss\",\n",
    "        mode=\"min\",\n",
    "        max_t = max_num_epochs,\n",
    "        grace_period=1,\n",
    "        reduction_factor=2)\n",
    "    reporter = CLIReporter(metric_columns=[\"loss\", \"accuray\", \"train_iteration\"])\n",
    "    result = tune.run(\n",
    "            partial(train),\n",
    "            resources_per_trial={\"cpu\": 1, \"gpu\": gpus_per_trial},\n",
    "            config=config,\n",
    "            num_samples = num_samples,\n",
    "            scheduler=scheduler,\n",
    "            progress_reporter=reporter)\n",
    "    best_trial = result.get_best_trial(\"loss\", \"min\", \"last\")\n",
    "    print(\"Best trial config: {}\".format(best_trial.config))\n",
    "    print(\"Best trial final validation loss: {}\".format(\n",
    "        best_trial.last_result[\"loss\"]))\n",
    "    print(\"Best trial final validation accuracy: {}\".format(\n",
    "        best_trial.last_result[\"accuracy\"]))\n",
    "    #best_trained_model = model(best_trial)"
   ]
  },
  {
   "cell_type": "code",
   "execution_count": 41,
   "metadata": {},
   "outputs": [
    {
     "name": "stderr",
     "output_type": "stream",
     "text": [
      "2021-12-18 16:46:07,711\tWARNING experiment.py:255 -- No name detected on trainable. Using DEFAULT.\n",
      "2021-12-18 16:46:07,712\tINFO registry.py:69 -- Detected unknown callable for trainable. Converting to class.\n"
     ]
    },
    {
     "name": "stdout",
     "output_type": "stream",
     "text": [
      "== Status ==\n",
      "Current time: 2021-12-18 16:46:08 (running for 00:00:00.31)\n",
      "Memory usage on this node: 17.6/47.6 GiB\n",
      "Using AsyncHyperBand: num_stopped=0\n",
      "Bracket: Iter 8.000: None | Iter 4.000: None | Iter 2.000: None | Iter 1.000: None\n",
      "Resources requested: 0/24 CPUs, 0/2 GPUs, 0.0/38.81 GiB heap, 0.0/19.41 GiB objects\n",
      "Result logdir: C:\\Users\\Tomas\\ray_results\\DEFAULT_2021-12-18_16-46-07\n",
      "Number of trials: 10/10 (10 PENDING)\n",
      "+---------------------+----------+-------+--------------+-----------------+--------------+\n",
      "| Trial name          | status   | loc   |   batch_size |   learning_rate |   num_epochs |\n",
      "|---------------------+----------+-------+--------------+-----------------+--------------|\n",
      "| DEFAULT_9dac2_00000 | PENDING  |       |           50 |     0.00450476  |           10 |\n",
      "| DEFAULT_9dac2_00001 | PENDING  |       |           50 |     0.0106262   |           10 |\n",
      "| DEFAULT_9dac2_00002 | PENDING  |       |           50 |     0.0841042   |           10 |\n",
      "| DEFAULT_9dac2_00003 | PENDING  |       |          100 |     0.0295763   |            5 |\n",
      "| DEFAULT_9dac2_00004 | PENDING  |       |           50 |     0.00857354  |           10 |\n",
      "| DEFAULT_9dac2_00005 | PENDING  |       |           30 |     0.00963307  |            4 |\n",
      "| DEFAULT_9dac2_00006 | PENDING  |       |           10 |     0.0504903   |            5 |\n",
      "| DEFAULT_9dac2_00007 | PENDING  |       |           30 |     0.09042     |            5 |\n",
      "| DEFAULT_9dac2_00008 | PENDING  |       |           10 |     0.0172876   |            5 |\n",
      "| DEFAULT_9dac2_00009 | PENDING  |       |           50 |     0.000934897 |            4 |\n",
      "+---------------------+----------+-------+--------------+-----------------+--------------+\n",
      "\n",
      "\n"
     ]
    },
    {
     "name": "stderr",
     "output_type": "stream",
     "text": [
      "\u001b[2m\u001b[36m(ImplicitFunc\r",
      " pid=25644)\u001b[0m \r",
      "  0%|          | 0/9 [00:00<?, ?it/s]\n"
     ]
    },
    {
     "name": "stdout",
     "output_type": "stream",
     "text": [
      "== Status ==\n",
      "Current time: 2021-12-18 16:46:13 (running for 00:00:05.32)\n",
      "Memory usage on this node: 18.9/47.6 GiB\n",
      "Using AsyncHyperBand: num_stopped=0\n",
      "Bracket: Iter 8.000: None | Iter 4.000: None | Iter 2.000: None | Iter 1.000: None\n",
      "Resources requested: 1.0/24 CPUs, 1.0/2 GPUs, 0.0/38.81 GiB heap, 0.0/19.41 GiB objects\n",
      "Result logdir: C:\\Users\\Tomas\\ray_results\\DEFAULT_2021-12-18_16-46-07\n",
      "Number of trials: 10/10 (9 PENDING, 1 RUNNING)\n",
      "+---------------------+----------+-----------------+--------------+-----------------+--------------+\n",
      "| Trial name          | status   | loc             |   batch_size |   learning_rate |   num_epochs |\n",
      "|---------------------+----------+-----------------+--------------+-----------------+--------------|\n",
      "| DEFAULT_9dac2_00000 | RUNNING  | 127.0.0.1:25644 |           50 |     0.00450476  |           10 |\n",
      "| DEFAULT_9dac2_00001 | PENDING  |                 |           50 |     0.0106262   |           10 |\n",
      "| DEFAULT_9dac2_00002 | PENDING  |                 |           50 |     0.0841042   |           10 |\n",
      "| DEFAULT_9dac2_00003 | PENDING  |                 |          100 |     0.0295763   |            5 |\n",
      "| DEFAULT_9dac2_00004 | PENDING  |                 |           50 |     0.00857354  |           10 |\n",
      "| DEFAULT_9dac2_00005 | PENDING  |                 |           30 |     0.00963307  |            4 |\n",
      "| DEFAULT_9dac2_00006 | PENDING  |                 |           10 |     0.0504903   |            5 |\n",
      "| DEFAULT_9dac2_00007 | PENDING  |                 |           30 |     0.09042     |            5 |\n",
      "| DEFAULT_9dac2_00008 | PENDING  |                 |           10 |     0.0172876   |            5 |\n",
      "| DEFAULT_9dac2_00009 | PENDING  |                 |           50 |     0.000934897 |            4 |\n",
      "+---------------------+----------+-----------------+--------------+-----------------+--------------+\n",
      "\n",
      "\n"
     ]
    },
    {
     "name": "stderr",
     "output_type": "stream",
     "text": [
      " 11%|█         | 1/9 [00:03<00:29,  3.63s/it]\n",
      "100%|██████████| 9/9 [00:03<00:00,  2.30it/s]\n",
      "  0%|          | 0/4 [00:00<?, ?it/s]\n"
     ]
    },
    {
     "name": "stdout",
     "output_type": "stream",
     "text": [
      "== Status ==\n",
      "Current time: 2021-12-18 16:46:18 (running for 00:00:10.38)\n",
      "Memory usage on this node: 19.1/47.6 GiB\n",
      "Using AsyncHyperBand: num_stopped=0\n",
      "Bracket: Iter 8.000: None | Iter 4.000: None | Iter 2.000: None | Iter 1.000: None\n",
      "Resources requested: 1.0/24 CPUs, 1.0/2 GPUs, 0.0/38.81 GiB heap, 0.0/19.41 GiB objects\n",
      "Result logdir: C:\\Users\\Tomas\\ray_results\\DEFAULT_2021-12-18_16-46-07\n",
      "Number of trials: 10/10 (9 PENDING, 1 RUNNING)\n",
      "+---------------------+----------+-----------------+--------------+-----------------+--------------+\n",
      "| Trial name          | status   | loc             |   batch_size |   learning_rate |   num_epochs |\n",
      "|---------------------+----------+-----------------+--------------+-----------------+--------------|\n",
      "| DEFAULT_9dac2_00000 | RUNNING  | 127.0.0.1:25644 |           50 |     0.00450476  |           10 |\n",
      "| DEFAULT_9dac2_00001 | PENDING  |                 |           50 |     0.0106262   |           10 |\n",
      "| DEFAULT_9dac2_00002 | PENDING  |                 |           50 |     0.0841042   |           10 |\n",
      "| DEFAULT_9dac2_00003 | PENDING  |                 |          100 |     0.0295763   |            5 |\n",
      "| DEFAULT_9dac2_00004 | PENDING  |                 |           50 |     0.00857354  |           10 |\n",
      "| DEFAULT_9dac2_00005 | PENDING  |                 |           30 |     0.00963307  |            4 |\n",
      "| DEFAULT_9dac2_00006 | PENDING  |                 |           10 |     0.0504903   |            5 |\n",
      "| DEFAULT_9dac2_00007 | PENDING  |                 |           30 |     0.09042     |            5 |\n",
      "| DEFAULT_9dac2_00008 | PENDING  |                 |           10 |     0.0172876   |            5 |\n",
      "| DEFAULT_9dac2_00009 | PENDING  |                 |           50 |     0.000934897 |            4 |\n",
      "+---------------------+----------+-----------------+--------------+-----------------+--------------+\n",
      "\n",
      "\n"
     ]
    },
    {
     "name": "stderr",
     "output_type": "stream",
     "text": [
      "\u001b[2m\u001b[36m(ImplicitFunc\r",
      " pid=25644)\u001b[0m \r",
      " 25%|██▌       | 1/4 [00:03<00:09,  3.30s/it]\n"
     ]
    },
    {
     "name": "stdout",
     "output_type": "stream",
     "text": [
      "Result for DEFAULT_9dac2_00000:\n",
      "  accuracy: 0.6777777777777778\n",
      "  date: 2021-12-18_16-46-20\n",
      "  done: false\n",
      "  experiment_id: be170153046a4c29b0616817bc6f34c1\n",
      "  hostname: WSTOMAS21\n",
      "  iterations_since_restore: 1\n",
      "  loss: 1.0866646766662598\n",
      "  node_ip: 127.0.0.1\n",
      "  pid: 25644\n",
      "  should_checkpoint: true\n",
      "  time_since_restore: 10.156662702560425\n",
      "  time_this_iter_s: 10.156662702560425\n",
      "  time_total_s: 10.156662702560425\n",
      "  timestamp: 1639842380\n",
      "  timesteps_since_restore: 0\n",
      "  training_iteration: 1\n",
      "  trial_id: 9dac2_00000\n",
      "  \n"
     ]
    },
    {
     "name": "stderr",
     "output_type": "stream",
     "text": [
      "\u001b[2m\u001b[36m(ImplicitFunc\r",
      " pid=25644)\u001b[0m \r",
      "100%|██████████| 4/4 [00:03<00:00,  1.13it/s]\r\n",
      "\u001b[2m\u001b[36m(ImplicitFunc\r",
      " pid=25644)\u001b[0m \r",
      "  0%|          | 0/9 [00:00<?, ?it/s]\n"
     ]
    },
    {
     "name": "stdout",
     "output_type": "stream",
     "text": [
      "== Status ==\n",
      "Current time: 2021-12-18 16:46:23 (running for 00:00:15.52)\n",
      "Memory usage on this node: 19.2/47.6 GiB\n",
      "Using AsyncHyperBand: num_stopped=0\n",
      "Bracket: Iter 8.000: None | Iter 4.000: None | Iter 2.000: None | Iter 1.000: -1.0866646766662598\n",
      "Resources requested: 1.0/24 CPUs, 1.0/2 GPUs, 0.0/38.81 GiB heap, 0.0/19.41 GiB objects\n",
      "Result logdir: C:\\Users\\Tomas\\ray_results\\DEFAULT_2021-12-18_16-46-07\n",
      "Number of trials: 10/10 (9 PENDING, 1 RUNNING)\n",
      "+---------------------+----------+-----------------+--------------+-----------------+--------------+---------+\n",
      "| Trial name          | status   | loc             |   batch_size |   learning_rate |   num_epochs |    loss |\n",
      "|---------------------+----------+-----------------+--------------+-----------------+--------------+---------|\n",
      "| DEFAULT_9dac2_00000 | RUNNING  | 127.0.0.1:25644 |           50 |     0.00450476  |           10 | 1.08666 |\n",
      "| DEFAULT_9dac2_00001 | PENDING  |                 |           50 |     0.0106262   |           10 |         |\n",
      "| DEFAULT_9dac2_00002 | PENDING  |                 |           50 |     0.0841042   |           10 |         |\n",
      "| DEFAULT_9dac2_00003 | PENDING  |                 |          100 |     0.0295763   |            5 |         |\n",
      "| DEFAULT_9dac2_00004 | PENDING  |                 |           50 |     0.00857354  |           10 |         |\n",
      "| DEFAULT_9dac2_00005 | PENDING  |                 |           30 |     0.00963307  |            4 |         |\n",
      "| DEFAULT_9dac2_00006 | PENDING  |                 |           10 |     0.0504903   |            5 |         |\n",
      "| DEFAULT_9dac2_00007 | PENDING  |                 |           30 |     0.09042     |            5 |         |\n",
      "| DEFAULT_9dac2_00008 | PENDING  |                 |           10 |     0.0172876   |            5 |         |\n",
      "| DEFAULT_9dac2_00009 | PENDING  |                 |           50 |     0.000934897 |            4 |         |\n",
      "+---------------------+----------+-----------------+--------------+-----------------+--------------+---------+\n",
      "\n",
      "\n"
     ]
    },
    {
     "name": "stderr",
     "output_type": "stream",
     "text": [
      " 11%|█         | 1/9 [00:03<00:26,  3.29s/it]\n",
      " 56%|█████▌    | 5/9 [00:03<00:02,  1.95it/s]\n",
      "100%|██████████| 9/9 [00:03<00:00,  2.47it/s]\n",
      "  0%|          | 0/4 [00:00<?, ?it/s]\n",
      " 25%|██▌       | 1/4 [00:03<00:09,  3.30s/it]\n"
     ]
    },
    {
     "name": "stdout",
     "output_type": "stream",
     "text": [
      "Result for DEFAULT_9dac2_00000:\n",
      "  accuracy: 0.6777777777777778\n",
      "  date: 2021-12-18_16-46-27\n",
      "  done: false\n",
      "  experiment_id: be170153046a4c29b0616817bc6f34c1\n",
      "  hostname: WSTOMAS21\n",
      "  iterations_since_restore: 2\n",
      "  loss: 0.874936506152153\n",
      "  node_ip: 127.0.0.1\n",
      "  pid: 25644\n",
      "  should_checkpoint: true\n",
      "  time_since_restore: 17.3605215549469\n",
      "  time_this_iter_s: 7.203858852386475\n",
      "  time_total_s: 17.3605215549469\n",
      "  timestamp: 1639842387\n",
      "  timesteps_since_restore: 0\n",
      "  training_iteration: 2\n",
      "  trial_id: 9dac2_00000\n",
      "  \n"
     ]
    },
    {
     "name": "stderr",
     "output_type": "stream",
     "text": [
      "\u001b[2m\u001b[36m(ImplicitFunc\r",
      " pid=25644)\u001b[0m \r",
      "100%|██████████| 4/4 [00:03<00:00,  1.13it/s]\r\n",
      "\u001b[2m\u001b[36m(ImplicitFunc\r",
      " pid=25644)\u001b[0m \r",
      "  0%|          | 0/9 [00:00<?, ?it/s]\n"
     ]
    },
    {
     "name": "stdout",
     "output_type": "stream",
     "text": [
      "== Status ==\n",
      "Current time: 2021-12-18 16:46:28 (running for 00:00:20.71)\n",
      "Memory usage on this node: 19.1/47.6 GiB\n",
      "Using AsyncHyperBand: num_stopped=0\n",
      "Bracket: Iter 8.000: None | Iter 4.000: None | Iter 2.000: -0.874936506152153 | Iter 1.000: -1.0866646766662598\n",
      "Resources requested: 1.0/24 CPUs, 1.0/2 GPUs, 0.0/38.81 GiB heap, 0.0/19.41 GiB objects\n",
      "Result logdir: C:\\Users\\Tomas\\ray_results\\DEFAULT_2021-12-18_16-46-07\n",
      "Number of trials: 10/10 (9 PENDING, 1 RUNNING)\n",
      "+---------------------+----------+-----------------+--------------+-----------------+--------------+----------+\n",
      "| Trial name          | status   | loc             |   batch_size |   learning_rate |   num_epochs |     loss |\n",
      "|---------------------+----------+-----------------+--------------+-----------------+--------------+----------|\n",
      "| DEFAULT_9dac2_00000 | RUNNING  | 127.0.0.1:25644 |           50 |     0.00450476  |           10 | 0.874937 |\n",
      "| DEFAULT_9dac2_00001 | PENDING  |                 |           50 |     0.0106262   |           10 |          |\n",
      "| DEFAULT_9dac2_00002 | PENDING  |                 |           50 |     0.0841042   |           10 |          |\n",
      "| DEFAULT_9dac2_00003 | PENDING  |                 |          100 |     0.0295763   |            5 |          |\n",
      "| DEFAULT_9dac2_00004 | PENDING  |                 |           50 |     0.00857354  |           10 |          |\n",
      "| DEFAULT_9dac2_00005 | PENDING  |                 |           30 |     0.00963307  |            4 |          |\n",
      "| DEFAULT_9dac2_00006 | PENDING  |                 |           10 |     0.0504903   |            5 |          |\n",
      "| DEFAULT_9dac2_00007 | PENDING  |                 |           30 |     0.09042     |            5 |          |\n",
      "| DEFAULT_9dac2_00008 | PENDING  |                 |           10 |     0.0172876   |            5 |          |\n",
      "| DEFAULT_9dac2_00009 | PENDING  |                 |           50 |     0.000934897 |            4 |          |\n",
      "+---------------------+----------+-----------------+--------------+-----------------+--------------+----------+\n",
      "\n",
      "\n"
     ]
    },
    {
     "name": "stderr",
     "output_type": "stream",
     "text": [
      " 11%|█         | 1/9 [00:03<00:26,  3.37s/it]\n",
      " 78%|███████▊  | 7/9 [00:03<00:00,  2.72it/s]\n",
      "100%|██████████| 9/9 [00:03<00:00,  2.44it/s]\n",
      "  0%|          | 0/4 [00:00<?, ?it/s]\n"
     ]
    },
    {
     "name": "stdout",
     "output_type": "stream",
     "text": [
      "== Status ==\n",
      "Current time: 2021-12-18 16:46:33 (running for 00:00:25.80)\n",
      "Memory usage on this node: 19.1/47.6 GiB\n",
      "Using AsyncHyperBand: num_stopped=0\n",
      "Bracket: Iter 8.000: None | Iter 4.000: None | Iter 2.000: -0.874936506152153 | Iter 1.000: -1.0866646766662598\n",
      "Resources requested: 1.0/24 CPUs, 1.0/2 GPUs, 0.0/38.81 GiB heap, 0.0/19.41 GiB objects\n",
      "Result logdir: C:\\Users\\Tomas\\ray_results\\DEFAULT_2021-12-18_16-46-07\n",
      "Number of trials: 10/10 (9 PENDING, 1 RUNNING)\n",
      "+---------------------+----------+-----------------+--------------+-----------------+--------------+----------+\n",
      "| Trial name          | status   | loc             |   batch_size |   learning_rate |   num_epochs |     loss |\n",
      "|---------------------+----------+-----------------+--------------+-----------------+--------------+----------|\n",
      "| DEFAULT_9dac2_00000 | RUNNING  | 127.0.0.1:25644 |           50 |     0.00450476  |           10 | 0.874937 |\n",
      "| DEFAULT_9dac2_00001 | PENDING  |                 |           50 |     0.0106262   |           10 |          |\n",
      "| DEFAULT_9dac2_00002 | PENDING  |                 |           50 |     0.0841042   |           10 |          |\n",
      "| DEFAULT_9dac2_00003 | PENDING  |                 |          100 |     0.0295763   |            5 |          |\n",
      "| DEFAULT_9dac2_00004 | PENDING  |                 |           50 |     0.00857354  |           10 |          |\n",
      "| DEFAULT_9dac2_00005 | PENDING  |                 |           30 |     0.00963307  |            4 |          |\n",
      "| DEFAULT_9dac2_00006 | PENDING  |                 |           10 |     0.0504903   |            5 |          |\n",
      "| DEFAULT_9dac2_00007 | PENDING  |                 |           30 |     0.09042     |            5 |          |\n",
      "| DEFAULT_9dac2_00008 | PENDING  |                 |           10 |     0.0172876   |            5 |          |\n",
      "| DEFAULT_9dac2_00009 | PENDING  |                 |           50 |     0.000934897 |            4 |          |\n",
      "+---------------------+----------+-----------------+--------------+-----------------+--------------+----------+\n",
      "\n",
      "\n"
     ]
    },
    {
     "name": "stderr",
     "output_type": "stream",
     "text": [
      "\u001b[2m\u001b[36m(ImplicitFunc\r",
      " pid=25644)\u001b[0m \r",
      " 25%|██▌       | 1/4 [00:03<00:10,  3.39s/it]\n"
     ]
    },
    {
     "name": "stdout",
     "output_type": "stream",
     "text": [
      "Result for DEFAULT_9dac2_00000:\n",
      "  accuracy: 0.6777777777777778\n",
      "  date: 2021-12-18_16-46-34\n",
      "  done: false\n",
      "  experiment_id: be170153046a4c29b0616817bc6f34c1\n",
      "  hostname: WSTOMAS21\n",
      "  iterations_since_restore: 3\n",
      "  loss: 0.8650571703910828\n",
      "  node_ip: 127.0.0.1\n",
      "  pid: 25644\n",
      "  should_checkpoint: true\n",
      "  time_since_restore: 24.747004747390747\n",
      "  time_this_iter_s: 7.386483192443848\n",
      "  time_total_s: 24.747004747390747\n",
      "  timestamp: 1639842394\n",
      "  timesteps_since_restore: 0\n",
      "  training_iteration: 3\n",
      "  trial_id: 9dac2_00000\n",
      "  \n"
     ]
    },
    {
     "name": "stderr",
     "output_type": "stream",
     "text": [
      "100%|██████████| 4/4 [00:03<00:00,  1.09it/s]\n",
      "  0%|          | 0/9 [00:00<?, ?it/s]\n",
      " 11%|█         | 1/9 [00:03<00:27,  3.40s/it]\n",
      "100%|██████████| 9/9 [00:03<00:00,  2.45it/s]\n",
      "  0%|          | 0/4 [00:00<?, ?it/s]\n"
     ]
    },
    {
     "name": "stdout",
     "output_type": "stream",
     "text": [
      "== Status ==\n",
      "Current time: 2021-12-18 16:46:38 (running for 00:00:31.16)\n",
      "Memory usage on this node: 19.1/47.6 GiB\n",
      "Using AsyncHyperBand: num_stopped=0\n",
      "Bracket: Iter 8.000: None | Iter 4.000: None | Iter 2.000: -0.874936506152153 | Iter 1.000: -1.0866646766662598\n",
      "Resources requested: 1.0/24 CPUs, 1.0/2 GPUs, 0.0/38.81 GiB heap, 0.0/19.41 GiB objects\n",
      "Result logdir: C:\\Users\\Tomas\\ray_results\\DEFAULT_2021-12-18_16-46-07\n",
      "Number of trials: 10/10 (9 PENDING, 1 RUNNING)\n",
      "+---------------------+----------+-----------------+--------------+-----------------+--------------+----------+\n",
      "| Trial name          | status   | loc             |   batch_size |   learning_rate |   num_epochs |     loss |\n",
      "|---------------------+----------+-----------------+--------------+-----------------+--------------+----------|\n",
      "| DEFAULT_9dac2_00000 | RUNNING  | 127.0.0.1:25644 |           50 |     0.00450476  |           10 | 0.865057 |\n",
      "| DEFAULT_9dac2_00001 | PENDING  |                 |           50 |     0.0106262   |           10 |          |\n",
      "| DEFAULT_9dac2_00002 | PENDING  |                 |           50 |     0.0841042   |           10 |          |\n",
      "| DEFAULT_9dac2_00003 | PENDING  |                 |          100 |     0.0295763   |            5 |          |\n",
      "| DEFAULT_9dac2_00004 | PENDING  |                 |           50 |     0.00857354  |           10 |          |\n",
      "| DEFAULT_9dac2_00005 | PENDING  |                 |           30 |     0.00963307  |            4 |          |\n",
      "| DEFAULT_9dac2_00006 | PENDING  |                 |           10 |     0.0504903   |            5 |          |\n",
      "| DEFAULT_9dac2_00007 | PENDING  |                 |           30 |     0.09042     |            5 |          |\n",
      "| DEFAULT_9dac2_00008 | PENDING  |                 |           10 |     0.0172876   |            5 |          |\n",
      "| DEFAULT_9dac2_00009 | PENDING  |                 |           50 |     0.000934897 |            4 |          |\n",
      "+---------------------+----------+-----------------+--------------+-----------------+--------------+----------+\n",
      "\n",
      "\n"
     ]
    },
    {
     "name": "stderr",
     "output_type": "stream",
     "text": [
      "\u001b[2m\u001b[36m(ImplicitFunc\r",
      " pid=25644)\u001b[0m \r",
      " 25%|██▌       | 1/4 [00:03<00:10,  3.46s/it]\n",
      "\u001b[2m\u001b[36m(ImplicitFunc\r",
      " pid=25644)\u001b[0m \r",
      "100%|██████████| 4/4 [00:03<00:00,  1.09it/s]\r\n",
      "\u001b[2m\u001b[36m(ImplicitFunc\r",
      " pid=25644)\u001b[0m \r",
      "  0%|          | 0/9 [00:00<?, ?it/s]\n"
     ]
    },
    {
     "name": "stdout",
     "output_type": "stream",
     "text": [
      "Result for DEFAULT_9dac2_00000:\n",
      "  accuracy: 0.6777777777777778\n",
      "  date: 2021-12-18_16-46-42\n",
      "  done: false\n",
      "  experiment_id: be170153046a4c29b0616817bc6f34c1\n",
      "  hostname: WSTOMAS21\n",
      "  iterations_since_restore: 4\n",
      "  loss: 0.862670049071312\n",
      "  node_ip: 127.0.0.1\n",
      "  pid: 25644\n",
      "  should_checkpoint: true\n",
      "  time_since_restore: 32.123669147491455\n",
      "  time_this_iter_s: 7.376664400100708\n",
      "  time_total_s: 32.123669147491455\n",
      "  timestamp: 1639842402\n",
      "  timesteps_since_restore: 0\n",
      "  training_iteration: 4\n",
      "  trial_id: 9dac2_00000\n",
      "  \n",
      "== Status ==\n",
      "Current time: 2021-12-18 16:46:44 (running for 00:00:36.49)\n",
      "Memory usage on this node: 19.1/47.6 GiB\n",
      "Using AsyncHyperBand: num_stopped=0\n",
      "Bracket: Iter 8.000: None | Iter 4.000: -0.862670049071312 | Iter 2.000: -0.874936506152153 | Iter 1.000: -1.0866646766662598\n",
      "Resources requested: 1.0/24 CPUs, 1.0/2 GPUs, 0.0/38.81 GiB heap, 0.0/19.41 GiB objects\n",
      "Result logdir: C:\\Users\\Tomas\\ray_results\\DEFAULT_2021-12-18_16-46-07\n",
      "Number of trials: 10/10 (9 PENDING, 1 RUNNING)\n",
      "+---------------------+----------+-----------------+--------------+-----------------+--------------+---------+\n",
      "| Trial name          | status   | loc             |   batch_size |   learning_rate |   num_epochs |    loss |\n",
      "|---------------------+----------+-----------------+--------------+-----------------+--------------+---------|\n",
      "| DEFAULT_9dac2_00000 | RUNNING  | 127.0.0.1:25644 |           50 |     0.00450476  |           10 | 0.86267 |\n",
      "| DEFAULT_9dac2_00001 | PENDING  |                 |           50 |     0.0106262   |           10 |         |\n",
      "| DEFAULT_9dac2_00002 | PENDING  |                 |           50 |     0.0841042   |           10 |         |\n",
      "| DEFAULT_9dac2_00003 | PENDING  |                 |          100 |     0.0295763   |            5 |         |\n",
      "| DEFAULT_9dac2_00004 | PENDING  |                 |           50 |     0.00857354  |           10 |         |\n",
      "| DEFAULT_9dac2_00005 | PENDING  |                 |           30 |     0.00963307  |            4 |         |\n",
      "| DEFAULT_9dac2_00006 | PENDING  |                 |           10 |     0.0504903   |            5 |         |\n",
      "| DEFAULT_9dac2_00007 | PENDING  |                 |           30 |     0.09042     |            5 |         |\n",
      "| DEFAULT_9dac2_00008 | PENDING  |                 |           10 |     0.0172876   |            5 |         |\n",
      "| DEFAULT_9dac2_00009 | PENDING  |                 |           50 |     0.000934897 |            4 |         |\n",
      "+---------------------+----------+-----------------+--------------+-----------------+--------------+---------+\n",
      "\n",
      "\n"
     ]
    },
    {
     "name": "stderr",
     "output_type": "stream",
     "text": [
      " 11%|█         | 1/9 [00:03<00:27,  3.39s/it]\n",
      "100%|██████████| 9/9 [00:03<00:00,  2.43it/s]\n",
      "  0%|          | 0/4 [00:00<?, ?it/s]\n",
      " 25%|██▌       | 1/4 [00:03<00:10,  3.36s/it]\n"
     ]
    },
    {
     "name": "stdout",
     "output_type": "stream",
     "text": [
      "== Status ==\n",
      "Current time: 2021-12-18 16:46:49 (running for 00:00:41.58)\n",
      "Memory usage on this node: 19.2/47.6 GiB\n",
      "Using AsyncHyperBand: num_stopped=0\n",
      "Bracket: Iter 8.000: None | Iter 4.000: -0.862670049071312 | Iter 2.000: -0.874936506152153 | Iter 1.000: -1.0866646766662598\n",
      "Resources requested: 1.0/24 CPUs, 1.0/2 GPUs, 0.0/38.81 GiB heap, 0.0/19.41 GiB objects\n",
      "Result logdir: C:\\Users\\Tomas\\ray_results\\DEFAULT_2021-12-18_16-46-07\n",
      "Number of trials: 10/10 (9 PENDING, 1 RUNNING)\n",
      "+---------------------+----------+-----------------+--------------+-----------------+--------------+---------+\n",
      "| Trial name          | status   | loc             |   batch_size |   learning_rate |   num_epochs |    loss |\n",
      "|---------------------+----------+-----------------+--------------+-----------------+--------------+---------|\n",
      "| DEFAULT_9dac2_00000 | RUNNING  | 127.0.0.1:25644 |           50 |     0.00450476  |           10 | 0.86267 |\n",
      "| DEFAULT_9dac2_00001 | PENDING  |                 |           50 |     0.0106262   |           10 |         |\n",
      "| DEFAULT_9dac2_00002 | PENDING  |                 |           50 |     0.0841042   |           10 |         |\n",
      "| DEFAULT_9dac2_00003 | PENDING  |                 |          100 |     0.0295763   |            5 |         |\n",
      "| DEFAULT_9dac2_00004 | PENDING  |                 |           50 |     0.00857354  |           10 |         |\n",
      "| DEFAULT_9dac2_00005 | PENDING  |                 |           30 |     0.00963307  |            4 |         |\n",
      "| DEFAULT_9dac2_00006 | PENDING  |                 |           10 |     0.0504903   |            5 |         |\n",
      "| DEFAULT_9dac2_00007 | PENDING  |                 |           30 |     0.09042     |            5 |         |\n",
      "| DEFAULT_9dac2_00008 | PENDING  |                 |           10 |     0.0172876   |            5 |         |\n",
      "| DEFAULT_9dac2_00009 | PENDING  |                 |           50 |     0.000934897 |            4 |         |\n",
      "+---------------------+----------+-----------------+--------------+-----------------+--------------+---------+\n",
      "\n",
      "\n",
      "Result for DEFAULT_9dac2_00000:\n",
      "  accuracy: 0.6777777777777778\n",
      "  date: 2021-12-18_16-46-49\n",
      "  done: false\n",
      "  experiment_id: be170153046a4c29b0616817bc6f34c1\n",
      "  hostname: WSTOMAS21\n",
      "  iterations_since_restore: 5\n",
      "  loss: 0.8769913762807846\n",
      "  node_ip: 127.0.0.1\n",
      "  pid: 25644\n",
      "  should_checkpoint: true\n",
      "  time_since_restore: 39.441328048706055\n",
      "  time_this_iter_s: 7.3176589012146\n",
      "  time_total_s: 39.441328048706055\n",
      "  timestamp: 1639842409\n",
      "  timesteps_since_restore: 0\n",
      "  training_iteration: 5\n",
      "  trial_id: 9dac2_00000\n",
      "  \n"
     ]
    },
    {
     "name": "stderr",
     "output_type": "stream",
     "text": [
      "100%|██████████| 4/4 [00:03<00:00,  1.11it/s]\n",
      "  0%|          | 0/9 [00:00<?, ?it/s]\n",
      " 11%|█         | 1/9 [00:03<00:27,  3.44s/it]\n",
      "100%|██████████| 9/9 [00:03<00:00,  2.44it/s]\n",
      "  0%|          | 0/4 [00:00<?, ?it/s]\n"
     ]
    },
    {
     "name": "stdout",
     "output_type": "stream",
     "text": [
      "== Status ==\n",
      "Current time: 2021-12-18 16:46:54 (running for 00:00:46.86)\n",
      "Memory usage on this node: 19.1/47.6 GiB\n",
      "Using AsyncHyperBand: num_stopped=0\n",
      "Bracket: Iter 8.000: None | Iter 4.000: -0.862670049071312 | Iter 2.000: -0.874936506152153 | Iter 1.000: -1.0866646766662598\n",
      "Resources requested: 1.0/24 CPUs, 1.0/2 GPUs, 0.0/38.81 GiB heap, 0.0/19.41 GiB objects\n",
      "Result logdir: C:\\Users\\Tomas\\ray_results\\DEFAULT_2021-12-18_16-46-07\n",
      "Number of trials: 10/10 (9 PENDING, 1 RUNNING)\n",
      "+---------------------+----------+-----------------+--------------+-----------------+--------------+----------+\n",
      "| Trial name          | status   | loc             |   batch_size |   learning_rate |   num_epochs |     loss |\n",
      "|---------------------+----------+-----------------+--------------+-----------------+--------------+----------|\n",
      "| DEFAULT_9dac2_00000 | RUNNING  | 127.0.0.1:25644 |           50 |     0.00450476  |           10 | 0.876991 |\n",
      "| DEFAULT_9dac2_00001 | PENDING  |                 |           50 |     0.0106262   |           10 |          |\n",
      "| DEFAULT_9dac2_00002 | PENDING  |                 |           50 |     0.0841042   |           10 |          |\n",
      "| DEFAULT_9dac2_00003 | PENDING  |                 |          100 |     0.0295763   |            5 |          |\n",
      "| DEFAULT_9dac2_00004 | PENDING  |                 |           50 |     0.00857354  |           10 |          |\n",
      "| DEFAULT_9dac2_00005 | PENDING  |                 |           30 |     0.00963307  |            4 |          |\n",
      "| DEFAULT_9dac2_00006 | PENDING  |                 |           10 |     0.0504903   |            5 |          |\n",
      "| DEFAULT_9dac2_00007 | PENDING  |                 |           30 |     0.09042     |            5 |          |\n",
      "| DEFAULT_9dac2_00008 | PENDING  |                 |           10 |     0.0172876   |            5 |          |\n",
      "| DEFAULT_9dac2_00009 | PENDING  |                 |           50 |     0.000934897 |            4 |          |\n",
      "+---------------------+----------+-----------------+--------------+-----------------+--------------+----------+\n",
      "\n",
      "\n"
     ]
    },
    {
     "name": "stderr",
     "output_type": "stream",
     "text": [
      "\u001b[2m\u001b[36m(ImplicitFunc\r",
      " pid=25644)\u001b[0m \r",
      " 25%|██▌       | 1/4 [00:03<00:10,  3.34s/it]\n"
     ]
    },
    {
     "name": "stdout",
     "output_type": "stream",
     "text": [
      "Result for DEFAULT_9dac2_00000:\n",
      "  accuracy: 0.6777777777777778\n",
      "  date: 2021-12-18_16-46-56\n",
      "  done: false\n",
      "  experiment_id: be170153046a4c29b0616817bc6f34c1\n",
      "  hostname: WSTOMAS21\n",
      "  iterations_since_restore: 6\n",
      "  loss: 0.8718749284744263\n",
      "  node_ip: 127.0.0.1\n",
      "  pid: 25644\n",
      "  should_checkpoint: true\n",
      "  time_since_restore: 46.73626732826233\n",
      "  time_this_iter_s: 7.294939279556274\n",
      "  time_total_s: 46.73626732826233\n",
      "  timestamp: 1639842416\n",
      "  timesteps_since_restore: 0\n",
      "  training_iteration: 6\n",
      "  trial_id: 9dac2_00000\n",
      "  \n"
     ]
    },
    {
     "name": "stderr",
     "output_type": "stream",
     "text": [
      "\u001b[2m\u001b[36m(ImplicitFunc\r",
      " pid=25644)\u001b[0m \r",
      "100%|██████████| 4/4 [00:03<00:00,  1.12it/s]\r\n",
      "\u001b[2m\u001b[36m(ImplicitFunc\r",
      " pid=25644)\u001b[0m \r",
      "  0%|          | 0/9 [00:00<?, ?it/s]\n"
     ]
    },
    {
     "name": "stdout",
     "output_type": "stream",
     "text": [
      "== Status ==\n",
      "Current time: 2021-12-18 16:46:59 (running for 00:00:52.13)\n",
      "Memory usage on this node: 19.2/47.6 GiB\n",
      "Using AsyncHyperBand: num_stopped=0\n",
      "Bracket: Iter 8.000: None | Iter 4.000: -0.862670049071312 | Iter 2.000: -0.874936506152153 | Iter 1.000: -1.0866646766662598\n",
      "Resources requested: 1.0/24 CPUs, 1.0/2 GPUs, 0.0/38.81 GiB heap, 0.0/19.41 GiB objects\n",
      "Result logdir: C:\\Users\\Tomas\\ray_results\\DEFAULT_2021-12-18_16-46-07\n",
      "Number of trials: 10/10 (9 PENDING, 1 RUNNING)\n",
      "+---------------------+----------+-----------------+--------------+-----------------+--------------+----------+\n",
      "| Trial name          | status   | loc             |   batch_size |   learning_rate |   num_epochs |     loss |\n",
      "|---------------------+----------+-----------------+--------------+-----------------+--------------+----------|\n",
      "| DEFAULT_9dac2_00000 | RUNNING  | 127.0.0.1:25644 |           50 |     0.00450476  |           10 | 0.871875 |\n",
      "| DEFAULT_9dac2_00001 | PENDING  |                 |           50 |     0.0106262   |           10 |          |\n",
      "| DEFAULT_9dac2_00002 | PENDING  |                 |           50 |     0.0841042   |           10 |          |\n",
      "| DEFAULT_9dac2_00003 | PENDING  |                 |          100 |     0.0295763   |            5 |          |\n",
      "| DEFAULT_9dac2_00004 | PENDING  |                 |           50 |     0.00857354  |           10 |          |\n",
      "| DEFAULT_9dac2_00005 | PENDING  |                 |           30 |     0.00963307  |            4 |          |\n",
      "| DEFAULT_9dac2_00006 | PENDING  |                 |           10 |     0.0504903   |            5 |          |\n",
      "| DEFAULT_9dac2_00007 | PENDING  |                 |           30 |     0.09042     |            5 |          |\n",
      "| DEFAULT_9dac2_00008 | PENDING  |                 |           10 |     0.0172876   |            5 |          |\n",
      "| DEFAULT_9dac2_00009 | PENDING  |                 |           50 |     0.000934897 |            4 |          |\n",
      "+---------------------+----------+-----------------+--------------+-----------------+--------------+----------+\n",
      "\n",
      "\n"
     ]
    },
    {
     "name": "stderr",
     "output_type": "stream",
     "text": [
      " 11%|█         | 1/9 [00:03<00:26,  3.35s/it]\n",
      "100%|██████████| 9/9 [00:03<00:00,  2.51it/s]\n",
      "  0%|          | 0/4 [00:00<?, ?it/s]\n",
      " 25%|██▌       | 1/4 [00:03<00:09,  3.33s/it]\n"
     ]
    },
    {
     "name": "stdout",
     "output_type": "stream",
     "text": [
      "Result for DEFAULT_9dac2_00000:\n",
      "  accuracy: 0.6777777777777778\n",
      "  date: 2021-12-18_16-47-03\n",
      "  done: false\n",
      "  experiment_id: be170153046a4c29b0616817bc6f34c1\n",
      "  hostname: WSTOMAS21\n",
      "  iterations_since_restore: 7\n",
      "  loss: 0.8704614639282227\n",
      "  node_ip: 127.0.0.1\n",
      "  pid: 25644\n",
      "  should_checkpoint: true\n",
      "  time_since_restore: 53.88852334022522\n",
      "  time_this_iter_s: 7.152256011962891\n",
      "  time_total_s: 53.88852334022522\n",
      "  timestamp: 1639842423\n",
      "  timesteps_since_restore: 0\n",
      "  training_iteration: 7\n",
      "  trial_id: 9dac2_00000\n",
      "  \n"
     ]
    },
    {
     "name": "stderr",
     "output_type": "stream",
     "text": [
      "\u001b[2m\u001b[36m(ImplicitFunc\r",
      " pid=25644)\u001b[0m \r",
      "100%|██████████| 4/4 [00:03<00:00,  1.13it/s]\r\n",
      "\u001b[2m\u001b[36m(ImplicitFunc\r",
      " pid=25644)\u001b[0m \r",
      "  0%|          | 0/9 [00:00<?, ?it/s]\n"
     ]
    },
    {
     "name": "stdout",
     "output_type": "stream",
     "text": [
      "== Status ==\n",
      "Current time: 2021-12-18 16:47:04 (running for 00:00:57.24)\n",
      "Memory usage on this node: 19.1/47.6 GiB\n",
      "Using AsyncHyperBand: num_stopped=0\n",
      "Bracket: Iter 8.000: None | Iter 4.000: -0.862670049071312 | Iter 2.000: -0.874936506152153 | Iter 1.000: -1.0866646766662598\n",
      "Resources requested: 1.0/24 CPUs, 1.0/2 GPUs, 0.0/38.81 GiB heap, 0.0/19.41 GiB objects\n",
      "Result logdir: C:\\Users\\Tomas\\ray_results\\DEFAULT_2021-12-18_16-46-07\n",
      "Number of trials: 10/10 (9 PENDING, 1 RUNNING)\n",
      "+---------------------+----------+-----------------+--------------+-----------------+--------------+----------+\n",
      "| Trial name          | status   | loc             |   batch_size |   learning_rate |   num_epochs |     loss |\n",
      "|---------------------+----------+-----------------+--------------+-----------------+--------------+----------|\n",
      "| DEFAULT_9dac2_00000 | RUNNING  | 127.0.0.1:25644 |           50 |     0.00450476  |           10 | 0.870461 |\n",
      "| DEFAULT_9dac2_00001 | PENDING  |                 |           50 |     0.0106262   |           10 |          |\n",
      "| DEFAULT_9dac2_00002 | PENDING  |                 |           50 |     0.0841042   |           10 |          |\n",
      "| DEFAULT_9dac2_00003 | PENDING  |                 |          100 |     0.0295763   |            5 |          |\n",
      "| DEFAULT_9dac2_00004 | PENDING  |                 |           50 |     0.00857354  |           10 |          |\n",
      "| DEFAULT_9dac2_00005 | PENDING  |                 |           30 |     0.00963307  |            4 |          |\n",
      "| DEFAULT_9dac2_00006 | PENDING  |                 |           10 |     0.0504903   |            5 |          |\n",
      "| DEFAULT_9dac2_00007 | PENDING  |                 |           30 |     0.09042     |            5 |          |\n",
      "| DEFAULT_9dac2_00008 | PENDING  |                 |           10 |     0.0172876   |            5 |          |\n",
      "| DEFAULT_9dac2_00009 | PENDING  |                 |           50 |     0.000934897 |            4 |          |\n",
      "+---------------------+----------+-----------------+--------------+-----------------+--------------+----------+\n",
      "\n",
      "\n"
     ]
    },
    {
     "name": "stderr",
     "output_type": "stream",
     "text": [
      " 11%|█         | 1/9 [00:03<00:27,  3.43s/it]\n",
      "100%|██████████| 9/9 [00:03<00:00,  2.42it/s]\n",
      "  0%|          | 0/4 [00:00<?, ?it/s]\n"
     ]
    },
    {
     "name": "stdout",
     "output_type": "stream",
     "text": [
      "== Status ==\n",
      "Current time: 2021-12-18 16:47:10 (running for 00:01:02.32)\n",
      "Memory usage on this node: 19.1/47.6 GiB\n",
      "Using AsyncHyperBand: num_stopped=0\n",
      "Bracket: Iter 8.000: None | Iter 4.000: -0.862670049071312 | Iter 2.000: -0.874936506152153 | Iter 1.000: -1.0866646766662598\n",
      "Resources requested: 1.0/24 CPUs, 1.0/2 GPUs, 0.0/38.81 GiB heap, 0.0/19.41 GiB objects\n",
      "Result logdir: C:\\Users\\Tomas\\ray_results\\DEFAULT_2021-12-18_16-46-07\n",
      "Number of trials: 10/10 (9 PENDING, 1 RUNNING)\n",
      "+---------------------+----------+-----------------+--------------+-----------------+--------------+----------+\n",
      "| Trial name          | status   | loc             |   batch_size |   learning_rate |   num_epochs |     loss |\n",
      "|---------------------+----------+-----------------+--------------+-----------------+--------------+----------|\n",
      "| DEFAULT_9dac2_00000 | RUNNING  | 127.0.0.1:25644 |           50 |     0.00450476  |           10 | 0.870461 |\n",
      "| DEFAULT_9dac2_00001 | PENDING  |                 |           50 |     0.0106262   |           10 |          |\n",
      "| DEFAULT_9dac2_00002 | PENDING  |                 |           50 |     0.0841042   |           10 |          |\n",
      "| DEFAULT_9dac2_00003 | PENDING  |                 |          100 |     0.0295763   |            5 |          |\n",
      "| DEFAULT_9dac2_00004 | PENDING  |                 |           50 |     0.00857354  |           10 |          |\n",
      "| DEFAULT_9dac2_00005 | PENDING  |                 |           30 |     0.00963307  |            4 |          |\n",
      "| DEFAULT_9dac2_00006 | PENDING  |                 |           10 |     0.0504903   |            5 |          |\n",
      "| DEFAULT_9dac2_00007 | PENDING  |                 |           30 |     0.09042     |            5 |          |\n",
      "| DEFAULT_9dac2_00008 | PENDING  |                 |           10 |     0.0172876   |            5 |          |\n",
      "| DEFAULT_9dac2_00009 | PENDING  |                 |           50 |     0.000934897 |            4 |          |\n",
      "+---------------------+----------+-----------------+--------------+-----------------+--------------+----------+\n",
      "\n",
      "\n"
     ]
    },
    {
     "name": "stderr",
     "output_type": "stream",
     "text": [
      "\u001b[2m\u001b[36m(ImplicitFunc\r",
      " pid=25644)\u001b[0m \r",
      " 25%|██▌       | 1/4 [00:03<00:10,  3.42s/it]\n"
     ]
    },
    {
     "name": "stdout",
     "output_type": "stream",
     "text": [
      "Result for DEFAULT_9dac2_00000:\n",
      "  accuracy: 0.6777777777777778\n",
      "  date: 2021-12-18_16-47-11\n",
      "  done: false\n",
      "  experiment_id: be170153046a4c29b0616817bc6f34c1\n",
      "  hostname: WSTOMAS21\n",
      "  iterations_since_restore: 8\n",
      "  loss: 0.8682056963443756\n",
      "  node_ip: 127.0.0.1\n",
      "  pid: 25644\n",
      "  should_checkpoint: true\n",
      "  time_since_restore: 61.31058168411255\n",
      "  time_this_iter_s: 7.422058343887329\n",
      "  time_total_s: 61.31058168411255\n",
      "  timestamp: 1639842431\n",
      "  timesteps_since_restore: 0\n",
      "  training_iteration: 8\n",
      "  trial_id: 9dac2_00000\n",
      "  \n"
     ]
    },
    {
     "name": "stderr",
     "output_type": "stream",
     "text": [
      "100%|██████████| 4/4 [00:03<00:00,  1.09it/s]\n",
      "  0%|          | 0/9 [00:00<?, ?it/s]\n",
      " 11%|█         | 1/9 [00:03<00:27,  3.42s/it]\n",
      " 67%|██████▋   | 6/9 [00:03<00:01,  2.28it/s]\n",
      "100%|██████████| 9/9 [00:03<00:00,  2.39it/s]\n",
      "  0%|          | 0/4 [00:00<?, ?it/s]\n"
     ]
    },
    {
     "name": "stdout",
     "output_type": "stream",
     "text": [
      "== Status ==\n",
      "Current time: 2021-12-18 16:47:15 (running for 00:01:07.71)\n",
      "Memory usage on this node: 19.1/47.6 GiB\n",
      "Using AsyncHyperBand: num_stopped=0\n",
      "Bracket: Iter 8.000: -0.8682056963443756 | Iter 4.000: -0.862670049071312 | Iter 2.000: -0.874936506152153 | Iter 1.000: -1.0866646766662598\n",
      "Resources requested: 1.0/24 CPUs, 1.0/2 GPUs, 0.0/38.81 GiB heap, 0.0/19.41 GiB objects\n",
      "Result logdir: C:\\Users\\Tomas\\ray_results\\DEFAULT_2021-12-18_16-46-07\n",
      "Number of trials: 10/10 (9 PENDING, 1 RUNNING)\n",
      "+---------------------+----------+-----------------+--------------+-----------------+--------------+----------+\n",
      "| Trial name          | status   | loc             |   batch_size |   learning_rate |   num_epochs |     loss |\n",
      "|---------------------+----------+-----------------+--------------+-----------------+--------------+----------|\n",
      "| DEFAULT_9dac2_00000 | RUNNING  | 127.0.0.1:25644 |           50 |     0.00450476  |           10 | 0.868206 |\n",
      "| DEFAULT_9dac2_00001 | PENDING  |                 |           50 |     0.0106262   |           10 |          |\n",
      "| DEFAULT_9dac2_00002 | PENDING  |                 |           50 |     0.0841042   |           10 |          |\n",
      "| DEFAULT_9dac2_00003 | PENDING  |                 |          100 |     0.0295763   |            5 |          |\n",
      "| DEFAULT_9dac2_00004 | PENDING  |                 |           50 |     0.00857354  |           10 |          |\n",
      "| DEFAULT_9dac2_00005 | PENDING  |                 |           30 |     0.00963307  |            4 |          |\n",
      "| DEFAULT_9dac2_00006 | PENDING  |                 |           10 |     0.0504903   |            5 |          |\n",
      "| DEFAULT_9dac2_00007 | PENDING  |                 |           30 |     0.09042     |            5 |          |\n",
      "| DEFAULT_9dac2_00008 | PENDING  |                 |           10 |     0.0172876   |            5 |          |\n",
      "| DEFAULT_9dac2_00009 | PENDING  |                 |           50 |     0.000934897 |            4 |          |\n",
      "+---------------------+----------+-----------------+--------------+-----------------+--------------+----------+\n",
      "\n",
      "\n"
     ]
    },
    {
     "name": "stderr",
     "output_type": "stream",
     "text": [
      "\u001b[2m\u001b[36m(ImplicitFunc\r",
      " pid=25644)\u001b[0m \r",
      " 25%|██▌       | 1/4 [00:03<00:10,  3.39s/it]\n"
     ]
    },
    {
     "name": "stdout",
     "output_type": "stream",
     "text": [
      "Result for DEFAULT_9dac2_00000:\n",
      "  accuracy: 0.6777777777777778\n",
      "  date: 2021-12-18_16-47-18\n",
      "  done: false\n",
      "  experiment_id: be170153046a4c29b0616817bc6f34c1\n",
      "  hostname: WSTOMAS21\n",
      "  iterations_since_restore: 9\n",
      "  loss: 0.8684488832950592\n",
      "  node_ip: 127.0.0.1\n",
      "  pid: 25644\n",
      "  should_checkpoint: true\n",
      "  time_since_restore: 68.73900604248047\n",
      "  time_this_iter_s: 7.42842435836792\n",
      "  time_total_s: 68.73900604248047\n",
      "  timestamp: 1639842438\n",
      "  timesteps_since_restore: 0\n",
      "  training_iteration: 9\n",
      "  trial_id: 9dac2_00000\n",
      "  \n"
     ]
    },
    {
     "name": "stderr",
     "output_type": "stream",
     "text": [
      "\u001b[2m\u001b[36m(ImplicitFunc\r",
      " pid=25644)\u001b[0m \r",
      "100%|██████████| 4/4 [00:03<00:00,  1.10it/s]\r\n",
      "\u001b[2m\u001b[36m(ImplicitFunc\r",
      " pid=25644)\u001b[0m \r",
      "  0%|          | 0/9 [00:00<?, ?it/s]\n"
     ]
    },
    {
     "name": "stdout",
     "output_type": "stream",
     "text": [
      "== Status ==\n",
      "Current time: 2021-12-18 16:47:20 (running for 00:01:13.13)\n",
      "Memory usage on this node: 19.1/47.6 GiB\n",
      "Using AsyncHyperBand: num_stopped=0\n",
      "Bracket: Iter 8.000: -0.8682056963443756 | Iter 4.000: -0.862670049071312 | Iter 2.000: -0.874936506152153 | Iter 1.000: -1.0866646766662598\n",
      "Resources requested: 1.0/24 CPUs, 1.0/2 GPUs, 0.0/38.81 GiB heap, 0.0/19.41 GiB objects\n",
      "Result logdir: C:\\Users\\Tomas\\ray_results\\DEFAULT_2021-12-18_16-46-07\n",
      "Number of trials: 10/10 (9 PENDING, 1 RUNNING)\n",
      "+---------------------+----------+-----------------+--------------+-----------------+--------------+----------+\n",
      "| Trial name          | status   | loc             |   batch_size |   learning_rate |   num_epochs |     loss |\n",
      "|---------------------+----------+-----------------+--------------+-----------------+--------------+----------|\n",
      "| DEFAULT_9dac2_00000 | RUNNING  | 127.0.0.1:25644 |           50 |     0.00450476  |           10 | 0.868449 |\n",
      "| DEFAULT_9dac2_00001 | PENDING  |                 |           50 |     0.0106262   |           10 |          |\n",
      "| DEFAULT_9dac2_00002 | PENDING  |                 |           50 |     0.0841042   |           10 |          |\n",
      "| DEFAULT_9dac2_00003 | PENDING  |                 |          100 |     0.0295763   |            5 |          |\n",
      "| DEFAULT_9dac2_00004 | PENDING  |                 |           50 |     0.00857354  |           10 |          |\n",
      "| DEFAULT_9dac2_00005 | PENDING  |                 |           30 |     0.00963307  |            4 |          |\n",
      "| DEFAULT_9dac2_00006 | PENDING  |                 |           10 |     0.0504903   |            5 |          |\n",
      "| DEFAULT_9dac2_00007 | PENDING  |                 |           30 |     0.09042     |            5 |          |\n",
      "| DEFAULT_9dac2_00008 | PENDING  |                 |           10 |     0.0172876   |            5 |          |\n",
      "| DEFAULT_9dac2_00009 | PENDING  |                 |           50 |     0.000934897 |            4 |          |\n",
      "+---------------------+----------+-----------------+--------------+-----------------+--------------+----------+\n",
      "\n",
      "\n"
     ]
    },
    {
     "name": "stderr",
     "output_type": "stream",
     "text": [
      " 11%|█         | 1/9 [00:03<00:26,  3.36s/it]\n",
      "100%|██████████| 9/9 [00:03<00:00,  2.49it/s]\n",
      "  0%|          | 0/4 [00:00<?, ?it/s]\n",
      " 25%|██▌       | 1/4 [00:03<00:10,  3.46s/it]\n"
     ]
    },
    {
     "name": "stdout",
     "output_type": "stream",
     "text": [
      "== Status ==\n",
      "Current time: 2021-12-18 16:47:25 (running for 00:01:18.22)\n",
      "Memory usage on this node: 19.2/47.6 GiB\n",
      "Using AsyncHyperBand: num_stopped=0\n",
      "Bracket: Iter 8.000: -0.8682056963443756 | Iter 4.000: -0.862670049071312 | Iter 2.000: -0.874936506152153 | Iter 1.000: -1.0866646766662598\n",
      "Resources requested: 1.0/24 CPUs, 1.0/2 GPUs, 0.0/38.81 GiB heap, 0.0/19.41 GiB objects\n",
      "Result logdir: C:\\Users\\Tomas\\ray_results\\DEFAULT_2021-12-18_16-46-07\n",
      "Number of trials: 10/10 (9 PENDING, 1 RUNNING)\n",
      "+---------------------+----------+-----------------+--------------+-----------------+--------------+----------+\n",
      "| Trial name          | status   | loc             |   batch_size |   learning_rate |   num_epochs |     loss |\n",
      "|---------------------+----------+-----------------+--------------+-----------------+--------------+----------|\n",
      "| DEFAULT_9dac2_00000 | RUNNING  | 127.0.0.1:25644 |           50 |     0.00450476  |           10 | 0.868449 |\n",
      "| DEFAULT_9dac2_00001 | PENDING  |                 |           50 |     0.0106262   |           10 |          |\n",
      "| DEFAULT_9dac2_00002 | PENDING  |                 |           50 |     0.0841042   |           10 |          |\n",
      "| DEFAULT_9dac2_00003 | PENDING  |                 |          100 |     0.0295763   |            5 |          |\n",
      "| DEFAULT_9dac2_00004 | PENDING  |                 |           50 |     0.00857354  |           10 |          |\n",
      "| DEFAULT_9dac2_00005 | PENDING  |                 |           30 |     0.00963307  |            4 |          |\n",
      "| DEFAULT_9dac2_00006 | PENDING  |                 |           10 |     0.0504903   |            5 |          |\n",
      "| DEFAULT_9dac2_00007 | PENDING  |                 |           30 |     0.09042     |            5 |          |\n",
      "| DEFAULT_9dac2_00008 | PENDING  |                 |           10 |     0.0172876   |            5 |          |\n",
      "| DEFAULT_9dac2_00009 | PENDING  |                 |           50 |     0.000934897 |            4 |          |\n",
      "+---------------------+----------+-----------------+--------------+-----------------+--------------+----------+\n",
      "\n",
      "\n",
      "Result for DEFAULT_9dac2_00000:\n",
      "  accuracy: 0.6777777777777778\n",
      "  date: 2021-12-18_16-47-26\n",
      "  done: false\n",
      "  experiment_id: be170153046a4c29b0616817bc6f34c1\n",
      "  hostname: WSTOMAS21\n",
      "  iterations_since_restore: 10\n",
      "  loss: 0.8700413405895233\n",
      "  node_ip: 127.0.0.1\n",
      "  pid: 25644\n",
      "  should_checkpoint: true\n",
      "  time_since_restore: 76.03128552436829\n",
      "  time_this_iter_s: 7.292279481887817\n",
      "  time_total_s: 76.03128552436829\n",
      "  timestamp: 1639842446\n",
      "  timesteps_since_restore: 0\n",
      "  training_iteration: 10\n",
      "  trial_id: 9dac2_00000\n",
      "  \n",
      "Result for DEFAULT_9dac2_00000:\n",
      "  accuracy: 0.6777777777777778\n",
      "  date: 2021-12-18_16-47-26\n",
      "  done: true\n",
      "  experiment_id: be170153046a4c29b0616817bc6f34c1\n",
      "  experiment_tag: 0_batch_size=50,learning_rate=0.0045048,num_epochs=10\n",
      "  hostname: WSTOMAS21\n",
      "  iterations_since_restore: 10\n",
      "  loss: 0.8700413405895233\n",
      "  node_ip: 127.0.0.1\n",
      "  pid: 25644\n",
      "  should_checkpoint: true\n",
      "  time_since_restore: 76.03128552436829\n",
      "  time_this_iter_s: 7.292279481887817\n",
      "  time_total_s: 76.03128552436829\n",
      "  timestamp: 1639842446\n",
      "  timesteps_since_restore: 0\n",
      "  training_iteration: 10\n",
      "  trial_id: 9dac2_00000\n",
      "  \n"
     ]
    },
    {
     "name": "stderr",
     "output_type": "stream",
     "text": [
      "\u001b[2m\u001b[36m(ImplicitFunc\r",
      " pid=25644)\u001b[0m \r",
      "100%|██████████| 4/4 [00:03<00:00,  1.10it/s]\r\n"
     ]
    },
    {
     "name": "stdout",
     "output_type": "stream",
     "text": [
      "\u001b[2m\u001b[36m(ImplicitFunc\r",
      " pid=25644)\u001b[0m Finished\r\n"
     ]
    },
    {
     "name": "stderr",
     "output_type": "stream",
     "text": [
      "\u001b[2m\u001b[36m(ImplicitFunc\r",
      " pid=26228)\u001b[0m \r",
      "  0%|          | 0/9 [00:00<?, ?it/s]\n"
     ]
    },
    {
     "name": "stdout",
     "output_type": "stream",
     "text": [
      "== Status ==\n",
      "Current time: 2021-12-18 16:47:31 (running for 00:01:23.54)\n",
      "Memory usage on this node: 18.9/47.6 GiB\n",
      "Using AsyncHyperBand: num_stopped=0\n",
      "Bracket: Iter 8.000: -0.8682056963443756 | Iter 4.000: -0.862670049071312 | Iter 2.000: -0.874936506152153 | Iter 1.000: -1.0866646766662598\n",
      "Resources requested: 1.0/24 CPUs, 1.0/2 GPUs, 0.0/38.81 GiB heap, 0.0/19.41 GiB objects\n",
      "Result logdir: C:\\Users\\Tomas\\ray_results\\DEFAULT_2021-12-18_16-46-07\n",
      "Number of trials: 10/10 (8 PENDING, 1 RUNNING, 1 TERMINATED)\n",
      "+---------------------+------------+-----------------+--------------+-----------------+--------------+----------+\n",
      "| Trial name          | status     | loc             |   batch_size |   learning_rate |   num_epochs |     loss |\n",
      "|---------------------+------------+-----------------+--------------+-----------------+--------------+----------|\n",
      "| DEFAULT_9dac2_00001 | RUNNING    | 127.0.0.1:26228 |           50 |     0.0106262   |           10 |          |\n",
      "| DEFAULT_9dac2_00002 | PENDING    |                 |           50 |     0.0841042   |           10 |          |\n",
      "| DEFAULT_9dac2_00003 | PENDING    |                 |          100 |     0.0295763   |            5 |          |\n",
      "| DEFAULT_9dac2_00004 | PENDING    |                 |           50 |     0.00857354  |           10 |          |\n",
      "| DEFAULT_9dac2_00005 | PENDING    |                 |           30 |     0.00963307  |            4 |          |\n",
      "| DEFAULT_9dac2_00006 | PENDING    |                 |           10 |     0.0504903   |            5 |          |\n",
      "| DEFAULT_9dac2_00007 | PENDING    |                 |           30 |     0.09042     |            5 |          |\n",
      "| DEFAULT_9dac2_00008 | PENDING    |                 |           10 |     0.0172876   |            5 |          |\n",
      "| DEFAULT_9dac2_00009 | PENDING    |                 |           50 |     0.000934897 |            4 |          |\n",
      "| DEFAULT_9dac2_00000 | TERMINATED | 127.0.0.1:25644 |           50 |     0.00450476  |           10 | 0.870041 |\n",
      "+---------------------+------------+-----------------+--------------+-----------------+--------------+----------+\n",
      "\n",
      "\n"
     ]
    },
    {
     "name": "stderr",
     "output_type": "stream",
     "text": [
      " 11%|█         | 1/9 [00:03<00:29,  3.74s/it]\n",
      "100%|██████████| 9/9 [00:03<00:00,  2.27it/s]\n",
      "  0%|          | 0/4 [00:00<?, ?it/s]\n"
     ]
    },
    {
     "name": "stdout",
     "output_type": "stream",
     "text": [
      "== Status ==\n",
      "Current time: 2021-12-18 16:47:36 (running for 00:01:28.61)\n",
      "Memory usage on this node: 19.1/47.6 GiB\n",
      "Using AsyncHyperBand: num_stopped=0\n",
      "Bracket: Iter 8.000: -0.8682056963443756 | Iter 4.000: -0.862670049071312 | Iter 2.000: -0.874936506152153 | Iter 1.000: -1.0866646766662598\n",
      "Resources requested: 1.0/24 CPUs, 1.0/2 GPUs, 0.0/38.81 GiB heap, 0.0/19.41 GiB objects\n",
      "Result logdir: C:\\Users\\Tomas\\ray_results\\DEFAULT_2021-12-18_16-46-07\n",
      "Number of trials: 10/10 (8 PENDING, 1 RUNNING, 1 TERMINATED)\n",
      "+---------------------+------------+-----------------+--------------+-----------------+--------------+----------+\n",
      "| Trial name          | status     | loc             |   batch_size |   learning_rate |   num_epochs |     loss |\n",
      "|---------------------+------------+-----------------+--------------+-----------------+--------------+----------|\n",
      "| DEFAULT_9dac2_00001 | RUNNING    | 127.0.0.1:26228 |           50 |     0.0106262   |           10 |          |\n",
      "| DEFAULT_9dac2_00002 | PENDING    |                 |           50 |     0.0841042   |           10 |          |\n",
      "| DEFAULT_9dac2_00003 | PENDING    |                 |          100 |     0.0295763   |            5 |          |\n",
      "| DEFAULT_9dac2_00004 | PENDING    |                 |           50 |     0.00857354  |           10 |          |\n",
      "| DEFAULT_9dac2_00005 | PENDING    |                 |           30 |     0.00963307  |            4 |          |\n",
      "| DEFAULT_9dac2_00006 | PENDING    |                 |           10 |     0.0504903   |            5 |          |\n",
      "| DEFAULT_9dac2_00007 | PENDING    |                 |           30 |     0.09042     |            5 |          |\n",
      "| DEFAULT_9dac2_00008 | PENDING    |                 |           10 |     0.0172876   |            5 |          |\n",
      "| DEFAULT_9dac2_00009 | PENDING    |                 |           50 |     0.000934897 |            4 |          |\n",
      "| DEFAULT_9dac2_00000 | TERMINATED | 127.0.0.1:25644 |           50 |     0.00450476  |           10 | 0.870041 |\n",
      "+---------------------+------------+-----------------+--------------+-----------------+--------------+----------+\n",
      "\n",
      "\n"
     ]
    },
    {
     "name": "stderr",
     "output_type": "stream",
     "text": [
      "\u001b[2m\u001b[36m(ImplicitFunc\r",
      " pid=26228)\u001b[0m \r",
      " 25%|██▌       | 1/4 [00:03<00:10,  3.39s/it]\n"
     ]
    },
    {
     "name": "stdout",
     "output_type": "stream",
     "text": [
      "Result for DEFAULT_9dac2_00001:\n",
      "  accuracy: 0.6777777777777778\n",
      "  date: 2021-12-18_16-47-37\n",
      "  done: true\n",
      "  experiment_id: 1d68d965fd6944c889e078d480efd623\n",
      "  hostname: WSTOMAS21\n",
      "  iterations_since_restore: 1\n",
      "  loss: 2.445548117160797\n",
      "  node_ip: 127.0.0.1\n",
      "  pid: 26228\n",
      "  should_checkpoint: true\n",
      "  time_since_restore: 9.719711542129517\n",
      "  time_this_iter_s: 9.719711542129517\n",
      "  time_total_s: 9.719711542129517\n",
      "  timestamp: 1639842457\n",
      "  timesteps_since_restore: 0\n",
      "  training_iteration: 1\n",
      "  trial_id: 9dac2_00001\n",
      "  \n"
     ]
    },
    {
     "name": "stderr",
     "output_type": "stream",
     "text": [
      "100%|██████████| 4/4 [00:03<00:00,  1.11it/s]\n",
      "  0%|          | 0/9 [00:00<?, ?it/s]\n"
     ]
    },
    {
     "name": "stdout",
     "output_type": "stream",
     "text": [
      "== Status ==\n",
      "Current time: 2021-12-18 16:47:41 (running for 00:01:34.15)\n",
      "Memory usage on this node: 18.9/47.6 GiB\n",
      "Using AsyncHyperBand: num_stopped=1\n",
      "Bracket: Iter 8.000: -0.8682056963443756 | Iter 4.000: -0.862670049071312 | Iter 2.000: -0.874936506152153 | Iter 1.000: -1.7661063969135284\n",
      "Resources requested: 1.0/24 CPUs, 1.0/2 GPUs, 0.0/38.81 GiB heap, 0.0/19.41 GiB objects\n",
      "Result logdir: C:\\Users\\Tomas\\ray_results\\DEFAULT_2021-12-18_16-46-07\n",
      "Number of trials: 10/10 (7 PENDING, 1 RUNNING, 2 TERMINATED)\n",
      "+---------------------+------------+-----------------+--------------+-----------------+--------------+----------+\n",
      "| Trial name          | status     | loc             |   batch_size |   learning_rate |   num_epochs |     loss |\n",
      "|---------------------+------------+-----------------+--------------+-----------------+--------------+----------|\n",
      "| DEFAULT_9dac2_00002 | RUNNING    | 127.0.0.1:14992 |           50 |     0.0841042   |           10 |          |\n",
      "| DEFAULT_9dac2_00003 | PENDING    |                 |          100 |     0.0295763   |            5 |          |\n",
      "| DEFAULT_9dac2_00004 | PENDING    |                 |           50 |     0.00857354  |           10 |          |\n",
      "| DEFAULT_9dac2_00005 | PENDING    |                 |           30 |     0.00963307  |            4 |          |\n",
      "| DEFAULT_9dac2_00006 | PENDING    |                 |           10 |     0.0504903   |            5 |          |\n",
      "| DEFAULT_9dac2_00007 | PENDING    |                 |           30 |     0.09042     |            5 |          |\n",
      "| DEFAULT_9dac2_00008 | PENDING    |                 |           10 |     0.0172876   |            5 |          |\n",
      "| DEFAULT_9dac2_00009 | PENDING    |                 |           50 |     0.000934897 |            4 |          |\n",
      "| DEFAULT_9dac2_00000 | TERMINATED | 127.0.0.1:25644 |           50 |     0.00450476  |           10 | 0.870041 |\n",
      "| DEFAULT_9dac2_00001 | TERMINATED | 127.0.0.1:26228 |           50 |     0.0106262   |           10 | 2.44555  |\n",
      "+---------------------+------------+-----------------+--------------+-----------------+--------------+----------+\n",
      "\n",
      "\n"
     ]
    },
    {
     "name": "stderr",
     "output_type": "stream",
     "text": [
      "\u001b[2m\u001b[36m(ImplicitFunc\r",
      " pid=14992)\u001b[0m \r",
      " 11%|█         | 1/9 [00:03<00:29,  3.68s/it]\n",
      "\u001b[2m\u001b[36m(ImplicitFunc\r",
      " pid=14992)\u001b[0m \r",
      "100%|██████████| 9/9 [00:03<00:00,  2.31it/s]\r\n",
      "\u001b[2m\u001b[36m(ImplicitFunc\r",
      " pid=14992)\u001b[0m \r",
      "  0%|          | 0/4 [00:00<?, ?it/s]\n"
     ]
    },
    {
     "name": "stdout",
     "output_type": "stream",
     "text": [
      "== Status ==\n",
      "Current time: 2021-12-18 16:47:46 (running for 00:01:39.23)\n",
      "Memory usage on this node: 19.1/47.6 GiB\n",
      "Using AsyncHyperBand: num_stopped=1\n",
      "Bracket: Iter 8.000: -0.8682056963443756 | Iter 4.000: -0.862670049071312 | Iter 2.000: -0.874936506152153 | Iter 1.000: -1.7661063969135284\n",
      "Resources requested: 1.0/24 CPUs, 1.0/2 GPUs, 0.0/38.81 GiB heap, 0.0/19.41 GiB objects\n",
      "Result logdir: C:\\Users\\Tomas\\ray_results\\DEFAULT_2021-12-18_16-46-07\n",
      "Number of trials: 10/10 (7 PENDING, 1 RUNNING, 2 TERMINATED)\n",
      "+---------------------+------------+-----------------+--------------+-----------------+--------------+----------+\n",
      "| Trial name          | status     | loc             |   batch_size |   learning_rate |   num_epochs |     loss |\n",
      "|---------------------+------------+-----------------+--------------+-----------------+--------------+----------|\n",
      "| DEFAULT_9dac2_00002 | RUNNING    | 127.0.0.1:14992 |           50 |     0.0841042   |           10 |          |\n",
      "| DEFAULT_9dac2_00003 | PENDING    |                 |          100 |     0.0295763   |            5 |          |\n",
      "| DEFAULT_9dac2_00004 | PENDING    |                 |           50 |     0.00857354  |           10 |          |\n",
      "| DEFAULT_9dac2_00005 | PENDING    |                 |           30 |     0.00963307  |            4 |          |\n",
      "| DEFAULT_9dac2_00006 | PENDING    |                 |           10 |     0.0504903   |            5 |          |\n",
      "| DEFAULT_9dac2_00007 | PENDING    |                 |           30 |     0.09042     |            5 |          |\n",
      "| DEFAULT_9dac2_00008 | PENDING    |                 |           10 |     0.0172876   |            5 |          |\n",
      "| DEFAULT_9dac2_00009 | PENDING    |                 |           50 |     0.000934897 |            4 |          |\n",
      "| DEFAULT_9dac2_00000 | TERMINATED | 127.0.0.1:25644 |           50 |     0.00450476  |           10 | 0.870041 |\n",
      "| DEFAULT_9dac2_00001 | TERMINATED | 127.0.0.1:26228 |           50 |     0.0106262   |           10 | 2.44555  |\n",
      "+---------------------+------------+-----------------+--------------+-----------------+--------------+----------+\n",
      "\n",
      "\n"
     ]
    },
    {
     "name": "stderr",
     "output_type": "stream",
     "text": [
      "\u001b[2m\u001b[36m(ImplicitFunc\r",
      " pid=14992)\u001b[0m \r",
      " 25%|██▌       | 1/4 [00:03<00:10,  3.39s/it]\n",
      "\u001b[2m\u001b[36m(ImplicitFunc\r",
      " pid=14992)\u001b[0m \r",
      "100%|██████████| 4/4 [00:03<00:00,  1.11it/s]\r\n"
     ]
    },
    {
     "name": "stdout",
     "output_type": "stream",
     "text": [
      "Result for DEFAULT_9dac2_00002:\n",
      "  accuracy: 0.6777777777777778\n",
      "  date: 2021-12-18_16-47-49\n",
      "  done: false\n",
      "  experiment_id: 6ebd04e40ed648edb513ea2f324fb05e\n",
      "  hostname: WSTOMAS21\n",
      "  iterations_since_restore: 1\n",
      "  loss: 0.8885078877210617\n",
      "  node_ip: 127.0.0.1\n",
      "  pid: 14992\n",
      "  should_checkpoint: true\n",
      "  time_since_restore: 9.558370351791382\n",
      "  time_this_iter_s: 9.558370351791382\n",
      "  time_total_s: 9.558370351791382\n",
      "  timestamp: 1639842469\n",
      "  timesteps_since_restore: 0\n",
      "  training_iteration: 1\n",
      "  trial_id: 9dac2_00002\n",
      "  \n"
     ]
    },
    {
     "name": "stderr",
     "output_type": "stream",
     "text": [
      "\u001b[2m\u001b[36m(ImplicitFunc\r",
      " pid=14992)\u001b[0m \r",
      "  0%|          | 0/9 [00:00<?, ?it/s]\n"
     ]
    },
    {
     "name": "stdout",
     "output_type": "stream",
     "text": [
      "== Status ==\n",
      "Current time: 2021-12-18 16:47:52 (running for 00:01:44.63)\n",
      "Memory usage on this node: 19.2/47.6 GiB\n",
      "Using AsyncHyperBand: num_stopped=1\n",
      "Bracket: Iter 8.000: -0.8682056963443756 | Iter 4.000: -0.862670049071312 | Iter 2.000: -0.874936506152153 | Iter 1.000: -1.0866646766662598\n",
      "Resources requested: 1.0/24 CPUs, 1.0/2 GPUs, 0.0/38.81 GiB heap, 0.0/19.41 GiB objects\n",
      "Result logdir: C:\\Users\\Tomas\\ray_results\\DEFAULT_2021-12-18_16-46-07\n",
      "Number of trials: 10/10 (7 PENDING, 1 RUNNING, 2 TERMINATED)\n",
      "+---------------------+------------+-----------------+--------------+-----------------+--------------+----------+\n",
      "| Trial name          | status     | loc             |   batch_size |   learning_rate |   num_epochs |     loss |\n",
      "|---------------------+------------+-----------------+--------------+-----------------+--------------+----------|\n",
      "| DEFAULT_9dac2_00002 | RUNNING    | 127.0.0.1:14992 |           50 |     0.0841042   |           10 | 0.888508 |\n",
      "| DEFAULT_9dac2_00003 | PENDING    |                 |          100 |     0.0295763   |            5 |          |\n",
      "| DEFAULT_9dac2_00004 | PENDING    |                 |           50 |     0.00857354  |           10 |          |\n",
      "| DEFAULT_9dac2_00005 | PENDING    |                 |           30 |     0.00963307  |            4 |          |\n",
      "| DEFAULT_9dac2_00006 | PENDING    |                 |           10 |     0.0504903   |            5 |          |\n",
      "| DEFAULT_9dac2_00007 | PENDING    |                 |           30 |     0.09042     |            5 |          |\n",
      "| DEFAULT_9dac2_00008 | PENDING    |                 |           10 |     0.0172876   |            5 |          |\n",
      "| DEFAULT_9dac2_00009 | PENDING    |                 |           50 |     0.000934897 |            4 |          |\n",
      "| DEFAULT_9dac2_00000 | TERMINATED | 127.0.0.1:25644 |           50 |     0.00450476  |           10 | 0.870041 |\n",
      "| DEFAULT_9dac2_00001 | TERMINATED | 127.0.0.1:26228 |           50 |     0.0106262   |           10 | 2.44555  |\n",
      "+---------------------+------------+-----------------+--------------+-----------------+--------------+----------+\n",
      "\n",
      "\n"
     ]
    },
    {
     "name": "stderr",
     "output_type": "stream",
     "text": [
      " 11%|█         | 1/9 [00:03<00:27,  3.42s/it]\n",
      "100%|██████████| 9/9 [00:03<00:00,  2.46it/s]\n",
      "  0%|          | 0/4 [00:00<?, ?it/s]\n",
      " 25%|██▌       | 1/4 [00:03<00:10,  3.38s/it]\n",
      "100%|██████████| 4/4 [00:03<00:00,  1.12it/s]\n",
      "  0%|          | 0/9 [00:00<?, ?it/s]\n"
     ]
    },
    {
     "name": "stdout",
     "output_type": "stream",
     "text": [
      "Result for DEFAULT_9dac2_00002:\n",
      "  accuracy: 0.6777777777777778\n",
      "  date: 2021-12-18_16-47-56\n",
      "  done: false\n",
      "  experiment_id: 6ebd04e40ed648edb513ea2f324fb05e\n",
      "  hostname: WSTOMAS21\n",
      "  iterations_since_restore: 2\n",
      "  loss: 0.8739355951547623\n",
      "  node_ip: 127.0.0.1\n",
      "  pid: 14992\n",
      "  should_checkpoint: true\n",
      "  time_since_restore: 16.829198122024536\n",
      "  time_this_iter_s: 7.270827770233154\n",
      "  time_total_s: 16.829198122024536\n",
      "  timestamp: 1639842476\n",
      "  timesteps_since_restore: 0\n",
      "  training_iteration: 2\n",
      "  trial_id: 9dac2_00002\n",
      "  \n",
      "== Status ==\n",
      "Current time: 2021-12-18 16:47:57 (running for 00:01:49.85)\n",
      "Memory usage on this node: 19.1/47.6 GiB\n",
      "Using AsyncHyperBand: num_stopped=1\n",
      "Bracket: Iter 8.000: -0.8682056963443756 | Iter 4.000: -0.862670049071312 | Iter 2.000: -0.8744360506534576 | Iter 1.000: -1.0866646766662598\n",
      "Resources requested: 1.0/24 CPUs, 1.0/2 GPUs, 0.0/38.81 GiB heap, 0.0/19.41 GiB objects\n",
      "Result logdir: C:\\Users\\Tomas\\ray_results\\DEFAULT_2021-12-18_16-46-07\n",
      "Number of trials: 10/10 (7 PENDING, 1 RUNNING, 2 TERMINATED)\n",
      "+---------------------+------------+-----------------+--------------+-----------------+--------------+----------+\n",
      "| Trial name          | status     | loc             |   batch_size |   learning_rate |   num_epochs |     loss |\n",
      "|---------------------+------------+-----------------+--------------+-----------------+--------------+----------|\n",
      "| DEFAULT_9dac2_00002 | RUNNING    | 127.0.0.1:14992 |           50 |     0.0841042   |           10 | 0.873936 |\n",
      "| DEFAULT_9dac2_00003 | PENDING    |                 |          100 |     0.0295763   |            5 |          |\n",
      "| DEFAULT_9dac2_00004 | PENDING    |                 |           50 |     0.00857354  |           10 |          |\n",
      "| DEFAULT_9dac2_00005 | PENDING    |                 |           30 |     0.00963307  |            4 |          |\n",
      "| DEFAULT_9dac2_00006 | PENDING    |                 |           10 |     0.0504903   |            5 |          |\n",
      "| DEFAULT_9dac2_00007 | PENDING    |                 |           30 |     0.09042     |            5 |          |\n",
      "| DEFAULT_9dac2_00008 | PENDING    |                 |           10 |     0.0172876   |            5 |          |\n",
      "| DEFAULT_9dac2_00009 | PENDING    |                 |           50 |     0.000934897 |            4 |          |\n",
      "| DEFAULT_9dac2_00000 | TERMINATED | 127.0.0.1:25644 |           50 |     0.00450476  |           10 | 0.870041 |\n",
      "| DEFAULT_9dac2_00001 | TERMINATED | 127.0.0.1:26228 |           50 |     0.0106262   |           10 | 2.44555  |\n",
      "+---------------------+------------+-----------------+--------------+-----------------+--------------+----------+\n",
      "\n",
      "\n"
     ]
    },
    {
     "name": "stderr",
     "output_type": "stream",
     "text": [
      " 11%|█         | 1/9 [00:03<00:27,  3.46s/it]\n",
      "100%|██████████| 9/9 [00:03<00:00,  2.42it/s]\n",
      "  0%|          | 0/4 [00:00<?, ?it/s]\n"
     ]
    },
    {
     "name": "stdout",
     "output_type": "stream",
     "text": [
      "== Status ==\n",
      "Current time: 2021-12-18 16:48:02 (running for 00:01:54.95)\n",
      "Memory usage on this node: 19.1/47.6 GiB\n",
      "Using AsyncHyperBand: num_stopped=1\n",
      "Bracket: Iter 8.000: -0.8682056963443756 | Iter 4.000: -0.862670049071312 | Iter 2.000: -0.8744360506534576 | Iter 1.000: -1.0866646766662598\n",
      "Resources requested: 1.0/24 CPUs, 1.0/2 GPUs, 0.0/38.81 GiB heap, 0.0/19.41 GiB objects\n",
      "Result logdir: C:\\Users\\Tomas\\ray_results\\DEFAULT_2021-12-18_16-46-07\n",
      "Number of trials: 10/10 (7 PENDING, 1 RUNNING, 2 TERMINATED)\n",
      "+---------------------+------------+-----------------+--------------+-----------------+--------------+----------+\n",
      "| Trial name          | status     | loc             |   batch_size |   learning_rate |   num_epochs |     loss |\n",
      "|---------------------+------------+-----------------+--------------+-----------------+--------------+----------|\n",
      "| DEFAULT_9dac2_00002 | RUNNING    | 127.0.0.1:14992 |           50 |     0.0841042   |           10 | 0.873936 |\n",
      "| DEFAULT_9dac2_00003 | PENDING    |                 |          100 |     0.0295763   |            5 |          |\n",
      "| DEFAULT_9dac2_00004 | PENDING    |                 |           50 |     0.00857354  |           10 |          |\n",
      "| DEFAULT_9dac2_00005 | PENDING    |                 |           30 |     0.00963307  |            4 |          |\n",
      "| DEFAULT_9dac2_00006 | PENDING    |                 |           10 |     0.0504903   |            5 |          |\n",
      "| DEFAULT_9dac2_00007 | PENDING    |                 |           30 |     0.09042     |            5 |          |\n",
      "| DEFAULT_9dac2_00008 | PENDING    |                 |           10 |     0.0172876   |            5 |          |\n",
      "| DEFAULT_9dac2_00009 | PENDING    |                 |           50 |     0.000934897 |            4 |          |\n",
      "| DEFAULT_9dac2_00000 | TERMINATED | 127.0.0.1:25644 |           50 |     0.00450476  |           10 | 0.870041 |\n",
      "| DEFAULT_9dac2_00001 | TERMINATED | 127.0.0.1:26228 |           50 |     0.0106262   |           10 | 2.44555  |\n",
      "+---------------------+------------+-----------------+--------------+-----------------+--------------+----------+\n",
      "\n",
      "\n"
     ]
    },
    {
     "name": "stderr",
     "output_type": "stream",
     "text": [
      "\u001b[2m\u001b[36m(ImplicitFunc\r",
      " pid=14992)\u001b[0m \r",
      " 25%|██▌       | 1/4 [00:03<00:10,  3.37s/it]\n"
     ]
    },
    {
     "name": "stdout",
     "output_type": "stream",
     "text": [
      "Result for DEFAULT_9dac2_00002:\n",
      "  accuracy: 0.6777777777777778\n",
      "  date: 2021-12-18_16-48-03\n",
      "  done: false\n",
      "  experiment_id: 6ebd04e40ed648edb513ea2f324fb05e\n",
      "  hostname: WSTOMAS21\n",
      "  iterations_since_restore: 3\n",
      "  loss: 0.8942067623138428\n",
      "  node_ip: 127.0.0.1\n",
      "  pid: 14992\n",
      "  should_checkpoint: true\n",
      "  time_since_restore: 24.193145036697388\n",
      "  time_this_iter_s: 7.363946914672852\n",
      "  time_total_s: 24.193145036697388\n",
      "  timestamp: 1639842483\n",
      "  timesteps_since_restore: 0\n",
      "  training_iteration: 3\n",
      "  trial_id: 9dac2_00002\n",
      "  \n"
     ]
    },
    {
     "name": "stderr",
     "output_type": "stream",
     "text": [
      "100%|██████████| 4/4 [00:03<00:00,  1.11it/s]\n",
      "  0%|          | 0/9 [00:00<?, ?it/s]\n",
      " 11%|█         | 1/9 [00:03<00:26,  3.31s/it]\n",
      " 78%|███████▊  | 7/9 [00:03<00:00,  2.77it/s]\n",
      "100%|██████████| 9/9 [00:03<00:00,  2.50it/s]\n",
      "  0%|          | 0/4 [00:00<?, ?it/s]\n"
     ]
    },
    {
     "name": "stdout",
     "output_type": "stream",
     "text": [
      "== Status ==\n",
      "Current time: 2021-12-18 16:48:08 (running for 00:02:00.27)\n",
      "Memory usage on this node: 19.1/47.6 GiB\n",
      "Using AsyncHyperBand: num_stopped=1\n",
      "Bracket: Iter 8.000: -0.8682056963443756 | Iter 4.000: -0.862670049071312 | Iter 2.000: -0.8744360506534576 | Iter 1.000: -1.0866646766662598\n",
      "Resources requested: 1.0/24 CPUs, 1.0/2 GPUs, 0.0/38.81 GiB heap, 0.0/19.41 GiB objects\n",
      "Result logdir: C:\\Users\\Tomas\\ray_results\\DEFAULT_2021-12-18_16-46-07\n",
      "Number of trials: 10/10 (7 PENDING, 1 RUNNING, 2 TERMINATED)\n",
      "+---------------------+------------+-----------------+--------------+-----------------+--------------+----------+\n",
      "| Trial name          | status     | loc             |   batch_size |   learning_rate |   num_epochs |     loss |\n",
      "|---------------------+------------+-----------------+--------------+-----------------+--------------+----------|\n",
      "| DEFAULT_9dac2_00002 | RUNNING    | 127.0.0.1:14992 |           50 |     0.0841042   |           10 | 0.894207 |\n",
      "| DEFAULT_9dac2_00003 | PENDING    |                 |          100 |     0.0295763   |            5 |          |\n",
      "| DEFAULT_9dac2_00004 | PENDING    |                 |           50 |     0.00857354  |           10 |          |\n",
      "| DEFAULT_9dac2_00005 | PENDING    |                 |           30 |     0.00963307  |            4 |          |\n",
      "| DEFAULT_9dac2_00006 | PENDING    |                 |           10 |     0.0504903   |            5 |          |\n",
      "| DEFAULT_9dac2_00007 | PENDING    |                 |           30 |     0.09042     |            5 |          |\n",
      "| DEFAULT_9dac2_00008 | PENDING    |                 |           10 |     0.0172876   |            5 |          |\n",
      "| DEFAULT_9dac2_00009 | PENDING    |                 |           50 |     0.000934897 |            4 |          |\n",
      "| DEFAULT_9dac2_00000 | TERMINATED | 127.0.0.1:25644 |           50 |     0.00450476  |           10 | 0.870041 |\n",
      "| DEFAULT_9dac2_00001 | TERMINATED | 127.0.0.1:26228 |           50 |     0.0106262   |           10 | 2.44555  |\n",
      "+---------------------+------------+-----------------+--------------+-----------------+--------------+----------+\n",
      "\n",
      "\n"
     ]
    },
    {
     "name": "stderr",
     "output_type": "stream",
     "text": [
      "\u001b[2m\u001b[36m(ImplicitFunc\r",
      " pid=14992)\u001b[0m \r",
      " 25%|██▌       | 1/4 [00:03<00:10,  3.43s/it]\n"
     ]
    },
    {
     "name": "stdout",
     "output_type": "stream",
     "text": [
      "Result for DEFAULT_9dac2_00002:\n",
      "  accuracy: 0.6777777777777778\n",
      "  date: 2021-12-18_16-48-11\n",
      "  done: true\n",
      "  experiment_id: 6ebd04e40ed648edb513ea2f324fb05e\n",
      "  hostname: WSTOMAS21\n",
      "  iterations_since_restore: 4\n",
      "  loss: 0.8833824396133423\n",
      "  node_ip: 127.0.0.1\n",
      "  pid: 14992\n",
      "  should_checkpoint: true\n",
      "  time_since_restore: 31.46160578727722\n",
      "  time_this_iter_s: 7.268460750579834\n",
      "  time_total_s: 31.46160578727722\n",
      "  timestamp: 1639842491\n",
      "  timesteps_since_restore: 0\n",
      "  training_iteration: 4\n",
      "  trial_id: 9dac2_00002\n",
      "  \n"
     ]
    },
    {
     "name": "stderr",
     "output_type": "stream",
     "text": [
      "\u001b[2m\u001b[36m(ImplicitFunc\r",
      " pid=14992)\u001b[0m \r",
      "100%|██████████| 4/4 [00:03<00:00,  1.10it/s]\r\n"
     ]
    },
    {
     "name": "stdout",
     "output_type": "stream",
     "text": [
      "== Status ==\n",
      "Current time: 2021-12-18 16:48:13 (running for 00:02:05.55)\n",
      "Memory usage on this node: 17.8/47.6 GiB\n",
      "Using AsyncHyperBand: num_stopped=2\n",
      "Bracket: Iter 8.000: -0.8682056963443756 | Iter 4.000: -0.8730262443423271 | Iter 2.000: -0.8744360506534576 | Iter 1.000: -1.0866646766662598\n",
      "Resources requested: 1.0/24 CPUs, 1.0/2 GPUs, 0.0/38.81 GiB heap, 0.0/19.41 GiB objects\n",
      "Result logdir: C:\\Users\\Tomas\\ray_results\\DEFAULT_2021-12-18_16-46-07\n",
      "Number of trials: 10/10 (6 PENDING, 1 RUNNING, 3 TERMINATED)\n",
      "+---------------------+------------+-----------------+--------------+-----------------+--------------+----------+\n",
      "| Trial name          | status     | loc             |   batch_size |   learning_rate |   num_epochs |     loss |\n",
      "|---------------------+------------+-----------------+--------------+-----------------+--------------+----------|\n",
      "| DEFAULT_9dac2_00003 | RUNNING    | 127.0.0.1:20816 |          100 |     0.0295763   |            5 |          |\n",
      "| DEFAULT_9dac2_00004 | PENDING    |                 |           50 |     0.00857354  |           10 |          |\n",
      "| DEFAULT_9dac2_00005 | PENDING    |                 |           30 |     0.00963307  |            4 |          |\n",
      "| DEFAULT_9dac2_00006 | PENDING    |                 |           10 |     0.0504903   |            5 |          |\n",
      "| DEFAULT_9dac2_00007 | PENDING    |                 |           30 |     0.09042     |            5 |          |\n",
      "| DEFAULT_9dac2_00008 | PENDING    |                 |           10 |     0.0172876   |            5 |          |\n",
      "| DEFAULT_9dac2_00009 | PENDING    |                 |           50 |     0.000934897 |            4 |          |\n",
      "| DEFAULT_9dac2_00000 | TERMINATED | 127.0.0.1:25644 |           50 |     0.00450476  |           10 | 0.870041 |\n",
      "| DEFAULT_9dac2_00001 | TERMINATED | 127.0.0.1:26228 |           50 |     0.0106262   |           10 | 2.44555  |\n",
      "| DEFAULT_9dac2_00002 | TERMINATED | 127.0.0.1:14992 |           50 |     0.0841042   |           10 | 0.883382 |\n",
      "+---------------------+------------+-----------------+--------------+-----------------+--------------+----------+\n",
      "\n",
      "\n"
     ]
    },
    {
     "name": "stderr",
     "output_type": "stream",
     "text": [
      "\u001b[2m\u001b[36m(ImplicitFunc\r",
      " pid=20816)\u001b[0m \r",
      "  0%|          | 0/5 [00:00<?, ?it/s]\n"
     ]
    },
    {
     "name": "stdout",
     "output_type": "stream",
     "text": [
      "== Status ==\n",
      "Current time: 2021-12-18 16:48:18 (running for 00:02:10.64)\n",
      "Memory usage on this node: 19.0/47.6 GiB\n",
      "Using AsyncHyperBand: num_stopped=2\n",
      "Bracket: Iter 8.000: -0.8682056963443756 | Iter 4.000: -0.8730262443423271 | Iter 2.000: -0.8744360506534576 | Iter 1.000: -1.0866646766662598\n",
      "Resources requested: 1.0/24 CPUs, 1.0/2 GPUs, 0.0/38.81 GiB heap, 0.0/19.41 GiB objects\n",
      "Result logdir: C:\\Users\\Tomas\\ray_results\\DEFAULT_2021-12-18_16-46-07\n",
      "Number of trials: 10/10 (6 PENDING, 1 RUNNING, 3 TERMINATED)\n",
      "+---------------------+------------+-----------------+--------------+-----------------+--------------+----------+\n",
      "| Trial name          | status     | loc             |   batch_size |   learning_rate |   num_epochs |     loss |\n",
      "|---------------------+------------+-----------------+--------------+-----------------+--------------+----------|\n",
      "| DEFAULT_9dac2_00003 | RUNNING    | 127.0.0.1:20816 |          100 |     0.0295763   |            5 |          |\n",
      "| DEFAULT_9dac2_00004 | PENDING    |                 |           50 |     0.00857354  |           10 |          |\n",
      "| DEFAULT_9dac2_00005 | PENDING    |                 |           30 |     0.00963307  |            4 |          |\n",
      "| DEFAULT_9dac2_00006 | PENDING    |                 |           10 |     0.0504903   |            5 |          |\n",
      "| DEFAULT_9dac2_00007 | PENDING    |                 |           30 |     0.09042     |            5 |          |\n",
      "| DEFAULT_9dac2_00008 | PENDING    |                 |           10 |     0.0172876   |            5 |          |\n",
      "| DEFAULT_9dac2_00009 | PENDING    |                 |           50 |     0.000934897 |            4 |          |\n",
      "| DEFAULT_9dac2_00000 | TERMINATED | 127.0.0.1:25644 |           50 |     0.00450476  |           10 | 0.870041 |\n",
      "| DEFAULT_9dac2_00001 | TERMINATED | 127.0.0.1:26228 |           50 |     0.0106262   |           10 | 2.44555  |\n",
      "| DEFAULT_9dac2_00002 | TERMINATED | 127.0.0.1:14992 |           50 |     0.0841042   |           10 | 0.883382 |\n",
      "+---------------------+------------+-----------------+--------------+-----------------+--------------+----------+\n",
      "\n",
      "\n"
     ]
    },
    {
     "name": "stderr",
     "output_type": "stream",
     "text": [
      " 20%|██        | 1/5 [00:03<00:15,  3.77s/it]\n",
      "100%|██████████| 5/5 [00:03<00:00,  1.26it/s]\n",
      "  0%|          | 0/2 [00:00<?, ?it/s]\n",
      " 50%|█████     | 1/2 [00:03<00:03,  3.38s/it]\n",
      "100%|██████████| 2/2 [00:03<00:00,  1.80s/it]\n"
     ]
    },
    {
     "name": "stdout",
     "output_type": "stream",
     "text": [
      "Result for DEFAULT_9dac2_00003:\n",
      "  accuracy: 0.6777777777777778\n",
      "  date: 2021-12-18_16-48-22\n",
      "  done: true\n",
      "  experiment_id: e9f0857c3d4d4f539fc728ee88fccdbd\n",
      "  hostname: WSTOMAS21\n",
      "  iterations_since_restore: 1\n",
      "  loss: 17.174986839294434\n",
      "  node_ip: 127.0.0.1\n",
      "  pid: 20816\n",
      "  should_checkpoint: true\n",
      "  time_since_restore: 9.669596433639526\n",
      "  time_this_iter_s: 9.669596433639526\n",
      "  time_total_s: 9.669596433639526\n",
      "  timestamp: 1639842502\n",
      "  timesteps_since_restore: 0\n",
      "  training_iteration: 1\n",
      "  trial_id: 9dac2_00003\n",
      "  \n",
      "== Status ==\n",
      "Current time: 2021-12-18 16:48:23 (running for 00:02:16.15)\n",
      "Memory usage on this node: 17.7/47.6 GiB\n",
      "Using AsyncHyperBand: num_stopped=3\n",
      "Bracket: Iter 8.000: -0.8682056963443756 | Iter 4.000: -0.8730262443423271 | Iter 2.000: -0.8744360506534576 | Iter 1.000: -1.7661063969135284\n",
      "Resources requested: 1.0/24 CPUs, 1.0/2 GPUs, 0.0/38.81 GiB heap, 0.0/19.41 GiB objects\n",
      "Result logdir: C:\\Users\\Tomas\\ray_results\\DEFAULT_2021-12-18_16-46-07\n",
      "Number of trials: 10/10 (5 PENDING, 1 RUNNING, 4 TERMINATED)\n",
      "+---------------------+------------+-----------------+--------------+-----------------+--------------+-----------+\n",
      "| Trial name          | status     | loc             |   batch_size |   learning_rate |   num_epochs |      loss |\n",
      "|---------------------+------------+-----------------+--------------+-----------------+--------------+-----------|\n",
      "| DEFAULT_9dac2_00004 | RUNNING    | 127.0.0.1:9948  |           50 |     0.00857354  |           10 |           |\n",
      "| DEFAULT_9dac2_00005 | PENDING    |                 |           30 |     0.00963307  |            4 |           |\n",
      "| DEFAULT_9dac2_00006 | PENDING    |                 |           10 |     0.0504903   |            5 |           |\n",
      "| DEFAULT_9dac2_00007 | PENDING    |                 |           30 |     0.09042     |            5 |           |\n",
      "| DEFAULT_9dac2_00008 | PENDING    |                 |           10 |     0.0172876   |            5 |           |\n",
      "| DEFAULT_9dac2_00009 | PENDING    |                 |           50 |     0.000934897 |            4 |           |\n",
      "| DEFAULT_9dac2_00000 | TERMINATED | 127.0.0.1:25644 |           50 |     0.00450476  |           10 |  0.870041 |\n",
      "| DEFAULT_9dac2_00001 | TERMINATED | 127.0.0.1:26228 |           50 |     0.0106262   |           10 |  2.44555  |\n",
      "| DEFAULT_9dac2_00002 | TERMINATED | 127.0.0.1:14992 |           50 |     0.0841042   |           10 |  0.883382 |\n",
      "| DEFAULT_9dac2_00003 | TERMINATED | 127.0.0.1:20816 |          100 |     0.0295763   |            5 | 17.175    |\n",
      "+---------------------+------------+-----------------+--------------+-----------------+--------------+-----------+\n",
      "\n",
      "\n"
     ]
    },
    {
     "name": "stderr",
     "output_type": "stream",
     "text": [
      "\u001b[2m\u001b[36m(ImplicitFunc\r",
      " pid=9948)\u001b[0m \r",
      "  0%|          | 0/9 [00:00<?, ?it/s]\n"
     ]
    },
    {
     "name": "stdout",
     "output_type": "stream",
     "text": [
      "== Status ==\n",
      "Current time: 2021-12-18 16:48:29 (running for 00:02:22.11)\n",
      "Memory usage on this node: 19.0/47.6 GiB\n",
      "Using AsyncHyperBand: num_stopped=3\n",
      "Bracket: Iter 8.000: -0.8682056963443756 | Iter 4.000: -0.8730262443423271 | Iter 2.000: -0.8744360506534576 | Iter 1.000: -1.7661063969135284\n",
      "Resources requested: 1.0/24 CPUs, 1.0/2 GPUs, 0.0/38.81 GiB heap, 0.0/19.41 GiB objects\n",
      "Result logdir: C:\\Users\\Tomas\\ray_results\\DEFAULT_2021-12-18_16-46-07\n",
      "Number of trials: 10/10 (5 PENDING, 1 RUNNING, 4 TERMINATED)\n",
      "+---------------------+------------+-----------------+--------------+-----------------+--------------+-----------+\n",
      "| Trial name          | status     | loc             |   batch_size |   learning_rate |   num_epochs |      loss |\n",
      "|---------------------+------------+-----------------+--------------+-----------------+--------------+-----------|\n",
      "| DEFAULT_9dac2_00004 | RUNNING    | 127.0.0.1:9948  |           50 |     0.00857354  |           10 |           |\n",
      "| DEFAULT_9dac2_00005 | PENDING    |                 |           30 |     0.00963307  |            4 |           |\n",
      "| DEFAULT_9dac2_00006 | PENDING    |                 |           10 |     0.0504903   |            5 |           |\n",
      "| DEFAULT_9dac2_00007 | PENDING    |                 |           30 |     0.09042     |            5 |           |\n",
      "| DEFAULT_9dac2_00008 | PENDING    |                 |           10 |     0.0172876   |            5 |           |\n",
      "| DEFAULT_9dac2_00009 | PENDING    |                 |           50 |     0.000934897 |            4 |           |\n",
      "| DEFAULT_9dac2_00000 | TERMINATED | 127.0.0.1:25644 |           50 |     0.00450476  |           10 |  0.870041 |\n",
      "| DEFAULT_9dac2_00001 | TERMINATED | 127.0.0.1:26228 |           50 |     0.0106262   |           10 |  2.44555  |\n",
      "| DEFAULT_9dac2_00002 | TERMINATED | 127.0.0.1:14992 |           50 |     0.0841042   |           10 |  0.883382 |\n",
      "| DEFAULT_9dac2_00003 | TERMINATED | 127.0.0.1:20816 |          100 |     0.0295763   |            5 | 17.175    |\n",
      "+---------------------+------------+-----------------+--------------+-----------------+--------------+-----------+\n",
      "\n",
      "\n"
     ]
    },
    {
     "name": "stderr",
     "output_type": "stream",
     "text": [
      " 11%|█         | 1/9 [00:03<00:29,  3.68s/it]\n",
      "100%|██████████| 9/9 [00:03<00:00,  2.30it/s]\n",
      "  0%|          | 0/4 [00:00<?, ?it/s]\n",
      " 25%|██▌       | 1/4 [00:03<00:10,  3.42s/it]\n"
     ]
    },
    {
     "name": "stdout",
     "output_type": "stream",
     "text": [
      "Result for DEFAULT_9dac2_00004:\n",
      "  accuracy: 0.6777777777777778\n",
      "  date: 2021-12-18_16-48-34\n",
      "  done: false\n",
      "  experiment_id: 8f4d95b2785440e19f6efd56c4739a26\n",
      "  hostname: WSTOMAS21\n",
      "  iterations_since_restore: 1\n",
      "  loss: 0.9575272500514984\n",
      "  node_ip: 127.0.0.1\n",
      "  pid: 9948\n",
      "  should_checkpoint: true\n",
      "  time_since_restore: 9.558510541915894\n",
      "  time_this_iter_s: 9.558510541915894\n",
      "  time_total_s: 9.558510541915894\n",
      "  timestamp: 1639842514\n",
      "  timesteps_since_restore: 0\n",
      "  training_iteration: 1\n",
      "  trial_id: 9dac2_00004\n",
      "  \n"
     ]
    },
    {
     "name": "stderr",
     "output_type": "stream",
     "text": [
      "\u001b[2m\u001b[36m(ImplicitFunc\r",
      " pid=9948)\u001b[0m \r",
      "100%|██████████| 4/4 [00:03<00:00,  1.11it/s]\r\n",
      "\u001b[2m\u001b[36m(ImplicitFunc\r",
      " pid=9948)\u001b[0m \r",
      "  0%|          | 0/9 [00:00<?, ?it/s]\n"
     ]
    },
    {
     "name": "stdout",
     "output_type": "stream",
     "text": [
      "== Status ==\n",
      "Current time: 2021-12-18 16:48:35 (running for 00:02:27.61)\n",
      "Memory usage on this node: 19.1/47.6 GiB\n",
      "Using AsyncHyperBand: num_stopped=3\n",
      "Bracket: Iter 8.000: -0.8682056963443756 | Iter 4.000: -0.8730262443423271 | Iter 2.000: -0.8744360506534576 | Iter 1.000: -1.0866646766662598\n",
      "Resources requested: 1.0/24 CPUs, 1.0/2 GPUs, 0.0/38.81 GiB heap, 0.0/19.41 GiB objects\n",
      "Result logdir: C:\\Users\\Tomas\\ray_results\\DEFAULT_2021-12-18_16-46-07\n",
      "Number of trials: 10/10 (5 PENDING, 1 RUNNING, 4 TERMINATED)\n",
      "+---------------------+------------+-----------------+--------------+-----------------+--------------+-----------+\n",
      "| Trial name          | status     | loc             |   batch_size |   learning_rate |   num_epochs |      loss |\n",
      "|---------------------+------------+-----------------+--------------+-----------------+--------------+-----------|\n",
      "| DEFAULT_9dac2_00004 | RUNNING    | 127.0.0.1:9948  |           50 |     0.00857354  |           10 |  0.957527 |\n",
      "| DEFAULT_9dac2_00005 | PENDING    |                 |           30 |     0.00963307  |            4 |           |\n",
      "| DEFAULT_9dac2_00006 | PENDING    |                 |           10 |     0.0504903   |            5 |           |\n",
      "| DEFAULT_9dac2_00007 | PENDING    |                 |           30 |     0.09042     |            5 |           |\n",
      "| DEFAULT_9dac2_00008 | PENDING    |                 |           10 |     0.0172876   |            5 |           |\n",
      "| DEFAULT_9dac2_00009 | PENDING    |                 |           50 |     0.000934897 |            4 |           |\n",
      "| DEFAULT_9dac2_00000 | TERMINATED | 127.0.0.1:25644 |           50 |     0.00450476  |           10 |  0.870041 |\n",
      "| DEFAULT_9dac2_00001 | TERMINATED | 127.0.0.1:26228 |           50 |     0.0106262   |           10 |  2.44555  |\n",
      "| DEFAULT_9dac2_00002 | TERMINATED | 127.0.0.1:14992 |           50 |     0.0841042   |           10 |  0.883382 |\n",
      "| DEFAULT_9dac2_00003 | TERMINATED | 127.0.0.1:20816 |          100 |     0.0295763   |            5 | 17.175    |\n",
      "+---------------------+------------+-----------------+--------------+-----------------+--------------+-----------+\n",
      "\n",
      "\n"
     ]
    },
    {
     "name": "stderr",
     "output_type": "stream",
     "text": [
      " 33%|███▎      | 3/9 [00:03<00:05,  1.12it/s]\n",
      "100%|██████████| 9/9 [00:03<00:00,  2.49it/s]\n",
      "  0%|          | 0/4 [00:00<?, ?it/s]\n"
     ]
    },
    {
     "name": "stdout",
     "output_type": "stream",
     "text": [
      "== Status ==\n",
      "Current time: 2021-12-18 16:48:40 (running for 00:02:32.70)\n",
      "Memory usage on this node: 19.1/47.6 GiB\n",
      "Using AsyncHyperBand: num_stopped=3\n",
      "Bracket: Iter 8.000: -0.8682056963443756 | Iter 4.000: -0.8730262443423271 | Iter 2.000: -0.8744360506534576 | Iter 1.000: -1.0866646766662598\n",
      "Resources requested: 1.0/24 CPUs, 1.0/2 GPUs, 0.0/38.81 GiB heap, 0.0/19.41 GiB objects\n",
      "Result logdir: C:\\Users\\Tomas\\ray_results\\DEFAULT_2021-12-18_16-46-07\n",
      "Number of trials: 10/10 (5 PENDING, 1 RUNNING, 4 TERMINATED)\n",
      "+---------------------+------------+-----------------+--------------+-----------------+--------------+-----------+\n",
      "| Trial name          | status     | loc             |   batch_size |   learning_rate |   num_epochs |      loss |\n",
      "|---------------------+------------+-----------------+--------------+-----------------+--------------+-----------|\n",
      "| DEFAULT_9dac2_00004 | RUNNING    | 127.0.0.1:9948  |           50 |     0.00857354  |           10 |  0.957527 |\n",
      "| DEFAULT_9dac2_00005 | PENDING    |                 |           30 |     0.00963307  |            4 |           |\n",
      "| DEFAULT_9dac2_00006 | PENDING    |                 |           10 |     0.0504903   |            5 |           |\n",
      "| DEFAULT_9dac2_00007 | PENDING    |                 |           30 |     0.09042     |            5 |           |\n",
      "| DEFAULT_9dac2_00008 | PENDING    |                 |           10 |     0.0172876   |            5 |           |\n",
      "| DEFAULT_9dac2_00009 | PENDING    |                 |           50 |     0.000934897 |            4 |           |\n",
      "| DEFAULT_9dac2_00000 | TERMINATED | 127.0.0.1:25644 |           50 |     0.00450476  |           10 |  0.870041 |\n",
      "| DEFAULT_9dac2_00001 | TERMINATED | 127.0.0.1:26228 |           50 |     0.0106262   |           10 |  2.44555  |\n",
      "| DEFAULT_9dac2_00002 | TERMINATED | 127.0.0.1:14992 |           50 |     0.0841042   |           10 |  0.883382 |\n",
      "| DEFAULT_9dac2_00003 | TERMINATED | 127.0.0.1:20816 |          100 |     0.0295763   |            5 | 17.175    |\n",
      "+---------------------+------------+-----------------+--------------+-----------------+--------------+-----------+\n",
      "\n",
      "\n"
     ]
    },
    {
     "name": "stderr",
     "output_type": "stream",
     "text": [
      "\u001b[2m\u001b[36m(ImplicitFunc\r",
      " pid=9948)\u001b[0m \r",
      " 25%|██▌       | 1/4 [00:03<00:10,  3.37s/it]\n"
     ]
    },
    {
     "name": "stdout",
     "output_type": "stream",
     "text": [
      "Result for DEFAULT_9dac2_00004:\n",
      "  accuracy: 0.6777777777777778\n",
      "  date: 2021-12-18_16-48-41\n",
      "  done: true\n",
      "  experiment_id: 8f4d95b2785440e19f6efd56c4739a26\n",
      "  hostname: WSTOMAS21\n",
      "  iterations_since_restore: 2\n",
      "  loss: 0.9177457988262177\n",
      "  node_ip: 127.0.0.1\n",
      "  pid: 9948\n",
      "  should_checkpoint: true\n",
      "  time_since_restore: 16.787980794906616\n",
      "  time_this_iter_s: 7.229470252990723\n",
      "  time_total_s: 16.787980794906616\n",
      "  timestamp: 1639842521\n",
      "  timesteps_since_restore: 0\n",
      "  training_iteration: 2\n",
      "  trial_id: 9dac2_00004\n",
      "  \n"
     ]
    },
    {
     "name": "stderr",
     "output_type": "stream",
     "text": [
      "100%|██████████| 4/4 [00:03<00:00,  1.11it/s]\n",
      "  0%|          | 0/14 [00:00<?, ?it/s]\n"
     ]
    },
    {
     "name": "stdout",
     "output_type": "stream",
     "text": [
      "== Status ==\n",
      "Current time: 2021-12-18 16:48:45 (running for 00:02:37.97)\n",
      "Memory usage on this node: 18.9/47.6 GiB\n",
      "Using AsyncHyperBand: num_stopped=4\n",
      "Bracket: Iter 8.000: -0.8682056963443756 | Iter 4.000: -0.8730262443423271 | Iter 2.000: -0.874936506152153 | Iter 1.000: -1.0866646766662598\n",
      "Resources requested: 1.0/24 CPUs, 1.0/2 GPUs, 0.0/38.81 GiB heap, 0.0/19.41 GiB objects\n",
      "Result logdir: C:\\Users\\Tomas\\ray_results\\DEFAULT_2021-12-18_16-46-07\n",
      "Number of trials: 10/10 (4 PENDING, 1 RUNNING, 5 TERMINATED)\n",
      "+---------------------+------------+-----------------+--------------+-----------------+--------------+-----------+\n",
      "| Trial name          | status     | loc             |   batch_size |   learning_rate |   num_epochs |      loss |\n",
      "|---------------------+------------+-----------------+--------------+-----------------+--------------+-----------|\n",
      "| DEFAULT_9dac2_00005 | RUNNING    | 127.0.0.1:24328 |           30 |     0.00963307  |            4 |           |\n",
      "| DEFAULT_9dac2_00006 | PENDING    |                 |           10 |     0.0504903   |            5 |           |\n",
      "| DEFAULT_9dac2_00007 | PENDING    |                 |           30 |     0.09042     |            5 |           |\n",
      "| DEFAULT_9dac2_00008 | PENDING    |                 |           10 |     0.0172876   |            5 |           |\n",
      "| DEFAULT_9dac2_00009 | PENDING    |                 |           50 |     0.000934897 |            4 |           |\n",
      "| DEFAULT_9dac2_00000 | TERMINATED | 127.0.0.1:25644 |           50 |     0.00450476  |           10 |  0.870041 |\n",
      "| DEFAULT_9dac2_00001 | TERMINATED | 127.0.0.1:26228 |           50 |     0.0106262   |           10 |  2.44555  |\n",
      "| DEFAULT_9dac2_00002 | TERMINATED | 127.0.0.1:14992 |           50 |     0.0841042   |           10 |  0.883382 |\n",
      "| DEFAULT_9dac2_00003 | TERMINATED | 127.0.0.1:20816 |          100 |     0.0295763   |            5 | 17.175    |\n",
      "| DEFAULT_9dac2_00004 | TERMINATED | 127.0.0.1:9948  |           50 |     0.00857354  |           10 |  0.917746 |\n",
      "+---------------------+------------+-----------------+--------------+-----------------+--------------+-----------+\n",
      "\n",
      "\n"
     ]
    },
    {
     "name": "stderr",
     "output_type": "stream",
     "text": [
      "  7%|▋         | 1/14 [00:03<00:49,  3.82s/it]\n",
      "100%|██████████| 14/14 [00:04<00:00,  3.45it/s]\n",
      "  0%|          | 0/6 [00:00<?, ?it/s]\n"
     ]
    },
    {
     "name": "stdout",
     "output_type": "stream",
     "text": [
      "== Status ==\n",
      "Current time: 2021-12-18 16:48:50 (running for 00:02:43.06)\n",
      "Memory usage on this node: 19.1/47.6 GiB\n",
      "Using AsyncHyperBand: num_stopped=4\n",
      "Bracket: Iter 8.000: -0.8682056963443756 | Iter 4.000: -0.8730262443423271 | Iter 2.000: -0.874936506152153 | Iter 1.000: -1.0866646766662598\n",
      "Resources requested: 1.0/24 CPUs, 1.0/2 GPUs, 0.0/38.81 GiB heap, 0.0/19.41 GiB objects\n",
      "Result logdir: C:\\Users\\Tomas\\ray_results\\DEFAULT_2021-12-18_16-46-07\n",
      "Number of trials: 10/10 (4 PENDING, 1 RUNNING, 5 TERMINATED)\n",
      "+---------------------+------------+-----------------+--------------+-----------------+--------------+-----------+\n",
      "| Trial name          | status     | loc             |   batch_size |   learning_rate |   num_epochs |      loss |\n",
      "|---------------------+------------+-----------------+--------------+-----------------+--------------+-----------|\n",
      "| DEFAULT_9dac2_00005 | RUNNING    | 127.0.0.1:24328 |           30 |     0.00963307  |            4 |           |\n",
      "| DEFAULT_9dac2_00006 | PENDING    |                 |           10 |     0.0504903   |            5 |           |\n",
      "| DEFAULT_9dac2_00007 | PENDING    |                 |           30 |     0.09042     |            5 |           |\n",
      "| DEFAULT_9dac2_00008 | PENDING    |                 |           10 |     0.0172876   |            5 |           |\n",
      "| DEFAULT_9dac2_00009 | PENDING    |                 |           50 |     0.000934897 |            4 |           |\n",
      "| DEFAULT_9dac2_00000 | TERMINATED | 127.0.0.1:25644 |           50 |     0.00450476  |           10 |  0.870041 |\n",
      "| DEFAULT_9dac2_00001 | TERMINATED | 127.0.0.1:26228 |           50 |     0.0106262   |           10 |  2.44555  |\n",
      "| DEFAULT_9dac2_00002 | TERMINATED | 127.0.0.1:14992 |           50 |     0.0841042   |           10 |  0.883382 |\n",
      "| DEFAULT_9dac2_00003 | TERMINATED | 127.0.0.1:20816 |          100 |     0.0295763   |            5 | 17.175    |\n",
      "| DEFAULT_9dac2_00004 | TERMINATED | 127.0.0.1:9948  |           50 |     0.00857354  |           10 |  0.917746 |\n",
      "+---------------------+------------+-----------------+--------------+-----------------+--------------+-----------+\n",
      "\n",
      "\n"
     ]
    },
    {
     "name": "stderr",
     "output_type": "stream",
     "text": [
      "\u001b[2m\u001b[36m(ImplicitFunc\r",
      " pid=24328)\u001b[0m \r",
      " 17%|█▋        | 1/6 [00:03<00:17,  3.44s/it]\n",
      "\u001b[2m\u001b[36m(ImplicitFunc\r",
      " pid=24328)\u001b[0m \r",
      "100%|██████████| 6/6 [00:03<00:00,  1.64it/s]\r\n",
      "\u001b[2m\u001b[36m(ImplicitFunc\r",
      " pid=24328)\u001b[0m \r",
      "  0%|          | 0/14 [00:00<?, ?it/s]\n"
     ]
    },
    {
     "name": "stdout",
     "output_type": "stream",
     "text": [
      "Result for DEFAULT_9dac2_00005:\n",
      "  accuracy: 0.6777777777777778\n",
      "  date: 2021-12-18_16-48-53\n",
      "  done: false\n",
      "  experiment_id: b504987cce1b4add83c3a4bb2e1e808a\n",
      "  hostname: WSTOMAS21\n",
      "  iterations_since_restore: 1\n",
      "  loss: 0.8730660974979401\n",
      "  node_ip: 127.0.0.1\n",
      "  pid: 24328\n",
      "  should_checkpoint: true\n",
      "  time_since_restore: 9.692353248596191\n",
      "  time_this_iter_s: 9.692353248596191\n",
      "  time_total_s: 9.692353248596191\n",
      "  timestamp: 1639842533\n",
      "  timesteps_since_restore: 0\n",
      "  training_iteration: 1\n",
      "  trial_id: 9dac2_00005\n",
      "  \n",
      "== Status ==\n",
      "Current time: 2021-12-18 16:48:56 (running for 00:02:48.52)\n",
      "Memory usage on this node: 19.2/47.6 GiB\n",
      "Using AsyncHyperBand: num_stopped=4\n",
      "Bracket: Iter 8.000: -0.8682056963443756 | Iter 4.000: -0.8730262443423271 | Iter 2.000: -0.874936506152153 | Iter 1.000: -1.022095963358879\n",
      "Resources requested: 1.0/24 CPUs, 1.0/2 GPUs, 0.0/38.81 GiB heap, 0.0/19.41 GiB objects\n",
      "Result logdir: C:\\Users\\Tomas\\ray_results\\DEFAULT_2021-12-18_16-46-07\n",
      "Number of trials: 10/10 (4 PENDING, 1 RUNNING, 5 TERMINATED)\n",
      "+---------------------+------------+-----------------+--------------+-----------------+--------------+-----------+\n",
      "| Trial name          | status     | loc             |   batch_size |   learning_rate |   num_epochs |      loss |\n",
      "|---------------------+------------+-----------------+--------------+-----------------+--------------+-----------|\n",
      "| DEFAULT_9dac2_00005 | RUNNING    | 127.0.0.1:24328 |           30 |     0.00963307  |            4 |  0.873066 |\n",
      "| DEFAULT_9dac2_00006 | PENDING    |                 |           10 |     0.0504903   |            5 |           |\n",
      "| DEFAULT_9dac2_00007 | PENDING    |                 |           30 |     0.09042     |            5 |           |\n",
      "| DEFAULT_9dac2_00008 | PENDING    |                 |           10 |     0.0172876   |            5 |           |\n",
      "| DEFAULT_9dac2_00009 | PENDING    |                 |           50 |     0.000934897 |            4 |           |\n",
      "| DEFAULT_9dac2_00000 | TERMINATED | 127.0.0.1:25644 |           50 |     0.00450476  |           10 |  0.870041 |\n",
      "| DEFAULT_9dac2_00001 | TERMINATED | 127.0.0.1:26228 |           50 |     0.0106262   |           10 |  2.44555  |\n",
      "| DEFAULT_9dac2_00002 | TERMINATED | 127.0.0.1:14992 |           50 |     0.0841042   |           10 |  0.883382 |\n",
      "| DEFAULT_9dac2_00003 | TERMINATED | 127.0.0.1:20816 |          100 |     0.0295763   |            5 | 17.175    |\n",
      "| DEFAULT_9dac2_00004 | TERMINATED | 127.0.0.1:9948  |           50 |     0.00857354  |           10 |  0.917746 |\n",
      "+---------------------+------------+-----------------+--------------+-----------------+--------------+-----------+\n",
      "\n",
      "\n"
     ]
    },
    {
     "name": "stderr",
     "output_type": "stream",
     "text": [
      "  7%|▋         | 1/14 [00:03<00:43,  3.34s/it]\n",
      " 14%|█▍        | 2/14 [00:03<00:17,  1.46s/it]\n",
      "100%|██████████| 14/14 [00:03<00:00,  3.73it/s]\n",
      "  0%|          | 0/6 [00:00<?, ?it/s]\n",
      " 17%|█▋        | 1/6 [00:03<00:16,  3.39s/it]\n",
      "100%|██████████| 6/6 [00:03<00:00,  1.66it/s]\n",
      "  0%|          | 0/14 [00:00<?, ?it/s]\n"
     ]
    },
    {
     "name": "stdout",
     "output_type": "stream",
     "text": [
      "Result for DEFAULT_9dac2_00005:\n",
      "  accuracy: 0.6777777777777778\n",
      "  date: 2021-12-18_16-49-00\n",
      "  done: false\n",
      "  experiment_id: b504987cce1b4add83c3a4bb2e1e808a\n",
      "  hostname: WSTOMAS21\n",
      "  iterations_since_restore: 2\n",
      "  loss: 0.8508007526397705\n",
      "  node_ip: 127.0.0.1\n",
      "  pid: 24328\n",
      "  should_checkpoint: true\n",
      "  time_since_restore: 17.098292350769043\n",
      "  time_this_iter_s: 7.405939102172852\n",
      "  time_total_s: 17.098292350769043\n",
      "  timestamp: 1639842540\n",
      "  timesteps_since_restore: 0\n",
      "  training_iteration: 2\n",
      "  trial_id: 9dac2_00005\n",
      "  \n",
      "== Status ==\n",
      "Current time: 2021-12-18 16:49:01 (running for 00:02:53.89)\n",
      "Memory usage on this node: 19.1/47.6 GiB\n",
      "Using AsyncHyperBand: num_stopped=4\n",
      "Bracket: Iter 8.000: -0.8682056963443756 | Iter 4.000: -0.8730262443423271 | Iter 2.000: -0.8744360506534576 | Iter 1.000: -1.022095963358879\n",
      "Resources requested: 1.0/24 CPUs, 1.0/2 GPUs, 0.0/38.81 GiB heap, 0.0/19.41 GiB objects\n",
      "Result logdir: C:\\Users\\Tomas\\ray_results\\DEFAULT_2021-12-18_16-46-07\n",
      "Number of trials: 10/10 (4 PENDING, 1 RUNNING, 5 TERMINATED)\n",
      "+---------------------+------------+-----------------+--------------+-----------------+--------------+-----------+\n",
      "| Trial name          | status     | loc             |   batch_size |   learning_rate |   num_epochs |      loss |\n",
      "|---------------------+------------+-----------------+--------------+-----------------+--------------+-----------|\n",
      "| DEFAULT_9dac2_00005 | RUNNING    | 127.0.0.1:24328 |           30 |     0.00963307  |            4 |  0.850801 |\n",
      "| DEFAULT_9dac2_00006 | PENDING    |                 |           10 |     0.0504903   |            5 |           |\n",
      "| DEFAULT_9dac2_00007 | PENDING    |                 |           30 |     0.09042     |            5 |           |\n",
      "| DEFAULT_9dac2_00008 | PENDING    |                 |           10 |     0.0172876   |            5 |           |\n",
      "| DEFAULT_9dac2_00009 | PENDING    |                 |           50 |     0.000934897 |            4 |           |\n",
      "| DEFAULT_9dac2_00000 | TERMINATED | 127.0.0.1:25644 |           50 |     0.00450476  |           10 |  0.870041 |\n",
      "| DEFAULT_9dac2_00001 | TERMINATED | 127.0.0.1:26228 |           50 |     0.0106262   |           10 |  2.44555  |\n",
      "| DEFAULT_9dac2_00002 | TERMINATED | 127.0.0.1:14992 |           50 |     0.0841042   |           10 |  0.883382 |\n",
      "| DEFAULT_9dac2_00003 | TERMINATED | 127.0.0.1:20816 |          100 |     0.0295763   |            5 | 17.175    |\n",
      "| DEFAULT_9dac2_00004 | TERMINATED | 127.0.0.1:9948  |           50 |     0.00857354  |           10 |  0.917746 |\n",
      "+---------------------+------------+-----------------+--------------+-----------------+--------------+-----------+\n",
      "\n",
      "\n"
     ]
    },
    {
     "name": "stderr",
     "output_type": "stream",
     "text": [
      "  7%|▋         | 1/14 [00:03<00:44,  3.42s/it]\n",
      "100%|██████████| 14/14 [00:03<00:00,  3.79it/s]\n",
      "  0%|          | 0/6 [00:00<?, ?it/s]\n"
     ]
    },
    {
     "name": "stdout",
     "output_type": "stream",
     "text": [
      "== Status ==\n",
      "Current time: 2021-12-18 16:49:06 (running for 00:02:59.00)\n",
      "Memory usage on this node: 19.1/47.6 GiB\n",
      "Using AsyncHyperBand: num_stopped=4\n",
      "Bracket: Iter 8.000: -0.8682056963443756 | Iter 4.000: -0.8730262443423271 | Iter 2.000: -0.8744360506534576 | Iter 1.000: -1.022095963358879\n",
      "Resources requested: 1.0/24 CPUs, 1.0/2 GPUs, 0.0/38.81 GiB heap, 0.0/19.41 GiB objects\n",
      "Result logdir: C:\\Users\\Tomas\\ray_results\\DEFAULT_2021-12-18_16-46-07\n",
      "Number of trials: 10/10 (4 PENDING, 1 RUNNING, 5 TERMINATED)\n",
      "+---------------------+------------+-----------------+--------------+-----------------+--------------+-----------+\n",
      "| Trial name          | status     | loc             |   batch_size |   learning_rate |   num_epochs |      loss |\n",
      "|---------------------+------------+-----------------+--------------+-----------------+--------------+-----------|\n",
      "| DEFAULT_9dac2_00005 | RUNNING    | 127.0.0.1:24328 |           30 |     0.00963307  |            4 |  0.850801 |\n",
      "| DEFAULT_9dac2_00006 | PENDING    |                 |           10 |     0.0504903   |            5 |           |\n",
      "| DEFAULT_9dac2_00007 | PENDING    |                 |           30 |     0.09042     |            5 |           |\n",
      "| DEFAULT_9dac2_00008 | PENDING    |                 |           10 |     0.0172876   |            5 |           |\n",
      "| DEFAULT_9dac2_00009 | PENDING    |                 |           50 |     0.000934897 |            4 |           |\n",
      "| DEFAULT_9dac2_00000 | TERMINATED | 127.0.0.1:25644 |           50 |     0.00450476  |           10 |  0.870041 |\n",
      "| DEFAULT_9dac2_00001 | TERMINATED | 127.0.0.1:26228 |           50 |     0.0106262   |           10 |  2.44555  |\n",
      "| DEFAULT_9dac2_00002 | TERMINATED | 127.0.0.1:14992 |           50 |     0.0841042   |           10 |  0.883382 |\n",
      "| DEFAULT_9dac2_00003 | TERMINATED | 127.0.0.1:20816 |          100 |     0.0295763   |            5 | 17.175    |\n",
      "| DEFAULT_9dac2_00004 | TERMINATED | 127.0.0.1:9948  |           50 |     0.00857354  |           10 |  0.917746 |\n",
      "+---------------------+------------+-----------------+--------------+-----------------+--------------+-----------+\n",
      "\n",
      "\n"
     ]
    },
    {
     "name": "stderr",
     "output_type": "stream",
     "text": [
      "\u001b[2m\u001b[36m(ImplicitFunc\r",
      " pid=24328)\u001b[0m \r",
      " 17%|█▋        | 1/6 [00:03<00:16,  3.39s/it]\n",
      "\u001b[2m\u001b[36m(ImplicitFunc\r",
      " pid=24328)\u001b[0m \r",
      "100%|██████████| 6/6 [00:03<00:00,  1.67it/s]\r\n"
     ]
    },
    {
     "name": "stdout",
     "output_type": "stream",
     "text": [
      "Result for DEFAULT_9dac2_00005:\n",
      "  accuracy: 0.6777777777777778\n",
      "  date: 2021-12-18_16-49-07\n",
      "  done: false\n",
      "  experiment_id: b504987cce1b4add83c3a4bb2e1e808a\n",
      "  hostname: WSTOMAS21\n",
      "  iterations_since_restore: 3\n",
      "  loss: 0.8550422290960947\n",
      "  node_ip: 127.0.0.1\n",
      "  pid: 24328\n",
      "  should_checkpoint: true\n",
      "  time_since_restore: 24.423446655273438\n",
      "  time_this_iter_s: 7.3251543045043945\n",
      "  time_total_s: 24.423446655273438\n",
      "  timestamp: 1639842547\n",
      "  timesteps_since_restore: 0\n",
      "  training_iteration: 3\n",
      "  trial_id: 9dac2_00005\n",
      "  \n"
     ]
    },
    {
     "name": "stderr",
     "output_type": "stream",
     "text": [
      "  0%|          | 0/14 [00:00<?, ?it/s]\n",
      "  7%|▋         | 1/14 [00:03<00:43,  3.38s/it]\n",
      "100%|██████████| 14/14 [00:03<00:00,  3.82it/s]\n",
      "  0%|          | 0/6 [00:00<?, ?it/s]\n"
     ]
    },
    {
     "name": "stdout",
     "output_type": "stream",
     "text": [
      "== Status ==\n",
      "Current time: 2021-12-18 16:49:12 (running for 00:03:04.28)\n",
      "Memory usage on this node: 19.1/47.6 GiB\n",
      "Using AsyncHyperBand: num_stopped=4\n",
      "Bracket: Iter 8.000: -0.8682056963443756 | Iter 4.000: -0.8730262443423271 | Iter 2.000: -0.8744360506534576 | Iter 1.000: -1.022095963358879\n",
      "Resources requested: 1.0/24 CPUs, 1.0/2 GPUs, 0.0/38.81 GiB heap, 0.0/19.41 GiB objects\n",
      "Result logdir: C:\\Users\\Tomas\\ray_results\\DEFAULT_2021-12-18_16-46-07\n",
      "Number of trials: 10/10 (4 PENDING, 1 RUNNING, 5 TERMINATED)\n",
      "+---------------------+------------+-----------------+--------------+-----------------+--------------+-----------+\n",
      "| Trial name          | status     | loc             |   batch_size |   learning_rate |   num_epochs |      loss |\n",
      "|---------------------+------------+-----------------+--------------+-----------------+--------------+-----------|\n",
      "| DEFAULT_9dac2_00005 | RUNNING    | 127.0.0.1:24328 |           30 |     0.00963307  |            4 |  0.855042 |\n",
      "| DEFAULT_9dac2_00006 | PENDING    |                 |           10 |     0.0504903   |            5 |           |\n",
      "| DEFAULT_9dac2_00007 | PENDING    |                 |           30 |     0.09042     |            5 |           |\n",
      "| DEFAULT_9dac2_00008 | PENDING    |                 |           10 |     0.0172876   |            5 |           |\n",
      "| DEFAULT_9dac2_00009 | PENDING    |                 |           50 |     0.000934897 |            4 |           |\n",
      "| DEFAULT_9dac2_00000 | TERMINATED | 127.0.0.1:25644 |           50 |     0.00450476  |           10 |  0.870041 |\n",
      "| DEFAULT_9dac2_00001 | TERMINATED | 127.0.0.1:26228 |           50 |     0.0106262   |           10 |  2.44555  |\n",
      "| DEFAULT_9dac2_00002 | TERMINATED | 127.0.0.1:14992 |           50 |     0.0841042   |           10 |  0.883382 |\n",
      "| DEFAULT_9dac2_00003 | TERMINATED | 127.0.0.1:20816 |          100 |     0.0295763   |            5 | 17.175    |\n",
      "| DEFAULT_9dac2_00004 | TERMINATED | 127.0.0.1:9948  |           50 |     0.00857354  |           10 |  0.917746 |\n",
      "+---------------------+------------+-----------------+--------------+-----------------+--------------+-----------+\n",
      "\n",
      "\n"
     ]
    },
    {
     "name": "stderr",
     "output_type": "stream",
     "text": [
      "\u001b[2m\u001b[36m(ImplicitFunc\r",
      " pid=24328)\u001b[0m \r",
      " 17%|█▋        | 1/6 [00:03<00:17,  3.41s/it]\n"
     ]
    },
    {
     "name": "stdout",
     "output_type": "stream",
     "text": [
      "Result for DEFAULT_9dac2_00005:\n",
      "  accuracy: 0.6777777777777778\n",
      "  date: 2021-12-18_16-49-15\n",
      "  done: false\n",
      "  experiment_id: b504987cce1b4add83c3a4bb2e1e808a\n",
      "  hostname: WSTOMAS21\n",
      "  iterations_since_restore: 4\n",
      "  loss: 0.8570417165756226\n",
      "  node_ip: 127.0.0.1\n",
      "  pid: 24328\n",
      "  should_checkpoint: true\n",
      "  time_since_restore: 31.759305000305176\n",
      "  time_this_iter_s: 7.335858345031738\n",
      "  time_total_s: 31.759305000305176\n",
      "  timestamp: 1639842555\n",
      "  timesteps_since_restore: 0\n",
      "  training_iteration: 4\n",
      "  trial_id: 9dac2_00005\n",
      "  \n",
      "Result for DEFAULT_9dac2_00005:\n",
      "  accuracy: 0.6777777777777778\n",
      "  date: 2021-12-18_16-49-15\n",
      "  done: true\n",
      "  experiment_id: b504987cce1b4add83c3a4bb2e1e808a\n",
      "  experiment_tag: 5_batch_size=30,learning_rate=0.0096331,num_epochs=4\n",
      "  hostname: WSTOMAS21\n",
      "  iterations_since_restore: 4\n",
      "  loss: 0.8570417165756226\n",
      "  node_ip: 127.0.0.1\n",
      "  pid: 24328\n",
      "  should_checkpoint: true\n",
      "  time_since_restore: 31.759305000305176\n",
      "  time_this_iter_s: 7.335858345031738\n",
      "  time_total_s: 31.759305000305176\n",
      "  timestamp: 1639842555\n",
      "  timesteps_since_restore: 0\n",
      "  training_iteration: 4\n",
      "  trial_id: 9dac2_00005\n",
      "  \n",
      "\u001b[2m\u001b[36m(ImplicitFunc\r",
      " pid=24328)\u001b[0m Finished\r\n"
     ]
    },
    {
     "name": "stderr",
     "output_type": "stream",
     "text": [
      "\u001b[2m\u001b[36m(ImplicitFunc\r",
      " pid=24328)\u001b[0m \r",
      "100%|██████████| 6/6 [00:03<00:00,  1.66it/s]\r\n"
     ]
    },
    {
     "name": "stdout",
     "output_type": "stream",
     "text": [
      "== Status ==\n",
      "Current time: 2021-12-18 16:49:17 (running for 00:03:09.62)\n",
      "Memory usage on this node: 17.8/47.6 GiB\n",
      "Using AsyncHyperBand: num_stopped=4\n",
      "Bracket: Iter 8.000: -0.8682056963443756 | Iter 4.000: -0.862670049071312 | Iter 2.000: -0.8744360506534576 | Iter 1.000: -1.022095963358879\n",
      "Resources requested: 1.0/24 CPUs, 1.0/2 GPUs, 0.0/38.81 GiB heap, 0.0/19.41 GiB objects\n",
      "Result logdir: C:\\Users\\Tomas\\ray_results\\DEFAULT_2021-12-18_16-46-07\n",
      "Number of trials: 10/10 (3 PENDING, 1 RUNNING, 6 TERMINATED)\n",
      "+---------------------+------------+-----------------+--------------+-----------------+--------------+-----------+\n",
      "| Trial name          | status     | loc             |   batch_size |   learning_rate |   num_epochs |      loss |\n",
      "|---------------------+------------+-----------------+--------------+-----------------+--------------+-----------|\n",
      "| DEFAULT_9dac2_00006 | RUNNING    | 127.0.0.1:25256 |           10 |     0.0504903   |            5 |           |\n",
      "| DEFAULT_9dac2_00007 | PENDING    |                 |           30 |     0.09042     |            5 |           |\n",
      "| DEFAULT_9dac2_00008 | PENDING    |                 |           10 |     0.0172876   |            5 |           |\n",
      "| DEFAULT_9dac2_00009 | PENDING    |                 |           50 |     0.000934897 |            4 |           |\n",
      "| DEFAULT_9dac2_00000 | TERMINATED | 127.0.0.1:25644 |           50 |     0.00450476  |           10 |  0.870041 |\n",
      "| DEFAULT_9dac2_00001 | TERMINATED | 127.0.0.1:26228 |           50 |     0.0106262   |           10 |  2.44555  |\n",
      "| DEFAULT_9dac2_00002 | TERMINATED | 127.0.0.1:14992 |           50 |     0.0841042   |           10 |  0.883382 |\n",
      "| DEFAULT_9dac2_00003 | TERMINATED | 127.0.0.1:20816 |          100 |     0.0295763   |            5 | 17.175    |\n",
      "| DEFAULT_9dac2_00004 | TERMINATED | 127.0.0.1:9948  |           50 |     0.00857354  |           10 |  0.917746 |\n",
      "| DEFAULT_9dac2_00005 | TERMINATED | 127.0.0.1:24328 |           30 |     0.00963307  |            4 |  0.857042 |\n",
      "+---------------------+------------+-----------------+--------------+-----------------+--------------+-----------+\n",
      "\n",
      "\n"
     ]
    },
    {
     "name": "stderr",
     "output_type": "stream",
     "text": [
      "\u001b[2m\u001b[36m(ImplicitFunc\r",
      " pid=25256)\u001b[0m \r",
      "  0%|          | 0/42 [00:00<?, ?it/s]\n"
     ]
    },
    {
     "name": "stdout",
     "output_type": "stream",
     "text": [
      "== Status ==\n",
      "Current time: 2021-12-18 16:49:22 (running for 00:03:14.74)\n",
      "Memory usage on this node: 19.0/47.6 GiB\n",
      "Using AsyncHyperBand: num_stopped=4\n",
      "Bracket: Iter 8.000: -0.8682056963443756 | Iter 4.000: -0.862670049071312 | Iter 2.000: -0.8744360506534576 | Iter 1.000: -1.022095963358879\n",
      "Resources requested: 1.0/24 CPUs, 1.0/2 GPUs, 0.0/38.81 GiB heap, 0.0/19.41 GiB objects\n",
      "Result logdir: C:\\Users\\Tomas\\ray_results\\DEFAULT_2021-12-18_16-46-07\n",
      "Number of trials: 10/10 (3 PENDING, 1 RUNNING, 6 TERMINATED)\n",
      "+---------------------+------------+-----------------+--------------+-----------------+--------------+-----------+\n",
      "| Trial name          | status     | loc             |   batch_size |   learning_rate |   num_epochs |      loss |\n",
      "|---------------------+------------+-----------------+--------------+-----------------+--------------+-----------|\n",
      "| DEFAULT_9dac2_00006 | RUNNING    | 127.0.0.1:25256 |           10 |     0.0504903   |            5 |           |\n",
      "| DEFAULT_9dac2_00007 | PENDING    |                 |           30 |     0.09042     |            5 |           |\n",
      "| DEFAULT_9dac2_00008 | PENDING    |                 |           10 |     0.0172876   |            5 |           |\n",
      "| DEFAULT_9dac2_00009 | PENDING    |                 |           50 |     0.000934897 |            4 |           |\n",
      "| DEFAULT_9dac2_00000 | TERMINATED | 127.0.0.1:25644 |           50 |     0.00450476  |           10 |  0.870041 |\n",
      "| DEFAULT_9dac2_00001 | TERMINATED | 127.0.0.1:26228 |           50 |     0.0106262   |           10 |  2.44555  |\n",
      "| DEFAULT_9dac2_00002 | TERMINATED | 127.0.0.1:14992 |           50 |     0.0841042   |           10 |  0.883382 |\n",
      "| DEFAULT_9dac2_00003 | TERMINATED | 127.0.0.1:20816 |          100 |     0.0295763   |            5 | 17.175    |\n",
      "| DEFAULT_9dac2_00004 | TERMINATED | 127.0.0.1:9948  |           50 |     0.00857354  |           10 |  0.917746 |\n",
      "| DEFAULT_9dac2_00005 | TERMINATED | 127.0.0.1:24328 |           30 |     0.00963307  |            4 |  0.857042 |\n",
      "+---------------------+------------+-----------------+--------------+-----------------+--------------+-----------+\n",
      "\n",
      "\n"
     ]
    },
    {
     "name": "stderr",
     "output_type": "stream",
     "text": [
      "  2%|▏         | 1/42 [00:03<02:34,  3.78s/it]\n",
      " 83%|████████▎ | 35/42 [00:03<00:00, 12.63it/s]\n",
      "100%|██████████| 42/42 [00:04<00:00, 10.24it/s]\n",
      "  0%|          | 0/18 [00:00<?, ?it/s]\n",
      "  6%|▌         | 1/18 [00:03<00:57,  3.41s/it]\n",
      "100%|██████████| 18/18 [00:03<00:00,  4.96it/s]\n"
     ]
    },
    {
     "name": "stdout",
     "output_type": "stream",
     "text": [
      "Result for DEFAULT_9dac2_00006:\n",
      "  accuracy: 0.6777777777777778\n",
      "  date: 2021-12-18_16-49-27\n",
      "  done: false\n",
      "  experiment_id: 2c633631e1534b5f8d418fb67e3012ff\n",
      "  hostname: WSTOMAS21\n",
      "  iterations_since_restore: 1\n",
      "  loss: 0.8566908968819512\n",
      "  node_ip: 127.0.0.1\n",
      "  pid: 25256\n",
      "  should_checkpoint: true\n",
      "  time_since_restore: 9.877810955047607\n",
      "  time_this_iter_s: 9.877810955047607\n",
      "  time_total_s: 9.877810955047607\n",
      "  timestamp: 1639842567\n",
      "  timesteps_since_restore: 0\n",
      "  training_iteration: 1\n",
      "  trial_id: 9dac2_00006\n",
      "  \n"
     ]
    },
    {
     "name": "stderr",
     "output_type": "stream",
     "text": [
      "\u001b[2m\u001b[36m(ImplicitFunc\r",
      " pid=25256)\u001b[0m \r",
      "  0%|          | 0/42 [00:00<?, ?it/s]\n"
     ]
    },
    {
     "name": "stdout",
     "output_type": "stream",
     "text": [
      "== Status ==\n",
      "Current time: 2021-12-18 16:49:28 (running for 00:03:20.39)\n",
      "Memory usage on this node: 19.1/47.6 GiB\n",
      "Using AsyncHyperBand: num_stopped=4\n",
      "Bracket: Iter 8.000: -0.8682056963443756 | Iter 4.000: -0.862670049071312 | Iter 2.000: -0.8744360506534576 | Iter 1.000: -0.9575272500514984\n",
      "Resources requested: 1.0/24 CPUs, 1.0/2 GPUs, 0.0/38.81 GiB heap, 0.0/19.41 GiB objects\n",
      "Result logdir: C:\\Users\\Tomas\\ray_results\\DEFAULT_2021-12-18_16-46-07\n",
      "Number of trials: 10/10 (3 PENDING, 1 RUNNING, 6 TERMINATED)\n",
      "+---------------------+------------+-----------------+--------------+-----------------+--------------+-----------+\n",
      "| Trial name          | status     | loc             |   batch_size |   learning_rate |   num_epochs |      loss |\n",
      "|---------------------+------------+-----------------+--------------+-----------------+--------------+-----------|\n",
      "| DEFAULT_9dac2_00006 | RUNNING    | 127.0.0.1:25256 |           10 |     0.0504903   |            5 |  0.856691 |\n",
      "| DEFAULT_9dac2_00007 | PENDING    |                 |           30 |     0.09042     |            5 |           |\n",
      "| DEFAULT_9dac2_00008 | PENDING    |                 |           10 |     0.0172876   |            5 |           |\n",
      "| DEFAULT_9dac2_00009 | PENDING    |                 |           50 |     0.000934897 |            4 |           |\n",
      "| DEFAULT_9dac2_00000 | TERMINATED | 127.0.0.1:25644 |           50 |     0.00450476  |           10 |  0.870041 |\n",
      "| DEFAULT_9dac2_00001 | TERMINATED | 127.0.0.1:26228 |           50 |     0.0106262   |           10 |  2.44555  |\n",
      "| DEFAULT_9dac2_00002 | TERMINATED | 127.0.0.1:14992 |           50 |     0.0841042   |           10 |  0.883382 |\n",
      "| DEFAULT_9dac2_00003 | TERMINATED | 127.0.0.1:20816 |          100 |     0.0295763   |            5 | 17.175    |\n",
      "| DEFAULT_9dac2_00004 | TERMINATED | 127.0.0.1:9948  |           50 |     0.00857354  |           10 |  0.917746 |\n",
      "| DEFAULT_9dac2_00005 | TERMINATED | 127.0.0.1:24328 |           30 |     0.00963307  |            4 |  0.857042 |\n",
      "+---------------------+------------+-----------------+--------------+-----------------+--------------+-----------+\n",
      "\n",
      "\n"
     ]
    },
    {
     "name": "stderr",
     "output_type": "stream",
     "text": [
      " 21%|██▏       | 9/42 [00:03<00:09,  3.53it/s]\n",
      " 95%|█████████▌| 40/42 [00:03<00:00, 20.33it/s]\n",
      "100%|██████████| 42/42 [00:03<00:00, 11.05it/s]\n",
      "  0%|          | 0/18 [00:00<?, ?it/s]\n"
     ]
    },
    {
     "name": "stdout",
     "output_type": "stream",
     "text": [
      "== Status ==\n",
      "Current time: 2021-12-18 16:49:33 (running for 00:03:25.48)\n",
      "Memory usage on this node: 19.1/47.6 GiB\n",
      "Using AsyncHyperBand: num_stopped=4\n",
      "Bracket: Iter 8.000: -0.8682056963443756 | Iter 4.000: -0.862670049071312 | Iter 2.000: -0.8744360506534576 | Iter 1.000: -0.9575272500514984\n",
      "Resources requested: 1.0/24 CPUs, 1.0/2 GPUs, 0.0/38.81 GiB heap, 0.0/19.41 GiB objects\n",
      "Result logdir: C:\\Users\\Tomas\\ray_results\\DEFAULT_2021-12-18_16-46-07\n",
      "Number of trials: 10/10 (3 PENDING, 1 RUNNING, 6 TERMINATED)\n",
      "+---------------------+------------+-----------------+--------------+-----------------+--------------+-----------+\n",
      "| Trial name          | status     | loc             |   batch_size |   learning_rate |   num_epochs |      loss |\n",
      "|---------------------+------------+-----------------+--------------+-----------------+--------------+-----------|\n",
      "| DEFAULT_9dac2_00006 | RUNNING    | 127.0.0.1:25256 |           10 |     0.0504903   |            5 |  0.856691 |\n",
      "| DEFAULT_9dac2_00007 | PENDING    |                 |           30 |     0.09042     |            5 |           |\n",
      "| DEFAULT_9dac2_00008 | PENDING    |                 |           10 |     0.0172876   |            5 |           |\n",
      "| DEFAULT_9dac2_00009 | PENDING    |                 |           50 |     0.000934897 |            4 |           |\n",
      "| DEFAULT_9dac2_00000 | TERMINATED | 127.0.0.1:25644 |           50 |     0.00450476  |           10 |  0.870041 |\n",
      "| DEFAULT_9dac2_00001 | TERMINATED | 127.0.0.1:26228 |           50 |     0.0106262   |           10 |  2.44555  |\n",
      "| DEFAULT_9dac2_00002 | TERMINATED | 127.0.0.1:14992 |           50 |     0.0841042   |           10 |  0.883382 |\n",
      "| DEFAULT_9dac2_00003 | TERMINATED | 127.0.0.1:20816 |          100 |     0.0295763   |            5 | 17.175    |\n",
      "| DEFAULT_9dac2_00004 | TERMINATED | 127.0.0.1:9948  |           50 |     0.00857354  |           10 |  0.917746 |\n",
      "| DEFAULT_9dac2_00005 | TERMINATED | 127.0.0.1:24328 |           30 |     0.00963307  |            4 |  0.857042 |\n",
      "+---------------------+------------+-----------------+--------------+-----------------+--------------+-----------+\n",
      "\n",
      "\n"
     ]
    },
    {
     "name": "stderr",
     "output_type": "stream",
     "text": [
      "\u001b[2m\u001b[36m(ImplicitFunc\r",
      " pid=25256)\u001b[0m \r",
      "  6%|▌         | 1/18 [00:03<00:57,  3.38s/it]\n",
      "\u001b[2m\u001b[36m(ImplicitFunc\r",
      " pid=25256)\u001b[0m \r",
      "100%|██████████| 18/18 [00:03<00:00,  5.02it/s]\r\n",
      "\u001b[2m\u001b[36m(ImplicitFunc\r",
      " pid=25256)\u001b[0m \r",
      "  0%|          | 0/42 [00:00<?, ?it/s]\n"
     ]
    },
    {
     "name": "stdout",
     "output_type": "stream",
     "text": [
      "Result for DEFAULT_9dac2_00006:\n",
      "  accuracy: 0.6777777777777778\n",
      "  date: 2021-12-18_16-49-34\n",
      "  done: false\n",
      "  experiment_id: 2c633631e1534b5f8d418fb67e3012ff\n",
      "  hostname: WSTOMAS21\n",
      "  iterations_since_restore: 2\n",
      "  loss: 0.859148641427358\n",
      "  node_ip: 127.0.0.1\n",
      "  pid: 25256\n",
      "  should_checkpoint: true\n",
      "  time_since_restore: 17.300316333770752\n",
      "  time_this_iter_s: 7.4225053787231445\n",
      "  time_total_s: 17.300316333770752\n",
      "  timestamp: 1639842574\n",
      "  timesteps_since_restore: 0\n",
      "  training_iteration: 2\n",
      "  trial_id: 9dac2_00006\n",
      "  \n"
     ]
    },
    {
     "name": "stderr",
     "output_type": "stream",
     "text": [
      "  2%|▏         | 1/42 [00:03<02:20,  3.42s/it]\n",
      " 48%|████▊     | 20/42 [00:03<00:02,  7.89it/s]\n",
      "100%|██████████| 42/42 [00:03<00:00, 11.05it/s]\n",
      "  0%|          | 0/18 [00:00<?, ?it/s]\n"
     ]
    },
    {
     "name": "stdout",
     "output_type": "stream",
     "text": [
      "== Status ==\n",
      "Current time: 2021-12-18 16:49:38 (running for 00:03:30.87)\n",
      "Memory usage on this node: 19.1/47.6 GiB\n",
      "Using AsyncHyperBand: num_stopped=4\n",
      "Bracket: Iter 8.000: -0.8682056963443756 | Iter 4.000: -0.862670049071312 | Iter 2.000: -0.8739355951547623 | Iter 1.000: -0.9575272500514984\n",
      "Resources requested: 1.0/24 CPUs, 1.0/2 GPUs, 0.0/38.81 GiB heap, 0.0/19.41 GiB objects\n",
      "Result logdir: C:\\Users\\Tomas\\ray_results\\DEFAULT_2021-12-18_16-46-07\n",
      "Number of trials: 10/10 (3 PENDING, 1 RUNNING, 6 TERMINATED)\n",
      "+---------------------+------------+-----------------+--------------+-----------------+--------------+-----------+\n",
      "| Trial name          | status     | loc             |   batch_size |   learning_rate |   num_epochs |      loss |\n",
      "|---------------------+------------+-----------------+--------------+-----------------+--------------+-----------|\n",
      "| DEFAULT_9dac2_00006 | RUNNING    | 127.0.0.1:25256 |           10 |     0.0504903   |            5 |  0.859149 |\n",
      "| DEFAULT_9dac2_00007 | PENDING    |                 |           30 |     0.09042     |            5 |           |\n",
      "| DEFAULT_9dac2_00008 | PENDING    |                 |           10 |     0.0172876   |            5 |           |\n",
      "| DEFAULT_9dac2_00009 | PENDING    |                 |           50 |     0.000934897 |            4 |           |\n",
      "| DEFAULT_9dac2_00000 | TERMINATED | 127.0.0.1:25644 |           50 |     0.00450476  |           10 |  0.870041 |\n",
      "| DEFAULT_9dac2_00001 | TERMINATED | 127.0.0.1:26228 |           50 |     0.0106262   |           10 |  2.44555  |\n",
      "| DEFAULT_9dac2_00002 | TERMINATED | 127.0.0.1:14992 |           50 |     0.0841042   |           10 |  0.883382 |\n",
      "| DEFAULT_9dac2_00003 | TERMINATED | 127.0.0.1:20816 |          100 |     0.0295763   |            5 | 17.175    |\n",
      "| DEFAULT_9dac2_00004 | TERMINATED | 127.0.0.1:9948  |           50 |     0.00857354  |           10 |  0.917746 |\n",
      "| DEFAULT_9dac2_00005 | TERMINATED | 127.0.0.1:24328 |           30 |     0.00963307  |            4 |  0.857042 |\n",
      "+---------------------+------------+-----------------+--------------+-----------------+--------------+-----------+\n",
      "\n",
      "\n"
     ]
    },
    {
     "name": "stderr",
     "output_type": "stream",
     "text": [
      "\u001b[2m\u001b[36m(ImplicitFunc\r",
      " pid=25256)\u001b[0m \r",
      "  6%|▌         | 1/18 [00:03<00:57,  3.37s/it]\n"
     ]
    },
    {
     "name": "stdout",
     "output_type": "stream",
     "text": [
      "Result for DEFAULT_9dac2_00006:\n",
      "  accuracy: 0.6777777777777778\n",
      "  date: 2021-12-18_16-49-41\n",
      "  done: false\n",
      "  experiment_id: 2c633631e1534b5f8d418fb67e3012ff\n",
      "  hostname: WSTOMAS21\n",
      "  iterations_since_restore: 3\n",
      "  loss: 0.8573802378442552\n",
      "  node_ip: 127.0.0.1\n",
      "  pid: 25256\n",
      "  should_checkpoint: true\n",
      "  time_since_restore: 24.730180740356445\n",
      "  time_this_iter_s: 7.429864406585693\n",
      "  time_total_s: 24.730180740356445\n",
      "  timestamp: 1639842581\n",
      "  timesteps_since_restore: 0\n",
      "  training_iteration: 3\n",
      "  trial_id: 9dac2_00006\n",
      "  \n"
     ]
    },
    {
     "name": "stderr",
     "output_type": "stream",
     "text": [
      "\u001b[2m\u001b[36m(ImplicitFunc\r",
      " pid=25256)\u001b[0m \r",
      "100%|██████████| 18/18 [00:03<00:00,  5.00it/s]\r\n",
      "\u001b[2m\u001b[36m(ImplicitFunc\r",
      " pid=25256)\u001b[0m \r",
      "  0%|          | 0/42 [00:00<?, ?it/s]\n"
     ]
    },
    {
     "name": "stdout",
     "output_type": "stream",
     "text": [
      "== Status ==\n",
      "Current time: 2021-12-18 16:49:44 (running for 00:03:36.27)\n",
      "Memory usage on this node: 19.1/47.6 GiB\n",
      "Using AsyncHyperBand: num_stopped=4\n",
      "Bracket: Iter 8.000: -0.8682056963443756 | Iter 4.000: -0.862670049071312 | Iter 2.000: -0.8739355951547623 | Iter 1.000: -0.9575272500514984\n",
      "Resources requested: 1.0/24 CPUs, 1.0/2 GPUs, 0.0/38.81 GiB heap, 0.0/19.41 GiB objects\n",
      "Result logdir: C:\\Users\\Tomas\\ray_results\\DEFAULT_2021-12-18_16-46-07\n",
      "Number of trials: 10/10 (3 PENDING, 1 RUNNING, 6 TERMINATED)\n",
      "+---------------------+------------+-----------------+--------------+-----------------+--------------+-----------+\n",
      "| Trial name          | status     | loc             |   batch_size |   learning_rate |   num_epochs |      loss |\n",
      "|---------------------+------------+-----------------+--------------+-----------------+--------------+-----------|\n",
      "| DEFAULT_9dac2_00006 | RUNNING    | 127.0.0.1:25256 |           10 |     0.0504903   |            5 |  0.85738  |\n",
      "| DEFAULT_9dac2_00007 | PENDING    |                 |           30 |     0.09042     |            5 |           |\n",
      "| DEFAULT_9dac2_00008 | PENDING    |                 |           10 |     0.0172876   |            5 |           |\n",
      "| DEFAULT_9dac2_00009 | PENDING    |                 |           50 |     0.000934897 |            4 |           |\n",
      "| DEFAULT_9dac2_00000 | TERMINATED | 127.0.0.1:25644 |           50 |     0.00450476  |           10 |  0.870041 |\n",
      "| DEFAULT_9dac2_00001 | TERMINATED | 127.0.0.1:26228 |           50 |     0.0106262   |           10 |  2.44555  |\n",
      "| DEFAULT_9dac2_00002 | TERMINATED | 127.0.0.1:14992 |           50 |     0.0841042   |           10 |  0.883382 |\n",
      "| DEFAULT_9dac2_00003 | TERMINATED | 127.0.0.1:20816 |          100 |     0.0295763   |            5 | 17.175    |\n",
      "| DEFAULT_9dac2_00004 | TERMINATED | 127.0.0.1:9948  |           50 |     0.00857354  |           10 |  0.917746 |\n",
      "| DEFAULT_9dac2_00005 | TERMINATED | 127.0.0.1:24328 |           30 |     0.00963307  |            4 |  0.857042 |\n",
      "+---------------------+------------+-----------------+--------------+-----------------+--------------+-----------+\n",
      "\n",
      "\n"
     ]
    },
    {
     "name": "stderr",
     "output_type": "stream",
     "text": [
      "  2%|▏         | 1/42 [00:03<02:17,  3.36s/it]\n",
      " 48%|████▊     | 20/42 [00:03<00:02,  8.04it/s]\n",
      "100%|██████████| 42/42 [00:03<00:00, 11.22it/s]\n",
      "  0%|          | 0/18 [00:00<?, ?it/s]\n"
     ]
    },
    {
     "name": "stdout",
     "output_type": "stream",
     "text": [
      "== Status ==\n",
      "Current time: 2021-12-18 16:49:49 (running for 00:03:41.40)\n",
      "Memory usage on this node: 19.2/47.6 GiB\n",
      "Using AsyncHyperBand: num_stopped=4\n",
      "Bracket: Iter 8.000: -0.8682056963443756 | Iter 4.000: -0.862670049071312 | Iter 2.000: -0.8739355951547623 | Iter 1.000: -0.9575272500514984\n",
      "Resources requested: 1.0/24 CPUs, 1.0/2 GPUs, 0.0/38.81 GiB heap, 0.0/19.41 GiB objects\n",
      "Result logdir: C:\\Users\\Tomas\\ray_results\\DEFAULT_2021-12-18_16-46-07\n",
      "Number of trials: 10/10 (3 PENDING, 1 RUNNING, 6 TERMINATED)\n",
      "+---------------------+------------+-----------------+--------------+-----------------+--------------+-----------+\n",
      "| Trial name          | status     | loc             |   batch_size |   learning_rate |   num_epochs |      loss |\n",
      "|---------------------+------------+-----------------+--------------+-----------------+--------------+-----------|\n",
      "| DEFAULT_9dac2_00006 | RUNNING    | 127.0.0.1:25256 |           10 |     0.0504903   |            5 |  0.85738  |\n",
      "| DEFAULT_9dac2_00007 | PENDING    |                 |           30 |     0.09042     |            5 |           |\n",
      "| DEFAULT_9dac2_00008 | PENDING    |                 |           10 |     0.0172876   |            5 |           |\n",
      "| DEFAULT_9dac2_00009 | PENDING    |                 |           50 |     0.000934897 |            4 |           |\n",
      "| DEFAULT_9dac2_00000 | TERMINATED | 127.0.0.1:25644 |           50 |     0.00450476  |           10 |  0.870041 |\n",
      "| DEFAULT_9dac2_00001 | TERMINATED | 127.0.0.1:26228 |           50 |     0.0106262   |           10 |  2.44555  |\n",
      "| DEFAULT_9dac2_00002 | TERMINATED | 127.0.0.1:14992 |           50 |     0.0841042   |           10 |  0.883382 |\n",
      "| DEFAULT_9dac2_00003 | TERMINATED | 127.0.0.1:20816 |          100 |     0.0295763   |            5 | 17.175    |\n",
      "| DEFAULT_9dac2_00004 | TERMINATED | 127.0.0.1:9948  |           50 |     0.00857354  |           10 |  0.917746 |\n",
      "| DEFAULT_9dac2_00005 | TERMINATED | 127.0.0.1:24328 |           30 |     0.00963307  |            4 |  0.857042 |\n",
      "+---------------------+------------+-----------------+--------------+-----------------+--------------+-----------+\n",
      "\n",
      "\n",
      "Result for DEFAULT_9dac2_00006:\n",
      "  accuracy: 0.6777777777777778\n",
      "  date: 2021-12-18_16-49-49\n",
      "  done: false\n",
      "  experiment_id: 2c633631e1534b5f8d418fb67e3012ff\n",
      "  hostname: WSTOMAS21\n",
      "  iterations_since_restore: 4\n",
      "  loss: 0.8574831436077753\n",
      "  node_ip: 127.0.0.1\n",
      "  pid: 25256\n",
      "  should_checkpoint: true\n",
      "  time_since_restore: 32.07350969314575\n",
      "  time_this_iter_s: 7.343328952789307\n",
      "  time_total_s: 32.07350969314575\n",
      "  timestamp: 1639842589\n",
      "  timesteps_since_restore: 0\n",
      "  training_iteration: 4\n",
      "  trial_id: 9dac2_00006\n",
      "  \n"
     ]
    },
    {
     "name": "stderr",
     "output_type": "stream",
     "text": [
      "  6%|▌         | 1/18 [00:03<00:57,  3.36s/it]\n",
      "100%|██████████| 18/18 [00:03<00:00,  5.04it/s]\n",
      "  0%|          | 0/42 [00:00<?, ?it/s]\n",
      "  2%|▏         | 1/42 [00:03<02:15,  3.30s/it]\n",
      "  5%|▍         | 2/42 [00:03<00:57,  1.43s/it]\n",
      " 88%|████████▊ | 37/42 [00:03<00:00, 20.12it/s]\n",
      "100%|██████████| 42/42 [00:03<00:00, 11.31it/s]\n",
      "  0%|          | 0/18 [00:00<?, ?it/s]\n"
     ]
    },
    {
     "name": "stdout",
     "output_type": "stream",
     "text": [
      "== Status ==\n",
      "Current time: 2021-12-18 16:49:54 (running for 00:03:46.68)\n",
      "Memory usage on this node: 19.1/47.6 GiB\n",
      "Using AsyncHyperBand: num_stopped=4\n",
      "Bracket: Iter 8.000: -0.8682056963443756 | Iter 4.000: -0.8600765963395436 | Iter 2.000: -0.8739355951547623 | Iter 1.000: -0.9575272500514984\n",
      "Resources requested: 1.0/24 CPUs, 1.0/2 GPUs, 0.0/38.81 GiB heap, 0.0/19.41 GiB objects\n",
      "Result logdir: C:\\Users\\Tomas\\ray_results\\DEFAULT_2021-12-18_16-46-07\n",
      "Number of trials: 10/10 (3 PENDING, 1 RUNNING, 6 TERMINATED)\n",
      "+---------------------+------------+-----------------+--------------+-----------------+--------------+-----------+\n",
      "| Trial name          | status     | loc             |   batch_size |   learning_rate |   num_epochs |      loss |\n",
      "|---------------------+------------+-----------------+--------------+-----------------+--------------+-----------|\n",
      "| DEFAULT_9dac2_00006 | RUNNING    | 127.0.0.1:25256 |           10 |     0.0504903   |            5 |  0.857483 |\n",
      "| DEFAULT_9dac2_00007 | PENDING    |                 |           30 |     0.09042     |            5 |           |\n",
      "| DEFAULT_9dac2_00008 | PENDING    |                 |           10 |     0.0172876   |            5 |           |\n",
      "| DEFAULT_9dac2_00009 | PENDING    |                 |           50 |     0.000934897 |            4 |           |\n",
      "| DEFAULT_9dac2_00000 | TERMINATED | 127.0.0.1:25644 |           50 |     0.00450476  |           10 |  0.870041 |\n",
      "| DEFAULT_9dac2_00001 | TERMINATED | 127.0.0.1:26228 |           50 |     0.0106262   |           10 |  2.44555  |\n",
      "| DEFAULT_9dac2_00002 | TERMINATED | 127.0.0.1:14992 |           50 |     0.0841042   |           10 |  0.883382 |\n",
      "| DEFAULT_9dac2_00003 | TERMINATED | 127.0.0.1:20816 |          100 |     0.0295763   |            5 | 17.175    |\n",
      "| DEFAULT_9dac2_00004 | TERMINATED | 127.0.0.1:9948  |           50 |     0.00857354  |           10 |  0.917746 |\n",
      "| DEFAULT_9dac2_00005 | TERMINATED | 127.0.0.1:24328 |           30 |     0.00963307  |            4 |  0.857042 |\n",
      "+---------------------+------------+-----------------+--------------+-----------------+--------------+-----------+\n",
      "\n",
      "\n"
     ]
    },
    {
     "name": "stderr",
     "output_type": "stream",
     "text": [
      "\u001b[2m\u001b[36m(ImplicitFunc\r",
      " pid=25256)\u001b[0m \r",
      "  6%|▌         | 1/18 [00:03<00:57,  3.38s/it]\n",
      "\u001b[2m\u001b[36m(ImplicitFunc\r",
      " pid=25256)\u001b[0m \r",
      "100%|██████████| 18/18 [00:03<00:00,  4.98it/s]\r\n"
     ]
    },
    {
     "name": "stdout",
     "output_type": "stream",
     "text": [
      "Result for DEFAULT_9dac2_00006:\n",
      "  accuracy: 0.6777777777777778\n",
      "  date: 2021-12-18_16-49-56\n",
      "  done: false\n",
      "  experiment_id: 2c633631e1534b5f8d418fb67e3012ff\n",
      "  hostname: WSTOMAS21\n",
      "  iterations_since_restore: 5\n",
      "  loss: 0.8573341088162528\n",
      "  node_ip: 127.0.0.1\n",
      "  pid: 25256\n",
      "  should_checkpoint: true\n",
      "  time_since_restore: 39.43330907821655\n",
      "  time_this_iter_s: 7.359799385070801\n",
      "  time_total_s: 39.43330907821655\n",
      "  timestamp: 1639842596\n",
      "  timesteps_since_restore: 0\n",
      "  training_iteration: 5\n",
      "  trial_id: 9dac2_00006\n",
      "  \n",
      "Result for DEFAULT_9dac2_00006:\n",
      "  accuracy: 0.6777777777777778\n",
      "  date: 2021-12-18_16-49-56\n",
      "  done: true\n",
      "  experiment_id: 2c633631e1534b5f8d418fb67e3012ff\n",
      "  experiment_tag: 6_batch_size=10,learning_rate=0.05049,num_epochs=5\n",
      "  hostname: WSTOMAS21\n",
      "  iterations_since_restore: 5\n",
      "  loss: 0.8573341088162528\n",
      "  node_ip: 127.0.0.1\n",
      "  pid: 25256\n",
      "  should_checkpoint: true\n",
      "  time_since_restore: 39.43330907821655\n",
      "  time_this_iter_s: 7.359799385070801\n",
      "  time_total_s: 39.43330907821655\n",
      "  timestamp: 1639842596\n",
      "  timesteps_since_restore: 0\n",
      "  training_iteration: 5\n",
      "  trial_id: 9dac2_00006\n",
      "  \n",
      " pid=25256)\u001b[0m Finished\n",
      "== Status ==\n",
      "Current time: 2021-12-18 16:49:59 (running for 00:03:52.10)\n",
      "Memory usage on this node: 18.4/47.6 GiB\n",
      "Using AsyncHyperBand: num_stopped=4\n",
      "Bracket: Iter 8.000: -0.8682056963443756 | Iter 4.000: -0.8600765963395436 | Iter 2.000: -0.8739355951547623 | Iter 1.000: -0.9575272500514984\n",
      "Resources requested: 1.0/24 CPUs, 1.0/2 GPUs, 0.0/38.81 GiB heap, 0.0/19.41 GiB objects\n",
      "Result logdir: C:\\Users\\Tomas\\ray_results\\DEFAULT_2021-12-18_16-46-07\n",
      "Number of trials: 10/10 (2 PENDING, 1 RUNNING, 7 TERMINATED)\n",
      "+---------------------+------------+-----------------+--------------+-----------------+--------------+-----------+\n",
      "| Trial name          | status     | loc             |   batch_size |   learning_rate |   num_epochs |      loss |\n",
      "|---------------------+------------+-----------------+--------------+-----------------+--------------+-----------|\n",
      "| DEFAULT_9dac2_00007 | RUNNING    | 127.0.0.1:18308 |           30 |     0.09042     |            5 |           |\n",
      "| DEFAULT_9dac2_00008 | PENDING    |                 |           10 |     0.0172876   |            5 |           |\n",
      "| DEFAULT_9dac2_00009 | PENDING    |                 |           50 |     0.000934897 |            4 |           |\n",
      "| DEFAULT_9dac2_00000 | TERMINATED | 127.0.0.1:25644 |           50 |     0.00450476  |           10 |  0.870041 |\n",
      "| DEFAULT_9dac2_00001 | TERMINATED | 127.0.0.1:26228 |           50 |     0.0106262   |           10 |  2.44555  |\n",
      "| DEFAULT_9dac2_00002 | TERMINATED | 127.0.0.1:14992 |           50 |     0.0841042   |           10 |  0.883382 |\n",
      "| DEFAULT_9dac2_00003 | TERMINATED | 127.0.0.1:20816 |          100 |     0.0295763   |            5 | 17.175    |\n",
      "| DEFAULT_9dac2_00004 | TERMINATED | 127.0.0.1:9948  |           50 |     0.00857354  |           10 |  0.917746 |\n",
      "| DEFAULT_9dac2_00005 | TERMINATED | 127.0.0.1:24328 |           30 |     0.00963307  |            4 |  0.857042 |\n",
      "| DEFAULT_9dac2_00006 | TERMINATED | 127.0.0.1:25256 |           10 |     0.0504903   |            5 |  0.857334 |\n",
      "+---------------------+------------+-----------------+--------------+-----------------+--------------+-----------+\n",
      "\n",
      "\n"
     ]
    },
    {
     "name": "stderr",
     "output_type": "stream",
     "text": [
      "  0%|          | 0/14 [00:00<?, ?it/s]\n",
      "  7%|▋         | 1/14 [00:03<00:48,  3.71s/it]\n",
      "100%|██████████| 14/14 [00:03<00:00,  3.57it/s]\n",
      "  0%|          | 0/6 [00:00<?, ?it/s]\n"
     ]
    },
    {
     "name": "stdout",
     "output_type": "stream",
     "text": [
      "== Status ==\n",
      "Current time: 2021-12-18 16:50:04 (running for 00:03:57.24)\n",
      "Memory usage on this node: 19.1/47.6 GiB\n",
      "Using AsyncHyperBand: num_stopped=4\n",
      "Bracket: Iter 8.000: -0.8682056963443756 | Iter 4.000: -0.8600765963395436 | Iter 2.000: -0.8739355951547623 | Iter 1.000: -0.9575272500514984\n",
      "Resources requested: 1.0/24 CPUs, 1.0/2 GPUs, 0.0/38.81 GiB heap, 0.0/19.41 GiB objects\n",
      "Result logdir: C:\\Users\\Tomas\\ray_results\\DEFAULT_2021-12-18_16-46-07\n",
      "Number of trials: 10/10 (2 PENDING, 1 RUNNING, 7 TERMINATED)\n",
      "+---------------------+------------+-----------------+--------------+-----------------+--------------+-----------+\n",
      "| Trial name          | status     | loc             |   batch_size |   learning_rate |   num_epochs |      loss |\n",
      "|---------------------+------------+-----------------+--------------+-----------------+--------------+-----------|\n",
      "| DEFAULT_9dac2_00007 | RUNNING    | 127.0.0.1:18308 |           30 |     0.09042     |            5 |           |\n",
      "| DEFAULT_9dac2_00008 | PENDING    |                 |           10 |     0.0172876   |            5 |           |\n",
      "| DEFAULT_9dac2_00009 | PENDING    |                 |           50 |     0.000934897 |            4 |           |\n",
      "| DEFAULT_9dac2_00000 | TERMINATED | 127.0.0.1:25644 |           50 |     0.00450476  |           10 |  0.870041 |\n",
      "| DEFAULT_9dac2_00001 | TERMINATED | 127.0.0.1:26228 |           50 |     0.0106262   |           10 |  2.44555  |\n",
      "| DEFAULT_9dac2_00002 | TERMINATED | 127.0.0.1:14992 |           50 |     0.0841042   |           10 |  0.883382 |\n",
      "| DEFAULT_9dac2_00003 | TERMINATED | 127.0.0.1:20816 |          100 |     0.0295763   |            5 | 17.175    |\n",
      "| DEFAULT_9dac2_00004 | TERMINATED | 127.0.0.1:9948  |           50 |     0.00857354  |           10 |  0.917746 |\n",
      "| DEFAULT_9dac2_00005 | TERMINATED | 127.0.0.1:24328 |           30 |     0.00963307  |            4 |  0.857042 |\n",
      "| DEFAULT_9dac2_00006 | TERMINATED | 127.0.0.1:25256 |           10 |     0.0504903   |            5 |  0.857334 |\n",
      "+---------------------+------------+-----------------+--------------+-----------------+--------------+-----------+\n",
      "\n",
      "\n"
     ]
    },
    {
     "name": "stderr",
     "output_type": "stream",
     "text": [
      "\u001b[2m\u001b[36m(ImplicitFunc\r",
      " pid=18308)\u001b[0m \r",
      " 17%|█▋        | 1/6 [00:03<00:16,  3.35s/it]\n"
     ]
    },
    {
     "name": "stdout",
     "output_type": "stream",
     "text": [
      "Result for DEFAULT_9dac2_00007:\n",
      "  accuracy: 0.6777777777777778\n",
      "  date: 2021-12-18_16-50-08\n",
      "  done: false\n",
      "  experiment_id: 8a6cdd95800f45b09743e140a07bb24c\n",
      "  hostname: WSTOMAS21\n",
      "  iterations_since_restore: 1\n",
      "  loss: 0.8641643822193146\n",
      "  node_ip: 127.0.0.1\n",
      "  pid: 18308\n",
      "  should_checkpoint: true\n",
      "  time_since_restore: 9.589319944381714\n",
      "  time_this_iter_s: 9.589319944381714\n",
      "  time_total_s: 9.589319944381714\n",
      "  timestamp: 1639842608\n",
      "  timesteps_since_restore: 0\n",
      "  training_iteration: 1\n",
      "  trial_id: 9dac2_00007\n",
      "  \n"
     ]
    },
    {
     "name": "stderr",
     "output_type": "stream",
     "text": [
      "\u001b[2m\u001b[36m(ImplicitFunc\r",
      " pid=18308)\u001b[0m \r",
      "100%|██████████| 6/6 [00:03<00:00,  1.68it/s]\r\n",
      "\u001b[2m\u001b[36m(ImplicitFunc\r",
      " pid=18308)\u001b[0m \r",
      "  0%|          | 0/14 [00:00<?, ?it/s]\n"
     ]
    },
    {
     "name": "stdout",
     "output_type": "stream",
     "text": [
      "== Status ==\n",
      "Current time: 2021-12-18 16:50:10 (running for 00:04:02.45)\n",
      "Memory usage on this node: 19.1/47.6 GiB\n",
      "Using AsyncHyperBand: num_stopped=4\n",
      "Bracket: Iter 8.000: -0.8682056963443756 | Iter 4.000: -0.8600765963395436 | Iter 2.000: -0.8739355951547623 | Iter 1.000: -0.9230175688862801\n",
      "Resources requested: 1.0/24 CPUs, 1.0/2 GPUs, 0.0/38.81 GiB heap, 0.0/19.41 GiB objects\n",
      "Result logdir: C:\\Users\\Tomas\\ray_results\\DEFAULT_2021-12-18_16-46-07\n",
      "Number of trials: 10/10 (2 PENDING, 1 RUNNING, 7 TERMINATED)\n",
      "+---------------------+------------+-----------------+--------------+-----------------+--------------+-----------+\n",
      "| Trial name          | status     | loc             |   batch_size |   learning_rate |   num_epochs |      loss |\n",
      "|---------------------+------------+-----------------+--------------+-----------------+--------------+-----------|\n",
      "| DEFAULT_9dac2_00007 | RUNNING    | 127.0.0.1:18308 |           30 |     0.09042     |            5 |  0.864164 |\n",
      "| DEFAULT_9dac2_00008 | PENDING    |                 |           10 |     0.0172876   |            5 |           |\n",
      "| DEFAULT_9dac2_00009 | PENDING    |                 |           50 |     0.000934897 |            4 |           |\n",
      "| DEFAULT_9dac2_00000 | TERMINATED | 127.0.0.1:25644 |           50 |     0.00450476  |           10 |  0.870041 |\n",
      "| DEFAULT_9dac2_00001 | TERMINATED | 127.0.0.1:26228 |           50 |     0.0106262   |           10 |  2.44555  |\n",
      "| DEFAULT_9dac2_00002 | TERMINATED | 127.0.0.1:14992 |           50 |     0.0841042   |           10 |  0.883382 |\n",
      "| DEFAULT_9dac2_00003 | TERMINATED | 127.0.0.1:20816 |          100 |     0.0295763   |            5 | 17.175    |\n",
      "| DEFAULT_9dac2_00004 | TERMINATED | 127.0.0.1:9948  |           50 |     0.00857354  |           10 |  0.917746 |\n",
      "| DEFAULT_9dac2_00005 | TERMINATED | 127.0.0.1:24328 |           30 |     0.00963307  |            4 |  0.857042 |\n",
      "| DEFAULT_9dac2_00006 | TERMINATED | 127.0.0.1:25256 |           10 |     0.0504903   |            5 |  0.857334 |\n",
      "+---------------------+------------+-----------------+--------------+-----------------+--------------+-----------+\n",
      "\n",
      "\n"
     ]
    },
    {
     "name": "stderr",
     "output_type": "stream",
     "text": [
      "  7%|▋         | 1/14 [00:03<00:42,  3.30s/it]\n",
      " 14%|█▍        | 2/14 [00:03<00:17,  1.43s/it]\n",
      "100%|██████████| 14/14 [00:03<00:00,  3.83it/s]\n",
      "  0%|          | 0/6 [00:00<?, ?it/s]\n"
     ]
    },
    {
     "name": "stdout",
     "output_type": "stream",
     "text": [
      "== Status ==\n",
      "Current time: 2021-12-18 16:50:15 (running for 00:04:07.53)\n",
      "Memory usage on this node: 19.2/47.6 GiB\n",
      "Using AsyncHyperBand: num_stopped=4\n",
      "Bracket: Iter 8.000: -0.8682056963443756 | Iter 4.000: -0.8600765963395436 | Iter 2.000: -0.8739355951547623 | Iter 1.000: -0.9230175688862801\n",
      "Resources requested: 1.0/24 CPUs, 1.0/2 GPUs, 0.0/38.81 GiB heap, 0.0/19.41 GiB objects\n",
      "Result logdir: C:\\Users\\Tomas\\ray_results\\DEFAULT_2021-12-18_16-46-07\n",
      "Number of trials: 10/10 (2 PENDING, 1 RUNNING, 7 TERMINATED)\n",
      "+---------------------+------------+-----------------+--------------+-----------------+--------------+-----------+\n",
      "| Trial name          | status     | loc             |   batch_size |   learning_rate |   num_epochs |      loss |\n",
      "|---------------------+------------+-----------------+--------------+-----------------+--------------+-----------|\n",
      "| DEFAULT_9dac2_00007 | RUNNING    | 127.0.0.1:18308 |           30 |     0.09042     |            5 |  0.864164 |\n",
      "| DEFAULT_9dac2_00008 | PENDING    |                 |           10 |     0.0172876   |            5 |           |\n",
      "| DEFAULT_9dac2_00009 | PENDING    |                 |           50 |     0.000934897 |            4 |           |\n",
      "| DEFAULT_9dac2_00000 | TERMINATED | 127.0.0.1:25644 |           50 |     0.00450476  |           10 |  0.870041 |\n",
      "| DEFAULT_9dac2_00001 | TERMINATED | 127.0.0.1:26228 |           50 |     0.0106262   |           10 |  2.44555  |\n",
      "| DEFAULT_9dac2_00002 | TERMINATED | 127.0.0.1:14992 |           50 |     0.0841042   |           10 |  0.883382 |\n",
      "| DEFAULT_9dac2_00003 | TERMINATED | 127.0.0.1:20816 |          100 |     0.0295763   |            5 | 17.175    |\n",
      "| DEFAULT_9dac2_00004 | TERMINATED | 127.0.0.1:9948  |           50 |     0.00857354  |           10 |  0.917746 |\n",
      "| DEFAULT_9dac2_00005 | TERMINATED | 127.0.0.1:24328 |           30 |     0.00963307  |            4 |  0.857042 |\n",
      "| DEFAULT_9dac2_00006 | TERMINATED | 127.0.0.1:25256 |           10 |     0.0504903   |            5 |  0.857334 |\n",
      "+---------------------+------------+-----------------+--------------+-----------------+--------------+-----------+\n",
      "\n",
      "\n",
      "Result for DEFAULT_9dac2_00007:\n",
      "  accuracy: 0.6777777777777778\n",
      "  date: 2021-12-18_16-50-15\n",
      "  done: true\n",
      "  experiment_id: 8a6cdd95800f45b09743e140a07bb24c\n",
      "  hostname: WSTOMAS21\n",
      "  iterations_since_restore: 2\n",
      "  loss: 0.8857980668544769\n",
      "  node_ip: 127.0.0.1\n",
      "  pid: 18308\n",
      "  should_checkpoint: true\n",
      "  time_since_restore: 16.875446319580078\n",
      "  time_this_iter_s: 7.286126375198364\n",
      "  time_total_s: 16.875446319580078\n",
      "  timestamp: 1639842615\n",
      "  timesteps_since_restore: 0\n",
      "  training_iteration: 2\n",
      "  trial_id: 9dac2_00007\n",
      "  \n"
     ]
    },
    {
     "name": "stderr",
     "output_type": "stream",
     "text": [
      " 17%|█▋        | 1/6 [00:03<00:16,  3.38s/it]\n",
      "100%|██████████| 6/6 [00:03<00:00,  1.67it/s]\n",
      "  0%|          | 0/42 [00:00<?, ?it/s]\n"
     ]
    },
    {
     "name": "stdout",
     "output_type": "stream",
     "text": [
      "== Status ==\n",
      "Current time: 2021-12-18 16:50:20 (running for 00:04:12.85)\n",
      "Memory usage on this node: 19.0/47.6 GiB\n",
      "Using AsyncHyperBand: num_stopped=5\n",
      "Bracket: Iter 8.000: -0.8682056963443756 | Iter 4.000: -0.8600765963395436 | Iter 2.000: -0.8744360506534576 | Iter 1.000: -0.9230175688862801\n",
      "Resources requested: 1.0/24 CPUs, 1.0/2 GPUs, 0.0/38.81 GiB heap, 0.0/19.41 GiB objects\n",
      "Result logdir: C:\\Users\\Tomas\\ray_results\\DEFAULT_2021-12-18_16-46-07\n",
      "Number of trials: 10/10 (1 PENDING, 1 RUNNING, 8 TERMINATED)\n",
      "+---------------------+------------+-----------------+--------------+-----------------+--------------+-----------+\n",
      "| Trial name          | status     | loc             |   batch_size |   learning_rate |   num_epochs |      loss |\n",
      "|---------------------+------------+-----------------+--------------+-----------------+--------------+-----------|\n",
      "| DEFAULT_9dac2_00008 | RUNNING    | 127.0.0.1:24328 |           10 |     0.0172876   |            5 |           |\n",
      "| DEFAULT_9dac2_00009 | PENDING    |                 |           50 |     0.000934897 |            4 |           |\n",
      "| DEFAULT_9dac2_00000 | TERMINATED | 127.0.0.1:25644 |           50 |     0.00450476  |           10 |  0.870041 |\n",
      "| DEFAULT_9dac2_00001 | TERMINATED | 127.0.0.1:26228 |           50 |     0.0106262   |           10 |  2.44555  |\n",
      "| DEFAULT_9dac2_00002 | TERMINATED | 127.0.0.1:14992 |           50 |     0.0841042   |           10 |  0.883382 |\n",
      "| DEFAULT_9dac2_00003 | TERMINATED | 127.0.0.1:20816 |          100 |     0.0295763   |            5 | 17.175    |\n",
      "| DEFAULT_9dac2_00004 | TERMINATED | 127.0.0.1:9948  |           50 |     0.00857354  |           10 |  0.917746 |\n",
      "| DEFAULT_9dac2_00005 | TERMINATED | 127.0.0.1:24328 |           30 |     0.00963307  |            4 |  0.857042 |\n",
      "| DEFAULT_9dac2_00006 | TERMINATED | 127.0.0.1:25256 |           10 |     0.0504903   |            5 |  0.857334 |\n",
      "| DEFAULT_9dac2_00007 | TERMINATED | 127.0.0.1:18308 |           30 |     0.09042     |            5 |  0.885798 |\n",
      "+---------------------+------------+-----------------+--------------+-----------------+--------------+-----------+\n",
      "\n",
      "\n"
     ]
    },
    {
     "name": "stderr",
     "output_type": "stream",
     "text": [
      "  2%|▏         | 1/42 [00:03<02:31,  3.69s/it]\n",
      " 86%|████████▌ | 36/42 [00:03<00:00, 13.29it/s]\n",
      "100%|██████████| 42/42 [00:03<00:00, 10.50it/s]\n",
      "  0%|          | 0/18 [00:00<?, ?it/s]\n"
     ]
    },
    {
     "name": "stdout",
     "output_type": "stream",
     "text": [
      "== Status ==\n",
      "Current time: 2021-12-18 16:50:25 (running for 00:04:17.94)\n",
      "Memory usage on this node: 19.1/47.6 GiB\n",
      "Using AsyncHyperBand: num_stopped=5\n",
      "Bracket: Iter 8.000: -0.8682056963443756 | Iter 4.000: -0.8600765963395436 | Iter 2.000: -0.8744360506534576 | Iter 1.000: -0.9230175688862801\n",
      "Resources requested: 1.0/24 CPUs, 1.0/2 GPUs, 0.0/38.81 GiB heap, 0.0/19.41 GiB objects\n",
      "Result logdir: C:\\Users\\Tomas\\ray_results\\DEFAULT_2021-12-18_16-46-07\n",
      "Number of trials: 10/10 (1 PENDING, 1 RUNNING, 8 TERMINATED)\n",
      "+---------------------+------------+-----------------+--------------+-----------------+--------------+-----------+\n",
      "| Trial name          | status     | loc             |   batch_size |   learning_rate |   num_epochs |      loss |\n",
      "|---------------------+------------+-----------------+--------------+-----------------+--------------+-----------|\n",
      "| DEFAULT_9dac2_00008 | RUNNING    | 127.0.0.1:24328 |           10 |     0.0172876   |            5 |           |\n",
      "| DEFAULT_9dac2_00009 | PENDING    |                 |           50 |     0.000934897 |            4 |           |\n",
      "| DEFAULT_9dac2_00000 | TERMINATED | 127.0.0.1:25644 |           50 |     0.00450476  |           10 |  0.870041 |\n",
      "| DEFAULT_9dac2_00001 | TERMINATED | 127.0.0.1:26228 |           50 |     0.0106262   |           10 |  2.44555  |\n",
      "| DEFAULT_9dac2_00002 | TERMINATED | 127.0.0.1:14992 |           50 |     0.0841042   |           10 |  0.883382 |\n",
      "| DEFAULT_9dac2_00003 | TERMINATED | 127.0.0.1:20816 |          100 |     0.0295763   |            5 | 17.175    |\n",
      "| DEFAULT_9dac2_00004 | TERMINATED | 127.0.0.1:9948  |           50 |     0.00857354  |           10 |  0.917746 |\n",
      "| DEFAULT_9dac2_00005 | TERMINATED | 127.0.0.1:24328 |           30 |     0.00963307  |            4 |  0.857042 |\n",
      "| DEFAULT_9dac2_00006 | TERMINATED | 127.0.0.1:25256 |           10 |     0.0504903   |            5 |  0.857334 |\n",
      "| DEFAULT_9dac2_00007 | TERMINATED | 127.0.0.1:18308 |           30 |     0.09042     |            5 |  0.885798 |\n",
      "+---------------------+------------+-----------------+--------------+-----------------+--------------+-----------+\n",
      "\n",
      "\n"
     ]
    },
    {
     "name": "stderr",
     "output_type": "stream",
     "text": [
      "\u001b[2m\u001b[36m(ImplicitFunc\r",
      " pid=24328)\u001b[0m \r",
      "  6%|▌         | 1/18 [00:03<00:57,  3.40s/it]\n"
     ]
    },
    {
     "name": "stdout",
     "output_type": "stream",
     "text": [
      "Result for DEFAULT_9dac2_00008:\n",
      "  accuracy: 0.6777777777777778\n",
      "  date: 2021-12-18_16-50-26\n",
      "  done: false\n",
      "  experiment_id: d1e05739b1854e21a5c9cbfe6f77debc\n",
      "  hostname: WSTOMAS21\n",
      "  iterations_since_restore: 1\n",
      "  loss: 0.9058503177430894\n",
      "  node_ip: 127.0.0.1\n",
      "  pid: 24328\n",
      "  should_checkpoint: true\n",
      "  time_since_restore: 9.62205696105957\n",
      "  time_this_iter_s: 9.62205696105957\n",
      "  time_total_s: 9.62205696105957\n",
      "  timestamp: 1639842626\n",
      "  timesteps_since_restore: 0\n",
      "  training_iteration: 1\n",
      "  trial_id: 9dac2_00008\n",
      "  \n"
     ]
    },
    {
     "name": "stderr",
     "output_type": "stream",
     "text": [
      "100%|██████████| 18/18 [00:03<00:00,  4.99it/s]\n",
      "  0%|          | 0/42 [00:00<?, ?it/s]\n",
      "  2%|▏         | 1/42 [00:03<02:18,  3.37s/it]\n",
      " 50%|█████     | 21/42 [00:03<00:02,  8.41it/s]\n",
      "100%|██████████| 42/42 [00:03<00:00, 11.16it/s]\n",
      "  0%|          | 0/18 [00:00<?, ?it/s]\n"
     ]
    },
    {
     "name": "stdout",
     "output_type": "stream",
     "text": [
      "== Status ==\n",
      "Current time: 2021-12-18 16:50:31 (running for 00:04:23.30)\n",
      "Memory usage on this node: 19.1/47.6 GiB\n",
      "Using AsyncHyperBand: num_stopped=5\n",
      "Bracket: Iter 8.000: -0.8682056963443756 | Iter 4.000: -0.8600765963395436 | Iter 2.000: -0.8744360506534576 | Iter 1.000: -0.9058503177430894\n",
      "Resources requested: 1.0/24 CPUs, 1.0/2 GPUs, 0.0/38.81 GiB heap, 0.0/19.41 GiB objects\n",
      "Result logdir: C:\\Users\\Tomas\\ray_results\\DEFAULT_2021-12-18_16-46-07\n",
      "Number of trials: 10/10 (1 PENDING, 1 RUNNING, 8 TERMINATED)\n",
      "+---------------------+------------+-----------------+--------------+-----------------+--------------+-----------+\n",
      "| Trial name          | status     | loc             |   batch_size |   learning_rate |   num_epochs |      loss |\n",
      "|---------------------+------------+-----------------+--------------+-----------------+--------------+-----------|\n",
      "| DEFAULT_9dac2_00008 | RUNNING    | 127.0.0.1:24328 |           10 |     0.0172876   |            5 |  0.90585  |\n",
      "| DEFAULT_9dac2_00009 | PENDING    |                 |           50 |     0.000934897 |            4 |           |\n",
      "| DEFAULT_9dac2_00000 | TERMINATED | 127.0.0.1:25644 |           50 |     0.00450476  |           10 |  0.870041 |\n",
      "| DEFAULT_9dac2_00001 | TERMINATED | 127.0.0.1:26228 |           50 |     0.0106262   |           10 |  2.44555  |\n",
      "| DEFAULT_9dac2_00002 | TERMINATED | 127.0.0.1:14992 |           50 |     0.0841042   |           10 |  0.883382 |\n",
      "| DEFAULT_9dac2_00003 | TERMINATED | 127.0.0.1:20816 |          100 |     0.0295763   |            5 | 17.175    |\n",
      "| DEFAULT_9dac2_00004 | TERMINATED | 127.0.0.1:9948  |           50 |     0.00857354  |           10 |  0.917746 |\n",
      "| DEFAULT_9dac2_00005 | TERMINATED | 127.0.0.1:24328 |           30 |     0.00963307  |            4 |  0.857042 |\n",
      "| DEFAULT_9dac2_00006 | TERMINATED | 127.0.0.1:25256 |           10 |     0.0504903   |            5 |  0.857334 |\n",
      "| DEFAULT_9dac2_00007 | TERMINATED | 127.0.0.1:18308 |           30 |     0.09042     |            5 |  0.885798 |\n",
      "+---------------------+------------+-----------------+--------------+-----------------+--------------+-----------+\n",
      "\n",
      "\n"
     ]
    },
    {
     "name": "stderr",
     "output_type": "stream",
     "text": [
      "\u001b[2m\u001b[36m(ImplicitFunc\r",
      " pid=24328)\u001b[0m \r",
      "  6%|▌         | 1/18 [00:03<00:57,  3.37s/it]\n",
      "\u001b[2m\u001b[36m(ImplicitFunc\r",
      " pid=24328)\u001b[0m \r",
      "100%|██████████| 18/18 [00:03<00:00,  5.02it/s]\r\n",
      "\u001b[2m\u001b[36m(ImplicitFunc\r",
      " pid=24328)\u001b[0m \r",
      "  0%|          | 0/42 [00:00<?, ?it/s]\n"
     ]
    },
    {
     "name": "stdout",
     "output_type": "stream",
     "text": [
      "Result for DEFAULT_9dac2_00008:\n",
      "  accuracy: 0.6777777777777778\n",
      "  date: 2021-12-18_16-50-34\n",
      "  done: false\n",
      "  experiment_id: d1e05739b1854e21a5c9cbfe6f77debc\n",
      "  hostname: WSTOMAS21\n",
      "  iterations_since_restore: 2\n",
      "  loss: 0.8558257553312514\n",
      "  node_ip: 127.0.0.1\n",
      "  pid: 24328\n",
      "  should_checkpoint: true\n",
      "  time_since_restore: 16.99497652053833\n",
      "  time_this_iter_s: 7.37291955947876\n",
      "  time_total_s: 16.99497652053833\n",
      "  timestamp: 1639842634\n",
      "  timesteps_since_restore: 0\n",
      "  training_iteration: 2\n",
      "  trial_id: 9dac2_00008\n",
      "  \n",
      "== Status ==\n",
      "Current time: 2021-12-18 16:50:36 (running for 00:04:28.63)\n",
      "Memory usage on this node: 19.1/47.6 GiB\n",
      "Using AsyncHyperBand: num_stopped=5\n",
      "Bracket: Iter 8.000: -0.8682056963443756 | Iter 4.000: -0.8600765963395436 | Iter 2.000: -0.8739355951547623 | Iter 1.000: -0.9058503177430894\n",
      "Resources requested: 1.0/24 CPUs, 1.0/2 GPUs, 0.0/38.81 GiB heap, 0.0/19.41 GiB objects\n",
      "Result logdir: C:\\Users\\Tomas\\ray_results\\DEFAULT_2021-12-18_16-46-07\n",
      "Number of trials: 10/10 (1 PENDING, 1 RUNNING, 8 TERMINATED)\n",
      "+---------------------+------------+-----------------+--------------+-----------------+--------------+-----------+\n",
      "| Trial name          | status     | loc             |   batch_size |   learning_rate |   num_epochs |      loss |\n",
      "|---------------------+------------+-----------------+--------------+-----------------+--------------+-----------|\n",
      "| DEFAULT_9dac2_00008 | RUNNING    | 127.0.0.1:24328 |           10 |     0.0172876   |            5 |  0.855826 |\n",
      "| DEFAULT_9dac2_00009 | PENDING    |                 |           50 |     0.000934897 |            4 |           |\n",
      "| DEFAULT_9dac2_00000 | TERMINATED | 127.0.0.1:25644 |           50 |     0.00450476  |           10 |  0.870041 |\n",
      "| DEFAULT_9dac2_00001 | TERMINATED | 127.0.0.1:26228 |           50 |     0.0106262   |           10 |  2.44555  |\n",
      "| DEFAULT_9dac2_00002 | TERMINATED | 127.0.0.1:14992 |           50 |     0.0841042   |           10 |  0.883382 |\n",
      "| DEFAULT_9dac2_00003 | TERMINATED | 127.0.0.1:20816 |          100 |     0.0295763   |            5 | 17.175    |\n",
      "| DEFAULT_9dac2_00004 | TERMINATED | 127.0.0.1:9948  |           50 |     0.00857354  |           10 |  0.917746 |\n",
      "| DEFAULT_9dac2_00005 | TERMINATED | 127.0.0.1:24328 |           30 |     0.00963307  |            4 |  0.857042 |\n",
      "| DEFAULT_9dac2_00006 | TERMINATED | 127.0.0.1:25256 |           10 |     0.0504903   |            5 |  0.857334 |\n",
      "| DEFAULT_9dac2_00007 | TERMINATED | 127.0.0.1:18308 |           30 |     0.09042     |            5 |  0.885798 |\n",
      "+---------------------+------------+-----------------+--------------+-----------------+--------------+-----------+\n",
      "\n",
      "\n"
     ]
    },
    {
     "name": "stderr",
     "output_type": "stream",
     "text": [
      "  2%|▏         | 1/42 [00:03<02:15,  3.30s/it]\n",
      " 29%|██▊       | 12/42 [00:03<00:06,  4.85it/s]\n",
      "100%|██████████| 42/42 [00:03<00:00, 11.40it/s]\n",
      "  0%|          | 0/18 [00:00<?, ?it/s]\n"
     ]
    },
    {
     "name": "stdout",
     "output_type": "stream",
     "text": [
      "== Status ==\n",
      "Current time: 2021-12-18 16:50:41 (running for 00:04:33.73)\n",
      "Memory usage on this node: 19.2/47.6 GiB\n",
      "Using AsyncHyperBand: num_stopped=5\n",
      "Bracket: Iter 8.000: -0.8682056963443756 | Iter 4.000: -0.8600765963395436 | Iter 2.000: -0.8739355951547623 | Iter 1.000: -0.9058503177430894\n",
      "Resources requested: 1.0/24 CPUs, 1.0/2 GPUs, 0.0/38.81 GiB heap, 0.0/19.41 GiB objects\n",
      "Result logdir: C:\\Users\\Tomas\\ray_results\\DEFAULT_2021-12-18_16-46-07\n",
      "Number of trials: 10/10 (1 PENDING, 1 RUNNING, 8 TERMINATED)\n",
      "+---------------------+------------+-----------------+--------------+-----------------+--------------+-----------+\n",
      "| Trial name          | status     | loc             |   batch_size |   learning_rate |   num_epochs |      loss |\n",
      "|---------------------+------------+-----------------+--------------+-----------------+--------------+-----------|\n",
      "| DEFAULT_9dac2_00008 | RUNNING    | 127.0.0.1:24328 |           10 |     0.0172876   |            5 |  0.855826 |\n",
      "| DEFAULT_9dac2_00009 | PENDING    |                 |           50 |     0.000934897 |            4 |           |\n",
      "| DEFAULT_9dac2_00000 | TERMINATED | 127.0.0.1:25644 |           50 |     0.00450476  |           10 |  0.870041 |\n",
      "| DEFAULT_9dac2_00001 | TERMINATED | 127.0.0.1:26228 |           50 |     0.0106262   |           10 |  2.44555  |\n",
      "| DEFAULT_9dac2_00002 | TERMINATED | 127.0.0.1:14992 |           50 |     0.0841042   |           10 |  0.883382 |\n",
      "| DEFAULT_9dac2_00003 | TERMINATED | 127.0.0.1:20816 |          100 |     0.0295763   |            5 | 17.175    |\n",
      "| DEFAULT_9dac2_00004 | TERMINATED | 127.0.0.1:9948  |           50 |     0.00857354  |           10 |  0.917746 |\n",
      "| DEFAULT_9dac2_00005 | TERMINATED | 127.0.0.1:24328 |           30 |     0.00963307  |            4 |  0.857042 |\n",
      "| DEFAULT_9dac2_00006 | TERMINATED | 127.0.0.1:25256 |           10 |     0.0504903   |            5 |  0.857334 |\n",
      "| DEFAULT_9dac2_00007 | TERMINATED | 127.0.0.1:18308 |           30 |     0.09042     |            5 |  0.885798 |\n",
      "+---------------------+------------+-----------------+--------------+-----------------+--------------+-----------+\n",
      "\n",
      "\n",
      "Result for DEFAULT_9dac2_00008:\n",
      "  accuracy: 0.6777777777777778\n",
      "  date: 2021-12-18_16-50-41\n",
      "  done: false\n",
      "  experiment_id: d1e05739b1854e21a5c9cbfe6f77debc\n",
      "  hostname: WSTOMAS21\n",
      "  iterations_since_restore: 3\n",
      "  loss: 0.858380549483829\n",
      "  node_ip: 127.0.0.1\n",
      "  pid: 24328\n",
      "  should_checkpoint: true\n",
      "  time_since_restore: 24.316454648971558\n",
      "  time_this_iter_s: 7.3214781284332275\n",
      "  time_total_s: 24.316454648971558\n",
      "  timestamp: 1639842641\n",
      "  timesteps_since_restore: 0\n",
      "  training_iteration: 3\n",
      "  trial_id: 9dac2_00008\n",
      "  \n"
     ]
    },
    {
     "name": "stderr",
     "output_type": "stream",
     "text": [
      "  6%|▌         | 1/18 [00:03<00:57,  3.37s/it]\n",
      "100%|██████████| 18/18 [00:03<00:00,  4.99it/s]\n",
      "  0%|          | 0/42 [00:00<?, ?it/s]\n",
      " 86%|████████▌ | 36/42 [00:03<00:00, 14.53it/s]\n",
      "100%|██████████| 42/42 [00:03<00:00, 11.46it/s]\n",
      "  0%|          | 0/18 [00:00<?, ?it/s]\n"
     ]
    },
    {
     "name": "stdout",
     "output_type": "stream",
     "text": [
      "== Status ==\n",
      "Current time: 2021-12-18 16:50:46 (running for 00:04:39.01)\n",
      "Memory usage on this node: 19.1/47.6 GiB\n",
      "Using AsyncHyperBand: num_stopped=5\n",
      "Bracket: Iter 8.000: -0.8682056963443756 | Iter 4.000: -0.8600765963395436 | Iter 2.000: -0.8739355951547623 | Iter 1.000: -0.9058503177430894\n",
      "Resources requested: 1.0/24 CPUs, 1.0/2 GPUs, 0.0/38.81 GiB heap, 0.0/19.41 GiB objects\n",
      "Result logdir: C:\\Users\\Tomas\\ray_results\\DEFAULT_2021-12-18_16-46-07\n",
      "Number of trials: 10/10 (1 PENDING, 1 RUNNING, 8 TERMINATED)\n",
      "+---------------------+------------+-----------------+--------------+-----------------+--------------+-----------+\n",
      "| Trial name          | status     | loc             |   batch_size |   learning_rate |   num_epochs |      loss |\n",
      "|---------------------+------------+-----------------+--------------+-----------------+--------------+-----------|\n",
      "| DEFAULT_9dac2_00008 | RUNNING    | 127.0.0.1:24328 |           10 |     0.0172876   |            5 |  0.858381 |\n",
      "| DEFAULT_9dac2_00009 | PENDING    |                 |           50 |     0.000934897 |            4 |           |\n",
      "| DEFAULT_9dac2_00000 | TERMINATED | 127.0.0.1:25644 |           50 |     0.00450476  |           10 |  0.870041 |\n",
      "| DEFAULT_9dac2_00001 | TERMINATED | 127.0.0.1:26228 |           50 |     0.0106262   |           10 |  2.44555  |\n",
      "| DEFAULT_9dac2_00002 | TERMINATED | 127.0.0.1:14992 |           50 |     0.0841042   |           10 |  0.883382 |\n",
      "| DEFAULT_9dac2_00003 | TERMINATED | 127.0.0.1:20816 |          100 |     0.0295763   |            5 | 17.175    |\n",
      "| DEFAULT_9dac2_00004 | TERMINATED | 127.0.0.1:9948  |           50 |     0.00857354  |           10 |  0.917746 |\n",
      "| DEFAULT_9dac2_00005 | TERMINATED | 127.0.0.1:24328 |           30 |     0.00963307  |            4 |  0.857042 |\n",
      "| DEFAULT_9dac2_00006 | TERMINATED | 127.0.0.1:25256 |           10 |     0.0504903   |            5 |  0.857334 |\n",
      "| DEFAULT_9dac2_00007 | TERMINATED | 127.0.0.1:18308 |           30 |     0.09042     |            5 |  0.885798 |\n",
      "+---------------------+------------+-----------------+--------------+-----------------+--------------+-----------+\n",
      "\n",
      "\n"
     ]
    },
    {
     "name": "stderr",
     "output_type": "stream",
     "text": [
      "\u001b[2m\u001b[36m(ImplicitFunc\r",
      " pid=24328)\u001b[0m \r",
      "  6%|▌         | 1/18 [00:03<00:56,  3.34s/it]\n"
     ]
    },
    {
     "name": "stdout",
     "output_type": "stream",
     "text": [
      "Result for DEFAULT_9dac2_00008:\n",
      "  accuracy: 0.6777777777777778\n",
      "  date: 2021-12-18_16-50-48\n",
      "  done: false\n",
      "  experiment_id: d1e05739b1854e21a5c9cbfe6f77debc\n",
      "  hostname: WSTOMAS21\n",
      "  iterations_since_restore: 4\n",
      "  loss: 0.8590151833163368\n",
      "  node_ip: 127.0.0.1\n",
      "  pid: 24328\n",
      "  should_checkpoint: true\n",
      "  time_since_restore: 31.63864517211914\n",
      "  time_this_iter_s: 7.322190523147583\n",
      "  time_total_s: 31.63864517211914\n",
      "  timestamp: 1639842648\n",
      "  timesteps_since_restore: 0\n",
      "  training_iteration: 4\n",
      "  trial_id: 9dac2_00008\n",
      "  \n"
     ]
    },
    {
     "name": "stderr",
     "output_type": "stream",
     "text": [
      "\u001b[2m\u001b[36m(ImplicitFunc\r",
      " pid=24328)\u001b[0m \r",
      "100%|██████████| 18/18 [00:03<00:00,  4.97it/s]\r\n",
      "\u001b[2m\u001b[36m(ImplicitFunc\r",
      " pid=24328)\u001b[0m \r",
      "  0%|          | 0/42 [00:00<?, ?it/s]\n"
     ]
    },
    {
     "name": "stdout",
     "output_type": "stream",
     "text": [
      "== Status ==\n",
      "Current time: 2021-12-18 16:50:52 (running for 00:04:44.30)\n",
      "Memory usage on this node: 19.2/47.6 GiB\n",
      "Using AsyncHyperBand: num_stopped=5\n",
      "Bracket: Iter 8.000: -0.8682056963443756 | Iter 4.000: -0.8590151833163368 | Iter 2.000: -0.8739355951547623 | Iter 1.000: -0.9058503177430894\n",
      "Resources requested: 1.0/24 CPUs, 1.0/2 GPUs, 0.0/38.81 GiB heap, 0.0/19.41 GiB objects\n",
      "Result logdir: C:\\Users\\Tomas\\ray_results\\DEFAULT_2021-12-18_16-46-07\n",
      "Number of trials: 10/10 (1 PENDING, 1 RUNNING, 8 TERMINATED)\n",
      "+---------------------+------------+-----------------+--------------+-----------------+--------------+-----------+\n",
      "| Trial name          | status     | loc             |   batch_size |   learning_rate |   num_epochs |      loss |\n",
      "|---------------------+------------+-----------------+--------------+-----------------+--------------+-----------|\n",
      "| DEFAULT_9dac2_00008 | RUNNING    | 127.0.0.1:24328 |           10 |     0.0172876   |            5 |  0.859015 |\n",
      "| DEFAULT_9dac2_00009 | PENDING    |                 |           50 |     0.000934897 |            4 |           |\n",
      "| DEFAULT_9dac2_00000 | TERMINATED | 127.0.0.1:25644 |           50 |     0.00450476  |           10 |  0.870041 |\n",
      "| DEFAULT_9dac2_00001 | TERMINATED | 127.0.0.1:26228 |           50 |     0.0106262   |           10 |  2.44555  |\n",
      "| DEFAULT_9dac2_00002 | TERMINATED | 127.0.0.1:14992 |           50 |     0.0841042   |           10 |  0.883382 |\n",
      "| DEFAULT_9dac2_00003 | TERMINATED | 127.0.0.1:20816 |          100 |     0.0295763   |            5 | 17.175    |\n",
      "| DEFAULT_9dac2_00004 | TERMINATED | 127.0.0.1:9948  |           50 |     0.00857354  |           10 |  0.917746 |\n",
      "| DEFAULT_9dac2_00005 | TERMINATED | 127.0.0.1:24328 |           30 |     0.00963307  |            4 |  0.857042 |\n",
      "| DEFAULT_9dac2_00006 | TERMINATED | 127.0.0.1:25256 |           10 |     0.0504903   |            5 |  0.857334 |\n",
      "| DEFAULT_9dac2_00007 | TERMINATED | 127.0.0.1:18308 |           30 |     0.09042     |            5 |  0.885798 |\n",
      "+---------------------+------------+-----------------+--------------+-----------------+--------------+-----------+\n",
      "\n",
      "\n"
     ]
    },
    {
     "name": "stderr",
     "output_type": "stream",
     "text": [
      "  2%|▏         | 1/42 [00:03<02:16,  3.32s/it]\n",
      " 55%|█████▍    | 23/42 [00:03<00:02,  9.35it/s]\n",
      "100%|██████████| 42/42 [00:03<00:00, 11.44it/s]\n",
      "  0%|          | 0/18 [00:00<?, ?it/s]\n",
      "  6%|▌         | 1/18 [00:03<00:56,  3.34s/it]\n"
     ]
    },
    {
     "name": "stdout",
     "output_type": "stream",
     "text": [
      "Result for DEFAULT_9dac2_00008:\n",
      "  accuracy: 0.6777777777777778\n",
      "  date: 2021-12-18_16-50-56\n",
      "  done: false\n",
      "  experiment_id: d1e05739b1854e21a5c9cbfe6f77debc\n",
      "  hostname: WSTOMAS21\n",
      "  iterations_since_restore: 5\n",
      "  loss: 0.8546260860231187\n",
      "  node_ip: 127.0.0.1\n",
      "  pid: 24328\n",
      "  should_checkpoint: true\n",
      "  time_since_restore: 38.89973306655884\n",
      "  time_this_iter_s: 7.261087894439697\n",
      "  time_total_s: 38.89973306655884\n",
      "  timestamp: 1639842656\n",
      "  timesteps_since_restore: 0\n",
      "  training_iteration: 5\n",
      "  trial_id: 9dac2_00008\n",
      "  \n",
      "Result for DEFAULT_9dac2_00008:\n",
      "  accuracy: 0.6777777777777778\n",
      "  date: 2021-12-18_16-50-56\n",
      "  done: true\n",
      "  experiment_id: d1e05739b1854e21a5c9cbfe6f77debc\n",
      "  experiment_tag: 8_batch_size=10,learning_rate=0.017288,num_epochs=5\n",
      "  hostname: WSTOMAS21\n",
      "  iterations_since_restore: 5\n",
      "  loss: 0.8546260860231187\n",
      "  node_ip: 127.0.0.1\n",
      "  pid: 24328\n",
      "  should_checkpoint: true\n",
      "  time_since_restore: 38.89973306655884\n",
      "  time_this_iter_s: 7.261087894439697\n",
      "  time_total_s: 38.89973306655884\n",
      "  timestamp: 1639842656\n",
      "  timesteps_since_restore: 0\n",
      "  training_iteration: 5\n",
      "  trial_id: 9dac2_00008\n",
      "  \n",
      "\u001b[2m\u001b[36m(ImplicitFunc\r",
      " pid=24328)\u001b[0m Finished\r\n"
     ]
    },
    {
     "name": "stderr",
     "output_type": "stream",
     "text": [
      "\u001b[2m\u001b[36m(ImplicitFunc\r",
      " pid=24328)\u001b[0m \r",
      "100%|██████████| 18/18 [00:03<00:00,  5.06it/s]\r\n"
     ]
    },
    {
     "name": "stdout",
     "output_type": "stream",
     "text": [
      "== Status ==\n",
      "Current time: 2021-12-18 16:50:57 (running for 00:04:49.56)\n",
      "Memory usage on this node: 17.7/47.6 GiB\n",
      "Using AsyncHyperBand: num_stopped=5\n",
      "Bracket: Iter 8.000: -0.8682056963443756 | Iter 4.000: -0.8590151833163368 | Iter 2.000: -0.8739355951547623 | Iter 1.000: -0.9058503177430894\n",
      "Resources requested: 1.0/24 CPUs, 1.0/2 GPUs, 0.0/38.81 GiB heap, 0.0/19.41 GiB objects\n",
      "Result logdir: C:\\Users\\Tomas\\ray_results\\DEFAULT_2021-12-18_16-46-07\n",
      "Number of trials: 10/10 (1 RUNNING, 9 TERMINATED)\n",
      "+---------------------+------------+-----------------+--------------+-----------------+--------------+-----------+\n",
      "| Trial name          | status     | loc             |   batch_size |   learning_rate |   num_epochs |      loss |\n",
      "|---------------------+------------+-----------------+--------------+-----------------+--------------+-----------|\n",
      "| DEFAULT_9dac2_00009 | RUNNING    | 127.0.0.1:16736 |           50 |     0.000934897 |            4 |           |\n",
      "| DEFAULT_9dac2_00000 | TERMINATED | 127.0.0.1:25644 |           50 |     0.00450476  |           10 |  0.870041 |\n",
      "| DEFAULT_9dac2_00001 | TERMINATED | 127.0.0.1:26228 |           50 |     0.0106262   |           10 |  2.44555  |\n",
      "| DEFAULT_9dac2_00002 | TERMINATED | 127.0.0.1:14992 |           50 |     0.0841042   |           10 |  0.883382 |\n",
      "| DEFAULT_9dac2_00003 | TERMINATED | 127.0.0.1:20816 |          100 |     0.0295763   |            5 | 17.175    |\n",
      "| DEFAULT_9dac2_00004 | TERMINATED | 127.0.0.1:9948  |           50 |     0.00857354  |           10 |  0.917746 |\n",
      "| DEFAULT_9dac2_00005 | TERMINATED | 127.0.0.1:24328 |           30 |     0.00963307  |            4 |  0.857042 |\n",
      "| DEFAULT_9dac2_00006 | TERMINATED | 127.0.0.1:25256 |           10 |     0.0504903   |            5 |  0.857334 |\n",
      "| DEFAULT_9dac2_00007 | TERMINATED | 127.0.0.1:18308 |           30 |     0.09042     |            5 |  0.885798 |\n",
      "| DEFAULT_9dac2_00008 | TERMINATED | 127.0.0.1:24328 |           10 |     0.0172876   |            5 |  0.854626 |\n",
      "+---------------------+------------+-----------------+--------------+-----------------+--------------+-----------+\n",
      "\n",
      "\n"
     ]
    },
    {
     "name": "stderr",
     "output_type": "stream",
     "text": [
      "\u001b[2m\u001b[36m(ImplicitFunc\r",
      " pid=16736)\u001b[0m \r",
      "  0%|          | 0/9 [00:00<?, ?it/s]\n"
     ]
    },
    {
     "name": "stdout",
     "output_type": "stream",
     "text": [
      "== Status ==\n",
      "Current time: 2021-12-18 16:51:03 (running for 00:04:55.40)\n",
      "Memory usage on this node: 19.0/47.6 GiB\n",
      "Using AsyncHyperBand: num_stopped=5\n",
      "Bracket: Iter 8.000: -0.8682056963443756 | Iter 4.000: -0.8590151833163368 | Iter 2.000: -0.8739355951547623 | Iter 1.000: -0.9058503177430894\n",
      "Resources requested: 1.0/24 CPUs, 1.0/2 GPUs, 0.0/38.81 GiB heap, 0.0/19.41 GiB objects\n",
      "Result logdir: C:\\Users\\Tomas\\ray_results\\DEFAULT_2021-12-18_16-46-07\n",
      "Number of trials: 10/10 (1 RUNNING, 9 TERMINATED)\n",
      "+---------------------+------------+-----------------+--------------+-----------------+--------------+-----------+\n",
      "| Trial name          | status     | loc             |   batch_size |   learning_rate |   num_epochs |      loss |\n",
      "|---------------------+------------+-----------------+--------------+-----------------+--------------+-----------|\n",
      "| DEFAULT_9dac2_00009 | RUNNING    | 127.0.0.1:16736 |           50 |     0.000934897 |            4 |           |\n",
      "| DEFAULT_9dac2_00000 | TERMINATED | 127.0.0.1:25644 |           50 |     0.00450476  |           10 |  0.870041 |\n",
      "| DEFAULT_9dac2_00001 | TERMINATED | 127.0.0.1:26228 |           50 |     0.0106262   |           10 |  2.44555  |\n",
      "| DEFAULT_9dac2_00002 | TERMINATED | 127.0.0.1:14992 |           50 |     0.0841042   |           10 |  0.883382 |\n",
      "| DEFAULT_9dac2_00003 | TERMINATED | 127.0.0.1:20816 |          100 |     0.0295763   |            5 | 17.175    |\n",
      "| DEFAULT_9dac2_00004 | TERMINATED | 127.0.0.1:9948  |           50 |     0.00857354  |           10 |  0.917746 |\n",
      "| DEFAULT_9dac2_00005 | TERMINATED | 127.0.0.1:24328 |           30 |     0.00963307  |            4 |  0.857042 |\n",
      "| DEFAULT_9dac2_00006 | TERMINATED | 127.0.0.1:25256 |           10 |     0.0504903   |            5 |  0.857334 |\n",
      "| DEFAULT_9dac2_00007 | TERMINATED | 127.0.0.1:18308 |           30 |     0.09042     |            5 |  0.885798 |\n",
      "| DEFAULT_9dac2_00008 | TERMINATED | 127.0.0.1:24328 |           10 |     0.0172876   |            5 |  0.854626 |\n",
      "+---------------------+------------+-----------------+--------------+-----------------+--------------+-----------+\n",
      "\n",
      "\n"
     ]
    },
    {
     "name": "stderr",
     "output_type": "stream",
     "text": [
      " 11%|█         | 1/9 [00:03<00:29,  3.70s/it]\n",
      "100%|██████████| 9/9 [00:03<00:00,  2.30it/s]\n",
      "  0%|          | 0/4 [00:00<?, ?it/s]\n",
      " 25%|██▌       | 1/4 [00:03<00:09,  3.32s/it]\n",
      "100%|██████████| 4/4 [00:03<00:00,  1.12it/s]\n",
      "2021-12-18 16:51:07,823\tINFO tune.py:626 -- Total run time: 300.11 seconds (299.96 seconds for the tuning loop).\n"
     ]
    },
    {
     "name": "stdout",
     "output_type": "stream",
     "text": [
      "Result for DEFAULT_9dac2_00009:\n",
      "  accuracy: 0.6611111111111111\n",
      "  date: 2021-12-18_16-51-07\n",
      "  done: true\n",
      "  experiment_id: 45df0267756f4a3cbef2fcb404858296\n",
      "  hostname: WSTOMAS21\n",
      "  iterations_since_restore: 1\n",
      "  loss: 0.9628212749958038\n",
      "  node_ip: 127.0.0.1\n",
      "  pid: 16736\n",
      "  should_checkpoint: true\n",
      "  time_since_restore: 9.583799839019775\n",
      "  time_this_iter_s: 9.583799839019775\n",
      "  time_total_s: 9.583799839019775\n",
      "  timestamp: 1639842667\n",
      "  timesteps_since_restore: 0\n",
      "  training_iteration: 1\n",
      "  trial_id: 9dac2_00009\n",
      "  \n",
      "== Status ==\n",
      "Current time: 2021-12-18 16:51:07 (running for 00:04:59.97)\n",
      "Memory usage on this node: 19.1/47.6 GiB\n",
      "Using AsyncHyperBand: num_stopped=6\n",
      "Bracket: Iter 8.000: -0.8682056963443756 | Iter 4.000: -0.8590151833163368 | Iter 2.000: -0.8739355951547623 | Iter 1.000: -0.9316887838972939\n",
      "Resources requested: 0/24 CPUs, 0/2 GPUs, 0.0/38.81 GiB heap, 0.0/19.41 GiB objects\n",
      "Result logdir: C:\\Users\\Tomas\\ray_results\\DEFAULT_2021-12-18_16-46-07\n",
      "Number of trials: 10/10 (10 TERMINATED)\n",
      "+---------------------+------------+-----------------+--------------+-----------------+--------------+-----------+\n",
      "| Trial name          | status     | loc             |   batch_size |   learning_rate |   num_epochs |      loss |\n",
      "|---------------------+------------+-----------------+--------------+-----------------+--------------+-----------|\n",
      "| DEFAULT_9dac2_00000 | TERMINATED | 127.0.0.1:25644 |           50 |     0.00450476  |           10 |  0.870041 |\n",
      "| DEFAULT_9dac2_00001 | TERMINATED | 127.0.0.1:26228 |           50 |     0.0106262   |           10 |  2.44555  |\n",
      "| DEFAULT_9dac2_00002 | TERMINATED | 127.0.0.1:14992 |           50 |     0.0841042   |           10 |  0.883382 |\n",
      "| DEFAULT_9dac2_00003 | TERMINATED | 127.0.0.1:20816 |          100 |     0.0295763   |            5 | 17.175    |\n",
      "| DEFAULT_9dac2_00004 | TERMINATED | 127.0.0.1:9948  |           50 |     0.00857354  |           10 |  0.917746 |\n",
      "| DEFAULT_9dac2_00005 | TERMINATED | 127.0.0.1:24328 |           30 |     0.00963307  |            4 |  0.857042 |\n",
      "| DEFAULT_9dac2_00006 | TERMINATED | 127.0.0.1:25256 |           10 |     0.0504903   |            5 |  0.857334 |\n",
      "| DEFAULT_9dac2_00007 | TERMINATED | 127.0.0.1:18308 |           30 |     0.09042     |            5 |  0.885798 |\n",
      "| DEFAULT_9dac2_00008 | TERMINATED | 127.0.0.1:24328 |           10 |     0.0172876   |            5 |  0.854626 |\n",
      "| DEFAULT_9dac2_00009 | TERMINATED | 127.0.0.1:16736 |           50 |     0.000934897 |            4 |  0.962821 |\n",
      "+---------------------+------------+-----------------+--------------+-----------------+--------------+-----------+\n",
      "\n",
      "\n",
      "Best trial config: {'num_epochs': 5, 'learning_rate': 0.017287600194096035, 'batch_size': 10}\n",
      "Best trial final validation loss: 0.8546260860231187\n",
      "Best trial final validation accuracy: 0.6777777777777778\n"
     ]
    }
   ],
   "source": [
    "main(num_samples=10, gpus_per_trial=1)"
   ]
  },
  {
   "cell_type": "code",
   "execution_count": null,
   "metadata": {},
   "outputs": [],
   "source": []
  }
 ],
 "metadata": {
  "colab": {
   "collapsed_sections": [],
   "name": "CNN Exploration notebook.ipynb",
   "provenance": []
  },
  "kernelspec": {
   "display_name": "Python 3",
   "language": "python",
   "name": "python3"
  },
  "language_info": {
   "codemirror_mode": {
    "name": "ipython",
    "version": 3
   },
   "file_extension": ".py",
   "mimetype": "text/x-python",
   "name": "python",
   "nbconvert_exporter": "python",
   "pygments_lexer": "ipython3",
   "version": "3.8.8"
  }
 },
 "nbformat": 4,
 "nbformat_minor": 1
}
