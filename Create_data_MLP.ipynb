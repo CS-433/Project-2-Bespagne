{
 "cells": [
  {
   "cell_type": "code",
   "execution_count": 4,
   "id": "0f3da89f",
   "metadata": {},
   "outputs": [],
   "source": [
    "import pandas as pd\n",
    "import os\n",
    "import numpy as np\n",
    "dirname = os.path.dirname('__file__')\n",
    "DATA_PATH = os.path.join(dirname, 'Data/struct_BLA_ch_avg600.csv')"
   ]
  },
  {
   "cell_type": "code",
   "execution_count": 5,
   "id": "7e8dfa76",
   "metadata": {},
   "outputs": [],
   "source": [
    "df = pd.read_csv(DATA_PATH)"
   ]
  },
  {
   "cell_type": "code",
   "execution_count": 6,
   "id": "c095629b",
   "metadata": {},
   "outputs": [
    {
     "data": {
      "text/html": [
       "<div>\n",
       "<style scoped>\n",
       "    .dataframe tbody tr th:only-of-type {\n",
       "        vertical-align: middle;\n",
       "    }\n",
       "\n",
       "    .dataframe tbody tr th {\n",
       "        vertical-align: top;\n",
       "    }\n",
       "\n",
       "    .dataframe thead th {\n",
       "        text-align: right;\n",
       "    }\n",
       "</style>\n",
       "<table border=\"1\" class=\"dataframe\">\n",
       "  <thead>\n",
       "    <tr style=\"text-align: right;\">\n",
       "      <th></th>\n",
       "      <th>mi_1</th>\n",
       "      <th>mi_2</th>\n",
       "      <th>mi_3</th>\n",
       "      <th>mi_4</th>\n",
       "      <th>mi_5</th>\n",
       "      <th>mi_6</th>\n",
       "      <th>mi_7</th>\n",
       "      <th>mi_8</th>\n",
       "      <th>mi_9</th>\n",
       "      <th>mi_10</th>\n",
       "      <th>...</th>\n",
       "      <th>il_avg_power_91</th>\n",
       "      <th>il_avg_power_92</th>\n",
       "      <th>il_avg_power_93</th>\n",
       "      <th>il_avg_power_94</th>\n",
       "      <th>il_avg_power_95</th>\n",
       "      <th>il_avg_power_96</th>\n",
       "      <th>il_avg_power_97</th>\n",
       "      <th>il_avg_power_98</th>\n",
       "      <th>il_avg_power_99</th>\n",
       "      <th>il_avg_power_100</th>\n",
       "    </tr>\n",
       "  </thead>\n",
       "  <tbody>\n",
       "    <tr>\n",
       "      <th>0</th>\n",
       "      <td>810.581375</td>\n",
       "      <td>856.339595</td>\n",
       "      <td>999.384045</td>\n",
       "      <td>1230.344520</td>\n",
       "      <td>1537.932346</td>\n",
       "      <td>1902.782113</td>\n",
       "      <td>2292.733337</td>\n",
       "      <td>2695.709209</td>\n",
       "      <td>3101.680477</td>\n",
       "      <td>3511.212404</td>\n",
       "      <td>...</td>\n",
       "      <td>0.545045</td>\n",
       "      <td>0.476445</td>\n",
       "      <td>0.323571</td>\n",
       "      <td>0.439581</td>\n",
       "      <td>0.597918</td>\n",
       "      <td>0.730645</td>\n",
       "      <td>0.575333</td>\n",
       "      <td>0.021592</td>\n",
       "      <td>0.155383</td>\n",
       "      <td>0.381125</td>\n",
       "    </tr>\n",
       "    <tr>\n",
       "      <th>1</th>\n",
       "      <td>2472.677908</td>\n",
       "      <td>2623.894820</td>\n",
       "      <td>2839.357148</td>\n",
       "      <td>3114.611148</td>\n",
       "      <td>3440.130206</td>\n",
       "      <td>3803.347204</td>\n",
       "      <td>4192.990272</td>\n",
       "      <td>4607.896578</td>\n",
       "      <td>5040.163220</td>\n",
       "      <td>5505.053448</td>\n",
       "      <td>...</td>\n",
       "      <td>0.578134</td>\n",
       "      <td>0.597263</td>\n",
       "      <td>0.686862</td>\n",
       "      <td>0.776446</td>\n",
       "      <td>0.909851</td>\n",
       "      <td>0.449411</td>\n",
       "      <td>0.542242</td>\n",
       "      <td>0.388683</td>\n",
       "      <td>0.387482</td>\n",
       "      <td>0.338245</td>\n",
       "    </tr>\n",
       "    <tr>\n",
       "      <th>2</th>\n",
       "      <td>894.503577</td>\n",
       "      <td>894.666862</td>\n",
       "      <td>893.030848</td>\n",
       "      <td>917.183083</td>\n",
       "      <td>1020.715960</td>\n",
       "      <td>1198.617560</td>\n",
       "      <td>1438.947769</td>\n",
       "      <td>1725.456457</td>\n",
       "      <td>2021.624649</td>\n",
       "      <td>2282.217021</td>\n",
       "      <td>...</td>\n",
       "      <td>0.320441</td>\n",
       "      <td>0.406648</td>\n",
       "      <td>0.319969</td>\n",
       "      <td>0.344656</td>\n",
       "      <td>1.095974</td>\n",
       "      <td>0.188438</td>\n",
       "      <td>0.397214</td>\n",
       "      <td>0.411444</td>\n",
       "      <td>0.282867</td>\n",
       "      <td>0.239009</td>\n",
       "    </tr>\n",
       "    <tr>\n",
       "      <th>3</th>\n",
       "      <td>2512.104419</td>\n",
       "      <td>2663.106078</td>\n",
       "      <td>3010.673517</td>\n",
       "      <td>3547.195953</td>\n",
       "      <td>4266.341487</td>\n",
       "      <td>5144.420076</td>\n",
       "      <td>6131.378635</td>\n",
       "      <td>7178.413072</td>\n",
       "      <td>8220.226604</td>\n",
       "      <td>9215.033302</td>\n",
       "      <td>...</td>\n",
       "      <td>2.125020</td>\n",
       "      <td>1.583823</td>\n",
       "      <td>2.377393</td>\n",
       "      <td>1.579738</td>\n",
       "      <td>1.639126</td>\n",
       "      <td>1.868232</td>\n",
       "      <td>1.525970</td>\n",
       "      <td>1.195590</td>\n",
       "      <td>1.133684</td>\n",
       "      <td>0.620327</td>\n",
       "    </tr>\n",
       "    <tr>\n",
       "      <th>4</th>\n",
       "      <td>483.494599</td>\n",
       "      <td>812.421478</td>\n",
       "      <td>1248.741893</td>\n",
       "      <td>1805.384903</td>\n",
       "      <td>2483.083028</td>\n",
       "      <td>3256.927635</td>\n",
       "      <td>4078.631333</td>\n",
       "      <td>4885.959726</td>\n",
       "      <td>5600.815719</td>\n",
       "      <td>6152.976691</td>\n",
       "      <td>...</td>\n",
       "      <td>1.645324</td>\n",
       "      <td>1.437129</td>\n",
       "      <td>1.619038</td>\n",
       "      <td>1.118009</td>\n",
       "      <td>0.857478</td>\n",
       "      <td>2.013093</td>\n",
       "      <td>1.330461</td>\n",
       "      <td>1.447463</td>\n",
       "      <td>1.353559</td>\n",
       "      <td>0.364092</td>\n",
       "    </tr>\n",
       "  </tbody>\n",
       "</table>\n",
       "<p>5 rows × 4600 columns</p>\n",
       "</div>"
      ],
      "text/plain": [
       "          mi_1         mi_2         mi_3         mi_4         mi_5  \\\n",
       "0   810.581375   856.339595   999.384045  1230.344520  1537.932346   \n",
       "1  2472.677908  2623.894820  2839.357148  3114.611148  3440.130206   \n",
       "2   894.503577   894.666862   893.030848   917.183083  1020.715960   \n",
       "3  2512.104419  2663.106078  3010.673517  3547.195953  4266.341487   \n",
       "4   483.494599   812.421478  1248.741893  1805.384903  2483.083028   \n",
       "\n",
       "          mi_6         mi_7         mi_8         mi_9        mi_10  ...  \\\n",
       "0  1902.782113  2292.733337  2695.709209  3101.680477  3511.212404  ...   \n",
       "1  3803.347204  4192.990272  4607.896578  5040.163220  5505.053448  ...   \n",
       "2  1198.617560  1438.947769  1725.456457  2021.624649  2282.217021  ...   \n",
       "3  5144.420076  6131.378635  7178.413072  8220.226604  9215.033302  ...   \n",
       "4  3256.927635  4078.631333  4885.959726  5600.815719  6152.976691  ...   \n",
       "\n",
       "   il_avg_power_91  il_avg_power_92  il_avg_power_93  il_avg_power_94  \\\n",
       "0         0.545045         0.476445         0.323571         0.439581   \n",
       "1         0.578134         0.597263         0.686862         0.776446   \n",
       "2         0.320441         0.406648         0.319969         0.344656   \n",
       "3         2.125020         1.583823         2.377393         1.579738   \n",
       "4         1.645324         1.437129         1.619038         1.118009   \n",
       "\n",
       "   il_avg_power_95  il_avg_power_96  il_avg_power_97  il_avg_power_98  \\\n",
       "0         0.597918         0.730645         0.575333         0.021592   \n",
       "1         0.909851         0.449411         0.542242         0.388683   \n",
       "2         1.095974         0.188438         0.397214         0.411444   \n",
       "3         1.639126         1.868232         1.525970         1.195590   \n",
       "4         0.857478         2.013093         1.330461         1.447463   \n",
       "\n",
       "   il_avg_power_99  il_avg_power_100  \n",
       "0         0.155383          0.381125  \n",
       "1         0.387482          0.338245  \n",
       "2         0.282867          0.239009  \n",
       "3         1.133684          0.620327  \n",
       "4         1.353559          0.364092  \n",
       "\n",
       "[5 rows x 4600 columns]"
      ]
     },
     "execution_count": 6,
     "metadata": {},
     "output_type": "execute_result"
    }
   ],
   "source": [
    "df.head()"
   ]
  },
  {
   "cell_type": "code",
   "execution_count": 7,
   "id": "d517de37",
   "metadata": {},
   "outputs": [
    {
     "data": {
      "text/plain": [
       "Index(['mi_1', 'mi_2', 'mi_3', 'mi_4', 'mi_5', 'mi_6', 'mi_7', 'mi_8', 'mi_9',\n",
       "       'mi_10',\n",
       "       ...\n",
       "       'il_avg_power_91', 'il_avg_power_92', 'il_avg_power_93',\n",
       "       'il_avg_power_94', 'il_avg_power_95', 'il_avg_power_96',\n",
       "       'il_avg_power_97', 'il_avg_power_98', 'il_avg_power_99',\n",
       "       'il_avg_power_100'],\n",
       "      dtype='object', length=4600)"
      ]
     },
     "execution_count": 7,
     "metadata": {},
     "output_type": "execute_result"
    }
   ],
   "source": [
    "##display all column names\n",
    "df.columns"
   ]
  },
  {
   "cell_type": "code",
   "execution_count": 8,
   "id": "febb305e",
   "metadata": {},
   "outputs": [],
   "source": [
    "#select all columns of interest\n",
    "columns_bla = [x for x in df.columns if 'bla_avg_power' in x]\n",
    "columns_il = [x for x in df.columns if 'il_avg_power' in x]"
   ]
  },
  {
   "cell_type": "code",
   "execution_count": 9,
   "id": "caf0cd38",
   "metadata": {},
   "outputs": [],
   "source": [
    "#make three dataframes, each representing a feature\n",
    "df_bla = df[columns_bla]\n",
    "df_il = df[columns_il]"
   ]
  },
  {
   "cell_type": "code",
   "execution_count": 17,
   "id": "5e9f7938",
   "metadata": {},
   "outputs": [
    {
     "name": "stdout",
     "output_type": "stream",
     "text": [
      "(600, 100)\n"
     ]
    }
   ],
   "source": [
    "#to numpy\n",
    "array_bla = df_bla.to_numpy()[:-1]\n",
    "array_il = df_il.to_numpy()[:-1]\n",
    "print(array_bla.shape)"
   ]
  },
  {
   "cell_type": "code",
   "execution_count": 18,
   "id": "43a95048",
   "metadata": {},
   "outputs": [
    {
     "name": "stdout",
     "output_type": "stream",
     "text": [
      "(100,)\n"
     ]
    }
   ],
   "source": [
    "pac_cnn = np.load('Data/PAC_afterCNN.npy')\n",
    "print(pac_cnn.shape)"
   ]
  },
  {
   "cell_type": "code",
   "execution_count": 23,
   "id": "c84ba2a0",
   "metadata": {},
   "outputs": [],
   "source": [
    "#create 600 arrays (3d feature array for each sample) and save them as .npy file to feed them to the network\n",
    "#picture has shape (3, 100, 40)\n",
    "for i in range(600):\n",
    "    bla = array_bla[i]\n",
    "    il = array_il[i]\n",
    "    data_in = np.stack((pac_cnn, bla, il))\n",
    "    np.save(os.path.join(dirname, 'Data/input_MLP/sample_%i'%i), data_in)"
   ]
  },
  {
   "cell_type": "code",
   "execution_count": null,
   "id": "aaee9165",
   "metadata": {},
   "outputs": [],
   "source": []
  }
 ],
 "metadata": {
  "kernelspec": {
   "display_name": "Python 3",
   "language": "python",
   "name": "python3"
  },
  "language_info": {
   "codemirror_mode": {
    "name": "ipython",
    "version": 3
   },
   "file_extension": ".py",
   "mimetype": "text/x-python",
   "name": "python",
   "nbconvert_exporter": "python",
   "pygments_lexer": "ipython3",
   "version": "3.8.8"
  }
 },
 "nbformat": 4,
 "nbformat_minor": 5
}
